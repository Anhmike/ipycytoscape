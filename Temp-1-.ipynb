{
 "cells": [
  {
   "cell_type": "code",
   "execution_count": 1,
   "metadata": {},
   "outputs": [],
   "source": [
    "import ipycytoscape"
   ]
  },
  {
   "cell_type": "code",
   "execution_count": 2,
   "metadata": {},
   "outputs": [],
   "source": [
    "cytoscapeobj = ipycytoscape.CytoscapeWidget()"
   ]
  },
  {
   "cell_type": "code",
   "execution_count": 3,
   "metadata": {},
   "outputs": [],
   "source": [
    "node = ipycytoscape.Node(**{\n",
    "      \"data\": {\n",
    "        \"id\": \"611408\",\n",
    "        \"idInt\": 611408,\n",
    "        \"name\": \"FEN1\",\n",
    "        \"score\": 0.006769776522008331,\n",
    "        \"query\": \"false\",\n",
    "        \"gene\": \"true\"\n",
    "      },\n",
    "      \"position\": {\n",
    "        \"x\": 531.9740635094307,\n",
    "        \"y\": 464.8210898234145\n",
    "      },\n",
    "      \"group\": \"nodes\",\n",
    "      \"removed\": False,\n",
    "      \"selected\": False,\n",
    "      \"selectable\": True,\n",
    "      \"locked\": False,\n",
    "      \"grabbed\": False,\n",
    "      \"grabbable\": True,\n",
    "      \"classes\": \"fn10273 fn6944 fn9471 fn6284 fn6956 fn6935 fn8147 fn6939 fn6936 fn6949 fn6629 fn7952 fn6680 fn6957 fn8786 fn6676 fn10713 fn7495 fn7500 fn9361 fn6279 fn6278 fn8569 fn7641 fn8568\"\n",
    "    }\n",
    ")"
   ]
  },
  {
   "cell_type": "code",
   "execution_count": 4,
   "metadata": {},
   "outputs": [],
   "source": [
    "node2 = ipycytoscape.Node(**{\n",
    "      \"data\": {\n",
    "        \"id\": \"611408\",\n",
    "        \"idInt\": 611408,\n",
    "        \"name\": \"FEN1\",\n",
    "        \"score\": 0.006769776522008331,\n",
    "        \"query\": \"false\",\n",
    "        \"gene\": \"true\"\n",
    "      },\n",
    "      \"position\": {\n",
    "        \"x\": 20.9740635094307,\n",
    "        \"y\": 20.8210898234145\n",
    "      },\n",
    "      \"group\": \"nodes\",\n",
    "      \"removed\": False,\n",
    "      \"selected\": False,\n",
    "      \"selectable\": True,\n",
    "      \"locked\": False,\n",
    "      \"grabbed\": False,\n",
    "      \"grabbable\": True,\n",
    "      \"classes\": \"fn10273 fn6944 fn9471 fn6284 fn6956 fn6935 fn8147 fn6939 fn6936 fn6949 fn6629 fn7952 fn6680 fn6957 fn8786 fn6676 fn10713 fn7495 fn7500 fn9361 fn6279 fn6278 fn8569 fn7641 fn8568\"\n",
    "    }\n",
    ")"
   ]
  },
  {
   "cell_type": "code",
   "execution_count": 5,
   "metadata": {},
   "outputs": [],
   "source": [
    "g = ipycytoscape.Graph([node])\n",
    "cytoscapeobj.graph = g"
   ]
  },
  {
   "cell_type": "code",
   "execution_count": 6,
   "metadata": {},
   "outputs": [
    {
     "data": {
      "application/vnd.jupyter.widget-view+json": {
       "model_id": "2429d33f25b64d7da20b9d165b241a4e",
       "version_major": 2,
       "version_minor": 0
      },
      "text/plain": [
       "CytoscapeWidget(graph=Graph(nodes=[Node(classes='fn10273 fn6944 fn9471 fn6284 fn6956 fn6935 fn8147 fn6939 fn69…"
      ]
     },
     "metadata": {},
     "output_type": "display_data"
    }
   ],
   "source": [
    "cytoscapeobj"
   ]
  },
  {
   "cell_type": "code",
   "execution_count": 7,
   "metadata": {},
   "outputs": [
    {
     "data": {
      "text/plain": [
       "[Node(classes='fn10273 fn6944 fn9471 fn6284 fn6956 fn6935 fn8147 fn6939 fn6936 fn6949 fn6629 fn7952 fn6680 fn6957 fn8786 fn6676 fn10713 fn7495 fn7500 fn9361 fn6279 fn6278 fn8569 fn7641 fn8568', data={'id': '611408', 'idInt': 611408, 'name': 'FEN1', 'score': 0.006769776522008331, 'query': 'false', 'gene': 'true'}, grabbable=True, group='nodes', position={'x': 531.9740635094307, 'y': 464.8210898234145}, selectable=True)]"
      ]
     },
     "execution_count": 7,
     "metadata": {},
     "output_type": "execute_result"
    }
   ],
   "source": [
    "cytoscapeobj.graph.nodes"
   ]
  },
  {
   "cell_type": "code",
   "execution_count": 8,
   "metadata": {},
   "outputs": [
    {
     "data": {
      "text/plain": [
       "[Node(classes='fn10273 fn6944 fn9471 fn6284 fn6956 fn6935 fn8147 fn6939 fn6936 fn6949 fn6629 fn7952 fn6680 fn6957 fn8786 fn6676 fn10713 fn7495 fn7500 fn9361 fn6279 fn6278 fn8569 fn7641 fn8568', data={'id': '611408', 'idInt': 611408, 'name': 'FEN1', 'score': 0.006769776522008331, 'query': 'false', 'gene': 'true'}, grabbable=True, group='nodes', position={'x': 531.9740635094307, 'y': 464.8210898234145}, selectable=True)]"
      ]
     },
     "execution_count": 8,
     "metadata": {},
     "output_type": "execute_result"
    }
   ],
   "source": [
    "g.nodes"
   ]
  },
  {
   "cell_type": "code",
   "execution_count": 9,
   "metadata": {},
   "outputs": [],
   "source": [
    "g.nodes = []"
   ]
  },
  {
   "cell_type": "code",
   "execution_count": 10,
   "metadata": {},
   "outputs": [],
   "source": [
    "g.nodes = [node, node2]"
   ]
  },
  {
   "cell_type": "code",
   "execution_count": 11,
   "metadata": {},
   "outputs": [
    {
     "data": {
      "text/plain": [
       "{'id': '611408',\n",
       " 'idInt': 611408,\n",
       " 'name': 'FEN1',\n",
       " 'score': 0.006769776522008331,\n",
       " 'query': 'false',\n",
       " 'gene': 'true'}"
      ]
     },
     "execution_count": 11,
     "metadata": {},
     "output_type": "execute_result"
    }
   ],
   "source": [
    "g.nodes[0].data"
   ]
  },
  {
   "cell_type": "code",
   "execution_count": null,
   "metadata": {},
   "outputs": [],
   "source": []
  }
 ],
 "metadata": {
  "kernelspec": {
   "display_name": "Python 3",
   "language": "python",
   "name": "python3"
  },
  "language_info": {
   "codemirror_mode": {
    "name": "ipython",
    "version": 3
   },
   "file_extension": ".py",
   "mimetype": "text/x-python",
   "name": "python",
   "nbconvert_exporter": "python",
   "pygments_lexer": "ipython3",
   "version": "3.8.1"
  }
 },
 "nbformat": 4,
 "nbformat_minor": 4
}
