{
 "cells": [
  {
   "cell_type": "code",
   "execution_count": 1,
   "metadata": {},
   "outputs": [],
   "source": [
    "import ipycytoscape"
   ]
  },
  {
   "cell_type": "code",
   "execution_count": 2,
   "metadata": {},
   "outputs": [],
   "source": [
    "cytoscapeobj = ipycytoscape.CytoscapeWidget()"
   ]
  },
  {
   "cell_type": "code",
   "execution_count": 3,
   "metadata": {},
   "outputs": [],
   "source": [
    "node = ipycytoscape.Node(**{\n",
    "      \"data\": {\n",
    "        \"id\": \"611208\",\n",
    "        \"idInt\": 611208,\n",
    "        \"name\": \"FEN1\",\n",
    "        \"score\": 0.006769776522008331,\n",
    "        \"query\": \"false\",\n",
    "        \"gene\": \"true\"\n",
    "      },\n",
    "      \"position\": {\n",
    "        \"x\": 531.9740635094307,\n",
    "        \"y\": 464.8210898234145\n",
    "      },\n",
    "      \"group\": \"nodes\",\n",
    "      \"removed\": False,\n",
    "      \"selected\": False,\n",
    "      \"selectable\": True,\n",
    "      \"locked\": False,\n",
    "      \"grabbed\": False,\n",
    "      \"grabbable\": True,\n",
    "      \"classes\": \"fn10273 fn6944 fn9471 fn6284 fn6956 fn6935 fn8147 fn6939 fn6936 fn6949 fn6629 fn7952 fn6680 fn6957 fn8786 fn6676 fn10713 fn7495 fn7500 fn9361 fn6279 fn6278 fn8569 fn7641 fn8568\"\n",
    "    }\n",
    ")"
   ]
  },
  {
   "cell_type": "code",
   "execution_count": 4,
   "metadata": {},
   "outputs": [],
   "source": [
    "node2 = ipycytoscape.Node(**{\n",
    "      \"data\": {\n",
    "        \"id\": \"611408\",\n",
    "        \"idInt\": 611408,\n",
    "        \"name\": \"FEN1\",\n",
    "        \"score\": 0.006769776522008331,\n",
    "        \"query\": \"false\",\n",
    "        \"gene\": \"true\"\n",
    "      },\n",
    "      \"position\": {\n",
    "        \"x\": 20.9740635094307,\n",
    "        \"y\": 20.8210898234145\n",
    "      },\n",
    "      \"group\": \"nodes\",\n",
    "      \"removed\": False,\n",
    "      \"selected\": False,\n",
    "      \"selectable\": True,\n",
    "      \"locked\": False,\n",
    "      \"grabbed\": False,\n",
    "      \"grabbable\": True,\n",
    "      \"classes\": \"fn10273 fn6944 fn9471 fn6284 fn6956 fn6935 fn8147 fn6939 fn6936 fn6949 fn6629 fn7952 fn6680 fn6957 fn8786 fn6676 fn10713 fn7495 fn7500 fn9361 fn6279 fn6278 fn8569 fn7641 fn8568\"\n",
    "    }\n",
    ")"
   ]
  },
  {
   "cell_type": "code",
   "execution_count": 5,
   "metadata": {},
   "outputs": [],
   "source": [
    "node3 = ipycytoscape.Node(**{\n",
    "      \"data\": {\n",
    "        \"id\": \"609734\",\n",
    "        \"idInt\": 609734,\n",
    "        \"name\": \"POLR3K\",\n",
    "        \"score\": 0.001465090467084318,\n",
    "        \"query\": False,\n",
    "        \"gene\": True\n",
    "      },\n",
    "      \"position\": {\n",
    "        \"x\": 905.3802465599952,\n",
    "        \"y\": 493.3679393218726\n",
    "      },\n",
    "      \"group\": \"nodes\",\n",
    "      \"removed\": False,\n",
    "      \"selected\": False,\n",
    "      \"selectable\": True,\n",
    "      \"locked\": False,\n",
    "      \"grabbed\": False,\n",
    "      \"grabbable\": True,\n",
    "      \"classes\": \"fn7921\"\n",
    "    },\n",
    ")"
   ]
  },
  {
   "cell_type": "code",
   "execution_count": 6,
   "metadata": {},
   "outputs": [],
   "source": [
    "edge = ipycytoscape.Edge(**{\n",
    "      \"data\": {\n",
    "        \"source\": \"609734\",\n",
    "        \"target\": \"611408\",\n",
    "      },\n",
    "    },\n",
    ")"
   ]
  },
  {
   "cell_type": "code",
   "execution_count": 7,
   "metadata": {},
   "outputs": [
    {
     "data": {
      "text/plain": [
       "[]"
      ]
     },
     "execution_count": 7,
     "metadata": {},
     "output_type": "execute_result"
    }
   ],
   "source": [
    "cytoscapeobj.graph.nodes"
   ]
  },
  {
   "cell_type": "code",
   "execution_count": 8,
   "metadata": {},
   "outputs": [],
   "source": [
    "cytoscapeobj.graph.nodes.append(node)\n",
    "# cytoscapeobj.graph.edges.append(edge)"
   ]
  },
  {
   "cell_type": "code",
   "execution_count": 9,
   "metadata": {},
   "outputs": [
    {
     "data": {
      "application/vnd.jupyter.widget-view+json": {
       "model_id": "6015da4a25b147e3a4ac1da0eab2253e",
       "version_major": 2,
       "version_minor": 0
      },
      "text/plain": [
       "CytoscapeWidget(cytoscape_layout={'name': 'cola'}, cytoscape_style=[{'selector': 'node', 'css': {'background-c…"
      ]
     },
     "metadata": {},
     "output_type": "display_data"
    }
   ],
   "source": [
    "cytoscapeobj"
   ]
  },
  {
   "cell_type": "code",
   "execution_count": 10,
   "metadata": {},
   "outputs": [
    {
     "data": {
      "text/plain": [
       "{'name': 'cola'}"
      ]
     },
     "execution_count": 10,
     "metadata": {},
     "output_type": "execute_result"
    }
   ],
   "source": [
    "cytoscapeobj.get_layout()"
   ]
  },
  {
   "cell_type": "code",
   "execution_count": 11,
   "metadata": {},
   "outputs": [],
   "source": [
    "cytoscapeobj.set_layout(name='cola')"
   ]
  },
  {
   "cell_type": "code",
   "execution_count": 12,
   "metadata": {},
   "outputs": [],
   "source": [
    "node.classes = \":DDdsDdd\""
   ]
  },
  {
   "cell_type": "code",
   "execution_count": 13,
   "metadata": {},
   "outputs": [
    {
     "data": {
      "text/plain": [
       "':DDdsDdd'"
      ]
     },
     "execution_count": 13,
     "metadata": {},
     "output_type": "execute_result"
    }
   ],
   "source": [
    "node.classes"
   ]
  },
  {
   "cell_type": "code",
   "execution_count": 14,
   "metadata": {},
   "outputs": [
    {
     "data": {
      "text/plain": [
       "':DDdsDdd'"
      ]
     },
     "execution_count": 14,
     "metadata": {},
     "output_type": "execute_result"
    }
   ],
   "source": [
    "cytoscapeobj.graph.nodes[0].classes"
   ]
  },
  {
   "cell_type": "code",
   "execution_count": null,
   "metadata": {},
   "outputs": [],
   "source": []
  }
 ],
 "metadata": {
  "kernelspec": {
   "display_name": "Python 3",
   "language": "python",
   "name": "python3"
  },
  "language_info": {
   "codemirror_mode": {
    "name": "ipython",
    "version": 3
   },
   "file_extension": ".py",
   "mimetype": "text/x-python",
   "name": "python",
   "nbconvert_exporter": "python",
   "pygments_lexer": "ipython3",
   "version": "3.8.1"
  }
 },
 "nbformat": 4,
 "nbformat_minor": 4
}
