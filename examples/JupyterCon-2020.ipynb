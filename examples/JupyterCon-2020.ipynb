{
 "cells": [
  {
   "cell_type": "markdown",
   "metadata": {},
   "source": [
    "## Instantiating ipycytoscape"
   ]
  },
  {
   "cell_type": "code",
   "execution_count": 1,
   "metadata": {},
   "outputs": [],
   "source": [
    "import ipycytoscape"
   ]
  },
  {
   "cell_type": "code",
   "execution_count": 2,
   "metadata": {},
   "outputs": [],
   "source": [
    "cy_obj_json = ipycytoscape.CytoscapeWidget()"
   ]
  },
  {
   "cell_type": "markdown",
   "metadata": {},
   "source": [
    "## Handling data\n",
    "\n",
    "Data inputs:\n",
    "\n",
    "* Cytoscape JSON\n",
    "* NetworkX graph\n",
    "* Pandas DataFrame"
   ]
  },
  {
   "cell_type": "code",
   "execution_count": 3,
   "metadata": {},
   "outputs": [],
   "source": [
    "import json\n",
    "\n",
    "with open(\"colaData.json\") as fi:\n",
    "    cola_data = json.load(fi)\n",
    "    \n",
    "with open(\"colaStyle.json\") as fi:\n",
    "    cola_style = json.load(fi)"
   ]
  },
  {
   "cell_type": "code",
   "execution_count": 4,
   "metadata": {},
   "outputs": [],
   "source": [
    "cy_obj_json.graph.add_graph_from_json(cola_data)\n",
    "cy_obj_json.set_style(cola_style)"
   ]
  },
  {
   "cell_type": "code",
   "execution_count": 5,
   "metadata": {},
   "outputs": [
    {
     "data": {
      "application/vnd.jupyter.widget-view+json": {
       "model_id": "d3c2100ced0847d9a3778fb37cc01db1",
       "version_major": 2,
       "version_minor": 0
      },
      "text/plain": [
       "CytoscapeWidget(cytoscape_layout={'name': 'cola'}, cytoscape_style=[{'selector': 'node', 'css': {'background-c…"
      ]
     },
     "metadata": {},
     "output_type": "display_data"
    }
   ],
   "source": [
    "cy_obj_json"
   ]
  },
  {
   "cell_type": "code",
   "execution_count": 6,
   "metadata": {},
   "outputs": [],
   "source": [
    "import networkx as nx"
   ]
  },
  {
   "cell_type": "code",
   "execution_count": 7,
   "metadata": {},
   "outputs": [],
   "source": [
    "cy_obj_nx_complete_g = ipycytoscape.CytoscapeWidget()"
   ]
  },
  {
   "cell_type": "code",
   "execution_count": 9,
   "metadata": {},
   "outputs": [],
   "source": [
    "nx_complete_graph = nx.complete_graph(5)"
   ]
  },
  {
   "cell_type": "code",
   "execution_count": 10,
   "metadata": {},
   "outputs": [],
   "source": [
    "cy_obj_nx_complete_g.graph.add_graph_from_networkx(nx_complete_graph)"
   ]
  },
  {
   "cell_type": "code",
   "execution_count": 11,
   "metadata": {},
   "outputs": [
    {
     "data": {
      "application/vnd.jupyter.widget-view+json": {
       "model_id": "7b57df15ea8b417dbb0037b7785ff80d",
       "version_major": 2,
       "version_minor": 0
      },
      "text/plain": [
       "CytoscapeWidget(cytoscape_layout={'name': 'cola'}, cytoscape_style=[{'selector': 'node', 'css': {'background-c…"
      ]
     },
     "metadata": {},
     "output_type": "display_data"
    }
   ],
   "source": [
    "cy_obj_nx_complete_g"
   ]
  },
  {
   "cell_type": "code",
   "execution_count": 12,
   "metadata": {},
   "outputs": [],
   "source": [
    "cy_obj_nx_grid_g = ipycytoscape.CytoscapeWidget()"
   ]
  },
  {
   "cell_type": "code",
   "execution_count": 13,
   "metadata": {},
   "outputs": [],
   "source": [
    "import matplotlib.pyplot as plt\n",
    "import networkx as nx\n",
    "\n",
    "G = nx.grid_2d_graph(5, 5)  # 5x5 grid\n",
    "\n",
    "# write edgelist to grid.edgelist\n",
    "nx.write_edgelist(G, path=\"grid.edgelist\", delimiter=\":\")\n",
    "# read edgelist from grid.edgelist\n",
    "H = nx.read_edgelist(path=\"grid.edgelist\", delimiter=\":\")\n",
    "\n",
    "cy_obj_nx_grid_g.graph.add_graph_from_networkx(H)"
   ]
  },
  {
   "cell_type": "code",
   "execution_count": 14,
   "metadata": {},
   "outputs": [],
   "source": [
    "cy_obj_nx_grid_g.set_layout(name = \"cola\",\n",
    "                           animate = False)"
   ]
  },
  {
   "cell_type": "code",
   "execution_count": 15,
   "metadata": {},
   "outputs": [
    {
     "data": {
      "application/vnd.jupyter.widget-view+json": {
       "model_id": "75b89baf6c314dbbaa88bc1e48e0c0d4",
       "version_major": 2,
       "version_minor": 0
      },
      "text/plain": [
       "CytoscapeWidget(cytoscape_layout={'name': 'cola', 'animate': False}, cytoscape_style=[{'selector': 'node', 'cs…"
      ]
     },
     "metadata": {},
     "output_type": "display_data"
    }
   ],
   "source": [
    "cy_obj_nx_grid_g"
   ]
  },
  {
   "cell_type": "code",
   "execution_count": 16,
   "metadata": {},
   "outputs": [],
   "source": [
    "import pandas as pd"
   ]
  },
  {
   "cell_type": "code",
   "execution_count": 17,
   "metadata": {},
   "outputs": [],
   "source": [
    "df = pd.read_csv(\"https://raw.githubusercontent.com/nextstrain/ncov/fe5a7ed1f92af63d6d1d43d0307e4b2620108aaa/data/metadata.tsv\", sep = '\\t')"
   ]
  },
  {
   "cell_type": "code",
   "execution_count": 18,
   "metadata": {},
   "outputs": [
    {
     "data": {
      "text/plain": [
       "Index(['strain', 'virus', 'gisaid_epi_isl', 'genbank_accession', 'date',\n",
       "       'region', 'country', 'division', 'location', 'region_exposure',\n",
       "       'country_exposure', 'division_exposure', 'segment', 'length', 'host',\n",
       "       'age', 'sex', 'originating_lab', 'submitting_lab', 'authors', 'url',\n",
       "       'title', 'date_submitted'],\n",
       "      dtype='object')"
      ]
     },
     "execution_count": 18,
     "metadata": {},
     "output_type": "execute_result"
    }
   ],
   "source": [
    "df.columns"
   ]
  },
  {
   "cell_type": "code",
   "execution_count": 19,
   "metadata": {},
   "outputs": [],
   "source": [
    "cy_obj_pandas = ipycytoscape.CytoscapeWidget()\n",
    "cy_obj_pandas.set_tooltip_source('name')"
   ]
  },
  {
   "cell_type": "code",
   "execution_count": 20,
   "metadata": {},
   "outputs": [],
   "source": [
    "cy_obj_pandas.graph.add_graph_from_df(df[:30], ['country'], ['age', 'virus'])"
   ]
  },
  {
   "cell_type": "code",
   "execution_count": 21,
   "metadata": {},
   "outputs": [
    {
     "data": {
      "application/vnd.jupyter.widget-view+json": {
       "model_id": "c3e824fec5984348b079eb42af837d4d",
       "version_major": 2,
       "version_minor": 0
      },
      "text/plain": [
       "CytoscapeWidget(cytoscape_layout={'name': 'cola'}, cytoscape_style=[{'selector': 'node', 'css': {'background-c…"
      ]
     },
     "metadata": {},
     "output_type": "display_data"
    }
   ],
   "source": [
    "cy_obj_pandas"
   ]
  },
  {
   "cell_type": "markdown",
   "metadata": {},
   "source": [
    "## ipycytoscape attributes\n",
    "\n",
    "Mandatory:\n",
    "\n",
    "* `id` for nodes\n",
    "* `source` and `target` for edges\n",
    "\n",
    "Advisible:\n",
    "\n",
    "* `group`"
   ]
  },
  {
   "cell_type": "markdown",
   "metadata": {},
   "source": [
    "```\n",
    "{\n",
    "  \"nodes\": [\n",
    "    {\n",
    "      \"data\": {\n",
    "        \"id\": \"605755\",\n",
    "        \"idInt\": 605755,\n",
    "        \"name\": \"PCNA\",\n",
    "        \"score\": 0.006769776522008331,\n",
    "        \"query\": true,\n",
    "        \"gene\": true\n",
    "      },\n",
    "      \"position\": {\n",
    "        \"x\": 481.0169597039117,\n",
    "        \"y\": 384.8210888234145\n",
    "      },\n",
    "      \"group\": \"nodes\",\n",
    "      \"selected\": false,    // whether the element is selected (default false)\n",
    "      \"selectable\": true,  // whether the selection state is mutable (default true)\n",
    "      \"locked\": false,    // when locked a node's position is immutable (default false)\n",
    "      \"grabbed\": false,\n",
    "      \"grabbable\": true,  // whether the node can be grabbed and moved by the user\n",
    "      \"pannable\": false, // whether dragging the node causes panning instead of grabbing\n",
    "      \"classes\": \"fn10273 fn6944 fn9471 fn10569\"\n",
    "    }\n",
    "  ],\n",
    "  \"edges\": [\n",
    "    {\n",
    "      \"data\": {\n",
    "        \"source\": \"611408\",\n",
    "        \"target\": \"605755\",\n",
    "        \"weight\": 0.0055478187,\n",
    "        \"group\": \"coexp\",\n",
    "        \"networkId\": 1133,\n",
    "        \"networkGroupId\": 18,\n",
    "        \"intn\": true,\n",
    "        \"rIntnId\": 2,\n",
    "        \"id\": \"e0\"\n",
    "      },\n",
    "      \"position\": {},\n",
    "      \"group\": \"edges\",\n",
    "      \"selected\": false,\n",
    "      \"selectable\": true,\n",
    "      \"locked\": false,\n",
    "      \"grabbed\": false,\n",
    "      \"grabbable\": true,\n",
    "      \"classes\": \"\"\n",
    "    }\n",
    "  ]\n",
    "}\n",
    "```"
   ]
  },
  {
   "cell_type": "markdown",
   "metadata": {},
   "source": [
    "# NetworkX interoperability\n",
    "\n",
    "* **ipycytoscape** is fully compatible with NetworkX algorithms"
   ]
  },
  {
   "cell_type": "code",
   "execution_count": 22,
   "metadata": {},
   "outputs": [],
   "source": [
    "cy_obj_nx_krackhardt_g = ipycytoscape.CytoscapeWidget()"
   ]
  },
  {
   "cell_type": "code",
   "execution_count": 23,
   "metadata": {},
   "outputs": [
    {
     "name": "stdout",
     "output_type": "stream",
     "text": [
      "Betweenness\n",
      " 0 0.023\n",
      " 1 0.023\n",
      " 2 0.000\n",
      " 3 0.102\n",
      " 4 0.000\n",
      " 5 0.231\n",
      " 6 0.231\n",
      " 7 0.389\n",
      " 8 0.222\n",
      " 9 0.000\n",
      "Degree centrality\n",
      " 0 0.444\n",
      " 1 0.444\n",
      " 2 0.333\n",
      " 3 0.667\n",
      " 4 0.333\n",
      " 5 0.556\n",
      " 6 0.556\n",
      " 7 0.333\n",
      " 8 0.222\n",
      " 9 0.111\n",
      "Closeness centrality\n",
      " 0 0.529\n",
      " 1 0.529\n",
      " 2 0.500\n",
      " 3 0.600\n",
      " 4 0.500\n",
      " 5 0.643\n",
      " 6 0.643\n",
      " 7 0.600\n",
      " 8 0.429\n",
      " 9 0.310\n"
     ]
    }
   ],
   "source": [
    "import matplotlib.pyplot as plt\n",
    "import networkx as nx\n",
    "\n",
    "G = nx.krackhardt_kite_graph()\n",
    "\n",
    "print(\"Betweenness\")\n",
    "b = nx.betweenness_centrality(G)\n",
    "for v in G.nodes():\n",
    "    print(f\"{v:2} {b[v]:.3f}\")\n",
    "\n",
    "print(\"Degree centrality\")\n",
    "d = nx.degree_centrality(G)\n",
    "for v in G.nodes():\n",
    "    print(f\"{v:2} {d[v]:.3f}\")\n",
    "\n",
    "print(\"Closeness centrality\")\n",
    "c = nx.closeness_centrality(G)\n",
    "for v in G.nodes():\n",
    "    print(f\"{v:2} {c[v]:.3f}\")\n",
    "\n",
    "cy_obj_nx_krackhardt_g.graph.add_graph_from_networkx(G)"
   ]
  },
  {
   "cell_type": "code",
   "execution_count": 24,
   "metadata": {},
   "outputs": [
    {
     "data": {
      "application/vnd.jupyter.widget-view+json": {
       "model_id": "b1e78515d4094fe5a93b7532cca0d9ce",
       "version_major": 2,
       "version_minor": 0
      },
      "text/plain": [
       "CytoscapeWidget(cytoscape_layout={'name': 'cola'}, cytoscape_style=[{'selector': 'node', 'css': {'background-c…"
      ]
     },
     "metadata": {},
     "output_type": "display_data"
    }
   ],
   "source": [
    "cy_obj_nx_krackhardt_g"
   ]
  },
  {
   "cell_type": "code",
   "execution_count": 25,
   "metadata": {},
   "outputs": [
    {
     "data": {
      "application/vnd.jupyter.widget-view+json": {
       "model_id": "09341f995f434195ba3b58b1712d0270",
       "version_major": 2,
       "version_minor": 0
      },
      "text/plain": [
       "CytoscapeWidget(cytoscape_layout={'name': 'cola'}, cytoscape_style=[{'selector': 'node', 'css': {'background-c…"
      ]
     },
     "metadata": {},
     "output_type": "display_data"
    }
   ],
   "source": [
    "cy_obj_nx_undirected1_g = ipycytoscape.CytoscapeWidget()\n",
    "cy_obj_nx_undirected1_g.graph.add_graph_from_networkx(nx.complete_graph(5))\n",
    "cy_obj_nx_undirected1_g"
   ]
  },
  {
   "cell_type": "markdown",
   "metadata": {},
   "source": [
    "* You can add new nodes and edges to an exhisting graph"
   ]
  },
  {
   "cell_type": "code",
   "execution_count": 27,
   "metadata": {},
   "outputs": [],
   "source": [
    "cy_obj_nx_undirected2_g = nx.Graph()\n",
    "cy_obj_nx_undirected2_g.add_node('separate node 1')\n",
    "cy_obj_nx_undirected2_g.add_node('separate node 2')\n",
    "cy_obj_nx_undirected2_g.add_edge('separate node 1', 'separate node 2')\n",
    "cy_obj_nx_undirected1_g.graph.add_graph_from_networkx(cy_obj_nx_undirected2_g)"
   ]
  },
  {
   "cell_type": "markdown",
   "metadata": {},
   "source": [
    "* Besides undirected graphs, you can also have fully directed graphs"
   ]
  },
  {
   "cell_type": "code",
   "execution_count": 28,
   "metadata": {},
   "outputs": [],
   "source": [
    "G = nx.complete_graph(5)\n",
    "cy_obj_nx_directed_g = ipycytoscape.CytoscapeWidget()\n",
    "cy_obj_nx_directed_g.graph.add_graph_from_networkx(G, directed=True)"
   ]
  },
  {
   "cell_type": "code",
   "execution_count": 29,
   "metadata": {},
   "outputs": [
    {
     "data": {
      "application/vnd.jupyter.widget-view+json": {
       "model_id": "63bce09d98e94b9ebd3d4c77de1da2e1",
       "version_major": 2,
       "version_minor": 0
      },
      "text/plain": [
       "CytoscapeWidget(cytoscape_layout={'name': 'cola'}, cytoscape_style=[{'selector': 'node', 'css': {'background-c…"
      ]
     },
     "metadata": {},
     "output_type": "display_data"
    }
   ],
   "source": [
    "cy_obj_nx_directed_g"
   ]
  },
  {
   "cell_type": "markdown",
   "metadata": {},
   "source": [
    "* And having mixed graphs are also possible"
   ]
  },
  {
   "cell_type": "code",
   "execution_count": 30,
   "metadata": {},
   "outputs": [],
   "source": [
    "from random import random\n",
    "\n",
    "G = nx.complete_graph(5)\n",
    "for s, t, data in G.edges(data=True):\n",
    "    if random() > .5:\n",
    "        G[s][t]['classes'] = 'directed'\n",
    "\n",
    "cy_obj_nx_mixed_g = ipycytoscape.CytoscapeWidget()\n",
    "cy_obj_nx_mixed_g.graph.add_graph_from_networkx(G)"
   ]
  },
  {
   "cell_type": "code",
   "execution_count": 31,
   "metadata": {},
   "outputs": [
    {
     "data": {
      "application/vnd.jupyter.widget-view+json": {
       "model_id": "33ef12aa3f414271988994aff243c322",
       "version_major": 2,
       "version_minor": 0
      },
      "text/plain": [
       "CytoscapeWidget(cytoscape_layout={'name': 'cola'}, cytoscape_style=[{'selector': 'node', 'css': {'background-c…"
      ]
     },
     "metadata": {},
     "output_type": "display_data"
    }
   ],
   "source": [
    "cy_obj_nx_mixed_g"
   ]
  },
  {
   "cell_type": "markdown",
   "metadata": {},
   "source": [
    "* Custom networkx Node Objects that inherit from ipycytoscape.Node"
   ]
  },
  {
   "cell_type": "code",
   "execution_count": 33,
   "metadata": {},
   "outputs": [],
   "source": [
    "class CustomNode(ipycytoscape.Node):\n",
    "    def __init__(self, name, classes=''):\n",
    "        super().__init__()\n",
    "        self.data['id'] = name\n",
    "        self.classes = classes\n",
    "\n",
    "n1 = CustomNode(\"node 1\", classes='class1')\n",
    "n2 = CustomNode(\"node 2\", classes='class2')\n",
    "        \n",
    "G = nx.Graph()\n",
    "\n",
    "G.add_node(n1)\n",
    "G.add_node(n2)\n",
    "\n",
    "G.add_edge(n1, n2)\n",
    "\n",
    "cy_obj_nx_custom_inherited_g = ipycytoscape.CytoscapeWidget()\n",
    "cy_obj_nx_custom_inherited_g.graph.add_graph_from_networkx(G)\n",
    "cy_obj_nx_custom_inherited_g.set_style([\n",
    "                        {\n",
    "                            'selector': 'node.class1',\n",
    "                            'css': {\n",
    "                                'background-color': 'red'\n",
    "                            }\n",
    "                        },\n",
    "                        {\n",
    "                            'selector': 'node.class2',\n",
    "                            'css': {\n",
    "                                'background-color': 'green'\n",
    "                            }\n",
    "                        }])"
   ]
  },
  {
   "cell_type": "code",
   "execution_count": 34,
   "metadata": {},
   "outputs": [
    {
     "data": {
      "application/vnd.jupyter.widget-view+json": {
       "model_id": "95096410c1fd41baab42dffbd5bd00a5",
       "version_major": 2,
       "version_minor": 0
      },
      "text/plain": [
       "CytoscapeWidget(cytoscape_layout={'name': 'cola'}, cytoscape_style=[{'selector': 'node.class1', 'css': {'backg…"
      ]
     },
     "metadata": {},
     "output_type": "display_data"
    }
   ],
   "source": [
    "cy_obj_nx_custom_inherited_g"
   ]
  },
  {
   "cell_type": "code",
   "execution_count": null,
   "metadata": {},
   "outputs": [],
   "source": []
  }
 ],
 "metadata": {
  "kernelspec": {
   "display_name": "Python 3",
   "language": "python",
   "name": "python3"
  },
  "language_info": {
   "codemirror_mode": {
    "name": "ipython",
    "version": 3
   },
   "file_extension": ".py",
   "mimetype": "text/x-python",
   "name": "python",
   "nbconvert_exporter": "python",
   "pygments_lexer": "ipython3",
   "version": "3.7.6"
  }
 },
 "nbformat": 4,
 "nbformat_minor": 4
}
