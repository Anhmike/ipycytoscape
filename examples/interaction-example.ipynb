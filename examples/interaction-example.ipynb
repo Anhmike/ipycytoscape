{
 "cells": [
  {
   "cell_type": "markdown",
   "metadata": {},
   "source": [
    "## Reacting to User Interaction in the Kernel\n",
    "\n",
    "You can monitor user interactions, e.g. when a user clicks on a node, and have the kernel updated with the last interaction. See [the cytoscape.js documentation](https://js.cytoscape.org/#events/user-input-device-events) for a full list of supported events you can listen for. Below, we monitor nodes for click events:"
   ]
  },
  {
   "cell_type": "code",
   "execution_count": null,
   "metadata": {},
   "outputs": [],
   "source": [
    "import ipycytoscape"
   ]
  },
  {
   "cell_type": "code",
   "execution_count": null,
   "metadata": {},
   "outputs": [],
   "source": [
    "import json\n",
    "\n",
    "# load the graph dictionary\n",
    "with open(\"llamapipeline.json\") as f:\n",
    "    lj = json.load(f)\n",
    "    \n",
    "# Create the cytoscape graph widget; specify the types of interactions to\n",
    "# monitor in the client with the `monitor` keyword argument. Currently you\n",
    "# *must* set this at instantiation.\n",
    "cyto = ipycytoscape.CytoscapeWidget(\n",
    "    monitored={'node': ['click', 'mouseover']},\n",
    "    cytoscape_layout={\n",
    "        'name': 'klay',\n",
    "        'nodeSpacing': 10,\n",
    "        'edgeLengthVal': 10,\n",
    "    },\n",
    "    cytoscape_style=[\n",
    "        {\n",
    "            'selector': 'edge',\n",
    "            'style': {\n",
    "                'width': 2,\n",
    "                'line-color': 'data(color)',\n",
    "                'target-arrow-color': 'data(color)',\n",
    "                'target-arrow-shape': 'triangle',\n",
    "                'curve-style': 'straight',\n",
    "                'arrow-scale': 1,\n",
    "            }\n",
    "        },\n",
    "        {\n",
    "            'selector': 'core',\n",
    "            'style': {\n",
    "                'background-opacity': '0',\n",
    "            }\n",
    "        },\n",
    "        {\n",
    "            'selector': 'node',\n",
    "            'style': {\n",
    "                'content': 'data(label)',\n",
    "                'font-family': 'helvetica',\n",
    "                'font-size': '10px',\n",
    "                'shape': 'rectangle',\n",
    "                'text-valign': 'center',\n",
    "                'color': 'black',\n",
    "                'border-width': 1,\n",
    "                'border-color': 'black',\n",
    "                'background-color': 'data(color)',\n",
    "                'width': 'label',\n",
    "                'height': 'label',\n",
    "                'padding': '4px',\n",
    "                'text-wrap': 'wrap',\n",
    "                'text-max-width': 80,\n",
    "            }\n",
    "        },\n",
    "    ],\n",
    ")\n",
    "cyto.graph.add_graph_from_json(lj)"
   ]
  },
  {
   "cell_type": "code",
   "execution_count": 4,
   "metadata": {},
   "outputs": [
    {
     "data": {
      "application/vnd.jupyter.widget-view+json": {
       "model_id": "f7669ad1a56944faa0c7876e83311815",
       "version_major": 2,
       "version_minor": 0
      },
      "text/plain": [
       "CytoscapeWidget(cytoscape_layout={'name': 'klay', 'nodeSpacing': 10, 'edgeLengthVal': 10}, cytoscape_style=[{'…"
      ]
     },
     "metadata": {},
     "output_type": "display_data"
    }
   ],
   "source": [
    "# Display the graph.\n",
    "cyto"
   ]
  },
  {
   "cell_type": "markdown",
   "metadata": {},
   "source": [
    "## Adding interactivity\n",
    "\n",
    "Because we provided the `monitor` keyword argument, the client is already listening for user interactions and sending them to the kernel. We can listen for these events in the kernel and respond with some sort of callback. To do this, we call `CytoscapeWidget.on` with the type of event and widget we are listening for followed by a callback that takes as its only argument the `'data'` attribute of the node or edge the user interacted with. Let's create a simple example that prints the node's ID and the type of interaction to an `ipywidgets.Output` widget:"
   ]
  },
  {
   "cell_type": "code",
   "execution_count": 5,
   "metadata": {},
   "outputs": [],
   "source": [
    "from ipywidgets import Output\n",
    "from IPython.display import display\n",
    "\n",
    "out = Output()\n",
    "\n",
    "def log_clicks(node_data):\n",
    "    with out:\n",
    "        display(f'clicked: {node_data[\"id\"]}')\n",
    "        \n",
    "def log_mouseovers(node_data):\n",
    "    with out:\n",
    "        display(f'mouseover: {node_data[\"id\"]}')\n",
    "        \n",
    "cyto.on('node', 'click', log_clicks)\n",
    "cyto.on('node', 'mouseover', log_mouseovers)"
   ]
  },
  {
   "cell_type": "markdown",
   "metadata": {},
   "source": [
    "Now display the graph again, this time with the (initially empty) log output below it, and try mousing over the nodes and clicking on them. You should see a stream of messages corresponding to your actions."
   ]
  },
  {
   "cell_type": "code",
   "execution_count": 6,
   "metadata": {},
   "outputs": [
    {
     "data": {
      "application/vnd.jupyter.widget-view+json": {
       "model_id": "f7669ad1a56944faa0c7876e83311815",
       "version_major": 2,
       "version_minor": 0
      },
      "text/plain": [
       "CytoscapeWidget(cytoscape_layout={'name': 'klay', 'nodeSpacing': 10, 'edgeLengthVal': 10}, cytoscape_style=[{'…"
      ]
     },
     "metadata": {},
     "output_type": "display_data"
    },
    {
     "data": {
      "application/vnd.jupyter.widget-view+json": {
       "model_id": "8350d2ca3b38401a81b7f5442106aad5",
       "version_major": 2,
       "version_minor": 0
      },
      "text/plain": [
       "Output()"
      ]
     },
     "metadata": {},
     "output_type": "display_data"
    }
   ],
   "source": [
    "# call `display` to show both widgets in one output cell\n",
    "display(cyto)\n",
    "display(out)"
   ]
  }
 ],
 "metadata": {
  "kernelspec": {
   "display_name": "Python 3",
   "language": "python",
   "name": "python3"
  },
  "language_info": {
   "codemirror_mode": {
    "name": "ipython",
    "version": 3
   },
   "file_extension": ".py",
   "mimetype": "text/x-python",
   "name": "python",
   "nbconvert_exporter": "python",
   "pygments_lexer": "ipython3",
   "version": "3.8.3"
  }
 },
 "nbformat": 4,
 "nbformat_minor": 4
}
