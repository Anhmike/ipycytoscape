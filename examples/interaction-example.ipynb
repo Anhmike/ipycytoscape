{
 "cells": [
  {
   "cell_type": "markdown",
   "metadata": {},
   "source": [
    "## Loading a graph\n",
    "\n",
    "You can monitor user interactions, e.g. when a user clicks on a node, and have the kernel updated with the last interaction. See [the cytoscape.js documentation](https://js.cytoscape.org/#events/user-input-device-events) for a full list of supported events. Below, we monitor nodes for click events:"
   ]
  },
  {
   "cell_type": "code",
   "execution_count": 1,
   "metadata": {},
   "outputs": [],
   "source": [
    "import ipycytoscape"
   ]
  },
  {
   "cell_type": "code",
   "execution_count": 2,
   "metadata": {},
   "outputs": [],
   "source": [
    "import json\n",
    "with open(\"llamapipeline.json\") as f:\n",
    "    lj = json.load(f)\n",
    "cyto = ipycytoscape.CytoscapeWidget(monitored={'node': ['click']})\n",
    "cyto.graph.add_graph_from_json(lj)"
   ]
  },
  {
   "cell_type": "markdown",
   "metadata": {},
   "source": [
    "## Setting layout and style"
   ]
  },
  {
   "cell_type": "code",
   "execution_count": 3,
   "metadata": {},
   "outputs": [],
   "source": [
    "cyto.set_layout(name='klay', nodeSpacing=20, edgeLengthVal=10)"
   ]
  },
  {
   "cell_type": "code",
   "execution_count": 4,
   "metadata": {},
   "outputs": [],
   "source": [
    "cyto.set_style([\n",
    "    {\n",
    "        'selector': 'node[id]',\n",
    "        'style': {\n",
    "            'font-family': 'helvetica',\n",
    "            'font-size': '20px',\n",
    "        }\n",
    "    },\n",
    "    {\n",
    "        'selector': 'node[id]',\n",
    "        'style': {\n",
    "              'label': 'data(id)'\n",
    "        }\n",
    "    },\n",
    "    {\n",
    "        'selector': 'edge',\n",
    "        'style': {\n",
    "            'width': 3,\n",
    "            'line-color': '#ccc',\n",
    "            'target-arrow-color': '#ccc',\n",
    "            'target-arrow-shape': 'triangle',\n",
    "            'curve-style': 'haystack'\n",
    "        }\n",
    "    }\n",
    "])"
   ]
  },
  {
   "cell_type": "markdown",
   "metadata": {},
   "source": [
    "## Checking for last monitored user interaction event\n",
    "\n",
    "Will be an empty `dict` since we haven't interacted with, or even displayed, the graph yet."
   ]
  },
  {
   "cell_type": "code",
   "execution_count": 5,
   "metadata": {},
   "outputs": [
    {
     "data": {
      "text/plain": [
       "{}"
      ]
     },
     "execution_count": 5,
     "metadata": {},
     "output_type": "execute_result"
    }
   ],
   "source": [
    "cyto.last_user_event"
   ]
  },
  {
   "cell_type": "markdown",
   "metadata": {},
   "source": [
    "## Display the graph\n",
    "\n",
    "Run the command below to display the graph and click on one of the nodes to update `cyto.last_user_event`. For example, if you click on `LvcGcnXml` in the bottom left, that click action will become the `cyto.last_user_event`:"
   ]
  },
  {
   "cell_type": "code",
   "execution_count": 6,
   "metadata": {},
   "outputs": [
    {
     "data": {
      "application/vnd.jupyter.widget-view+json": {
       "model_id": "d9726a479c2c4a8398d69264af08e72c",
       "version_major": 2,
       "version_minor": 0
      },
      "text/plain": [
       "CytoscapeWidget(cytoscape_layout={'name': 'klay', 'nodeSpacing': 20, 'edgeLengthVal': 10}, cytoscape_style=[{'…"
      ]
     },
     "metadata": {},
     "output_type": "display_data"
    }
   ],
   "source": [
    "cyto"
   ]
  },
  {
   "cell_type": "code",
   "execution_count": 7,
   "metadata": {},
   "outputs": [
    {
     "data": {
      "text/plain": [
       "{'type': 'node', 'event': 'click', 'target': {'id': 'LvcGcnXml'}}"
      ]
     },
     "execution_count": 7,
     "metadata": {},
     "output_type": "execute_result"
    }
   ],
   "source": [
    "cyto.last_user_event"
   ]
  }
 ],
 "metadata": {
  "kernelspec": {
   "display_name": "Python 3",
   "language": "python",
   "name": "python3"
  },
  "language_info": {
   "codemirror_mode": {
    "name": "ipython",
    "version": 3
   },
   "file_extension": ".py",
   "mimetype": "text/x-python",
   "name": "python",
   "nbconvert_exporter": "python",
   "pygments_lexer": "ipython3",
   "version": "3.8.3"
  }
 },
 "nbformat": 4,
 "nbformat_minor": 4
}
