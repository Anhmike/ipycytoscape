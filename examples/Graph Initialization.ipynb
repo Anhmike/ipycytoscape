{
 "cells": [
  {
   "cell_type": "markdown",
   "id": "everyday-colonial",
   "metadata": {},
   "source": [
    "# Easy Graph Initialization\n",
    "The CytoscapeWidget accepts an optional graph parameter, using this we can pass the graph's data and initialise a graph. We can pass data as:\n",
    "\n",
    "- A json file (wither the filename or the json object itself)\n",
    "- A networkx graph\n",
    "- A pandas Dataframe  \n",
    "- A neo4j graph\n",
    "- A ipycytoscape Graph"
   ]
  },
  {
   "cell_type": "code",
   "execution_count": 1,
   "id": "nominated-closing",
   "metadata": {
    "execution": {
     "iopub.execute_input": "2021-11-27T01:42:23.551979Z",
     "iopub.status.busy": "2021-11-27T01:42:23.551521Z",
     "iopub.status.idle": "2021-11-27T01:42:23.998189Z",
     "shell.execute_reply": "2021-11-27T01:42:23.997507Z",
     "shell.execute_reply.started": "2021-11-27T01:42:23.551845Z"
    }
   },
   "outputs": [],
   "source": [
    "import ipycytoscape"
   ]
  },
  {
   "cell_type": "code",
   "execution_count": 2,
   "id": "waiting-brunswick",
   "metadata": {
    "execution": {
     "iopub.execute_input": "2021-11-27T01:42:23.998855Z",
     "iopub.status.busy": "2021-11-27T01:42:23.998694Z",
     "iopub.status.idle": "2021-11-27T01:42:24.591725Z",
     "shell.execute_reply": "2021-11-27T01:42:24.591200Z",
     "shell.execute_reply.started": "2021-11-27T01:42:23.998838Z"
    }
   },
   "outputs": [
    {
     "data": {
      "application/vnd.jupyter.widget-view+json": {
       "model_id": "f75b13f8e008418f9e88c28a2e1ffcb4",
       "version_major": 2,
       "version_minor": 0
      },
      "text/plain": [
       "CytoscapeWidget(cytoscape_layout={'name': 'cola'}, cytoscape_style=[{'selector': 'node', 'css': {'background-c…"
      ]
     },
     "metadata": {},
     "output_type": "display_data"
    }
   ],
   "source": [
    "# 1. a cytoscape graph from json file\n",
    "json_from_filename = ipycytoscape.CytoscapeWidget(\"concentricData.json\")\n",
    "json_from_filename"
   ]
  },
  {
   "cell_type": "code",
   "execution_count": 3,
   "id": "dominant-locking",
   "metadata": {
    "execution": {
     "iopub.execute_input": "2021-11-27T01:42:24.592986Z",
     "iopub.status.busy": "2021-11-27T01:42:24.592830Z",
     "iopub.status.idle": "2021-11-27T01:42:25.231525Z",
     "shell.execute_reply": "2021-11-27T01:42:25.230990Z",
     "shell.execute_reply.started": "2021-11-27T01:42:24.592966Z"
    },
    "tags": []
   },
   "outputs": [
    {
     "data": {
      "application/vnd.jupyter.widget-view+json": {
       "model_id": "93a70982f2864d1a848eafbbc4d040de",
       "version_major": 2,
       "version_minor": 0
      },
      "text/plain": [
       "CytoscapeWidget(cytoscape_layout={'name': 'cola'}, cytoscape_style=[{'selector': 'node', 'css': {'background-c…"
      ]
     },
     "metadata": {},
     "output_type": "display_data"
    }
   ],
   "source": [
    "# 1. a cytoscape graph from json object\n",
    "\n",
    "import json\n",
    "with open(\"concentricData.json\") as fi:\n",
    "    json_file = json.load(fi)\n",
    "\n",
    "json_from_object = ipycytoscape.CytoscapeWidget(json_file)\n",
    "json_from_object"
   ]
  },
  {
   "cell_type": "code",
   "execution_count": 4,
   "id": "stupid-mayor",
   "metadata": {
    "execution": {
     "iopub.execute_input": "2021-11-27T01:42:25.232392Z",
     "iopub.status.busy": "2021-11-27T01:42:25.232209Z",
     "iopub.status.idle": "2021-11-27T01:42:25.290393Z",
     "shell.execute_reply": "2021-11-27T01:42:25.289561Z",
     "shell.execute_reply.started": "2021-11-27T01:42:25.232369Z"
    }
   },
   "outputs": [
    {
     "data": {
      "application/vnd.jupyter.widget-view+json": {
       "model_id": "51e1bd87e7fd4f4e96bf9229cf75c175",
       "version_major": 2,
       "version_minor": 0
      },
      "text/plain": [
       "CytoscapeWidget(cytoscape_layout={'name': 'cola'}, cytoscape_style=[{'selector': 'node', 'css': {'background-c…"
      ]
     },
     "metadata": {},
     "output_type": "display_data"
    }
   ],
   "source": [
    "# A networkx graph\n",
    "import networkx as nx\n",
    "\n",
    "G = nx.complete_graph(5)\n",
    "graph_from_nx = ipycytoscape.CytoscapeWidget(G)\n",
    "graph_from_nx"
   ]
  },
  {
   "cell_type": "code",
   "execution_count": 5,
   "id": "conceptual-sunday",
   "metadata": {
    "execution": {
     "iopub.execute_input": "2021-11-27T01:42:25.291593Z",
     "iopub.status.busy": "2021-11-27T01:42:25.291412Z",
     "iopub.status.idle": "2021-11-27T01:42:25.655907Z",
     "shell.execute_reply": "2021-11-27T01:42:25.655364Z",
     "shell.execute_reply.started": "2021-11-27T01:42:25.291569Z"
    }
   },
   "outputs": [
    {
     "data": {
      "application/vnd.jupyter.widget-view+json": {
       "model_id": "735c0ad71b444fb6b355d7ba3aab2fea",
       "version_major": 2,
       "version_minor": 0
      },
      "text/plain": [
       "CytoscapeWidget(cytoscape_layout={'name': 'cola'}, cytoscape_style=[{'selector': 'node', 'css': {'background-c…"
      ]
     },
     "metadata": {},
     "output_type": "display_data"
    }
   ],
   "source": [
    "# A pandas Dataframe\n",
    "\n",
    "import pandas as pd\n",
    "\n",
    "graphFrame = pd.read_csv(\"https://raw.githubusercontent.com/nextstrain/ncov/fe5a7ed1f92af63d6d1d43d0307e4b2620108aaa/data/metadata.tsv\", sep = '\\t')\n",
    "ipycytoscape.CytoscapeWidget(graphFrame[:30], groupby_cols=['country'], attribute_list=['age', 'virus'])"
   ]
  },
  {
   "cell_type": "code",
   "execution_count": null,
   "id": "undefined-store",
   "metadata": {
    "tags": []
   },
   "outputs": [],
   "source": [
    "# A neo4j graph\n",
    "\n",
    "from py2neo import Graph, Node, Relationship\n",
    "\n",
    "g = graph = Graph(\"bolt://132.249.238.185:7687\", user=\"reader\", password=\"demo\")\n",
    "\n",
    "ipycytoscape.CytoscapeWidget(g)"
   ]
  },
  {
   "cell_type": "code",
   "execution_count": null,
   "id": "instrumental-aggregate",
   "metadata": {
    "tags": []
   },
   "outputs": [],
   "source": [
    "# A ipycytoscape graph\n",
    "ipycytoscape.CytoscapeWidget(json_from_object.graph)"
   ]
  },
  {
   "cell_type": "code",
   "execution_count": null,
   "id": "0bfe5d91-ea02-4896-b04e-999daa352dcd",
   "metadata": {},
   "outputs": [],
   "source": []
  }
 ],
 "metadata": {
  "kernelspec": {
   "display_name": "Python 3 (ipykernel)",
   "language": "python",
   "name": "python3"
  },
  "language_info": {
   "codemirror_mode": {
    "name": "ipython",
    "version": 3
   },
   "file_extension": ".py",
   "mimetype": "text/x-python",
   "name": "python",
   "nbconvert_exporter": "python",
   "pygments_lexer": "ipython3",
   "version": "3.9.7"
  },
  "widgets": {
   "application/vnd.jupyter.widget-state+json": {
    "state": {
     "001b20728b1b44fe877312fdc6104c38": {
      "model_module": "jupyter-cytoscape",
      "model_module_version": "^1.2.2",
      "model_name": "EdgeModel",
      "state": {
       "_model_module_version": "^1.2.2",
       "_view_module_version": "^1.2.2",
       "data": {
        "cited": 26,
        "datasource": [
         "pid"
        ],
        "id": "TP53-controls-expression-of-APAF1",
        "isdirected": true,
        "pubmed": [
         "11559530"
        ],
        "source": "TP53",
        "target": "APAF1",
        "type": "controls-expression-of"
       }
      }
     },
     "003b115bfaf14e5a8fcd77366075d54a": {
      "model_module": "jupyter-cytoscape",
      "model_module_version": "^1.2.2",
      "model_name": "NodeModel",
      "state": {
       "_model_module_version": "^1.2.2",
       "_view_module_version": "^1.2.2",
       "data": {
        "altered": 0,
        "cited": 3,
        "id": "PPM1J",
        "importance": 3,
        "isseed": false,
        "isvalid": true,
        "rank": 191,
        "uniprot": "Q5JR12",
        "uniprotdesc": ""
       },
       "grabbable": true,
       "grabbed": false,
       "position": {
        "x": 721.3707730410628,
        "y": 418.430382592923
       }
      }
     },
     "00bf1f499a08439c866e07e50bede7c4": {
      "model_module": "jupyter-cytoscape",
      "model_module_version": "^1.2.2",
      "model_name": "EdgeModel",
      "state": {
       "_model_module_version": "^1.2.2",
       "_view_module_version": "^1.2.2",
       "data": {
        "cited": 9,
        "datasource": [
         "pid"
        ],
        "id": "TP53-controls-expression-of-HTT",
        "isdirected": true,
        "pubmed": [
         "16278683"
        ],
        "source": "TP53",
        "target": "HTT",
        "type": "controls-expression-of"
       }
      }
     },
     "01d146c419c34f39b0d85e7682c1d5d8": {
      "model_module": "jupyter-cytoscape",
      "model_module_version": "^1.2.2",
      "model_name": "NodeModel",
      "state": {
       "_model_module_version": "^1.2.2",
       "_view_module_version": "^1.2.2",
       "data": {
        "altered": 0,
        "cited": 2696,
        "id": "MSH2",
        "importance": 3,
        "isseed": false,
        "isvalid": true,
        "rank": 21,
        "uniprot": "P43246",
        "uniprotdesc": "Component of the post-replicative DNA mismatch repairsystem (MMR). Forms two different heterodimers: MutS alpha (MSH2-MSH6 heterodimer) and MutS beta (MSH2-MSH3 heterodimer) whichbinds to DNA mismatches thereby initiating DNA repair. When bound,heterodimers bend the DNA helix and shields approximately 20 basepairs. MutS alpha recognizes single base mismatches anddinucleotide insertion-deletion loops (IDL) in the DNA. MutS betarecognizes larger insertion-deletion loops up to 13 nucleotideslong. After mismatch binding, MutS alpha or beta forms a ternarycomplex with the MutL alpha heterodimer, which is thought to beresponsible for directing the downstream MMR events, includingstrand discrimination, excision, and resynthesis. ATP binding andhydrolysis play a pivotal role in mismatch repair functions. TheATPase activity associated with MutS alpha regulates bindingsimilar to a molecular switch: mismatched DNA provokes ADP-->ATPexchange, resulting in a discernible conformational transitionthat converts MutS alpha into a sliding clamp capable ofhydrolysis-independent diffusion along the DNA backbone. Thistransition is crucial for mismatch repair. MutS alpha may alsoplay a role in DNA homologous recombination repair. In melanocytesmay modulate both UV-B-induced cell cycle regulation andapoptosis. "
       },
       "grabbable": true,
       "grabbed": false,
       "position": {
        "x": 470.62795953515837,
        "y": 15.378003362979461
       }
      }
     },
     "023f5f8afcb64f74b8d061a748a9caa9": {
      "model_module": "jupyter-cytoscape",
      "model_module_version": "^1.2.2",
      "model_name": "EdgeModel",
      "state": {
       "_model_module_version": "^1.2.2",
       "_view_module_version": "^1.2.2",
       "data": {
        "cited": 262,
        "datasource": [
         "pid"
        ],
        "id": "TP53-controls-expression-of-RB1",
        "isdirected": true,
        "pubmed": [
         "8119988"
        ],
        "source": "TP53",
        "target": "RB1",
        "type": "controls-expression-of"
       }
      }
     },
     "024ee87b11c34feca29baa34b7192edb": {
      "model_module": "jupyter-cytoscape",
      "model_module_version": "^1.2.2",
      "model_name": "EdgeModel",
      "state": {
       "_model_module_version": "^1.2.2",
       "_view_module_version": "^1.2.2",
       "data": {
        "cited": 0,
        "datasource": [
         "pid"
        ],
        "id": "TP53-controls-expression-of-CASP10",
        "isdirected": true,
        "pubmed": [
         "14688482"
        ],
        "source": "TP53",
        "target": "CASP10",
        "type": "controls-expression-of"
       }
      }
     },
     "02d1e88d752c4339b6b8ca8908baf3c7": {
      "model_module": "jupyter-cytoscape",
      "model_module_version": "^1.2.2",
      "model_name": "EdgeModel",
      "state": {
       "_model_module_version": "^1.2.2",
       "_view_module_version": "^1.2.2",
       "data": {
        "cited": 0,
        "datasource": [
         "PANTHER"
        ],
        "id": "PRKAA2-controls-state-change-of-TP73",
        "isdirected": true,
        "pubmed": [],
        "source": "PRKAA2",
        "target": "TP73",
        "type": "controls-state-change-of"
       }
      }
     },
     "02e896684ea6493a91d2b3c5ac0bbf86": {
      "model_module": "jupyter-cytoscape",
      "model_module_version": "^1.2.2",
      "model_name": "EdgeModel",
      "state": {
       "_model_module_version": "^1.2.2",
       "_view_module_version": "^1.2.2",
       "data": {
        "cited": 10,
        "datasource": [
         "pid"
        ],
        "id": "MDM2-controls-state-change-of-NEDD8",
        "isdirected": true,
        "pubmed": [
         "15242646"
        ],
        "source": "MDM2",
        "target": "NEDD8",
        "type": "controls-state-change-of"
       }
      }
     },
     "03b6496d71a148fdbd979dd6ecfee0fe": {
      "model_module": "jupyter-cytoscape",
      "model_module_version": "^1.2.2",
      "model_name": "NodeModel",
      "state": {
       "_model_module_version": "^1.2.2",
       "_view_module_version": "^1.2.2",
       "data": {
        "altered": 0,
        "cited": 363,
        "id": "PRKDC",
        "importance": 3,
        "isseed": false,
        "isvalid": true,
        "rank": 74,
        "uniprot": "P78527",
        "uniprotdesc": "Serine/threonine-protein kinase that acts as a molecularsensor for DNA damage. Involved in DNA non-homologous end joining(NHEJ) required for double-strand break (DSB) repair and V(D)Jrecombination. Must be bound to DNA to express its catalyticproperties. Promotes processing of hairpin DNA structures in V(D)Jrecombination by activation of the hairpin endonuclease artemis(DCLRE1C). The assembly of the DNA-PK complex at DNA ends is alsorequired for the NHEJ ligation step. Required to protect and alignbroken ends of DNA. May also act as a scaffold protein to aid thelocalization of DNA repair proteins to the site of damage. Foundat the ends of chromosomes, suggesting a further role in themaintenance of telomeric stability and the prevention ofchromosomal end fusion. Also involved in modulation oftranscription. Recognizes the substrate consensus sequence [ST]-Q.Phosphorylates 'Ser-139' of histone variant H2AX/H2AFX, therebyregulating DNA damage response mechanism. Phosphorylates DCLRE1C,c-Abl/ABL1, histone H1, HSPCA, c-jun/JUN, p53/TP53, PARP1, POU2F1,DHX9, SRF, XRCC1, XRCC1, XRCC4, XRCC5, XRCC6, WRN, MYC and RFA2.Can phosphorylate C1D not only in the presence of linear DNA butalso in the presence of supercoiled DNA. Ability to phosphorylatep53/TP53 in the presence of supercoiled DNA is dependent on C1D.Contributes to the determination of the circadian period length byantagonizing phosphorylation of CRY1 'Ser-588' and increasing CRY1protein stability, most likely through an indirect machanism.Interacts with CRY1 and CRY2; negatively regulates CRY1phosphorylation. "
       },
       "grabbable": true,
       "grabbed": false,
       "position": {
        "x": 421.37076704106283,
        "y": 365.3780103629794
       }
      }
     },
     "03d9caedfda14362a7e4e40d8e75692e": {
      "model_module": "jupyter-cytoscape",
      "model_module_version": "^1.2.2",
      "model_name": "NodeModel",
      "state": {
       "_model_module_version": "^1.2.2",
       "_view_module_version": "^1.2.2",
       "data": {
        "altered": 0,
        "cited": 2149,
        "id": "CDK1",
        "importance": 3,
        "isseed": false,
        "isvalid": true,
        "rank": 27,
        "uniprot": "P06493",
        "uniprotdesc": "Plays a key role in the control of the eukaryotic cellcycle by modulating the centrosome cycle as well as mitotic onset;promotes G2-M transition, and regulates G1 progress and G1-Stransition via association with multiple interphase cyclins.Required in higher cells for entry into S-phase and mitosis.Phosphorylates PARVA/actopaxin, APC, AMPH, APC, BARD1, Bcl-xL/BCL2L1, BRCA2, CALD1, CASP8, CDC7, CDC20, CDC25A, CDC25C,CC2D1A, CSNK2 proteins/CKII, FZR1/CDH1, CDK7, CEBPB, CHAMP1,DMD/dystrophin, EEF1 proteins/EF-1, EZH2, KIF11/EG5, EGFR, FANCG,FOS, GFAP, GOLGA2/GM130, GRASP1, UBE2A/hHR6A, HIST1H1proteins/histone H1, HMGA1, HIVEP3/KRC, LMNA, LMNB, LMNC, LBR,LATS1, MAP1B, MAP4, MARCKS, MCM2, MCM4, MKLP1, MYB, NEFH, NFIC,NPC/nuclear pore complex, PITPNM1/NIR2, NPM1, NCL, NUCKS1,NPM1/numatrin, ORC1, PRKAR2A, EEF1E1/p18, EIF3F/p47, p53/TP53,NONO/p54NRB, PAPOLA, PLEC/plectin, RB1, UL40/R2, RAB4A, RAP1GAP,RCC1, RPS6KB1/S6K1, KHDRBS1/SAM68, ESPL1, SKI, BIRC5/survivin,STIP1, TEX14, beta-tubulins, MAPT/TAU, NEDD1, VIM/vimentin, TK1,FOXO1, RUNX1/AML1, SIRT2 and RUNX2. CDK1/CDC2-cyclin-B controlspronuclear union in interphase fertilized eggs. Essential forearly stages of embryonic development. During G2 and earlymitosis, CDC25A/B/C-mediated dephosphorylation activatesCDK1/cyclin complexes which phosphorylate several substrates thattrigger at least centrosome separation, Golgi dynamics, nuclearenvelope breakdown and chromosome condensation. Once chromosomesare condensed and aligned at the metaphase plate, CDK1 activity isswitched off by WEE1- and PKMYT1-mediated phosphorylation to allowsister chromatid separation, chromosome decondensation,reformation of the nuclear envelope and cytokinesis. Inactivatedby PKR/EIF2AK2- and WEE1-mediated phosphorylation upon DNA damageto stop cell cycle and genome replication at the G2 checkpointthus facilitating DNA repair. Reactivated after successful DNArepair through WIP1-dependent signaling leading to CDC25A/B/C-mediated dephosphorylation and restoring cell cycle progression.In proliferating cells, CDK1-mediated FOXO1 phosphorylation at theG2-M phase represses FOXO1 interaction with 14-3-3 proteins andthereby promotes FOXO1 nuclear accumulation and transcriptionfactor activity, leading to cell death of postmitotic neurons. Thephosphorylation of beta-tubulins regulates microtubule dynamicsduring mitosis. NEDD1 phosphorylation promotes PLK1-mediated NEDD1phosphorylation and subsequent targeting of the gamma-tubulin ringcomplex (gTuRC) to the centrosome, an important step for spindleformation. In addition, CC2D1A phosphorylation regulates CC2D1Aspindle pole localization and association with SCC1/RAD21 andcentriole cohesion during mitosis. The phosphorylation of Bcl-xL/BCL2L1 after prolongated G2 arrest upon DNA damage triggersapoptosis. In contrast, CASP8 phosphorylation during mitosisprevents its activation by proteolysis and subsequent apoptosis.This phosphorylation occurs in cancer cell lines, as well as inprimary breast tissues and lymphocytes. EZH2 phosphorylationpromotes H3K27me3 maintenance and epigenetic gene silencing. CALD1phosphorylation promotes Schwann cell migration during peripheralnerve regeneration. "
       },
       "grabbable": true,
       "grabbed": false,
       "position": {
        "x": 898.8947533177642,
        "y": 88.84435599324128
       }
      }
     },
     "04aa49ea45144b8f89127faf30d35631": {
      "model_module": "jupyter-cytoscape",
      "model_module_version": "^1.2.2",
      "model_name": "EdgeModel",
      "state": {
       "_model_module_version": "^1.2.2",
       "_view_module_version": "^1.2.2",
       "data": {
        "cited": 0,
        "datasource": [
         "Reactome"
        ],
        "id": "TP53-controls-state-change-of-HIST1H1A",
        "isdirected": true,
        "pubmed": [
         "15621527",
         "15655109",
         "16901784",
         "17158953",
         "17242198",
         "17242207",
         "23964094"
        ],
        "source": "TP53",
        "target": "HIST1H1A",
        "type": "controls-state-change-of"
       }
      }
     },
     "0643481bc2294a66b528a24061d05477": {
      "model_module": "jupyter-cytoscape",
      "model_module_version": "^1.2.2",
      "model_name": "EdgeModel",
      "state": {
       "_model_module_version": "^1.2.2",
       "_view_module_version": "^1.2.2",
       "data": {
        "cited": 0,
        "datasource": [
         "PANTHER"
        ],
        "id": "ATM-controls-state-change-of-TP63",
        "isdirected": true,
        "pubmed": [],
        "source": "ATM",
        "target": "TP63",
        "type": "controls-state-change-of"
       }
      }
     },
     "0711dc24ec0f46f892f5677bb3048365": {
      "model_module": "jupyter-cytoscape",
      "model_module_version": "^1.2.2",
      "model_name": "EdgeModel",
      "state": {
       "_model_module_version": "^1.2.2",
       "_view_module_version": "^1.2.2",
       "data": {
        "cited": 262,
        "datasource": [
         "pid"
        ],
        "id": "TP53-controls-expression-of-RB1",
        "isdirected": true,
        "pubmed": [
         "8119988"
        ],
        "source": "TP53",
        "target": "RB1",
        "type": "controls-expression-of"
       }
      }
     },
     "0742c924b8c64dc6808f038bfd7acaa1": {
      "model_module": "jupyter-cytoscape",
      "model_module_version": "^1.2.2",
      "model_name": "NodeModel",
      "state": {
       "_model_module_version": "^1.2.2",
       "_view_module_version": "^1.2.2",
       "data": {
        "id": "16",
        "name": "age: 29\nvirus: ncov\n",
        "parent": "parent-1"
       },
       "grabbable": true,
       "grabbed": false,
       "position": {
        "x": 600.8344062128375,
        "y": 230
       },
       "selectable": false
      }
     },
     "077102a84ec24f83ad784a2877d74a82": {
      "model_module": "jupyter-cytoscape",
      "model_module_version": "^1.2.2",
      "model_name": "EdgeModel",
      "state": {
       "_model_module_version": "^1.2.2",
       "_view_module_version": "^1.2.2",
       "data": {
        "cited": 12,
        "datasource": [
         "pid"
        ],
        "id": "E4F1-controls-state-change-of-TP53",
        "isdirected": true,
        "pubmed": [
         "17110336",
         "9288740"
        ],
        "source": "E4F1",
        "target": "TP53",
        "type": "controls-state-change-of"
       }
      }
     },
     "080ee9fb5c8a40bebb3cd633ab13467f": {
      "model_module": "jupyter-cytoscape",
      "model_module_version": "^1.2.2",
      "model_name": "NodeModel",
      "state": {
       "_model_module_version": "^1.2.2",
       "_view_module_version": "^1.2.2",
       "data": {
        "altered": 0,
        "cited": 691,
        "id": "DAPK1",
        "importance": 3,
        "isseed": false,
        "isvalid": true,
        "rank": 49,
        "uniprot": "P53355",
        "uniprotdesc": "Calcium/calmodulin-dependent serine/threonine kinaseinvolved in multiple cellular signaling pathways that trigger cellsurvival, apoptosis, and autophagy. Regulates both type Iapoptotic and type II autophagic cell deaths signal, depending onthe cellular setting. The former is caspase-dependent, while thelatter is caspase-independent and is characterized by theaccumulation of autophagic vesicles. Phosphorylates PIN1 resultingin inhibition of its catalytic activity, nuclear localization, andcellular function. Phosphorylates TPM1, enhancing stress fiberformation in endothelial cells. Phosphorylates STX1A andsignificantly decreases its binding to STXBP1. PhosphorylatesPRKD1 and regulates JNK signaling by binding and activating PRKD1under oxidative stress. Phosphorylates BECN1, reducing itsinteraction with BCL2 and BCL2L1 and promoting the induction ofautophagy. Phosphorylates TSC2, disrupting the TSC1-TSC2 complexand stimulating mTORC1 activity in a growth factor-dependentpathway. Phosphorylates RPS6, MYL9 and DAPK3. Acts as a signalingamplifier of NMDA receptors at extrasynaptic sites for mediatingbrain damage in stroke. Cerebral ischemia recruits DAPK1 into theNMDA receptor complex and it phosphorylates GRINB at Ser-1303inducing injurious Ca(2+) influx through NMDA receptor channels,resulting in an irreversible neuronal death. Required togetherwith DAPK3 for phosphorylation of RPL13A upon interferon-gammaactivation which is causing RPL13A involvement in transcript-selective translation inhibition.Isoform 2 cannot induce apoptosis but can inducemembrane blebbing."
       },
       "grabbable": true,
       "grabbed": false,
       "position": {
        "x": 816.3396307771806,
        "y": 407.88656863341015
       }
      }
     },
     "08648cc8ad984f9b88fe651524277a54": {
      "model_module": "jupyter-cytoscape",
      "model_module_version": "^1.2.2",
      "model_name": "NodeModel",
      "state": {
       "_model_module_version": "^1.2.2",
       "_view_module_version": "^1.2.2",
       "data": {
        "altered": 0,
        "cited": 1171,
        "id": "TP63",
        "importance": 3,
        "isseed": false,
        "isvalid": true,
        "rank": 37,
        "uniprot": "Q9H3D4",
        "uniprotdesc": "Acts as a sequence specific DNA binding transcriptionalactivator or repressor. The isoforms contain a varying set oftransactivation and auto-regulating transactivation inhibitingdomains thus showing an isoform specific activity. Isoform 2activates RIPK4 transcription. May be required in conjunction withTP73/p73 for initiation of p53/TP53 dependent apoptosis inresponse to genotoxic insults and the presence of activatedoncogenes. Involved in Notch signaling by probably inducing JAG1and JAG2. Plays a role in the regulation of epithelialmorphogenesis. The ratio of DeltaN-type and TA*-type isoforms maygovern the maintenance of epithelial stem cell compartments andregulate the initiation of epithelial stratification from theundifferentiated embryonal ectoderm. Required for limb formationfrom the apical ectodermal ridge. Activates transcription of thep21 promoter. "
       },
       "grabbable": true,
       "grabbed": false,
       "position": {
        "x": 715.1071231480672,
        "y": 195.0006341890039
       }
      }
     },
     "08e7c2ca1d2349859bf379cb9618d980": {
      "model_module": "jupyter-cytoscape",
      "model_module_version": "^1.2.2",
      "model_name": "NodeModel",
      "state": {
       "_model_module_version": "^1.2.2",
       "_view_module_version": "^1.2.2",
       "data": {
        "id": "2",
        "name": "age: 41\nvirus: ncov\n",
        "parent": "parent-0"
       },
       "grabbable": true,
       "grabbed": false,
       "position": {
        "x": 631.5785389731285,
        "y": 10.507177924263429
       },
       "selectable": false
      }
     },
     "093ded20691a48a8b2ad613702f843f2": {
      "model_module": "jupyter-cytoscape",
      "model_module_version": "^1.2.2",
      "model_name": "NodeModel",
      "state": {
       "_model_module_version": "^1.2.2",
       "_view_module_version": "^1.2.2",
       "data": {
        "altered": 0,
        "cited": 81,
        "id": "DYRK1A",
        "importance": 3,
        "isseed": false,
        "isvalid": true,
        "rank": 128,
        "uniprot": "Q13627",
        "uniprotdesc": "May play a role in a signaling pathway regulatingnuclear functions of cell proliferation. Modulates alternativesplicing by phosphorylating the splice factor SRSF6 (Bysimilarity). Phosphorylates serine, threonine and tyrosineresidues in its sequence and in exogenous substrates such as CRY2,FOXO1, SRSF6 and SIRT1. Exhibits a sugstrate preference forproline at position P+1 and arginine at position P-3."
       },
       "grabbable": true,
       "grabbed": false,
       "position": {
        "x": 659.5236499445441,
        "y": -63.19540134218511
       }
      }
     },
     "09521ef90cd64eb0b43168aa41fb60c6": {
      "model_module": "jupyter-cytoscape",
      "model_module_version": "^1.2.2",
      "model_name": "NodeModel",
      "state": {
       "_model_module_version": "^1.2.2",
       "_view_module_version": "^1.2.2",
       "data": {
        "altered": 0,
        "cited": 0,
        "id": "KAT8",
        "importance": 3,
        "isseed": false,
        "isvalid": true,
        "rank": 199,
        "uniprot": "Q9H7Z6",
        "uniprotdesc": "Histone acetyltransferase which may be involved intranscriptional activation. May influence the function of ATM. Aspart of the MSL complex it is involved in acetylation ofnucleosomal histone H4 producing specifically H4K16ac. As part ofthe NSL complex it may be involved in acetylation of nucleosomalhistone H4 on several lysine residues. That activity is lessspecific than the one of the MSL complex. Can also acetylateTP53/p53 at 'Lys-120'. "
       },
       "grabbable": true,
       "grabbed": false,
       "position": {
        "x": 471.3707680410628,
        "y": 345.9204658705626
       }
      }
     },
     "099d68228e834f4899751d60a9fe7f7b": {
      "model_module": "jupyter-cytoscape",
      "model_module_version": "^1.2.2",
      "model_name": "NodeModel",
      "state": {
       "_model_module_version": "^1.2.2",
       "_view_module_version": "^1.2.2",
       "data": {
        "altered": 0,
        "cited": 6,
        "id": "PPP2CB",
        "importance": 3,
        "isseed": false,
        "isvalid": true,
        "rank": 185,
        "uniprot": "P62714",
        "uniprotdesc": "PP2A can modulate the activity of phosphorylase B kinasecasein kinase 2, mitogen-stimulated S6 kinase, and MAP-2 kinase."
       },
       "grabbable": true,
       "grabbed": false,
       "position": {
        "x": 720.6279645351584,
        "y": 94.73427792193895
       }
      }
     },
     "0a97ff7a0819406cb892fcfca0227bea": {
      "model_module": "jupyter-cytoscape",
      "model_module_version": "^1.2.2",
      "model_name": "NodeModel",
      "state": {
       "_model_module_version": "^1.2.2",
       "_view_module_version": "^1.2.2",
       "data": {
        "altered": 0,
        "cited": 2442,
        "id": "CREBBP",
        "importance": 3,
        "isseed": false,
        "isvalid": true,
        "rank": 24,
        "uniprot": "Q92793",
        "uniprotdesc": "Acetylates histones, giving a specific tag fortranscriptional activation. Also acetylates non-histone proteins,like NCOA3 and FOXO1. Binds specifically to phosphorylated CREBand enhances its transcriptional activity toward cAMP-responsivegenes. Acts as a coactivator of ALX1 in the presence of EP300.Acts as a circadian transcriptional coactivator which enhances theactivity of the circadian transcriptional activators: NPAS2-ARNTL/BMAL1 and CLOCK-ARNTL/BMAL1 heterodimers."
       },
       "grabbable": true,
       "grabbed": false,
       "position": {
        "x": 570.6279615351583,
        "y": -4.079541129437306
       }
      }
     },
     "0ae493d51d3f42bfb03872a961713272": {
      "model_module": "jupyter-cytoscape",
      "model_module_version": "^1.2.2",
      "model_name": "EdgeModel",
      "state": {
       "_model_module_version": "^1.2.2",
       "_view_module_version": "^1.2.2",
       "data": {
        "cited": 42,
        "datasource": [
         "pid"
        ],
        "id": "TP53-controls-expression-of-TP73",
        "isdirected": true,
        "pubmed": [
         "11314010"
        ],
        "source": "TP53",
        "target": "TP73",
        "type": "controls-expression-of"
       }
      }
     },
     "0b12b865da464205a85a4c7e60626006": {
      "model_module": "jupyter-cytoscape",
      "model_module_version": "^1.2.2",
      "model_name": "EdgeModel",
      "state": {
       "_model_module_version": "^1.2.2",
       "_view_module_version": "^1.2.2",
       "data": {
        "cited": 0,
        "datasource": [
         "PANTHER"
        ],
        "id": "MAPK11-controls-state-change-of-TP73",
        "isdirected": true,
        "pubmed": [],
        "source": "MAPK11",
        "target": "TP73",
        "type": "controls-state-change-of"
       }
      }
     },
     "0b1ffa9153e24459bfbd62d032660bc4": {
      "model_module": "jupyter-cytoscape",
      "model_module_version": "^1.2.2",
      "model_name": "EdgeModel",
      "state": {
       "_model_module_version": "^1.2.2",
       "_view_module_version": "^1.2.2",
       "data": {
        "cited": 0,
        "datasource": [
         "pid"
        ],
        "id": "PRMT1-controls-expression-of-GADD45A",
        "isdirected": true,
        "pubmed": [
         "15186775",
         "18250150"
        ],
        "source": "PRMT1",
        "target": "GADD45A",
        "type": "controls-expression-of"
       }
      }
     },
     "0bf37c73d42e4037af63202816bed162": {
      "model_module": "jupyter-cytoscape",
      "model_module_version": "^1.2.2",
      "model_name": "NodeModel",
      "state": {
       "_model_module_version": "^1.2.2",
       "_view_module_version": "^1.2.2",
       "data": {
        "id": "parent-1",
        "name": [
         "Argentina"
        ]
       },
       "grabbable": true,
       "grabbed": false,
       "position": {
        "x": 653.6936738633774,
        "y": 225.5071834242633
       },
       "selectable": false
      }
     },
     "0c0ba3b721334f4aaf402d5b3b8eaf45": {
      "model_module": "jupyter-cytoscape",
      "model_module_version": "^1.2.2",
      "model_name": "NodeModel",
      "state": {
       "_model_module_version": "^1.2.2",
       "_view_module_version": "^1.2.2",
       "data": {
        "altered": 0,
        "cited": 124,
        "id": "TP73",
        "importance": 3,
        "isseed": false,
        "isvalid": true,
        "rank": 116,
        "uniprot": "O15350",
        "uniprotdesc": "Participates in the apoptotic response to DNA damage.Isoforms containing the transactivation domain are pro-apoptotic,isoforms lacking the domain are anti-apoptotic and block thefunction of p53 and transactivating p73 isoforms. May be a tumorsuppressor protein. "
       },
       "grabbable": true,
       "grabbed": false,
       "position": {
        "x": 723.6771541026915,
        "y": 145.0006331890039
       }
      }
     },
     "0c354074f91c439fa4bb21a533b28c18": {
      "model_module": "jupyter-cytoscape",
      "model_module_version": "^1.2.2",
      "model_name": "NodeModel",
      "state": {
       "_model_module_version": "^1.2.2",
       "_view_module_version": "^1.2.2",
       "data": {
        "altered": 0,
        "cited": 161,
        "id": "CASP6",
        "importance": 3,
        "isseed": false,
        "isvalid": true,
        "rank": 104,
        "uniprot": "P55212",
        "uniprotdesc": "Involved in the activation cascade of caspasesresponsible for apoptosis execution. Cleaves poly(ADP-ribose)polymerase in vitro, as well as lamins. Overexpression promotesprogrammed cell death."
       },
       "grabbable": true,
       "grabbed": false,
       "position": {
        "x": 759.5236519445442,
        "y": -22.926803781798267
       }
      }
     },
     "0cf21a341a2541b19506bbcee9ad44a1": {
      "model_module": "jupyter-cytoscape",
      "model_module_version": "^1.2.2",
      "model_name": "EdgeModel",
      "state": {
       "_model_module_version": "^1.2.2",
       "_view_module_version": "^1.2.2",
       "data": {
        "cited": 23,
        "datasource": [
         "pid"
        ],
        "id": "TP53-controls-expression-of-DDB2",
        "isdirected": true,
        "pubmed": [
         "11971958"
        ],
        "source": "TP53",
        "target": "DDB2",
        "type": "controls-expression-of"
       }
      }
     },
     "0d40e7467c6248288047a6a0aee649c7": {
      "model_module": "jupyter-cytoscape",
      "model_module_version": "^1.2.2",
      "model_name": "EdgeModel",
      "state": {
       "_model_module_version": "^1.2.2",
       "_view_module_version": "^1.2.2",
       "data": {
        "cited": 1,
        "datasource": [
         "Reactome"
        ],
        "id": "TP53-controls-state-change-of-ASF1A",
        "isdirected": true,
        "pubmed": [
         "15621527",
         "15655109",
         "16901784",
         "17158953",
         "17242198",
         "17242207",
         "23964094"
        ],
        "source": "TP53",
        "target": "ASF1A",
        "type": "controls-state-change-of"
       }
      }
     },
     "0da533452b0949f1bd203c91164259f3": {
      "model_module": "jupyter-cytoscape",
      "model_module_version": "^1.2.2",
      "model_name": "EdgeModel",
      "state": {
       "_model_module_version": "^1.2.2",
       "_view_module_version": "^1.2.2",
       "data": {
        "cited": 0,
        "datasource": [
         "PANTHER"
        ],
        "id": "SIRT1-controls-state-change-of-TP63",
        "isdirected": true,
        "pubmed": [],
        "source": "SIRT1",
        "target": "TP63",
        "type": "controls-state-change-of"
       }
      }
     },
     "0dab593f465b4cd2b5456224fec62c0f": {
      "model_module": "jupyter-cytoscape",
      "model_module_version": "^1.2.2",
      "model_name": "EdgeModel",
      "state": {
       "_model_module_version": "^1.2.2",
       "_view_module_version": "^1.2.2",
       "data": {
        "cited": 23,
        "datasource": [
         "pid"
        ],
        "id": "TP53-controls-expression-of-CCNB1",
        "isdirected": true,
        "pubmed": [
         "15710382"
        ],
        "source": "TP53",
        "target": "CCNB1",
        "type": "controls-expression-of"
       }
      }
     },
     "0e50fbbf5c094b38813384c1251353b9": {
      "model_module": "jupyter-cytoscape",
      "model_module_version": "^1.2.2",
      "model_name": "EdgeModel",
      "state": {
       "_model_module_version": "^1.2.2",
       "_view_module_version": "^1.2.2",
       "data": {
        "cited": 23,
        "datasource": [
         "pid"
        ],
        "id": "TP53-controls-expression-of-DDB2",
        "isdirected": true,
        "pubmed": [
         "11971958"
        ],
        "source": "TP53",
        "target": "DDB2",
        "type": "controls-expression-of"
       }
      }
     },
     "0efe72f083a14f0587207c98c438d9ac": {
      "model_module": "jupyter-cytoscape",
      "model_module_version": "^1.2.2",
      "model_name": "EdgeModel",
      "state": {
       "_model_module_version": "^1.2.2",
       "_view_module_version": "^1.2.2",
       "data": {
        "cited": 0,
        "datasource": [
         "PANTHER"
        ],
        "id": "MAPK12-controls-state-change-of-TP63",
        "isdirected": true,
        "pubmed": [],
        "source": "MAPK12",
        "target": "TP63",
        "type": "controls-state-change-of"
       }
      }
     },
     "0fa06e65f077483ab50c65ce6af76504": {
      "model_module": "jupyter-cytoscape",
      "model_module_version": "^1.2.2",
      "model_name": "NodeModel",
      "state": {
       "_model_module_version": "^1.2.2",
       "_view_module_version": "^1.2.2",
       "data": {
        "altered": 0,
        "cited": 8,
        "id": "H1F0",
        "importance": 3,
        "isseed": false,
        "isvalid": true,
        "rank": 179,
        "uniprot": "P07305",
        "uniprotdesc": "Histones H1 are necessary for the condensation ofnucleosome chains into higher-order structures. The H1F0 histonesare found in cells that are in terminal stages of differentiationor that have low rates of cell division."
       },
       "grabbable": true,
       "grabbed": false,
       "position": {
        "x": 438.10392816071095,
        "y": 546.3921666889572
       }
      }
     },
     "0fc0b4dadc1e448fb0581e10f3739641": {
      "model_module": "jupyter-cytoscape",
      "model_module_version": "^1.2.2",
      "model_name": "NodeModel",
      "state": {
       "_model_module_version": "^1.2.2",
       "_view_module_version": "^1.2.2",
       "data": {
        "altered": 0,
        "cited": 273,
        "id": "CTSD",
        "importance": 3,
        "isseed": false,
        "isvalid": true,
        "rank": 85,
        "uniprot": "P07339",
        "uniprotdesc": "Acid protease active in intracellular protein breakdown.Involved in the pathogenesis of several diseases such as breastcancer and possibly Alzheimer disease."
       },
       "grabbable": true,
       "grabbed": false,
       "position": {
        "x": 525.9768149022941,
        "y": 394.6521493872649
       }
      }
     },
     "102f3087963440d8b8813668f70939d8": {
      "model_module": "jupyter-cytoscape",
      "model_module_version": "^1.2.2",
      "model_name": "EdgeModel",
      "state": {
       "_model_module_version": "^1.2.2",
       "_view_module_version": "^1.2.2",
       "data": {
        "cited": 0,
        "datasource": [
         "PANTHER"
        ],
        "id": "ATR-controls-state-change-of-TP73",
        "isdirected": true,
        "pubmed": [],
        "source": "ATR",
        "target": "TP73",
        "type": "controls-state-change-of"
       }
      }
     },
     "1045a737514c44d3b490a9819823d7da": {
      "model_module": "jupyter-cytoscape",
      "model_module_version": "^1.2.2",
      "model_name": "EdgeModel",
      "state": {
       "_model_module_version": "^1.2.2",
       "_view_module_version": "^1.2.2",
       "data": {
        "id": "d033bfd5-361f-4dba-9815-4a5a9f024fb4",
        "source": "0",
        "target": "1"
       },
       "selectable": false
      }
     },
     "120650104cec4679bc0880ed5c5f0b9d": {
      "model_module": "jupyter-cytoscape",
      "model_module_version": "^1.2.2",
      "model_name": "NodeModel",
      "state": {
       "_model_module_version": "^1.2.2",
       "_view_module_version": "^1.2.2",
       "data": {
        "altered": 0,
        "cited": 168,
        "id": "DDB2",
        "importance": 3,
        "isseed": false,
        "isvalid": true,
        "rank": 102,
        "uniprot": "Q92466",
        "uniprotdesc": "Required for DNA repair. Binds to DDB1 to form the UV-damaged DNA-binding protein complex (the UV-DDB complex). The UV-DDB complex may recognize UV-induced DNA damage and recruitproteins of the nucleotide excision repair pathway (the NERpathway) to initiate DNA repair. The UV-DDB complex preferentiallybinds to cyclobutane pyrimidine dimers (CPD), 6-4 photoproducts(6-4 PP), apurinic sites and short mismatches. Also appears tofunction as the substrate recognition module for the DCX (DDB1-CUL4-X-box) E3 ubiquitin-protein ligase complex DDB1-CUL4-ROC1(also known as CUL4-DDB-ROC1 and CUL4-DDB-RBX1). The DDB1-CUL4-ROC1 complex may ubiquitinate histone H2A, histone H3 and histoneH4 at sites of UV-induced DNA damage. The ubiquitination ofhistones may facilitate their removal from the nucleosome andpromote subsequent DNA repair. The DDB1-CUL4-ROC1 complex alsoubiquitinates XPC, which may enhance DNA-binding by XPC andpromote NER. Isoform D1 and isoform D2 inhibit UV-damaged DNArepair. "
       },
       "grabbable": true,
       "grabbed": false,
       "position": {
        "x": 521.3707690410628,
        "y": 345.9204658705626
       }
      }
     },
     "1251126f2a724bcdafe06d48bc5f8900": {
      "model_module": "jupyter-cytoscape",
      "model_module_version": "^1.2.2",
      "model_name": "EdgeModel",
      "state": {
       "_model_module_version": "^1.2.2",
       "_view_module_version": "^1.2.2",
       "data": {
        "cited": 0,
        "datasource": [
         "PANTHER"
        ],
        "id": "PRKAB1-controls-state-change-of-TP73",
        "isdirected": true,
        "pubmed": [],
        "source": "PRKAB1",
        "target": "TP73",
        "type": "controls-state-change-of"
       }
      }
     },
     "126cac575176460e87ca18092062169f": {
      "model_module": "jupyter-cytoscape",
      "model_module_version": "^1.2.2",
      "model_name": "EdgeModel",
      "state": {
       "_model_module_version": "^1.2.2",
       "_view_module_version": "^1.2.2",
       "data": {
        "cited": 13,
        "datasource": [
         "pid"
        ],
        "id": "PPP1R13L-controls-state-change-of-TP53",
        "isdirected": true,
        "pubmed": [
         "10581258",
         "11740489",
         "11780126",
         "16377624",
         "17349958",
         "17906639"
        ],
        "source": "PPP1R13L",
        "target": "TP53",
        "type": "controls-state-change-of"
       }
      }
     },
     "1278609059064c29a9181359791af9f6": {
      "model_module": "jupyter-cytoscape",
      "model_module_version": "^1.2.2",
      "model_name": "NodeModel",
      "state": {
       "_model_module_version": "^1.2.2",
       "_view_module_version": "^1.2.2",
       "data": {
        "altered": 0,
        "cited": 474,
        "id": "TAP1",
        "importance": 3,
        "isseed": false,
        "isvalid": true,
        "rank": 63,
        "uniprot": "Q03518",
        "uniprotdesc": "Involved in the transport of antigens from the cytoplasmto the endoplasmic reticulum for association with MHC class Imolecules. Also acts as a molecular scaffold for the final stageof MHC class I folding, namely the binding of peptide. Nascent MHCclass I molecules associate with TAP via tapasin. Inhibited by thecovalent attachment of herpes simplex virus ICP47 protein, whichblocks the peptide-binding site of TAP. Inhibited by humancytomegalovirus US6 glycoprotein, which binds to the lumenal sideof the TAP complex and inhibits peptide translocation byspecifically blocking ATP-binding to TAP1 and prevents theconformational rearrangement of TAP induced by peptide binding.Inhibited by human adenovirus E3-19K glycoprotein, which binds theTAP complex and acts as a tapasin inhibitor, preventing MHC classI/TAP association. Expression of TAP1 is down-regulated by humanEpstein-Barr virus vIL-10 protein, thereby affecting the transportof peptides into the endoplasmic reticulum and subsequent peptideloading by MHC class I molecules."
       },
       "grabbable": true,
       "grabbed": false,
       "position": {
        "x": 411.2741587901134,
        "y": 193.0498248325771
       }
      }
     },
     "128587565d614de887687eb30e9f319c": {
      "model_module": "@jupyter-widgets/base",
      "model_module_version": "1.2.0",
      "model_name": "LayoutModel",
      "state": {}
     },
     "12bc9eff98f7468a8053e656ddc914e7": {
      "model_module": "jupyter-cytoscape",
      "model_module_version": "^1.2.2",
      "model_name": "EdgeModel",
      "state": {
       "_model_module_version": "^1.2.2",
       "_view_module_version": "^1.2.2",
       "data": {
        "cited": 16,
        "datasource": [
         "PhosphoSite",
         "pid"
        ],
        "id": "PLK3-controls-state-change-of-TP53",
        "isdirected": true,
        "pubmed": [
         "10202145",
         "10570149",
         "10656795",
         "10673500",
         "10673501",
         "10706102",
         "10710310",
         "10734067",
         "11030628",
         "11175334",
         "11244509",
         "11258706",
         "11397945",
         "11423984",
         "11447225",
         "11495913",
         "11526498",
         "11551930",
         "11583595",
         "11707453",
         "11850826",
         "11861384",
         "11875057",
         "11896572",
         "11896587",
         "12091386",
         "12384533",
         "12427754",
         "12531896",
         "12676607",
         "12756247",
         "12810724",
         "12860987",
         "12861053",
         "12902982",
         "12955074",
         "12959929",
         "12969974",
         "14517211",
         "14527925",
         "14612532",
         "14665630",
         "15064747",
         "15140942",
         "15254178",
         "15269203",
         "15322239",
         "15471885",
         "15489221",
         "15629715",
         "15671037",
         "15750624",
         "15843377",
         "15963507",
         "16377624",
         "16651424",
         "16731759",
         "16774943",
         "16818520",
         "17105820",
         "17121812",
         "17135248",
         "17245430",
         "17339337",
         "17353187",
         "17363488",
         "17698850",
         "17967874",
         "17977830",
         "18159951",
         "18593910",
         "18669630",
         "18718914",
         "18778462",
         "19819244",
         "19861417",
         "19882354",
         "20009884",
         "20024960",
         "20041275",
         "20562916",
         "20673369",
         "20696760",
         "20962272",
         "21148320",
         "21383696",
         "21454683",
         "21832239",
         "22030623",
         "22112863",
         "22285752",
         "22728651",
         "22797063",
         "22815859",
         "23798621",
         "23871434",
         "24657168",
         "8327466"
        ],
        "source": "PLK3",
        "target": "TP53",
        "type": "controls-state-change-of"
       }
      }
     },
     "12d44f8ed3684604a6d8beb1fba78c1b": {
      "model_module": "jupyter-cytoscape",
      "model_module_version": "^1.2.2",
      "model_name": "EdgeModel",
      "state": {
       "_model_module_version": "^1.2.2",
       "_view_module_version": "^1.2.2",
       "data": {
        "cited": 0,
        "datasource": [
         "PANTHER"
        ],
        "id": "CHEK2-controls-state-change-of-TP73",
        "isdirected": true,
        "pubmed": [],
        "source": "CHEK2",
        "target": "TP73",
        "type": "controls-state-change-of"
       }
      }
     },
     "12eff14aa4fd47c4a2bd40ff1ca875f0": {
      "model_module": "jupyter-cytoscape",
      "model_module_version": "^1.2.2",
      "model_name": "EdgeModel",
      "state": {
       "_model_module_version": "^1.2.2",
       "_view_module_version": "^1.2.2",
       "data": {
        "cited": 22,
        "datasource": [
         "pid"
        ],
        "id": "TP53-controls-expression-of-HIC1",
        "isdirected": true,
        "pubmed": [
         "16301995"
        ],
        "source": "TP53",
        "target": "HIC1",
        "type": "controls-expression-of"
       }
      }
     },
     "136b226380814567808dbdd4adf2b204": {
      "model_module": "jupyter-cytoscape",
      "model_module_version": "^1.2.2",
      "model_name": "EdgeModel",
      "state": {
       "_model_module_version": "^1.2.2",
       "_view_module_version": "^1.2.2",
       "data": {
        "cited": 0,
        "datasource": [
         "Reactome"
        ],
        "id": "TP53-controls-state-change-of-HIST1H1D",
        "isdirected": true,
        "pubmed": [
         "15621527",
         "15655109",
         "16901784",
         "17158953",
         "17242198",
         "17242207",
         "23964094"
        ],
        "source": "TP53",
        "target": "HIST1H1D",
        "type": "controls-state-change-of"
       }
      }
     },
     "13c6136e1aae416eb949c789ed93fedc": {
      "model_module": "jupyter-cytoscape",
      "model_module_version": "^1.2.2",
      "model_name": "NodeModel",
      "state": {
       "_model_module_version": "^1.2.2",
       "_view_module_version": "^1.2.2",
       "data": {
        "altered": 0,
        "cited": 368,
        "id": "PRKAB1",
        "importance": 3,
        "isseed": false,
        "isvalid": true,
        "rank": 73,
        "uniprot": "Q9Y478",
        "uniprotdesc": "Non-catalytic subunit of AMP-activated protein kinase(AMPK), an energy sensor protein kinase that plays a key role inregulating cellular energy metabolism. In response to reduction ofintracellular ATP levels, AMPK activates energy-producing pathwaysand inhibits energy-consuming processes: inhibits protein,carbohydrate and lipid biosynthesis, as well as cell growth andproliferation. AMPK acts via direct phosphorylation of metabolicenzymes, and by longer-term effects via phosphorylation oftranscription regulators. Also acts as a regulator of cellularpolarity by remodeling the actin cytoskeleton; probably byindirectly activating myosin. Beta non-catalytic subunit acts as ascaffold on which the AMPK complex assembles, via its C-terminusthat bridges alpha (PRKAA1 or PRKAA2) and gamma subunits (PRKAG1,PRKAG2 or PRKAG3)."
       },
       "grabbable": true,
       "grabbed": false,
       "position": {
        "x": 607.6400374363117,
        "y": 145.92046187056266
       }
      }
     },
     "13cc4b5c5acb42e9ae481da972554fc1": {
      "model_module": "jupyter-cytoscape",
      "model_module_version": "^1.2.2",
      "model_name": "EdgeModel",
      "state": {
       "_model_module_version": "^1.2.2",
       "_view_module_version": "^1.2.2",
       "data": {
        "cited": 109,
        "datasource": [
         "pid"
        ],
        "id": "TP53-controls-expression-of-MSH2",
        "isdirected": true,
        "pubmed": [
         "10984493",
         "11350971"
        ],
        "source": "TP53",
        "target": "MSH2",
        "type": "controls-expression-of"
       }
      }
     },
     "14bcd6b35ce14cd5a4f8cd97202d8075": {
      "model_module": "jupyter-cytoscape",
      "model_module_version": "^1.2.2",
      "model_name": "NodeModel",
      "state": {
       "_model_module_version": "^1.2.2",
       "_view_module_version": "^1.2.2",
       "data": {
        "altered": 0,
        "cited": 5024,
        "id": "MDM2",
        "importance": 3,
        "isseed": false,
        "isvalid": true,
        "rank": 7,
        "uniprot": "Q00987",
        "uniprotdesc": "E3 ubiquitin-protein ligase that mediates ubiquitinationof p53/TP53, leading to its degradation by the proteasome.Inhibits p53/TP53- and p73/TP73-mediated cell cycle arrest andapoptosis by binding its transcriptional activation domain. Alsoacts as a ubiquitin ligase E3 toward itself and ARRB1. Permits thenuclear export of p53/TP53. Promotes proteasome-dependentubiquitin-independent degradation of retinoblastoma RB1 protein.Inhibits DAXX-mediated apoptosis by inducing its ubiquitinationand degradation. Component of the TRIM28/KAP1-MDM2-p53/TP53complex involved in stabilizing p53/TP53. Also component of theTRIM28/KAP1-ERBB4-MDM2 complex which links growth factor and DNAdamage response pathways. Mediates ubiquitination and subsequentproteasome degradation of DYRK2 in nucleus. Ubiquitinates IGF1Rand SNAI1 and promotes them to proteasomal degradation."
       },
       "grabbable": true,
       "grabbed": false,
       "position": {
        "x": 616.3396267771806,
        "y": 380.7822060950005
       }
      }
     },
     "14ef50be0f2f41b697d46bbd94c7b75d": {
      "model_module": "jupyter-cytoscape",
      "model_module_version": "^1.2.2",
      "model_name": "NodeModel",
      "state": {
       "_model_module_version": "^1.2.2",
       "_view_module_version": "^1.2.2",
       "data": {
        "altered": 0,
        "cited": 22,
        "id": "SETD8",
        "importance": 3,
        "isseed": false,
        "isvalid": true,
        "rank": 164,
        "uniprot": "Q9NQR1",
        "uniprotdesc": "Protein-lysine N-methyltransferase that monomethylatesboth histones and non-histone proteins. Specificallymonomethylates 'Lys-20' of histone H4 (H4K20me1). H4K20me1 isenriched during mitosis and represents a specific tag forepigenetic transcriptional repression. Mainly functions ineuchromatin regions, thereby playing a central role in thesilencing of euchromatic genes. Required for cell proliferation,probably by contributing to the maintenance of proper higher-orderstructure of DNA during mitosis. Involved in chromosomecondensation and proper cytokinesis. Nucleosomes are preferred assubstrate compared to free histones. Mediates monomethylation ofp53/TP53 at 'Lys-382', leading to repress p53/TP53-target genes.Plays a negative role in TGF-beta response regulation and apositive role in cell migration. "
       },
       "grabbable": true,
       "grabbed": false,
       "position": {
        "x": 446.0858024115741,
        "y": -86.6036722204788
       }
      }
     },
     "152f9b0d32a544cebcc0c259a507aba9": {
      "model_module": "jupyter-cytoscape",
      "model_module_version": "^1.2.2",
      "model_name": "EdgeModel",
      "state": {
       "_model_module_version": "^1.2.2",
       "_view_module_version": "^1.2.2",
       "data": {
        "cited": 6,
        "datasource": [
         "PhosphoSite"
        ],
        "id": "DAPK1-controls-state-change-of-TP53",
        "isdirected": true,
        "pubmed": [
         "10202145",
         "10570149",
         "10606744",
         "10656795",
         "10673500",
         "10673501",
         "10706102",
         "10710310",
         "10733583",
         "10734067",
         "11030628",
         "11175334",
         "11244509",
         "11258706",
         "11397945",
         "11423984",
         "11447225",
         "11495913",
         "11526498",
         "11551930",
         "11583595",
         "11707453",
         "11850826",
         "11861384",
         "11875057",
         "11883897",
         "11896572",
         "11896587",
         "12091386",
         "12384533",
         "12427754",
         "12531896",
         "12676607",
         "12756247",
         "12810724",
         "12860987",
         "12861053",
         "12902982",
         "12955074",
         "12959929",
         "12969974",
         "14517211",
         "14527925",
         "14612532",
         "14665630",
         "15064747",
         "15140942",
         "15254178",
         "15269203",
         "15322239",
         "15355354",
         "15471885",
         "15489221",
         "15542844",
         "15629715",
         "15671037",
         "15750624",
         "15843377",
         "15963507",
         "16377624",
         "16651424",
         "16731759",
         "16774943",
         "16818520",
         "17105820",
         "17121812",
         "17135248",
         "17245430",
         "17339337",
         "17353187",
         "17363488",
         "17698850",
         "17967874",
         "17977830",
         "18159951",
         "18246126",
         "18593910",
         "18669630",
         "18718914",
         "18778462",
         "18794113",
         "19819244",
         "19861417",
         "19882354",
         "20009884",
         "20024960",
         "20041275",
         "20562916",
         "20673369",
         "20696760",
         "20847049",
         "20851891",
         "20959462",
         "20962272",
         "21148320",
         "21383696",
         "21386980",
         "21454683",
         "21832239",
         "22030623",
         "22112863",
         "22285752",
         "22728651",
         "22797063",
         "22815859",
         "23798621",
         "23871434",
         "24657168",
         "8327466"
        ],
        "source": "DAPK1",
        "target": "TP53",
        "type": "controls-state-change-of"
       }
      }
     },
     "157453338b3349a0a8a1746eef6cdbb3": {
      "model_module": "jupyter-cytoscape",
      "model_module_version": "^1.2.2",
      "model_name": "NodeModel",
      "state": {
       "_model_module_version": "^1.2.2",
       "_view_module_version": "^1.2.2",
       "data": {
        "altered": 0,
        "cited": 168,
        "id": "DDB2",
        "importance": 3,
        "isseed": false,
        "isvalid": true,
        "rank": 102,
        "uniprot": "Q92466",
        "uniprotdesc": "Required for DNA repair. Binds to DDB1 to form the UV-damaged DNA-binding protein complex (the UV-DDB complex). The UV-DDB complex may recognize UV-induced DNA damage and recruitproteins of the nucleotide excision repair pathway (the NERpathway) to initiate DNA repair. The UV-DDB complex preferentiallybinds to cyclobutane pyrimidine dimers (CPD), 6-4 photoproducts(6-4 PP), apurinic sites and short mismatches. Also appears tofunction as the substrate recognition module for the DCX (DDB1-CUL4-X-box) E3 ubiquitin-protein ligase complex DDB1-CUL4-ROC1(also known as CUL4-DDB-ROC1 and CUL4-DDB-RBX1). The DDB1-CUL4-ROC1 complex may ubiquitinate histone H2A, histone H3 and histoneH4 at sites of UV-induced DNA damage. The ubiquitination ofhistones may facilitate their removal from the nucleosome andpromote subsequent DNA repair. The DDB1-CUL4-ROC1 complex alsoubiquitinates XPC, which may enhance DNA-binding by XPC andpromote NER. Isoform D1 and isoform D2 inhibit UV-damaged DNArepair. "
       },
       "grabbable": true,
       "grabbed": false,
       "position": {
        "x": 516.3396247771806,
        "y": 342.44257529207965
       }
      }
     },
     "15cc99b492a7467b8e0092f723ab4bce": {
      "model_module": "jupyter-cytoscape",
      "model_module_version": "^1.2.2",
      "model_name": "EdgeModel",
      "state": {
       "_model_module_version": "^1.2.2",
       "_view_module_version": "^1.2.2",
       "data": {
        "cited": 257,
        "datasource": [
         "pid"
        ],
        "id": "TP53-controls-expression-of-TP63",
        "isdirected": true,
        "pubmed": [
         "14576823"
        ],
        "source": "TP53",
        "target": "TP63",
        "type": "controls-expression-of"
       }
      }
     },
     "178ebaa818a44082bad8d56a51265cf6": {
      "model_module": "jupyter-cytoscape",
      "model_module_version": "^1.2.2",
      "model_name": "EdgeModel",
      "state": {
       "_model_module_version": "^1.2.2",
       "_view_module_version": "^1.2.2",
       "data": {
        "cited": 102,
        "datasource": [
         "pid"
        ],
        "id": "TP53-controls-expression-of-PML",
        "isdirected": true,
        "pubmed": [
         "14992722"
        ],
        "source": "TP53",
        "target": "PML",
        "type": "controls-expression-of"
       }
      }
     },
     "187339b251ac4f73abd7042abfda9e58": {
      "model_module": "jupyter-cytoscape",
      "model_module_version": "^1.2.2",
      "model_name": "NodeModel",
      "state": {
       "_model_module_version": "^1.2.2",
       "_view_module_version": "^1.2.2",
       "data": {
        "altered": 0,
        "cited": 4,
        "id": "PRKAB2",
        "importance": 3,
        "isseed": false,
        "isvalid": true,
        "rank": 189,
        "uniprot": "O43741",
        "uniprotdesc": "Non-catalytic subunit of AMP-activated protein kinase(AMPK), an energy sensor protein kinase that plays a key role inregulating cellular energy metabolism. In response to reduction ofintracellular ATP levels, AMPK activates energy-producing pathwaysand inhibits energy-consuming processes: inhibits protein,carbohydrate and lipid biosynthesis, as well as cell growth andproliferation. AMPK acts via direct phosphorylation of metabolicenzymes, and by longer-term effects via phosphorylation oftranscription regulators. Also acts as a regulator of cellularpolarity by remodeling the actin cytoskeleton; probably byindirectly activating myosin. Beta non-catalytic subunit acts as ascaffold on which the AMPK complex assembles, via its C-terminusthat bridges alpha (PRKAA1 or PRKAA2) and gamma subunits (PRKAG1,PRKAG2 or PRKAG3)."
       },
       "grabbable": true,
       "grabbed": false,
       "position": {
        "x": 770.6279655351583,
        "y": 127.25319166340147
       }
      }
     },
     "193147c47c8346879ad7e3763b8afcba": {
      "model_module": "jupyter-cytoscape",
      "model_module_version": "^1.2.2",
      "model_name": "NodeModel",
      "state": {
       "_model_module_version": "^1.2.2",
       "_view_module_version": "^1.2.2",
       "data": {
        "altered": 0,
        "cited": 236,
        "id": "NEDD8",
        "importance": 2,
        "isseed": false,
        "isvalid": true,
        "rank": 205,
        "uniprot": "Q15843",
        "uniprotdesc": "Ubiquitin-like protein which plays an important role incell cycle control and embryogenesis. Covalent attachment to itssubstrates requires prior activation by the E1 complex UBE1C-APPBP1 and linkage to the E2 enzyme UBE2M. Attachment of NEDD8 tocullins activates their associated E3 ubiquitin ligase activity,and thus promotes polyubiquitination and proteasomal degradationof cyclins and other regulatory proteins."
       },
       "grabbable": true,
       "grabbed": false,
       "position": {
        "x": 471.3707680410628,
        "y": 446.66157243034894
       }
      }
     },
     "1afcb9ea28814301877289e536c8474c": {
      "model_module": "jupyter-cytoscape",
      "model_module_version": "^1.2.2",
      "model_name": "EdgeModel",
      "state": {
       "_model_module_version": "^1.2.2",
       "_view_module_version": "^1.2.2",
       "data": {
        "cited": 0,
        "datasource": [
         "pid"
        ],
        "id": "TP53-controls-expression-of-FDXR",
        "isdirected": true,
        "pubmed": [
         "12370809",
         "17409421"
        ],
        "source": "TP53",
        "target": "FDXR",
        "type": "controls-expression-of"
       }
      }
     },
     "1b197750599743e4b32b172a1be4e62b": {
      "model_module": "jupyter-cytoscape",
      "model_module_version": "^1.2.2",
      "model_name": "EdgeModel",
      "state": {
       "_model_module_version": "^1.2.2",
       "_view_module_version": "^1.2.2",
       "data": {
        "cited": 0,
        "datasource": [
         "PANTHER"
        ],
        "id": "PRKAB2-controls-state-change-of-TP63",
        "isdirected": true,
        "pubmed": [],
        "source": "PRKAB2",
        "target": "TP63",
        "type": "controls-state-change-of"
       }
      }
     },
     "1b1f99c993ac48a29156ff4d4a5d9c73": {
      "model_module": "jupyter-cytoscape",
      "model_module_version": "^1.2.2",
      "model_name": "EdgeModel",
      "state": {
       "_model_module_version": "^1.2.2",
       "_view_module_version": "^1.2.2",
       "data": {
        "cited": 0,
        "datasource": [
         "Reactome"
        ],
        "id": "TP53-controls-state-change-of-UBN1",
        "isdirected": true,
        "pubmed": [
         "15621527",
         "15655109",
         "16901784",
         "17158953",
         "17242198",
         "17242207",
         "23964094"
        ],
        "source": "TP53",
        "target": "UBN1",
        "type": "controls-state-change-of"
       }
      }
     },
     "1bb782b92ba0444da95999d19c3d94ee": {
      "model_module": "jupyter-cytoscape",
      "model_module_version": "^1.2.2",
      "model_name": "EdgeModel",
      "state": {
       "_model_module_version": "^1.2.2",
       "_view_module_version": "^1.2.2",
       "data": {
        "cited": 2784,
        "datasource": [
         "pid"
        ],
        "id": "TP53-controls-expression-of-MDM2",
        "isdirected": true,
        "pubmed": [
         "12138177",
         "17409421",
         "7651818",
         "8319905"
        ],
        "source": "TP53",
        "target": "MDM2",
        "type": "controls-expression-of"
       }
      }
     },
     "1cc94174c2ff46ca90bb84b725a32e1a": {
      "model_module": "jupyter-cytoscape",
      "model_module_version": "^1.2.2",
      "model_name": "EdgeModel",
      "state": {
       "_model_module_version": "^1.2.2",
       "_view_module_version": "^1.2.2",
       "data": {
        "cited": 101,
        "datasource": [
         "PANTHER"
        ],
        "id": "PML-controls-state-change-of-TP53",
        "isdirected": true,
        "pubmed": [],
        "source": "PML",
        "target": "TP53",
        "type": "controls-state-change-of"
       }
      }
     },
     "1cca11093edb4ae694580ec35125bae7": {
      "model_module": "jupyter-cytoscape",
      "model_module_version": "^1.2.2",
      "model_name": "EdgeModel",
      "state": {
       "_model_module_version": "^1.2.2",
       "_view_module_version": "^1.2.2",
       "data": {
        "cited": 0,
        "datasource": [
         "PANTHER"
        ],
        "id": "HMGB1-controls-state-change-of-TP63",
        "isdirected": true,
        "pubmed": [],
        "source": "HMGB1",
        "target": "TP63",
        "type": "controls-state-change-of"
       }
      }
     },
     "1d48e0a896b04c27b54af13b130dff39": {
      "model_module": "jupyter-cytoscape",
      "model_module_version": "^1.2.2",
      "model_name": "GraphModel",
      "state": {
       "_adj": {
        "0": {},
        "1": {},
        "10": {},
        "11": {},
        "12": {},
        "13": {},
        "14": {},
        "15": {},
        "16": {},
        "17": {},
        "18": {},
        "19": {},
        "2": {},
        "20": {},
        "21": {},
        "22": {},
        "23": {},
        "24": {},
        "25": {},
        "26": {},
        "27": {},
        "28": {},
        "29": {},
        "3": {},
        "4": {},
        "5": {},
        "6": {},
        "7": {},
        "8": {},
        "9": {},
        "parent-0": {},
        "parent-1": {},
        "parent-2": {}
       },
       "_model_module_version": "^1.2.2",
       "_view_module": "jupyter-cytoscape",
       "_view_module_version": "^1.2.2",
       "nodes": [
        "IPY_MODEL_ca7f12f30fb646ea8e8eae3bc8ba6716",
        "IPY_MODEL_0bf37c73d42e4037af63202816bed162",
        "IPY_MODEL_427362c0fbf348fb9b1f2a4c37728ec8",
        "IPY_MODEL_f3630b6bcf63477e960da5d1bae95d1a",
        "IPY_MODEL_ae71f36137d5480f8c7bc64b76f23c74",
        "IPY_MODEL_08e7c2ca1d2349859bf379cb9618d980",
        "IPY_MODEL_ebea7f467efb45799f48e61b09bb1478",
        "IPY_MODEL_61347598b761467aa45fa7f0232eff2d",
        "IPY_MODEL_30579a7f2d2d4be694b3176bb9152413",
        "IPY_MODEL_b26f34981539428cba3a25f81d451f80",
        "IPY_MODEL_cd85b243eb484ceb873cc1fb33327c58",
        "IPY_MODEL_40b57ea24dfe4cf18351328aa5674fd5",
        "IPY_MODEL_5956ecd5ba35474b8ee32a87bd78ee26",
        "IPY_MODEL_3188dbaa113943f19114d699abcf11f2",
        "IPY_MODEL_4c87b0bbddaf442f8fc8eaf311be7ecd",
        "IPY_MODEL_f1203635164848198b8e2a93de2594ee",
        "IPY_MODEL_ed443b8e0b6e48359f87f660d726320a",
        "IPY_MODEL_244e95f76bce4311bb704574dc0e081d",
        "IPY_MODEL_4b3d6892c7864093ba6aaf022b4b1bf0",
        "IPY_MODEL_0742c924b8c64dc6808f038bfd7acaa1",
        "IPY_MODEL_e5004488a58b4e0e882099119df42acd",
        "IPY_MODEL_3b9f6ff8628a4e37a7d4b1141a7cf405",
        "IPY_MODEL_d0565f60f7a640749ae02c3c7c5fe537",
        "IPY_MODEL_59df63d025e248ed8878ac3f51fcf0c9",
        "IPY_MODEL_d3384055d40e4e0c845c7baece816a8c",
        "IPY_MODEL_47cf1c15ad8c4c2487f3b8a62709dfe7",
        "IPY_MODEL_8d95f561032e423aa36703f5ff041356",
        "IPY_MODEL_e2e64cc902be479e90d1bddc7e2b687b",
        "IPY_MODEL_d8a0da5db0c742a9b38db2e5aefd6e62",
        "IPY_MODEL_88e03abc7fe445f1a34d66e7b5c2fdb0",
        "IPY_MODEL_22ea663efd724fdd848f90882ad628cc",
        "IPY_MODEL_d9352e3b70a54b3395d84b43b765e832",
        "IPY_MODEL_d9b79c25b6464ad7894dd27cef0fa334"
       ]
      }
     },
     "1de91f82e1f14b8e9c693516dd418465": {
      "model_module": "jupyter-cytoscape",
      "model_module_version": "^1.2.2",
      "model_name": "EdgeModel",
      "state": {
       "_model_module_version": "^1.2.2",
       "_view_module_version": "^1.2.2",
       "data": {
        "cited": 12,
        "datasource": [
         "PhosphoSite"
        ],
        "id": "PRKCA-controls-state-change-of-TP53",
        "isdirected": true,
        "pubmed": [
         "10706102",
         "10733583",
         "11007451",
         "11423984",
         "11585729",
         "12080066",
         "14640983",
         "14744935",
         "15659650",
         "16227590",
         "17898864",
         "18812399",
         "19819244",
         "19933256",
         "9254608",
         "9315650",
         "9571186",
         "9620776",
         "9739174"
        ],
        "source": "PRKCA",
        "target": "TP53",
        "type": "controls-state-change-of"
       }
      }
     },
     "1e4ff630190147f3a65b4c5d172a5dd6": {
      "model_module": "jupyter-cytoscape",
      "model_module_version": "^1.2.2",
      "model_name": "NodeModel",
      "state": {
       "_model_module_version": "^1.2.2",
       "_view_module_version": "^1.2.2",
       "data": {
        "altered": 0,
        "cited": 4784,
        "id": "CDKN1A",
        "importance": 3,
        "isseed": false,
        "isvalid": true,
        "rank": 9,
        "uniprot": "P38936",
        "uniprotdesc": "May be the important intermediate by which p53/TP53mediates its role as an inhibitor of cellular proliferation inresponse to DNA damage. Binds to and inhibits cyclin-dependentkinase activity, preventing phosphorylation of critical cyclin-dependent kinase substrates and blocking cell cycle progression.Functions in the nuclear localization and assembly of cyclin D-CDK4 complex and promotes its kinase activity towards RB1. Athigher stoichiometric ratios, inhibits the kinase activity of thecyclin D-CDK4 complex. "
       },
       "grabbable": true,
       "grabbed": false,
       "position": {
        "x": 759.6578000392296,
        "y": 279.17001938497555
       }
      }
     },
     "1e68aeba41b54b899f2150456fc6438b": {
      "model_module": "jupyter-cytoscape",
      "model_module_version": "^1.2.2",
      "model_name": "NodeModel",
      "state": {
       "_model_module_version": "^1.2.2",
       "_view_module_version": "^1.2.2",
       "data": {
        "altered": 0,
        "cited": 198,
        "id": "GADD45A",
        "importance": 3,
        "isseed": false,
        "isvalid": true,
        "rank": 98,
        "uniprot": "P24522",
        "uniprotdesc": "In T-cells, functions as a regulator of p38 MAPKs byinhibiting p88 phosphorylation and activity (By similarity). Mightaffect PCNA interaction with some CDK (cell division proteinkinase) complexes; stimulates DNA excision repair in vitro andinhibits entry of cells into S phase. "
       },
       "grabbable": true,
       "grabbed": false,
       "position": {
        "x": 673.6771531026915,
        "y": 118.72208934338829
       }
      }
     },
     "1e84b6f31b484b66a915b07f52cc567b": {
      "model_module": "jupyter-cytoscape",
      "model_module_version": "^1.2.2",
      "model_name": "EdgeModel",
      "state": {
       "_model_module_version": "^1.2.2",
       "_view_module_version": "^1.2.2",
       "data": {
        "cited": 26,
        "datasource": [
         "PhosphoSite",
         "pid"
        ],
        "id": "CDK2-controls-state-change-of-TP53",
        "isdirected": true,
        "pubmed": [
         "10581258",
         "10644693",
         "10656795",
         "11078726",
         "11283254",
         "11300786",
         "11687964",
         "11875057",
         "12021785",
         "12397361",
         "12397362",
         "12860987",
         "1406679",
         "14640983",
         "14702041",
         "14744935",
         "15302935",
         "15619621",
         "16037820",
         "16227590",
         "16552184",
         "16674116",
         "16784539",
         "17287340",
         "17906639",
         "17942552",
         "18521083",
         "18769132",
         "18847512",
         "19413330",
         "19574224",
         "19664995",
         "20363803",
         "20562916",
         "20661218",
         "20686112",
         "20808790",
         "20815410",
         "21659604",
         "21983960",
         "22011578",
         "22496350",
         "22547687",
         "23201157",
         "23312004",
         "25159151",
         "7596441",
         "8327466",
         "9254608"
        ],
        "source": "CDK2",
        "target": "TP53",
        "type": "controls-state-change-of"
       }
      }
     },
     "1ebf0509aa9d47eab6538ccf62858ac4": {
      "model_module": "jupyter-cytoscape",
      "model_module_version": "^1.2.2",
      "model_name": "EdgeModel",
      "state": {
       "_model_module_version": "^1.2.2",
       "_view_module_version": "^1.2.2",
       "data": {
        "cited": 39,
        "datasource": [
         "PANTHER"
        ],
        "id": "SUMO1-controls-state-change-of-TP53",
        "isdirected": true,
        "pubmed": [],
        "source": "SUMO1",
        "target": "TP53",
        "type": "controls-state-change-of"
       }
      }
     },
     "1fb515f4237f49d88700ac6a579e1ade": {
      "model_module": "jupyter-cytoscape",
      "model_module_version": "^1.2.2",
      "model_name": "NodeModel",
      "state": {
       "_model_module_version": "^1.2.2",
       "_view_module_version": "^1.2.2",
       "data": {
        "altered": 0,
        "cited": 28,
        "id": "MAX",
        "importance": 3,
        "isseed": false,
        "isvalid": true,
        "rank": 158,
        "uniprot": "P61244",
        "uniprotdesc": "Transcription regulator. Forms a sequence-specific DNA-binding protein complex with MYC or MAD which recognizes the coresequence 5'-CAC[GA]TG-3'. The MYC:MAX complex is a transcriptionalactivator, whereas the MAD:MAX complex is a repressor. May represstranscription via the recruitment of a chromatin remodelingcomplex containing H3 'Lys-9' histone methyltransferase activity."
       },
       "grabbable": true,
       "grabbed": false,
       "position": {
        "x": 559.5236479445442,
        "y": -65.41615471517447
       }
      }
     },
     "1fe6499f8841496f8199a6bbdd5e8df5": {
      "model_module": "jupyter-cytoscape",
      "model_module_version": "^1.2.2",
      "model_name": "NodeModel",
      "state": {
       "_model_module_version": "^1.2.2",
       "_view_module_version": "^1.2.2",
       "data": {
        "altered": 0,
        "cited": 1171,
        "id": "TP63",
        "importance": 3,
        "isseed": false,
        "isvalid": true,
        "rank": 37,
        "uniprot": "Q9H3D4",
        "uniprotdesc": "Acts as a sequence specific DNA binding transcriptionalactivator or repressor. The isoforms contain a varying set oftransactivation and auto-regulating transactivation inhibitingdomains thus showing an isoform specific activity. Isoform 2activates RIPK4 transcription. May be required in conjunction withTP73/p73 for initiation of p53/TP53 dependent apoptosis inresponse to genotoxic insults and the presence of activatedoncogenes. Involved in Notch signaling by probably inducing JAG1and JAG2. Plays a role in the regulation of epithelialmorphogenesis. The ratio of DeltaN-type and TA*-type isoforms maygovern the maintenance of epithelial stem cell compartments andregulate the initiation of epithelial stratification from theundifferentiated embryonal ectoderm. Required for limb formationfrom the apical ectodermal ridge. Activates transcription of thep21 promoter. "
       },
       "grabbable": true,
       "grabbed": false,
       "position": {
        "x": 717.0483332959519,
        "y": 194.73427992193896
       }
      }
     },
     "2099cef6c821490e94a37920f6d794b5": {
      "model_module": "jupyter-cytoscape",
      "model_module_version": "^1.2.2",
      "model_name": "EdgeModel",
      "state": {
       "_model_module_version": "^1.2.2",
       "_view_module_version": "^1.2.2",
       "data": {
        "cited": 0,
        "datasource": [
         "pid"
        ],
        "id": "SIRT1-controls-expression-of-CDKN1A",
        "isdirected": true,
        "pubmed": [],
        "source": "SIRT1",
        "target": "CDKN1A",
        "type": "controls-expression-of"
       }
      }
     },
     "21208f1e08c54e2c90a02dd730ead199": {
      "model_module": "jupyter-cytoscape",
      "model_module_version": "^1.2.2",
      "model_name": "EdgeModel",
      "state": {
       "_model_module_version": "^1.2.2",
       "_view_module_version": "^1.2.2",
       "data": {
        "cited": 0,
        "datasource": [
         "PANTHER"
        ],
        "id": "MAPK11-controls-state-change-of-TP63",
        "isdirected": true,
        "pubmed": [],
        "source": "MAPK11",
        "target": "TP63",
        "type": "controls-state-change-of"
       }
      }
     },
     "217d8a8613f143c3aec0c2eb6d02582b": {
      "model_module": "jupyter-cytoscape",
      "model_module_version": "^1.2.2",
      "model_name": "EdgeModel",
      "state": {
       "_model_module_version": "^1.2.2",
       "_view_module_version": "^1.2.2",
       "data": {
        "cited": 4,
        "datasource": [
         "pid"
        ],
        "id": "FBXO11-controls-state-change-of-TP53",
        "isdirected": true,
        "pubmed": [
         "17098746"
        ],
        "source": "FBXO11",
        "target": "TP53",
        "type": "controls-state-change-of"
       }
      }
     },
     "220b003e004f4ef5a2f9b3cc24055b66": {
      "model_module": "jupyter-cytoscape",
      "model_module_version": "^1.2.2",
      "model_name": "GraphModel",
      "state": {
       "_adj": {
        "APAF1": {},
        "APC": {},
        "ASF1A": {},
        "ATM": {},
        "ATR": {},
        "BAX": {},
        "BTG2": {},
        "CABIN1": {},
        "CARM1": {},
        "CASP1": {},
        "CASP10": {},
        "CASP6": {},
        "CCNB1": {},
        "CD82": {},
        "CDK1": {},
        "CDK2": {},
        "CDK5": {},
        "CDK7": {},
        "CDK9": {},
        "CDKN1A": {},
        "CHEK2": {},
        "COL18A1": {},
        "CREBBP": {},
        "CTSD": {},
        "DAPK1": {},
        "DAPK3": {},
        "DDB2": {},
        "DYRK1A": {},
        "E4F1": {},
        "EP300": {},
        "FAS": {},
        "FBXO11": {},
        "FDXR": {},
        "FOS": {},
        "GADD45A": {},
        "GDF15": {},
        "GPX1": {},
        "H1F0": {},
        "HGF": {},
        "HIC1": {},
        "HIPK2": {},
        "HIRA": {},
        "HIST1H1A": {},
        "HIST1H1B": {},
        "HIST1H1C": {},
        "HIST1H1D": {},
        "HIST1H1E": {},
        "HMGA1": {},
        "HMGA2": {},
        "HMGB1": {},
        "HTT": {},
        "IGBP1": {},
        "IRF5": {},
        "KAT2B": {},
        "KAT8": {},
        "MAPK11": {},
        "MAPK12": {},
        "MAPK13": {},
        "MAPK14": {},
        "MAX": {},
        "MDM2": {},
        "MSH2": {},
        "NEDD8": {},
        "NGFR": {},
        "PCBP4": {},
        "PLK3": {},
        "PML": {},
        "PPM1J": {},
        "PPP1R13L": {},
        "PPP2CA": {},
        "PPP2CB": {},
        "PRKAA1": {},
        "PRKAA2": {},
        "PRKAB1": {},
        "PRKAB2": {},
        "PRKAG1": {},
        "PRKCA": {},
        "PRKCD": {},
        "PRKDC": {},
        "PRMT1": {},
        "PRMT5": {},
        "PYCARD": {},
        "RB1": {},
        "RFWD2": {},
        "RNF144B": {},
        "SERPINE1": {},
        "SETD7": {},
        "SETD8": {},
        "SIRT1": {},
        "SMYD2": {},
        "SP1": {},
        "SUMO1": {},
        "TAP1": {},
        "TP53": {},
        "TP53-controls-state-change-of-H1F0": {},
        "TP53I3": {},
        "TP63": {},
        "TP73": {},
        "TRIAP1": {},
        "TYRP1": {},
        "UBN1": {},
        "WRN": {}
       },
       "_model_module_version": "^1.2.2",
       "_view_module": "jupyter-cytoscape",
       "_view_module_version": "^1.2.2",
       "edges": [
        "IPY_MODEL_d168a4d731a44a4b8aa5aee1c519cf88",
        "IPY_MODEL_7f5aae8e620a47758ac1f39b96706e49",
        "IPY_MODEL_6b3a7064d7524a49a3ee862faa337f69",
        "IPY_MODEL_e7c83960a1eb4dacac3df4a995d17d36",
        "IPY_MODEL_91c09f6f9e7f4192b3130c7978f11fc4",
        "IPY_MODEL_b0883d5604994bbcbb02ba7bfd726f00",
        "IPY_MODEL_6c331623363f45efa475543d26aef4fc",
        "IPY_MODEL_e7ab105c18674bed936d52e548c75cca",
        "IPY_MODEL_eb9164c785774c0db7ca87dd807f8793",
        "IPY_MODEL_7c3441cf508043058dac0580fc23fb6f",
        "IPY_MODEL_525053e2e29b4b979b3133063a94e99b",
        "IPY_MODEL_b415c93e511247608db9d154d88319bb",
        "IPY_MODEL_b862742950174d638517f58d934e0e29",
        "IPY_MODEL_c0dd9a2ec5a6498787a16ed48de2fcf8",
        "IPY_MODEL_22c9199b19644d5ba88b95760b80c816",
        "IPY_MODEL_93bfa2ec7a644798928a1e7db8d34f24",
        "IPY_MODEL_ea375593c23f47cab8435514458cba02",
        "IPY_MODEL_12d44f8ed3684604a6d8beb1fba78c1b",
        "IPY_MODEL_0e50fbbf5c094b38813384c1251353b9",
        "IPY_MODEL_dc1eeb5260264ff49a110af0d3d1019c",
        "IPY_MODEL_15cc99b492a7467b8e0092f723ab4bce",
        "IPY_MODEL_98974774b4ca44eab5e057173eb87d73",
        "IPY_MODEL_b598dc6f175646479194b7f91248f324",
        "IPY_MODEL_a534499306774e3d91cb3a83fd4d5902",
        "IPY_MODEL_102f3087963440d8b8813668f70939d8",
        "IPY_MODEL_656a2de6ef0f42a396462f4f1799ecdb",
        "IPY_MODEL_4267c571bcde47fb9d6b9a474a03f4f5",
        "IPY_MODEL_deb6533e52bd44e6bde5e4852b99eb4e",
        "IPY_MODEL_499f4228cd2a488882405cddc9fd406d",
        "IPY_MODEL_42077dd326fc4968ad61a18414bfe176",
        "IPY_MODEL_f7dc208a87e14296940df0be722d80ce",
        "IPY_MODEL_f5abdd5485df4dca83d8f40b226880d9",
        "IPY_MODEL_56dc1499336846be97f98703d0f0182b",
        "IPY_MODEL_d88b1eceed224714a4dff890612cb816",
        "IPY_MODEL_8c9b030724324249976b6264cfbb1aec",
        "IPY_MODEL_5b41485667494a2d81c35ae800684d9a",
        "IPY_MODEL_d43d684e135a4597a8f53f476140fc4a",
        "IPY_MODEL_701e093dd52f455db798d431739c7053",
        "IPY_MODEL_59be392e20364e38a02fb0d6f22e5414",
        "IPY_MODEL_87b0516a6e304544b55d14268b99b9c9",
        "IPY_MODEL_a8736d3af984467c9f9e496bc077cfc1",
        "IPY_MODEL_2099cef6c821490e94a37920f6d794b5",
        "IPY_MODEL_42d349115655445caa7ddbbc923d462a",
        "IPY_MODEL_6560ff3e3aab4da1b554853dc253e2fa",
        "IPY_MODEL_c5a22b95270f4aac8426ccff9785becc",
        "IPY_MODEL_4a4b6636d1854f19ae29ac947542cc52",
        "IPY_MODEL_5181ce2ad24d4cb49670df51d689bc9d",
        "IPY_MODEL_30145913ec2547b5bedb55305b35e9d6",
        "IPY_MODEL_4dde9f1ebefd40f9b8b4741981e68149",
        "IPY_MODEL_1cca11093edb4ae694580ec35125bae7",
        "IPY_MODEL_0ae493d51d3f42bfb03872a961713272",
        "IPY_MODEL_33fc4b90b6ba4015b093274163f20678",
        "IPY_MODEL_923c51c1c7a8452f93356e102f5ec555",
        "IPY_MODEL_43fdae0e55bb4e859197d2e11ffa5139",
        "IPY_MODEL_d456f10895354218a2f80b59b5456474",
        "IPY_MODEL_b36b2662fc6c4d918e2f94c98841d589",
        "IPY_MODEL_79253960f04548988774b38bc732dd74",
        "IPY_MODEL_b7107691758e4c308d6371e9e59050b0",
        "IPY_MODEL_c12d5f2a5a194ed7b3214fe35f54dbd9",
        "IPY_MODEL_3e28200928704bc29666056d42ebcab2",
        "IPY_MODEL_c50509f2f57d49958bc80de9a35b6261",
        "IPY_MODEL_f7af7129ae624c81b85b54aa3417a514",
        "IPY_MODEL_12eff14aa4fd47c4a2bd40ff1ca875f0",
        "IPY_MODEL_6a1499eaefe2478a9c38172926eab645",
        "IPY_MODEL_8eedcaf88ca84f078d6aa6b12c220502",
        "IPY_MODEL_1b1f99c993ac48a29156ff4d4a5d9c73",
        "IPY_MODEL_023f5f8afcb64f74b8d061a748a9caa9",
        "IPY_MODEL_62a77a46009641fabe4ea6774098887f",
        "IPY_MODEL_9c3c86c7ad6242bf86161597dda0cb1a",
        "IPY_MODEL_9dd6ae9b6c004814ac9a0fbd33bc1be7",
        "IPY_MODEL_f786925959704863a70ff2b2ca177afc",
        "IPY_MODEL_8ed4d34d56b1465fae7da5a81b0b8ea5",
        "IPY_MODEL_343ad944f9144c458909f9ec145b6ff2",
        "IPY_MODEL_e1dd629eb973470780e4470a52e5d708",
        "IPY_MODEL_678d12c3c0d34b1b959f83e44f570ccb",
        "IPY_MODEL_2fd756c06ac44c208feaa068e185aef2",
        "IPY_MODEL_6ebb01cdd8ea4771ba1ab4c062f61e36",
        "IPY_MODEL_f5f7d0d40ced4ebb97b4dc99eac4836f",
        "IPY_MODEL_3c174ab280bf47869b027a2bef3d66fe",
        "IPY_MODEL_5ac8c05d059f4b49aadaa6f414ade622",
        "IPY_MODEL_63307492fda74010b2734821cc6ee1d3",
        "IPY_MODEL_dd9056376ead475bbefe1d9502974ef4",
        "IPY_MODEL_f039da7ddf67439095c425edafdcdd3f",
        "IPY_MODEL_5f7ed551954347a28142d68432c37dd4",
        "IPY_MODEL_bca4259797ba44e08c8a75357c631219",
        "IPY_MODEL_612fc84c8a984a498ca4f0a6d6ce4b7c",
        "IPY_MODEL_0dab593f465b4cd2b5456224fec62c0f",
        "IPY_MODEL_b3c3d596b0814993b8b6820a89c5d676",
        "IPY_MODEL_6307b68549494948849e84a1c6e1d9bc",
        "IPY_MODEL_c17dde82d572488f954c5620615dec6e",
        "IPY_MODEL_931b583dda38485693504cf0b406bbbe",
        "IPY_MODEL_f856caab329d4bbd8bbb797954c78d3f",
        "IPY_MODEL_5a0d267526f74a5fbb5aa74d1a12b783",
        "IPY_MODEL_1afcb9ea28814301877289e536c8474c",
        "IPY_MODEL_887cdaa5859c46ad899f987e56df7a65",
        "IPY_MODEL_2c8500e549cb47dd99608b4ac6477f74",
        "IPY_MODEL_97d50e3fffa845dbb1cfb8f8c9bdf92b",
        "IPY_MODEL_45ee87a4542e468ab1328a7ea1a4047d",
        "IPY_MODEL_5fca866f36b9456597802d29f4dd83bc",
        "IPY_MODEL_b30306e9ca9641979896cb0a5e995491",
        "IPY_MODEL_c48f381d8c514406af6ed0d967ad2212",
        "IPY_MODEL_91cee38a2beb45278ee6ccbf7f17e426",
        "IPY_MODEL_afe944d46cc94c1fb96c8795b5a7813d",
        "IPY_MODEL_a58c222f67a5491e96d5c28446c6087b",
        "IPY_MODEL_b4d59a5e3253470382bfe914ded60a96",
        "IPY_MODEL_5239d05f818b4ec9a417f49640dc281e",
        "IPY_MODEL_3014becb469e4c4e9814bd37d0c8dce1",
        "IPY_MODEL_50147cfc9607433db7c8b0460246bd5e",
        "IPY_MODEL_47ed116eb6e44921babdf1ead85783a9",
        "IPY_MODEL_4d9477317da84132a664573b367e502b",
        "IPY_MODEL_d025241ba5444012ba14f64f67b3ff07",
        "IPY_MODEL_2eda0a97c83c4306a1ceffc0ed181e00",
        "IPY_MODEL_4db19eaab98c447db3c8555c7215040a",
        "IPY_MODEL_559cb1b572cd437a898979fe3ab80d39",
        "IPY_MODEL_93192f82fb694a40aded8dd56c2c910f",
        "IPY_MODEL_8330b73c344b44ccba5b8797a4fe08e6",
        "IPY_MODEL_c44884710ffd4005a812c10f1ae4097b",
        "IPY_MODEL_4044756b92a64c68bb1aa97496715400",
        "IPY_MODEL_04aa49ea45144b8f89127faf30d35631",
        "IPY_MODEL_e0e73fd2107143908be7034b5a528070",
        "IPY_MODEL_a67a4ec51f504460ab6283d1e30400f9",
        "IPY_MODEL_24ffcb2d31194e66b1d5d71187bd7cbd",
        "IPY_MODEL_c4dbbf2ef9db4bd4871e338f4b1efe22",
        "IPY_MODEL_6e66f130cbed4ec2b3869963392eeac3",
        "IPY_MODEL_6216e246676a4c15a219f04d439acde5",
        "IPY_MODEL_5805b68f233741ddb9261bfce87fa90c",
        "IPY_MODEL_bfb59e1dcffd49eb9394627e368c4e2b",
        "IPY_MODEL_ceb320e0eecb429ba61ca0b581afe780",
        "IPY_MODEL_3470fef4d72c456092b736d0bad7ab25",
        "IPY_MODEL_f57c02f232794e18a56ed04f5e7b7e49",
        "IPY_MODEL_d292837c79ea435db1d4ba41dac0116c",
        "IPY_MODEL_02e896684ea6493a91d2b3c5ac0bbf86",
        "IPY_MODEL_12bc9eff98f7468a8053e656ddc914e7",
        "IPY_MODEL_1ebf0509aa9d47eab6538ccf62858ac4",
        "IPY_MODEL_64064eda8df44d8ca71048b06dbc1c91",
        "IPY_MODEL_126cac575176460e87ca18092062169f",
        "IPY_MODEL_3e21ec9ade4442fd8adb022d20e7ad3b",
        "IPY_MODEL_9be7b3d248784f71866ce331e0313500",
        "IPY_MODEL_5dd031649c154a9bb9e464aa4fbe905a",
        "IPY_MODEL_925fd42469f6443f93b8a39a6bd9cd88",
        "IPY_MODEL_d03931d37d524c5f9e745b2c280ad103",
        "IPY_MODEL_afe6c2791db1496aa0617c1b67217ca4",
        "IPY_MODEL_ecce260a261c4302842bb7359a5b3665",
        "IPY_MODEL_faaad0a72623473cbb9d795f9129a93f",
        "IPY_MODEL_077102a84ec24f83ad784a2877d74a82",
        "IPY_MODEL_a8f14097718d4f49866183f08e9c2a86",
        "IPY_MODEL_da60944fb3cf4554a12c78688d3b74da"
       ],
       "nodes": [
        "IPY_MODEL_623d138d326c46c08374c35d38d96ffb",
        "IPY_MODEL_5bdeccf0c1064d3cb83ffe09308a5d78",
        "IPY_MODEL_e07142ea4afe40d6886e6387191a299e",
        "IPY_MODEL_5e6f10bbbb7c4740a005209ac09d7ef5",
        "IPY_MODEL_3ddb3eb69be2415a9edab813239b8d2e",
        "IPY_MODEL_a837a95ff23a4a959cdd3a2c5420a8e0",
        "IPY_MODEL_0a97ff7a0819406cb892fcfca0227bea",
        "IPY_MODEL_ab70871719844234977e41719eaef650",
        "IPY_MODEL_7aaf578069cd42ec8908c1af3bdafc04",
        "IPY_MODEL_e90e08f645834609b87772fb5186ae78",
        "IPY_MODEL_3bc15b413fc94276ba2340d9df81b5d3",
        "IPY_MODEL_3f2963c52c9149a38917f9ce06977b7b",
        "IPY_MODEL_1fe6499f8841496f8199a6bbdd5e8df5",
        "IPY_MODEL_b165ebb4d7fe40c58eef7077338ef78c",
        "IPY_MODEL_3bb78add8adb46b6bdfcaf06c1c939e7",
        "IPY_MODEL_acd2e22ff2374ef8948e987d89d104c7",
        "IPY_MODEL_acde6979dae64e5293050c786e59c469",
        "IPY_MODEL_c1897ee903234b98bcf2bea6e1db34e1",
        "IPY_MODEL_3ab8f86474a043898707aeaa42a30ff9",
        "IPY_MODEL_3a31ecf6654b42beabe008753f594e5c",
        "IPY_MODEL_29c84e6bcf62464790de19de473a37ee",
        "IPY_MODEL_9ddf9c9aa5d34c9f92931765a462b34c",
        "IPY_MODEL_584c85d578cb46e28f520a713d9e4aec",
        "IPY_MODEL_cd079284548c4c6482c0513bab1791d5",
        "IPY_MODEL_492cb1fdf13c407686f43870369b8185",
        "IPY_MODEL_099d68228e834f4899751d60a9fe7f7b",
        "IPY_MODEL_2d55273d1fbd4861a737435756f8d318",
        "IPY_MODEL_ac34ddda3cf246c49e58532bbe7df60f",
        "IPY_MODEL_50b1fa22bf644fb3af82a3b9b437e612",
        "IPY_MODEL_fd0b115f5bcd405a8b1ce36ec78a8d87",
        "IPY_MODEL_2fbfd41ee79d4ac4855d37928e58d458",
        "IPY_MODEL_3d8dc212ce454c85a45f3eb7c5ca90c7",
        "IPY_MODEL_de72a0fb39fb4ad6affbcc026affcb4b",
        "IPY_MODEL_d1c49460f58d4ca2b5b9633c5e6e2a17",
        "IPY_MODEL_187339b251ac4f73abd7042abfda9e58",
        "IPY_MODEL_13c6136e1aae416eb949c789ed93fedc",
        "IPY_MODEL_3dcebfd1c4b447d68ac006d03657f4e6",
        "IPY_MODEL_70de7be54a0544939738f43fede1b149",
        "IPY_MODEL_ea4d3aae65c54d37b2d027a17fbaa4e1",
        "IPY_MODEL_82baf0fe41ee4e8eac7d077eb06178f9",
        "IPY_MODEL_193147c47c8346879ad7e3763b8afcba",
        "IPY_MODEL_55758416669b40a08ab4601f1b966039",
        "IPY_MODEL_09521ef90cd64eb0b43168aa41fb60c6",
        "IPY_MODEL_297fa40115eb4a7cba8c0639ed901a40",
        "IPY_MODEL_ac85e7cbffdf429a8f393e7d44a2e2cf",
        "IPY_MODEL_1e4ff630190147f3a65b4c5d172a5dd6",
        "IPY_MODEL_7e1a2f2364ff460786373c1197a10f49",
        "IPY_MODEL_093ded20691a48a8b2ad613702f843f2",
        "IPY_MODEL_345dcb22e40841a9bc7ebab0857daf9b",
        "IPY_MODEL_0c354074f91c439fa4bb21a533b28c18",
        "IPY_MODEL_1fb515f4237f49d88700ac6a579e1ade",
        "IPY_MODEL_877fd3bbe69f4b7a9cf1670ecd4facb1",
        "IPY_MODEL_aedc70596e414e34a558680333d06f58",
        "IPY_MODEL_820e4c5877e64e79b571d0c303397ffd",
        "IPY_MODEL_c4204693f32a478ea62d9856ebbd0647",
        "IPY_MODEL_c60334f4203c497686c62fac921c70f8",
        "IPY_MODEL_4af004b1be474587aface76cb0920a3c",
        "IPY_MODEL_adb549136d8847239f13f1dbf46a95c6",
        "IPY_MODEL_6d945d0ab2814aa5a7048e34651f8676",
        "IPY_MODEL_03d9caedfda14362a7e4e40d8e75692e",
        "IPY_MODEL_a52cb748ecfb48babb667f1aea9d645c",
        "IPY_MODEL_c32ae0fc0d904400ab38179c761a2d82",
        "IPY_MODEL_6656c1a3f2df4b94947c876c28ec8c09",
        "IPY_MODEL_b139a5aef38e44d5b33efd83f5cef2f3",
        "IPY_MODEL_c36b074485644cc682bf28057f2bc7ff",
        "IPY_MODEL_e56dc547815a4e59984d465534be4f44",
        "IPY_MODEL_bfabfbae5a7a4636bf7adbfeb9edb142",
        "IPY_MODEL_2827db16a0f04fcabbb13360308230be",
        "IPY_MODEL_8bad666b314142a0901b5d0aa1510ce6",
        "IPY_MODEL_bb39b41fe3b84403be7fa991009630ee",
        "IPY_MODEL_ef3c129c6f44486585c99ba0057660a0",
        "IPY_MODEL_4ae0e8aded234ae3b1362046417f64f6",
        "IPY_MODEL_003b115bfaf14e5a8fcd77366075d54a",
        "IPY_MODEL_46fc6e3b3d3f435d802c3ffdc04e72c2",
        "IPY_MODEL_d9f2c2d4a5e345a5b91f79246ffc31b8",
        "IPY_MODEL_25aa484635a1492b9f94764d026a48e1",
        "IPY_MODEL_120650104cec4679bc0880ed5c5f0b9d",
        "IPY_MODEL_353c4084ce49485d9afdb33b71df18d1",
        "IPY_MODEL_d9ff15d39b3f4024b2781c8d0324c1f8",
        "IPY_MODEL_34485aaa9b2046c591663652a165e2aa",
        "IPY_MODEL_54c85922998044b6ac5962af7cc82fcb",
        "IPY_MODEL_d0c51ef2797f4dc981830e8626e72960",
        "IPY_MODEL_03b6496d71a148fdbd979dd6ecfee0fe",
        "IPY_MODEL_48fd03ee5d8d466ca803590055cc0bc9",
        "IPY_MODEL_45546907865c48f39dc8cde0d87946bf",
        "IPY_MODEL_22e0634430f6470d81a313e5656d57f1",
        "IPY_MODEL_6df9d8052eb645f9875ef047374f834e",
        "IPY_MODEL_d32e1abe4dc84d3aa1c5d02ae542b4e8",
        "IPY_MODEL_742d807077a14257b33685e065cd0e46",
        "IPY_MODEL_01d146c419c34f39b0d85e7682c1d5d8",
        "IPY_MODEL_4d6b38aa120a47efaafdc90b2fefdb4f",
        "IPY_MODEL_9e86329290274d9f823f5fd2d9e069ce",
        "IPY_MODEL_5dcd8153e5804678bf995a5d5a39f0d4",
        "IPY_MODEL_9703a31df4764156b3dd188970fb8d8a",
        "IPY_MODEL_2c09187e29344ff7918afdb89f47b36d",
        "IPY_MODEL_dadbe989b5844a6eba901c35b4b5a6ad",
        "IPY_MODEL_c72d123b7e7b49b8be02617364291d67",
        "IPY_MODEL_f88b38f88d394ba49927f7b571be7ca3",
        "IPY_MODEL_416dd8e7bf964f2989c7befbf92297a3",
        "IPY_MODEL_b4270ba3d5de457397027addeb9f41e2",
        "IPY_MODEL_f94e6baf225943039695b0575f82ab8d",
        "IPY_MODEL_aeb729c6959b4d95880f9f0a95f66035"
       ]
      }
     },
     "22c9199b19644d5ba88b95760b80c816": {
      "model_module": "jupyter-cytoscape",
      "model_module_version": "^1.2.2",
      "model_name": "EdgeModel",
      "state": {
       "_model_module_version": "^1.2.2",
       "_view_module_version": "^1.2.2",
       "data": {
        "cited": 0,
        "datasource": [
         "PANTHER"
        ],
        "id": "ATR-controls-state-change-of-TP63",
        "isdirected": true,
        "pubmed": [],
        "source": "ATR",
        "target": "TP63",
        "type": "controls-state-change-of"
       }
      }
     },
     "22d78d7709cf490181a4c24b88c03828": {
      "model_module": "jupyter-cytoscape",
      "model_module_version": "^1.2.2",
      "model_name": "EdgeModel",
      "state": {
       "_model_module_version": "^1.2.2",
       "_view_module_version": "^1.2.2",
       "data": {
        "cited": 23,
        "datasource": [
         "PhosphoSite"
        ],
        "id": "CDK5-controls-state-change-of-TP53",
        "isdirected": true,
        "pubmed": [
         "10202145",
         "10570149",
         "10581258",
         "10606744",
         "10608806",
         "10611322",
         "10656682",
         "10656795",
         "10673500",
         "10673501",
         "10706102",
         "10710310",
         "10713094",
         "10723129",
         "10733583",
         "10734067",
         "10744722",
         "10958792",
         "11030628",
         "11096068",
         "11101524",
         "11121242",
         "11175334",
         "11244509",
         "11258706",
         "11300786",
         "11313957",
         "11314044",
         "11397945",
         "11423984",
         "11447225",
         "11495913",
         "11526498",
         "11546806",
         "11551930",
         "11583595",
         "11706017",
         "11707453",
         "11709713",
         "11711532",
         "11740489",
         "11780126",
         "11850826",
         "11861384",
         "11865061",
         "11875057",
         "11896572",
         "11896587",
         "12021785",
         "12049739",
         "12071847",
         "12080066",
         "12082529",
         "12091386",
         "12093737",
         "12151394",
         "12324477",
         "12384533",
         "12393500",
         "12397361",
         "12397362",
         "12427754",
         "12511424",
         "12518062",
         "12519769",
         "12519780",
         "12531896",
         "12588868",
         "12606585",
         "12637545",
         "12676607",
         "12702572",
         "12756247",
         "12771937",
         "12776195",
         "12810724",
         "12860987",
         "12861053",
         "12890678",
         "12902982",
         "12907596",
         "12939400",
         "12955074",
         "12959929",
         "12969974",
         "1406679",
         "14517211",
         "14527925",
         "14612532",
         "14665630",
         "14712210",
         "14749479",
         "14871840",
         "14871926",
         "14968111",
         "15048074",
         "15064747",
         "15077171",
         "15078887",
         "15082766",
         "15140942",
         "15155458",
         "15159397",
         "15178764",
         "15181149",
         "15226429",
         "15254178",
         "15258567",
         "15269203",
         "15310764",
         "15322239",
         "15355354",
         "15361830",
         "15381073",
         "15456784",
         "15471885",
         "15489221",
         "15489892",
         "15526030",
         "15533933",
         "15542844",
         "15580310",
         "15619621",
         "15629715",
         "15657359",
         "15665826",
         "15671037",
         "15706352",
         "15750624",
         "15758953",
         "15775976",
         "15782130",
         "15792956",
         "15794754",
         "15843377",
         "15866171",
         "15870257",
         "15897882",
         "15963507",
         "16219768",
         "16223874",
         "16247456",
         "16288207",
         "16293623",
         "16377624",
         "16397295",
         "16436515",
         "16478990",
         "16489034",
         "16501611",
         "16552184",
         "16601678",
         "16632641",
         "16636671",
         "16648554",
         "16651424",
         "16714289",
         "16717128",
         "16731759",
         "16738336",
         "16774943",
         "16783362",
         "16790523",
         "16793543",
         "16818505",
         "16818520",
         "16891474",
         "16916644",
         "16949371",
         "17045821",
         "17105820",
         "17107963",
         "17108107",
         "17121812",
         "17135248",
         "17210684",
         "17234789",
         "17245430",
         "17283137",
         "17297446",
         "17297454",
         "17332358",
         "17339337",
         "17349958",
         "17349959",
         "17353187",
         "17363488",
         "17371838",
         "17380123",
         "17456577",
         "17486112",
         "17535811",
         "17553757",
         "17567906",
         "17591690",
         "17596534",
         "17609585",
         "17616578",
         "17668048",
         "17684018",
         "17698850",
         "17712528",
         "17855337",
         "17891183",
         "17906639",
         "17936559",
         "17942552",
         "17967874",
         "17975552",
         "17976513",
         "17977830",
         "18032786",
         "18045533",
         "18056442",
         "18056705",
         "18097051",
         "18159951",
         "18160537",
         "18216278",
         "18246126",
         "18272544",
         "18289945",
         "18332866",
         "18339864",
         "18345031",
         "18381438",
         "18406507",
         "18431490",
         "18449195",
         "18490454",
         "18536714",
         "18560558",
         "18593910",
         "18604166",
         "18614045",
         "18669630",
         "18715874",
         "18718914",
         "18765533",
         "18769132",
         "18778462",
         "18785202",
         "18794113",
         "18818083",
         "18847491",
         "18985806",
         "18995830",
         "19085961",
         "19203586",
         "19251701",
         "19266268",
         "19303885",
         "19465479",
         "19477925",
         "19819244",
         "19828042",
         "19828454",
         "19857493",
         "19861417",
         "19882354",
         "19907922",
         "19934315",
         "19962312",
         "19965871",
         "20005840",
         "20009884",
         "20018442",
         "20024960",
         "20026654",
         "20041275",
         "20080565",
         "20123963",
         "20171273",
         "20353948",
         "20363803",
         "20372057",
         "20514025",
         "20562916",
         "20599567",
         "20610713",
         "20637859",
         "20661218",
         "20663147",
         "20673369",
         "20696760",
         "20711232",
         "20811699",
         "20931131",
         "20935676",
         "20962272",
         "21057547",
         "21148320",
         "21317932",
         "21383696",
         "21394211",
         "21423215",
         "21441950",
         "21454683",
         "21465263",
         "21532626",
         "21642861",
         "21660965",
         "21757780",
         "21765463",
         "21765464",
         "21832239",
         "22002314",
         "22011578",
         "22030623",
         "22037398",
         "22055193",
         "22099307",
         "22112863",
         "22179839",
         "22285752",
         "22728651",
         "22797063",
         "22815859",
         "22878263",
         "22975381",
         "23148227",
         "23149944",
         "23150668",
         "23184057",
         "23678107",
         "23798621",
         "23871434",
         "23890999",
         "23982736",
         "24038750",
         "24145406",
         "24196445",
         "24379358",
         "24657168",
         "24711418",
         "24820418",
         "24899407",
         "24958101",
         "25202122",
         "8327466",
         "9363941",
         "9372954",
         "9733515",
         "9744860",
         "9843217",
         "9925639"
        ],
        "source": "CDK5",
        "target": "TP53",
        "type": "controls-state-change-of"
       }
      }
     },
     "22e0634430f6470d81a313e5656d57f1": {
      "model_module": "jupyter-cytoscape",
      "model_module_version": "^1.2.2",
      "model_name": "NodeModel",
      "state": {
       "_model_module_version": "^1.2.2",
       "_view_module_version": "^1.2.2",
       "data": {
        "altered": 0,
        "cited": 244,
        "id": "PYCARD",
        "importance": 3,
        "isseed": false,
        "isvalid": true,
        "rank": 89,
        "uniprot": "Q9ULZ3",
        "uniprotdesc": "Functions as key mediator in apoptosis and inflammation.Promotes caspase-mediated apoptosis involving predominantlycaspase-8 and also caspase-9 in a probable cell type-specificmanner. Involved in activation of the mitochondrial apoptoticpathway, promotes caspase-8-dependent proteolytic maturation ofBID independently of FADD in certain cell types and also mediatesmitochondrial translocation of BAX and activates BAX-dependentapoptosis coupled to activation of caspase-9, -2 and -3. Involvedin macrophage pyroptosis, a caspase-1-dependent inflammatory formof cell death and is the major constituent of the ASC pyroptosomewhich forms upon potassium depletion and rapidly recruits andactivates caspase-1. In innate immune response believed to act asan integral adapter in the assembly of the inflammasome whichactivates caspase-1 leading to processing and secretion ofproinflammatory cytokines. The function as activating adapter indifferent types of inflammasomes is mediated by the DAPIN and CARDdomains and their homotypic interactions. Required for recruitmentof caspase-1 to inflammasomes containing certain patternrecognition receptors, such as NLRP2, NLRP3, AIM2 and probablyIFI16. In the NLRP1 and NLRC4 inflammasomes seems not be requiredbut facilitates the processing of procaspase-1. In cooperationwith NOD2 involved in an inflammasome activated by bacterialmuramyl dipeptide leading to caspase-1 activation. May be involvedin DDX58-triggered proinflammatory responses and inflammasomeactivation. Isoform 2 may have a regulating effect on the functionas inflammasome adapter. Isoform 3 seems to inhibit inflammasome-mediated maturation of interleukin-1 beta. In collaboration withAIM2 which detects cytosolic double-stranded DNA may also beinvolved in a caspase-1-independent cell death that involvescaspase-8. In adaptive immunity may be involved in maturation ofdendritic cells to stimulate T-cell immunity and in cytoskeletalrearrangements coupled to chemotaxis and antigen uptake may beinvolved in post-transcriptional regulation of the guaninenucleotide exchange factor DOCK2; the latter function is proposedto involve the nuclear form. Also involved in transcriptionalactivation of cytokines and chemokines independent of theinflammasome; this function may involve AP-1, NF-kappa-B, MAPK andcaspase-8 signaling pathways. For regulation of NF-kappa-Bactivating and inhibiting functions have been reported. ModulatesNF-kappa-B induction at the level of the IKK complex by inhibitingkinase activity of CHUK and IKBK. Proposed to compete with RIPK2for association with CASP1 thereby down-regulating CASP1-mediatedRIPK2-dependent NF-kappa-B activation and activating interleukin-1beta processing. "
       },
       "grabbable": true,
       "grabbed": false,
       "position": {
        "x": 459.6577940392296,
        "y": 215.37800736297947
       }
      }
     },
     "22ea663efd724fdd848f90882ad628cc": {
      "model_module": "jupyter-cytoscape",
      "model_module_version": "^1.2.2",
      "model_name": "NodeModel",
      "state": {
       "_model_module_version": "^1.2.2",
       "_view_module_version": "^1.2.2",
       "data": {
        "id": "27",
        "name": "age: 29\nvirus: ncov\n",
        "parent": "parent-1"
       },
       "grabbable": true,
       "grabbed": false,
       "position": {
        "x": 653.5,
        "y": 350
       },
       "selectable": false
      }
     },
     "23353af2ab574d348060b0fe746bfcf9": {
      "model_module": "jupyter-cytoscape",
      "model_module_version": "^1.2.2",
      "model_name": "EdgeModel",
      "state": {
       "_model_module_version": "^1.2.2",
       "_view_module_version": "^1.2.2",
       "data": {
        "cited": 0,
        "datasource": [
         "PANTHER"
        ],
        "id": "PRKAB2-controls-state-change-of-TP73",
        "isdirected": true,
        "pubmed": [],
        "source": "PRKAB2",
        "target": "TP73",
        "type": "controls-state-change-of"
       }
      }
     },
     "24302cc9cfc94653901217aa49c8f4d2": {
      "model_module": "jupyter-cytoscape",
      "model_module_version": "^1.2.2",
      "model_name": "EdgeModel",
      "state": {
       "_model_module_version": "^1.2.2",
       "_view_module_version": "^1.2.2",
       "data": {
        "cited": 9,
        "datasource": [
         "PANTHER"
        ],
        "id": "HTT-controls-state-change-of-TP53",
        "isdirected": true,
        "pubmed": [],
        "source": "HTT",
        "target": "TP53",
        "type": "controls-state-change-of"
       }
      }
     },
     "244e95f76bce4311bb704574dc0e081d": {
      "model_module": "jupyter-cytoscape",
      "model_module_version": "^1.2.2",
      "model_name": "NodeModel",
      "state": {
       "_model_module_version": "^1.2.2",
       "_view_module_version": "^1.2.2",
       "data": {
        "id": "14",
        "name": "age: 32\nvirus: ncov\n",
        "parent": "parent-1"
       },
       "grabbable": true,
       "grabbed": false,
       "position": {
        "x": 756.5529425139174,
        "y": 200.50718292426333
       },
       "selectable": false
      }
     },
     "24ffcb2d31194e66b1d5d71187bd7cbd": {
      "model_module": "jupyter-cytoscape",
      "model_module_version": "^1.2.2",
      "model_name": "EdgeModel",
      "state": {
       "_model_module_version": "^1.2.2",
       "_view_module_version": "^1.2.2",
       "data": {
        "cited": 0,
        "datasource": [
         "Reactome"
        ],
        "id": "TP53-controls-state-change-of-HIST1H1E",
        "isdirected": true,
        "pubmed": [
         "15621527",
         "15655109",
         "16901784",
         "17158953",
         "17242198",
         "17242207",
         "23964094"
        ],
        "source": "TP53",
        "target": "HIST1H1E",
        "type": "controls-state-change-of"
       }
      }
     },
     "25aa484635a1492b9f94764d026a48e1": {
      "model_module": "jupyter-cytoscape",
      "model_module_version": "^1.2.2",
      "model_name": "NodeModel",
      "state": {
       "_model_module_version": "^1.2.2",
       "_view_module_version": "^1.2.2",
       "data": {
        "altered": 0,
        "cited": 405,
        "id": "HIPK2",
        "importance": 3,
        "isseed": false,
        "isvalid": true,
        "rank": 70,
        "uniprot": "Q9H2X6",
        "uniprotdesc": "Serine/threonine-protein kinase involved intranscription regulation, p53/TP53-mediated cellular apoptosis andregulation of the cell cycle. Acts as a corepressor of severaltranscription factors, including SMAD1 and POU4F1/Brn3a andprobably NK homeodomain transcription factors. PhosphorylatesPDX1, ATF1, PML, p53/TP53, CREB1, CTBP1, CBX4, RUNX1, EP300,CTNNB1, HMGA1 and ZBTB4. Inhibits cell growth and promotesapoptosis through the activation of p53/TP53 both at thetranscription level and at the protein level (by phosphorylationand indirect acetylation). The phosphorylation of p53/TP53 may bemediated by a p53/TP53-HIPK2-AXIN1 complex. Involved in theresponse to hypoxia by acting as a transcriptional co-suppressorof HIF1A. Mediates transcriptional activation of TP73. In responseto TGFB, cooperates with DAXX to activate JNK. Negative regulatorthrough phosphorylation and subsequent proteasomal degradation ofCTNNB1 and the antiapoptotic factor CTBP1. In the Wnt/beta-cateninsignaling pathway acts as an intermediate kinase betweenMAP3K7/TAK1 and NLK to promote the proteasomal degradation of MYB.Phosphorylates CBX4 upon DNA damage and promotes its E3 SUMO-protein ligase activity. Activates CREB1 and ATF1 transcriptionfactors by phosphorylation in response to genotoxic stress. Inresponse to DNA damage, stabilizes PML by phosphorylation. PML,HIPK2 and FBXO3 may act synergically to activate p53/TP53-dependent transactivation. Promotes angiogenesis, and is involvedin erythroid differentiation, especially during fetal livererythropoiesis. Phosphorylation of RUNX1 and EP300 stimulatesEP300 transcription regulation activity. Triggers ZBTB4 proteindegradation in response to DNA damage. Modulates HMGA1 DNA-bindingaffinity. In response to high glucose, triggers phosphorylation-mediated subnuclear localization shifting of PDX1. Involved in theregulation of eye size, lens formation and retinal laminationduring late embryogenesis. "
       },
       "grabbable": true,
       "grabbed": false,
       "position": {
        "x": 571.3707700410627,
        "y": 374.9470270701427
       }
      }
     },
     "25c9bec9d88c4e7d8daf0d12c6d09734": {
      "model_module": "jupyter-cytoscape",
      "model_module_version": "^1.2.2",
      "model_name": "EdgeModel",
      "state": {
       "_model_module_version": "^1.2.2",
       "_view_module_version": "^1.2.2",
       "data": {
        "cited": 0,
        "datasource": [
         "pid"
        ],
        "id": "NGFR-controls-state-change-of-TP53",
        "isdirected": true,
        "pubmed": [
         "15668238"
        ],
        "source": "NGFR",
        "target": "TP53",
        "type": "controls-state-change-of"
       }
      }
     },
     "2688a1215af44592b38745f681298647": {
      "model_module": "jupyter-cytoscape",
      "model_module_version": "^1.2.2",
      "model_name": "NodeModel",
      "state": {
       "_model_module_version": "^1.2.2",
       "_view_module_version": "^1.2.2",
       "data": {
        "altered": 0,
        "cited": 448,
        "id": "CDK9",
        "importance": 3,
        "isseed": false,
        "isvalid": true,
        "rank": 66,
        "uniprot": "P50750",
        "uniprotdesc": "Protein kinase involved in the regulation oftranscription. Member of the cyclin-dependent kinase pair(CDK9/cyclin-T) complex, also called positive transcriptionelongation factor b (P-TEFb), which facilitates the transitionfrom abortive to productive elongation by phosphorylating the CTD(C-terminal domain) of the large subunit of RNA polymerase II(RNAP II) POLR2A, SUPT5H and RDBP. This complex is inactive whenin the 7SK snRNP complex form. Phosphorylates EP300, MYOD1,RPB1/POLR2A and AR, and the negative elongation factors DSIF andNELF. Regulates cytokine inducible transcription networks byfacilitating promoter recognition of target transcription factors(e.g. TNF-inducible RELA/p65 activation and IL-6-inducible STAT3signaling). Promotes RNA synthesis in genetic programs for cellgrowth, differentiation and viral pathogenesis. P-TEFb is alsoinvolved in cotranscriptional histone modification, mRNAprocessing and mRNA export. Modulates a complex network ofchromatin modifications including histone H2B monoubiquitination(H2Bub1), H3 lysine 4 trimethylation (H3K4me3) and H3K36me3;integrates phosphorylation during transcription with chromatinmodifications to control co-transcriptional histone mRNAprocessing. The CDK9/cyclin-K complex has also a kinase activitytowards CTD of RNAP II and can substitute for CDK9/cyclin-T P-TEFbin vitro. Replication stress response protein; the CDK9/cyclin-Kcomplex is required for genome integrity maintenance, by promotingcell cycle recovery from replication arrest and limiting single-stranded DNA amount in response to replication stress, thusreducing the breakdown of stalled replication forks and avoidingDNA damage. In addition, probable function in DNA repair ofisoform 2 via interaction with KU70/XRCC6. Promotes cardiacmyocyte enlargement. RPB1/POLR2A phosphorylation on 'Ser-2' in CTDactivates transcription. AR phosphorylation modulates ARtranscription factor promoter selectivity and cell growth. DSIFand NELF phosphorylation promotes transcription by inhibitingtheir negative effect. The phosphorylation of MYOD1 enhances itstranscriptional activity and thus promotes muscle differentiation."
       },
       "grabbable": true,
       "grabbed": false,
       "position": {
        "x": 904.9297151727643,
        "y": 132.79214743145494
       }
      }
     },
     "2827db16a0f04fcabbb13360308230be": {
      "model_module": "jupyter-cytoscape",
      "model_module_version": "^1.2.2",
      "model_name": "NodeModel",
      "state": {
       "_model_module_version": "^1.2.2",
       "_view_module_version": "^1.2.2",
       "data": {
        "altered": 0,
        "cited": 8,
        "id": "UBN1",
        "importance": 3,
        "isseed": false,
        "isvalid": true,
        "rank": 180,
        "uniprot": "Q9NPG3",
        "uniprotdesc": "Acts as a novel regulator of senescence. Involved in theformation of senescence-associated heterochromatin foci (SAHF),which represses expression of proliferation-promoting genes. Bindsto proliferation-promoting genes. May be required for replication-independent chromatin assembly. "
       },
       "grabbable": true,
       "grabbed": false,
       "position": {
        "x": 459.5236459445441,
        "y": -34.621997637020534
       }
      }
     },
     "289eb52be5884f1da0eee63f0865ffab": {
      "model_module": "jupyter-cytoscape",
      "model_module_version": "^1.2.2",
      "model_name": "GraphModel",
      "state": {
       "_adj": {},
       "_model_module_version": "^1.2.2",
       "_view_module": "jupyter-cytoscape",
       "_view_module_version": "^1.2.2"
      }
     },
     "2957cad8a0904c6ca57b7947c0f15a98": {
      "model_module": "jupyter-cytoscape",
      "model_module_version": "^1.2.2",
      "model_name": "NodeModel",
      "state": {
       "_model_module_version": "^1.2.2",
       "_view_module_version": "^1.2.2",
       "data": {
        "altered": 0,
        "cited": 1235,
        "id": "SUMO1",
        "importance": 3,
        "isseed": false,
        "isvalid": true,
        "rank": 36,
        "uniprot": "P63165",
        "uniprotdesc": "Ubiquitin-like protein that can be covalently attachedto proteins as a monomer or a lysine-linked polymer. Covalentattachment via an isopeptide bond to its substrates requires prioractivation by the E1 complex SAE1-SAE2 and linkage to the E2enzyme UBE2I, and can be promoted by E3 ligases such as PIAS1-4,RANBP2 or CBX4. This post-translational modification on lysineresidues of proteins plays a crucial role in a number of cellularprocesses such as nuclear transport, DNA replication and repair,mitosis and signal transduction. Involved for instance intargeting RANGAP1 to the nuclear pore complex protein RANBP2.Polymeric SUMO1 chains are also susceptible to polyubiquitinationwhich functions as a signal for proteasomal degradation ofmodified proteins. May also regulate a network of genes involvedin palate development. "
       },
       "grabbable": true,
       "grabbed": false,
       "position": {
        "x": 673.6771531026915,
        "y": 68.72208834338831
       }
      }
     },
     "297fa40115eb4a7cba8c0639ed901a40": {
      "model_module": "jupyter-cytoscape",
      "model_module_version": "^1.2.2",
      "model_name": "NodeModel",
      "state": {
       "_model_module_version": "^1.2.2",
       "_view_module_version": "^1.2.2",
       "data": {
        "altered": 0,
        "cited": 858,
        "id": "HTT",
        "importance": 3,
        "isseed": false,
        "isvalid": true,
        "rank": 43,
        "uniprot": "P42858",
        "uniprotdesc": "May play a role in microtubule-mediated transport orvesicle function."
       },
       "grabbable": true,
       "grabbed": false,
       "position": {
        "x": 767.0483342959518,
        "y": 229.17001838497552
       }
      }
     },
     "29c84e6bcf62464790de19de473a37ee": {
      "model_module": "jupyter-cytoscape",
      "model_module_version": "^1.2.2",
      "model_name": "NodeModel",
      "state": {
       "_model_module_version": "^1.2.2",
       "_view_module_version": "^1.2.2",
       "data": {
        "altered": 0,
        "cited": 24824,
        "id": "TP53",
        "importance": 4,
        "isseed": true,
        "isvalid": true,
        "rank": 0,
        "uniprot": "P04637",
        "uniprotdesc": "Acts as a tumor suppressor in many tumor types; inducesgrowth arrest or apoptosis depending on the physiologicalcircumstances and cell type. Involved in cell cycle regulation asa trans-activator that acts to negatively regulate cell divisionby controlling a set of genes required for this process. One ofthe activated genes is an inhibitor of cyclin-dependent kinases.Apoptosis induction seems to be mediated either by stimulation ofBAX and FAS antigen expression, or by repression of Bcl-2expression. In cooperation with mitochondrial PPIF is involved inactivating oxidative stress-induced necrosis; the function islargely independent of transcription. Induces the transcription oflong intergenic non-coding RNA p21 (lincRNA-p21) and lincRNA-Mkln1. LincRNA-p21 participates in TP53-dependent transcriptionalrepression leading to apoptosis and seem to have to effect oncell-cycle regulation. Implicated in Notch signaling cross-over.Prevents CDK7 kinase activity when associated to CAK complex inresponse to DNA damage, thus stopping cell cycle progression.Isoform 2 enhances the transactivation activity of isoform 1 fromsome but not all TP53-inducible promoters. Isoform 4 suppressestransactivation activity and impairs growth suppression mediatedby isoform 1. Isoform 7 inhibits isoform 1-mediated apoptosis."
       },
       "grabbable": true,
       "grabbed": false,
       "position": {
        "x": 657.6400384363117,
        "y": 168.9937037353182
       }
      }
     },
     "2a7a78851b974a589a35a9fbcc59e041": {
      "model_module": "jupyter-cytoscape",
      "model_module_version": "^1.2.2",
      "model_name": "NodeModel",
      "state": {
       "_model_module_version": "^1.2.2",
       "_view_module_version": "^1.2.2",
       "data": {
        "altered": 0,
        "cited": 496,
        "id": "FOS",
        "importance": 3,
        "isseed": false,
        "isvalid": true,
        "rank": 61,
        "uniprot": "P01100",
        "uniprotdesc": "Nuclear phosphoprotein which forms a tight but non-covalently linked complex with the JUN/AP-1 transcription factor.In the heterodimer, FOS and JUN/AP-1 basic regions each seems tointeract with symmetrical DNA half sites. On TGF-beta activation,forms a multimeric SMAD3/SMAD4/JUN/FOS complex at the AP1/SMAD-binding site to regulate TGF-beta-mediated signaling. Has acritical function in regulating the development of cells destinedto form and maintain the skeleton. It is thought to have animportant role in signal transduction, cell proliferation anddifferentiation. In growing cells, activates phospholipidsynthesis, possibly by activating CDS1 and PI4K2A. This activityrequires Tyr-dephosphorylation and association with theendoplasmic reticulum. "
       },
       "grabbable": true,
       "grabbed": false,
       "position": {
        "x": 846.0858104115741,
        "y": -73.44240982099073
       }
      }
     },
     "2ab8b3be24cb419c816b440148cb4e92": {
      "model_module": "jupyter-cytoscape",
      "model_module_version": "^1.2.2",
      "model_name": "EdgeModel",
      "state": {
       "_model_module_version": "^1.2.2",
       "_view_module_version": "^1.2.2",
       "data": {
        "cited": 1480,
        "datasource": [
         "Reactome",
         "pid"
        ],
        "id": "TP53-controls-expression-of-CDKN1A",
        "isdirected": true,
        "pubmed": [
         "11080152",
         "15655109",
         "17110336",
         "17409421",
         "17707234",
         "17719541",
         "17938176",
         "18250150",
         "18485870",
         "19011621",
         "7796420",
         "8242752"
        ],
        "source": "TP53",
        "target": "CDKN1A",
        "type": "controls-expression-of"
       }
      }
     },
     "2b060f1edb2a437da798235f5436da72": {
      "model_module": "jupyter-cytoscape",
      "model_module_version": "^1.2.2",
      "model_name": "GraphModel",
      "state": {
       "_adj": {},
       "_model_module_version": "^1.2.2",
       "_view_module": "jupyter-cytoscape",
       "_view_module_version": "^1.2.2"
      }
     },
     "2b2aa37a83a94ed78d6f4be8f6f1c692": {
      "model_module": "jupyter-cytoscape",
      "model_module_version": "^1.2.2",
      "model_name": "NodeModel",
      "state": {
       "_model_module_version": "^1.2.2",
       "_view_module_version": "^1.2.2",
       "data": {
        "altered": 0,
        "cited": 4,
        "id": "RNF144B",
        "importance": 3,
        "isseed": false,
        "isvalid": true,
        "rank": 190,
        "uniprot": "Q7Z419",
        "uniprotdesc": "E3 ubiquitin-protein ligase which accepts ubiquitin fromE2 ubiquitin-conjugating enzymes UBE2L3 and UBE2L6 in the form ofa thioester and then directly transfers the ubiquitin to targetedsubstrates such as LCMT2, thereby promoting their degradation.Induces apoptosis via a p53/TP53-dependent but caspase-independentmechanism. However, its overexpression also produces a decrease ofthe ubiquitin-dependent stability of BAX, a pro-apoptotic protein,ultimately leading to protection of cell death; But, it is not ananti-apoptotic protein per se. "
       },
       "grabbable": true,
       "grabbed": false,
       "position": {
        "x": 507.05967143946435,
        "y": 113.39633177952119
       }
      }
     },
     "2c09187e29344ff7918afdb89f47b36d": {
      "model_module": "jupyter-cytoscape",
      "model_module_version": "^1.2.2",
      "model_name": "NodeModel",
      "state": {
       "_model_module_version": "^1.2.2",
       "_view_module_version": "^1.2.2",
       "data": {
        "altered": 0,
        "cited": 180,
        "id": "IRF5",
        "importance": 3,
        "isseed": false,
        "isvalid": true,
        "rank": 101,
        "uniprot": "Q13568",
        "uniprotdesc": "Transcription factor involved in the induction ofinterferons IFNA and INFB and inflammatory cytokines upon virusinfection. Activated by TLR7 or TLR8 signaling."
       },
       "grabbable": true,
       "grabbed": false,
       "position": {
        "x": 370.6279575351584,
        "y": 128.58345643279532
       }
      }
     },
     "2c8500e549cb47dd99608b4ac6477f74": {
      "model_module": "jupyter-cytoscape",
      "model_module_version": "^1.2.2",
      "model_name": "EdgeModel",
      "state": {
       "_model_module_version": "^1.2.2",
       "_view_module_version": "^1.2.2",
       "data": {
        "cited": 50,
        "datasource": [
         "PANTHER"
        ],
        "id": "SIRT1-controls-state-change-of-TP53",
        "isdirected": true,
        "pubmed": [],
        "source": "SIRT1",
        "target": "TP53",
        "type": "controls-state-change-of"
       }
      }
     },
     "2cc8b0f6a1f44d76b005c658bf7dc997": {
      "model_module": "jupyter-cytoscape",
      "model_module_version": "^1.2.2",
      "model_name": "EdgeModel",
      "state": {
       "_model_module_version": "^1.2.2",
       "_view_module_version": "^1.2.2",
       "data": {
        "cited": 0,
        "datasource": [
         "PANTHER"
        ],
        "id": "PRKAB1-controls-state-change-of-TP63",
        "isdirected": true,
        "pubmed": [],
        "source": "PRKAB1",
        "target": "TP63",
        "type": "controls-state-change-of"
       }
      }
     },
     "2d2025cdabfd424e8857895acee48988": {
      "model_module": "jupyter-cytoscape",
      "model_module_version": "^1.2.2",
      "model_name": "EdgeModel",
      "state": {
       "_model_module_version": "^1.2.2",
       "_view_module_version": "^1.2.2",
       "data": {
        "cited": 23,
        "datasource": [
         "pid"
        ],
        "id": "TP53-controls-expression-of-CCNB1",
        "isdirected": true,
        "pubmed": [
         "15710382"
        ],
        "source": "TP53",
        "target": "CCNB1",
        "type": "controls-expression-of"
       }
      }
     },
     "2d24f346f4104db0b04526511e52fd4a": {
      "model_module": "jupyter-cytoscape",
      "model_module_version": "^1.2.2",
      "model_name": "NodeModel",
      "state": {
       "_model_module_version": "^1.2.2",
       "_view_module_version": "^1.2.2",
       "data": {
        "altered": 0,
        "cited": 491,
        "id": "CCNB1",
        "importance": 3,
        "isseed": false,
        "isvalid": true,
        "rank": 62,
        "uniprot": "P14635",
        "uniprotdesc": "Essential for the control of the cell cycle at the G2/M(mitosis) transition. "
       },
       "grabbable": true,
       "grabbed": false,
       "position": {
        "x": 416.33962277718064,
        "y": 263.39633477952117
       }
      }
     },
     "2d55273d1fbd4861a737435756f8d318": {
      "model_module": "jupyter-cytoscape",
      "model_module_version": "^1.2.2",
      "model_name": "NodeModel",
      "state": {
       "_model_module_version": "^1.2.2",
       "_view_module_version": "^1.2.2",
       "data": {
        "altered": 0,
        "cited": 330,
        "id": "PRKAA1",
        "importance": 3,
        "isseed": false,
        "isvalid": true,
        "rank": 78,
        "uniprot": "Q13131",
        "uniprotdesc": "Catalytic subunit of AMP-activated protein kinase(AMPK), an energy sensor protein kinase that plays a key role inregulating cellular energy metabolism. In response to reduction ofintracellular ATP levels, AMPK activates energy-producing pathwaysand inhibits energy-consuming processes: inhibits protein,carbohydrate and lipid biosynthesis, as well as cell growth andproliferation. AMPK acts via direct phosphorylation of metabolicenzymes, and by longer-term effects via phosphorylation oftranscription regulators. Also acts as a regulator of cellularpolarity by remodeling the actin cytoskeleton; probably byindirectly activating myosin. Regulates lipid synthesis byphosphorylating and inactivating lipid metabolic enzymes such asACACA, ACACB, GYS1, HMGCR and LIPE; regulates fatty acid andcholesterol synthesis by phosphorylating acetyl-CoA carboxylase(ACACA and ACACB) and hormone-sensitive lipase (LIPE) enzymes,respectively. Regulates insulin-signaling and glycolysis byphosphorylating IRS1, PFKFB2 and PFKFB3. AMPK stimulates glucoseuptake in muscle by increasing the translocation of the glucosetransporter SLC2A4/GLUT4 to the plasma membrane, possibly bymediating phosphorylation of TBC1D4/AS160. Regulates transcriptionand chromatin structure by phosphorylating transcriptionregulators involved in energy metabolism such as CRTC2/TORC2,FOXO3, histone H2B, HDAC5, MEF2C, MLXIPL/ChREBP, EP300, HNF4A,p53/TP53, SREBF1, SREBF2 and PPARGC1A. Acts as a key regulator ofglucose homeostasis in liver by phosphorylating CRTC2/TORC2,leading to CRTC2/TORC2 sequestration in the cytoplasm. In responseto stress, phosphorylates 'Ser-36' of histone H2B (H2BS36ph),leading to promote transcription. Acts as a key regulator of cellgrowth and proliferation by phosphorylating TSC2, RPTOR andATG1/ULK1: in response to nutrient limitation, negativelyregulates the mTORC1 complex by phosphorylating RPTOR component ofthe mTORC1 complex and by phosphorylating and activating TSC2. Inresponse to nutrient limitation, promotes autophagy byphosphorylating and activating ATG1/ULK1. AMPK also acts as aregulator of circadian rhythm by mediating phosphorylation ofCRY1, leading to destabilize it. May regulate the Wnt signalingpathway by phosphorylating CTNNB1, leading to stabilize it. Alsohas tau-protein kinase activity: in response to amyloid beta A4protein (APP) exposure, activated by CAMKK2, leading tophosphorylation of MAPT/TAU; however the relevance of such dataremains unclear in vivo. Also phosphorylates CFTR, EEF2K, KLC1,NOS3 and SLC12A1. "
       },
       "grabbable": true,
       "grabbed": false,
       "position": {
        "x": 820.6279665351584,
        "y": 188.8443579932413
       }
      }
     },
     "2e3df69ed0474c629946704dede45e92": {
      "model_module": "jupyter-cytoscape",
      "model_module_version": "^1.2.2",
      "model_name": "EdgeModel",
      "state": {
       "_model_module_version": "^1.2.2",
       "_view_module_version": "^1.2.2",
       "data": {
        "cited": 0,
        "datasource": [
         "pid"
        ],
        "id": "CARM1-controls-expression-of-GADD45A",
        "isdirected": true,
        "pubmed": [
         "15186775",
         "18250150"
        ],
        "source": "CARM1",
        "target": "GADD45A",
        "type": "controls-expression-of"
       }
      }
     },
     "2e60fc0138254879889961425f51ba50": {
      "model_module": "jupyter-cytoscape",
      "model_module_version": "^1.2.2",
      "model_name": "EdgeModel",
      "state": {
       "_model_module_version": "^1.2.2",
       "_view_module_version": "^1.2.2",
       "data": {
        "cited": 95,
        "datasource": [
         "pid"
        ],
        "id": "TP53-controls-expression-of-BAX",
        "isdirected": true,
        "pubmed": [
         "10518217",
         "11080152",
         "11278953",
         "11684014",
         "11850816",
         "15598651",
         "17145718",
         "17189187"
        ],
        "source": "TP53",
        "target": "BAX",
        "type": "controls-expression-of"
       }
      }
     },
     "2eda0a97c83c4306a1ceffc0ed181e00": {
      "model_module": "jupyter-cytoscape",
      "model_module_version": "^1.2.2",
      "model_name": "EdgeModel",
      "state": {
       "_model_module_version": "^1.2.2",
       "_view_module_version": "^1.2.2",
       "data": {
        "cited": 0,
        "datasource": [
         "pid"
        ],
        "id": "EP300-controls-expression-of-GADD45A",
        "isdirected": true,
        "pubmed": [
         "15186775",
         "18250150"
        ],
        "source": "EP300",
        "target": "GADD45A",
        "type": "controls-expression-of"
       }
      }
     },
     "2f8c489f9d22470ba172b2bf34eabb28": {
      "model_module": "jupyter-cytoscape",
      "model_module_version": "^1.2.2",
      "model_name": "EdgeModel",
      "state": {
       "_model_module_version": "^1.2.2",
       "_view_module_version": "^1.2.2",
       "data": {
        "cited": 0,
        "datasource": [
         "PANTHER"
        ],
        "id": "PPP2CA-controls-state-change-of-TP63",
        "isdirected": true,
        "pubmed": [],
        "source": "PPP2CA",
        "target": "TP63",
        "type": "controls-state-change-of"
       }
      }
     },
     "2fbfd41ee79d4ac4855d37928e58d458": {
      "model_module": "jupyter-cytoscape",
      "model_module_version": "^1.2.2",
      "model_name": "NodeModel",
      "state": {
       "_model_module_version": "^1.2.2",
       "_view_module_version": "^1.2.2",
       "data": {
        "altered": 0,
        "cited": 491,
        "id": "CCNB1",
        "importance": 3,
        "isseed": false,
        "isvalid": true,
        "rank": 62,
        "uniprot": "P14635",
        "uniprotdesc": "Essential for the control of the cell cycle at the G2/M(mitosis) transition. "
       },
       "grabbable": true,
       "grabbed": false,
       "position": {
        "x": 421.341682970461,
        "y": 265.3780083629794
       }
      }
     },
     "2fd756c06ac44c208feaa068e185aef2": {
      "model_module": "jupyter-cytoscape",
      "model_module_version": "^1.2.2",
      "model_name": "EdgeModel",
      "state": {
       "_model_module_version": "^1.2.2",
       "_view_module_version": "^1.2.2",
       "data": {
        "cited": 0,
        "datasource": [
         "PANTHER"
        ],
        "id": "SUMO1-controls-state-change-of-TP73",
        "isdirected": true,
        "pubmed": [],
        "source": "SUMO1",
        "target": "TP73",
        "type": "controls-state-change-of"
       }
      }
     },
     "30145913ec2547b5bedb55305b35e9d6": {
      "model_module": "jupyter-cytoscape",
      "model_module_version": "^1.2.2",
      "model_name": "EdgeModel",
      "state": {
       "_model_module_version": "^1.2.2",
       "_view_module_version": "^1.2.2",
       "data": {
        "cited": 0,
        "datasource": [
         "Reactome",
         "pid",
         "PANTHER"
        ],
        "id": "MAPK11-controls-state-change-of-TP53",
        "isdirected": true,
        "pubmed": [
         "10212189",
         "10747897",
         "17254968"
        ],
        "source": "MAPK11",
        "target": "TP53",
        "type": "controls-state-change-of"
       }
      }
     },
     "3014becb469e4c4e9814bd37d0c8dce1": {
      "model_module": "jupyter-cytoscape",
      "model_module_version": "^1.2.2",
      "model_name": "EdgeModel",
      "state": {
       "_model_module_version": "^1.2.2",
       "_view_module_version": "^1.2.2",
       "data": {
        "cited": 0,
        "datasource": [
         "PANTHER"
        ],
        "id": "PRKAG1-controls-state-change-of-TP53",
        "isdirected": true,
        "pubmed": [],
        "source": "PRKAG1",
        "target": "TP53",
        "type": "controls-state-change-of"
       }
      }
     },
     "30579a7f2d2d4be694b3176bb9152413": {
      "model_module": "jupyter-cytoscape",
      "model_module_version": "^1.2.2",
      "model_name": "NodeModel",
      "state": {
       "_model_module_version": "^1.2.2",
       "_view_module_version": "^1.2.2",
       "data": {
        "id": "5",
        "name": "age: 47\nvirus: ncov\n",
        "parent": "parent-1"
       },
       "grabbable": true,
       "grabbed": false,
       "position": {
        "x": 550.8344052128374,
        "y": 110
       },
       "selectable": false
      }
     },
     "311a6c8b25594603abc53e3c43442e31": {
      "model_module": "jupyter-cytoscape",
      "model_module_version": "^1.2.2",
      "model_name": "EdgeModel",
      "state": {
       "_model_module_version": "^1.2.2",
       "_view_module_version": "^1.2.2",
       "data": {
        "cited": 16,
        "datasource": [
         "pid"
        ],
        "id": "TP53-controls-expression-of-PLK3",
        "isdirected": true,
        "pubmed": [
         "16140933"
        ],
        "source": "TP53",
        "target": "PLK3",
        "type": "controls-expression-of"
       }
      }
     },
     "3188dbaa113943f19114d699abcf11f2": {
      "model_module": "jupyter-cytoscape",
      "model_module_version": "^1.2.2",
      "model_name": "NodeModel",
      "state": {
       "_model_module_version": "^1.2.2",
       "_view_module_version": "^1.2.2",
       "data": {
        "id": "10",
        "name": "age: 30\nvirus: ncov\n",
        "parent": "parent-1"
       },
       "grabbable": true,
       "grabbed": false,
       "position": {
        "x": 550.8344052128374,
        "y": 170
       },
       "selectable": false
      }
     },
     "31abec5a8ae1470bab29a805530e074e": {
      "model_module": "jupyter-cytoscape",
      "model_module_version": "^1.2.2",
      "model_name": "EdgeModel",
      "state": {
       "_model_module_version": "^1.2.2",
       "_view_module_version": "^1.2.2",
       "data": {
        "cited": 6,
        "datasource": [
         "Reactome"
        ],
        "id": "TP53-controls-state-change-of-CABIN1",
        "isdirected": true,
        "pubmed": [
         "15621527",
         "15655109",
         "16901784",
         "17158953",
         "17242198",
         "17242207",
         "23964094"
        ],
        "source": "TP53",
        "target": "CABIN1",
        "type": "controls-state-change-of"
       }
      }
     },
     "31f0b8ea5b2943dba14ec07fcfcf4d1e": {
      "model_module": "jupyter-cytoscape",
      "model_module_version": "^1.2.2",
      "model_name": "NodeModel",
      "state": {
       "_model_module_version": "^1.2.2",
       "_view_module_version": "^1.2.2",
       "data": {
        "altered": 0,
        "cited": 90,
        "id": "PRKCD",
        "importance": 3,
        "isseed": false,
        "isvalid": true,
        "rank": 122,
        "uniprot": "Q05655",
        "uniprotdesc": "Calcium-independent, phospholipid- and diacylglycerol(DAG)-dependent serine/threonine-protein kinase that playscontrasting roles in cell death and cell survival by functioningas a pro-apoptotic protein during DNA damage-induced apoptosis,but acting as an anti-apoptotic protein during cytokine receptor-initiated cell death, is involved in tumor suppression as well assurvival of several cancers, is required for oxygen radicalproduction by NADPH oxidase and acts as positive or negativeregulator in platelet functional responses. Negatively regulates Bcell proliferation and also has an important function in self-antigen induced B cell tolerance induction. Upon DNA damage,activates the promoter of the death-promoting transcription factorBCLAF1/Btf to trigger BCLAF1-mediated p53/TP53 gene transcriptionand apoptosis. In response to oxidative stress, interact with andactivate CHUK/IKKA in the nucleus, causing the phosphorylation ofp53/TP53. In the case of ER stress or DNA damage-inducedapoptosis, can form a complex with the tyrosine-protein kinaseABL1 which trigger apoptosis independently of p53/TP53. In cytosolcan trigger apoptosis by activating MAPK11 or MAPK14, inhibitingAKT1 and decreasing the level of X-linked inhibitor of apoptosisprotein (XIAP), whereas in nucleus induces apoptosis via theactivation of MAPK8 or MAPK9. Upon ionizing radiation treatment,is required for the activation of the apoptosis regulators BAX andBAK, which trigger the mitochondrial cell death pathway. Canphosphorylate MCL1 and target it for degradation which issufficient to trigger for BAX activation and apoptosis. Isrequired for the control of cell cycle progression both at G1/Sand G2/M phases. Mediates phorbol 12-myristate 13-acetate (PMA)-induced inhibition of cell cycle progression at G1/S phase by up-regulating the CDK inhibitor CDKN1A/p21 and inhibiting the cyclinCCNA2 promoter activity. In response to UV irradiation canphosphorylate CDK1, which is important for the G2/M DNA damagecheckpoint activation. Can protect glioma cells from the apoptosisinduced by TNFSF10/TRAIL, probably by inducing increasedphosphorylation and subsequent activation of AKT1. Is highlyexpressed in a number of cancer cells and promotes cell survivaland resistance against chemotherapeutic drugs by inducing cyclinD1 (CCND1) and hyperphosphorylation of RB1, and via several pro-survival pathways, including NF-kappa-B, AKT1 and MAPK1/3(ERK1/2). Can also act as tumor suppressor upon mitogenicstimulation with PMA or TPA. In N-formyl-methionyl-leucyl-phenylalanine (fMLP)-treated cells, is required for NCF1 (p47-phox) phosphorylation and activation of NADPH oxidase activity,and regulates TNF-elicited superoxide anion production inneutrophils, by direct phosphorylation and activation of NCF1 orindirectly through MAPK1/3 (ERK1/2) signaling pathways. May alsoplay a role in the regulation of NADPH oxidase activity ineosinophil after stimulation with IL5, leukotriene B4 or PMA. Incollagen-induced platelet aggregation, acts a negative regulatorof filopodia formation and actin polymerization by interactingwith and negatively regulating VASP phosphorylation. Downstream ofPAR1, PAR4 and CD36/GP4 receptors, regulates differentiallyplatelet dense granule secretion; acts as a positive regulator inPAR-mediated granule secretion, whereas it negatively regulatesCD36/GP4-mediated granule release. Phosphorylates MUC1 in the C-terminal and regulates the interaction between MUC1 and beta-catenin. The catalytic subunit phosphorylates 14-3-3 proteins(YWHAB, YWHAZ and YWHAH) in a sphingosine-dependent fashion (Bysimilarity). "
       },
       "grabbable": true,
       "grabbed": false,
       "position": {
        "x": 944.123215832669,
        "y": 182.79214843145496
       }
      }
     },
     "332807363b7a4c28854524ca16723840": {
      "model_module": "jupyter-cytoscape",
      "model_module_version": "^1.2.2",
      "model_name": "EdgeModel",
      "state": {
       "_model_module_version": "^1.2.2",
       "_view_module_version": "^1.2.2",
       "data": {
        "cited": 0,
        "datasource": [
         "PANTHER"
        ],
        "id": "HTT-controls-state-change-of-TP63",
        "isdirected": true,
        "pubmed": [],
        "source": "HTT",
        "target": "TP63",
        "type": "controls-state-change-of"
       }
      }
     },
     "33c6aa638553485da189006c1b701ba9": {
      "model_module": "jupyter-cytoscape",
      "model_module_version": "^1.2.2",
      "model_name": "EdgeModel",
      "state": {
       "_model_module_version": "^1.2.2",
       "_view_module_version": "^1.2.2",
       "data": {
        "cited": 16,
        "datasource": [
         "PhosphoSite",
         "pid"
        ],
        "id": "PLK3-controls-state-change-of-TP53",
        "isdirected": true,
        "pubmed": [
         "10202145",
         "10570149",
         "10656795",
         "10673500",
         "10673501",
         "10706102",
         "10710310",
         "10734067",
         "11030628",
         "11175334",
         "11244509",
         "11258706",
         "11397945",
         "11423984",
         "11447225",
         "11495913",
         "11526498",
         "11551930",
         "11583595",
         "11707453",
         "11850826",
         "11861384",
         "11875057",
         "11896572",
         "11896587",
         "12091386",
         "12384533",
         "12427754",
         "12531896",
         "12676607",
         "12756247",
         "12810724",
         "12860987",
         "12861053",
         "12902982",
         "12955074",
         "12959929",
         "12969974",
         "14517211",
         "14527925",
         "14612532",
         "14665630",
         "15064747",
         "15140942",
         "15254178",
         "15269203",
         "15322239",
         "15471885",
         "15489221",
         "15629715",
         "15671037",
         "15750624",
         "15843377",
         "15963507",
         "16377624",
         "16651424",
         "16731759",
         "16774943",
         "16818520",
         "17105820",
         "17121812",
         "17135248",
         "17245430",
         "17339337",
         "17353187",
         "17363488",
         "17698850",
         "17967874",
         "17977830",
         "18159951",
         "18593910",
         "18669630",
         "18718914",
         "18778462",
         "19819244",
         "19861417",
         "19882354",
         "20009884",
         "20024960",
         "20041275",
         "20562916",
         "20673369",
         "20696760",
         "20962272",
         "21148320",
         "21383696",
         "21454683",
         "21832239",
         "22030623",
         "22112863",
         "22285752",
         "22728651",
         "22797063",
         "22815859",
         "23798621",
         "23871434",
         "24657168",
         "8327466"
        ],
        "source": "PLK3",
        "target": "TP53",
        "type": "controls-state-change-of"
       }
      }
     },
     "33e8d96b5c644550a41074d59ea5b2d4": {
      "model_module": "jupyter-cytoscape",
      "model_module_version": "^1.2.2",
      "model_name": "EdgeModel",
      "state": {
       "_model_module_version": "^1.2.2",
       "_view_module_version": "^1.2.2",
       "data": {
        "cited": 0,
        "datasource": [
         "PANTHER"
        ],
        "id": "PML-controls-state-change-of-TP63",
        "isdirected": true,
        "pubmed": [],
        "source": "PML",
        "target": "TP63",
        "type": "controls-state-change-of"
       }
      }
     },
     "33fc4b90b6ba4015b093274163f20678": {
      "model_module": "jupyter-cytoscape",
      "model_module_version": "^1.2.2",
      "model_name": "EdgeModel",
      "state": {
       "_model_module_version": "^1.2.2",
       "_view_module_version": "^1.2.2",
       "data": {
        "cited": 0,
        "datasource": [
         "PANTHER"
        ],
        "id": "PML-controls-state-change-of-TP63",
        "isdirected": true,
        "pubmed": [],
        "source": "PML",
        "target": "TP63",
        "type": "controls-state-change-of"
       }
      }
     },
     "343ad944f9144c458909f9ec145b6ff2": {
      "model_module": "jupyter-cytoscape",
      "model_module_version": "^1.2.2",
      "model_name": "EdgeModel",
      "state": {
       "_model_module_version": "^1.2.2",
       "_view_module_version": "^1.2.2",
       "data": {
        "cited": 0,
        "datasource": [
         "PANTHER"
        ],
        "id": "IGBP1-controls-state-change-of-TP63",
        "isdirected": true,
        "pubmed": [],
        "source": "IGBP1",
        "target": "TP63",
        "type": "controls-state-change-of"
       }
      }
     },
     "34485aaa9b2046c591663652a165e2aa": {
      "model_module": "jupyter-cytoscape",
      "model_module_version": "^1.2.2",
      "model_name": "NodeModel",
      "state": {
       "_model_module_version": "^1.2.2",
       "_view_module_version": "^1.2.2",
       "data": {
        "altered": 0,
        "cited": 313,
        "id": "NGFR",
        "importance": 3,
        "isseed": false,
        "isvalid": true,
        "rank": 80,
        "uniprot": "P08138",
        "uniprotdesc": "Plays a role in the regulation of the translocation ofGLUT4 to the cell surface in adipocytes and skeletal muscle cellsin response to insulin, probably by regulating RAB31 activity, andthereby contributes to the regulation of insulin-dependent glucoseuptake (By similarity). Low affinity receptor which can bind toNGF, BDNF, NT-3, and NT-4. Can mediate cell survival as well ascell death of neural cells. Necessary for the circadianoscillation of the clock genes ARNTL/BMAL1, PER1, PER2 and NR1D1in the suprachiasmatic nucleus (SCN) of the brain and in liver andof the genes involved in glucose and lipid metabolism in theliver. "
       },
       "grabbable": true,
       "grabbed": false,
       "position": {
        "x": 421.37076704106283,
        "y": 415.37801136297935
       }
      }
     },
     "345dcb22e40841a9bc7ebab0857daf9b": {
      "model_module": "jupyter-cytoscape",
      "model_module_version": "^1.2.2",
      "model_name": "NodeModel",
      "state": {
       "_model_module_version": "^1.2.2",
       "_view_module_version": "^1.2.2",
       "data": {
        "altered": 0,
        "cited": 11,
        "id": "PRKAG1",
        "importance": 3,
        "isseed": false,
        "isvalid": true,
        "rank": 177,
        "uniprot": "P54619",
        "uniprotdesc": "AMP/ATP-binding subunit of AMP-activated protein kinase(AMPK), an energy sensor protein kinase that plays a key role inregulating cellular energy metabolism. In response to reduction ofintracellular ATP levels, AMPK activates energy-producing pathwaysand inhibits energy-consuming processes: inhibits protein,carbohydrate and lipid biosynthesis, as well as cell growth andproliferation. AMPK acts via direct phosphorylation of metabolicenzymes, and by longer-term effects via phosphorylation oftranscription regulators. Also acts as a regulator of cellularpolarity by remodeling the actin cytoskeleton; probably byindirectly activating myosin. Gamma non-catalytic subunit mediatesbinding to AMP, ADP and ATP, leading to activate or inhibit AMPK:AMP-binding results in allosteric activation of alpha catalyticsubunit (PRKAA1 or PRKAA2) both by inducing phosphorylation andpreventing dephosphorylation of catalytic subunits. ADP alsostimulates phosphorylation, without stimulating alreadyphosphorylated catalytic subunit. ATP promotes dephosphorylationof catalytic subunit, rendering the AMPK enzyme inactive."
       },
       "grabbable": true,
       "grabbed": false,
       "position": {
        "x": 700.9414139114814,
        "y": 344.7342829219389
       }
      }
     },
     "3470fef4d72c456092b736d0bad7ab25": {
      "model_module": "jupyter-cytoscape",
      "model_module_version": "^1.2.2",
      "model_name": "EdgeModel",
      "state": {
       "_model_module_version": "^1.2.2",
       "_view_module_version": "^1.2.2",
       "data": {
        "cited": 1,
        "datasource": [
         "PhosphoSite",
         "PANTHER"
        ],
        "id": "PRKAA1-controls-state-change-of-TP53",
        "isdirected": true,
        "pubmed": [
         "10202145",
         "10570149",
         "10606744",
         "10656795",
         "10673500",
         "10673501",
         "10706102",
         "10710310",
         "10733583",
         "10734067",
         "11030628",
         "11175334",
         "11244509",
         "11258706",
         "11397945",
         "11423984",
         "11447225",
         "11495913",
         "11526498",
         "11551930",
         "11583595",
         "11707453",
         "11850826",
         "11861384",
         "11875057",
         "11883897",
         "11896572",
         "11896587",
         "12091386",
         "12384533",
         "12427754",
         "12531896",
         "12676607",
         "12756247",
         "12810724",
         "12860987",
         "12861053",
         "12902982",
         "12955074",
         "12959929",
         "12969974",
         "14517211",
         "14527925",
         "14612532",
         "14665630",
         "15064747",
         "15140942",
         "15254178",
         "15269203",
         "15322239",
         "15355354",
         "15471885",
         "15489221",
         "15542844",
         "15629715",
         "15671037",
         "15750624",
         "15843377",
         "15963507",
         "16377624",
         "16651424",
         "16731759",
         "16774943",
         "16818520",
         "17105820",
         "17121812",
         "17135248",
         "17245430",
         "17339337",
         "17353187",
         "17363488",
         "17698850",
         "17967874",
         "17977830",
         "18159951",
         "18246126",
         "18593910",
         "18669630",
         "18718914",
         "18778462",
         "18794113",
         "19819244",
         "19861417",
         "19882354",
         "20009884",
         "20024960",
         "20041275",
         "20562916",
         "20673369",
         "20696760",
         "20962272",
         "21148320",
         "21383696",
         "21386980",
         "21454683",
         "21832239",
         "22030623",
         "22112863",
         "22285752",
         "22728651",
         "22797063",
         "22815859",
         "23798621",
         "23871434",
         "24657168",
         "8327466"
        ],
        "source": "PRKAA1",
        "target": "TP53",
        "type": "controls-state-change-of"
       }
      }
     },
     "353c4084ce49485d9afdb33b71df18d1": {
      "model_module": "jupyter-cytoscape",
      "model_module_version": "^1.2.2",
      "model_name": "NodeModel",
      "state": {
       "_model_module_version": "^1.2.2",
       "_view_module_version": "^1.2.2",
       "data": {
        "altered": 0,
        "cited": 5024,
        "id": "MDM2",
        "importance": 3,
        "isseed": false,
        "isvalid": true,
        "rank": 7,
        "uniprot": "Q00987",
        "uniprotdesc": "E3 ubiquitin-protein ligase that mediates ubiquitinationof p53/TP53, leading to its degradation by the proteasome.Inhibits p53/TP53- and p73/TP73-mediated cell cycle arrest andapoptosis by binding its transcriptional activation domain. Alsoacts as a ubiquitin ligase E3 toward itself and ARRB1. Permits thenuclear export of p53/TP53. Promotes proteasome-dependentubiquitin-independent degradation of retinoblastoma RB1 protein.Inhibits DAXX-mediated apoptosis by inducing its ubiquitinationand degradation. Component of the TRIM28/KAP1-MDM2-p53/TP53complex involved in stabilizing p53/TP53. Also component of theTRIM28/KAP1-ERBB4-MDM2 complex which links growth factor and DNAdamage response pathways. Mediates ubiquitination and subsequentproteasome degradation of DYRK2 in nucleus. Ubiquitinates IGF1Rand SNAI1 and promotes them to proteasomal degradation."
       },
       "grabbable": true,
       "grabbed": false,
       "position": {
        "x": 621.3707710410627,
        "y": 363.4773653398394
       }
      }
     },
     "35f48b248c92479ba0b953c6c7e6661c": {
      "model_module": "jupyter-cytoscape",
      "model_module_version": "^1.2.2",
      "model_name": "EdgeModel",
      "state": {
       "_model_module_version": "^1.2.2",
       "_view_module_version": "^1.2.2",
       "data": {
        "cited": 0,
        "datasource": [
         "PhosphoSite",
         "pid"
        ],
        "id": "PRKCD-controls-state-change-of-TP53",
        "isdirected": true,
        "pubmed": [
         "10581258",
         "11030628",
         "11101524",
         "11300786",
         "11495913",
         "11740489",
         "11780126",
         "11875057",
         "12021785",
         "12093737",
         "12397361",
         "12427754",
         "12676607",
         "12860987",
         "12902982",
         "12907596",
         "14749479",
         "15322239",
         "15381073",
         "15471885",
         "15489221",
         "15526030",
         "15619621",
         "15657359",
         "15706352",
         "15750624",
         "15843377",
         "15870257",
         "15897882",
         "16219768",
         "16247456",
         "16377624",
         "16601678",
         "16717128",
         "16738336",
         "16793543",
         "17105820",
         "17107963",
         "17210684",
         "17332358",
         "17349958",
         "17349959",
         "17380123",
         "17567906",
         "17591690",
         "17891183",
         "17906639",
         "18056705",
         "18160537",
         "18216278",
         "18536714",
         "18560558",
         "18769132",
         "19465479",
         "19819244",
         "19828042",
         "19857493",
         "19861417",
         "19882354",
         "19965871",
         "20018442",
         "20024960",
         "20123963",
         "20171273",
         "20363803",
         "20514025",
         "20610713",
         "20673369",
         "20696760",
         "20811699",
         "20935676",
         "20962272",
         "21057547",
         "21383696",
         "21394211",
         "21642861",
         "21660965",
         "21765463",
         "21765464",
         "22011578",
         "22797063",
         "22878263",
         "23149944",
         "24145406",
         "24196445",
         "24379358",
         "24899407"
        ],
        "source": "PRKCD",
        "target": "TP53",
        "type": "controls-state-change-of"
       }
      }
     },
     "35fc9ca41b7848dc90cb1d655f320eeb": {
      "model_module": "jupyter-cytoscape",
      "model_module_version": "^1.2.2",
      "model_name": "NodeModel",
      "state": {
       "_model_module_version": "^1.2.2",
       "_view_module_version": "^1.2.2",
       "data": {
        "altered": 0,
        "cited": 24824,
        "id": "TP53",
        "importance": 4,
        "isseed": true,
        "isvalid": true,
        "rank": 0,
        "uniprot": "P04637",
        "uniprotdesc": "Acts as a tumor suppressor in many tumor types; inducesgrowth arrest or apoptosis depending on the physiologicalcircumstances and cell type. Involved in cell cycle regulation asa trans-activator that acts to negatively regulate cell divisionby controlling a set of genes required for this process. One ofthe activated genes is an inhibitor of cyclin-dependent kinases.Apoptosis induction seems to be mediated either by stimulation ofBAX and FAS antigen expression, or by repression of Bcl-2expression. In cooperation with mitochondrial PPIF is involved inactivating oxidative stress-induced necrosis; the function islargely independent of transcription. Induces the transcription oflong intergenic non-coding RNA p21 (lincRNA-p21) and lincRNA-Mkln1. LincRNA-p21 participates in TP53-dependent transcriptionalrepression leading to apoptosis and seem to have to effect oncell-cycle regulation. Implicated in Notch signaling cross-over.Prevents CDK7 kinase activity when associated to CAK complex inresponse to DNA damage, thus stopping cell cycle progression.Isoform 2 enhances the transactivation activity of isoform 1 fromsome but not all TP53-inducible promoters. Isoform 4 suppressestransactivation activity and impairs growth suppression mediatedby isoform 1. Isoform 7 inhibits isoform 1-mediated apoptosis."
       },
       "grabbable": true,
       "grabbed": false,
       "position": {
        "x": 657.0596744394644,
        "y": 168.7220903433883
       }
      }
     },
     "362a4f41488e47e3b137421c8e536c8e": {
      "model_module": "jupyter-cytoscape",
      "model_module_version": "^1.2.2",
      "model_name": "NodeModel",
      "state": {
       "_model_module_version": "^1.2.2",
       "_view_module_version": "^1.2.2",
       "data": {
        "altered": 0,
        "cited": 77,
        "id": "CABIN1",
        "importance": 3,
        "isseed": false,
        "isvalid": true,
        "rank": 132,
        "uniprot": "Q9Y6J0",
        "uniprotdesc": "May be required for replication-independent chromatinassembly. May serve as a negative regulator of T-cell receptor(TCR) signaling via inhibition of calcineurin. Inhibition ofactivated calcineurin is dependent on both PKC and calciumsignals. Acts as a negative regulator of p53/TP53 by keeping p53in an inactive state on chromatin at promoters of a subset of it'starget genes. "
       },
       "grabbable": true,
       "grabbed": false,
       "position": {
        "x": 623.6771521026914,
        "y": 30.545910690658243
       }
      }
     },
     "36724660273b41909ad23f749a89b91e": {
      "model_module": "jupyter-cytoscape",
      "model_module_version": "^1.2.2",
      "model_name": "NodeModel",
      "state": {
       "_model_module_version": "^1.2.2",
       "_view_module_version": "^1.2.2",
       "data": {
        "altered": 0,
        "cited": 19,
        "id": "HIST1H1E",
        "importance": 3,
        "isseed": false,
        "isvalid": true,
        "rank": 167,
        "uniprot": "P10412",
        "uniprotdesc": "Histone H1 protein binds to linker DNA betweennucleosomes forming the macromolecular structure known as thechromatin fiber. Histones H1 are necessary for the condensation ofnucleosome chains into higher-order structured fibers. Acts alsoas a regulator of individual gene transcription through chromatinremodeling, nucleosome spacing and DNA methylation (Bysimilarity). "
       },
       "grabbable": true,
       "grabbed": false,
       "position": {
        "x": 561.2741617901135,
        "y": 292.1465588092238
       }
      }
     },
     "38265e3ae9ce44e28ff166220b9006e7": {
      "model_module": "jupyter-cytoscape",
      "model_module_version": "^1.2.2",
      "model_name": "EdgeModel",
      "state": {
       "_model_module_version": "^1.2.2",
       "_view_module_version": "^1.2.2",
       "data": {
        "cited": 4,
        "datasource": [
         "Reactome"
        ],
        "id": "TP53-controls-state-change-of-HIST1H1C",
        "isdirected": true,
        "pubmed": [
         "15621527",
         "15655109",
         "16901784",
         "17158953",
         "17242198",
         "17242207",
         "23964094"
        ],
        "source": "TP53",
        "target": "HIST1H1C",
        "type": "controls-state-change-of"
       }
      }
     },
     "39651c024a2641609294846fcfe6afc1": {
      "model_module": "jupyter-cytoscape",
      "model_module_version": "^1.2.2",
      "model_name": "EdgeModel",
      "state": {
       "_model_module_version": "^1.2.2",
       "_view_module_version": "^1.2.2",
       "data": {
        "cited": 73,
        "datasource": [
         "PhosphoSite",
         "pid",
         "PANTHER"
        ],
        "id": "CHEK2-controls-state-change-of-TP53",
        "isdirected": true,
        "pubmed": [
         "10202145",
         "10570149",
         "10581258",
         "10606744",
         "10608806",
         "10611322",
         "10656682",
         "10656795",
         "10673500",
         "10673501",
         "10706102",
         "10710310",
         "10713094",
         "10723129",
         "10733583",
         "10734067",
         "10744722",
         "10958792",
         "11030628",
         "11042698",
         "11096068",
         "11121242",
         "11175334",
         "11244509",
         "11258706",
         "11300786",
         "11313957",
         "11314044",
         "11397945",
         "11423984",
         "11447225",
         "11495913",
         "11526498",
         "11546806",
         "11551930",
         "11583595",
         "11585729",
         "11706017",
         "11707453",
         "11709713",
         "11711532",
         "11850826",
         "11861384",
         "11865061",
         "11875057",
         "11883897",
         "11896572",
         "11896587",
         "12021785",
         "12049739",
         "12071847",
         "12080066",
         "12082529",
         "12091386",
         "12151394",
         "12324477",
         "12384533",
         "12393500",
         "12397362",
         "12427754",
         "12511424",
         "12518062",
         "12519769",
         "12519780",
         "12531896",
         "12588868",
         "12606585",
         "12637545",
         "12676607",
         "12702572",
         "12756247",
         "12771937",
         "12776195",
         "12810724",
         "12860987",
         "12861053",
         "12890678",
         "12902982",
         "12939400",
         "12955074",
         "12959929",
         "12969974",
         "1406679",
         "14517211",
         "14527925",
         "14612532",
         "14640983",
         "14665630",
         "14712210",
         "14871840",
         "14871926",
         "14968111",
         "15048074",
         "15064747",
         "15077171",
         "15078887",
         "15082766",
         "15140942",
         "15155458",
         "15159397",
         "15178764",
         "15181149",
         "15226429",
         "15254178",
         "15258567",
         "15269203",
         "15310764",
         "15322239",
         "15355354",
         "15361830",
         "15381073",
         "15456784",
         "15471885",
         "15489221",
         "15489892",
         "15533933",
         "15542844",
         "15580310",
         "15619621",
         "15629715",
         "15659650",
         "15665826",
         "15671037",
         "15750624",
         "15758953",
         "15775976",
         "15782130",
         "15792956",
         "15794754",
         "15843377",
         "15866171",
         "15870257",
         "15897882",
         "15963507",
         "16223874",
         "16247456",
         "16288207",
         "16293623",
         "16377624",
         "16397295",
         "16436515",
         "16478990",
         "16489034",
         "16501611",
         "16632641",
         "16636671",
         "16648554",
         "16651424",
         "16714289",
         "16717128",
         "16731759",
         "16774943",
         "16783362",
         "16790523",
         "16818505",
         "16818520",
         "16891474",
         "16916644",
         "16949371",
         "17045821",
         "17105820",
         "17108107",
         "17121812",
         "17135248",
         "17234789",
         "17245430",
         "17254968",
         "17283137",
         "17297446",
         "17297454",
         "17332358",
         "17339337",
         "17353187",
         "17363488",
         "17371838",
         "17380123",
         "17456577",
         "17486112",
         "17535811",
         "17553757",
         "17591690",
         "17596534",
         "17609585",
         "17616578",
         "17668048",
         "17684018",
         "17698850",
         "17712528",
         "17855337",
         "17891183",
         "17898864",
         "17936559",
         "17967874",
         "17975552",
         "17976513",
         "17977830",
         "18032786",
         "18045533",
         "18056442",
         "18097051",
         "18159951",
         "18216278",
         "18246126",
         "18272544",
         "18289945",
         "18332866",
         "18339864",
         "18345031",
         "18381438",
         "18406507",
         "18431490",
         "18449195",
         "18490454",
         "18560558",
         "18593910",
         "18604166",
         "18614045",
         "18669630",
         "18715874",
         "18718914",
         "18765533",
         "18769132",
         "18778462",
         "18785202",
         "18794113",
         "18812399",
         "18818083",
         "18847491",
         "18985806",
         "18995830",
         "19085961",
         "19203586",
         "19251701",
         "19266268",
         "19303885",
         "19477925",
         "19819244",
         "19828454",
         "19861417",
         "19882354",
         "19907922",
         "19933256",
         "19934315",
         "19962312",
         "20005840",
         "20009884",
         "20024960",
         "20026654",
         "20041275",
         "20080565",
         "20123963",
         "20353948",
         "20372057",
         "20562916",
         "20599567",
         "20610713",
         "20637859",
         "20661218",
         "20663147",
         "20673369",
         "20696760",
         "20711232",
         "20931131",
         "20935676",
         "20962272",
         "21148320",
         "21317932",
         "21383696",
         "21386980",
         "21394211",
         "21423215",
         "21441950",
         "21454683",
         "21465263",
         "21532626",
         "21642861",
         "21660965",
         "21757780",
         "21765463",
         "21765464",
         "21832239",
         "22002314",
         "22011578",
         "22030623",
         "22037398",
         "22055193",
         "22099307",
         "22112863",
         "22179839",
         "22285752",
         "22728651",
         "22797063",
         "22815859",
         "22975381",
         "23148227",
         "23150668",
         "23184057",
         "23678107",
         "23798621",
         "23871434",
         "23890999",
         "23982736",
         "24038750",
         "24657168",
         "24711418",
         "24820418",
         "24958101",
         "25202122",
         "8327466",
         "9254608",
         "9315650",
         "9363941",
         "9571186",
         "9620776",
         "9733515",
         "9739174",
         "9744860",
         "9843217",
         "9925639"
        ],
        "source": "CHEK2",
        "target": "TP53",
        "type": "controls-state-change-of"
       }
      }
     },
     "39b1bbb2ea484283beb8b71b34f2f4b0": {
      "model_module": "jupyter-cytoscape",
      "model_module_version": "^1.2.2",
      "model_name": "EdgeModel",
      "state": {
       "_model_module_version": "^1.2.2",
       "_view_module_version": "^1.2.2",
       "data": {
        "cited": 98,
        "datasource": [
         "PhosphoSite",
         "pid"
        ],
        "id": "HIPK2-controls-state-change-of-TP53",
        "isdirected": true,
        "pubmed": [
         "10581258",
         "11030628",
         "11101524",
         "11300786",
         "11495913",
         "11740489",
         "11780126",
         "11875057",
         "12021785",
         "12093737",
         "12397361",
         "12427754",
         "12676607",
         "12860987",
         "12902982",
         "12907596",
         "14749479",
         "15322239",
         "15381073",
         "15471885",
         "15489221",
         "15526030",
         "15619621",
         "15657359",
         "15706352",
         "15750624",
         "15843377",
         "15870257",
         "15897882",
         "16219768",
         "16247456",
         "16377624",
         "16601678",
         "16717128",
         "16738336",
         "16793543",
         "17105820",
         "17107963",
         "17210684",
         "17332358",
         "17349958",
         "17349959",
         "17380123",
         "17567906",
         "17591690",
         "17891183",
         "17906639",
         "18056705",
         "18160537",
         "18216278",
         "18536714",
         "18560558",
         "18769132",
         "19465479",
         "19819244",
         "19828042",
         "19857493",
         "19861417",
         "19882354",
         "19965871",
         "20018442",
         "20024960",
         "20123963",
         "20171273",
         "20363803",
         "20514025",
         "20610713",
         "20673369",
         "20696760",
         "20811699",
         "20935676",
         "20962272",
         "21057547",
         "21383696",
         "21394211",
         "21642861",
         "21660965",
         "21765463",
         "21765464",
         "22011578",
         "22797063",
         "22878263",
         "23149944",
         "24145406",
         "24196445",
         "24379358",
         "24899407"
        ],
        "source": "HIPK2",
        "target": "TP53",
        "type": "controls-state-change-of"
       }
      }
     },
     "3a0b5e7708204ce5b741af3d60cc9f4c": {
      "model_module": "jupyter-cytoscape",
      "model_module_version": "^1.2.2",
      "model_name": "EdgeModel",
      "state": {
       "_model_module_version": "^1.2.2",
       "_view_module_version": "^1.2.2",
       "data": {
        "cited": 0,
        "datasource": [
         "PANTHER"
        ],
        "id": "MAPK13-controls-state-change-of-TP73",
        "isdirected": true,
        "pubmed": [],
        "source": "MAPK13",
        "target": "TP73",
        "type": "controls-state-change-of"
       }
      }
     },
     "3a31ecf6654b42beabe008753f594e5c": {
      "model_module": "jupyter-cytoscape",
      "model_module_version": "^1.2.2",
      "model_name": "NodeModel",
      "state": {
       "_model_module_version": "^1.2.2",
       "_view_module_version": "^1.2.2",
       "data": {
        "altered": 0,
        "cited": 13,
        "id": "HIST1H1A",
        "importance": 3,
        "isseed": false,
        "isvalid": true,
        "rank": 173,
        "uniprot": "Q02539",
        "uniprotdesc": "Histone H1 protein binds to linker DNA betweennucleosomes forming the macromolecular structure known as thechromatin fiber. Histones H1 are necessary for the condensation ofnucleosome chains into higher-order structured fibers. Acts alsoas a regulator of individual gene transcription through chromatinremodeling, nucleosome spacing and DNA methylation (Bysimilarity). "
       },
       "grabbable": true,
       "grabbed": false,
       "position": {
        "x": 520.6279605351583,
        "y": 15.378003362979461
       }
      }
     },
     "3ab8f86474a043898707aeaa42a30ff9": {
      "model_module": "jupyter-cytoscape",
      "model_module_version": "^1.2.2",
      "model_name": "NodeModel",
      "state": {
       "_model_module_version": "^1.2.2",
       "_view_module_version": "^1.2.2",
       "data": {
        "altered": 0,
        "cited": 209,
        "id": "HIST1H1B",
        "importance": 3,
        "isseed": false,
        "isvalid": true,
        "rank": 96,
        "uniprot": "P16401",
        "uniprotdesc": "Histone H1 protein binds to linker DNA betweennucleosomes forming the macromolecular structure known as thechromatin fiber. Histones H1 are necessary for the condensation ofnucleosome chains into higher-order structured fibers. Acts alsoas a regulator of individual gene transcription through chromatinremodeling, nucleosome spacing and DNA methylation (Bysimilarity). "
       },
       "grabbable": true,
       "grabbed": false,
       "position": {
        "x": 557.6400364363117,
        "y": 145.92046187056266
       }
      }
     },
     "3b9f6ff8628a4e37a7d4b1141a7cf405": {
      "model_module": "jupyter-cytoscape",
      "model_module_version": "^1.2.2",
      "model_name": "NodeModel",
      "state": {
       "_model_module_version": "^1.2.2",
       "_view_module_version": "^1.2.2",
       "data": {
        "id": "18",
        "name": "age: 34\nvirus: ncov\n",
        "parent": "parent-1"
       },
       "grabbable": true,
       "grabbed": false,
       "position": {
        "x": 706.5529415139175,
        "y": 230
       },
       "selectable": false
      }
     },
     "3bb78add8adb46b6bdfcaf06c1c939e7": {
      "model_module": "jupyter-cytoscape",
      "model_module_version": "^1.2.2",
      "model_name": "NodeModel",
      "state": {
       "_model_module_version": "^1.2.2",
       "_view_module_version": "^1.2.2",
       "data": {
        "altered": 0,
        "cited": 7,
        "id": "TRIAP1",
        "importance": 3,
        "isseed": false,
        "isvalid": true,
        "rank": 183,
        "uniprot": "O43715",
        "uniprotdesc": "Involved in the modulation of the mitochondrialapoptotic pathway by ensuring the accumulation of cardiolipin (CL)in mitochondrial membranes. In vitro, the TRIAP1:PRELID1 complexmediates the transfer of phosphatidic acid (PA) between liposomesand probably functions as a PA transporter across themitochondrion intermembrane space to provide PA for CL synthesisin the inner membrane. Mediates cell survival by inhibitingactivation of caspase-9 which prevents induction of apoptosis."
       },
       "grabbable": true,
       "grabbed": false,
       "position": {
        "x": 609.5236489445441,
        "y": -54.109725768492495
       }
      }
     },
     "3bc15b413fc94276ba2340d9df81b5d3": {
      "model_module": "jupyter-cytoscape",
      "model_module_version": "^1.2.2",
      "model_name": "NodeModel",
      "state": {
       "_model_module_version": "^1.2.2",
       "_view_module_version": "^1.2.2",
       "data": {
        "altered": 0,
        "cited": 7554,
        "id": "HGF",
        "importance": 3,
        "isseed": false,
        "isvalid": true,
        "rank": 4,
        "uniprot": "P14210",
        "uniprotdesc": "Potent mitogen for mature parenchymal hepatocyte cells,seems to be a hepatotrophic factor, and acts as a growth factorfor a broad spectrum of tissues and cell types. Activating ligandfor the receptor tyrosine kinase MET by binding to it andpromoting its dimerization. "
       },
       "grabbable": true,
       "grabbed": false,
       "position": {
        "x": 939.8151145625014,
        "y": 238.84435899324126
       }
      }
     },
     "3c174ab280bf47869b027a2bef3d66fe": {
      "model_module": "jupyter-cytoscape",
      "model_module_version": "^1.2.2",
      "model_name": "EdgeModel",
      "state": {
       "_model_module_version": "^1.2.2",
       "_view_module_version": "^1.2.2",
       "data": {
        "cited": 0,
        "datasource": [
         "PANTHER"
        ],
        "id": "PPP2CB-controls-state-change-of-TP63",
        "isdirected": true,
        "pubmed": [],
        "source": "PPP2CB",
        "target": "TP63",
        "type": "controls-state-change-of"
       }
      }
     },
     "3c871ac61de34870beafa597980fbc99": {
      "model_module": "jupyter-cytoscape",
      "model_module_version": "^1.2.2",
      "model_name": "EdgeModel",
      "state": {
       "_model_module_version": "^1.2.2",
       "_view_module_version": "^1.2.2",
       "data": {
        "cited": 2748,
        "datasource": [
         "pid"
        ],
        "id": "MDM2-controls-state-change-of-TP53",
        "isdirected": true,
        "pubmed": [
         "10734067",
         "11127820",
         "11340074",
         "11713287",
         "14654783",
         "14671306",
         "14702041",
         "15210108",
         "15242646",
         "16107876",
         "9153395",
         "9153396",
         "9450543"
        ],
        "source": "MDM2",
        "target": "TP53",
        "type": "controls-state-change-of"
       }
      }
     },
     "3d8dc212ce454c85a45f3eb7c5ca90c7": {
      "model_module": "jupyter-cytoscape",
      "model_module_version": "^1.2.2",
      "model_name": "NodeModel",
      "state": {
       "_model_module_version": "^1.2.2",
       "_view_module_version": "^1.2.2",
       "data": {
        "altered": 0,
        "cited": 79,
        "id": "MAPK12",
        "importance": 3,
        "isseed": false,
        "isvalid": true,
        "rank": 131,
        "uniprot": "P53778",
        "uniprotdesc": "Serine/threonine kinase which acts as an essentialcomponent of the MAP kinase signal transduction pathway. MAPK12 isone of the four p38 MAPKs which play an important role in thecascades of cellular responses evoked by extracellular stimulisuch as proinflammatory cytokines or physical stress leading todirect activation of transcription factors such as ELK1 and ATF2.Accordingly, p38 MAPKs phosphorylate a broad range of proteins andit has been estimated that they may have approximately 200 to 300substrates each. Some of the targets are downstream kinases suchas MAPKAPK2, which are activated through phosphorylation andfurther phosphorylate additional targets. Plays a role in myoblastdifferentiation and also in the down-regulation of cyclin D1 inresponse to hypoxia in adrenal cells suggesting MAPK12 may inhibitcell proliferation while promoting differentiation. PhosphorylatesDLG1. Following osmotic shock, MAPK12 in the cell nucleusincreases its association with nuclear DLG1, thereby causingdissociation of DLG1-SFPQ complexes. This function is independentof its catalytic activity and could affect mRNA processing and/orgene transcription to aid cell adaptation to osmolarity changes inthe environment. Regulates UV-induced checkpoint signaling andrepair of UV-induced DNA damage and G2 arrest after gamma-radiation exposure. MAPK12 is involved in the regulation of SLC2A1expression and basal glucose uptake in L6 myotubes; and negativelyregulates SLC2A4 expression and contraction-mediated glucoseuptake in adult skeletal muscle. C-Jun (JUN) phosphorylation isstimulated by MAPK14 and inhibited by MAPK12, leading to adistinct AP-1 regulation. MAPK12 is required for the normalkinetochore localization of PLK1, prevents chromosomal instabilityand supports mitotic cell viability. MAPK12-signaling is alsopositively regulating the expansion of transient amplifyingmyogenic precursor cells during muscle growth and regeneration."
       },
       "grabbable": true,
       "grabbed": false,
       "position": {
        "x": 659.6577980392298,
        "y": 270.8138980066715
       }
      }
     },
     "3dcebfd1c4b447d68ac006d03657f4e6": {
      "model_module": "jupyter-cytoscape",
      "model_module_version": "^1.2.2",
      "model_name": "NodeModel",
      "state": {
       "_model_module_version": "^1.2.2",
       "_view_module_version": "^1.2.2",
       "data": {
        "altered": 0,
        "cited": 2835,
        "id": "EP300",
        "importance": 3,
        "isseed": false,
        "isvalid": true,
        "rank": 19,
        "uniprot": "Q09472",
        "uniprotdesc": "Functions as histone acetyltransferase and regulatestranscription via chromatin remodeling. Acetylates all four corehistones in nucleosomes. Histone acetylation gives an epigenetictag for transcriptional activation. Mediates cAMP-gene regulationby binding specifically to phosphorylated CREB protein. Mediatesacetylation of histone H3 at 'Lys-122' (H3K122ac), a modificationthat localizes at the surface of the histone octamer andstimulates transcription, possibly by promoting nucleosomeinstability. Mediates acetylation of histone H3 at 'Lys-27'(H3K27ac). Also functions as acetyltransferase for nonhistonetargets. Acetylates 'Lys-131' of ALX1 and acts as its coactivatorin the presence of CREBBP. Acetylates SIRT2 and is proposed toindirectly increase the transcriptional activity of TP53 throughacetylation and subsequent attenuation of SIRT2 deacetylasefunction. Acetylates HDAC1 leading to its inactivation andmodulation of transcription. Acts as a TFAP2A-mediatedtranscriptional coactivator in presence of CITED2. Plays a role asa coactivator of NEUROD1-dependent transcription of the secretinand p21 genes and controls terminal differentiation of cells inthe intestinal epithelium. Promotes cardiac myocyte enlargement.Can also mediate transcriptional repression. Binds to and may beinvolved in the transforming capacity of the adenovirus E1Aprotein. In case of HIV-1 infection, it is recruited by the viralprotein Tat. Regulates Tat's transactivating activity and may helpinducing chromatin remodeling of proviral genes. Acetylates FOXO1and enhances its transcriptional activity. Acetylates BCL6 wichdisrupts its ability to recruit histone deacetylases and hindersits transcriptional repressor activity. Participates in CLOCK orNPAS2-regulated rhythmic gene transcription; exhibits a circadianassociation with CLOCK or NPAS2, correlating with increase inPER1/2 mRNA and histone H3 acetylation on the PER1/2 promoter.Acetylates MTA1 at 'Lys-626' which is essential for itstranscriptional coactivator activity (PubMed:10733570,PubMed:11430825, PubMed:11701890, PubMed:12402037,PubMed:12586840, PubMed:12929931, PubMed:14645221,PubMed:15186775, PubMed:15890677, PubMed:16617102,PubMed:16762839, PubMed:18722353, PubMed:18995842,PubMed:23415232, PubMed:23911289, PubMed:23934153,PubMed:8945521). Acetylates XBP1 isoform 2; acetylation increasesprotein stability of XBP1 isoform 2 and enhances itstranscriptional activity (By similarity)."
       },
       "grabbable": true,
       "grabbed": false,
       "position": {
        "x": 607.6400374363117,
        "y": 195.9204628705627
       }
      }
     },
     "3ddb3eb69be2415a9edab813239b8d2e": {
      "model_module": "jupyter-cytoscape",
      "model_module_version": "^1.2.2",
      "model_name": "NodeModel",
      "state": {
       "_model_module_version": "^1.2.2",
       "_view_module_version": "^1.2.2",
       "data": {
        "altered": 0,
        "cited": 859,
        "id": "CHEK2",
        "importance": 3,
        "isseed": false,
        "isvalid": true,
        "rank": 42,
        "uniprot": "O96017",
        "uniprotdesc": "Serine/threonine-protein kinase which is required forcheckpoint-mediated cell cycle arrest, activation of DNA repairand apoptosis in response to the presence of DNA double-strandbreaks. May also negatively regulate cell cycle progression duringunperturbed cell cycles. Following activation, phosphorylatesnumerous effectors preferentially at the consensus sequence [L-X-R-X-X-S/T]. Regulates cell cycle checkpoint arrest throughphosphorylation of CDC25A, CDC25B and CDC25C, inhibiting theiractivity. Inhibition of CDC25 phosphatase activity leads toincreased inhibitory tyrosine phosphorylation of CDK-cyclincomplexes and blocks cell cycle progression. May alsophosphorylate NEK6 which is involved in G2/M cell cycle arrest.Regulates DNA repair through phosphorylation of BRCA2, enhancingthe association of RAD51 with chromatin which promotes DNA repairby homologous recombination. Also stimulates the transcription ofgenes involved in DNA repair (including BRCA2) through thephosphorylation and activation of the transcription factor FOXM1.Regulates apoptosis through the phosphorylation of p53/TP53, MDM4and PML. Phosphorylation of p53/TP53 at 'Ser-20' by CHEK2 mayalleviate inhibition by MDM2, leading to accumulation of activep53/TP53. Phosphorylation of MDM4 may also reduce degradation ofp53/TP53. Also controls the transcription of pro-apoptotic genesthrough phosphorylation of the transcription factor E2F1. Tumorsuppressor, it may also have a DNA damage-independent function inmitotic spindle assembly by phosphorylating BRCA1. Its absence maybe a cause of the chromosomal instability observed in some cancercells. "
       },
       "grabbable": true,
       "grabbed": false,
       "position": {
        "x": 820.6279665351584,
        "y": 88.84435599324128
       }
      }
     },
     "3e21ec9ade4442fd8adb022d20e7ad3b": {
      "model_module": "jupyter-cytoscape",
      "model_module_version": "^1.2.2",
      "model_name": "EdgeModel",
      "state": {
       "_model_module_version": "^1.2.2",
       "_view_module_version": "^1.2.2",
       "data": {
        "cited": 0,
        "datasource": [
         "PANTHER"
        ],
        "id": "PRKAA2-controls-state-change-of-TP63",
        "isdirected": true,
        "pubmed": [],
        "source": "PRKAA2",
        "target": "TP63",
        "type": "controls-state-change-of"
       }
      }
     },
     "3e28200928704bc29666056d42ebcab2": {
      "model_module": "jupyter-cytoscape",
      "model_module_version": "^1.2.2",
      "model_name": "EdgeModel",
      "state": {
       "_model_module_version": "^1.2.2",
       "_view_module_version": "^1.2.2",
       "data": {
        "cited": 0,
        "datasource": [
         "PANTHER"
        ],
        "id": "IGBP1-controls-state-change-of-TP73",
        "isdirected": true,
        "pubmed": [],
        "source": "IGBP1",
        "target": "TP73",
        "type": "controls-state-change-of"
       }
      }
     },
     "3eaaf91dac624c199b2a0b15c6a64f27": {
      "model_module": "jupyter-cytoscape",
      "model_module_version": "^1.2.2",
      "model_name": "NodeModel",
      "state": {
       "_model_module_version": "^1.2.2",
       "_view_module_version": "^1.2.2",
       "data": {
        "id": "4"
       },
       "grabbable": true,
       "grabbed": false,
       "position": {
        "x": 657.6528845425463,
        "y": 288.9799896461065
       },
       "selectable": false
      }
     },
     "3f2963c52c9149a38917f9ce06977b7b": {
      "model_module": "jupyter-cytoscape",
      "model_module_version": "^1.2.2",
      "model_name": "NodeModel",
      "state": {
       "_model_module_version": "^1.2.2",
       "_view_module_version": "^1.2.2",
       "data": {
        "altered": 0,
        "cited": 2298,
        "id": "ATM",
        "importance": 3,
        "isseed": false,
        "isvalid": true,
        "rank": 25,
        "uniprot": "Q13315",
        "uniprotdesc": "Serine/threonine protein kinase which activatescheckpoint signaling upon double strand breaks (DSBs), apoptosisand genotoxic stresses such as ionizing ultraviolet A light (UVA),thereby acting as a DNA damage sensor. Recognizes the substrateconsensus sequence [ST]-Q. Phosphorylates 'Ser-139' of histonevariant H2AX/H2AFX at double strand breaks (DSBs), therebyregulating DNA damage response mechanism. Also plays a role inpre-B cell allelic exclusion, a process leading to expression of asingle immunoglobulin heavy chain allele to enforce clonality andmonospecific recognition by the B-cell antigen receptor (BCR)expressed on individual B-lymphocytes. After the introduction ofDNA breaks by the RAG complex on one immunoglobulin allele, actsby mediating a repositioning of the second allele topericentromeric heterochromatin, preventing accessibility to theRAG complex and recombination of the second allele. Also involvedin signal transduction and cell cycle control. May function as atumor suppressor. Necessary for activation of ABL1 and SAPK.Phosphorylates DYRK2, CHEK2, p53/TP53, FANCD2, NFKBIA, BRCA1,CTIP, nibrin (NBN), TERF1, RAD9 and DCLRE1C. May play a role invesicle and/or protein transport. Could play a role in T-celldevelopment, gonad and neurological function. Plays a role inreplication-dependent histone mRNA degradation. Binds DNA ends.Phosphorylation of DYRK2 in nucleus in response to genotoxicstress prevents its MDM2-mediated ubiquitination and subsequentproteasome degradation. Phosphorylates ATF2 which stimulates itsfunction in DNA damage response. "
       },
       "grabbable": true,
       "grabbed": false,
       "position": {
        "x": 709.6577990392296,
        "y": 244.7342809219389
       }
      }
     },
     "3f8ec5f9f8e6403caea74fbbc8049258": {
      "model_module": "jupyter-cytoscape",
      "model_module_version": "^1.2.2",
      "model_name": "EdgeModel",
      "state": {
       "_model_module_version": "^1.2.2",
       "_view_module_version": "^1.2.2",
       "data": {
        "cited": 11,
        "datasource": [
         "pid"
        ],
        "id": "TP53-controls-expression-of-RFWD2",
        "isdirected": true,
        "pubmed": [
         "15103385"
        ],
        "source": "TP53",
        "target": "RFWD2",
        "type": "controls-expression-of"
       }
      }
     },
     "4044756b92a64c68bb1aa97496715400": {
      "model_module": "jupyter-cytoscape",
      "model_module_version": "^1.2.2",
      "model_name": "EdgeModel",
      "state": {
       "_model_module_version": "^1.2.2",
       "_view_module_version": "^1.2.2",
       "data": {
        "cited": 4,
        "datasource": [
         "Reactome"
        ],
        "id": "TP53-controls-state-change-of-HIST1H1C",
        "isdirected": true,
        "pubmed": [
         "15621527",
         "15655109",
         "16901784",
         "17158953",
         "17242198",
         "17242207",
         "23964094"
        ],
        "source": "TP53",
        "target": "HIST1H1C",
        "type": "controls-state-change-of"
       }
      }
     },
     "40990fdd8d63409483df1fb733a78be2": {
      "model_module": "jupyter-cytoscape",
      "model_module_version": "^1.2.2",
      "model_name": "EdgeModel",
      "state": {
       "_model_module_version": "^1.2.2",
       "_view_module_version": "^1.2.2",
       "data": {
        "cited": 0,
        "datasource": [
         "PhosphoSite"
        ],
        "id": "DAPK3-controls-state-change-of-TP53",
        "isdirected": true,
        "pubmed": [
         "10202145",
         "10570149",
         "10656795",
         "10673500",
         "10673501",
         "10706102",
         "10710310",
         "10734067",
         "11030628",
         "11175334",
         "11244509",
         "11258706",
         "11397945",
         "11423984",
         "11447225",
         "11495913",
         "11526498",
         "11551930",
         "11583595",
         "11707453",
         "11850826",
         "11861384",
         "11875057",
         "11896572",
         "11896587",
         "12091386",
         "12384533",
         "12427754",
         "12531896",
         "12676607",
         "12756247",
         "12810724",
         "12860987",
         "12861053",
         "12902982",
         "12955074",
         "12959929",
         "12969974",
         "14517211",
         "14527925",
         "14612532",
         "14665630",
         "15064747",
         "15140942",
         "15254178",
         "15269203",
         "15322239",
         "15471885",
         "15489221",
         "15629715",
         "15671037",
         "15750624",
         "15843377",
         "15963507",
         "16377624",
         "16651424",
         "16731759",
         "16774943",
         "16818520",
         "17105820",
         "17121812",
         "17135248",
         "17245430",
         "17339337",
         "17353187",
         "17363488",
         "17698850",
         "17967874",
         "17977830",
         "18159951",
         "18593910",
         "18669630",
         "18718914",
         "18778462",
         "19819244",
         "19861417",
         "19882354",
         "20009884",
         "20024960",
         "20041275",
         "20562916",
         "20673369",
         "20696760",
         "20962272",
         "21148320",
         "21383696",
         "21454683",
         "21832239",
         "22030623",
         "22112863",
         "22285752",
         "22728651",
         "22797063",
         "22815859",
         "23798621",
         "23871434",
         "24657168",
         "8327466"
        ],
        "source": "DAPK3",
        "target": "TP53",
        "type": "controls-state-change-of"
       }
      }
     },
     "40b57ea24dfe4cf18351328aa5674fd5": {
      "model_module": "jupyter-cytoscape",
      "model_module_version": "^1.2.2",
      "model_name": "NodeModel",
      "state": {
       "_model_module_version": "^1.2.2",
       "_view_module_version": "^1.2.2",
       "data": {
        "id": "8",
        "name": "age: 40\nvirus: ncov\n",
        "parent": "parent-1"
       },
       "grabbable": true,
       "grabbed": false,
       "position": {
        "x": 706.5529415139175,
        "y": 110
       },
       "selectable": false
      }
     },
     "410d31c9d7ad491bb417c7ffdc235ce0": {
      "model_module": "jupyter-cytoscape",
      "model_module_version": "^1.2.2",
      "model_name": "NodeModel",
      "state": {
       "_model_module_version": "^1.2.2",
       "_view_module_version": "^1.2.2",
       "data": {
        "id": "3"
       },
       "grabbable": true,
       "grabbed": false,
       "position": {
        "x": 694.0616588043728,
        "y": 226.36289879595165
       },
       "selectable": false
      }
     },
     "416dd8e7bf964f2989c7befbf92297a3": {
      "model_module": "jupyter-cytoscape",
      "model_module_version": "^1.2.2",
      "model_name": "NodeModel",
      "state": {
       "_model_module_version": "^1.2.2",
       "_view_module_version": "^1.2.2",
       "data": {
        "altered": 0,
        "cited": 22,
        "id": "SETD8",
        "importance": 3,
        "isseed": false,
        "isvalid": true,
        "rank": 164,
        "uniprot": "Q9NQR1",
        "uniprotdesc": "Protein-lysine N-methyltransferase that monomethylatesboth histones and non-histone proteins. Specificallymonomethylates 'Lys-20' of histone H4 (H4K20me1). H4K20me1 isenriched during mitosis and represents a specific tag forepigenetic transcriptional repression. Mainly functions ineuchromatin regions, thereby playing a central role in thesilencing of euchromatic genes. Required for cell proliferation,probably by contributing to the maintenance of proper higher-orderstructure of DNA during mitosis. Involved in chromosomecondensation and proper cytokinesis. Nucleosomes are preferred assubstrate compared to free histones. Mediates monomethylation ofp53/TP53 at 'Lys-382', leading to repress p53/TP53-target genes.Plays a negative role in TGF-beta response regulation and apositive role in cell migration. "
       },
       "grabbable": true,
       "grabbed": false,
       "position": {
        "x": 459.5236459445441,
        "y": -85.7665766879971
       }
      }
     },
     "41b339bd6d5d4fa49824df93038bf1e9": {
      "model_module": "jupyter-cytoscape",
      "model_module_version": "^1.2.2",
      "model_name": "NodeModel",
      "state": {
       "_model_module_version": "^1.2.2",
       "_view_module_version": "^1.2.2",
       "data": {
        "altered": 0,
        "cited": 1011,
        "id": "FAS",
        "importance": 3,
        "isseed": false,
        "isvalid": true,
        "rank": 38,
        "uniprot": "P25445",
        "uniprotdesc": "Receptor for TNFSF6/FASLG. The adapter molecule FADDrecruits caspase-8 to the activated receptor. The resulting death-inducing signaling complex (DISC) performs caspase-8 proteolyticactivation which initiates the subsequent cascade of caspases(aspartate-specific cysteine proteases) mediating apoptosis. FAS-mediated apoptosis may have a role in the induction of peripheraltolerance, in the antigen-stimulated suicide of mature T-cells, orboth. The secreted isoforms 2 to 6 block apoptosis (in vitro)."
       },
       "grabbable": true,
       "grabbed": false,
       "position": {
        "x": 866.3396317771807,
        "y": 382.79215243145495
       }
      }
     },
     "42077dd326fc4968ad61a18414bfe176": {
      "model_module": "jupyter-cytoscape",
      "model_module_version": "^1.2.2",
      "model_name": "EdgeModel",
      "state": {
       "_model_module_version": "^1.2.2",
       "_view_module_version": "^1.2.2",
       "data": {
        "cited": 0,
        "datasource": [
         "PANTHER"
        ],
        "id": "WRN-controls-state-change-of-TP73",
        "isdirected": true,
        "pubmed": [],
        "source": "WRN",
        "target": "TP73",
        "type": "controls-state-change-of"
       }
      }
     },
     "4267c571bcde47fb9d6b9a474a03f4f5": {
      "model_module": "jupyter-cytoscape",
      "model_module_version": "^1.2.2",
      "model_name": "EdgeModel",
      "state": {
       "_model_module_version": "^1.2.2",
       "_view_module_version": "^1.2.2",
       "data": {
        "cited": 45,
        "datasource": [
         "pid"
        ],
        "id": "TP53-controls-expression-of-GADD45A",
        "isdirected": true,
        "pubmed": [
         "15186775",
         "18250150"
        ],
        "source": "TP53",
        "target": "GADD45A",
        "type": "controls-expression-of"
       }
      }
     },
     "427362c0fbf348fb9b1f2a4c37728ec8": {
      "model_module": "jupyter-cytoscape",
      "model_module_version": "^1.2.2",
      "model_name": "NodeModel",
      "state": {
       "_model_module_version": "^1.2.2",
       "_view_module_version": "^1.2.2",
       "data": {
        "id": "parent-2",
        "name": [
         "China"
        ]
       },
       "grabbable": true,
       "grabbed": false,
       "position": {
        "x": 723.1689007904996,
        "y": 10.50717792426343
       },
       "selectable": false
      }
     },
     "42d349115655445caa7ddbbc923d462a": {
      "model_module": "jupyter-cytoscape",
      "model_module_version": "^1.2.2",
      "model_name": "EdgeModel",
      "state": {
       "_model_module_version": "^1.2.2",
       "_view_module_version": "^1.2.2",
       "data": {
        "cited": 72,
        "datasource": [
         "pid"
        ],
        "id": "CREBBP-controls-state-change-of-TP53",
        "isdirected": true,
        "pubmed": [
         "18485870"
        ],
        "source": "CREBBP",
        "target": "TP53",
        "type": "controls-state-change-of"
       }
      }
     },
     "42f6ebeba5b34501865d1bf3f4277988": {
      "model_module": "jupyter-cytoscape",
      "model_module_version": "^1.2.2",
      "model_name": "GraphModel",
      "state": {
       "_adj": {
        "APAF1": {},
        "APC": {},
        "ASF1A": {},
        "ATM": {},
        "ATR": {},
        "BAX": {},
        "BTG2": {},
        "CABIN1": {},
        "CARM1": {},
        "CASP1": {},
        "CASP10": {},
        "CASP6": {},
        "CCNB1": {},
        "CD82": {},
        "CDK1": {},
        "CDK2": {},
        "CDK5": {},
        "CDK7": {},
        "CDK9": {},
        "CDKN1A": {},
        "CHEK2": {},
        "COL18A1": {},
        "CREBBP": {},
        "CTSD": {},
        "DAPK1": {},
        "DAPK3": {},
        "DDB2": {},
        "DYRK1A": {},
        "E4F1": {},
        "EP300": {},
        "FAS": {},
        "FBXO11": {},
        "FDXR": {},
        "FOS": {},
        "GADD45A": {},
        "GDF15": {},
        "GPX1": {},
        "H1F0": {},
        "HGF": {},
        "HIC1": {},
        "HIPK2": {},
        "HIRA": {},
        "HIST1H1A": {},
        "HIST1H1B": {},
        "HIST1H1C": {},
        "HIST1H1D": {},
        "HIST1H1E": {},
        "HMGA1": {},
        "HMGA2": {},
        "HMGB1": {},
        "HTT": {},
        "IGBP1": {},
        "IRF5": {},
        "KAT2B": {},
        "KAT8": {},
        "MAPK11": {},
        "MAPK12": {},
        "MAPK13": {},
        "MAPK14": {},
        "MAX": {},
        "MDM2": {},
        "MSH2": {},
        "NEDD8": {},
        "NGFR": {},
        "PCBP4": {},
        "PLK3": {},
        "PML": {},
        "PPM1J": {},
        "PPP1R13L": {},
        "PPP2CA": {},
        "PPP2CB": {},
        "PRKAA1": {},
        "PRKAA2": {},
        "PRKAB1": {},
        "PRKAB2": {},
        "PRKAG1": {},
        "PRKCA": {},
        "PRKCD": {},
        "PRKDC": {},
        "PRMT1": {},
        "PRMT5": {},
        "PYCARD": {},
        "RB1": {},
        "RFWD2": {},
        "RNF144B": {},
        "SERPINE1": {},
        "SETD7": {},
        "SETD8": {},
        "SIRT1": {},
        "SMYD2": {},
        "SP1": {},
        "SUMO1": {},
        "TAP1": {},
        "TP53": {},
        "TP53-controls-state-change-of-H1F0": {},
        "TP53I3": {},
        "TP63": {},
        "TP73": {},
        "TRIAP1": {},
        "TYRP1": {},
        "UBN1": {},
        "WRN": {}
       },
       "_model_module_version": "^1.2.2",
       "_view_module": "jupyter-cytoscape",
       "_view_module_version": "^1.2.2",
       "edges": [
        "IPY_MODEL_cbbe38b73e214266beb8f83cf290eff5",
        "IPY_MODEL_d5dbbf07ce9f44199e66d16bebf12406",
        "IPY_MODEL_217d8a8613f143c3aec0c2eb6d02582b",
        "IPY_MODEL_b378090780f24ebcaa8966bcb36f92de",
        "IPY_MODEL_986a2befa156404ca926ac58b70ad146",
        "IPY_MODEL_efa3fc1ee505454ca4f4849f374df732",
        "IPY_MODEL_93d25f55b9384e3ba507aab7237807af",
        "IPY_MODEL_25c9bec9d88c4e7d8daf0d12c6d09734",
        "IPY_MODEL_968707bc6f134d03be2a3dff4879d2d8",
        "IPY_MODEL_8cdd29026fe84f03adc5f6fe3830f280",
        "IPY_MODEL_3c871ac61de34870beafa597980fbc99",
        "IPY_MODEL_5a6b22320e094c28a7572d3ddc9a2da7",
        "IPY_MODEL_ca8d23b93eca4905a8a2c30977d1fac3",
        "IPY_MODEL_45c8340d360e453ba8a37cd784863125",
        "IPY_MODEL_930ea83f68aa4c58bcab58eb777c77eb",
        "IPY_MODEL_1de91f82e1f14b8e9c693516dd418465",
        "IPY_MODEL_0643481bc2294a66b528a24061d05477",
        "IPY_MODEL_94f4d61db455438cbdbbd97a669058de",
        "IPY_MODEL_0cf21a341a2541b19506bbcee9ad44a1",
        "IPY_MODEL_35f48b248c92479ba0b953c6c7e6661c",
        "IPY_MODEL_ad3997f6bda44a20bb1f94e267433254",
        "IPY_MODEL_178ebaa818a44082bad8d56a51265cf6",
        "IPY_MODEL_ea46d7e580a94f329388acf01441c13b",
        "IPY_MODEL_9974238554e54178b3597eb20901f0c8",
        "IPY_MODEL_480c4fe2300a43f4894e0a112aa6f4ef",
        "IPY_MODEL_cf85123a88ae497696e279ba09069793",
        "IPY_MODEL_72f651fbd43e4c7ea5afece1172a5356",
        "IPY_MODEL_67ff18ab74874903aa9c0c4c54e5f7a1",
        "IPY_MODEL_97d78be55b134b57b29779cf7200506d",
        "IPY_MODEL_5ee39a2e53fa461aabf418a391c1a3a6",
        "IPY_MODEL_b5ea5f00d9834eeca802c245930d6946",
        "IPY_MODEL_789d80fc075c441a82b5b6259bb8f2c8",
        "IPY_MODEL_332807363b7a4c28854524ca16723840",
        "IPY_MODEL_77f1d2634666495d9d39cd7a0ecded60",
        "IPY_MODEL_d72fdd8ef984407ca09f9e3fee8caea3",
        "IPY_MODEL_607357b40bb549f9bc7954c5c2205d32",
        "IPY_MODEL_d19c5ac943f6454d976ecb2268748497",
        "IPY_MODEL_f03b1af5cc054f7fa7d75d9110d3ee9f",
        "IPY_MODEL_24302cc9cfc94653901217aa49c8f4d2",
        "IPY_MODEL_0efe72f083a14f0587207c98c438d9ac",
        "IPY_MODEL_21208f1e08c54e2c90a02dd730ead199",
        "IPY_MODEL_4318bd754c92425d9a351cbb1c522e2e",
        "IPY_MODEL_4f8f96c279e449ffbb1a896061f9bffb",
        "IPY_MODEL_daec39aad3ac492880f201ae39a59c8a",
        "IPY_MODEL_84ff30991dec49348dceb5e97b164913",
        "IPY_MODEL_8a3f4018029548d89743f1b28c814e93",
        "IPY_MODEL_c7b43599bdff41f0a0a48cf3a30481b8",
        "IPY_MODEL_eb29a618a59949ecb1347e466eb1d192",
        "IPY_MODEL_8a2624ff75e9496bb6e8520df0970d7e",
        "IPY_MODEL_faadfc6bdeab4b5bb4f5cab6f51ad1a5",
        "IPY_MODEL_e3f49709b4c3460ba679e806f5a5bdad",
        "IPY_MODEL_33e8d96b5c644550a41074d59ea5b2d4",
        "IPY_MODEL_a500e73fc91749eca39160b9b6c5848e",
        "IPY_MODEL_cef9afce7f2948d5b9ee81de4d64aa5b",
        "IPY_MODEL_720d0f8b77e5478eb446ddbb1b2e4caa",
        "IPY_MODEL_8f14f2870cee44edb7caeae74bab94fd",
        "IPY_MODEL_2ab8b3be24cb419c816b440148cb4e92",
        "IPY_MODEL_479f85aedb3c4189931b41779cd1b459",
        "IPY_MODEL_f6a329bc42954fe0991a9c227067fd32",
        "IPY_MODEL_500ffa55a03947aa9ac05df54551298f",
        "IPY_MODEL_39b1bbb2ea484283beb8b71b34f2f4b0",
        "IPY_MODEL_5ed03d9244eb4c2ea6611908ec19dac2",
        "IPY_MODEL_a1c872cb72e64cc087187d16b2e68973",
        "IPY_MODEL_70f8fa2a6e4f42c1b0e0bb2f51164384",
        "IPY_MODEL_c6ac3a47158b425bacb35e180aa3a877",
        "IPY_MODEL_e6ce873a439344beaa6d28c45c922c72",
        "IPY_MODEL_0711dc24ec0f46f892f5677bb3048365",
        "IPY_MODEL_0b12b865da464205a85a4c7e60626006",
        "IPY_MODEL_e4ae723479d84d1ea9528e73fcef8910",
        "IPY_MODEL_f9789a4f971f4b44baf2498fcc593d4d",
        "IPY_MODEL_3a0b5e7708204ce5b741af3d60cc9f4c",
        "IPY_MODEL_c3d8290af791442d975acae7f6a4ae0e",
        "IPY_MODEL_64c36f7d0543416fb0fd4fd392f0a6ea",
        "IPY_MODEL_f3cf7975663c4a27ab3421552198f1bd",
        "IPY_MODEL_b60ca736e9e6402ca246f91af0857c43",
        "IPY_MODEL_5665228ef7fc428bb3e3e1d587072f9b",
        "IPY_MODEL_a3fd532a38924fb899bdd0a11a95a33d",
        "IPY_MODEL_d61e7917c0a44744907ab42ea2994e93",
        "IPY_MODEL_c8faec6b343240b6b11d119578d90dd6",
        "IPY_MODEL_39651c024a2641609294846fcfe6afc1",
        "IPY_MODEL_2f8c489f9d22470ba172b2bf34eabb28",
        "IPY_MODEL_61275150b1794dec8fd962d535a9c948",
        "IPY_MODEL_e7a3f4878f8842a88e110e460444d246",
        "IPY_MODEL_1e84b6f31b484b66a915b07f52cc567b",
        "IPY_MODEL_22d78d7709cf490181a4c24b88c03828",
        "IPY_MODEL_c5f21c36d6c04c3798ded22ba65ddb09",
        "IPY_MODEL_2d2025cdabfd424e8857895acee48988",
        "IPY_MODEL_0da533452b0949f1bd203c91164259f3",
        "IPY_MODEL_51761872374f499cbdc33864402ee488",
        "IPY_MODEL_fe4346ab9de84f8daf0f6e8e27cd413b",
        "IPY_MODEL_50cf15a9cf434c7fb2d7fbea38af1b56",
        "IPY_MODEL_46498074e28b4b938268f5c1c5fcfec2",
        "IPY_MODEL_ba0a5a9b7eb644f6939cb83e0412e3ca",
        "IPY_MODEL_731afb252b874c05912728239f7f60ff",
        "IPY_MODEL_85c7d011c7524d8d89f0b9e329f69ced",
        "IPY_MODEL_fc49a09fe01a4d09ae55811cfbd8f044",
        "IPY_MODEL_024ee87b11c34feca29baa34b7192edb",
        "IPY_MODEL_001b20728b1b44fe877312fdc6104c38",
        "IPY_MODEL_532e1b2f2245420495fda56d25e88beb",
        "IPY_MODEL_e2bd77a988ea49c6ba953ac67d38745e",
        "IPY_MODEL_80eaf67a50ff427f83c55ccb9f81ca5e",
        "IPY_MODEL_e6fff601932b4ebab86ad626f9704092",
        "IPY_MODEL_0b1ffa9153e24459bfbd62d032660bc4",
        "IPY_MODEL_0d40e7467c6248288047a6a0aee649c7",
        "IPY_MODEL_4c301d4ebdda47c7a20a0b6694724191",
        "IPY_MODEL_6deb77c4c5b842dd9346800f06c9ac91",
        "IPY_MODEL_adbdac502a9040b1b9ee7a595868bf6d",
        "IPY_MODEL_8dd863cc90cc4a31954ae71bae8935fc",
        "IPY_MODEL_3f8ec5f9f8e6403caea74fbbc8049258",
        "IPY_MODEL_7cc765ccf7d54d43ab3567741c64594a",
        "IPY_MODEL_98e9f48336d44a4b9fb208b22e7f1e95",
        "IPY_MODEL_641355776296474a93989b1e1175309a",
        "IPY_MODEL_23353af2ab574d348060b0fe746bfcf9",
        "IPY_MODEL_d087fc0c93b94d24ae5a5ef2b46a1510",
        "IPY_MODEL_1251126f2a724bcdafe06d48bc5f8900",
        "IPY_MODEL_94af134ccbf048b2ae79ba6d7612af27",
        "IPY_MODEL_7b2ac36083d344c6a07f9af65ec164ca",
        "IPY_MODEL_38265e3ae9ce44e28ff166220b9006e7",
        "IPY_MODEL_584a4c617eb7444db2569f014da33796",
        "IPY_MODEL_2e3df69ed0474c629946704dede45e92",
        "IPY_MODEL_136b226380814567808dbdd4adf2b204",
        "IPY_MODEL_79f5c478008f4c39bf6d2d41b9f771e0",
        "IPY_MODEL_830e6dc39d9e4fa499e170e122eea2e7",
        "IPY_MODEL_13cc4b5c5acb42e9ae481da972554fc1",
        "IPY_MODEL_ee12730d6c4f4dedab49249299c4f60f",
        "IPY_MODEL_7164381a4b02409ca958a2769f57ef18",
        "IPY_MODEL_b2d1da9a6d06478fa36896b90c70a765",
        "IPY_MODEL_c57da4efc4174de3a4eaa485cf7dc152",
        "IPY_MODEL_77db62d52968448f97aec7792ca4039d",
        "IPY_MODEL_6b3fa36c2f524757aeb41278abd18d0a",
        "IPY_MODEL_31abec5a8ae1470bab29a805530e074e",
        "IPY_MODEL_5c9ce44d688c43d2bcad29f71a5daab6",
        "IPY_MODEL_33c6aa638553485da189006c1b701ba9",
        "IPY_MODEL_6557830434bc4e3598f910831da85ae1",
        "IPY_MODEL_e3c20e6f41194e1e839f1d51ca304353",
        "IPY_MODEL_a3a628d1483a4336ae18fd8ba6a8d9fa",
        "IPY_MODEL_582d0d1328e24ddcbd55841e1787bd60",
        "IPY_MODEL_5855ba1ec87e48bf9f96e40d7f10df1d",
        "IPY_MODEL_152f9b0d32a544cebcc0c259a507aba9",
        "IPY_MODEL_cad839c185e849f3a736cd1c4391489d",
        "IPY_MODEL_40990fdd8d63409483df1fb733a78be2",
        "IPY_MODEL_2cc8b0f6a1f44d76b005c658bf7dc997",
        "IPY_MODEL_dfe5cfac87174c3297ed0934fe39d22a",
        "IPY_MODEL_af071721476342d9b75f9e6cfdbb3ef1",
        "IPY_MODEL_f98ef9970faa4c3ea6d166b84733ee29",
        "IPY_MODEL_02d1e88d752c4339b6b8ca8908baf3c7",
        "IPY_MODEL_1b197750599743e4b32b172a1be4e62b"
       ],
       "nodes": [
        "IPY_MODEL_db9cc53e4bcb45a08a14dc4f30a284cc",
        "IPY_MODEL_a23ec19ab053429cbb1a4536e24d563c",
        "IPY_MODEL_41b339bd6d5d4fa49824df93038bf1e9",
        "IPY_MODEL_0fa06e65f077483ab50c65ce6af76504",
        "IPY_MODEL_b776d03a52b04317acab433a24e1a6db",
        "IPY_MODEL_df9801f5bf3c474598922b9847d94a0c",
        "IPY_MODEL_6de8e9a1b4944680a8cba89e8d0a7dd5",
        "IPY_MODEL_9469a4427dc7446a95aac18e33993325",
        "IPY_MODEL_46b9e9c6d78143d28390a67722a98c38",
        "IPY_MODEL_899f63192c254bf398f581128d1cc2fe",
        "IPY_MODEL_e10463659edf4d6ebcd57718d038bd23",
        "IPY_MODEL_851b2722e93e492baec473001c271bfd",
        "IPY_MODEL_08648cc8ad984f9b88fe651524277a54",
        "IPY_MODEL_65c8c4d57b024580b9036f9ec7ee3a9f",
        "IPY_MODEL_4e2cacd0324a4dacaa434ca2bb63f9ed",
        "IPY_MODEL_36724660273b41909ad23f749a89b91e",
        "IPY_MODEL_8562f624d18e44adada60f091ebd622f",
        "IPY_MODEL_ef4c485dc05645489e6a45884d01fb1d",
        "IPY_MODEL_b53116682932453e9a9eb64624195a00",
        "IPY_MODEL_d90294a5a4af412bb8c5e0c0332bb1f0",
        "IPY_MODEL_35fc9ca41b7848dc90cb1d655f320eeb",
        "IPY_MODEL_1e68aeba41b54b899f2150456fc6438b",
        "IPY_MODEL_bf90d8cfcc534af59f62ffa4b53bf82a",
        "IPY_MODEL_2957cad8a0904c6ca57b7947c0f15a98",
        "IPY_MODEL_78e7c7414b4b4840a70efe81704239f0",
        "IPY_MODEL_ccf3ff374520454b8450170bc455b8dd",
        "IPY_MODEL_77b42aa13390459baf98a28bd1bff8b7",
        "IPY_MODEL_84be9a812eab40d6b8c9fcc517e6b108",
        "IPY_MODEL_655ddd5bb26a41b69d11a40e7c1675f9",
        "IPY_MODEL_0c0ba3b721334f4aaf402d5b3b8eaf45",
        "IPY_MODEL_2d24f346f4104db0b04526511e52fd4a",
        "IPY_MODEL_806d48ec88a44a268c7a3a562576399d",
        "IPY_MODEL_b39cbfbfd3fe4ab1a0f99485b2841a43",
        "IPY_MODEL_6a07761e066540f9b0f43738a912c532",
        "IPY_MODEL_f3358891c7cc4c3587a4106866af3e53",
        "IPY_MODEL_bc49269185274116a76649efc8c5d77b",
        "IPY_MODEL_d265c1e270c34708a568b4e0b05903fc",
        "IPY_MODEL_eb0aa20824f24c3ca98ce12df24ad62e",
        "IPY_MODEL_5c2d820897d64c45969b2e47fd3661ee",
        "IPY_MODEL_49c2182c46494c0e823337258a869052",
        "IPY_MODEL_6979f70d7e6d425d89ca73c31e7e413f",
        "IPY_MODEL_8cbce7746d00461cbf6e5b60181ae77e",
        "IPY_MODEL_60ada5a872984872ae09831ba7e71fcf",
        "IPY_MODEL_58aa0825b8f04e55b3b9789d5e40760a",
        "IPY_MODEL_711deef2cf9b41be9595b347bc1942b8",
        "IPY_MODEL_430991e83e0444198e70327afc4ae0fc",
        "IPY_MODEL_f869b89ccb7548acaa27bf2fbb4a213c",
        "IPY_MODEL_63392c4766a4448f8a7b8731bc68d22a",
        "IPY_MODEL_a12cca0126f04a3e9ff7a03620e0e54b",
        "IPY_MODEL_6233e1a704d741a99b91fd000dc521b6",
        "IPY_MODEL_e2fafdee92564b51a7981dad19fa11b4",
        "IPY_MODEL_2a7a78851b974a589a35a9fbcc59e041",
        "IPY_MODEL_f62968d18fd947b9bd14aa193bc05ff2",
        "IPY_MODEL_da10c0acebcd469986f1150d8067caff",
        "IPY_MODEL_904cd8ec3d754ac68c1b1cb45b0b7106",
        "IPY_MODEL_cc57c0e854b44f21b0e99560f7003f6d",
        "IPY_MODEL_6de765b3af104a918e657488e8485e1b",
        "IPY_MODEL_f30bbc81bb3246b688e83b5b1f6f69f9",
        "IPY_MODEL_9371787b7b824b6fb055c6b557bad45f",
        "IPY_MODEL_71536aae8bef46a186b24a58005e9894",
        "IPY_MODEL_2688a1215af44592b38745f681298647",
        "IPY_MODEL_eae33535d24242838c14afac5c82c192",
        "IPY_MODEL_e1d970206b44498d845716760109f74b",
        "IPY_MODEL_8f5ab4ccf31a453c9c3631009be95401",
        "IPY_MODEL_9239bdadeef842fd9317cf975ac50bf2",
        "IPY_MODEL_a7dc3041ec0a40a6a548d25b8859cbd7",
        "IPY_MODEL_31f0b8ea5b2943dba14ec07fcfcf4d1e",
        "IPY_MODEL_7a6cbc13d99943e68b75532e325c7706",
        "IPY_MODEL_6640abcd771a4f1d9439ee8be1d8a40c",
        "IPY_MODEL_688abb9bee41422f86db01262292e68b",
        "IPY_MODEL_080ee9fb5c8a40bebb3cd633ab13467f",
        "IPY_MODEL_ab052a3c5f4b44659c7ff64da6532976",
        "IPY_MODEL_54ba4c3af8644554b03fe36580dca7e4",
        "IPY_MODEL_791f7c54373c42159bc275aa5bab3b18",
        "IPY_MODEL_b49134abdc4f4e2abfb39fd0955411bf",
        "IPY_MODEL_9a796f99c784441db8ac1e16ba5b1726",
        "IPY_MODEL_157453338b3349a0a8a1746eef6cdbb3",
        "IPY_MODEL_14bcd6b35ce14cd5a4f8cd97202d8075",
        "IPY_MODEL_0fc0b4dadc1e448fb0581e10f3739641",
        "IPY_MODEL_c87c323ced35400c96961c54c38ea13c",
        "IPY_MODEL_514f484d8a3c409b82540fa9849b2a05",
        "IPY_MODEL_79f1b2c37d3b4e76a8b06cc5e6bc1806",
        "IPY_MODEL_f7ac693971b24e33a95922d58f9c9f60",
        "IPY_MODEL_ef5c86f03fd047608c06b398dcd0f2c1",
        "IPY_MODEL_1278609059064c29a9181359791af9f6",
        "IPY_MODEL_ea912b8c302e44e28e71fe8f70bce6c6",
        "IPY_MODEL_bb5c6603ae7c4b40ba87ea142e3c35d7",
        "IPY_MODEL_2b2aa37a83a94ed78d6f4be8f6f1c692",
        "IPY_MODEL_f478248dce0b4636aae2724d24574de3",
        "IPY_MODEL_fd29d7ed743144249ce6b0be9ef3adab",
        "IPY_MODEL_ee9bdaf79d62448a9569c6d098c861e0",
        "IPY_MODEL_c2cc11b7187548d0a22fb76ca35b5469",
        "IPY_MODEL_4eef85d6a8d2490998fe6b0b5acf1600",
        "IPY_MODEL_e59221ddb2a3437ca0b50541b3f0cd09",
        "IPY_MODEL_6badfbebdfc04b1baf73bbad271d412b",
        "IPY_MODEL_ca94ceb0aee94d079d2d7552f54424b6",
        "IPY_MODEL_362a4f41488e47e3b137421c8e536c8e",
        "IPY_MODEL_ee64e250a6bb469691f1dcd7df5e35b2",
        "IPY_MODEL_14ef50be0f2f41b697d46bbd94c7b75d",
        "IPY_MODEL_973e90ea99f647febdc03609add1b90b",
        "IPY_MODEL_904d53e927e0427988da2820134dcf2a",
        "IPY_MODEL_fc9872df742648ed8d239c7bac92d951"
       ]
      }
     },
     "430991e83e0444198e70327afc4ae0fc": {
      "model_module": "jupyter-cytoscape",
      "model_module_version": "^1.2.2",
      "model_name": "NodeModel",
      "state": {
       "_model_module_version": "^1.2.2",
       "_view_module_version": "^1.2.2",
       "data": {
        "altered": 0,
        "cited": 4784,
        "id": "CDKN1A",
        "importance": 3,
        "isseed": false,
        "isvalid": true,
        "rank": 9,
        "uniprot": "P38936",
        "uniprotdesc": "May be the important intermediate by which p53/TP53mediates its role as an inhibitor of cellular proliferation inresponse to DNA damage. Binds to and inhibits cyclin-dependentkinase activity, preventing phosphorylation of critical cyclin-dependent kinase substrates and blocking cell cycle progression.Functions in the nuclear localization and assembly of cyclin D-CDK4 complex and promotes its kinase activity towards RB1. Athigher stoichiometric ratios, inhibits the kinase activity of thecyclin D-CDK4 complex. "
       },
       "grabbable": true,
       "grabbed": false,
       "position": {
        "x": 761.2741657901133,
        "y": 288.12130255062453
       }
      }
     },
     "4318bd754c92425d9a351cbb1c522e2e": {
      "model_module": "jupyter-cytoscape",
      "model_module_version": "^1.2.2",
      "model_name": "EdgeModel",
      "state": {
       "_model_module_version": "^1.2.2",
       "_view_module_version": "^1.2.2",
       "data": {
        "cited": 0,
        "datasource": [
         "pid"
        ],
        "id": "SIRT1-controls-expression-of-CDKN1A",
        "isdirected": true,
        "pubmed": [],
        "source": "SIRT1",
        "target": "CDKN1A",
        "type": "controls-expression-of"
       }
      }
     },
     "43f66758050d408ab16c3de6ec5d1722": {
      "model_module": "jupyter-cytoscape",
      "model_module_version": "^1.2.2",
      "model_name": "GraphModel",
      "state": {
       "_adj": {
        "0": {},
        "1": {},
        "2": {},
        "3": {},
        "4": {}
       },
       "_model_module_version": "^1.2.2",
       "_view_module": "jupyter-cytoscape",
       "_view_module_version": "^1.2.2",
       "edges": [
        "IPY_MODEL_1045a737514c44d3b490a9819823d7da",
        "IPY_MODEL_83b071c9a69248b7b58e5a4a34f76e1c",
        "IPY_MODEL_ff49de57288f4faba39d4aed11a55679",
        "IPY_MODEL_70cd4e859c2e4d1fab5e0b1628240d72",
        "IPY_MODEL_61e3f0c71f8e4ee5aea637123293497a",
        "IPY_MODEL_ba7864b4a8ab4aebb4b0e80b38b92fd2",
        "IPY_MODEL_7d094a1da0784a3db4adaebd2a5f8666",
        "IPY_MODEL_9bc5f274e5ad45a58b63ef6c85899d77",
        "IPY_MODEL_b3a9a5b5394c451db37c66e63612c44e",
        "IPY_MODEL_bd0f7e3fc75c436ab5c84516c954d3af"
       ],
       "nodes": [
        "IPY_MODEL_cd9a521b3c5947f68a4230e2e9e6958b",
        "IPY_MODEL_d9731466529549ffa4378973283f9f31",
        "IPY_MODEL_682f3e8b1d1941b4a5f8cf733ea858c9",
        "IPY_MODEL_410d31c9d7ad491bb417c7ffdc235ce0",
        "IPY_MODEL_3eaaf91dac624c199b2a0b15c6a64f27"
       ]
      }
     },
     "43fdae0e55bb4e859197d2e11ffa5139": {
      "model_module": "jupyter-cytoscape",
      "model_module_version": "^1.2.2",
      "model_name": "EdgeModel",
      "state": {
       "_model_module_version": "^1.2.2",
       "_view_module_version": "^1.2.2",
       "data": {
        "cited": 0,
        "datasource": [
         "PANTHER"
        ],
        "id": "PPP2CB-controls-state-change-of-TP73",
        "isdirected": true,
        "pubmed": [],
        "source": "PPP2CB",
        "target": "TP73",
        "type": "controls-state-change-of"
       }
      }
     },
     "45546907865c48f39dc8cde0d87946bf": {
      "model_module": "jupyter-cytoscape",
      "model_module_version": "^1.2.2",
      "model_name": "NodeModel",
      "state": {
       "_model_module_version": "^1.2.2",
       "_view_module_version": "^1.2.2",
       "data": {
        "altered": 0,
        "cited": 474,
        "id": "TAP1",
        "importance": 3,
        "isseed": false,
        "isvalid": true,
        "rank": 63,
        "uniprot": "Q03518",
        "uniprotdesc": "Involved in the transport of antigens from the cytoplasmto the endoplasmic reticulum for association with MHC class Imolecules. Also acts as a molecular scaffold for the final stageof MHC class I folding, namely the binding of peptide. Nascent MHCclass I molecules associate with TAP via tapasin. Inhibited by thecovalent attachment of herpes simplex virus ICP47 protein, whichblocks the peptide-binding site of TAP. Inhibited by humancytomegalovirus US6 glycoprotein, which binds to the lumenal sideof the TAP complex and inhibits peptide translocation byspecifically blocking ATP-binding to TAP1 and prevents theconformational rearrangement of TAP induced by peptide binding.Inhibited by human adenovirus E3-19K glycoprotein, which binds theTAP complex and acts as a tapasin inhibitor, preventing MHC classI/TAP association. Expression of TAP1 is down-regulated by humanEpstein-Barr virus vIL-10 protein, thereby affecting the transportof peptides into the endoplasmic reticulum and subsequent peptideloading by MHC class I molecules."
       },
       "grabbable": true,
       "grabbed": false,
       "position": {
        "x": 409.6577930392296,
        "y": 182.67665928479494
       }
      }
     },
     "45c8340d360e453ba8a37cd784863125": {
      "model_module": "jupyter-cytoscape",
      "model_module_version": "^1.2.2",
      "model_name": "EdgeModel",
      "state": {
       "_model_module_version": "^1.2.2",
       "_view_module_version": "^1.2.2",
       "data": {
        "cited": 0,
        "datasource": [
         "pid"
        ],
        "id": "TP53-controls-expression-of-TYRP1",
        "isdirected": true,
        "pubmed": [
         "10640990"
        ],
        "source": "TP53",
        "target": "TYRP1",
        "type": "controls-expression-of"
       }
      }
     },
     "45ee87a4542e468ab1328a7ea1a4047d": {
      "model_module": "jupyter-cytoscape",
      "model_module_version": "^1.2.2",
      "model_name": "EdgeModel",
      "state": {
       "_model_module_version": "^1.2.2",
       "_view_module_version": "^1.2.2",
       "data": {
        "cited": 26,
        "datasource": [
         "pid"
        ],
        "id": "TP53-controls-expression-of-APAF1",
        "isdirected": true,
        "pubmed": [
         "11559530"
        ],
        "source": "TP53",
        "target": "APAF1",
        "type": "controls-expression-of"
       }
      }
     },
     "46498074e28b4b938268f5c1c5fcfec2": {
      "model_module": "jupyter-cytoscape",
      "model_module_version": "^1.2.2",
      "model_name": "EdgeModel",
      "state": {
       "_model_module_version": "^1.2.2",
       "_view_module_version": "^1.2.2",
       "data": {
        "cited": 0,
        "datasource": [
         "PANTHER"
        ],
        "id": "CHEK2-controls-state-change-of-TP63",
        "isdirected": true,
        "pubmed": [],
        "source": "CHEK2",
        "target": "TP63",
        "type": "controls-state-change-of"
       }
      }
     },
     "46b9e9c6d78143d28390a67722a98c38": {
      "model_module": "jupyter-cytoscape",
      "model_module_version": "^1.2.2",
      "model_name": "NodeModel",
      "state": {
       "_model_module_version": "^1.2.2",
       "_view_module_version": "^1.2.2",
       "data": {
        "altered": 0,
        "cited": 12,
        "id": "SMYD2",
        "importance": 3,
        "isseed": false,
        "isvalid": true,
        "rank": 175,
        "uniprot": "Q9NRG4",
        "uniprotdesc": "Protein-lysine N-methyltransferase that methylates bothhistones and non-histone proteins, including p53/TP53 and RB1.Specifically methylates histone H3 'Lys-4' (H3K4me) anddimethylates histone H3 'Lys-36' (H3K36me2). Shows even highermethyltransferase activity on p53/TP53. Monomethylates 'Lys-370'of p53/TP53, leading to decreased DNA-binding activity andsubsequent transcriptional regulation activity of p53/TP53.Monomethylates RB1 at 'Lys-860'. "
       },
       "grabbable": true,
       "grabbed": false,
       "position": {
        "x": 861.2741677901136,
        "y": 282.79215043145496
       }
      }
     },
     "46fc6e3b3d3f435d802c3ffdc04e72c2": {
      "model_module": "jupyter-cytoscape",
      "model_module_version": "^1.2.2",
      "model_name": "NodeModel",
      "state": {
       "_model_module_version": "^1.2.2",
       "_view_module_version": "^1.2.2",
       "data": {
        "altered": 0,
        "cited": 205,
        "id": "BTG2",
        "importance": 3,
        "isseed": false,
        "isvalid": true,
        "rank": 97,
        "uniprot": "P78543",
        "uniprotdesc": "Anti-proliferative protein; the function is mediated byassociation with deadenylase subunits of the CCR4-NOT complex.Activates mRNA deadenylation in a CNOT6 and CNOT7-dependentmanner. In vitro can inhibit deadenylase activity of CNOT7 andCNOT8. Involved in cell cycle regulation. Could be involved in thegrowth arrest and differentiation of the neuronal precursors (Bysimilarity). Modulates transcription regulation mediated by ESR1.Involved in mitochondrial depolarization and neurite outgrowth."
       },
       "grabbable": true,
       "grabbed": false,
       "position": {
        "x": 671.3707720410628,
        "y": 410.753579616404
       }
      }
     },
     "47233d11a8b94f4b8aeb2301a2cab69d": {
      "model_module": "jupyter-cytoscape",
      "model_module_version": "^1.2.2",
      "model_name": "EdgeModel",
      "state": {
       "_model_module_version": "^1.2.2",
       "_view_module_version": "^1.2.2",
       "data": {
        "cited": 2784,
        "datasource": [
         "pid"
        ],
        "id": "TP53-controls-expression-of-MDM2",
        "isdirected": true,
        "pubmed": [
         "12138177",
         "17409421",
         "7651818",
         "8319905"
        ],
        "source": "TP53",
        "target": "MDM2",
        "type": "controls-expression-of"
       }
      }
     },
     "479f85aedb3c4189931b41779cd1b459": {
      "model_module": "jupyter-cytoscape",
      "model_module_version": "^1.2.2",
      "model_name": "EdgeModel",
      "state": {
       "_model_module_version": "^1.2.2",
       "_view_module_version": "^1.2.2",
       "data": {
        "cited": 0,
        "datasource": [
         "PANTHER"
        ],
        "id": "PML-controls-state-change-of-TP73",
        "isdirected": true,
        "pubmed": [],
        "source": "PML",
        "target": "TP73",
        "type": "controls-state-change-of"
       }
      }
     },
     "47cf1c15ad8c4c2487f3b8a62709dfe7": {
      "model_module": "jupyter-cytoscape",
      "model_module_version": "^1.2.2",
      "model_name": "NodeModel",
      "state": {
       "_model_module_version": "^1.2.2",
       "_view_module_version": "^1.2.2",
       "data": {
        "id": "22",
        "name": "age: 34\nvirus: ncov\n",
        "parent": "parent-1"
       },
       "grabbable": true,
       "grabbed": false,
       "position": {
        "x": 653.5,
        "y": 290
       },
       "selectable": false
      }
     },
     "47ed116eb6e44921babdf1ead85783a9": {
      "model_module": "jupyter-cytoscape",
      "model_module_version": "^1.2.2",
      "model_name": "EdgeModel",
      "state": {
       "_model_module_version": "^1.2.2",
       "_view_module_version": "^1.2.2",
       "data": {
        "cited": 11,
        "datasource": [
         "pid"
        ],
        "id": "TP53-controls-expression-of-RFWD2",
        "isdirected": true,
        "pubmed": [
         "15103385"
        ],
        "source": "TP53",
        "target": "RFWD2",
        "type": "controls-expression-of"
       }
      }
     },
     "480c4fe2300a43f4894e0a112aa6f4ef": {
      "model_module": "jupyter-cytoscape",
      "model_module_version": "^1.2.2",
      "model_name": "EdgeModel",
      "state": {
       "_model_module_version": "^1.2.2",
       "_view_module_version": "^1.2.2",
       "data": {
        "cited": 0,
        "datasource": [
         "PANTHER"
        ],
        "id": "ATR-controls-state-change-of-TP73",
        "isdirected": true,
        "pubmed": [],
        "source": "ATR",
        "target": "TP73",
        "type": "controls-state-change-of"
       }
      }
     },
     "48fd03ee5d8d466ca803590055cc0bc9": {
      "model_module": "jupyter-cytoscape",
      "model_module_version": "^1.2.2",
      "model_name": "NodeModel",
      "state": {
       "_model_module_version": "^1.2.2",
       "_view_module_version": "^1.2.2",
       "data": {
        "altered": 0,
        "cited": 185,
        "id": "HIC1",
        "importance": 3,
        "isseed": false,
        "isvalid": true,
        "rank": 99,
        "uniprot": "Q14526",
        "uniprotdesc": "Transcriptional repressor. Recognizes and binds to theconsensus sequence '5-[CG]NG[CG]GGGCA[CA]CC-3'. May act as a tumorsuppressor. May be involved in development of head, face, limbsand ventral body wall. Involved in down-regulation of SIRT1 andthereby is involved in regulation of p53/TP53-dependent apoptoticDNA-damage responses. The specific target gene promoterassociation seems to be depend on corepressors, such as CTBP1 orCTBP2 and MTA1. The regulation of SIRT1 transcription in responseto nutrient deprivation seems to involve CTBP1. In cooperationwith MTA1 (indicative for an association with the NuRD complex)represses transcription from CCND1/cyclin-D1 and CDKN1C/p57Kip2specifically in quiescent cells. Involved in regulation of the Wntsignaling pathway probably by association with TCF7L2 andpreventing TCF7L2 and CTNNB1 association with promoters of TCF-responsive genes. Seems to repress transcription from E2F1 andATOH1 which involves ARID1A, indicative for the participation of adistinct SWI/SNF-type chromatin-remodeling complex. Probablyrepresses transcription from ACKR3, FGFBP1 and EFNA1."
       },
       "grabbable": true,
       "grabbed": false,
       "position": {
        "x": 421.37076704106283,
        "y": 315.3780093629794
       }
      }
     },
     "492cb1fdf13c407686f43870369b8185": {
      "model_module": "jupyter-cytoscape",
      "model_module_version": "^1.2.2",
      "model_name": "NodeModel",
      "state": {
       "_model_module_version": "^1.2.2",
       "_view_module_version": "^1.2.2",
       "data": {
        "altered": 0,
        "cited": 55,
        "id": "PPP2CA",
        "importance": 3,
        "isseed": false,
        "isvalid": true,
        "rank": 146,
        "uniprot": "P67775",
        "uniprotdesc": "PP2A is the major phosphatase for microtubule-associatedproteins (MAPs). PP2A can modulate the activity of phosphorylase Bkinase casein kinase 2, mitogen-stimulated S6 kinase, and MAP-2kinase. Cooperates with SGOL2 to protect centromeric cohesin fromseparase-mediated cleavage in oocytes specifically during meiosisI (By similarity). Can dephosphorylate SV40 large T antigen andp53/TP53. Activates RAF1 by dephosphorylating it at 'Ser-259'."
       },
       "grabbable": true,
       "grabbed": false,
       "position": {
        "x": 820.6279665351584,
        "y": 138.8443569932413
       }
      }
     },
     "499f4228cd2a488882405cddc9fd406d": {
      "model_module": "jupyter-cytoscape",
      "model_module_version": "^1.2.2",
      "model_name": "EdgeModel",
      "state": {
       "_model_module_version": "^1.2.2",
       "_view_module_version": "^1.2.2",
       "data": {
        "cited": 18,
        "datasource": [
         "pid"
        ],
        "id": "TP53-controls-expression-of-GDF15",
        "isdirected": true,
        "pubmed": [
         "10618379"
        ],
        "source": "TP53",
        "target": "GDF15",
        "type": "controls-expression-of"
       }
      }
     },
     "49c2182c46494c0e823337258a869052": {
      "model_module": "jupyter-cytoscape",
      "model_module_version": "^1.2.2",
      "model_name": "NodeModel",
      "state": {
       "_model_module_version": "^1.2.2",
       "_view_module_version": "^1.2.2",
       "data": {
        "altered": 0,
        "cited": 617,
        "id": "HMGB1",
        "importance": 3,
        "isseed": false,
        "isvalid": true,
        "rank": 54,
        "uniprot": "P09429",
        "uniprotdesc": "DNA binding proteins that associates with chromatin andhas the ability to bend DNA. Binds preferentially single-strandedDNA. Involved in V(D)J recombination by acting as a cofactor ofthe RAG complex. Acts by stimulating cleavage and RAG proteinbinding at the 23 bp spacer of conserved recombination signalsequences (RSS). Heparin-binding protein that has a role in theextension of neurite-type cytoplasmic processes in developingcells (By similarity). "
       },
       "grabbable": true,
       "grabbed": false,
       "position": {
        "x": 711.2741647901134,
        "y": 295.0006361890039
       }
      }
     },
     "4a4b6636d1854f19ae29ac947542cc52": {
      "model_module": "jupyter-cytoscape",
      "model_module_version": "^1.2.2",
      "model_name": "EdgeModel",
      "state": {
       "_model_module_version": "^1.2.2",
       "_view_module_version": "^1.2.2",
       "data": {
        "cited": 0,
        "datasource": [
         "PANTHER"
        ],
        "id": "MAPK12-controls-state-change-of-TP53",
        "isdirected": true,
        "pubmed": [],
        "source": "MAPK12",
        "target": "TP53",
        "type": "controls-state-change-of"
       }
      }
     },
     "4ae0e8aded234ae3b1362046417f64f6": {
      "model_module": "jupyter-cytoscape",
      "model_module_version": "^1.2.2",
      "model_name": "NodeModel",
      "state": {
       "_model_module_version": "^1.2.2",
       "_view_module_version": "^1.2.2",
       "data": {
        "altered": 0,
        "cited": 60,
        "id": "RFWD2",
        "importance": 3,
        "isseed": false,
        "isvalid": true,
        "rank": 143,
        "uniprot": "Q8NHY2",
        "uniprotdesc": "E3 ubiquitin-protein ligase that mediates ubiquitinationand subsequent proteasomal degradation of target proteins. E3ubiquitin ligases accept ubiquitin from an E2 ubiquitin-conjugating enzyme in the form of a thioester and then directlytransfers the ubiquitin to targeted substrates. Involved in JUNubiquitination and degradation. Directly involved in p53 (TP53)ubiquitination and degradation, thereby abolishing p53-dependenttranscription and apoptosis. Ubiquitinates p53 independently ofMDM2 or RCHY1. Probably mediates E3 ubiquitin ligase activity byfunctioning as the essential RING domain subunit of larger E3complexes. In contrast, it does not constitute the catalytic RINGsubunit in the DCX DET1-COP1 complex that negatively regulatesJUN, the ubiquitin ligase activity being mediated by RBX1.Involved in 14-3-3 protein sigma/SFN ubiquitination andproteasomal degradation, leading to AKT activation and promotionof cell survival. Ubiquitinates MTA1 leading to its proteasomaldegradation. "
       },
       "grabbable": true,
       "grabbed": false,
       "position": {
        "x": 771.3707740410628,
        "y": 380.78534602415283
       }
      }
     },
     "4af004b1be474587aface76cb0920a3c": {
      "model_module": "jupyter-cytoscape",
      "model_module_version": "^1.2.2",
      "model_name": "NodeModel",
      "state": {
       "_model_module_version": "^1.2.2",
       "_view_module_version": "^1.2.2",
       "data": {
        "altered": 0,
        "cited": 47,
        "id": "E4F1",
        "importance": 3,
        "isseed": false,
        "isvalid": true,
        "rank": 150,
        "uniprot": "Q66K89",
        "uniprotdesc": "May function as a transcriptional repressor. May alsofunction as a ubiquitin ligase mediating ubiquitination ofchromatin-associated TP53. Functions in cell survival andproliferation through control of the cell cycle. Functions in thep53 and pRB tumor suppressor pathways and regulates the cyclinCCNA2 transcription.Identified as a cellular target of the adenoviraloncoprotein E1A, it is required for both transcriptionalactivation and repression of viral genes."
       },
       "grabbable": true,
       "grabbed": false,
       "position": {
        "x": 809.5236529445441,
        "y": -11.155646006758701
       }
      }
     },
     "4b3d6892c7864093ba6aaf022b4b1bf0": {
      "model_module": "jupyter-cytoscape",
      "model_module_version": "^1.2.2",
      "model_name": "NodeModel",
      "state": {
       "_model_module_version": "^1.2.2",
       "_view_module_version": "^1.2.2",
       "data": {
        "id": "15",
        "name": "age: 70\nvirus: ncov\n",
        "parent": "parent-1"
       },
       "grabbable": true,
       "grabbed": false,
       "position": {
        "x": 550.8344052128374,
        "y": 230
       },
       "selectable": false
      }
     },
     "4c301d4ebdda47c7a20a0b6694724191": {
      "model_module": "jupyter-cytoscape",
      "model_module_version": "^1.2.2",
      "model_name": "EdgeModel",
      "state": {
       "_model_module_version": "^1.2.2",
       "_view_module_version": "^1.2.2",
       "data": {
        "cited": 114,
        "datasource": [
         "pid"
        ],
        "id": "TP53-controls-expression-of-FAS",
        "isdirected": true,
        "pubmed": [
         "9841917"
        ],
        "source": "TP53",
        "target": "FAS",
        "type": "controls-expression-of"
       }
      }
     },
     "4c87b0bbddaf442f8fc8eaf311be7ecd": {
      "model_module": "jupyter-cytoscape",
      "model_module_version": "^1.2.2",
      "model_name": "NodeModel",
      "state": {
       "_model_module_version": "^1.2.2",
       "_view_module_version": "^1.2.2",
       "data": {
        "id": "11",
        "name": "age: 59\nvirus: ncov\n",
        "parent": "parent-1"
       },
       "grabbable": true,
       "grabbed": false,
       "position": {
        "x": 600.8344062128375,
        "y": 170
       },
       "selectable": false
      }
     },
     "4d6b38aa120a47efaafdc90b2fefdb4f": {
      "model_module": "jupyter-cytoscape",
      "model_module_version": "^1.2.2",
      "model_name": "NodeModel",
      "state": {
       "_model_module_version": "^1.2.2",
       "_view_module_version": "^1.2.2",
       "data": {
        "altered": 0,
        "cited": 63,
        "id": "PPP1R13L",
        "importance": 3,
        "isseed": false,
        "isvalid": true,
        "rank": 140,
        "uniprot": "Q8WUF5",
        "uniprotdesc": "Regulator that plays a central role in regulation ofapoptosis and transcription via its interaction with NF-kappa-Band p53/TP53 proteins. Blocks transcription of HIV-1 virus byinhibiting the action of both NF-kappa-B and SP1. Also inhibitsp53/TP53 function, possibly by preventing the association betweenp53/TP53 and ASPP1 or ASPP2, and therefore suppressing thesubsequent activation of apoptosis. "
       },
       "grabbable": true,
       "grabbed": false,
       "position": {
        "x": 420.62795853515837,
        "y": 82.67665728479494
       }
      }
     },
     "4d9477317da84132a664573b367e502b": {
      "model_module": "jupyter-cytoscape",
      "model_module_version": "^1.2.2",
      "model_name": "EdgeModel",
      "state": {
       "_model_module_version": "^1.2.2",
       "_view_module_version": "^1.2.2",
       "data": {
        "cited": 2,
        "datasource": [
         "PANTHER"
        ],
        "id": "EP300-controls-state-change-of-TP63",
        "isdirected": true,
        "pubmed": [],
        "source": "EP300",
        "target": "TP63",
        "type": "controls-state-change-of"
       }
      }
     },
     "4db19eaab98c447db3c8555c7215040a": {
      "model_module": "jupyter-cytoscape",
      "model_module_version": "^1.2.2",
      "model_name": "EdgeModel",
      "state": {
       "_model_module_version": "^1.2.2",
       "_view_module_version": "^1.2.2",
       "data": {
        "cited": 0,
        "datasource": [
         "PANTHER"
        ],
        "id": "PRKAB2-controls-state-change-of-TP73",
        "isdirected": true,
        "pubmed": [],
        "source": "PRKAB2",
        "target": "TP73",
        "type": "controls-state-change-of"
       }
      }
     },
     "4dde9f1ebefd40f9b8b4741981e68149": {
      "model_module": "jupyter-cytoscape",
      "model_module_version": "^1.2.2",
      "model_name": "EdgeModel",
      "state": {
       "_model_module_version": "^1.2.2",
       "_view_module_version": "^1.2.2",
       "data": {
        "cited": 95,
        "datasource": [
         "pid"
        ],
        "id": "TP53-controls-state-change-of-BAX",
        "isdirected": true,
        "pubmed": [
         "14963330"
        ],
        "source": "TP53",
        "target": "BAX",
        "type": "controls-state-change-of"
       }
      }
     },
     "4e2cacd0324a4dacaa434ca2bb63f9ed": {
      "model_module": "jupyter-cytoscape",
      "model_module_version": "^1.2.2",
      "model_name": "NodeModel",
      "state": {
       "_model_module_version": "^1.2.2",
       "_view_module_version": "^1.2.2",
       "data": {
        "altered": 0,
        "cited": 7,
        "id": "TRIAP1",
        "importance": 3,
        "isseed": false,
        "isvalid": true,
        "rank": 183,
        "uniprot": "O43715",
        "uniprotdesc": "Involved in the modulation of the mitochondrialapoptotic pathway by ensuring the accumulation of cardiolipin (CL)in mitochondrial membranes. In vitro, the TRIAP1:PRELID1 complexmediates the transfer of phosphatidic acid (PA) between liposomesand probably functions as a PA transporter across themitochondrion intermembrane space to provide PA for CL synthesisin the inner membrane. Mediates cell survival by inhibitingactivation of caspase-9 which prevents induction of apoptosis."
       },
       "grabbable": true,
       "grabbed": false,
       "position": {
        "x": 596.0858054115741,
        "y": -57.853448190776156
       }
      }
     },
     "4eef85d6a8d2490998fe6b0b5acf1600": {
      "model_module": "jupyter-cytoscape",
      "model_module_version": "^1.2.2",
      "model_name": "NodeModel",
      "state": {
       "_model_module_version": "^1.2.2",
       "_view_module_version": "^1.2.2",
       "data": {
        "altered": 0,
        "cited": 181,
        "id": "CASP10",
        "importance": 3,
        "isseed": false,
        "isvalid": true,
        "rank": 100,
        "uniprot": "Q92851",
        "uniprotdesc": "Involved in the activation cascade of caspasesresponsible for apoptosis execution. Recruited to both Fas- andTNFR-1 receptors in a FADD dependent manner. May participate inthe granzyme B apoptotic pathways. Cleaves and activates caspase-3, -4, -6, -7, -8, and -9. Hydrolyzes the small- moleculesubstrates, Tyr-Val-Ala-Asp-|-AMC and Asp-Glu-Val-Asp-|-AMC."
       },
       "grabbable": true,
       "grabbed": false,
       "position": {
        "x": 412.9306689719854,
        "y": 43.049821832577095
       }
      }
     },
     "4f8f96c279e449ffbb1a896061f9bffb": {
      "model_module": "jupyter-cytoscape",
      "model_module_version": "^1.2.2",
      "model_name": "EdgeModel",
      "state": {
       "_model_module_version": "^1.2.2",
       "_view_module_version": "^1.2.2",
       "data": {
        "cited": 72,
        "datasource": [
         "pid"
        ],
        "id": "CREBBP-controls-state-change-of-TP53",
        "isdirected": true,
        "pubmed": [
         "18485870"
        ],
        "source": "CREBBP",
        "target": "TP53",
        "type": "controls-state-change-of"
       }
      }
     },
     "500ffa55a03947aa9ac05df54551298f": {
      "model_module": "jupyter-cytoscape",
      "model_module_version": "^1.2.2",
      "model_name": "EdgeModel",
      "state": {
       "_model_module_version": "^1.2.2",
       "_view_module_version": "^1.2.2",
       "data": {
        "cited": 0,
        "datasource": [
         "PANTHER"
        ],
        "id": "IGBP1-controls-state-change-of-TP73",
        "isdirected": true,
        "pubmed": [],
        "source": "IGBP1",
        "target": "TP73",
        "type": "controls-state-change-of"
       }
      }
     },
     "50147cfc9607433db7c8b0460246bd5e": {
      "model_module": "jupyter-cytoscape",
      "model_module_version": "^1.2.2",
      "model_name": "EdgeModel",
      "state": {
       "_model_module_version": "^1.2.2",
       "_view_module_version": "^1.2.2",
       "data": {
        "cited": 2,
        "datasource": [
         "pid"
        ],
        "id": "TP53-controls-expression-of-TRIAP1",
        "isdirected": true,
        "pubmed": [
         "15735003"
        ],
        "source": "TP53",
        "target": "TRIAP1",
        "type": "controls-expression-of"
       }
      }
     },
     "50b1fa22bf644fb3af82a3b9b437e612": {
      "model_module": "jupyter-cytoscape",
      "model_module_version": "^1.2.2",
      "model_name": "NodeModel",
      "state": {
       "_model_module_version": "^1.2.2",
       "_view_module_version": "^1.2.2",
       "data": {
        "altered": 0,
        "cited": 81,
        "id": "MAPK11",
        "importance": 3,
        "isseed": false,
        "isvalid": true,
        "rank": 127,
        "uniprot": "Q15759",
        "uniprotdesc": "Serine/threonine kinase which acts as an essentialcomponent of the MAP kinase signal transduction pathway. MAPK11 isone of the four p38 MAPKs which play an important role in thecascades of cellular responses evoked by extracellular stimulisuch as proinflammatory cytokines or physical stress leading todirect activation of transcription factors. Accordingly, p38 MAPKsphosphorylate a broad range of proteins and it has been estimatedthat they may have approximately 200 to 300 substrates each.MAPK11 functions are mostly redundant with those of MAPK14. Someof the targets are downstream kinases which are activated throughphosphorylation and further phosphorylate additional targets.RPS6KA5/MSK1 and RPS6KA4/MSK2 can directly phosphorylate andactivate transcription factors such as CREB1, ATF1, the NF-kappa-Bisoform RELA/NFKB3, STAT1 and STAT3, but can also phosphorylatehistone H3 and the nucleosomal protein HMGN1. RPS6KA5/MSK1 andRPS6KA4/MSK2 play important roles in the rapid induction ofimmediate-early genes in response to stress or mitogenic stimuli,either by inducing chromatin remodeling or by recruiting thetranscription machinery. On the other hand, two other kinasetargets, MAPKAPK2/MK2 and MAPKAPK3/MK3, participate in the controlof gene expression mostly at the post-transcriptional level, byphosphorylating ZFP36 (tristetraprolin) and ELAVL1, and byregulating EEF2K, which is important for the elongation of mRNAduring translation. MKNK1/MNK1 and MKNK2/MNK2, two other kinasesactivated by p38 MAPKs, regulate protein synthesis byphosphorylating the initiation factor EIF4E2. In the cytoplasm,the p38 MAPK pathway is an important regulator of proteinturnover. For example, CFLAR is an inhibitor of TNF-inducedapoptosis whose proteasome-mediated degradation is regulated byp38 MAPK phosphorylation. Ectodomain shedding of transmembraneproteins is regulated by p38 MAPKs as well. In response toinflammatory stimuli, p38 MAPKs phosphorylate the membrane-associated metalloprotease ADAM17. Such phosphorylation isrequired for ADAM17-mediated ectodomain shedding of TGF-alphafamily ligands, which results in the activation of EGFR signalingand cell proliferation. Additional examples of p38 MAPK substratesare the FGFR1. FGFR1 can be translocated from the extracellularspace into the cytosol and nucleus of target cells, and regulatesprocesses such as rRNA synthesis and cell growth. FGFR1translocation requires p38 MAPK activation. In the nucleus, manytranscription factors are phosphorylated and activated by p38MAPKs in response to different stimuli. Classical examples includeATF1, ATF2, ATF6, ELK1, PTPRH, DDIT3, TP53/p53 and MEF2C andMEF2A. The p38 MAPKs are emerging as important modulators of geneexpression by regulating chromatin modifiers and remodelers. Thepromoters of several genes involved in the inflammatory response,such as IL6, IL8 and IL12B, display a p38 MAPK-dependentenrichment of histone H3 phosphorylation on 'Ser-10' (H3S10ph) inLPS-stimulated myeloid cells. This phosphorylation enhances theaccessibility of the cryptic NF-kappa-B-binding sites markingpromoters for increased NF-kappa-B recruitment."
       },
       "grabbable": true,
       "grabbed": false,
       "position": {
        "x": 720.6279645351584,
        "y": 44.734276921938964
       }
      }
     },
     "50cf15a9cf434c7fb2d7fbea38af1b56": {
      "model_module": "jupyter-cytoscape",
      "model_module_version": "^1.2.2",
      "model_name": "EdgeModel",
      "state": {
       "_model_module_version": "^1.2.2",
       "_view_module_version": "^1.2.2",
       "data": {
        "cited": 5,
        "datasource": [
         "PANTHER"
        ],
        "id": "PPP2CA-controls-state-change-of-TP53",
        "isdirected": true,
        "pubmed": [],
        "source": "PPP2CA",
        "target": "TP53",
        "type": "controls-state-change-of"
       }
      }
     },
     "514f484d8a3c409b82540fa9849b2a05": {
      "model_module": "jupyter-cytoscape",
      "model_module_version": "^1.2.2",
      "model_name": "NodeModel",
      "state": {
       "_model_module_version": "^1.2.2",
       "_view_module_version": "^1.2.2",
       "data": {
        "altered": 0,
        "cited": 152,
        "id": "CARM1",
        "importance": 2,
        "isseed": false,
        "isvalid": true,
        "rank": 207,
        "uniprot": "Q86X55",
        "uniprotdesc": "Methylates (mono- and asymmetric dimethylation) theguanidino nitrogens of arginyl residues in several proteinsinvolved in DNA packaging, transcription regulation, pre-mRNAsplicing, and mRNA stability. Recruited to promoters upon geneactivation together with histone acetyltransferases fromEP300/P300 and p160 families, methylates histone H3 at 'Arg-17'(H3R17me), forming mainly asymmetric dimethylarginine (H3R17me2a),leading to activate transcription via chromatin remodeling. Duringnuclear hormone receptor activation and TCF7L2/TCF4 activation,acts synergically with EP300/P300 and either one of the p160histone acetyltransferases NCOA1/SRC1, NCOA2/GRIP1 and NCOA3/ACTRor CTNNB1/beta-catenin to activate transcription. During myogenictranscriptional activation, acts together with NCOA3/ACTR as acoactivator for MEF2C. During monocyte inflammatory stimulation,acts together with EP300/P300 as a coactivator for NF-kappa-B.Acts as coactivator for PPARG, promotes adipocyte differentiationand the accumulation of brown fat tissue. Plays a role in theregulation of pre-mRNA alternative splicing by methylation ofsplicing factors. Also seems to be involved in p53/TP53transcriptional activation. Methylates EP300/P300, both at 'Arg-2142', which may loosen its interaction with NCOA2/GRIP1, and at'Arg-580' and 'Arg-604' in the KIX domain, which impairs itsinteraction with CREB and inhibits CREB-dependent transcriptionalactivation. Also methylates arginine residues in RNA-bindingproteins PABPC1, ELAVL1 and ELAV4, which may affect their mRNA-stabilizing properties and the half-life of their target mRNAs."
       },
       "grabbable": true,
       "grabbed": false,
       "position": {
        "x": 566.3396257771806,
        "y": 463.8166899892289
       }
      }
     },
     "51761872374f499cbdc33864402ee488": {
      "model_module": "jupyter-cytoscape",
      "model_module_version": "^1.2.2",
      "model_name": "EdgeModel",
      "state": {
       "_model_module_version": "^1.2.2",
       "_view_module_version": "^1.2.2",
       "data": {
        "cited": 0,
        "datasource": [
         "PANTHER"
        ],
        "id": "PRKAG1-controls-state-change-of-TP73",
        "isdirected": true,
        "pubmed": [],
        "source": "PRKAG1",
        "target": "TP73",
        "type": "controls-state-change-of"
       }
      }
     },
     "5181ce2ad24d4cb49670df51d689bc9d": {
      "model_module": "jupyter-cytoscape",
      "model_module_version": "^1.2.2",
      "model_name": "EdgeModel",
      "state": {
       "_model_module_version": "^1.2.2",
       "_view_module_version": "^1.2.2",
       "data": {
        "cited": 65,
        "datasource": [
         "Reactome",
         "PhosphoSite",
         "pid",
         "PANTHER"
        ],
        "id": "MAPK14-controls-state-change-of-TP53",
        "isdirected": true,
        "pubmed": [
         "10202145",
         "10212189",
         "10581258",
         "10606744",
         "10608806",
         "10611322",
         "10656682",
         "10656795",
         "10673501",
         "10706102",
         "10710310",
         "10713094",
         "10723129",
         "10733583",
         "10734067",
         "10744722",
         "10747897",
         "10958792",
         "11030628",
         "11078726",
         "11096068",
         "11101524",
         "11121242",
         "11244509",
         "11258706",
         "11283254",
         "11300786",
         "11313957",
         "11314044",
         "11397945",
         "11423984",
         "11447225",
         "11495913",
         "11526498",
         "11546806",
         "11583595",
         "11706017",
         "11707453",
         "11709713",
         "11711532",
         "11740489",
         "11780126",
         "11850826",
         "11861384",
         "11865061",
         "11875057",
         "11896572",
         "11896587",
         "12021785",
         "12049739",
         "12071847",
         "12080066",
         "12082529",
         "12091386",
         "12093737",
         "12151394",
         "12324477",
         "12384533",
         "12393500",
         "12397361",
         "12397362",
         "12427754",
         "12511424",
         "12518062",
         "12519769",
         "12519780",
         "12531896",
         "12588868",
         "12606585",
         "12637545",
         "12676607",
         "12702572",
         "12756247",
         "12771937",
         "12776195",
         "12860987",
         "12890678",
         "12902982",
         "12907596",
         "12939400",
         "12955074",
         "12959929",
         "12969974",
         "1406679",
         "14517211",
         "14527925",
         "14612532",
         "14665630",
         "14712210",
         "14749479",
         "14871840",
         "14871926",
         "14968111",
         "15048074",
         "15064747",
         "15077171",
         "15078887",
         "15082766",
         "15140942",
         "15155458",
         "15159397",
         "15178764",
         "15181149",
         "15226429",
         "15254178",
         "15258567",
         "15269203",
         "15310764",
         "15322239",
         "15355354",
         "15361830",
         "15381073",
         "15456784",
         "15471885",
         "15489221",
         "15489892",
         "15526030",
         "15533933",
         "15542844",
         "15580310",
         "15619621",
         "15657359",
         "15665826",
         "15706352",
         "15750624",
         "15758953",
         "15775976",
         "15782130",
         "15792956",
         "15794754",
         "15843377",
         "15866171",
         "15870257",
         "15897882",
         "16219768",
         "16223874",
         "16247456",
         "16288207",
         "16293623",
         "16377624",
         "16397295",
         "16436515",
         "16478990",
         "16489034",
         "16501611",
         "16552184",
         "16601678",
         "16632641",
         "16636671",
         "16648554",
         "16651424",
         "16714289",
         "16717128",
         "16731759",
         "16738336",
         "16774943",
         "16783362",
         "16790523",
         "16793543",
         "16818505",
         "16818520",
         "16891474",
         "16916644",
         "16949371",
         "17045821",
         "17105820",
         "17107963",
         "17108107",
         "17210684",
         "17234789",
         "17245430",
         "17254968",
         "17283137",
         "17297446",
         "17297454",
         "17332358",
         "17339337",
         "17349958",
         "17349959",
         "17353187",
         "17363488",
         "17371838",
         "17380123",
         "17456577",
         "17486112",
         "17535811",
         "17553757",
         "17567906",
         "17591690",
         "17596534",
         "17609585",
         "17616578",
         "17668048",
         "17684018",
         "17698850",
         "17712528",
         "17855337",
         "17891183",
         "17906639",
         "17936559",
         "17942552",
         "17967874",
         "17975552",
         "17976513",
         "17977830",
         "18032786",
         "18045533",
         "18056442",
         "18056705",
         "18097051",
         "18159951",
         "18160537",
         "18216278",
         "18246126",
         "18272544",
         "18289945",
         "18332866",
         "18339864",
         "18345031",
         "18381438",
         "18406507",
         "18431490",
         "18449195",
         "18490454",
         "18536714",
         "18560558",
         "18604166",
         "18614045",
         "18715874",
         "18718914",
         "18765533",
         "18769132",
         "18778462",
         "18785202",
         "18794113",
         "18818083",
         "18847491",
         "18985806",
         "18995830",
         "19085961",
         "19203586",
         "19251701",
         "19266268",
         "19303885",
         "19465479",
         "19477925",
         "19819244",
         "19828042",
         "19828454",
         "19857493",
         "19861417",
         "19882354",
         "19907922",
         "19934315",
         "19962312",
         "19965871",
         "20005840",
         "20018442",
         "20024960",
         "20026654",
         "20080565",
         "20123963",
         "20171273",
         "20353948",
         "20363803",
         "20372057",
         "20514025",
         "20562916",
         "20599567",
         "20610713",
         "20637859",
         "20661218",
         "20663147",
         "20673369",
         "20696760",
         "20711232",
         "20811699",
         "20931131",
         "20935676",
         "20962272",
         "21057547",
         "21317932",
         "21383696",
         "21394211",
         "21423215",
         "21441950",
         "21465263",
         "21532626",
         "21642861",
         "21660965",
         "21757780",
         "21765463",
         "21765464",
         "21832239",
         "22002314",
         "22011578",
         "22030623",
         "22037398",
         "22055193",
         "22099307",
         "22112863",
         "22179839",
         "22285752",
         "22728651",
         "22797063",
         "22815859",
         "22878263",
         "22975381",
         "23148227",
         "23149944",
         "23150668",
         "23184057",
         "23678107",
         "23798621",
         "23871434",
         "23890999",
         "23982736",
         "24038750",
         "24145406",
         "24196445",
         "24379358",
         "24657168",
         "24711418",
         "24820418",
         "24899407",
         "24958101",
         "25202122",
         "8327466",
         "9363941",
         "9372954",
         "9733515",
         "9744860",
         "9843217",
         "9925639"
        ],
        "source": "MAPK14",
        "target": "TP53",
        "type": "controls-state-change-of"
       }
      }
     },
     "51e1bd87e7fd4f4e96bf9229cf75c175": {
      "model_module": "jupyter-cytoscape",
      "model_module_version": "^1.2.2",
      "model_name": "CytoscapeModel",
      "state": {
       "_interaction_handlers": {},
       "_model_module_version": "^1.2.2",
       "_view_module_version": "^1.2.2",
       "auto_ungrabify": false,
       "autolock": false,
       "cytoscape_layout": {
        "name": "cola"
       },
       "cytoscape_style": [
        {
         "css": {
          "background-color": "#11479e"
         },
         "selector": "node"
        },
        {
         "css": {
          "background-opacity": 0.333
         },
         "selector": "node:parent"
        },
        {
         "selector": "edge",
         "style": {
          "line-color": "#9dbaea",
          "width": 4
         }
        },
        {
         "selector": "edge.directed",
         "style": {
          "curve-style": "bezier",
          "target-arrow-color": "#9dbaea",
          "target-arrow-shape": "triangle"
         }
        },
        {
         "selector": "edge.multiple_edges",
         "style": {
          "curve-style": "bezier"
         }
        }
       ],
       "desktop_tap_threshold": 4,
       "graph": "IPY_MODEL_43f66758050d408ab16c3de6ec5d1722",
       "headless": false,
       "hide_edges_on_viewport": false,
       "layout": "IPY_MODEL_ed2b7be516584104a546f5f5f8d947f7",
       "max_zoom": 1e+50,
       "min_zoom": 1e-50,
       "motion_blur": false,
       "motion_blur_opacity": 0.2,
       "panning_enabled": true,
       "pixel_ratio": "auto",
       "rendered_position": {
        "renderedPosition": {
         "x": 100,
         "y": 100
        }
       },
       "selection_type": "single",
       "style_enabled": true,
       "texture_on_viewport": false,
       "tooltip_source": "tooltip",
       "touch_tap_threshold": 8,
       "user_panning_enabled": true,
       "user_zooming_enabled": true,
       "wheel_sensitivity": 1,
       "zoom": 2,
       "zooming_enabled": true
      }
     },
     "5239d05f818b4ec9a417f49640dc281e": {
      "model_module": "jupyter-cytoscape",
      "model_module_version": "^1.2.2",
      "model_name": "EdgeModel",
      "state": {
       "_model_module_version": "^1.2.2",
       "_view_module_version": "^1.2.2",
       "data": {
        "cited": 0,
        "datasource": [
         "PANTHER"
        ],
        "id": "HTT-controls-state-change-of-TP73",
        "isdirected": true,
        "pubmed": [],
        "source": "HTT",
        "target": "TP73",
        "type": "controls-state-change-of"
       }
      }
     },
     "525053e2e29b4b979b3133063a94e99b": {
      "model_module": "jupyter-cytoscape",
      "model_module_version": "^1.2.2",
      "model_name": "EdgeModel",
      "state": {
       "_model_module_version": "^1.2.2",
       "_view_module_version": "^1.2.2",
       "data": {
        "cited": 2748,
        "datasource": [
         "pid"
        ],
        "id": "MDM2-controls-state-change-of-TP53",
        "isdirected": true,
        "pubmed": [
         "10734067",
         "11127820",
         "11340074",
         "11713287",
         "14654783",
         "14671306",
         "14702041",
         "15210108",
         "15242646",
         "16107876",
         "9153395",
         "9153396",
         "9450543"
        ],
        "source": "MDM2",
        "target": "TP53",
        "type": "controls-state-change-of"
       }
      }
     },
     "532e1b2f2245420495fda56d25e88beb": {
      "model_module": "jupyter-cytoscape",
      "model_module_version": "^1.2.2",
      "model_name": "EdgeModel",
      "state": {
       "_model_module_version": "^1.2.2",
       "_view_module_version": "^1.2.2",
       "data": {
        "cited": 1,
        "datasource": [
         "pid"
        ],
        "id": "TP53-controls-expression-of-HGF",
        "isdirected": true,
        "pubmed": [
         "9023107"
        ],
        "source": "TP53",
        "target": "HGF",
        "type": "controls-expression-of"
       }
      }
     },
     "54ba4c3af8644554b03fe36580dca7e4": {
      "model_module": "jupyter-cytoscape",
      "model_module_version": "^1.2.2",
      "model_name": "NodeModel",
      "state": {
       "_model_module_version": "^1.2.2",
       "_view_module_version": "^1.2.2",
       "data": {
        "altered": 0,
        "cited": 3,
        "id": "PPM1J",
        "importance": 3,
        "isseed": false,
        "isvalid": true,
        "rank": 191,
        "uniprot": "Q5JR12",
        "uniprotdesc": ""
       },
       "grabbable": true,
       "grabbed": false,
       "position": {
        "x": 716.3396287771806,
        "y": 418.8925528575853
       }
      }
     },
     "54c85922998044b6ac5962af7cc82fcb": {
      "model_module": "jupyter-cytoscape",
      "model_module_version": "^1.2.2",
      "model_name": "NodeModel",
      "state": {
       "_model_module_version": "^1.2.2",
       "_view_module_version": "^1.2.2",
       "data": {
        "altered": 0,
        "cited": 152,
        "id": "CARM1",
        "importance": 2,
        "isseed": false,
        "isvalid": true,
        "rank": 207,
        "uniprot": "Q86X55",
        "uniprotdesc": "Methylates (mono- and asymmetric dimethylation) theguanidino nitrogens of arginyl residues in several proteinsinvolved in DNA packaging, transcription regulation, pre-mRNAsplicing, and mRNA stability. Recruited to promoters upon geneactivation together with histone acetyltransferases fromEP300/P300 and p160 families, methylates histone H3 at 'Arg-17'(H3R17me), forming mainly asymmetric dimethylarginine (H3R17me2a),leading to activate transcription via chromatin remodeling. Duringnuclear hormone receptor activation and TCF7L2/TCF4 activation,acts synergically with EP300/P300 and either one of the p160histone acetyltransferases NCOA1/SRC1, NCOA2/GRIP1 and NCOA3/ACTRor CTNNB1/beta-catenin to activate transcription. During myogenictranscriptional activation, acts together with NCOA3/ACTR as acoactivator for MEF2C. During monocyte inflammatory stimulation,acts together with EP300/P300 as a coactivator for NF-kappa-B.Acts as coactivator for PPARG, promotes adipocyte differentiationand the accumulation of brown fat tissue. Plays a role in theregulation of pre-mRNA alternative splicing by methylation ofsplicing factors. Also seems to be involved in p53/TP53transcriptional activation. Methylates EP300/P300, both at 'Arg-2142', which may loosen its interaction with NCOA2/GRIP1, and at'Arg-580' and 'Arg-604' in the KIX domain, which impairs itsinteraction with CREB and inhibits CREB-dependent transcriptionalactivation. Also methylates arginine residues in RNA-bindingproteins PABPC1, ELAVL1 and ELAV4, which may affect their mRNA-stabilizing properties and the half-life of their target mRNAs."
       },
       "grabbable": true,
       "grabbed": false,
       "position": {
        "x": 492.8136254004672,
        "y": 496.66157343034894
       }
      }
     },
     "55758416669b40a08ab4601f1b966039": {
      "model_module": "jupyter-cytoscape",
      "model_module_version": "^1.2.2",
      "model_name": "NodeModel",
      "state": {
       "_model_module_version": "^1.2.2",
       "_view_module_version": "^1.2.2",
       "data": {
        "altered": 0,
        "cited": 27,
        "id": "ASF1A",
        "importance": 3,
        "isseed": false,
        "isvalid": true,
        "rank": 161,
        "uniprot": "Q9Y294",
        "uniprotdesc": "Histone chaperone that facilitates histone depositionand histone exchange and removal during nucleosome assembly anddisassembly. Cooperates with chromatin assembly factor 1 (CAF-1)to promote replication-dependent chromatin assembly and with HIRAto promote replication-independent chromatin assembly. Requiredfor the formation of senescence-associated heterochromatin foci(SAHF) and efficient senescence-associated cell cycle exit."
       },
       "grabbable": true,
       "grabbed": false,
       "position": {
        "x": 371.3416819704609,
        "y": 232.67666028479493
       }
      }
     },
     "559cb1b572cd437a898979fe3ab80d39": {
      "model_module": "jupyter-cytoscape",
      "model_module_version": "^1.2.2",
      "model_name": "EdgeModel",
      "state": {
       "_model_module_version": "^1.2.2",
       "_view_module_version": "^1.2.2",
       "data": {
        "cited": 117,
        "datasource": [
         "pid",
         "PANTHER"
        ],
        "id": "EP300-controls-state-change-of-TP53",
        "isdirected": true,
        "pubmed": [
         "18485870"
        ],
        "source": "EP300",
        "target": "TP53",
        "type": "controls-state-change-of"
       }
      }
     },
     "5665228ef7fc428bb3e3e1d587072f9b": {
      "model_module": "jupyter-cytoscape",
      "model_module_version": "^1.2.2",
      "model_name": "EdgeModel",
      "state": {
       "_model_module_version": "^1.2.2",
       "_view_module_version": "^1.2.2",
       "data": {
        "cited": 0,
        "datasource": [
         "PANTHER"
        ],
        "id": "SUMO1-controls-state-change-of-TP73",
        "isdirected": true,
        "pubmed": [],
        "source": "SUMO1",
        "target": "TP73",
        "type": "controls-state-change-of"
       }
      }
     },
     "56dc1499336846be97f98703d0f0182b": {
      "model_module": "jupyter-cytoscape",
      "model_module_version": "^1.2.2",
      "model_name": "EdgeModel",
      "state": {
       "_model_module_version": "^1.2.2",
       "_view_module_version": "^1.2.2",
       "data": {
        "cited": 0,
        "datasource": [
         "PANTHER"
        ],
        "id": "HTT-controls-state-change-of-TP63",
        "isdirected": true,
        "pubmed": [],
        "source": "HTT",
        "target": "TP63",
        "type": "controls-state-change-of"
       }
      }
     },
     "5805b68f233741ddb9261bfce87fa90c": {
      "model_module": "jupyter-cytoscape",
      "model_module_version": "^1.2.2",
      "model_name": "EdgeModel",
      "state": {
       "_model_module_version": "^1.2.2",
       "_view_module_version": "^1.2.2",
       "data": {
        "cited": 13,
        "datasource": [
         "pid"
        ],
        "id": "TP53-controls-expression-of-PYCARD",
        "isdirected": true,
        "pubmed": [
         "14730312"
        ],
        "source": "TP53",
        "target": "PYCARD",
        "type": "controls-expression-of"
       }
      }
     },
     "582d0d1328e24ddcbd55841e1787bd60": {
      "model_module": "jupyter-cytoscape",
      "model_module_version": "^1.2.2",
      "model_name": "EdgeModel",
      "state": {
       "_model_module_version": "^1.2.2",
       "_view_module_version": "^1.2.2",
       "data": {
        "cited": 0,
        "datasource": [
         "PANTHER"
        ],
        "id": "PRKAA2-controls-state-change-of-TP63",
        "isdirected": true,
        "pubmed": [],
        "source": "PRKAA2",
        "target": "TP63",
        "type": "controls-state-change-of"
       }
      }
     },
     "584a4c617eb7444db2569f014da33796": {
      "model_module": "jupyter-cytoscape",
      "model_module_version": "^1.2.2",
      "model_name": "EdgeModel",
      "state": {
       "_model_module_version": "^1.2.2",
       "_view_module_version": "^1.2.2",
       "data": {
        "cited": 0,
        "datasource": [
         "Reactome"
        ],
        "id": "TP53-controls-state-change-of-HIST1H1A",
        "isdirected": true,
        "pubmed": [
         "15621527",
         "15655109",
         "16901784",
         "17158953",
         "17242198",
         "17242207",
         "23964094"
        ],
        "source": "TP53",
        "target": "HIST1H1A",
        "type": "controls-state-change-of"
       }
      }
     },
     "584c85d578cb46e28f520a713d9e4aec": {
      "model_module": "jupyter-cytoscape",
      "model_module_version": "^1.2.2",
      "model_name": "NodeModel",
      "state": {
       "_model_module_version": "^1.2.2",
       "_view_module_version": "^1.2.2",
       "data": {
        "altered": 0,
        "cited": 1300,
        "id": "PML",
        "importance": 3,
        "isseed": false,
        "isvalid": true,
        "rank": 35,
        "uniprot": "P29590",
        "uniprotdesc": "Functions via its association with PML-nuclear bodies(PML-NBs) in a wide range of important cellular processes,including tumor suppression, transcriptional regulation,apoptosis, senescence, DNA damage response, and viral defensemechanisms. Acts as the scaffold of PML-NBs allowing otherproteins to shuttle in and out, a process which is regulated bySUMO-mediated modifications and interactions. Isoform PML-4 has amultifaceted role in the regulation of apoptosis and growthsuppression: activates RB1 and inhibits AKT1 via interactions withPP1 and PP2A phosphatases respectively, negatively affects thePI3K pathway by inhibiting MTOR and activating PTEN, andpositively regulates p53/TP53 by acting at different levels (bypromoting its acetylation and phosphorylation and by inhibitingits MDM2-dependent degradation). Isoform PML-4 also: acts as atranscriptional repressor of TBX2 during cellular senescence andthe repression is dependent on a functional RBL2/E2F4 repressorcomplex, regulates double-strand break repair in gamma-irradiation-induced DNA damage responses via its interaction withWRN, acts as a negative regulator of telomerase by interactingwith TERT, and regulates PER2 nuclear localization and circadianfunction. Isoform PML-6 inhibits specifically the activity of thetetrameric form of PKM. The nuclear isoforms (isoform PML-1,isoform PML-2, isoform PML-3, isoform PML-4 and isoform PML-5) inconcert with SATB1 are involved in local chromatin-loop remodelingand gene expression regulation at the MHC-I locus. Isoform PML-2is required for efficient IFN-gamma induced MHC II genetranscription via regulation of CIITA. Cytoplasmic PML is involvedin the regulation of the TGF-beta signaling pathway. PML alsoregulates transcription activity of ELF4 and can act as animportant mediator for TNF-alpha- and IFN-alpha-mediatedinhibition of endothelial cell network formation and migration.Exhibits antiviral activity against both DNA and RNAviruses. The antiviral activity can involve one or severalisoform(s) and can be enhanced by the permanent PML-NB-associatedprotein DAXX or by the recruitment of p53/TP53 within thesestructures. Isoform PML-4 restricts varicella zoster virus (VZV)via sequestration of virion capsids in PML-NBs thereby preventingtheir nuclear egress and inhibiting formation of infectious virusparticles. The sumoylated isoform PML-4 restricts rabies virus byinhibiting viral mRNA and protein synthesis. The cytoplasmicisoform PML-14 can restrict herpes simplex virus-1 (HHV-1)replication by sequestering the viral E3 ubiquitin-protein ligaseICP0 in the cytoplasm. Isoform PML-6 shows restriction activitytowards human cytomegalovirus (HCMV) and influenza A virus strainsPR8(H1N1) and ST364(H3N2). Sumoylated isoform PML-4 and isoformPML-12 show antiviral activity against encephalomyocarditis virus(EMCV) by promoting nuclear sequestration of viral polymerase(P3D-POL) within PML NBs. Isoform PML-3 exhibits antiviralactivity against poliovirus by inducing apoptosis in infectedcells through the recruitment and the activation of p53/TP53 inthe PML-NBs. Isoform PML-3 represses human foamy virus (HFV)transcription by complexing the HFV transactivator, bel1/tas,preventing its binding to viral DNA. PML may positively regulateinfectious hepatitis C viral (HCV) production and isoform PML-2may enhance adenovirus transcription."
       },
       "grabbable": true,
       "grabbed": false,
       "position": {
        "x": 657.6400384363117,
        "y": 220.81389700667148
       }
      }
     },
     "5855ba1ec87e48bf9f96e40d7f10df1d": {
      "model_module": "jupyter-cytoscape",
      "model_module_version": "^1.2.2",
      "model_name": "EdgeModel",
      "state": {
       "_model_module_version": "^1.2.2",
       "_view_module_version": "^1.2.2",
       "data": {
        "cited": 0,
        "datasource": [
         "PANTHER"
        ],
        "id": "PRKAB2-controls-state-change-of-TP53",
        "isdirected": true,
        "pubmed": [],
        "source": "PRKAB2",
        "target": "TP53",
        "type": "controls-state-change-of"
       }
      }
     },
     "58aa0825b8f04e55b3b9789d5e40760a": {
      "model_module": "jupyter-cytoscape",
      "model_module_version": "^1.2.2",
      "model_name": "NodeModel",
      "state": {
       "_model_module_version": "^1.2.2",
       "_view_module_version": "^1.2.2",
       "data": {
        "altered": 0,
        "cited": 858,
        "id": "HTT",
        "importance": 3,
        "isseed": false,
        "isvalid": true,
        "rank": 43,
        "uniprot": "P42858",
        "uniprotdesc": "May play a role in microtubule-mediated transport orvesicle function."
       },
       "grabbable": true,
       "grabbed": false,
       "position": {
        "x": 765.1071241480672,
        "y": 232.79214943145493
       }
      }
     },
     "5956ecd5ba35474b8ee32a87bd78ee26": {
      "model_module": "jupyter-cytoscape",
      "model_module_version": "^1.2.2",
      "model_name": "NodeModel",
      "state": {
       "_model_module_version": "^1.2.2",
       "_view_module_version": "^1.2.2",
       "data": {
        "id": "9",
        "name": "age: 57\nvirus: ncov\n",
        "parent": "parent-1"
       },
       "grabbable": true,
       "grabbed": false,
       "position": {
        "x": 756.5529425139174,
        "y": 150.50718192426334
       },
       "selectable": false
      }
     },
     "598cd7caadb14a60b39187ee133c5071": {
      "model_module": "jupyter-cytoscape",
      "model_module_version": "^1.2.2",
      "model_name": "EdgeModel",
      "state": {
       "_model_module_version": "^1.2.2",
       "_view_module_version": "^1.2.2",
       "data": {
        "cited": 16,
        "datasource": [
         "pid"
        ],
        "id": "TP53-controls-expression-of-PLK3",
        "isdirected": true,
        "pubmed": [
         "16140933"
        ],
        "source": "TP53",
        "target": "PLK3",
        "type": "controls-expression-of"
       }
      }
     },
     "59be392e20364e38a02fb0d6f22e5414": {
      "model_module": "jupyter-cytoscape",
      "model_module_version": "^1.2.2",
      "model_name": "EdgeModel",
      "state": {
       "_model_module_version": "^1.2.2",
       "_view_module_version": "^1.2.2",
       "data": {
        "cited": 9,
        "datasource": [
         "PANTHER"
        ],
        "id": "HTT-controls-state-change-of-TP53",
        "isdirected": true,
        "pubmed": [],
        "source": "HTT",
        "target": "TP53",
        "type": "controls-state-change-of"
       }
      }
     },
     "59df63d025e248ed8878ac3f51fcf0c9": {
      "model_module": "jupyter-cytoscape",
      "model_module_version": "^1.2.2",
      "model_name": "NodeModel",
      "state": {
       "_model_module_version": "^1.2.2",
       "_view_module_version": "^1.2.2",
       "data": {
        "id": "20",
        "name": "age: 54\nvirus: ncov\n",
        "parent": "parent-1"
       },
       "grabbable": true,
       "grabbed": false,
       "position": {
        "x": 550.8344052128374,
        "y": 290
       },
       "selectable": false
      }
     },
     "5a0d267526f74a5fbb5aa74d1a12b783": {
      "model_module": "jupyter-cytoscape",
      "model_module_version": "^1.2.2",
      "model_name": "EdgeModel",
      "state": {
       "_model_module_version": "^1.2.2",
       "_view_module_version": "^1.2.2",
       "data": {
        "cited": 44,
        "datasource": [
         "pid"
        ],
        "id": "TP53-controls-expression-of-CD82",
        "isdirected": true,
        "pubmed": [
         "9736732"
        ],
        "source": "TP53",
        "target": "CD82",
        "type": "controls-expression-of"
       }
      }
     },
     "5a6b22320e094c28a7572d3ddc9a2da7": {
      "model_module": "jupyter-cytoscape",
      "model_module_version": "^1.2.2",
      "model_name": "EdgeModel",
      "state": {
       "_model_module_version": "^1.2.2",
       "_view_module_version": "^1.2.2",
       "data": {
        "cited": 8,
        "datasource": [
         "pid"
        ],
        "id": "SETD8-controls-state-change-of-TP53",
        "isdirected": true,
        "pubmed": [
         "17707234"
        ],
        "source": "SETD8",
        "target": "TP53",
        "type": "controls-state-change-of"
       }
      }
     },
     "5ac8c05d059f4b49aadaa6f414ade622": {
      "model_module": "jupyter-cytoscape",
      "model_module_version": "^1.2.2",
      "model_name": "EdgeModel",
      "state": {
       "_model_module_version": "^1.2.2",
       "_view_module_version": "^1.2.2",
       "data": {
        "cited": 73,
        "datasource": [
         "PhosphoSite",
         "pid",
         "PANTHER"
        ],
        "id": "CHEK2-controls-state-change-of-TP53",
        "isdirected": true,
        "pubmed": [
         "10202145",
         "10570149",
         "10581258",
         "10606744",
         "10608806",
         "10611322",
         "10656682",
         "10656795",
         "10673500",
         "10673501",
         "10706102",
         "10710310",
         "10713094",
         "10723129",
         "10733583",
         "10734067",
         "10744722",
         "10958792",
         "11030628",
         "11042698",
         "11096068",
         "11121242",
         "11175334",
         "11244509",
         "11258706",
         "11300786",
         "11313957",
         "11314044",
         "11397945",
         "11423984",
         "11447225",
         "11495913",
         "11526498",
         "11546806",
         "11551930",
         "11583595",
         "11585729",
         "11706017",
         "11707453",
         "11709713",
         "11711532",
         "11850826",
         "11861384",
         "11865061",
         "11875057",
         "11883897",
         "11896572",
         "11896587",
         "12021785",
         "12049739",
         "12071847",
         "12080066",
         "12082529",
         "12091386",
         "12151394",
         "12324477",
         "12384533",
         "12393500",
         "12397362",
         "12427754",
         "12511424",
         "12518062",
         "12519769",
         "12519780",
         "12531896",
         "12588868",
         "12606585",
         "12637545",
         "12676607",
         "12702572",
         "12756247",
         "12771937",
         "12776195",
         "12810724",
         "12860987",
         "12861053",
         "12890678",
         "12902982",
         "12939400",
         "12955074",
         "12959929",
         "12969974",
         "1406679",
         "14517211",
         "14527925",
         "14612532",
         "14640983",
         "14665630",
         "14712210",
         "14871840",
         "14871926",
         "14968111",
         "15048074",
         "15064747",
         "15077171",
         "15078887",
         "15082766",
         "15140942",
         "15155458",
         "15159397",
         "15178764",
         "15181149",
         "15226429",
         "15254178",
         "15258567",
         "15269203",
         "15310764",
         "15322239",
         "15355354",
         "15361830",
         "15381073",
         "15456784",
         "15471885",
         "15489221",
         "15489892",
         "15533933",
         "15542844",
         "15580310",
         "15619621",
         "15629715",
         "15659650",
         "15665826",
         "15671037",
         "15750624",
         "15758953",
         "15775976",
         "15782130",
         "15792956",
         "15794754",
         "15843377",
         "15866171",
         "15870257",
         "15897882",
         "15963507",
         "16223874",
         "16247456",
         "16288207",
         "16293623",
         "16377624",
         "16397295",
         "16436515",
         "16478990",
         "16489034",
         "16501611",
         "16632641",
         "16636671",
         "16648554",
         "16651424",
         "16714289",
         "16717128",
         "16731759",
         "16774943",
         "16783362",
         "16790523",
         "16818505",
         "16818520",
         "16891474",
         "16916644",
         "16949371",
         "17045821",
         "17105820",
         "17108107",
         "17121812",
         "17135248",
         "17234789",
         "17245430",
         "17254968",
         "17283137",
         "17297446",
         "17297454",
         "17332358",
         "17339337",
         "17353187",
         "17363488",
         "17371838",
         "17380123",
         "17456577",
         "17486112",
         "17535811",
         "17553757",
         "17591690",
         "17596534",
         "17609585",
         "17616578",
         "17668048",
         "17684018",
         "17698850",
         "17712528",
         "17855337",
         "17891183",
         "17898864",
         "17936559",
         "17967874",
         "17975552",
         "17976513",
         "17977830",
         "18032786",
         "18045533",
         "18056442",
         "18097051",
         "18159951",
         "18216278",
         "18246126",
         "18272544",
         "18289945",
         "18332866",
         "18339864",
         "18345031",
         "18381438",
         "18406507",
         "18431490",
         "18449195",
         "18490454",
         "18560558",
         "18593910",
         "18604166",
         "18614045",
         "18669630",
         "18715874",
         "18718914",
         "18765533",
         "18769132",
         "18778462",
         "18785202",
         "18794113",
         "18812399",
         "18818083",
         "18847491",
         "18985806",
         "18995830",
         "19085961",
         "19203586",
         "19251701",
         "19266268",
         "19303885",
         "19477925",
         "19819244",
         "19828454",
         "19861417",
         "19882354",
         "19907922",
         "19933256",
         "19934315",
         "19962312",
         "20005840",
         "20009884",
         "20024960",
         "20026654",
         "20041275",
         "20080565",
         "20123963",
         "20353948",
         "20372057",
         "20562916",
         "20599567",
         "20610713",
         "20637859",
         "20661218",
         "20663147",
         "20673369",
         "20696760",
         "20711232",
         "20931131",
         "20935676",
         "20962272",
         "21148320",
         "21317932",
         "21383696",
         "21386980",
         "21394211",
         "21423215",
         "21441950",
         "21454683",
         "21465263",
         "21532626",
         "21642861",
         "21660965",
         "21757780",
         "21765463",
         "21765464",
         "21832239",
         "22002314",
         "22011578",
         "22030623",
         "22037398",
         "22055193",
         "22099307",
         "22112863",
         "22179839",
         "22285752",
         "22728651",
         "22797063",
         "22815859",
         "22975381",
         "23148227",
         "23150668",
         "23184057",
         "23678107",
         "23798621",
         "23871434",
         "23890999",
         "23982736",
         "24038750",
         "24657168",
         "24711418",
         "24820418",
         "24958101",
         "25202122",
         "8327466",
         "9254608",
         "9315650",
         "9363941",
         "9571186",
         "9620776",
         "9733515",
         "9739174",
         "9744860",
         "9843217",
         "9925639"
        ],
        "source": "CHEK2",
        "target": "TP53",
        "type": "controls-state-change-of"
       }
      }
     },
     "5b41485667494a2d81c35ae800684d9a": {
      "model_module": "jupyter-cytoscape",
      "model_module_version": "^1.2.2",
      "model_name": "EdgeModel",
      "state": {
       "_model_module_version": "^1.2.2",
       "_view_module_version": "^1.2.2",
       "data": {
        "cited": 0,
        "datasource": [
         "PANTHER"
        ],
        "id": "HMGB1-controls-state-change-of-TP73",
        "isdirected": true,
        "pubmed": [],
        "source": "HMGB1",
        "target": "TP73",
        "type": "controls-state-change-of"
       }
      }
     },
     "5bdeccf0c1064d3cb83ffe09308a5d78": {
      "model_module": "jupyter-cytoscape",
      "model_module_version": "^1.2.2",
      "model_name": "NodeModel",
      "state": {
       "_model_module_version": "^1.2.2",
       "_view_module_version": "^1.2.2",
       "data": {
        "altered": 0,
        "cited": 7063,
        "id": "SERPINE1",
        "importance": 3,
        "isseed": false,
        "isvalid": true,
        "rank": 5,
        "uniprot": "P05121",
        "uniprotdesc": "Serine protease inhibitor. This inhibitor acts as 'bait'for tissue plasminogen activator, urokinase, protein C andmatriptase-3/TMPRSS7. Its rapid interaction with PLAT may functionas a major control point in the regulation of fibrinolysis."
       },
       "grabbable": true,
       "grabbed": false,
       "position": {
        "x": 809.5236529445441,
        "y": -77.4156110687746
       }
      }
     },
     "5c2d820897d64c45969b2e47fd3661ee": {
      "model_module": "jupyter-cytoscape",
      "model_module_version": "^1.2.2",
      "model_name": "NodeModel",
      "state": {
       "_model_module_version": "^1.2.2",
       "_view_module_version": "^1.2.2",
       "data": {
        "altered": 0,
        "cited": 5,
        "id": "FBXO11",
        "importance": 3,
        "isseed": false,
        "isvalid": true,
        "rank": 188,
        "uniprot": "Q86XK2",
        "uniprotdesc": "Substrate recognition component of a SCF (SKP1-CUL1-F-box protein) E3 ubiquitin-protein ligase complex which mediatesthe ubiquitination and subsequent proteasomal degradation oftarget proteins, such as DTL/CDT2, BCL6 and PRDM1/BLIMP1. TheSCF(FBXO11) complex mediates ubiquitination and degradation ofBCL6, thereby playing a role in the germinal center B-cellsterminal differentiation toward memory B-cells and plasma cells.The SCF(FBXO11) complex also mediates ubiquitination anddegradation of DTL, an important step for the regulation of TGF-beta signaling, cell migration and the timing of the cell-cycleprogression and exit. Binds to and neddylates phosphorylatedp53/TP53, inhibiting its transcriptional activity. SCF(FBXO11)does not seem to direct ubiquitination of p53/TP53."
       },
       "grabbable": true,
       "grabbed": false,
       "position": {
        "x": 511.27416079011346,
        "y": 292.4425742920796
       }
      }
     },
     "5c9ce44d688c43d2bcad29f71a5daab6": {
      "model_module": "jupyter-cytoscape",
      "model_module_version": "^1.2.2",
      "model_name": "EdgeModel",
      "state": {
       "_model_module_version": "^1.2.2",
       "_view_module_version": "^1.2.2",
       "data": {
        "cited": 10,
        "datasource": [
         "pid"
        ],
        "id": "MDM2-controls-state-change-of-NEDD8",
        "isdirected": true,
        "pubmed": [
         "15242646"
        ],
        "source": "MDM2",
        "target": "NEDD8",
        "type": "controls-state-change-of"
       }
      }
     },
     "5dcd8153e5804678bf995a5d5a39f0d4": {
      "model_module": "jupyter-cytoscape",
      "model_module_version": "^1.2.2",
      "model_name": "NodeModel",
      "state": {
       "_model_module_version": "^1.2.2",
       "_view_module_version": "^1.2.2",
       "data": {
        "altered": 0,
        "cited": 181,
        "id": "CASP10",
        "importance": 3,
        "isseed": false,
        "isvalid": true,
        "rank": 100,
        "uniprot": "Q92851",
        "uniprotdesc": "Involved in the activation cascade of caspasesresponsible for apoptosis execution. Recruited to both Fas- andTNFR-1 receptors in a FADD dependent manner. May participate inthe granzyme B apoptotic pathways. Cleaves and activates caspase-3, -4, -6, -7, -8, and -9. Hydrolyzes the small- moleculesubstrates, Tyr-Val-Ala-Asp-|-AMC and Asp-Glu-Val-Asp-|-AMC."
       },
       "grabbable": true,
       "grabbed": false,
       "position": {
        "x": 414.5108114880322,
        "y": 24.440930723839756
       }
      }
     },
     "5dd031649c154a9bb9e464aa4fbe905a": {
      "model_module": "jupyter-cytoscape",
      "model_module_version": "^1.2.2",
      "model_name": "EdgeModel",
      "state": {
       "_model_module_version": "^1.2.2",
       "_view_module_version": "^1.2.2",
       "data": {
        "cited": 6,
        "datasource": [
         "PhosphoSite"
        ],
        "id": "DAPK1-controls-state-change-of-TP53",
        "isdirected": true,
        "pubmed": [
         "10202145",
         "10570149",
         "10606744",
         "10656795",
         "10673500",
         "10673501",
         "10706102",
         "10710310",
         "10733583",
         "10734067",
         "11030628",
         "11175334",
         "11244509",
         "11258706",
         "11397945",
         "11423984",
         "11447225",
         "11495913",
         "11526498",
         "11551930",
         "11583595",
         "11707453",
         "11850826",
         "11861384",
         "11875057",
         "11883897",
         "11896572",
         "11896587",
         "12091386",
         "12384533",
         "12427754",
         "12531896",
         "12676607",
         "12756247",
         "12810724",
         "12860987",
         "12861053",
         "12902982",
         "12955074",
         "12959929",
         "12969974",
         "14517211",
         "14527925",
         "14612532",
         "14665630",
         "15064747",
         "15140942",
         "15254178",
         "15269203",
         "15322239",
         "15355354",
         "15471885",
         "15489221",
         "15542844",
         "15629715",
         "15671037",
         "15750624",
         "15843377",
         "15963507",
         "16377624",
         "16651424",
         "16731759",
         "16774943",
         "16818520",
         "17105820",
         "17121812",
         "17135248",
         "17245430",
         "17339337",
         "17353187",
         "17363488",
         "17698850",
         "17967874",
         "17977830",
         "18159951",
         "18246126",
         "18593910",
         "18669630",
         "18718914",
         "18778462",
         "18794113",
         "19819244",
         "19861417",
         "19882354",
         "20009884",
         "20024960",
         "20041275",
         "20562916",
         "20673369",
         "20696760",
         "20847049",
         "20851891",
         "20959462",
         "20962272",
         "21148320",
         "21383696",
         "21386980",
         "21454683",
         "21832239",
         "22030623",
         "22112863",
         "22285752",
         "22728651",
         "22797063",
         "22815859",
         "23798621",
         "23871434",
         "24657168",
         "8327466"
        ],
        "source": "DAPK1",
        "target": "TP53",
        "type": "controls-state-change-of"
       }
      }
     },
     "5e6f10bbbb7c4740a005209ac09d7ef5": {
      "model_module": "jupyter-cytoscape",
      "model_module_version": "^1.2.2",
      "model_name": "NodeModel",
      "state": {
       "_model_module_version": "^1.2.2",
       "_view_module_version": "^1.2.2",
       "data": {
        "altered": 0,
        "cited": 8,
        "id": "H1F0",
        "importance": 3,
        "isseed": false,
        "isvalid": true,
        "rank": 179,
        "uniprot": "P07305",
        "uniprotdesc": "Histones H1 are necessary for the condensation ofnucleosome chains into higher-order structures. The H1F0 histonesare found in cells that are in terminal stages of differentiationor that have low rates of cell division."
       },
       "grabbable": true,
       "grabbed": false,
       "position": {
        "x": 438.10392816071095,
        "y": 544.5405130326731
       }
      }
     },
     "5ed03d9244eb4c2ea6611908ec19dac2": {
      "model_module": "jupyter-cytoscape",
      "model_module_version": "^1.2.2",
      "model_name": "EdgeModel",
      "state": {
       "_model_module_version": "^1.2.2",
       "_view_module_version": "^1.2.2",
       "data": {
        "cited": 0,
        "datasource": [
         "pid"
        ],
        "id": "TP53-controls-expression-of-RNF144B",
        "isdirected": true,
        "pubmed": [
         "12853982"
        ],
        "source": "TP53",
        "target": "RNF144B",
        "type": "controls-expression-of"
       }
      }
     },
     "5ee39a2e53fa461aabf418a391c1a3a6": {
      "model_module": "jupyter-cytoscape",
      "model_module_version": "^1.2.2",
      "model_name": "EdgeModel",
      "state": {
       "_model_module_version": "^1.2.2",
       "_view_module_version": "^1.2.2",
       "data": {
        "cited": 0,
        "datasource": [
         "PANTHER"
        ],
        "id": "WRN-controls-state-change-of-TP73",
        "isdirected": true,
        "pubmed": [],
        "source": "WRN",
        "target": "TP73",
        "type": "controls-state-change-of"
       }
      }
     },
     "5f7ed551954347a28142d68432c37dd4": {
      "model_module": "jupyter-cytoscape",
      "model_module_version": "^1.2.2",
      "model_name": "EdgeModel",
      "state": {
       "_model_module_version": "^1.2.2",
       "_view_module_version": "^1.2.2",
       "data": {
        "cited": 26,
        "datasource": [
         "PhosphoSite",
         "pid"
        ],
        "id": "CDK2-controls-state-change-of-TP53",
        "isdirected": true,
        "pubmed": [
         "10581258",
         "10644693",
         "10656795",
         "11078726",
         "11283254",
         "11300786",
         "11687964",
         "11875057",
         "12021785",
         "12397361",
         "12397362",
         "12860987",
         "1406679",
         "14640983",
         "14702041",
         "14744935",
         "15302935",
         "15619621",
         "16037820",
         "16227590",
         "16552184",
         "16674116",
         "16784539",
         "17287340",
         "17906639",
         "17942552",
         "18521083",
         "18769132",
         "18847512",
         "19413330",
         "19574224",
         "19664995",
         "20363803",
         "20562916",
         "20661218",
         "20686112",
         "20808790",
         "20815410",
         "21659604",
         "21983960",
         "22011578",
         "22496350",
         "22547687",
         "23201157",
         "23312004",
         "25159151",
         "7596441",
         "8327466",
         "9254608"
        ],
        "source": "CDK2",
        "target": "TP53",
        "type": "controls-state-change-of"
       }
      }
     },
     "5fca866f36b9456597802d29f4dd83bc": {
      "model_module": "jupyter-cytoscape",
      "model_module_version": "^1.2.2",
      "model_name": "EdgeModel",
      "state": {
       "_model_module_version": "^1.2.2",
       "_view_module_version": "^1.2.2",
       "data": {
        "cited": 1,
        "datasource": [
         "pid"
        ],
        "id": "TP53-controls-expression-of-HGF",
        "isdirected": true,
        "pubmed": [
         "9023107"
        ],
        "source": "TP53",
        "target": "HGF",
        "type": "controls-expression-of"
       }
      }
     },
     "607357b40bb549f9bc7954c5c2205d32": {
      "model_module": "jupyter-cytoscape",
      "model_module_version": "^1.2.2",
      "model_name": "EdgeModel",
      "state": {
       "_model_module_version": "^1.2.2",
       "_view_module_version": "^1.2.2",
       "data": {
        "cited": 0,
        "datasource": [
         "PANTHER"
        ],
        "id": "HMGB1-controls-state-change-of-TP73",
        "isdirected": true,
        "pubmed": [],
        "source": "HMGB1",
        "target": "TP73",
        "type": "controls-state-change-of"
       }
      }
     },
     "60ada5a872984872ae09831ba7e71fcf": {
      "model_module": "jupyter-cytoscape",
      "model_module_version": "^1.2.2",
      "model_name": "NodeModel",
      "state": {
       "_model_module_version": "^1.2.2",
       "_view_module_version": "^1.2.2",
       "data": {
        "altered": 0,
        "cited": 0,
        "id": "KAT8",
        "importance": 3,
        "isseed": false,
        "isvalid": true,
        "rank": 199,
        "uniprot": "Q9H7Z6",
        "uniprotdesc": "Histone acetyltransferase which may be involved intranscriptional activation. May influence the function of ATM. Aspart of the MSL complex it is involved in acetylation ofnucleosomal histone H4 producing specifically H4K16ac. As part ofthe NSL complex it may be involved in acetylation of nucleosomalhistone H4 on several lysine residues. That activity is lessspecific than the one of the MSL complex. Can also acetylateTP53/p53 at 'Lys-120'. "
       },
       "grabbable": true,
       "grabbed": false,
       "position": {
        "x": 466.3396237771806,
        "y": 342.44257529207965
       }
      }
     },
     "61275150b1794dec8fd962d535a9c948": {
      "model_module": "jupyter-cytoscape",
      "model_module_version": "^1.2.2",
      "model_name": "EdgeModel",
      "state": {
       "_model_module_version": "^1.2.2",
       "_view_module_version": "^1.2.2",
       "data": {
        "cited": 7,
        "datasource": [
         "PhosphoSite"
        ],
        "id": "CDK7-controls-state-change-of-TP53",
        "isdirected": true,
        "pubmed": [
         "10202145",
         "10348343",
         "10581258",
         "10656682",
         "10656795",
         "10706102",
         "10733583",
         "10747897",
         "11007451",
         "11101524",
         "11239457",
         "11300786",
         "11423984",
         "11495913",
         "11526498",
         "11583595",
         "11585729",
         "11707453",
         "11709713",
         "11850826",
         "11875057",
         "12021785",
         "12080066",
         "12091386",
         "12393879",
         "12397361",
         "12397362",
         "12427754",
         "12519780",
         "12676607",
         "12776195",
         "12860987",
         "12959929",
         "1406679",
         "14640983",
         "14665630",
         "14744935",
         "14968111",
         "15064747",
         "15155458",
         "15322239",
         "15471885",
         "15489221",
         "15619621",
         "15659650",
         "15792956",
         "15843377",
         "16083285",
         "16227590",
         "16319070",
         "16436515",
         "16552184",
         "16632641",
         "16651424",
         "16717128",
         "16818520",
         "17105820",
         "17108107",
         "17237827",
         "17591690",
         "17891183",
         "17898864",
         "17906639",
         "17942552",
         "17975552",
         "18490454",
         "18523266",
         "18718914",
         "18765533",
         "18769132",
         "18778462",
         "18812399",
         "19251701",
         "19369195",
         "19413330",
         "19819244",
         "19861417",
         "19882354",
         "19933256",
         "20009884",
         "20024960",
         "20123963",
         "20562916",
         "20663147",
         "20686112",
         "20962272",
         "21317932",
         "21383696",
         "21423215",
         "21455220",
         "21460857",
         "21832239",
         "22011578",
         "22112863",
         "22975381",
         "23312004",
         "23603988",
         "23871434",
         "24194938",
         "24657168",
         "8327466",
         "9254608",
         "9315650",
         "9372954",
         "9467949",
         "9571186",
         "9620776",
         "9739174",
         "9744860"
        ],
        "source": "CDK7",
        "target": "TP53",
        "type": "controls-state-change-of"
       }
      }
     },
     "612fc84c8a984a498ca4f0a6d6ce4b7c": {
      "model_module": "jupyter-cytoscape",
      "model_module_version": "^1.2.2",
      "model_name": "EdgeModel",
      "state": {
       "_model_module_version": "^1.2.2",
       "_view_module_version": "^1.2.2",
       "data": {
        "cited": 0,
        "datasource": [
         "PANTHER"
        ],
        "id": "IGBP1-controls-state-change-of-TP53",
        "isdirected": true,
        "pubmed": [],
        "source": "IGBP1",
        "target": "TP53",
        "type": "controls-state-change-of"
       }
      }
     },
     "61347598b761467aa45fa7f0232eff2d": {
      "model_module": "jupyter-cytoscape",
      "model_module_version": "^1.2.2",
      "model_name": "NodeModel",
      "state": {
       "_model_module_version": "^1.2.2",
       "_view_module_version": "^1.2.2",
       "data": {
        "id": "4",
        "name": "age: 51\nvirus: ncov\n",
        "parent": "parent-1"
       },
       "grabbable": true,
       "grabbed": false,
       "position": {
        "x": 756.5529425139174,
        "y": 100.50718092426332
       },
       "selectable": false
      }
     },
     "61e3f0c71f8e4ee5aea637123293497a": {
      "model_module": "jupyter-cytoscape",
      "model_module_version": "^1.2.2",
      "model_name": "EdgeModel",
      "state": {
       "_model_module_version": "^1.2.2",
       "_view_module_version": "^1.2.2",
       "data": {
        "id": "e7639f7a-7377-472c-af47-c201b24ec6f1",
        "source": "1",
        "target": "2"
       },
       "selectable": false
      }
     },
     "6216e246676a4c15a219f04d439acde5": {
      "model_module": "jupyter-cytoscape",
      "model_module_version": "^1.2.2",
      "model_name": "EdgeModel",
      "state": {
       "_model_module_version": "^1.2.2",
       "_view_module_version": "^1.2.2",
       "data": {
        "cited": 34,
        "datasource": [
         "pid"
        ],
        "id": "KAT2B-controls-state-change-of-TP53",
        "isdirected": true,
        "pubmed": [
         "17110336",
         "9744860",
         "9891054"
        ],
        "source": "KAT2B",
        "target": "TP53",
        "type": "controls-state-change-of"
       }
      }
     },
     "6233e1a704d741a99b91fd000dc521b6": {
      "model_module": "jupyter-cytoscape",
      "model_module_version": "^1.2.2",
      "model_name": "NodeModel",
      "state": {
       "_model_module_version": "^1.2.2",
       "_view_module_version": "^1.2.2",
       "data": {
        "altered": 0,
        "cited": 161,
        "id": "CASP6",
        "importance": 3,
        "isseed": false,
        "isvalid": true,
        "rank": 104,
        "uniprot": "P55212",
        "uniprotdesc": "Involved in the activation cascade of caspasesresponsible for apoptosis execution. Cleaves poly(ADP-ribose)polymerase in vitro, as well as lamins. Overexpression promotesprogrammed cell death."
       },
       "grabbable": true,
       "grabbed": false,
       "position": {
        "x": 746.085808411574,
        "y": -21.39049025208826
       }
      }
     },
     "623d138d326c46c08374c35d38d96ffb": {
      "model_module": "jupyter-cytoscape",
      "model_module_version": "^1.2.2",
      "model_name": "NodeModel",
      "state": {
       "_model_module_version": "^1.2.2",
       "_view_module_version": "^1.2.2",
       "data": {
        "altered": 0,
        "cited": 53,
        "id": "HIRA",
        "importance": 3,
        "isseed": false,
        "isvalid": true,
        "rank": 148,
        "uniprot": "P54198",
        "uniprotdesc": "Cooperates with ASF1A to promote replication-independentchromatin assembly. Required for the periodic repression ofhistone gene transcription during the cell cycle. Required for theformation of senescence-associated heterochromatin foci (SAHF) andefficient senescence-associated cell cycle exit."
       },
       "grabbable": true,
       "grabbed": false,
       "position": {
        "x": 609.6577970392296,
        "y": 291.9167502848723
       }
      }
     },
     "62a77a46009641fabe4ea6774098887f": {
      "model_module": "jupyter-cytoscape",
      "model_module_version": "^1.2.2",
      "model_name": "EdgeModel",
      "state": {
       "_model_module_version": "^1.2.2",
       "_view_module_version": "^1.2.2",
       "data": {
        "cited": 0,
        "datasource": [
         "PANTHER"
        ],
        "id": "MAPK11-controls-state-change-of-TP73",
        "isdirected": true,
        "pubmed": [],
        "source": "MAPK11",
        "target": "TP73",
        "type": "controls-state-change-of"
       }
      }
     },
     "6307b68549494948849e84a1c6e1d9bc": {
      "model_module": "jupyter-cytoscape",
      "model_module_version": "^1.2.2",
      "model_name": "EdgeModel",
      "state": {
       "_model_module_version": "^1.2.2",
       "_view_module_version": "^1.2.2",
       "data": {
        "cited": 0,
        "datasource": [
         "PANTHER"
        ],
        "id": "PRKAG1-controls-state-change-of-TP73",
        "isdirected": true,
        "pubmed": [],
        "source": "PRKAG1",
        "target": "TP73",
        "type": "controls-state-change-of"
       }
      }
     },
     "63307492fda74010b2734821cc6ee1d3": {
      "model_module": "jupyter-cytoscape",
      "model_module_version": "^1.2.2",
      "model_name": "EdgeModel",
      "state": {
       "_model_module_version": "^1.2.2",
       "_view_module_version": "^1.2.2",
       "data": {
        "cited": 0,
        "datasource": [
         "PANTHER"
        ],
        "id": "PPP2CA-controls-state-change-of-TP63",
        "isdirected": true,
        "pubmed": [],
        "source": "PPP2CA",
        "target": "TP63",
        "type": "controls-state-change-of"
       }
      }
     },
     "63392c4766a4448f8a7b8731bc68d22a": {
      "model_module": "jupyter-cytoscape",
      "model_module_version": "^1.2.2",
      "model_name": "NodeModel",
      "state": {
       "_model_module_version": "^1.2.2",
       "_view_module_version": "^1.2.2",
       "data": {
        "altered": 0,
        "cited": 81,
        "id": "DYRK1A",
        "importance": 3,
        "isseed": false,
        "isvalid": true,
        "rank": 128,
        "uniprot": "Q13627",
        "uniprotdesc": "May play a role in a signaling pathway regulatingnuclear functions of cell proliferation. Modulates alternativesplicing by phosphorylating the splice factor SRSF6 (Bysimilarity). Phosphorylates serine, threonine and tyrosineresidues in its sequence and in exogenous substrates such as CRY2,FOXO1, SRSF6 and SIRT1. Exhibits a sugstrate preference forproline at position P+1 and arginine at position P-3."
       },
       "grabbable": true,
       "grabbed": false,
       "position": {
        "x": 646.0858064115741,
        "y": -52.23065138663395
       }
      }
     },
     "64064eda8df44d8ca71048b06dbc1c91": {
      "model_module": "jupyter-cytoscape",
      "model_module_version": "^1.2.2",
      "model_name": "EdgeModel",
      "state": {
       "_model_module_version": "^1.2.2",
       "_view_module_version": "^1.2.2",
       "data": {
        "cited": 0,
        "datasource": [
         "PANTHER"
        ],
        "id": "PRKAA1-controls-state-change-of-TP63",
        "isdirected": true,
        "pubmed": [],
        "source": "PRKAA1",
        "target": "TP63",
        "type": "controls-state-change-of"
       }
      }
     },
     "641355776296474a93989b1e1175309a": {
      "model_module": "jupyter-cytoscape",
      "model_module_version": "^1.2.2",
      "model_name": "EdgeModel",
      "state": {
       "_model_module_version": "^1.2.2",
       "_view_module_version": "^1.2.2",
       "data": {
        "cited": 0,
        "datasource": [
         "pid"
        ],
        "id": "EP300-controls-expression-of-GADD45A",
        "isdirected": true,
        "pubmed": [
         "15186775",
         "18250150"
        ],
        "source": "EP300",
        "target": "GADD45A",
        "type": "controls-expression-of"
       }
      }
     },
     "64c36f7d0543416fb0fd4fd392f0a6ea": {
      "model_module": "jupyter-cytoscape",
      "model_module_version": "^1.2.2",
      "model_name": "EdgeModel",
      "state": {
       "_model_module_version": "^1.2.2",
       "_view_module_version": "^1.2.2",
       "data": {
        "cited": 0,
        "datasource": [
         "PANTHER"
        ],
        "id": "IGBP1-controls-state-change-of-TP63",
        "isdirected": true,
        "pubmed": [],
        "source": "IGBP1",
        "target": "TP63",
        "type": "controls-state-change-of"
       }
      }
     },
     "6557830434bc4e3598f910831da85ae1": {
      "model_module": "jupyter-cytoscape",
      "model_module_version": "^1.2.2",
      "model_name": "EdgeModel",
      "state": {
       "_model_module_version": "^1.2.2",
       "_view_module_version": "^1.2.2",
       "data": {
        "cited": 39,
        "datasource": [
         "PANTHER"
        ],
        "id": "SUMO1-controls-state-change-of-TP53",
        "isdirected": true,
        "pubmed": [],
        "source": "SUMO1",
        "target": "TP53",
        "type": "controls-state-change-of"
       }
      }
     },
     "655ddd5bb26a41b69d11a40e7c1675f9": {
      "model_module": "jupyter-cytoscape",
      "model_module_version": "^1.2.2",
      "model_name": "NodeModel",
      "state": {
       "_model_module_version": "^1.2.2",
       "_view_module_version": "^1.2.2",
       "data": {
        "altered": 0,
        "cited": 81,
        "id": "MAPK11",
        "importance": 3,
        "isseed": false,
        "isvalid": true,
        "rank": 127,
        "uniprot": "Q15759",
        "uniprotdesc": "Serine/threonine kinase which acts as an essentialcomponent of the MAP kinase signal transduction pathway. MAPK11 isone of the four p38 MAPKs which play an important role in thecascades of cellular responses evoked by extracellular stimulisuch as proinflammatory cytokines or physical stress leading todirect activation of transcription factors. Accordingly, p38 MAPKsphosphorylate a broad range of proteins and it has been estimatedthat they may have approximately 200 to 300 substrates each.MAPK11 functions are mostly redundant with those of MAPK14. Someof the targets are downstream kinases which are activated throughphosphorylation and further phosphorylate additional targets.RPS6KA5/MSK1 and RPS6KA4/MSK2 can directly phosphorylate andactivate transcription factors such as CREB1, ATF1, the NF-kappa-Bisoform RELA/NFKB3, STAT1 and STAT3, but can also phosphorylatehistone H3 and the nucleosomal protein HMGN1. RPS6KA5/MSK1 andRPS6KA4/MSK2 play important roles in the rapid induction ofimmediate-early genes in response to stress or mitogenic stimuli,either by inducing chromatin remodeling or by recruiting thetranscription machinery. On the other hand, two other kinasetargets, MAPKAPK2/MK2 and MAPKAPK3/MK3, participate in the controlof gene expression mostly at the post-transcriptional level, byphosphorylating ZFP36 (tristetraprolin) and ELAVL1, and byregulating EEF2K, which is important for the elongation of mRNAduring translation. MKNK1/MNK1 and MKNK2/MNK2, two other kinasesactivated by p38 MAPKs, regulate protein synthesis byphosphorylating the initiation factor EIF4E2. In the cytoplasm,the p38 MAPK pathway is an important regulator of proteinturnover. For example, CFLAR is an inhibitor of TNF-inducedapoptosis whose proteasome-mediated degradation is regulated byp38 MAPK phosphorylation. Ectodomain shedding of transmembraneproteins is regulated by p38 MAPKs as well. In response toinflammatory stimuli, p38 MAPKs phosphorylate the membrane-associated metalloprotease ADAM17. Such phosphorylation isrequired for ADAM17-mediated ectodomain shedding of TGF-alphafamily ligands, which results in the activation of EGFR signalingand cell proliferation. Additional examples of p38 MAPK substratesare the FGFR1. FGFR1 can be translocated from the extracellularspace into the cytosol and nucleus of target cells, and regulatesprocesses such as rRNA synthesis and cell growth. FGFR1translocation requires p38 MAPK activation. In the nucleus, manytranscription factors are phosphorylated and activated by p38MAPKs in response to different stimuli. Classical examples includeATF1, ATF2, ATF6, ELK1, PTPRH, DDIT3, TP53/p53 and MEF2C andMEF2A. The p38 MAPKs are emerging as important modulators of geneexpression by regulating chromatin modifiers and remodelers. Thepromoters of several genes involved in the inflammatory response,such as IL6, IL8 and IL12B, display a p38 MAPK-dependentenrichment of histone H3 phosphorylation on 'Ser-10' (H3S10ph) inLPS-stimulated myeloid cells. This phosphorylation enhances theaccessibility of the cryptic NF-kappa-B-binding sites markingpromoters for increased NF-kappa-B recruitment."
       },
       "grabbable": true,
       "grabbed": false,
       "position": {
        "x": 723.6771541026915,
        "y": 45.00063118900391
       }
      }
     },
     "6560ff3e3aab4da1b554853dc253e2fa": {
      "model_module": "jupyter-cytoscape",
      "model_module_version": "^1.2.2",
      "model_name": "EdgeModel",
      "state": {
       "_model_module_version": "^1.2.2",
       "_view_module_version": "^1.2.2",
       "data": {
        "cited": 6,
        "datasource": [
         "pid"
        ],
        "id": "TP53-controls-expression-of-TAP1",
        "isdirected": true,
        "pubmed": [
         "10618714",
         "12857899"
        ],
        "source": "TP53",
        "target": "TAP1",
        "type": "controls-expression-of"
       }
      }
     },
     "656a2de6ef0f42a396462f4f1799ecdb": {
      "model_module": "jupyter-cytoscape",
      "model_module_version": "^1.2.2",
      "model_name": "EdgeModel",
      "state": {
       "_model_module_version": "^1.2.2",
       "_view_module_version": "^1.2.2",
       "data": {
        "cited": 0,
        "datasource": [
         "pid"
        ],
        "id": "TP53-controls-expression-of-PCBP4",
        "isdirected": true,
        "pubmed": [
         "10891498"
        ],
        "source": "TP53",
        "target": "PCBP4",
        "type": "controls-expression-of"
       }
      }
     },
     "65c8c4d57b024580b9036f9ec7ee3a9f": {
      "model_module": "jupyter-cytoscape",
      "model_module_version": "^1.2.2",
      "model_name": "NodeModel",
      "state": {
       "_model_module_version": "^1.2.2",
       "_view_module_version": "^1.2.2",
       "data": {
        "altered": 0,
        "cited": 3644,
        "id": "GPX1",
        "importance": 3,
        "isseed": false,
        "isvalid": true,
        "rank": 13,
        "uniprot": "P07203",
        "uniprotdesc": "Protects the hemoglobin in erythrocytes from oxidativebreakdown."
       },
       "grabbable": true,
       "grabbed": false,
       "position": {
        "x": 641.9757883882812,
        "y": -110.3037227232528
       }
      }
     },
     "6640abcd771a4f1d9439ee8be1d8a40c": {
      "model_module": "jupyter-cytoscape",
      "model_module_version": "^1.2.2",
      "model_name": "NodeModel",
      "state": {
       "_model_module_version": "^1.2.2",
       "_view_module_version": "^1.2.2",
       "data": {
        "altered": 0,
        "cited": 837,
        "id": "CDK5",
        "importance": 3,
        "isseed": false,
        "isvalid": true,
        "rank": 44,
        "uniprot": "Q00535",
        "uniprotdesc": "Proline-directed serine/threonine-protein kinaseessential for neuronal cell cycle arrest and differentiation andmay be involved in apoptotic cell death in neuronal diseases bytriggering abortive cell cycle re-entry. Interacts with D1 and D3-type G1 cyclins. Phosphorylates SRC, NOS3, VIM/vimentin,p35/CDK5R1, MEF2A, SIPA1L1, SH3GLB1, PXN, PAK1, MCAM/MUC18, SEPT5,SYN1, DNM1, AMPH, SYNJ1, CDK16, RAC1, RHOA, CDC42, TONEBP/NFAT5,MAPT/TAU, MAP1B, histone H1, p53/TP53, HDAC1, APEX1, PTK2/FAK1,huntingtin/HTT, ATM, MAP2, NEFH and NEFM. Regulates severalneuronal development and physiological processes includingneuronal survival, migration and differentiation, axonal andneurite growth, synaptogenesis, oligodendrocyte differentiation,synaptic plasticity and neurotransmission, by phosphorylating keyproteins. Activated by interaction with CDK5R1 (p35) and CDK5R2(p39), especially in post-mitotic neurons, and promotes CDK5R1(p35) expression in an autostimulation loop. Phosphorylates manydownstream substrates such as Rho and Ras family small GTPases(e.g. PAK1, RAC1, RHOA, CDC42) or microtubule-binding proteins(e.g. MAPT/TAU, MAP2, MAP1B), and modulates actin dynamics toregulate neurite growth and/or spine morphogenesis. Phosphorylatesalso exocytosis associated proteins such as MCAM/MUC18, SEPT5,SYN1, and CDK16/PCTAIRE1 as well as endocytosis associatedproteins such as DNM1, AMPH and SYNJ1 at synaptic terminals. Inthe mature central nervous system (CNS), regulatesneurotransmitter movements by phosphorylating substratesassociated with neurotransmitter release and synapse plasticity;synaptic vesicle exocytosis, vesicles fusion with the presynapticmembrane, and endocytosis. Promotes cell survival by activatinganti-apoptotic proteins BCL2 and STAT3, and negatively regulatingof JNK3/MAPK10 activity. Phosphorylation of p53/TP53 in responseto genotoxic and oxidative stresses enhances its stabilization bypreventing ubiquitin ligase-mediated proteasomal degradation, andinduces transactivation of p53/TP53 target genes, thus regulatingapoptosis. Phosphorylation of p35/CDK5R1 enhances itsstabilization by preventing calpain-mediated proteolysis producingp25/CDK5R1 and avoiding ubiquitin ligase-mediated proteasomaldegradation. During aberrant cell-cycle activity and DNA damage,p25/CDK5 activity elicits cell-cycle activity and double-strandDNA breaks that precedes neuronal death by deregulating HDAC1. DNAdamage triggered phosphorylation of huntingtin/HTT in nuclei ofneurons protects neurons against polyglutamine expansion as wellas DNA damage mediated toxicity. Phosphorylation of PXN reducesits interaction with PTK2/FAK1 in matrix-cell focal adhesions(MCFA) during oligodendrocytes (OLs) differentiation. Negativeregulator of Wnt/beta-catenin signaling pathway. Activator of theGAIT (IFN-gamma-activated inhibitor of translation) pathway, whichsuppresses expression of a post-transcriptional regulon ofproinflammatory genes in myeloid cells; phosphorylates the linkerdomain of glutamyl-prolyl tRNA synthetase (EPRS) in a IFN-gamma-dependent manner, the initial event in assembly of the GAITcomplex. Phosphorylation of SH3GLB1 is required for autophagyinduction in starved neurons. Phosphorylation of TONEBP/NFAT5 inresponse to osmotic stress mediates its rapid nuclearlocalization. MEF2 is inactivated by phosphorylation in nucleus inresponse to neurotoxin, thus leading to neuronal apoptosis. APEX1AP-endodeoxyribonuclease is repressed by phosphorylation,resulting in accumulation of DNA damage and contributing toneuronal death. NOS3 phosphorylation down regulates NOS3-derivednitrite (NO) levels. SRC phosphorylation mediates its ubiquitin-dependent degradation and thus leads to cytoskeletalreorganization. May regulate endothelial cell migration andangiogenesis via the modulation of lamellipodia formation.Involved in dendritic spine morphogenesis by mediating the EFNA1-EPHA4 signaling. The complex p35/CDK5 participates in theregulation of the circadian clock by modulating the function ofCLOCK protein: phosphorylates CLOCK at 'Thr-451' and 'Thr-461' andregulates the transcriptional activity of the CLOCK-ARNTL/BMAL1heterodimer in association with altered stability and subcellulardistribution. "
       },
       "grabbable": true,
       "grabbed": false,
       "position": {
        "x": 931.2695729847497,
        "y": 291.19540571477154
       }
      }
     },
     "6656c1a3f2df4b94947c876c28ec8c09": {
      "model_module": "jupyter-cytoscape",
      "model_module_version": "^1.2.2",
      "model_name": "NodeModel",
      "state": {
       "_model_module_version": "^1.2.2",
       "_view_module_version": "^1.2.2",
       "data": {
        "altered": 0,
        "cited": 372,
        "id": "CDK7",
        "importance": 3,
        "isseed": false,
        "isvalid": true,
        "rank": 72,
        "uniprot": "P50613",
        "uniprotdesc": "Serine/threonine kinase involved in cell cycle controland in RNA polymerase II-mediated RNA transcription. Cyclin-dependent kinases (CDKs) are activated by the binding to a cyclinand mediate the progression through the cell cycle. Each differentcomplex controls a specific transition between 2 subsequent phasesin the cell cycle. Required for both activation and complexformation of CDK1/cyclin-B during G2-M transition, and foractivation of CDK2/cyclins during G1-S transition (but not complexformation). CDK7 is the catalytic subunit of the CDK-activatingkinase (CAK) complex. Phosphorylates SPT5/SUPT5H, SF1/NR5A1,POLR2A, p53/TP53, CDK1, CDK2, CDK4, CDK6 and CDK11B/CDK11. CAKactivates the cyclin-associated kinases CDK1, CDK2, CDK4 and CDK6by threonine phosphorylation, thus regulating cell cycleprogression. CAK complexed to the core-TFIIH basal transcriptionfactor activates RNA polymerase II by serine phosphorylation ofthe repetitive C-terminal domain (CTD) of its large subunit(POLR2A), allowing its escape from the promoter and elongation ofthe transcripts. Phosphorylation of POLR2A in complex with DNApromotes transcription initiation by triggering dissociation fromDNA. Its expression and activity are constant throughout the cellcycle. Upon DNA damage, triggers p53/TP53 activation byphosphorylation, but is inactivated in turn by p53/TP53; thisfeedback loop may lead to an arrest of the cell cycle and of thetranscription, helping in cell recovery, or to apoptosis. Requiredfor DNA-bound peptides-mediated transcription and cellular growthinhibition. "
       },
       "grabbable": true,
       "grabbed": false,
       "position": {
        "x": 871.436182923896,
        "y": 238.84435899324126
       }
      }
     },
     "6784830942324d3a83ec0c879a1f9836": {
      "model_module": "@jupyter-widgets/base",
      "model_module_version": "1.2.0",
      "model_name": "LayoutModel",
      "state": {}
     },
     "678d12c3c0d34b1b959f83e44f570ccb": {
      "model_module": "jupyter-cytoscape",
      "model_module_version": "^1.2.2",
      "model_name": "EdgeModel",
      "state": {
       "_model_module_version": "^1.2.2",
       "_view_module_version": "^1.2.2",
       "data": {
        "cited": 1,
        "datasource": [
         "PhosphoSite"
        ],
        "id": "DYRK1A-controls-state-change-of-TP53",
        "isdirected": true,
        "pubmed": [
         "10202145",
         "10581258",
         "10606744",
         "10608806",
         "10611322",
         "10656682",
         "10656795",
         "10673501",
         "10706102",
         "10710310",
         "10713094",
         "10723129",
         "10733583",
         "10734067",
         "10744722",
         "10958792",
         "11030628",
         "11096068",
         "11121242",
         "11244509",
         "11258706",
         "11313957",
         "11314044",
         "11397945",
         "11423984",
         "11447225",
         "11495913",
         "11526498",
         "11546806",
         "11583595",
         "11706017",
         "11707453",
         "11709713",
         "11711532",
         "11850826",
         "11861384",
         "11865061",
         "11875057",
         "11896572",
         "11896587",
         "12021785",
         "12049739",
         "12071847",
         "12080066",
         "12082529",
         "12091386",
         "12151394",
         "12324477",
         "12384533",
         "12393500",
         "12397362",
         "12427754",
         "12511424",
         "12518062",
         "12519769",
         "12519780",
         "12531896",
         "12588868",
         "12606585",
         "12637545",
         "12676607",
         "12702572",
         "12756247",
         "12771937",
         "12776195",
         "12860987",
         "12890678",
         "12902982",
         "12939400",
         "12955074",
         "12959929",
         "12969974",
         "1406679",
         "14517211",
         "14527925",
         "14612532",
         "14665630",
         "14712210",
         "14871840",
         "14871926",
         "14968111",
         "15048074",
         "15064747",
         "15077171",
         "15078887",
         "15082766",
         "15140942",
         "15155458",
         "15159397",
         "15178764",
         "15181149",
         "15226429",
         "15254178",
         "15258567",
         "15269203",
         "15310764",
         "15322239",
         "15355354",
         "15361830",
         "15381073",
         "15456784",
         "15471885",
         "15489221",
         "15489892",
         "15533933",
         "15542844",
         "15580310",
         "15619621",
         "15665826",
         "15750624",
         "15758953",
         "15775976",
         "15782130",
         "15792956",
         "15794754",
         "15843377",
         "15866171",
         "15870257",
         "15897882",
         "16223874",
         "16247456",
         "16288207",
         "16293623",
         "16377624",
         "16397295",
         "16436515",
         "16478990",
         "16489034",
         "16501611",
         "16632641",
         "16636671",
         "16648554",
         "16651424",
         "16714289",
         "16717128",
         "16731759",
         "16774943",
         "16783362",
         "16790523",
         "16818505",
         "16818520",
         "16891474",
         "16916644",
         "16949371",
         "17045821",
         "17105820",
         "17108107",
         "17234789",
         "17245430",
         "17283137",
         "17297446",
         "17297454",
         "17332358",
         "17339337",
         "17353187",
         "17363488",
         "17371838",
         "17380123",
         "17456577",
         "17486112",
         "17535811",
         "17553757",
         "17591690",
         "17596534",
         "17609585",
         "17616578",
         "17668048",
         "17684018",
         "17698850",
         "17712528",
         "17855337",
         "17891183",
         "17936559",
         "17967874",
         "17975552",
         "17976513",
         "17977830",
         "18032786",
         "18045533",
         "18056442",
         "18097051",
         "18159951",
         "18216278",
         "18246126",
         "18272544",
         "18289945",
         "18332866",
         "18339864",
         "18345031",
         "18381438",
         "18406507",
         "18431490",
         "18449195",
         "18490454",
         "18560558",
         "18604166",
         "18614045",
         "18715874",
         "18718914",
         "18765533",
         "18769132",
         "18778462",
         "18785202",
         "18794113",
         "18818083",
         "18847491",
         "18985806",
         "18995830",
         "19085961",
         "19203586",
         "19251701",
         "19266268",
         "19303885",
         "19477925",
         "19819244",
         "19828454",
         "19861417",
         "19882354",
         "19907922",
         "19934315",
         "19962312",
         "20005840",
         "20024960",
         "20026654",
         "20080565",
         "20123963",
         "20353948",
         "20372057",
         "20562916",
         "20599567",
         "20610713",
         "20637859",
         "20661218",
         "20663147",
         "20696760",
         "20711232",
         "20931131",
         "20935676",
         "20962272",
         "21317932",
         "21383696",
         "21394211",
         "21423215",
         "21441950",
         "21465263",
         "21532626",
         "21642861",
         "21660965",
         "21757780",
         "21765463",
         "21765464",
         "21832239",
         "22002314",
         "22011578",
         "22030623",
         "22037398",
         "22055193",
         "22099307",
         "22112863",
         "22179839",
         "22285752",
         "22728651",
         "22797063",
         "22815859",
         "22975381",
         "23148227",
         "23150668",
         "23184057",
         "23678107",
         "23798621",
         "23871434",
         "23890999",
         "23982736",
         "24038750",
         "24657168",
         "24711418",
         "24820418",
         "24958101",
         "25202122",
         "8327466",
         "9363941",
         "9733515",
         "9843217",
         "9925639"
        ],
        "source": "DYRK1A",
        "target": "TP53",
        "type": "controls-state-change-of"
       }
      }
     },
     "67ff18ab74874903aa9c0c4c54e5f7a1": {
      "model_module": "jupyter-cytoscape",
      "model_module_version": "^1.2.2",
      "model_name": "EdgeModel",
      "state": {
       "_model_module_version": "^1.2.2",
       "_view_module_version": "^1.2.2",
       "data": {
        "cited": 10,
        "datasource": [
         "PhosphoSite"
        ],
        "id": "PRKDC-controls-state-change-of-TP53",
        "isdirected": true,
        "pubmed": [
         "10202145",
         "10570149",
         "10581258",
         "10606744",
         "10608806",
         "10611322",
         "10656682",
         "10656795",
         "10673500",
         "10673501",
         "10706102",
         "10710310",
         "10713094",
         "10723129",
         "10733583",
         "10734067",
         "10744722",
         "10930428",
         "10958792",
         "11030628",
         "11042698",
         "11096068",
         "11101524",
         "11121242",
         "11175334",
         "11244509",
         "11258706",
         "11300786",
         "11313957",
         "11314044",
         "11397945",
         "11423984",
         "11447225",
         "11495913",
         "11526498",
         "11546806",
         "11551930",
         "11583595",
         "11706017",
         "11707453",
         "11709713",
         "11711532",
         "11740489",
         "11780126",
         "11850826",
         "11861384",
         "11865061",
         "11875057",
         "11883897",
         "11896572",
         "11896587",
         "12021785",
         "12049739",
         "12071847",
         "12080066",
         "12082529",
         "12091386",
         "12093737",
         "12151394",
         "12324477",
         "12384533",
         "12393500",
         "12397361",
         "12397362",
         "12427754",
         "12511424",
         "12518062",
         "12519769",
         "12519780",
         "12531896",
         "12588868",
         "12606585",
         "12637545",
         "12676607",
         "12702572",
         "12756247",
         "12771937",
         "12776195",
         "12810724",
         "12860987",
         "12861053",
         "12890678",
         "12902982",
         "12907596",
         "12939400",
         "12955074",
         "12959929",
         "12969974",
         "1406679",
         "14517211",
         "14527925",
         "14612532",
         "14665630",
         "14712210",
         "14749479",
         "14871840",
         "14871926",
         "14968111",
         "15048074",
         "15064747",
         "15077171",
         "15078887",
         "15082766",
         "15140942",
         "15155458",
         "15159397",
         "15178764",
         "15181149",
         "15226429",
         "15254178",
         "15258567",
         "15269203",
         "15310764",
         "15322239",
         "15355354",
         "15361830",
         "15381073",
         "15456784",
         "15471885",
         "15489221",
         "15489892",
         "15526030",
         "15533933",
         "15542844",
         "15580310",
         "15619621",
         "15629715",
         "15657359",
         "15665826",
         "15671037",
         "15706352",
         "15750624",
         "15758953",
         "15775976",
         "15782130",
         "15792956",
         "15794754",
         "15843377",
         "15866171",
         "15870257",
         "15897882",
         "15963507",
         "16219768",
         "16223874",
         "16247456",
         "16288207",
         "16293623",
         "16377624",
         "16397295",
         "16436515",
         "16478990",
         "16489034",
         "16501611",
         "16601678",
         "16632641",
         "16636671",
         "16648554",
         "16651424",
         "16714289",
         "16717128",
         "16731759",
         "16738336",
         "16774943",
         "16783362",
         "16790523",
         "16793543",
         "16818505",
         "16818520",
         "16891474",
         "16916644",
         "16949371",
         "17045821",
         "17105820",
         "17107963",
         "17108107",
         "17121812",
         "17135248",
         "17210684",
         "17234789",
         "17245430",
         "17254968",
         "17283137",
         "17297446",
         "17297454",
         "17332358",
         "17339337",
         "17349958",
         "17349959",
         "17353187",
         "17363488",
         "17371838",
         "17380123",
         "17456577",
         "17486112",
         "17535811",
         "17553757",
         "17567906",
         "17591690",
         "17596534",
         "17609585",
         "17616578",
         "17668048",
         "17684018",
         "17698850",
         "17712528",
         "17855337",
         "17891183",
         "17906639",
         "17936559",
         "17967874",
         "17975552",
         "17976513",
         "17977830",
         "18032786",
         "18045533",
         "18056442",
         "18056705",
         "18097051",
         "18159951",
         "18160537",
         "18216278",
         "18246126",
         "18272544",
         "18289945",
         "18332866",
         "18339864",
         "18345031",
         "18381438",
         "18406507",
         "18431490",
         "18449195",
         "18490454",
         "18536714",
         "18560558",
         "18593910",
         "18604166",
         "18614045",
         "18669630",
         "18715874",
         "18718914",
         "18765533",
         "18769132",
         "18778462",
         "18785202",
         "18794113",
         "18818083",
         "18847491",
         "18985806",
         "18995830",
         "19085961",
         "19203586",
         "19251701",
         "19266268",
         "19303885",
         "19345189",
         "19465479",
         "19477925",
         "19819244",
         "19828042",
         "19828454",
         "19857493",
         "19861417",
         "19882354",
         "19907922",
         "19934315",
         "19962312",
         "19965871",
         "20005840",
         "20009884",
         "20018442",
         "20024960",
         "20026654",
         "20041275",
         "20080565",
         "20123963",
         "20171273",
         "20353948",
         "20363803",
         "20372057",
         "20514025",
         "20562916",
         "20599567",
         "20610713",
         "20637859",
         "20661218",
         "20663147",
         "20673369",
         "20696760",
         "20711232",
         "20811699",
         "20931131",
         "20935676",
         "20962272",
         "21057547",
         "21148320",
         "21317932",
         "21383696",
         "21386980",
         "21394211",
         "21423215",
         "21441950",
         "21454683",
         "21465263",
         "21532626",
         "21642861",
         "21660965",
         "21757780",
         "21765463",
         "21765464",
         "21832239",
         "22002314",
         "22011578",
         "22030623",
         "22037398",
         "22055193",
         "22099307",
         "22112863",
         "22179839",
         "22285752",
         "22496350",
         "22728651",
         "22797063",
         "22815859",
         "22878263",
         "22975381",
         "23148227",
         "23149944",
         "23150668",
         "23184057",
         "23678107",
         "23798621",
         "23871434",
         "23890999",
         "23982736",
         "24038750",
         "24145406",
         "24196445",
         "24379358",
         "24657168",
         "24711418",
         "24820418",
         "24899407",
         "24958101",
         "25202122",
         "8327466",
         "9363941",
         "9733515",
         "9744860",
         "9843217",
         "9925639"
        ],
        "source": "PRKDC",
        "target": "TP53",
        "type": "controls-state-change-of"
       }
      }
     },
     "682f3e8b1d1941b4a5f8cf733ea858c9": {
      "model_module": "jupyter-cytoscape",
      "model_module_version": "^1.2.2",
      "model_name": "NodeModel",
      "state": {
       "_model_module_version": "^1.2.2",
       "_view_module_version": "^1.2.2",
       "data": {
        "id": "2"
       },
       "grabbable": true,
       "grabbed": false,
       "position": {
        "x": 586.9473521120302,
        "y": 273.7468162064304
       },
       "selectable": false
      }
     },
     "688abb9bee41422f86db01262292e68b": {
      "model_module": "jupyter-cytoscape",
      "model_module_version": "^1.2.2",
      "model_name": "NodeModel",
      "state": {
       "_model_module_version": "^1.2.2",
       "_view_module_version": "^1.2.2",
       "data": {
        "altered": 0,
        "cited": 1469,
        "id": "CDK2",
        "importance": 3,
        "isseed": false,
        "isvalid": true,
        "rank": 34,
        "uniprot": "P24941",
        "uniprotdesc": "Serine/threonine-protein kinase involved in the controlof the cell cycle; essential for meiosis, but dispensable formitosis. Phosphorylates CTNNB1, USP37, p53/TP53, NPM1, CDK7, RB1,BRCA2, MYC, NPAT, EZH2. Interacts with cyclins A, B1, B3, D, or E.Triggers duplication of centrosomes and DNA. Acts at the G1-Stransition to promote the E2F transcriptional program and theinitiation of DNA synthesis, and modulates G2 progression;controls the timing of entry into mitosis/meiosis by controllingthe subsequent activation of cyclin B/CDK1 by phosphorylation, andcoordinates the activation of cyclin B/CDK1 at the centrosome andin the nucleus. Crucial role in orchestrating a fine balancebetween cellular proliferation, cell death, and DNA repair inhuman embryonic stem cells (hESCs). Activity of CDK2 is maximalduring S phase and G2; activated by interaction with cyclin Eduring the early stages of DNA synthesis to permit G1-Stransition, and subsequently activated by cyclin A2 (cyclin A1 ingerm cells) during the late stages of DNA replication to drive thetransition from S phase to mitosis, the G2 phase. EZH2phosphorylation promotes H3K27me3 maintenance and epigenetic genesilencing. Phosphorylates CABLES1 (By similarity). Cyclin E/CDK2prevents oxidative stress-mediated Ras-induced senescence byphosphorylating MYC. Involved in G1-S phase DNA damage checkpointthat prevents cells with damaged DNA from initiating mitosis;regulates homologous recombination-dependent repair byphosphorylating BRCA2, this phosphorylation is low in S phase whenrecombination is active, but increases as cells progress towardsmitosis. In response to DNA damage, double-strand break repair byhomologous recombination a reduction of CDK2-mediated BRCA2phosphorylation. Phosphorylation of RB1 disturbs its interactionwith E2F1. NPM1 phosphorylation by cyclin E/CDK2 promotes itsdissociates from unduplicated centrosomes, thus initiatingcentrosome duplication. Cyclin E/CDK2-mediated phosphorylation ofNPAT at G1-S transition and until prophase stimulates the NPAT-mediated activation of histone gene transcription during S phase.Required for vitamin D-mediated growth inhibition by being itselfinactivated. Involved in the nitric oxide- (NO) mediated signalingin a nitrosylation/activation-dependent manner. USP37 is activatedby phosphorylation and thus triggers G1-S transition. CTNNB1phosphorylation regulates insulin internalization. "
       },
       "grabbable": true,
       "grabbed": false,
       "position": {
        "x": 866.3396317771807,
        "y": 432.7921534314549
       }
      }
     },
     "6979f70d7e6d425d89ca73c31e7e413f": {
      "model_module": "jupyter-cytoscape",
      "model_module_version": "^1.2.2",
      "model_name": "NodeModel",
      "state": {
       "_model_module_version": "^1.2.2",
       "_view_module_version": "^1.2.2",
       "data": {
        "altered": 0,
        "cited": 236,
        "id": "NEDD8",
        "importance": 2,
        "isseed": false,
        "isvalid": true,
        "rank": 205,
        "uniprot": "Q15843",
        "uniprotdesc": "Ubiquitin-like protein which plays an important role incell cycle control and embryogenesis. Covalent attachment to itssubstrates requires prior activation by the E1 complex UBE1C-APPBP1 and linkage to the E2 enzyme UBE2M. Attachment of NEDD8 tocullins activates their associated E3 ubiquitin ligase activity,and thus promotes polyubiquitination and proteasomal degradationof cyclins and other regulatory proteins."
       },
       "grabbable": true,
       "grabbed": false,
       "position": {
        "x": 494.6424297617354,
        "y": 503.2416706411311
       }
      }
     },
     "6a07761e066540f9b0f43738a912c532": {
      "model_module": "jupyter-cytoscape",
      "model_module_version": "^1.2.2",
      "model_name": "NodeModel",
      "state": {
       "_model_module_version": "^1.2.2",
       "_view_module_version": "^1.2.2",
       "data": {
        "altered": 0,
        "cited": 2528,
        "id": "MAPK14",
        "importance": 3,
        "isseed": false,
        "isvalid": true,
        "rank": 23,
        "uniprot": "Q16539",
        "uniprotdesc": "Serine/threonine kinase which acts as an essentialcomponent of the MAP kinase signal transduction pathway. MAPK14 isone of the four p38 MAPKs which play an important role in thecascades of cellular responses evoked by extracellular stimulisuch as proinflammatory cytokines or physical stress leading todirect activation of transcription factors. Accordingly, p38 MAPKsphosphorylate a broad range of proteins and it has been estimatedthat they may have approximately 200 to 300 substrates each. Someof the targets are downstream kinases which are activated throughphosphorylation and further phosphorylate additional targets.RPS6KA5/MSK1 and RPS6KA4/MSK2 can directly phosphorylate andactivate transcription factors such as CREB1, ATF1, the NF-kappa-Bisoform RELA/NFKB3, STAT1 and STAT3, but can also phosphorylatehistone H3 and the nucleosomal protein HMGN1. RPS6KA5/MSK1 andRPS6KA4/MSK2 play important roles in the rapid induction ofimmediate-early genes in response to stress or mitogenic stimuli,either by inducing chromatin remodeling or by recruiting thetranscription machinery. On the other hand, two other kinasetargets, MAPKAPK2/MK2 and MAPKAPK3/MK3, participate in the controlof gene expression mostly at the post-transcriptional level, byphosphorylating ZFP36 (tristetraprolin) and ELAVL1, and byregulating EEF2K, which is important for the elongation of mRNAduring translation. MKNK1/MNK1 and MKNK2/MNK2, two other kinasesactivated by p38 MAPKs, regulate protein synthesis byphosphorylating the initiation factor EIF4E2. MAPK14 interactsalso with casein kinase II, leading to its activation throughautophosphorylation and further phosphorylation of TP53/p53. Inthe cytoplasm, the p38 MAPK pathway is an important regulator ofprotein turnover. For example, CFLAR is an inhibitor of TNF-induced apoptosis whose proteasome-mediated degradation isregulated by p38 MAPK phosphorylation. In a similar way, MAPK14phosphorylates the ubiquitin ligase SIAH2, regulating its activitytowards EGLN3. MAPK14 may also inhibit the lysosomal degradationpathway of autophagy by interfering with the intracellulartrafficking of the transmembrane protein ATG9. Another function ofMAPK14 is to regulate the endocytosis of membrane receptors bydifferent mechanisms that impinge on the small GTPase RAB5A. Inaddition, clathrin-mediated EGFR internalization induced byinflammatory cytokines and UV irradiation depends on MAPK14-mediated phosphorylation of EGFR itself as well as of RAB5Aeffectors. Ectodomain shedding of transmembrane proteins isregulated by p38 MAPKs as well. In response to inflammatorystimuli, p38 MAPKs phosphorylate the membrane-associatedmetalloprotease ADAM17. Such phosphorylation is required forADAM17-mediated ectodomain shedding of TGF-alpha family ligands,which results in the activation of EGFR signaling and cellproliferation. Another p38 MAPK substrate is FGFR1. FGFR1 can betranslocated from the extracellular space into the cytosol andnucleus of target cells, and regulates processes such as rRNAsynthesis and cell growth. FGFR1 translocation requires p38 MAPKactivation. In the nucleus, many transcription factors arephosphorylated and activated by p38 MAPKs in response to differentstimuli. Classical examples include ATF1, ATF2, ATF6, ELK1, PTPRH,DDIT3, TP53/p53 and MEF2C and MEF2A. The p38 MAPKs are emerging asimportant modulators of gene expression by regulating chromatinmodifiers and remodelers. The promoters of several genes involvedin the inflammatory response, such as IL6, IL8 and IL12B, displaya p38 MAPK-dependent enrichment of histone H3 phosphorylation on'Ser-10' (H3S10ph) in LPS-stimulated myeloid cells. Thisphosphorylation enhances the accessibility of the cryptic NF-kappa-B-binding sites marking promoters for increased NF-kappa-Brecruitment. Phosphorylates CDC25B and CDC25C which is requiredfor binding to 14-3-3 proteins and leads to initiation of a G2delay after ultraviolet radiation. Phosphorylates TIAR followingDNA damage, releasing TIAR from GADD45A mRNA and preventing mRNAdegradation. The p38 MAPKs may also have kinase-independent roles,which are thought to be due to the binding to targets in theabsence of phosphorylation. Protein O-Glc-N-acylation catalyzed bythe OGT is regulated by MAPK14, and, although OGT does not seem tobe phosphorylated by MAPK14, their interaction increases uponMAPK14 activation induced by glucose deprivation. This interactionmay regulate OGT activity by recruiting it to specific targetssuch as neurofilament H, stimulating its O-Glc-N-acylation.Required in mid-fetal development for the growth of embryo-derivedblood vessels in the labyrinth layer of the placenta. Also playsan essential role in developmental and stress-inducederythropoiesis, through regulation of EPO gene expression. IsoformMXI2 activation is stimulated by mitogens and oxidative stress andonly poorly phosphorylates ELK1 and ATF2. Isoform EXIP may play arole in the early onset of apoptosis. Phosphorylates S100A9 at'Thr-113'. "
       },
       "grabbable": true,
       "grabbed": false,
       "position": {
        "x": 773.6771551026915,
        "y": 82.79214643145495
       }
      }
     },
     "6a1499eaefe2478a9c38172926eab645": {
      "model_module": "jupyter-cytoscape",
      "model_module_version": "^1.2.2",
      "model_name": "EdgeModel",
      "state": {
       "_model_module_version": "^1.2.2",
       "_view_module_version": "^1.2.2",
       "data": {
        "cited": 1,
        "datasource": [
         "Reactome"
        ],
        "id": "TP53-controls-state-change-of-HIRA",
        "isdirected": true,
        "pubmed": [
         "15621527",
         "15655109",
         "16901784",
         "17158953",
         "17242198",
         "17242207",
         "23964094"
        ],
        "source": "TP53",
        "target": "HIRA",
        "type": "controls-state-change-of"
       }
      }
     },
     "6b3a7064d7524a49a3ee862faa337f69": {
      "model_module": "jupyter-cytoscape",
      "model_module_version": "^1.2.2",
      "model_name": "EdgeModel",
      "state": {
       "_model_module_version": "^1.2.2",
       "_view_module_version": "^1.2.2",
       "data": {
        "cited": 4,
        "datasource": [
         "pid"
        ],
        "id": "FBXO11-controls-state-change-of-TP53",
        "isdirected": true,
        "pubmed": [
         "17098746"
        ],
        "source": "FBXO11",
        "target": "TP53",
        "type": "controls-state-change-of"
       }
      }
     },
     "6b3fa36c2f524757aeb41278abd18d0a": {
      "model_module": "jupyter-cytoscape",
      "model_module_version": "^1.2.2",
      "model_name": "EdgeModel",
      "state": {
       "_model_module_version": "^1.2.2",
       "_view_module_version": "^1.2.2",
       "data": {
        "cited": 10,
        "datasource": [
         "pid"
        ],
        "id": "TP53-controls-expression-of-GPX1",
        "isdirected": true,
        "pubmed": [
         "16140933"
        ],
        "source": "TP53",
        "target": "GPX1",
        "type": "controls-expression-of"
       }
      }
     },
     "6badfbebdfc04b1baf73bbad271d412b": {
      "model_module": "jupyter-cytoscape",
      "model_module_version": "^1.2.2",
      "model_name": "NodeModel",
      "state": {
       "_model_module_version": "^1.2.2",
       "_view_module_version": "^1.2.2",
       "data": {
        "altered": 0,
        "cited": 180,
        "id": "IRF5",
        "importance": 3,
        "isseed": false,
        "isvalid": true,
        "rank": 101,
        "uniprot": "Q13568",
        "uniprotdesc": "Transcription factor involved in the induction ofinterferons IFNA and INFB and inflammatory cytokines upon virusinfection. Activated by TLR7 or TLR8 signaling."
       },
       "grabbable": true,
       "grabbed": false,
       "position": {
        "x": 391.478626687177,
        "y": 143.0498238325771
       }
      }
     },
     "6c331623363f45efa475543d26aef4fc": {
      "model_module": "jupyter-cytoscape",
      "model_module_version": "^1.2.2",
      "model_name": "EdgeModel",
      "state": {
       "_model_module_version": "^1.2.2",
       "_view_module_version": "^1.2.2",
       "data": {
        "cited": 6,
        "datasource": [
         "pid"
        ],
        "id": "SMYD2-controls-state-change-of-TP53",
        "isdirected": true,
        "pubmed": [
         "17108971"
        ],
        "source": "SMYD2",
        "target": "TP53",
        "type": "controls-state-change-of"
       }
      }
     },
     "6d72fbdd2dfd4051bd3f256c58d958c6": {
      "model_module": "jupyter-cytoscape",
      "model_module_version": "^1.2.2",
      "model_name": "CytoscapeModel",
      "state": {
       "_interaction_handlers": {},
       "_model_module_version": "^1.2.2",
       "_view_module_version": "^1.2.2",
       "auto_ungrabify": false,
       "autolock": false,
       "cytoscape_layout": {
        "name": "cola"
       },
       "cytoscape_style": [
        {
         "css": {
          "background-color": "#11479e"
         },
         "selector": "node"
        },
        {
         "css": {
          "background-opacity": 0.333
         },
         "selector": "node:parent"
        },
        {
         "selector": "edge",
         "style": {
          "line-color": "#9dbaea",
          "width": 4
         }
        },
        {
         "selector": "edge.directed",
         "style": {
          "curve-style": "bezier",
          "target-arrow-color": "#9dbaea",
          "target-arrow-shape": "triangle"
         }
        },
        {
         "selector": "edge.multiple_edges",
         "style": {
          "curve-style": "bezier"
         }
        }
       ],
       "desktop_tap_threshold": 4,
       "graph": "IPY_MODEL_d83a135376fa4dc8b9ca466123060ddb",
       "headless": false,
       "hide_edges_on_viewport": false,
       "layout": "IPY_MODEL_d927d23385234ecd923a3454dde11bcd",
       "max_zoom": 1e+50,
       "min_zoom": 1e-50,
       "motion_blur": false,
       "motion_blur_opacity": 0.2,
       "panning_enabled": true,
       "pixel_ratio": "auto",
       "rendered_position": {
        "renderedPosition": {
         "x": 100,
         "y": 100
        }
       },
       "selection_type": "single",
       "style_enabled": true,
       "texture_on_viewport": false,
       "tooltip_source": "tooltip",
       "touch_tap_threshold": 8,
       "user_panning_enabled": true,
       "user_zooming_enabled": true,
       "wheel_sensitivity": 1,
       "zoom": 2,
       "zooming_enabled": true
      }
     },
     "6d945d0ab2814aa5a7048e34651f8676": {
      "model_module": "jupyter-cytoscape",
      "model_module_version": "^1.2.2",
      "model_name": "NodeModel",
      "state": {
       "_model_module_version": "^1.2.2",
       "_view_module_version": "^1.2.2",
       "data": {
        "altered": 0,
        "cited": 275,
        "id": "PRKCA",
        "importance": 3,
        "isseed": false,
        "isvalid": true,
        "rank": 84,
        "uniprot": "P17252",
        "uniprotdesc": "Calcium-activated, phospholipid- and diacylglycerol(DAG)-dependent serine/threonine-protein kinase that is involvedin positive and negative regulation of cell proliferation,apoptosis, differentiation, migration and adhesion, tumorigenesis,cardiac hypertrophy, angiogenesis, platelet function andinflammation, by directly phosphorylating targets such as RAF1,BCL2, CSPG4, TNNT2/CTNT, or activating signaling cascade involvingMAPK1/3 (ERK1/2) and RAP1GAP. Involved in cell proliferation andcell growth arrest by positive and negative regulation of the cellcycle. Can promote cell growth by phosphorylating and activatingRAF1, which mediates the activation of the MAPK/ERK signalingcascade, and/or by up-regulating CDKN1A, which facilitates activecyclin-dependent kinase (CDK) complex formation in glioma cells.In intestinal cells stimulated by the phorbol ester PMA, cantrigger a cell cycle arrest program which is associated with theaccumulation of the hyper-phosphorylated growth-suppressive formof RB1 and induction of the CDK inhibitors CDKN1A and CDKN1B.Exhibits anti-apoptotic function in glioma cells and protects themfrom apoptosis by suppressing the p53/TP53-mediated activation ofIGFBP3, and in leukemia cells mediates anti-apoptotic action byphosphorylating BCL2. During macrophage differentiation induced bymacrophage colony-stimulating factor (CSF1), is translocated tothe nucleus and is associated with macrophage development. Afterwounding, translocates from focal contacts to lamellipodia andparticipates in the modulation of desmosomal adhesion. Plays arole in cell motility by phosphorylating CSPG4, which inducesassociation of CSPG4 with extensive lamellipodia at the cellperiphery and polarization of the cell accompanied by increases incell motility. Is highly expressed in a number of cancer cellswhere it can act as a tumor promoter and is implicated inmalignant phenotypes of several tumors such as gliomas and breastcancers. Negatively regulates myocardial contractility andpositively regulates angiogenesis, platelet aggregation andthrombus formation in arteries. Mediates hypertrophic growth ofneonatal cardiomyocytes, in part through a MAPK1/3 (ERK1/2)-dependent signaling pathway, and upon PMA treatment, is requiredto induce cardiomyocyte hypertrophy up to heart failure and death,by increasing protein synthesis, protein-DNA ratio and cellsurface area. Regulates cardiomyocyte function by phosphorylatingcardiac troponin T (TNNT2/CTNT), which induces significantreduction in actomyosin ATPase activity, myofilament calciumsensitivity and myocardial contractility. In angiogenesis, isrequired for full endothelial cell migration, adhesion tovitronectin (VTN), and vascular endothelial growth factor A(VEGFA)-dependent regulation of kinase activation and vasculartube formation. Involved in the stabilization of VEGFA mRNA atpost-transcriptional level and mediates VEGFA-induced cellproliferation. In the regulation of calcium-induced plateletaggregation, mediates signals from the CD36/GP4 receptor forgranule release, and activates the integrin heterodimer ITGA2B-ITGB3 through the RAP1GAP pathway for adhesion. During response tolipopolysaccharides (LPS), may regulate selective LPS-inducedmacrophage functions involved in host defense and inflammation.But in some inflammatory responses, may negatively regulate NF-kappa-B-induced genes, through IL1A-dependent induction of NF-kappa-B inhibitor alpha (NFKBIA/IKBA). Upon stimulation with 12-O-tetradecanoylphorbol-13-acetate (TPA), phosphorylates EIF4G1,which modulates EIF4G1 binding to MKNK1 and may be involved in theregulation of EIF4E phosphorylation. Phosphorylates KIT, leadingto inhibition of KIT activity. Phosphorylates ATF2 which promotescooperation between ATF2 and JUN, activating transcription."
       },
       "grabbable": true,
       "grabbed": false,
       "position": {
        "x": 870.6279675351583,
        "y": 38.8443549932413
       }
      }
     },
     "6de765b3af104a918e657488e8485e1b": {
      "model_module": "jupyter-cytoscape",
      "model_module_version": "^1.2.2",
      "model_name": "NodeModel",
      "state": {
       "_model_module_version": "^1.2.2",
       "_view_module_version": "^1.2.2",
       "data": {
        "altered": 0,
        "cited": 47,
        "id": "E4F1",
        "importance": 3,
        "isseed": false,
        "isvalid": true,
        "rank": 150,
        "uniprot": "Q66K89",
        "uniprotdesc": "May function as a transcriptional repressor. May alsofunction as a ubiquitin ligase mediating ubiquitination ofchromatin-associated TP53. Functions in cell survival andproliferation through control of the cell cycle. Functions in thep53 and pRB tumor suppressor pathways and regulates the cyclinCCNA2 transcription.Identified as a cellular target of the adenoviraloncoprotein E1A, it is required for both transcriptionalactivation and repression of viral genes."
       },
       "grabbable": true,
       "grabbed": false,
       "position": {
        "x": 796.0858094115741,
        "y": -17.207855568545046
       }
      }
     },
     "6de8e9a1b4944680a8cba89e8d0a7dd5": {
      "model_module": "jupyter-cytoscape",
      "model_module_version": "^1.2.2",
      "model_name": "NodeModel",
      "state": {
       "_model_module_version": "^1.2.2",
       "_view_module_version": "^1.2.2",
       "data": {
        "altered": 0,
        "cited": 2442,
        "id": "CREBBP",
        "importance": 3,
        "isseed": false,
        "isvalid": true,
        "rank": 24,
        "uniprot": "Q92793",
        "uniprotdesc": "Acetylates histones, giving a specific tag fortranscriptional activation. Also acetylates non-histone proteins,like NCOA3 and FOXO1. Binds specifically to phosphorylated CREBand enhances its transcriptional activity toward cAMP-responsivegenes. Acts as a coactivator of ALX1 in the presence of EP300.Acts as a circadian transcriptional coactivator which enhances theactivity of the circadian transcriptional activators: NPAS2-ARNTL/BMAL1 and CLOCK-ARNTL/BMAL1 heterodimers."
       },
       "grabbable": true,
       "grabbed": false,
       "position": {
        "x": 573.6771511026915,
        "y": -7.853447190776149
       }
      }
     },
     "6deb77c4c5b842dd9346800f06c9ac91": {
      "model_module": "jupyter-cytoscape",
      "model_module_version": "^1.2.2",
      "model_name": "EdgeModel",
      "state": {
       "_model_module_version": "^1.2.2",
       "_view_module_version": "^1.2.2",
       "data": {
        "cited": 0,
        "datasource": [
         "PANTHER"
        ],
        "id": "HTT-controls-state-change-of-TP73",
        "isdirected": true,
        "pubmed": [],
        "source": "HTT",
        "target": "TP73",
        "type": "controls-state-change-of"
       }
      }
     },
     "6df9d8052eb645f9875ef047374f834e": {
      "model_module": "jupyter-cytoscape",
      "model_module_version": "^1.2.2",
      "model_name": "NodeModel",
      "state": {
       "_model_module_version": "^1.2.2",
       "_view_module_version": "^1.2.2",
       "data": {
        "altered": 0,
        "cited": 2683,
        "id": "APC",
        "importance": 3,
        "isseed": false,
        "isvalid": true,
        "rank": 22,
        "uniprot": "P25054",
        "uniprotdesc": "Tumor suppressor. Promotes rapid degradation of CTNNB1and participates in Wnt signaling as a negative regulator. APCactivity is correlated with its phosphorylation state. Activatesthe GEF activity of SPATA13 and ARHGEF4. Plays a role inhepatocyte growth factor (HGF)-induced cell migration. Requiredfor MMP9 up-regulation via the JNK signaling pathway in colorectaltumor cells. Acts as a mediator of ERBB2-dependent stabilizationof microtubules at the cell cortex. It is required for thelocalization of MACF1 to the cell membrane and this localizationof MACF1 is critical for its function in microtubulestabilization. "
       },
       "grabbable": true,
       "grabbed": false,
       "position": {
        "x": 505.0567051971741,
        "y": 165.37800636297945
       }
      }
     },
     "6e66f130cbed4ec2b3869963392eeac3": {
      "model_module": "jupyter-cytoscape",
      "model_module_version": "^1.2.2",
      "model_name": "EdgeModel",
      "state": {
       "_model_module_version": "^1.2.2",
       "_view_module_version": "^1.2.2",
       "data": {
        "cited": 109,
        "datasource": [
         "pid"
        ],
        "id": "TP53-controls-expression-of-MSH2",
        "isdirected": true,
        "pubmed": [
         "10984493",
         "11350971"
        ],
        "source": "TP53",
        "target": "MSH2",
        "type": "controls-expression-of"
       }
      }
     },
     "6ebb01cdd8ea4771ba1ab4c062f61e36": {
      "model_module": "jupyter-cytoscape",
      "model_module_version": "^1.2.2",
      "model_name": "EdgeModel",
      "state": {
       "_model_module_version": "^1.2.2",
       "_view_module_version": "^1.2.2",
       "data": {
        "cited": 0,
        "datasource": [
         "PANTHER"
        ],
        "id": "PRKAG1-controls-state-change-of-TP63",
        "isdirected": true,
        "pubmed": [],
        "source": "PRKAG1",
        "target": "TP63",
        "type": "controls-state-change-of"
       }
      }
     },
     "701e093dd52f455db798d431739c7053": {
      "model_module": "jupyter-cytoscape",
      "model_module_version": "^1.2.2",
      "model_name": "EdgeModel",
      "state": {
       "_model_module_version": "^1.2.2",
       "_view_module_version": "^1.2.2",
       "data": {
        "cited": 0,
        "datasource": [
         "PANTHER"
        ],
        "id": "MAPK13-controls-state-change-of-TP63",
        "isdirected": true,
        "pubmed": [],
        "source": "MAPK13",
        "target": "TP63",
        "type": "controls-state-change-of"
       }
      }
     },
     "70cd4e859c2e4d1fab5e0b1628240d72": {
      "model_module": "jupyter-cytoscape",
      "model_module_version": "^1.2.2",
      "model_name": "EdgeModel",
      "state": {
       "_model_module_version": "^1.2.2",
       "_view_module_version": "^1.2.2",
       "data": {
        "id": "49979c3b-5672-47b0-8f1d-3dcdba26f24c",
        "source": "0",
        "target": "4"
       },
       "selectable": false
      }
     },
     "70de7be54a0544939738f43fede1b149": {
      "model_module": "jupyter-cytoscape",
      "model_module_version": "^1.2.2",
      "model_name": "NodeModel",
      "state": {
       "_model_module_version": "^1.2.2",
       "_view_module_version": "^1.2.2",
       "data": {
        "altered": 0,
        "cited": 89,
        "id": "IGBP1",
        "importance": 3,
        "isseed": false,
        "isvalid": true,
        "rank": 125,
        "uniprot": "P78318",
        "uniprotdesc": "Associated to surface IgM-receptor; may be involved insignal transduction. Involved in regulation of the catalyticactivity of the phosphatases PP2A, PP4 and PP6 by protecting theirpartially folded catalytic subunits from degradativepolyubiquitination until they associate with regulatory subunits."
       },
       "grabbable": true,
       "grabbed": false,
       "position": {
        "x": 817.0483352959518,
        "y": 238.84435899324126
       }
      }
     },
     "70f8fa2a6e4f42c1b0e0bb2f51164384": {
      "model_module": "jupyter-cytoscape",
      "model_module_version": "^1.2.2",
      "model_name": "EdgeModel",
      "state": {
       "_model_module_version": "^1.2.2",
       "_view_module_version": "^1.2.2",
       "data": {
        "cited": 1,
        "datasource": [
         "Reactome"
        ],
        "id": "TP53-controls-state-change-of-HIRA",
        "isdirected": true,
        "pubmed": [
         "15621527",
         "15655109",
         "16901784",
         "17158953",
         "17242198",
         "17242207",
         "23964094"
        ],
        "source": "TP53",
        "target": "HIRA",
        "type": "controls-state-change-of"
       }
      }
     },
     "711deef2cf9b41be9595b347bc1942b8": {
      "model_module": "jupyter-cytoscape",
      "model_module_version": "^1.2.2",
      "model_name": "NodeModel",
      "state": {
       "_model_module_version": "^1.2.2",
       "_view_module_version": "^1.2.2",
       "data": {
        "altered": 0,
        "cited": 621,
        "id": "WRN",
        "importance": 3,
        "isseed": false,
        "isvalid": true,
        "rank": 53,
        "uniprot": "Q14191",
        "uniprotdesc": "Multifunctional enzyme that has both magnesium and ATP-dependent DNA-helicase activity and 3'->5' exonuclease activitytowards double-stranded DNA with a 5'-overhang. Has no nucleaseactivity towards single-stranded DNA or blunt-ended double-stranded DNA. Binds preferentially to DNA substrates containingalternate secondary structures, such as replication forks andHolliday junctions. May play an important role in the dissociationof joint DNA molecules that can arise as products of homologousrecombination, at stalled replication forks or during DNA repair.Alleviates stalling of DNA polymerases at the site of DNA lesions.Important for genomic integrity. Plays a role in the formation ofDNA replication focal centers; stably associates with focielements generating binding sites for RP-A (By similarity). Playsa role in double-strand break repair after gamma-irradiation."
       },
       "grabbable": true,
       "grabbed": false,
       "position": {
        "x": 816.3396307771806,
        "y": 332.79215143145495
       }
      }
     },
     "71536aae8bef46a186b24a58005e9894": {
      "model_module": "jupyter-cytoscape",
      "model_module_version": "^1.2.2",
      "model_name": "NodeModel",
      "state": {
       "_model_module_version": "^1.2.2",
       "_view_module_version": "^1.2.2",
       "data": {
        "altered": 0,
        "cited": 2149,
        "id": "CDK1",
        "importance": 3,
        "isseed": false,
        "isvalid": true,
        "rank": 27,
        "uniprot": "P06493",
        "uniprotdesc": "Plays a key role in the control of the eukaryotic cellcycle by modulating the centrosome cycle as well as mitotic onset;promotes G2-M transition, and regulates G1 progress and G1-Stransition via association with multiple interphase cyclins.Required in higher cells for entry into S-phase and mitosis.Phosphorylates PARVA/actopaxin, APC, AMPH, APC, BARD1, Bcl-xL/BCL2L1, BRCA2, CALD1, CASP8, CDC7, CDC20, CDC25A, CDC25C,CC2D1A, CSNK2 proteins/CKII, FZR1/CDH1, CDK7, CEBPB, CHAMP1,DMD/dystrophin, EEF1 proteins/EF-1, EZH2, KIF11/EG5, EGFR, FANCG,FOS, GFAP, GOLGA2/GM130, GRASP1, UBE2A/hHR6A, HIST1H1proteins/histone H1, HMGA1, HIVEP3/KRC, LMNA, LMNB, LMNC, LBR,LATS1, MAP1B, MAP4, MARCKS, MCM2, MCM4, MKLP1, MYB, NEFH, NFIC,NPC/nuclear pore complex, PITPNM1/NIR2, NPM1, NCL, NUCKS1,NPM1/numatrin, ORC1, PRKAR2A, EEF1E1/p18, EIF3F/p47, p53/TP53,NONO/p54NRB, PAPOLA, PLEC/plectin, RB1, UL40/R2, RAB4A, RAP1GAP,RCC1, RPS6KB1/S6K1, KHDRBS1/SAM68, ESPL1, SKI, BIRC5/survivin,STIP1, TEX14, beta-tubulins, MAPT/TAU, NEDD1, VIM/vimentin, TK1,FOXO1, RUNX1/AML1, SIRT2 and RUNX2. CDK1/CDC2-cyclin-B controlspronuclear union in interphase fertilized eggs. Essential forearly stages of embryonic development. During G2 and earlymitosis, CDC25A/B/C-mediated dephosphorylation activatesCDK1/cyclin complexes which phosphorylate several substrates thattrigger at least centrosome separation, Golgi dynamics, nuclearenvelope breakdown and chromosome condensation. Once chromosomesare condensed and aligned at the metaphase plate, CDK1 activity isswitched off by WEE1- and PKMYT1-mediated phosphorylation to allowsister chromatid separation, chromosome decondensation,reformation of the nuclear envelope and cytokinesis. Inactivatedby PKR/EIF2AK2- and WEE1-mediated phosphorylation upon DNA damageto stop cell cycle and genome replication at the G2 checkpointthus facilitating DNA repair. Reactivated after successful DNArepair through WIP1-dependent signaling leading to CDC25A/B/C-mediated dephosphorylation and restoring cell cycle progression.In proliferating cells, CDK1-mediated FOXO1 phosphorylation at theG2-M phase represses FOXO1 interaction with 14-3-3 proteins andthereby promotes FOXO1 nuclear accumulation and transcriptionfactor activity, leading to cell death of postmitotic neurons. Thephosphorylation of beta-tubulins regulates microtubule dynamicsduring mitosis. NEDD1 phosphorylation promotes PLK1-mediated NEDD1phosphorylation and subsequent targeting of the gamma-tubulin ringcomplex (gTuRC) to the centrosome, an important step for spindleformation. In addition, CC2D1A phosphorylation regulates CC2D1Aspindle pole localization and association with SCC1/RAD21 andcentriole cohesion during mitosis. The phosphorylation of Bcl-xL/BCL2L1 after prolongated G2 arrest upon DNA damage triggersapoptosis. In contrast, CASP8 phosphorylation during mitosisprevents its activation by proteolysis and subsequent apoptosis.This phosphorylation occurs in cancer cell lines, as well as inprimary breast tissues and lymphocytes. EZH2 phosphorylationpromotes H3K27me3 maintenance and epigenetic gene silencing. CALD1phosphorylation promotes Schwann cell migration during peripheralnerve regeneration. "
       },
       "grabbable": true,
       "grabbed": false,
       "position": {
        "x": 879.8648773752733,
        "y": 82.79214643145495
       }
      }
     },
     "7164381a4b02409ca958a2769f57ef18": {
      "model_module": "jupyter-cytoscape",
      "model_module_version": "^1.2.2",
      "model_name": "EdgeModel",
      "state": {
       "_model_module_version": "^1.2.2",
       "_view_module_version": "^1.2.2",
       "data": {
        "cited": 13,
        "datasource": [
         "pid"
        ],
        "id": "TP53-controls-expression-of-PYCARD",
        "isdirected": true,
        "pubmed": [
         "14730312"
        ],
        "source": "TP53",
        "target": "PYCARD",
        "type": "controls-expression-of"
       }
      }
     },
     "720d0f8b77e5478eb446ddbb1b2e4caa": {
      "model_module": "jupyter-cytoscape",
      "model_module_version": "^1.2.2",
      "model_name": "EdgeModel",
      "state": {
       "_model_module_version": "^1.2.2",
       "_view_module_version": "^1.2.2",
       "data": {
        "cited": 12,
        "datasource": [
         "pid"
        ],
        "id": "FOS-controls-expression-of-TP53",
        "isdirected": true,
        "pubmed": [
         "10072388",
         "11136975"
        ],
        "source": "FOS",
        "target": "TP53",
        "type": "controls-expression-of"
       }
      }
     },
     "72f651fbd43e4c7ea5afece1172a5356": {
      "model_module": "jupyter-cytoscape",
      "model_module_version": "^1.2.2",
      "model_name": "EdgeModel",
      "state": {
       "_model_module_version": "^1.2.2",
       "_view_module_version": "^1.2.2",
       "data": {
        "cited": 45,
        "datasource": [
         "pid"
        ],
        "id": "TP53-controls-expression-of-GADD45A",
        "isdirected": true,
        "pubmed": [
         "15186775",
         "18250150"
        ],
        "source": "TP53",
        "target": "GADD45A",
        "type": "controls-expression-of"
       }
      }
     },
     "731afb252b874c05912728239f7f60ff": {
      "model_module": "jupyter-cytoscape",
      "model_module_version": "^1.2.2",
      "model_name": "EdgeModel",
      "state": {
       "_model_module_version": "^1.2.2",
       "_view_module_version": "^1.2.2",
       "data": {
        "cited": 0,
        "datasource": [
         "pid"
        ],
        "id": "TP53-controls-expression-of-FDXR",
        "isdirected": true,
        "pubmed": [
         "12370809",
         "17409421"
        ],
        "source": "TP53",
        "target": "FDXR",
        "type": "controls-expression-of"
       }
      }
     },
     "735c0ad71b444fb6b355d7ba3aab2fea": {
      "model_module": "jupyter-cytoscape",
      "model_module_version": "^1.2.2",
      "model_name": "CytoscapeModel",
      "state": {
       "_interaction_handlers": {},
       "_model_module_version": "^1.2.2",
       "_view_module_version": "^1.2.2",
       "auto_ungrabify": false,
       "autolock": false,
       "cytoscape_layout": {
        "name": "cola"
       },
       "cytoscape_style": [
        {
         "css": {
          "background-color": "#11479e"
         },
         "selector": "node"
        },
        {
         "css": {
          "background-opacity": 0.333
         },
         "selector": "node:parent"
        },
        {
         "selector": "edge",
         "style": {
          "line-color": "#9dbaea",
          "width": 4
         }
        },
        {
         "selector": "edge.directed",
         "style": {
          "curve-style": "bezier",
          "target-arrow-color": "#9dbaea",
          "target-arrow-shape": "triangle"
         }
        },
        {
         "selector": "edge.multiple_edges",
         "style": {
          "curve-style": "bezier"
         }
        }
       ],
       "desktop_tap_threshold": 4,
       "graph": "IPY_MODEL_1d48e0a896b04c27b54af13b130dff39",
       "headless": false,
       "hide_edges_on_viewport": false,
       "layout": "IPY_MODEL_6784830942324d3a83ec0c879a1f9836",
       "max_zoom": 1e+50,
       "min_zoom": 1e-50,
       "motion_blur": false,
       "motion_blur_opacity": 0.2,
       "panning_enabled": true,
       "pixel_ratio": "auto",
       "rendered_position": {
        "renderedPosition": {
         "x": 100,
         "y": 100
        }
       },
       "selection_type": "single",
       "style_enabled": true,
       "texture_on_viewport": false,
       "tooltip_source": "tooltip",
       "touch_tap_threshold": 8,
       "user_panning_enabled": true,
       "user_zooming_enabled": true,
       "wheel_sensitivity": 1,
       "zoom": 2,
       "zooming_enabled": true
      }
     },
     "742d807077a14257b33685e065cd0e46": {
      "model_module": "jupyter-cytoscape",
      "model_module_version": "^1.2.2",
      "model_name": "NodeModel",
      "state": {
       "_model_module_version": "^1.2.2",
       "_view_module_version": "^1.2.2",
       "data": {
        "altered": 0,
        "cited": 609,
        "id": "KAT2B",
        "importance": 3,
        "isseed": false,
        "isvalid": true,
        "rank": 55,
        "uniprot": null,
        "uniprotdesc": null
       },
       "grabbable": true,
       "grabbed": false,
       "position": {
        "x": 470.62795953515837,
        "y": 65.37800436297947
       }
      }
     },
     "77b42aa13390459baf98a28bd1bff8b7": {
      "model_module": "jupyter-cytoscape",
      "model_module_version": "^1.2.2",
      "model_name": "NodeModel",
      "state": {
       "_model_module_version": "^1.2.2",
       "_view_module_version": "^1.2.2",
       "data": {
        "altered": 0,
        "cited": 330,
        "id": "PRKAA1",
        "importance": 3,
        "isseed": false,
        "isvalid": true,
        "rank": 78,
        "uniprot": "Q13131",
        "uniprotdesc": "Catalytic subunit of AMP-activated protein kinase(AMPK), an energy sensor protein kinase that plays a key role inregulating cellular energy metabolism. In response to reduction ofintracellular ATP levels, AMPK activates energy-producing pathwaysand inhibits energy-consuming processes: inhibits protein,carbohydrate and lipid biosynthesis, as well as cell growth andproliferation. AMPK acts via direct phosphorylation of metabolicenzymes, and by longer-term effects via phosphorylation oftranscription regulators. Also acts as a regulator of cellularpolarity by remodeling the actin cytoskeleton; probably byindirectly activating myosin. Regulates lipid synthesis byphosphorylating and inactivating lipid metabolic enzymes such asACACA, ACACB, GYS1, HMGCR and LIPE; regulates fatty acid andcholesterol synthesis by phosphorylating acetyl-CoA carboxylase(ACACA and ACACB) and hormone-sensitive lipase (LIPE) enzymes,respectively. Regulates insulin-signaling and glycolysis byphosphorylating IRS1, PFKFB2 and PFKFB3. AMPK stimulates glucoseuptake in muscle by increasing the translocation of the glucosetransporter SLC2A4/GLUT4 to the plasma membrane, possibly bymediating phosphorylation of TBC1D4/AS160. Regulates transcriptionand chromatin structure by phosphorylating transcriptionregulators involved in energy metabolism such as CRTC2/TORC2,FOXO3, histone H2B, HDAC5, MEF2C, MLXIPL/ChREBP, EP300, HNF4A,p53/TP53, SREBF1, SREBF2 and PPARGC1A. Acts as a key regulator ofglucose homeostasis in liver by phosphorylating CRTC2/TORC2,leading to CRTC2/TORC2 sequestration in the cytoplasm. In responseto stress, phosphorylates 'Ser-36' of histone H2B (H2BS36ph),leading to promote transcription. Acts as a key regulator of cellgrowth and proliferation by phosphorylating TSC2, RPTOR andATG1/ULK1: in response to nutrient limitation, negativelyregulates the mTORC1 complex by phosphorylating RPTOR component ofthe mTORC1 complex and by phosphorylating and activating TSC2. Inresponse to nutrient limitation, promotes autophagy byphosphorylating and activating ATG1/ULK1. AMPK also acts as aregulator of circadian rhythm by mediating phosphorylation ofCRY1, leading to destabilize it. May regulate the Wnt signalingpathway by phosphorylating CTNNB1, leading to stabilize it. Alsohas tau-protein kinase activity: in response to amyloid beta A4protein (APP) exposure, activated by CAMKK2, leading tophosphorylation of MAPT/TAU; however the relevance of such dataremains unclear in vivo. Also phosphorylates CFTR, EEF2K, KLC1,NOS3 and SLC12A1. "
       },
       "grabbable": true,
       "grabbed": false,
       "position": {
        "x": 823.6771561026914,
        "y": 182.79214843145496
       }
      }
     },
     "77db62d52968448f97aec7792ca4039d": {
      "model_module": "jupyter-cytoscape",
      "model_module_version": "^1.2.2",
      "model_name": "EdgeModel",
      "state": {
       "_model_module_version": "^1.2.2",
       "_view_module_version": "^1.2.2",
       "data": {
        "cited": 1,
        "datasource": [
         "PhosphoSite",
         "PANTHER"
        ],
        "id": "PRKAA1-controls-state-change-of-TP53",
        "isdirected": true,
        "pubmed": [
         "10202145",
         "10570149",
         "10606744",
         "10656795",
         "10673500",
         "10673501",
         "10706102",
         "10710310",
         "10733583",
         "10734067",
         "11030628",
         "11175334",
         "11244509",
         "11258706",
         "11397945",
         "11423984",
         "11447225",
         "11495913",
         "11526498",
         "11551930",
         "11583595",
         "11707453",
         "11850826",
         "11861384",
         "11875057",
         "11883897",
         "11896572",
         "11896587",
         "12091386",
         "12384533",
         "12427754",
         "12531896",
         "12676607",
         "12756247",
         "12810724",
         "12860987",
         "12861053",
         "12902982",
         "12955074",
         "12959929",
         "12969974",
         "14517211",
         "14527925",
         "14612532",
         "14665630",
         "15064747",
         "15140942",
         "15254178",
         "15269203",
         "15322239",
         "15355354",
         "15471885",
         "15489221",
         "15542844",
         "15629715",
         "15671037",
         "15750624",
         "15843377",
         "15963507",
         "16377624",
         "16651424",
         "16731759",
         "16774943",
         "16818520",
         "17105820",
         "17121812",
         "17135248",
         "17245430",
         "17339337",
         "17353187",
         "17363488",
         "17698850",
         "17967874",
         "17977830",
         "18159951",
         "18246126",
         "18593910",
         "18669630",
         "18718914",
         "18778462",
         "18794113",
         "19819244",
         "19861417",
         "19882354",
         "20009884",
         "20024960",
         "20041275",
         "20562916",
         "20673369",
         "20696760",
         "20962272",
         "21148320",
         "21383696",
         "21386980",
         "21454683",
         "21832239",
         "22030623",
         "22112863",
         "22285752",
         "22728651",
         "22797063",
         "22815859",
         "23798621",
         "23871434",
         "24657168",
         "8327466"
        ],
        "source": "PRKAA1",
        "target": "TP53",
        "type": "controls-state-change-of"
       }
      }
     },
     "77f1d2634666495d9d39cd7a0ecded60": {
      "model_module": "jupyter-cytoscape",
      "model_module_version": "^1.2.2",
      "model_name": "EdgeModel",
      "state": {
       "_model_module_version": "^1.2.2",
       "_view_module_version": "^1.2.2",
       "data": {
        "cited": 6,
        "datasource": [
         "pid"
        ],
        "id": "TP53-controls-expression-of-CASP1",
        "isdirected": true,
        "pubmed": [
         "11278253"
        ],
        "source": "TP53",
        "target": "CASP1",
        "type": "controls-expression-of"
       }
      }
     },
     "789d80fc075c441a82b5b6259bb8f2c8": {
      "model_module": "jupyter-cytoscape",
      "model_module_version": "^1.2.2",
      "model_name": "EdgeModel",
      "state": {
       "_model_module_version": "^1.2.2",
       "_view_module_version": "^1.2.2",
       "data": {
        "cited": 0,
        "datasource": [
         "pid"
        ],
        "id": "TP53-controls-expression-of-PPM1J",
        "isdirected": true,
        "pubmed": [
         "16260627"
        ],
        "source": "TP53",
        "target": "PPM1J",
        "type": "controls-expression-of"
       }
      }
     },
     "78e7c7414b4b4840a70efe81704239f0": {
      "model_module": "jupyter-cytoscape",
      "model_module_version": "^1.2.2",
      "model_name": "NodeModel",
      "state": {
       "_model_module_version": "^1.2.2",
       "_view_module_version": "^1.2.2",
       "data": {
        "altered": 0,
        "cited": 55,
        "id": "PPP2CA",
        "importance": 3,
        "isseed": false,
        "isvalid": true,
        "rank": 146,
        "uniprot": "P67775",
        "uniprotdesc": "PP2A is the major phosphatase for microtubule-associatedproteins (MAPs). PP2A can modulate the activity of phosphorylase Bkinase casein kinase 2, mitogen-stimulated S6 kinase, and MAP-2kinase. Cooperates with SGOL2 to protect centromeric cohesin fromseparase-mediated cleavage in oocytes specifically during meiosisI (By similarity). Can dephosphorylate SV40 large T antigen andp53/TP53. Activates RAF1 by dephosphorylating it at 'Ser-259'."
       },
       "grabbable": true,
       "grabbed": false,
       "position": {
        "x": 823.6771561026914,
        "y": 132.79214743145494
       }
      }
     },
     "791f7c54373c42159bc275aa5bab3b18": {
      "model_module": "jupyter-cytoscape",
      "model_module_version": "^1.2.2",
      "model_name": "NodeModel",
      "state": {
       "_model_module_version": "^1.2.2",
       "_view_module_version": "^1.2.2",
       "data": {
        "altered": 0,
        "cited": 205,
        "id": "BTG2",
        "importance": 3,
        "isseed": false,
        "isvalid": true,
        "rank": 97,
        "uniprot": "P78543",
        "uniprotdesc": "Anti-proliferative protein; the function is mediated byassociation with deadenylase subunits of the CCR4-NOT complex.Activates mRNA deadenylation in a CNOT6 and CNOT7-dependentmanner. In vitro can inhibit deadenylase activity of CNOT7 andCNOT8. Involved in cell cycle regulation. Could be involved in thegrowth arrest and differentiation of the neuronal precursors (Bysimilarity). Modulates transcription regulation mediated by ESR1.Involved in mitochondrial depolarization and neurite outgrowth."
       },
       "grabbable": true,
       "grabbed": false,
       "position": {
        "x": 666.3396277771806,
        "y": 395.0006381890039
       }
      }
     },
     "79253960f04548988774b38bc732dd74": {
      "model_module": "jupyter-cytoscape",
      "model_module_version": "^1.2.2",
      "model_name": "EdgeModel",
      "state": {
       "_model_module_version": "^1.2.2",
       "_view_module_version": "^1.2.2",
       "data": {
        "cited": 1480,
        "datasource": [
         "Reactome",
         "pid"
        ],
        "id": "TP53-controls-expression-of-CDKN1A",
        "isdirected": true,
        "pubmed": [
         "11080152",
         "15655109",
         "17110336",
         "17409421",
         "17707234",
         "17719541",
         "17938176",
         "18250150",
         "18485870",
         "19011621",
         "7796420",
         "8242752"
        ],
        "source": "TP53",
        "target": "CDKN1A",
        "type": "controls-expression-of"
       }
      }
     },
     "79f1b2c37d3b4e76a8b06cc5e6bc1806": {
      "model_module": "jupyter-cytoscape",
      "model_module_version": "^1.2.2",
      "model_name": "NodeModel",
      "state": {
       "_model_module_version": "^1.2.2",
       "_view_module_version": "^1.2.2",
       "data": {
        "altered": 0,
        "cited": 265,
        "id": "TYRP1",
        "importance": 3,
        "isseed": false,
        "isvalid": true,
        "rank": 87,
        "uniprot": "P17643",
        "uniprotdesc": "Oxidation of 5,6-dihydroxyindole-2-carboxylic acid(DHICA) into indole-5,6-quinone-2-carboxylic acid. May regulate orinfluence the type of melanin synthesized."
       },
       "grabbable": true,
       "grabbed": false,
       "position": {
        "x": 366.3396217771806,
        "y": 293.0498268325771
       }
      }
     },
     "79f5c478008f4c39bf6d2d41b9f771e0": {
      "model_module": "jupyter-cytoscape",
      "model_module_version": "^1.2.2",
      "model_name": "EdgeModel",
      "state": {
       "_model_module_version": "^1.2.2",
       "_view_module_version": "^1.2.2",
       "data": {
        "cited": 0,
        "datasource": [
         "Reactome"
        ],
        "id": "TP53-controls-state-change-of-HIST1H1E",
        "isdirected": true,
        "pubmed": [
         "15621527",
         "15655109",
         "16901784",
         "17158953",
         "17242198",
         "17242207",
         "23964094"
        ],
        "source": "TP53",
        "target": "HIST1H1E",
        "type": "controls-state-change-of"
       }
      }
     },
     "7a6cbc13d99943e68b75532e325c7706": {
      "model_module": "jupyter-cytoscape",
      "model_module_version": "^1.2.2",
      "model_name": "NodeModel",
      "state": {
       "_model_module_version": "^1.2.2",
       "_view_module_version": "^1.2.2",
       "data": {
        "altered": 0,
        "cited": 8,
        "id": "UBN1",
        "importance": 3,
        "isseed": false,
        "isvalid": true,
        "rank": 180,
        "uniprot": "Q9NPG3",
        "uniprotdesc": "Acts as a novel regulator of senescence. Involved in theformation of senescence-associated heterochromatin foci (SAHF),which represses expression of proliferation-promoting genes. Bindsto proliferation-promoting genes. May be required for replication-independent chromatin assembly. "
       },
       "grabbable": true,
       "grabbed": false,
       "position": {
        "x": 446.0858024115741,
        "y": -36.6036712204788
       }
      }
     },
     "7aaf578069cd42ec8908c1af3bdafc04": {
      "model_module": "jupyter-cytoscape",
      "model_module_version": "^1.2.2",
      "model_name": "NodeModel",
      "state": {
       "_model_module_version": "^1.2.2",
       "_view_module_version": "^1.2.2",
       "data": {
        "altered": 0,
        "cited": 12,
        "id": "SMYD2",
        "importance": 3,
        "isseed": false,
        "isvalid": true,
        "rank": 175,
        "uniprot": "Q9NRG4",
        "uniprotdesc": "Protein-lysine N-methyltransferase that methylates bothhistones and non-histone proteins, including p53/TP53 and RB1.Specifically methylates histone H3 'Lys-4' (H3K4me) anddimethylates histone H3 'Lys-36' (H3K36me2). Shows even highermethyltransferase activity on p53/TP53. Monomethylates 'Lys-370'of p53/TP53, leading to decreased DNA-binding activity andsubsequent transcriptional regulation activity of p53/TP53.Monomethylates RB1 at 'Lys-860'. "
       },
       "grabbable": true,
       "grabbed": false,
       "position": {
        "x": 859.6578020392295,
        "y": 288.8443599932413
       }
      }
     },
     "7b2ac36083d344c6a07f9af65ec164ca": {
      "model_module": "jupyter-cytoscape",
      "model_module_version": "^1.2.2",
      "model_name": "EdgeModel",
      "state": {
       "_model_module_version": "^1.2.2",
       "_view_module_version": "^1.2.2",
       "data": {
        "cited": 1,
        "datasource": [
         "PANTHER"
        ],
        "id": "EP300-controls-state-change-of-TP73",
        "isdirected": true,
        "pubmed": [],
        "source": "EP300",
        "target": "TP73",
        "type": "controls-state-change-of"
       }
      }
     },
     "7c3441cf508043058dac0580fc23fb6f": {
      "model_module": "jupyter-cytoscape",
      "model_module_version": "^1.2.2",
      "model_name": "EdgeModel",
      "state": {
       "_model_module_version": "^1.2.2",
       "_view_module_version": "^1.2.2",
       "data": {
        "cited": 5,
        "datasource": [
         "pid"
        ],
        "id": "TP53-controls-expression-of-PRKAB1",
        "isdirected": true,
        "pubmed": [
         "16140933",
         "17409411"
        ],
        "source": "TP53",
        "target": "PRKAB1",
        "type": "controls-expression-of"
       }
      }
     },
     "7cc765ccf7d54d43ab3567741c64594a": {
      "model_module": "jupyter-cytoscape",
      "model_module_version": "^1.2.2",
      "model_name": "EdgeModel",
      "state": {
       "_model_module_version": "^1.2.2",
       "_view_module_version": "^1.2.2",
       "data": {
        "cited": 2,
        "datasource": [
         "PANTHER"
        ],
        "id": "EP300-controls-state-change-of-TP63",
        "isdirected": true,
        "pubmed": [],
        "source": "EP300",
        "target": "TP63",
        "type": "controls-state-change-of"
       }
      }
     },
     "7d094a1da0784a3db4adaebd2a5f8666": {
      "model_module": "jupyter-cytoscape",
      "model_module_version": "^1.2.2",
      "model_name": "EdgeModel",
      "state": {
       "_model_module_version": "^1.2.2",
       "_view_module_version": "^1.2.2",
       "data": {
        "id": "1752f7b7-28f2-43a7-82e7-c0cce8bb24e7",
        "source": "1",
        "target": "4"
       },
       "selectable": false
      }
     },
     "7e1a2f2364ff460786373c1197a10f49": {
      "model_module": "jupyter-cytoscape",
      "model_module_version": "^1.2.2",
      "model_name": "NodeModel",
      "state": {
       "_model_module_version": "^1.2.2",
       "_view_module_version": "^1.2.2",
       "data": {
        "altered": 0,
        "cited": 130,
        "id": "PLK3",
        "importance": 3,
        "isseed": false,
        "isvalid": true,
        "rank": 115,
        "uniprot": "Q9H4B4",
        "uniprotdesc": "Serine/threonine-protein kinase involved in cell cycleregulation, response to stress and Golgi disassembly. Polo-likekinases act by binding and phosphorylating proteins are thatalready phosphorylated on a specific motif recognized by the POLObox domains. Phosphorylates ATF2, BCL2L1, CDC25A, CDC25C, CHEK2,HIF1A, JUN, p53/TP53, p73/TP73, PTEN, TOP2A and VRK1. Involved incell cycle regulation: required for entry into S phase andcytokinesis. Phosphorylates BCL2L1, leading to regulate the G2checkpoint and progression to cytokinesis during mitosis. Plays akey role in response to stress: rapidly activated upon stressstimulation, such as ionizing radiation, reactive oxygen species(ROS), hyperosmotic stress, UV irradiation and hypoxia. Involvedin DNA damage response and G1/S transition checkpoint byphosphorylating CDC25A, p53/TP53 and p73/TP73. Phosphorylatesp53/TP53 in response to reactive oxygen species (ROS), therebypromoting p53/TP53-mediated apoptosis. Phosphorylates CHEK2 inresponse to DNA damage, promoting the G2/M transition checkpoint.Phosphorylates the transcription factor p73/TP73 in response toDNA damage, leading to inhibit p73/TP73-mediated transcriptionalactivation and pro-apoptotic functions. Phosphorylates HIF1A andJUN is response to hypoxia. Phosphorylates ATF2 followinghyperosmotic stress in corneal epithelium. Also involved in Golgidisassembly during the cell cycle: part of a MEK1/MAP2K1-dependentpathway that induces Golgi fragmentation during mitosis bymediating phosphorylation of VRK1. May participate in endomitoticcell cycle, a form of mitosis in which both karyokinesis andcytokinesis are interrupted and is a hallmark of megakaryocytedifferentiation, via its interaction with CIB1."
       },
       "grabbable": true,
       "grabbed": false,
       "position": {
        "x": 555.0567061971741,
        "y": 195.9204628705627
       }
      }
     },
     "7f5aae8e620a47758ac1f39b96706e49": {
      "model_module": "jupyter-cytoscape",
      "model_module_version": "^1.2.2",
      "model_name": "EdgeModel",
      "state": {
       "_model_module_version": "^1.2.2",
       "_view_module_version": "^1.2.2",
       "data": {
        "cited": 0,
        "datasource": [
         "pid"
        ],
        "id": "KAT8-controls-state-change-of-TP53",
        "isdirected": true,
        "pubmed": [
         "17189187",
         "17534149"
        ],
        "source": "KAT8",
        "target": "TP53",
        "type": "controls-state-change-of"
       }
      }
     },
     "806d48ec88a44a268c7a3a562576399d": {
      "model_module": "jupyter-cytoscape",
      "model_module_version": "^1.2.2",
      "model_name": "NodeModel",
      "state": {
       "_model_module_version": "^1.2.2",
       "_view_module_version": "^1.2.2",
       "data": {
        "altered": 0,
        "cited": 79,
        "id": "MAPK12",
        "importance": 3,
        "isseed": false,
        "isvalid": true,
        "rank": 131,
        "uniprot": "P53778",
        "uniprotdesc": "Serine/threonine kinase which acts as an essentialcomponent of the MAP kinase signal transduction pathway. MAPK12 isone of the four p38 MAPKs which play an important role in thecascades of cellular responses evoked by extracellular stimulisuch as proinflammatory cytokines or physical stress leading todirect activation of transcription factors such as ELK1 and ATF2.Accordingly, p38 MAPKs phosphorylate a broad range of proteins andit has been estimated that they may have approximately 200 to 300substrates each. Some of the targets are downstream kinases suchas MAPKAPK2, which are activated through phosphorylation andfurther phosphorylate additional targets. Plays a role in myoblastdifferentiation and also in the down-regulation of cyclin D1 inresponse to hypoxia in adrenal cells suggesting MAPK12 may inhibitcell proliferation while promoting differentiation. PhosphorylatesDLG1. Following osmotic shock, MAPK12 in the cell nucleusincreases its association with nuclear DLG1, thereby causingdissociation of DLG1-SFPQ complexes. This function is independentof its catalytic activity and could affect mRNA processing and/orgene transcription to aid cell adaptation to osmolarity changes inthe environment. Regulates UV-induced checkpoint signaling andrepair of UV-induced DNA damage and G2 arrest after gamma-radiation exposure. MAPK12 is involved in the regulation of SLC2A1expression and basal glucose uptake in L6 myotubes; and negativelyregulates SLC2A4 expression and contraction-mediated glucoseuptake in adult skeletal muscle. C-Jun (JUN) phosphorylation isstimulated by MAPK14 and inhibited by MAPK12, leading to adistinct AP-1 regulation. MAPK12 is required for the normalkinetochore localization of PLK1, prevents chromosomal instabilityand supports mitotic cell viability. MAPK12-signaling is alsopositively regulating the expansion of transient amplifyingmyogenic precursor cells during muscle growth and regeneration."
       },
       "grabbable": true,
       "grabbed": false,
       "position": {
        "x": 661.2741637901134,
        "y": 269.6715295504575
       }
      }
     },
     "80af5f9e2f27464a82ad6e2cf918688b": {
      "model_module": "jupyter-cytoscape",
      "model_module_version": "^1.2.2",
      "model_name": "EdgeModel",
      "state": {
       "_model_module_version": "^1.2.2",
       "_view_module_version": "^1.2.2",
       "data": {
        "cited": 5,
        "datasource": [
         "PANTHER"
        ],
        "id": "PRKAB1-controls-state-change-of-TP53",
        "isdirected": true,
        "pubmed": [],
        "source": "PRKAB1",
        "target": "TP53",
        "type": "controls-state-change-of"
       }
      }
     },
     "80eaf67a50ff427f83c55ccb9f81ca5e": {
      "model_module": "jupyter-cytoscape",
      "model_module_version": "^1.2.2",
      "model_name": "EdgeModel",
      "state": {
       "_model_module_version": "^1.2.2",
       "_view_module_version": "^1.2.2",
       "data": {
        "cited": 166,
        "datasource": [
         "pid"
        ],
        "id": "TP53-controls-expression-of-APC",
        "isdirected": true,
        "pubmed": [
         "11279192"
        ],
        "source": "TP53",
        "target": "APC",
        "type": "controls-expression-of"
       }
      }
     },
     "820e4c5877e64e79b571d0c303397ffd": {
      "model_module": "jupyter-cytoscape",
      "model_module_version": "^1.2.2",
      "model_name": "NodeModel",
      "state": {
       "_model_module_version": "^1.2.2",
       "_view_module_version": "^1.2.2",
       "data": {
        "altered": 0,
        "cited": 189,
        "id": "PRMT1",
        "importance": 2,
        "isseed": false,
        "isvalid": true,
        "rank": 206,
        "uniprot": "Q99873",
        "uniprotdesc": "Arginine methyltransferase that methylates (mono andasymmetric dimethylation) the guanidino nitrogens of arginylresidues present in proteins such as ESR1, histone H2, H3 and H4,PIAS1, HNRNPA1, HNRNPD, NFATC2IP, SUPT5H, TAF15 and EWS.Constitutes the main enzyme that mediates monomethylation andasymmetric dimethylation of histone H4 'Arg-4' (H4R3me1 andH4R3me2a, respectively), a specific tag for epigenetictranscriptional activation. Together with dimethylated PIAS1,represses STAT1 transcriptional activity, in the late phase ofinterferon gamma (IFN-gamma) signaling. May be involved in theregulation of TAF15 transcriptional activity, act as an activatorof estrogen receptor (ER)-mediated transactivation, play a keyrole in neurite outgrowth and act as a negative regulator ofmegakaryocytic differentiation, by modulating p38 MAPK pathway.Methylates FOXO1 and retains it in the nucleus increasing itstranscriptional activity. "
       },
       "grabbable": true,
       "grabbed": false,
       "position": {
        "x": 993.3033332236423,
        "y": 74.29556703892545
       }
      }
     },
     "82baf0fe41ee4e8eac7d077eb06178f9": {
      "model_module": "jupyter-cytoscape",
      "model_module_version": "^1.2.2",
      "model_name": "NodeModel",
      "state": {
       "_model_module_version": "^1.2.2",
       "_view_module_version": "^1.2.2",
       "data": {
        "altered": 0,
        "cited": 617,
        "id": "HMGB1",
        "importance": 3,
        "isseed": false,
        "isvalid": true,
        "rank": 54,
        "uniprot": "P09429",
        "uniprotdesc": "DNA binding proteins that associates with chromatin andhas the ability to bend DNA. Binds preferentially single-strandedDNA. Involved in V(D)J recombination by acting as a cofactor ofthe RAG complex. Acts by stimulating cleavage and RAG proteinbinding at the 23 bp spacer of conserved recombination signalsequences (RSS). Heparin-binding protein that has a role in theextension of neurite-type cytoplasmic processes in developingcells (By similarity). "
       },
       "grabbable": true,
       "grabbed": false,
       "position": {
        "x": 709.6577990392296,
        "y": 294.73428192193893
       }
      }
     },
     "830e6dc39d9e4fa499e170e122eea2e7": {
      "model_module": "jupyter-cytoscape",
      "model_module_version": "^1.2.2",
      "model_name": "EdgeModel",
      "state": {
       "_model_module_version": "^1.2.2",
       "_view_module_version": "^1.2.2",
       "data": {
        "cited": 46,
        "datasource": [
         "PANTHER"
        ],
        "id": "WRN-controls-state-change-of-TP53",
        "isdirected": true,
        "pubmed": [],
        "source": "WRN",
        "target": "TP53",
        "type": "controls-state-change-of"
       }
      }
     },
     "8330b73c344b44ccba5b8797a4fe08e6": {
      "model_module": "jupyter-cytoscape",
      "model_module_version": "^1.2.2",
      "model_name": "EdgeModel",
      "state": {
       "_model_module_version": "^1.2.2",
       "_view_module_version": "^1.2.2",
       "data": {
        "cited": 2,
        "datasource": [
         "Reactome"
        ],
        "id": "TP53-controls-state-change-of-HIST1H1B",
        "isdirected": true,
        "pubmed": [
         "15621527",
         "15655109",
         "16901784",
         "17158953",
         "17242198",
         "17242207",
         "23964094"
        ],
        "source": "TP53",
        "target": "HIST1H1B",
        "type": "controls-state-change-of"
       }
      }
     },
     "83b071c9a69248b7b58e5a4a34f76e1c": {
      "model_module": "jupyter-cytoscape",
      "model_module_version": "^1.2.2",
      "model_name": "EdgeModel",
      "state": {
       "_model_module_version": "^1.2.2",
       "_view_module_version": "^1.2.2",
       "data": {
        "id": "ff1d9615-3609-473b-b84e-2d8e8057a22f",
        "source": "0",
        "target": "2"
       },
       "selectable": false
      }
     },
     "84be9a812eab40d6b8c9fcc517e6b108": {
      "model_module": "jupyter-cytoscape",
      "model_module_version": "^1.2.2",
      "model_name": "NodeModel",
      "state": {
       "_model_module_version": "^1.2.2",
       "_view_module_version": "^1.2.2",
       "data": {
        "altered": 0,
        "cited": 2074,
        "id": "PRKAA2",
        "importance": 3,
        "isseed": false,
        "isvalid": true,
        "rank": 29,
        "uniprot": "P54646",
        "uniprotdesc": "Catalytic subunit of AMP-activated protein kinase(AMPK), an energy sensor protein kinase that plays a key role inregulating cellular energy metabolism. In response to reduction ofintracellular ATP levels, AMPK activates energy-producing pathwaysand inhibits energy-consuming processes: inhibits protein,carbohydrate and lipid biosynthesis, as well as cell growth andproliferation. AMPK acts via direct phosphorylation of metabolicenzymes, and by longer-term effects via phosphorylation oftranscription regulators. Also acts as a regulator of cellularpolarity by remodeling the actin cytoskeleton; probably byindirectly activating myosin. Regulates lipid synthesis byphosphorylating and inactivating lipid metabolic enzymes such asACACA, ACACB, GYS1, HMGCR and LIPE; regulates fatty acid andcholesterol synthesis by phosphorylating acetyl-CoA carboxylase(ACACA and ACACB) and hormone-sensitive lipase (LIPE) enzymes,respectively. Regulates insulin-signaling and glycolysis byphosphorylating IRS1, PFKFB2 and PFKFB3. AMPK stimulates glucoseuptake in muscle by increasing the translocation of the glucosetransporter SLC2A4/GLUT4 to the plasma membrane, possibly bymediating phosphorylation of TBC1D4/AS160. Regulates transcriptionand chromatin structure by phosphorylating transcriptionregulators involved in energy metabolism such as CRTC2/TORC2,FOXO3, histone H2B, HDAC5, MEF2C, MLXIPL/ChREBP, EP300, HNF4A,p53/TP53, SREBF1, SREBF2 and PPARGC1A. Acts as a key regulator ofglucose homeostasis in liver by phosphorylating CRTC2/TORC2,leading to CRTC2/TORC2 sequestration in the cytoplasm. In responseto stress, phosphorylates 'Ser-36' of histone H2B (H2BS36ph),leading to promote transcription. Acts as a key regulator of cellgrowth and proliferation by phosphorylating TSC2, RPTOR andATG1/ULK1: in response to nutrient limitation, negativelyregulates the mTORC1 complex by phosphorylating RPTOR component ofthe mTORC1 complex and by phosphorylating and activating TSC2. Inresponse to nutrient limitation, promotes autophagy byphosphorylating and activating ATG1/ULK1. AMPK also acts as aregulator of circadian rhythm by mediating phosphorylation ofCRY1, leading to destabilize it. May regulate the Wnt signalingpathway by phosphorylating CTNNB1, leading to stabilize it. Alsophosphorylates CFTR, EEF2K, KLC1, NOS3 and SLC12A1."
       },
       "grabbable": true,
       "grabbed": false,
       "position": {
        "x": 673.6771531026915,
        "y": 18.722087343388303
       }
      }
     },
     "84ff30991dec49348dceb5e97b164913": {
      "model_module": "jupyter-cytoscape",
      "model_module_version": "^1.2.2",
      "model_name": "EdgeModel",
      "state": {
       "_model_module_version": "^1.2.2",
       "_view_module_version": "^1.2.2",
       "data": {
        "cited": 0,
        "datasource": [
         "PANTHER"
        ],
        "id": "MAPK13-controls-state-change-of-TP53",
        "isdirected": true,
        "pubmed": [],
        "source": "MAPK13",
        "target": "TP53",
        "type": "controls-state-change-of"
       }
      }
     },
     "851b2722e93e492baec473001c271bfd": {
      "model_module": "jupyter-cytoscape",
      "model_module_version": "^1.2.2",
      "model_name": "NodeModel",
      "state": {
       "_model_module_version": "^1.2.2",
       "_view_module_version": "^1.2.2",
       "data": {
        "altered": 0,
        "cited": 2298,
        "id": "ATM",
        "importance": 3,
        "isseed": false,
        "isvalid": true,
        "rank": 25,
        "uniprot": "Q13315",
        "uniprotdesc": "Serine/threonine protein kinase which activatescheckpoint signaling upon double strand breaks (DSBs), apoptosisand genotoxic stresses such as ionizing ultraviolet A light (UVA),thereby acting as a DNA damage sensor. Recognizes the substrateconsensus sequence [ST]-Q. Phosphorylates 'Ser-139' of histonevariant H2AX/H2AFX at double strand breaks (DSBs), therebyregulating DNA damage response mechanism. Also plays a role inpre-B cell allelic exclusion, a process leading to expression of asingle immunoglobulin heavy chain allele to enforce clonality andmonospecific recognition by the B-cell antigen receptor (BCR)expressed on individual B-lymphocytes. After the introduction ofDNA breaks by the RAG complex on one immunoglobulin allele, actsby mediating a repositioning of the second allele topericentromeric heterochromatin, preventing accessibility to theRAG complex and recombination of the second allele. Also involvedin signal transduction and cell cycle control. May function as atumor suppressor. Necessary for activation of ABL1 and SAPK.Phosphorylates DYRK2, CHEK2, p53/TP53, FANCD2, NFKBIA, BRCA1,CTIP, nibrin (NBN), TERF1, RAD9 and DCLRE1C. May play a role invesicle and/or protein transport. Could play a role in T-celldevelopment, gonad and neurological function. Plays a role inreplication-dependent histone mRNA degradation. Binds DNA ends.Phosphorylation of DYRK2 in nucleus in response to genotoxicstress prevents its MDM2-mediated ubiquitination and subsequentproteasome degradation. Phosphorylates ATF2 which stimulates itsfunction in DNA damage response. "
       },
       "grabbable": true,
       "grabbed": false,
       "position": {
        "x": 711.2741647901134,
        "y": 245.00063518900393
       }
      }
     },
     "8562f624d18e44adada60f091ebd622f": {
      "model_module": "jupyter-cytoscape",
      "model_module_version": "^1.2.2",
      "model_name": "NodeModel",
      "state": {
       "_model_module_version": "^1.2.2",
       "_view_module_version": "^1.2.2",
       "data": {
        "altered": 0,
        "cited": 6,
        "id": "HIST1H1D",
        "importance": 3,
        "isseed": false,
        "isvalid": true,
        "rank": 184,
        "uniprot": "P16402",
        "uniprotdesc": "Histone H1 protein binds to linker DNA betweennucleosomes forming the macromolecular structure known as thechromatin fiber. Histones H1 are necessary for the condensation ofnucleosome chains into higher-order structured fibers. Acts alsoas a regulator of individual gene transcription through chromatinremodeling, nucleosome spacing and DNA methylation (Bysimilarity). "
       },
       "grabbable": true,
       "grabbed": false,
       "position": {
        "x": 511.27416079011346,
        "y": 242.14655780922382
       }
      }
     },
     "85c7d011c7524d8d89f0b9e329f69ced": {
      "model_module": "jupyter-cytoscape",
      "model_module_version": "^1.2.2",
      "model_name": "EdgeModel",
      "state": {
       "_model_module_version": "^1.2.2",
       "_view_module_version": "^1.2.2",
       "data": {
        "cited": 0,
        "datasource": [
         "pid"
        ],
        "id": "TP53-controls-expression-of-CTSD",
        "isdirected": true,
        "pubmed": [
         "9619826"
        ],
        "source": "TP53",
        "target": "CTSD",
        "type": "controls-expression-of"
       }
      }
     },
     "877fd3bbe69f4b7a9cf1670ecd4facb1": {
      "model_module": "jupyter-cytoscape",
      "model_module_version": "^1.2.2",
      "model_name": "NodeModel",
      "state": {
       "_model_module_version": "^1.2.2",
       "_view_module_version": "^1.2.2",
       "data": {
        "altered": 0,
        "cited": 496,
        "id": "FOS",
        "importance": 3,
        "isseed": false,
        "isvalid": true,
        "rank": 61,
        "uniprot": "P01100",
        "uniprotdesc": "Nuclear phosphoprotein which forms a tight but non-covalently linked complex with the JUN/AP-1 transcription factor.In the heterodimer, FOS and JUN/AP-1 basic regions each seems tointeract with symmetrical DNA half sites. On TGF-beta activation,forms a multimeric SMAD3/SMAD4/JUN/FOS complex at the AP1/SMAD-binding site to regulate TGF-beta-mediated signaling. Has acritical function in regulating the development of cells destinedto form and maintain the skeleton. It is thought to have animportant role in signal transduction, cell proliferation anddifferentiation. In growing cells, activates phospholipidsynthesis, possibly by activating CDS1 and PI4K2A. This activityrequires Tyr-dephosphorylation and association with theendoplasmic reticulum. "
       },
       "grabbable": true,
       "grabbed": false,
       "position": {
        "x": 859.5236539445441,
        "y": -65.10327984726281
       }
      }
     },
     "87b0516a6e304544b55d14268b99b9c9": {
      "model_module": "jupyter-cytoscape",
      "model_module_version": "^1.2.2",
      "model_name": "EdgeModel",
      "state": {
       "_model_module_version": "^1.2.2",
       "_view_module_version": "^1.2.2",
       "data": {
        "cited": 0,
        "datasource": [
         "PANTHER"
        ],
        "id": "MAPK12-controls-state-change-of-TP63",
        "isdirected": true,
        "pubmed": [],
        "source": "MAPK12",
        "target": "TP63",
        "type": "controls-state-change-of"
       }
      }
     },
     "887cdaa5859c46ad899f987e56df7a65": {
      "model_module": "jupyter-cytoscape",
      "model_module_version": "^1.2.2",
      "model_name": "EdgeModel",
      "state": {
       "_model_module_version": "^1.2.2",
       "_view_module_version": "^1.2.2",
       "data": {
        "cited": 0,
        "datasource": [
         "pid"
        ],
        "id": "TP53-controls-expression-of-CTSD",
        "isdirected": true,
        "pubmed": [
         "9619826"
        ],
        "source": "TP53",
        "target": "CTSD",
        "type": "controls-expression-of"
       }
      }
     },
     "88e03abc7fe445f1a34d66e7b5c2fdb0": {
      "model_module": "jupyter-cytoscape",
      "model_module_version": "^1.2.2",
      "model_name": "NodeModel",
      "state": {
       "_model_module_version": "^1.2.2",
       "_view_module_version": "^1.2.2",
       "data": {
        "id": "26",
        "name": "age: 27\nvirus: ncov\n",
        "parent": "parent-1"
       },
       "grabbable": true,
       "grabbed": false,
       "position": {
        "x": 600.8344062128375,
        "y": 350
       },
       "selectable": false
      }
     },
     "899f63192c254bf398f581128d1cc2fe": {
      "model_module": "jupyter-cytoscape",
      "model_module_version": "^1.2.2",
      "model_name": "NodeModel",
      "state": {
       "_model_module_version": "^1.2.2",
       "_view_module_version": "^1.2.2",
       "data": {
        "altered": 0,
        "cited": 628,
        "id": "ATR",
        "importance": 3,
        "isseed": false,
        "isvalid": true,
        "rank": 52,
        "uniprot": "Q13535",
        "uniprotdesc": "Serine/threonine protein kinase which activatescheckpoint signaling upon genotoxic stresses such as ionizingradiation (IR), ultraviolet light (UV), or DNA replicationstalling, thereby acting as a DNA damage sensor. Recognizes thesubstrate consensus sequence [ST]-Q. Phosphorylates BRCA1, CHEK1,MCM2, RAD17, RPA2, SMC1 and p53/TP53, which collectively inhibitDNA replication and mitosis and promote DNA repair, recombinationand apoptosis. Phosphorylates 'Ser-139' of histone variantH2AX/H2AFX at sites of DNA damage, thereby regulating DNA damageresponse mechanism. Required for FANCD2 ubiquitination. Criticalfor maintenance of fragile site stability and efficient regulationof centrosome duplication. "
       },
       "grabbable": true,
       "grabbed": false,
       "position": {
        "x": 811.2741667901133,
        "y": 282.79215043145496
       }
      }
     },
     "8a2624ff75e9496bb6e8520df0970d7e": {
      "model_module": "jupyter-cytoscape",
      "model_module_version": "^1.2.2",
      "model_name": "EdgeModel",
      "state": {
       "_model_module_version": "^1.2.2",
       "_view_module_version": "^1.2.2",
       "data": {
        "cited": 95,
        "datasource": [
         "pid"
        ],
        "id": "TP53-controls-state-change-of-BAX",
        "isdirected": true,
        "pubmed": [
         "14963330"
        ],
        "source": "TP53",
        "target": "BAX",
        "type": "controls-state-change-of"
       }
      }
     },
     "8a3f4018029548d89743f1b28c814e93": {
      "model_module": "jupyter-cytoscape",
      "model_module_version": "^1.2.2",
      "model_name": "EdgeModel",
      "state": {
       "_model_module_version": "^1.2.2",
       "_view_module_version": "^1.2.2",
       "data": {
        "cited": 0,
        "datasource": [
         "PANTHER"
        ],
        "id": "MAPK12-controls-state-change-of-TP53",
        "isdirected": true,
        "pubmed": [],
        "source": "MAPK12",
        "target": "TP53",
        "type": "controls-state-change-of"
       }
      }
     },
     "8bad666b314142a0901b5d0aa1510ce6": {
      "model_module": "jupyter-cytoscape",
      "model_module_version": "^1.2.2",
      "model_name": "NodeModel",
      "state": {
       "_model_module_version": "^1.2.2",
       "_view_module_version": "^1.2.2",
       "data": {
        "altered": 0,
        "cited": 837,
        "id": "CDK5",
        "importance": 3,
        "isseed": false,
        "isvalid": true,
        "rank": 44,
        "uniprot": "Q00535",
        "uniprotdesc": "Proline-directed serine/threonine-protein kinaseessential for neuronal cell cycle arrest and differentiation andmay be involved in apoptotic cell death in neuronal diseases bytriggering abortive cell cycle re-entry. Interacts with D1 and D3-type G1 cyclins. Phosphorylates SRC, NOS3, VIM/vimentin,p35/CDK5R1, MEF2A, SIPA1L1, SH3GLB1, PXN, PAK1, MCAM/MUC18, SEPT5,SYN1, DNM1, AMPH, SYNJ1, CDK16, RAC1, RHOA, CDC42, TONEBP/NFAT5,MAPT/TAU, MAP1B, histone H1, p53/TP53, HDAC1, APEX1, PTK2/FAK1,huntingtin/HTT, ATM, MAP2, NEFH and NEFM. Regulates severalneuronal development and physiological processes includingneuronal survival, migration and differentiation, axonal andneurite growth, synaptogenesis, oligodendrocyte differentiation,synaptic plasticity and neurotransmission, by phosphorylating keyproteins. Activated by interaction with CDK5R1 (p35) and CDK5R2(p39), especially in post-mitotic neurons, and promotes CDK5R1(p35) expression in an autostimulation loop. Phosphorylates manydownstream substrates such as Rho and Ras family small GTPases(e.g. PAK1, RAC1, RHOA, CDC42) or microtubule-binding proteins(e.g. MAPT/TAU, MAP2, MAP1B), and modulates actin dynamics toregulate neurite growth and/or spine morphogenesis. Phosphorylatesalso exocytosis associated proteins such as MCAM/MUC18, SEPT5,SYN1, and CDK16/PCTAIRE1 as well as endocytosis associatedproteins such as DNM1, AMPH and SYNJ1 at synaptic terminals. Inthe mature central nervous system (CNS), regulatesneurotransmitter movements by phosphorylating substratesassociated with neurotransmitter release and synapse plasticity;synaptic vesicle exocytosis, vesicles fusion with the presynapticmembrane, and endocytosis. Promotes cell survival by activatinganti-apoptotic proteins BCL2 and STAT3, and negatively regulatingof JNK3/MAPK10 activity. Phosphorylation of p53/TP53 in responseto genotoxic and oxidative stresses enhances its stabilization bypreventing ubiquitin ligase-mediated proteasomal degradation, andinduces transactivation of p53/TP53 target genes, thus regulatingapoptosis. Phosphorylation of p35/CDK5R1 enhances itsstabilization by preventing calpain-mediated proteolysis producingp25/CDK5R1 and avoiding ubiquitin ligase-mediated proteasomaldegradation. During aberrant cell-cycle activity and DNA damage,p25/CDK5 activity elicits cell-cycle activity and double-strandDNA breaks that precedes neuronal death by deregulating HDAC1. DNAdamage triggered phosphorylation of huntingtin/HTT in nuclei ofneurons protects neurons against polyglutamine expansion as wellas DNA damage mediated toxicity. Phosphorylation of PXN reducesits interaction with PTK2/FAK1 in matrix-cell focal adhesions(MCFA) during oligodendrocytes (OLs) differentiation. Negativeregulator of Wnt/beta-catenin signaling pathway. Activator of theGAIT (IFN-gamma-activated inhibitor of translation) pathway, whichsuppresses expression of a post-transcriptional regulon ofproinflammatory genes in myeloid cells; phosphorylates the linkerdomain of glutamyl-prolyl tRNA synthetase (EPRS) in a IFN-gamma-dependent manner, the initial event in assembly of the GAITcomplex. Phosphorylation of SH3GLB1 is required for autophagyinduction in starved neurons. Phosphorylation of TONEBP/NFAT5 inresponse to osmotic stress mediates its rapid nuclearlocalization. MEF2 is inactivated by phosphorylation in nucleus inresponse to neurotoxin, thus leading to neuronal apoptosis. APEX1AP-endodeoxyribonuclease is repressed by phosphorylation,resulting in accumulation of DNA damage and contributing toneuronal death. NOS3 phosphorylation down regulates NOS3-derivednitrite (NO) levels. SRC phosphorylation mediates its ubiquitin-dependent degradation and thus leads to cytoskeletalreorganization. May regulate endothelial cell migration andangiogenesis via the modulation of lamellipodia formation.Involved in dendritic spine morphogenesis by mediating the EFNA1-EPHA4 signaling. The complex p35/CDK5 participates in theregulation of the circadian clock by modulating the function ofCLOCK protein: phosphorylates CLOCK at 'Thr-451' and 'Thr-461' andregulates the transcriptional activity of the CLOCK-ARNTL/BMAL1heterodimer in association with altered stability and subcellulardistribution. "
       },
       "grabbable": true,
       "grabbed": false,
       "position": {
        "x": 931.2316342823116,
        "y": 302.1805260720825
       }
      }
     },
     "8c9b030724324249976b6264cfbb1aec": {
      "model_module": "jupyter-cytoscape",
      "model_module_version": "^1.2.2",
      "model_name": "EdgeModel",
      "state": {
       "_model_module_version": "^1.2.2",
       "_view_module_version": "^1.2.2",
       "data": {
        "cited": 0,
        "datasource": [
         "PANTHER"
        ],
        "id": "MAPK14-controls-state-change-of-TP63",
        "isdirected": true,
        "pubmed": [],
        "source": "MAPK14",
        "target": "TP63",
        "type": "controls-state-change-of"
       }
      }
     },
     "8cbce7746d00461cbf6e5b60181ae77e": {
      "model_module": "jupyter-cytoscape",
      "model_module_version": "^1.2.2",
      "model_name": "NodeModel",
      "state": {
       "_model_module_version": "^1.2.2",
       "_view_module_version": "^1.2.2",
       "data": {
        "altered": 0,
        "cited": 27,
        "id": "ASF1A",
        "importance": 3,
        "isseed": false,
        "isvalid": true,
        "rank": 161,
        "uniprot": "Q9Y294",
        "uniprotdesc": "Histone chaperone that facilitates histone depositionand histone exchange and removal during nucleosome assembly anddisassembly. Cooperates with chromatin assembly factor 1 (CAF-1)to promote replication-dependent chromatin assembly and with HIRAto promote replication-independent chromatin assembly. Requiredfor the formation of senescence-associated heterochromatin foci(SAHF) and efficient senescence-associated cell cycle exit."
       },
       "grabbable": true,
       "grabbed": false,
       "position": {
        "x": 366.3396217771806,
        "y": 243.04982583257708
       }
      }
     },
     "8cdd29026fe84f03adc5f6fe3830f280": {
      "model_module": "jupyter-cytoscape",
      "model_module_version": "^1.2.2",
      "model_name": "EdgeModel",
      "state": {
       "_model_module_version": "^1.2.2",
       "_view_module_version": "^1.2.2",
       "data": {
        "cited": 5,
        "datasource": [
         "pid"
        ],
        "id": "TP53-controls-expression-of-PRKAB1",
        "isdirected": true,
        "pubmed": [
         "16140933",
         "17409411"
        ],
        "source": "TP53",
        "target": "PRKAB1",
        "type": "controls-expression-of"
       }
      }
     },
     "8d95f561032e423aa36703f5ff041356": {
      "model_module": "jupyter-cytoscape",
      "model_module_version": "^1.2.2",
      "model_name": "NodeModel",
      "state": {
       "_model_module_version": "^1.2.2",
       "_view_module_version": "^1.2.2",
       "data": {
        "id": "23",
        "name": "age: 95\nvirus: ncov\n",
        "parent": "parent-1"
       },
       "grabbable": true,
       "grabbed": false,
       "position": {
        "x": 706.5529415139175,
        "y": 290
       },
       "selectable": false
      }
     },
     "8dd863cc90cc4a31954ae71bae8935fc": {
      "model_module": "jupyter-cytoscape",
      "model_module_version": "^1.2.2",
      "model_name": "EdgeModel",
      "state": {
       "_model_module_version": "^1.2.2",
       "_view_module_version": "^1.2.2",
       "data": {
        "cited": 2,
        "datasource": [
         "pid"
        ],
        "id": "TP53-controls-expression-of-TRIAP1",
        "isdirected": true,
        "pubmed": [
         "15735003"
        ],
        "source": "TP53",
        "target": "TRIAP1",
        "type": "controls-expression-of"
       }
      }
     },
     "8ed4d34d56b1465fae7da5a81b0b8ea5": {
      "model_module": "jupyter-cytoscape",
      "model_module_version": "^1.2.2",
      "model_name": "EdgeModel",
      "state": {
       "_model_module_version": "^1.2.2",
       "_view_module_version": "^1.2.2",
       "data": {
        "cited": 0,
        "datasource": [
         "PANTHER"
        ],
        "id": "MAPK12-controls-state-change-of-TP73",
        "isdirected": true,
        "pubmed": [],
        "source": "MAPK12",
        "target": "TP73",
        "type": "controls-state-change-of"
       }
      }
     },
     "8eedcaf88ca84f078d6aa6b12c220502": {
      "model_module": "jupyter-cytoscape",
      "model_module_version": "^1.2.2",
      "model_name": "EdgeModel",
      "state": {
       "_model_module_version": "^1.2.2",
       "_view_module_version": "^1.2.2",
       "data": {
        "cited": 0,
        "datasource": [
         "PANTHER"
        ],
        "id": "MAPK14-controls-state-change-of-TP73",
        "isdirected": true,
        "pubmed": [],
        "source": "MAPK14",
        "target": "TP73",
        "type": "controls-state-change-of"
       }
      }
     },
     "8f14f2870cee44edb7caeae74bab94fd": {
      "model_module": "jupyter-cytoscape",
      "model_module_version": "^1.2.2",
      "model_name": "EdgeModel",
      "state": {
       "_model_module_version": "^1.2.2",
       "_view_module_version": "^1.2.2",
       "data": {
        "cited": 0,
        "datasource": [
         "pid"
        ],
        "id": "CREBBP-controls-expression-of-GADD45A",
        "isdirected": true,
        "pubmed": [
         "15186775",
         "18250150"
        ],
        "source": "CREBBP",
        "target": "GADD45A",
        "type": "controls-expression-of"
       }
      }
     },
     "8f5ab4ccf31a453c9c3631009be95401": {
      "model_module": "jupyter-cytoscape",
      "model_module_version": "^1.2.2",
      "model_name": "NodeModel",
      "state": {
       "_model_module_version": "^1.2.2",
       "_view_module_version": "^1.2.2",
       "data": {
        "altered": 0,
        "cited": 280,
        "id": "HMGA2",
        "importance": 3,
        "isseed": false,
        "isvalid": true,
        "rank": 82,
        "uniprot": "P52926",
        "uniprotdesc": "Functions as a transcriptional regulator. Functions incell cycle regulation through CCNA2. Plays an important role inchromosome condensation during the meiotic G2/M transition ofspermatocytes. "
       },
       "grabbable": true,
       "grabbed": false,
       "position": {
        "x": 604.2397520993694,
        "y": 92.14655480922384
       }
      }
     },
     "904cd8ec3d754ac68c1b1cb45b0b7106": {
      "model_module": "jupyter-cytoscape",
      "model_module_version": "^1.2.2",
      "model_name": "NodeModel",
      "state": {
       "_model_module_version": "^1.2.2",
       "_view_module_version": "^1.2.2",
       "data": {
        "altered": 0,
        "cited": 20,
        "id": "PCBP4",
        "importance": 3,
        "isseed": false,
        "isvalid": true,
        "rank": 165,
        "uniprot": "P57723",
        "uniprotdesc": "Single-stranded nucleic acid binding protein that bindspreferentially to oligo dC. "
       },
       "grabbable": true,
       "grabbed": false,
       "position": {
        "x": 929.8648783752733,
        "y": 71.70122348533714
       }
      }
     },
     "904d53e927e0427988da2820134dcf2a": {
      "model_module": "jupyter-cytoscape",
      "model_module_version": "^1.2.2",
      "model_name": "NodeModel",
      "state": {
       "_model_module_version": "^1.2.2",
       "_view_module_version": "^1.2.2",
       "data": {
        "altered": 0,
        "cited": 232,
        "id": "GDF15",
        "importance": 3,
        "isseed": false,
        "isvalid": true,
        "rank": 91,
        "uniprot": "Q99988",
        "uniprotdesc": ""
       },
       "grabbable": true,
       "grabbed": false,
       "position": {
        "x": 366.36900711165345,
        "y": 93.04982283257709
       }
      }
     },
     "91c09f6f9e7f4192b3130c7978f11fc4": {
      "model_module": "jupyter-cytoscape",
      "model_module_version": "^1.2.2",
      "model_name": "EdgeModel",
      "state": {
       "_model_module_version": "^1.2.2",
       "_view_module_version": "^1.2.2",
       "data": {
        "cited": 1,
        "datasource": [
         "pid"
        ],
        "id": "FBXO11-controls-state-change-of-NEDD8",
        "isdirected": true,
        "pubmed": [
         "17098746"
        ],
        "source": "FBXO11",
        "target": "NEDD8",
        "type": "controls-state-change-of"
       }
      }
     },
     "91cee38a2beb45278ee6ccbf7f17e426": {
      "model_module": "jupyter-cytoscape",
      "model_module_version": "^1.2.2",
      "model_name": "EdgeModel",
      "state": {
       "_model_module_version": "^1.2.2",
       "_view_module_version": "^1.2.2",
       "data": {
        "cited": 14,
        "datasource": [
         "pid"
        ],
        "id": "TP53-controls-expression-of-BTG2",
        "isdirected": true,
        "pubmed": [
         "11814693"
        ],
        "source": "TP53",
        "target": "BTG2",
        "type": "controls-expression-of"
       }
      }
     },
     "9239bdadeef842fd9317cf975ac50bf2": {
      "model_module": "jupyter-cytoscape",
      "model_module_version": "^1.2.2",
      "model_name": "NodeModel",
      "state": {
       "_model_module_version": "^1.2.2",
       "_view_module_version": "^1.2.2",
       "data": {
        "altered": 0,
        "cited": 146,
        "id": "DAPK3",
        "importance": 3,
        "isseed": false,
        "isvalid": true,
        "rank": 112,
        "uniprot": "O43293",
        "uniprotdesc": "Serine/threonine kinase which is involved in theregulation of apoptosis, autophagy, transcription, translation andactin cytoskeleton reorganization. Involved in the regulation ofsmooth muscle contraction. Regulates both type I (caspase-dependent) apoptotic and type II (caspase-independent) autophagiccell deaths signal, depending on the cellular setting. Involved inregulation of starvation-induced autophagy. Regulates myosinphosphorylation in both smooth muscle and non-muscle cells. Insmooth muscle, regulates myosin either directly by phosphorylatingMYL12B and MYL9 or through inhibition of smooth muscle myosinphosphatase (SMPP1M) via phosphorylation of PPP1R12A; theinhibition of SMPP1M functions to enhance muscle responsiveness toCa(2+) and promote a contractile state. Phosphorylates MYL12B innon-muscle cells leading to reorganization of actin cytoskeleton.Isoform 2 can phosphorylate myosin, PPP1R12A and MYL12B.Overexpression leads to condensation of actin stress fibers intothick bundles. Involved in actin filament focal adhesion dynamics.The function in both reorganization of actin cytoskeleton andfocal adhesion dissolution is modulated by RhoD. Positivelyregulates canonical Wnt/beta-catenin signaling through interactionwith NLK and TCF7L2. Phosphorylates RPL13A on 'Ser-77' uponinterferon-gamma activation which is causing RPL13A release fromthe ribosome, RPL13A association with the GAIT complex and itssubsequent involvement in transcript-selective translationinhibition. Enhances transcription from AR-responsive promoters ina hormone- and kinase-dependent manner. Involved in regulation ofcell cycle progression and cell proliferation. May be a tumorsuppressor. "
       },
       "grabbable": true,
       "grabbed": false,
       "position": {
        "x": 868.2657681311626,
        "y": 332.79215143145495
       }
      }
     },
     "923c51c1c7a8452f93356e102f5ec555": {
      "model_module": "jupyter-cytoscape",
      "model_module_version": "^1.2.2",
      "model_name": "EdgeModel",
      "state": {
       "_model_module_version": "^1.2.2",
       "_view_module_version": "^1.2.2",
       "data": {
        "cited": 0,
        "datasource": [
         "PANTHER"
        ],
        "id": "PPP2CA-controls-state-change-of-TP73",
        "isdirected": true,
        "pubmed": [],
        "source": "PPP2CA",
        "target": "TP73",
        "type": "controls-state-change-of"
       }
      }
     },
     "925fd42469f6443f93b8a39a6bd9cd88": {
      "model_module": "jupyter-cytoscape",
      "model_module_version": "^1.2.2",
      "model_name": "EdgeModel",
      "state": {
       "_model_module_version": "^1.2.2",
       "_view_module_version": "^1.2.2",
       "data": {
        "cited": 47,
        "datasource": [
         "PhosphoSite"
        ],
        "id": "CDK1-controls-state-change-of-TP53",
        "isdirected": true,
        "pubmed": [
         "10644693",
         "10656795",
         "11078726",
         "11300786",
         "11687964",
         "11875057",
         "12021785",
         "12397361",
         "12397362",
         "12860987",
         "1406679",
         "14640983",
         "14702041",
         "14744935",
         "15302935",
         "15619621",
         "16037820",
         "16227590",
         "16552184",
         "16674116",
         "16784539",
         "17287340",
         "17906639",
         "17942552",
         "18521083",
         "18769132",
         "18847512",
         "19413330",
         "19574224",
         "19664995",
         "20363803",
         "20562916",
         "20661218",
         "20686112",
         "20808790",
         "20815410",
         "21659604",
         "21983960",
         "22011578",
         "22496350",
         "22547687",
         "23201157",
         "23312004",
         "25159151",
         "7596441",
         "8327466",
         "9254608"
        ],
        "source": "CDK1",
        "target": "TP53",
        "type": "controls-state-change-of"
       }
      }
     },
     "930ea83f68aa4c58bcab58eb777c77eb": {
      "model_module": "jupyter-cytoscape",
      "model_module_version": "^1.2.2",
      "model_name": "EdgeModel",
      "state": {
       "_model_module_version": "^1.2.2",
       "_view_module_version": "^1.2.2",
       "data": {
        "cited": 0,
        "datasource": [
         "PANTHER"
        ],
        "id": "ATR-controls-state-change-of-TP63",
        "isdirected": true,
        "pubmed": [],
        "source": "ATR",
        "target": "TP63",
        "type": "controls-state-change-of"
       }
      }
     },
     "93192f82fb694a40aded8dd56c2c910f": {
      "model_module": "jupyter-cytoscape",
      "model_module_version": "^1.2.2",
      "model_name": "EdgeModel",
      "state": {
       "_model_module_version": "^1.2.2",
       "_view_module_version": "^1.2.2",
       "data": {
        "cited": 0,
        "datasource": [
         "PANTHER"
        ],
        "id": "PRKAB1-controls-state-change-of-TP73",
        "isdirected": true,
        "pubmed": [],
        "source": "PRKAB1",
        "target": "TP73",
        "type": "controls-state-change-of"
       }
      }
     },
     "931b583dda38485693504cf0b406bbbe": {
      "model_module": "jupyter-cytoscape",
      "model_module_version": "^1.2.2",
      "model_name": "EdgeModel",
      "state": {
       "_model_module_version": "^1.2.2",
       "_view_module_version": "^1.2.2",
       "data": {
        "cited": 5,
        "datasource": [
         "PANTHER"
        ],
        "id": "PPP2CA-controls-state-change-of-TP53",
        "isdirected": true,
        "pubmed": [],
        "source": "PPP2CA",
        "target": "TP53",
        "type": "controls-state-change-of"
       }
      }
     },
     "9371787b7b824b6fb055c6b557bad45f": {
      "model_module": "jupyter-cytoscape",
      "model_module_version": "^1.2.2",
      "model_name": "NodeModel",
      "state": {
       "_model_module_version": "^1.2.2",
       "_view_module_version": "^1.2.2",
       "data": {
        "altered": 0,
        "cited": 275,
        "id": "PRKCA",
        "importance": 3,
        "isseed": false,
        "isvalid": true,
        "rank": 84,
        "uniprot": "P17252",
        "uniprotdesc": "Calcium-activated, phospholipid- and diacylglycerol(DAG)-dependent serine/threonine-protein kinase that is involvedin positive and negative regulation of cell proliferation,apoptosis, differentiation, migration and adhesion, tumorigenesis,cardiac hypertrophy, angiogenesis, platelet function andinflammation, by directly phosphorylating targets such as RAF1,BCL2, CSPG4, TNNT2/CTNT, or activating signaling cascade involvingMAPK1/3 (ERK1/2) and RAP1GAP. Involved in cell proliferation andcell growth arrest by positive and negative regulation of the cellcycle. Can promote cell growth by phosphorylating and activatingRAF1, which mediates the activation of the MAPK/ERK signalingcascade, and/or by up-regulating CDKN1A, which facilitates activecyclin-dependent kinase (CDK) complex formation in glioma cells.In intestinal cells stimulated by the phorbol ester PMA, cantrigger a cell cycle arrest program which is associated with theaccumulation of the hyper-phosphorylated growth-suppressive formof RB1 and induction of the CDK inhibitors CDKN1A and CDKN1B.Exhibits anti-apoptotic function in glioma cells and protects themfrom apoptosis by suppressing the p53/TP53-mediated activation ofIGFBP3, and in leukemia cells mediates anti-apoptotic action byphosphorylating BCL2. During macrophage differentiation induced bymacrophage colony-stimulating factor (CSF1), is translocated tothe nucleus and is associated with macrophage development. Afterwounding, translocates from focal contacts to lamellipodia andparticipates in the modulation of desmosomal adhesion. Plays arole in cell motility by phosphorylating CSPG4, which inducesassociation of CSPG4 with extensive lamellipodia at the cellperiphery and polarization of the cell accompanied by increases incell motility. Is highly expressed in a number of cancer cellswhere it can act as a tumor promoter and is implicated inmalignant phenotypes of several tumors such as gliomas and breastcancers. Negatively regulates myocardial contractility andpositively regulates angiogenesis, platelet aggregation andthrombus formation in arteries. Mediates hypertrophic growth ofneonatal cardiomyocytes, in part through a MAPK1/3 (ERK1/2)-dependent signaling pathway, and upon PMA treatment, is requiredto induce cardiomyocyte hypertrophy up to heart failure and death,by increasing protein synthesis, protein-DNA ratio and cellsurface area. Regulates cardiomyocyte function by phosphorylatingcardiac troponin T (TNNT2/CTNT), which induces significantreduction in actomyosin ATPase activity, myofilament calciumsensitivity and myocardial contractility. In angiogenesis, isrequired for full endothelial cell migration, adhesion tovitronectin (VTN), and vascular endothelial growth factor A(VEGFA)-dependent regulation of kinase activation and vasculartube formation. Involved in the stabilization of VEGFA mRNA atpost-transcriptional level and mediates VEGFA-induced cellproliferation. In the regulation of calcium-induced plateletaggregation, mediates signals from the CD36/GP4 receptor forgranule release, and activates the integrin heterodimer ITGA2B-ITGB3 through the RAP1GAP pathway for adhesion. During response tolipopolysaccharides (LPS), may regulate selective LPS-inducedmacrophage functions involved in host defense and inflammation.But in some inflammatory responses, may negatively regulate NF-kappa-B-induced genes, through IL1A-dependent induction of NF-kappa-B inhibitor alpha (NFKBIA/IKBA). Upon stimulation with 12-O-tetradecanoylphorbol-13-acetate (TPA), phosphorylates EIF4G1,which modulates EIF4G1 binding to MKNK1 and may be involved in theregulation of EIF4E phosphorylation. Phosphorylates KIT, leadingto inhibition of KIT activity. Phosphorylates ATF2 which promotescooperation between ATF2 and JUN, activating transcription."
       },
       "grabbable": true,
       "grabbed": false,
       "position": {
        "x": 858.4764422648069,
        "y": 32.79214543145495
       }
      }
     },
     "93a70982f2864d1a848eafbbc4d040de": {
      "model_module": "jupyter-cytoscape",
      "model_module_version": "^1.2.2",
      "model_name": "CytoscapeModel",
      "state": {
       "_interaction_handlers": {},
       "_model_module_version": "^1.2.2",
       "_view_module_version": "^1.2.2",
       "auto_ungrabify": false,
       "autolock": false,
       "cytoscape_layout": {
        "name": "cola"
       },
       "cytoscape_style": [
        {
         "css": {
          "background-color": "#11479e"
         },
         "selector": "node"
        },
        {
         "css": {
          "background-opacity": 0.333
         },
         "selector": "node:parent"
        },
        {
         "selector": "edge",
         "style": {
          "line-color": "#9dbaea",
          "width": 4
         }
        },
        {
         "selector": "edge.directed",
         "style": {
          "curve-style": "bezier",
          "target-arrow-color": "#9dbaea",
          "target-arrow-shape": "triangle"
         }
        },
        {
         "selector": "edge.multiple_edges",
         "style": {
          "curve-style": "bezier"
         }
        }
       ],
       "desktop_tap_threshold": 4,
       "graph": "IPY_MODEL_220b003e004f4ef5a2f9b3cc24055b66",
       "headless": false,
       "hide_edges_on_viewport": false,
       "layout": "IPY_MODEL_a16edd89114d43949bb77a86dd192f1a",
       "max_zoom": 1e+50,
       "min_zoom": 1e-50,
       "motion_blur": false,
       "motion_blur_opacity": 0.2,
       "panning_enabled": true,
       "pixel_ratio": "auto",
       "rendered_position": {
        "renderedPosition": {
         "x": 100,
         "y": 100
        }
       },
       "selection_type": "single",
       "style_enabled": true,
       "texture_on_viewport": false,
       "tooltip_source": "tooltip",
       "touch_tap_threshold": 8,
       "user_panning_enabled": true,
       "user_zooming_enabled": true,
       "wheel_sensitivity": 1,
       "zoom": 2,
       "zooming_enabled": true
      }
     },
     "93bfa2ec7a644798928a1e7db8d34f24": {
      "model_module": "jupyter-cytoscape",
      "model_module_version": "^1.2.2",
      "model_name": "EdgeModel",
      "state": {
       "_model_module_version": "^1.2.2",
       "_view_module_version": "^1.2.2",
       "data": {
        "cited": 12,
        "datasource": [
         "PhosphoSite"
        ],
        "id": "PRKCA-controls-state-change-of-TP53",
        "isdirected": true,
        "pubmed": [
         "10706102",
         "10733583",
         "11007451",
         "11423984",
         "11585729",
         "12080066",
         "14640983",
         "14744935",
         "15659650",
         "16227590",
         "17898864",
         "18812399",
         "19819244",
         "19933256",
         "9254608",
         "9315650",
         "9571186",
         "9620776",
         "9739174"
        ],
        "source": "PRKCA",
        "target": "TP53",
        "type": "controls-state-change-of"
       }
      }
     },
     "93d25f55b9384e3ba507aab7237807af": {
      "model_module": "jupyter-cytoscape",
      "model_module_version": "^1.2.2",
      "model_name": "EdgeModel",
      "state": {
       "_model_module_version": "^1.2.2",
       "_view_module_version": "^1.2.2",
       "data": {
        "cited": 6,
        "datasource": [
         "pid"
        ],
        "id": "SMYD2-controls-state-change-of-TP53",
        "isdirected": true,
        "pubmed": [
         "17108971"
        ],
        "source": "SMYD2",
        "target": "TP53",
        "type": "controls-state-change-of"
       }
      }
     },
     "9469a4427dc7446a95aac18e33993325": {
      "model_module": "jupyter-cytoscape",
      "model_module_version": "^1.2.2",
      "model_name": "NodeModel",
      "state": {
       "_model_module_version": "^1.2.2",
       "_view_module_version": "^1.2.2",
       "data": {
        "altered": 0,
        "cited": 54,
        "id": "FDXR",
        "importance": 3,
        "isseed": false,
        "isvalid": true,
        "rank": 147,
        "uniprot": "P22570",
        "uniprotdesc": "Serves as the first electron transfer protein in all themitochondrial P450 systems. Including cholesterol side chaincleavage in all steroidogenic tissues, steroid 11-betahydroxylation in the adrenal cortex, 25-OH-vitamin D3-24hydroxylation in the kidney, and sterol C-27 hydroxylation in theliver."
       },
       "grabbable": true,
       "grabbed": false,
       "position": {
        "x": 696.0858074115741,
        "y": -57.790970351916656
       }
      }
     },
     "94af134ccbf048b2ae79ba6d7612af27": {
      "model_module": "jupyter-cytoscape",
      "model_module_version": "^1.2.2",
      "model_name": "EdgeModel",
      "state": {
       "_model_module_version": "^1.2.2",
       "_view_module_version": "^1.2.2",
       "data": {
        "cited": 2,
        "datasource": [
         "Reactome"
        ],
        "id": "TP53-controls-state-change-of-HIST1H1B",
        "isdirected": true,
        "pubmed": [
         "15621527",
         "15655109",
         "16901784",
         "17158953",
         "17242198",
         "17242207",
         "23964094"
        ],
        "source": "TP53",
        "target": "HIST1H1B",
        "type": "controls-state-change-of"
       }
      }
     },
     "94f4d61db455438cbdbbd97a669058de": {
      "model_module": "jupyter-cytoscape",
      "model_module_version": "^1.2.2",
      "model_name": "EdgeModel",
      "state": {
       "_model_module_version": "^1.2.2",
       "_view_module_version": "^1.2.2",
       "data": {
        "cited": 0,
        "datasource": [
         "PANTHER"
        ],
        "id": "CHEK2-controls-state-change-of-TP73",
        "isdirected": true,
        "pubmed": [],
        "source": "CHEK2",
        "target": "TP73",
        "type": "controls-state-change-of"
       }
      }
     },
     "968707bc6f134d03be2a3dff4879d2d8": {
      "model_module": "jupyter-cytoscape",
      "model_module_version": "^1.2.2",
      "model_name": "EdgeModel",
      "state": {
       "_model_module_version": "^1.2.2",
       "_view_module_version": "^1.2.2",
       "data": {
        "cited": 0,
        "datasource": [
         "pid"
        ],
        "id": "MAX-controls-expression-of-TP53",
        "isdirected": true,
        "pubmed": [
         "8494784"
        ],
        "source": "MAX",
        "target": "TP53",
        "type": "controls-expression-of"
       }
      }
     },
     "9703a31df4764156b3dd188970fb8d8a": {
      "model_module": "jupyter-cytoscape",
      "model_module_version": "^1.2.2",
      "model_name": "NodeModel",
      "state": {
       "_model_module_version": "^1.2.2",
       "_view_module_version": "^1.2.2",
       "data": {
        "altered": 0,
        "cited": 351,
        "id": "SP1",
        "importance": 2,
        "isseed": false,
        "isvalid": true,
        "rank": 204,
        "uniprot": "P08047",
        "uniprotdesc": "Transcription factor that can activate or represstranscription in response to physiological and pathologicalstimuli. Binds with high affinity to GC-rich motifs and regulatesthe expression of a large number of genes involved in a variety ofprocesses such as cell growth, apoptosis, differentiation andimmune responses. Highly regulated by post-translationalmodifications (phosphorylations, sumoylation, proteolyticcleavage, glycosylation and acetylation). Binds also the PDGFR-alpha G-box promoter. May have a role in modulating the cellularresponse to DNA damage. Implicated in chromatin remodeling. Playsa role in the recruitment of SMARCA4/BRG1 on the c-FOS promoter.Plays an essential role in the regulation of FE65 gene expression.In complex with ATF7IP, maintains telomerase activity in cancercells by inducing TERT and TERC gene expression. Isoform 3 is astronger activator of transcription than isoform 1. Positivelyregulates the transcription of the core clock componentARNTL/BMAL1. "
       },
       "grabbable": true,
       "grabbed": false,
       "position": {
        "x": 223.31231257568822,
        "y": 219.70765814632992
       }
      }
     },
     "973e90ea99f647febdc03609add1b90b": {
      "model_module": "jupyter-cytoscape",
      "model_module_version": "^1.2.2",
      "model_name": "NodeModel",
      "state": {
       "_model_module_version": "^1.2.2",
       "_view_module_version": "^1.2.2",
       "data": {
        "altered": 0,
        "cited": 278,
        "id": "APAF1",
        "importance": 3,
        "isseed": false,
        "isvalid": true,
        "rank": 83,
        "uniprot": "O14727",
        "uniprotdesc": "Oligomeric Apaf-1 mediates the cytochrome c-dependentautocatalytic activation of pro-caspase-9 (Apaf-3), leading to theactivation of caspase-3 and apoptosis. This activation requiresATP. Isoform 6 is less effective in inducing apoptosis."
       },
       "grabbable": true,
       "grabbed": false,
       "position": {
        "x": 496.0858034115742,
        "y": -69.57643839553772
       }
      }
     },
     "97d50e3fffa845dbb1cfb8f8c9bdf92b": {
      "model_module": "jupyter-cytoscape",
      "model_module_version": "^1.2.2",
      "model_name": "EdgeModel",
      "state": {
       "_model_module_version": "^1.2.2",
       "_view_module_version": "^1.2.2",
       "data": {
        "cited": 0,
        "datasource": [
         "pid"
        ],
        "id": "TP53-controls-expression-of-CASP10",
        "isdirected": true,
        "pubmed": [
         "14688482"
        ],
        "source": "TP53",
        "target": "CASP10",
        "type": "controls-expression-of"
       }
      }
     },
     "97d78be55b134b57b29779cf7200506d": {
      "model_module": "jupyter-cytoscape",
      "model_module_version": "^1.2.2",
      "model_name": "EdgeModel",
      "state": {
       "_model_module_version": "^1.2.2",
       "_view_module_version": "^1.2.2",
       "data": {
        "cited": 18,
        "datasource": [
         "pid"
        ],
        "id": "TP53-controls-expression-of-GDF15",
        "isdirected": true,
        "pubmed": [
         "10618379"
        ],
        "source": "TP53",
        "target": "GDF15",
        "type": "controls-expression-of"
       }
      }
     },
     "986a2befa156404ca926ac58b70ad146": {
      "model_module": "jupyter-cytoscape",
      "model_module_version": "^1.2.2",
      "model_name": "EdgeModel",
      "state": {
       "_model_module_version": "^1.2.2",
       "_view_module_version": "^1.2.2",
       "data": {
        "cited": 1,
        "datasource": [
         "pid"
        ],
        "id": "FBXO11-controls-state-change-of-NEDD8",
        "isdirected": true,
        "pubmed": [
         "17098746"
        ],
        "source": "FBXO11",
        "target": "NEDD8",
        "type": "controls-state-change-of"
       }
      }
     },
     "98974774b4ca44eab5e057173eb87d73": {
      "model_module": "jupyter-cytoscape",
      "model_module_version": "^1.2.2",
      "model_name": "EdgeModel",
      "state": {
       "_model_module_version": "^1.2.2",
       "_view_module_version": "^1.2.2",
       "data": {
        "cited": 102,
        "datasource": [
         "pid"
        ],
        "id": "TP53-controls-expression-of-PML",
        "isdirected": true,
        "pubmed": [
         "14992722"
        ],
        "source": "TP53",
        "target": "PML",
        "type": "controls-expression-of"
       }
      }
     },
     "98e9f48336d44a4b9fb208b22e7f1e95": {
      "model_module": "jupyter-cytoscape",
      "model_module_version": "^1.2.2",
      "model_name": "EdgeModel",
      "state": {
       "_model_module_version": "^1.2.2",
       "_view_module_version": "^1.2.2",
       "data": {
        "cited": 1,
        "datasource": [
         "pid"
        ],
        "id": "TP53-controls-expression-of-COL18A1",
        "isdirected": true,
        "pubmed": [
         "15958553"
        ],
        "source": "TP53",
        "target": "COL18A1",
        "type": "controls-expression-of"
       }
      }
     },
     "9974238554e54178b3597eb20901f0c8": {
      "model_module": "jupyter-cytoscape",
      "model_module_version": "^1.2.2",
      "model_name": "EdgeModel",
      "state": {
       "_model_module_version": "^1.2.2",
       "_view_module_version": "^1.2.2",
       "data": {
        "cited": 0,
        "datasource": [
         "PANTHER"
        ],
        "id": "WRN-controls-state-change-of-TP63",
        "isdirected": true,
        "pubmed": [],
        "source": "WRN",
        "target": "TP63",
        "type": "controls-state-change-of"
       }
      }
     },
     "9a796f99c784441db8ac1e16ba5b1726": {
      "model_module": "jupyter-cytoscape",
      "model_module_version": "^1.2.2",
      "model_name": "NodeModel",
      "state": {
       "_model_module_version": "^1.2.2",
       "_view_module_version": "^1.2.2",
       "data": {
        "altered": 0,
        "cited": 405,
        "id": "HIPK2",
        "importance": 3,
        "isseed": false,
        "isvalid": true,
        "rank": 70,
        "uniprot": "Q9H2X6",
        "uniprotdesc": "Serine/threonine-protein kinase involved intranscription regulation, p53/TP53-mediated cellular apoptosis andregulation of the cell cycle. Acts as a corepressor of severaltranscription factors, including SMAD1 and POU4F1/Brn3a andprobably NK homeodomain transcription factors. PhosphorylatesPDX1, ATF1, PML, p53/TP53, CREB1, CTBP1, CBX4, RUNX1, EP300,CTNNB1, HMGA1 and ZBTB4. Inhibits cell growth and promotesapoptosis through the activation of p53/TP53 both at thetranscription level and at the protein level (by phosphorylationand indirect acetylation). The phosphorylation of p53/TP53 may bemediated by a p53/TP53-HIPK2-AXIN1 complex. Involved in theresponse to hypoxia by acting as a transcriptional co-suppressorof HIF1A. Mediates transcriptional activation of TP73. In responseto TGFB, cooperates with DAXX to activate JNK. Negative regulatorthrough phosphorylation and subsequent proteasomal degradation ofCTNNB1 and the antiapoptotic factor CTBP1. In the Wnt/beta-cateninsignaling pathway acts as an intermediate kinase betweenMAP3K7/TAK1 and NLK to promote the proteasomal degradation of MYB.Phosphorylates CBX4 upon DNA damage and promotes its E3 SUMO-protein ligase activity. Activates CREB1 and ATF1 transcriptionfactors by phosphorylation in response to genotoxic stress. Inresponse to DNA damage, stabilizes PML by phosphorylation. PML,HIPK2 and FBXO3 may act synergically to activate p53/TP53-dependent transactivation. Promotes angiogenesis, and is involvedin erythroid differentiation, especially during fetal livererythropoiesis. Phosphorylation of RUNX1 and EP300 stimulatesEP300 transcription regulation activity. Triggers ZBTB4 proteindegradation in response to DNA damage. Modulates HMGA1 DNA-bindingaffinity. In response to high glucose, triggers phosphorylation-mediated subnuclear localization shifting of PDX1. Involved in theregulation of eye size, lens formation and retinal laminationduring late embryogenesis. "
       },
       "grabbable": true,
       "grabbed": false,
       "position": {
        "x": 566.3396257771806,
        "y": 342.57872214818593
       }
      }
     },
     "9bc5f274e5ad45a58b63ef6c85899d77": {
      "model_module": "jupyter-cytoscape",
      "model_module_version": "^1.2.2",
      "model_name": "EdgeModel",
      "state": {
       "_model_module_version": "^1.2.2",
       "_view_module_version": "^1.2.2",
       "data": {
        "id": "bf50b73c-8f6a-4224-a669-d6c80c81414d",
        "source": "2",
        "target": "3"
       },
       "selectable": false
      }
     },
     "9be7b3d248784f71866ce331e0313500": {
      "model_module": "jupyter-cytoscape",
      "model_module_version": "^1.2.2",
      "model_name": "EdgeModel",
      "state": {
       "_model_module_version": "^1.2.2",
       "_view_module_version": "^1.2.2",
       "data": {
        "cited": 0,
        "datasource": [
         "PANTHER"
        ],
        "id": "PRKAB2-controls-state-change-of-TP53",
        "isdirected": true,
        "pubmed": [],
        "source": "PRKAB2",
        "target": "TP53",
        "type": "controls-state-change-of"
       }
      }
     },
     "9c3c86c7ad6242bf86161597dda0cb1a": {
      "model_module": "jupyter-cytoscape",
      "model_module_version": "^1.2.2",
      "model_name": "EdgeModel",
      "state": {
       "_model_module_version": "^1.2.2",
       "_view_module_version": "^1.2.2",
       "data": {
        "cited": 5,
        "datasource": [
         "Reactome"
        ],
        "id": "TP53-controls-state-change-of-HMGA2",
        "isdirected": true,
        "pubmed": [
         "15621527",
         "15655109",
         "16901784",
         "17158953",
         "17242198",
         "17242207",
         "23964094"
        ],
        "source": "TP53",
        "target": "HMGA2",
        "type": "controls-state-change-of"
       }
      }
     },
     "9c537f6af2d84292bb9a0b444f242ec4": {
      "model_module": "jupyter-cytoscape",
      "model_module_version": "^1.2.2",
      "model_name": "EdgeModel",
      "state": {
       "_model_module_version": "^1.2.2",
       "_view_module_version": "^1.2.2",
       "data": {
        "cited": 101,
        "datasource": [
         "PANTHER"
        ],
        "id": "PML-controls-state-change-of-TP53",
        "isdirected": true,
        "pubmed": [],
        "source": "PML",
        "target": "TP53",
        "type": "controls-state-change-of"
       }
      }
     },
     "9dd6ae9b6c004814ac9a0fbd33bc1be7": {
      "model_module": "jupyter-cytoscape",
      "model_module_version": "^1.2.2",
      "model_name": "EdgeModel",
      "state": {
       "_model_module_version": "^1.2.2",
       "_view_module_version": "^1.2.2",
       "data": {
        "cited": 5,
        "datasource": [
         "Reactome"
        ],
        "id": "TP53-controls-state-change-of-HMGA1",
        "isdirected": true,
        "pubmed": [
         "15621527",
         "15655109",
         "16901784",
         "17158953",
         "17242198",
         "17242207",
         "23964094"
        ],
        "source": "TP53",
        "target": "HMGA1",
        "type": "controls-state-change-of"
       }
      }
     },
     "9ddf9c9aa5d34c9f92931765a462b34c": {
      "model_module": "jupyter-cytoscape",
      "model_module_version": "^1.2.2",
      "model_name": "NodeModel",
      "state": {
       "_model_module_version": "^1.2.2",
       "_view_module_version": "^1.2.2",
       "data": {
        "altered": 0,
        "cited": 198,
        "id": "GADD45A",
        "importance": 3,
        "isseed": false,
        "isvalid": true,
        "rank": 98,
        "uniprot": "P24522",
        "uniprotdesc": "In T-cells, functions as a regulator of p38 MAPKs byinhibiting p88 phosphorylation and activity (By similarity). Mightaffect PCNA interaction with some CDK (cell division proteinkinase) complexes; stimulates DNA excision repair in vitro andinhibits entry of cells into S phase. "
       },
       "grabbable": true,
       "grabbed": false,
       "position": {
        "x": 666.8901389350243,
        "y": 118.99370273531822
       }
      }
     },
     "9e86329290274d9f823f5fd2d9e069ce": {
      "model_module": "jupyter-cytoscape",
      "model_module_version": "^1.2.2",
      "model_name": "NodeModel",
      "state": {
       "_model_module_version": "^1.2.2",
       "_view_module_version": "^1.2.2",
       "data": {
        "altered": 0,
        "cited": 799,
        "id": "SIRT1",
        "importance": 3,
        "isseed": false,
        "isvalid": true,
        "rank": 46,
        "uniprot": "Q96EB6",
        "uniprotdesc": "NAD-dependent protein deacetylase that linkstranscriptional regulation directly to intracellular energeticsand participates in the coordination of several separated cellularfunctions such as cell cycle, response to DNA damage, metobolism,apoptosis and autophagy. Can modulate chromatin function throughdeacetylation of histones and can promote alterations in themethylation of histones and DNA, leading to transcriptionalrepression. Deacetylates a broad range of transcription factorsand coregulators, thereby regulating target gene expressionpositively and negatively. Serves as a sensor of the cytosolicratio of NAD(+)/NADH which is altered by glucose deprivation andmetabolic changes associated with caloric restriction. Isessential in skeletal muscle cell differentiation and in responseto low nutrients mediates the inhibitory effect on skeletalmyoblast differentiation which also involves 5'-AMP-activatedprotein kinase (AMPK) and nicotinamide phosphoribosyltransferase(NAMPT). Component of the eNoSC (energy-dependent nucleolarsilencing) complex, a complex that mediates silencing of rDNA inresponse to intracellular energy status and acts by recruitinghistone-modifying enzymes. The eNoSC complex is able to sense theenergy status of cell: upon glucose starvation, elevation ofNAD(+)/NADP(+) ratio activates SIRT1, leading to histone H3deacetylation followed by dimethylation of H3 at 'Lys-9' (H3K9me2)by SUV39H1 and the formation of silent chromatin in the rDNAlocus. Deacetylates 'Lys-266' of SUV39H1, leading to itsactivation. Inhibits skeletal muscle differentiation bydeacetylating PCAF and MYOD1. Deacetylates H2A and 'Lys-26' ofHIST1H1E. Deacetylates 'Lys-16' of histone H4 (in vitro). Involvedin NR0B2/SHP corepression function through chromatin remodeling:Recruited to LRH1 target gene promoters by NR0B2/SHP therebystimulating histone H3 and H4 deacetylation leading totranscriptional repression. Proposed to contribute to genomicintegrity via positive regulation of telomere length; however,reports on localization to pericentromeric heterochromatin areconflicting. Proposed to play a role in constitutiveheterochromatin (CH) formation and/or maintenance throughregulation of the available pool of nuclear SUV39H1. Uponoxidative/metabolic stress decreases SUV39H1 degradation byinhibiting SUV39H1 polyubiquitination by MDM2. This increase inSUV39H1 levels enhances SUV39H1 turnover in CH, which in turnseems to accelerate renewal of the heterochromatin whichcorrelates with greater genomic integrity during stress response.Deacetylates 'Lys-382' of p53/TP53 and impairs its ability toinduce transcription-dependent proapoptotic program and modulatecell senescence. Deacetylates TAF1B and thereby represses rDNAtranscription by the RNA polymerase I. Deacetylates MYC, promotesthe association of MYC with MAX and decreases MYC stabilityleading to compromised transformational capability. DeacetylatesFOXO3 in response to oxidative stress thereby increasing itsability to induce cell cycle arrest and resistance to oxidativestress but inhibiting FOXO3-mediated induction of apoptosistranscriptional activity; also leading to FOXO3 ubiquitination andprotesomal degradation. Appears to have a similar effect onMLLT7/FOXO4 in regulation of transcriptional activity andapoptosis. Deacetylates DNMT1; thereby impairs DNMT1methyltransferase-independent transcription repressor activity,modulates DNMT1 cell cycle regulatory function and DNMT1-mediatedgene silencing. Deacetylates RELA/NF-kappa-B p65 therebyinhibiting its transactivating potential and augments apoptosis inresponse to TNF-alpha. Deacetylates HIF1A, KAT5/TIP60, RB1 andHIC1. Deacetylates FOXO1 resulting in its nuclear retention andenhancement of its transcriptional activity leading to increasedgluconeogenesis in liver. Inhibits E2F1 transcriptional activityand apoptotic function, possibly by deacetylation. Involved inHES1- and HEY2-mediated transcriptional repression. In cooperationwith MYCN seems to be involved in transcriptional repression ofDUSP6/MAPK3 leading to MYCN stabilization by phosphorylation at'Ser-62'. Deacetylates MEF2D. Required for antagonist-mediatedtranscription suppression of AR-dependent genes which may belinked to local deacetylation of histone H3. Represses HNF1A-mediated transcription. Required for the repression of ESRRG byCREBZF. Modulates AP-1 transcription factor activity. DeacetylatesNR1H3 AND NR1H2 and deacetylation of NR1H3 at 'Lys-434' positivelyregulates transcription of NR1H3:RXR target genes, promotes NR1H3proteosomal degradation and results in cholesterol efflux; apromoter clearing mechanism after reach round of transcription isproposed. Involved in lipid metabolism. Implicated in regulationof adipogenesis and fat mobilization in white adipocytes byrepression of PPARG which probably involves association with NCOR1and SMRT/NCOR2. Deacetylates ACSS2 leading to its activation, andHMGCS1. Involved in liver and muscle metabolism. Throughdeacteylation and activation of PPARGC1A is required to activatefatty acid oxidation in skeletel muscle under low-glucoseconditions and is involved in glucose homeostasis. Involved inregulation of PPARA and fatty acid beta-oxidation in liver.Involved in positive regulation of insulin secretion in pancreaticbeta cells in response to glucose; the function seems to implytranscriptional repression of UCP2. Proposed to deacetylate IRS2thereby facilitating its insulin-induced tyrosine phosphorylation.Deacetylates SREBF1 isoform SREBP-1C thereby decreasing itsstability and transactivation in lipogenic gene expression.Involved in DNA damage response by repressing genes which areinvolved in DNA repair, such as XPC and TP73, deacetylatingXRCC6/Ku70, and faciliting recruitment of additional factors tosites of damaged DNA, such as SIRT1-deacetylated NBN can recruitATM to initiate DNA repair and SIRT1-deacetylated XPA interactswith RPA2. Also involved in DNA repair of DNA double-strand breaksby homologous recombination and specifically single-strandannealing independently of XRCC6/Ku70 and NBN. Transcriptionalsuppression of XPC probably involves an E2F4:RBL2 suppressorcomplex and protein kinase B (AKT) signaling. Transcriptionalsuppression of TP73 probably involves E2F4 and PCAF. DeacetylatesWRN thereby regulating its helicase and exonuclease activities andregulates WRN nuclear translocation in response to DNA damage.Deacetylates APEX1 at 'Lys-6' and 'Lys-7' and stimulates cellularAP endonuclease activity by promoting the association of APEX1 toXRCC1. Increases p53/TP53-mediated transcription-independentapoptosis by blocking nuclear translocation of cytoplasmicp53/TP53 and probably redirecting it to mitochondria. DeacetylatesXRCC6/Ku70 at 'Lys-539' and 'Lys-542' causing it to sequester BAXaway from mitochondria thereby inhibiting stress-inducedapoptosis. Is involved in autophagy, presumably by deacetylatingATG5, ATG7 and MAP1LC3B/ATG8. Deacetylates AKT1 which leads toenhanced binding of AKT1 and PDK1 to PIP3 and promotes theiractivation. Proposed to play role in regulation of STK11/LBK1-dependent AMPK signaling pathways implicated in cellularsenescence which seems to involve the regulation of theacetylation status of STK11/LBK1. Can deacetylate STK11/LBK1 andthereby increase its activity, cytoplasmic localization andassociation with STRAD; however, the relevance of such activity innormal cells is unclear. In endothelial cells is shown to inhibitSTK11/LBK1 activity and to promote its degradation. DeacetylatesSMAD7 at 'Lys-64' and 'Lys-70' thereby promoting its degradation.Deacetylates CIITA and augments its MHC class II transactivationand contributes to its stability. Deacteylates MECOM/EVI1. Isoform2 is shown to deacetylate 'Lys-382' of p53/TP53, however withlower activity than isoform 1. In combination, the two isoformsexert an additive effect. Isoform 2 regulates p53/TP53 expressionand cellular stress response and is in turn repressed by p53/TP53presenting a SIRT1 isoform-dependent auto-regulatory loop. In caseof HIV-1 infection, interacts with and deacetylates the viral Tatprotein. The viral Tat protein inhibits SIRT1 deacetylationactivity toward RELA/NF-kappa-B p65, thereby potentiates itstranscriptional activity and SIRT1 is proposed to contribute to T-cell hyperactivation during infection. Deacetylates PML at 'Lys-487' and this deacetylation promotes PML control of PER2 nuclearlocalization. During the neurogenic transition, repress selectiveNOTCH1-target genes through histone deacetylation in a BCL6-dependent manner and leading to neuronal differentiation.Regulates the circadian expression of several core clock genes,including ARNTL/BMAL1, RORC, PER2 and CRY1 and plays a criticalrole in maintaining a controlled rhythmicity in histoneacetylation, thereby contributing to circadian chromatinremodeling. Deacetylates ARNTL/BMAL1 and histones at the circadiangene promoters in order to facilitate repression by inhibitorycomponents of the circadian oscillator. Deacetylates PER2,facilitating its ubiquitination and degradation by the proteosome.Protects cardiomyocytes against palmitate-induced apoptosis(PubMed:11672523, PubMed:12006491, PubMed:14976264,PubMed:14980222, PubMed:15126506, PubMed:15152190,PubMed:15205477, PubMed:15469825, PubMed:15692560,PubMed:16079181, PubMed:16166628, PubMed:16892051,PubMed:16998810, PubMed:17283066, PubMed:17334224,PubMed:17505061, PubMed:17612497, PubMed:17620057,PubMed:17936707, PubMed:18203716, PubMed:18296641,PubMed:18662546, PubMed:18687677, PubMed:19188449,PubMed:19220062, PubMed:19364925, PubMed:19690166,PubMed:19934257, PubMed:20097625, PubMed:20100829,PubMed:20203304, PubMed:20375098, PubMed:20620956,PubMed:20670893, PubMed:20817729, PubMed:20975832,PubMed:21149730, PubMed:21245319, PubMed:21471201,PubMed:21504832, PubMed:21555002, PubMed:21698133,PubMed:21701047, PubMed:21775285, PubMed:21807113,PubMed:21841822, PubMed:21890893, PubMed:21909281,PubMed:21947282, PubMed:22274616). Deacetylates XBP1 isoform 2;deacetylation decreases protein stability of XBP1 isoform 2 andinhibits its transcriptional activity (By similarity)."
       },
       "grabbable": true,
       "grabbed": false,
       "position": {
        "x": 770.6279655351583,
        "y": 179.17001738497552
       }
      }
     },
     "a12cca0126f04a3e9ff7a03620e0e54b": {
      "model_module": "jupyter-cytoscape",
      "model_module_version": "^1.2.2",
      "model_name": "NodeModel",
      "state": {
       "_model_module_version": "^1.2.2",
       "_view_module_version": "^1.2.2",
       "data": {
        "altered": 0,
        "cited": 11,
        "id": "PRKAG1",
        "importance": 3,
        "isseed": false,
        "isvalid": true,
        "rank": 177,
        "uniprot": "P54619",
        "uniprotdesc": "AMP/ATP-binding subunit of AMP-activated protein kinase(AMPK), an energy sensor protein kinase that plays a key role inregulating cellular energy metabolism. In response to reduction ofintracellular ATP levels, AMPK activates energy-producing pathwaysand inhibits energy-consuming processes: inhibits protein,carbohydrate and lipid biosynthesis, as well as cell growth andproliferation. AMPK acts via direct phosphorylation of metabolicenzymes, and by longer-term effects via phosphorylation oftranscription regulators. Also acts as a regulator of cellularpolarity by remodeling the actin cytoskeleton; probably byindirectly activating myosin. Gamma non-catalytic subunit mediatesbinding to AMP, ADP and ATP, leading to activate or inhibit AMPK:AMP-binding results in allosteric activation of alpha catalyticsubunit (PRKAA1 or PRKAA2) both by inducing phosphorylation andpreventing dephosphorylation of catalytic subunits. ADP alsostimulates phosphorylation, without stimulating alreadyphosphorylated catalytic subunit. ATP promotes dephosphorylationof catalytic subunit, rendering the AMPK enzyme inactive."
       },
       "grabbable": true,
       "grabbed": false,
       "position": {
        "x": 697.8622145226655,
        "y": 345.00063718900384
       }
      }
     },
     "a16edd89114d43949bb77a86dd192f1a": {
      "model_module": "@jupyter-widgets/base",
      "model_module_version": "1.2.0",
      "model_name": "LayoutModel",
      "state": {}
     },
     "a1c872cb72e64cc087187d16b2e68973": {
      "model_module": "jupyter-cytoscape",
      "model_module_version": "^1.2.2",
      "model_name": "EdgeModel",
      "state": {
       "_model_module_version": "^1.2.2",
       "_view_module_version": "^1.2.2",
       "data": {
        "cited": 22,
        "datasource": [
         "pid"
        ],
        "id": "TP53-controls-expression-of-HIC1",
        "isdirected": true,
        "pubmed": [
         "16301995"
        ],
        "source": "TP53",
        "target": "HIC1",
        "type": "controls-expression-of"
       }
      }
     },
     "a23ec19ab053429cbb1a4536e24d563c": {
      "model_module": "jupyter-cytoscape",
      "model_module_version": "^1.2.2",
      "model_name": "NodeModel",
      "state": {
       "_model_module_version": "^1.2.2",
       "_view_module_version": "^1.2.2",
       "data": {
        "altered": 0,
        "cited": 7063,
        "id": "SERPINE1",
        "importance": 3,
        "isseed": false,
        "isvalid": true,
        "rank": 5,
        "uniprot": "P05121",
        "uniprotdesc": "Serine protease inhibitor. This inhibitor acts as 'bait'for tissue plasminogen activator, urokinase, protein C andmatriptase-3/TMPRSS7. Its rapid interaction with PLAT may functionas a major control point in the regulation of fibrinolysis."
       },
       "grabbable": true,
       "grabbed": false,
       "position": {
        "x": 796.0858094115741,
        "y": -86.12434193315114
       }
      }
     },
     "a3a628d1483a4336ae18fd8ba6a8d9fa": {
      "model_module": "jupyter-cytoscape",
      "model_module_version": "^1.2.2",
      "model_name": "EdgeModel",
      "state": {
       "_model_module_version": "^1.2.2",
       "_view_module_version": "^1.2.2",
       "data": {
        "cited": 13,
        "datasource": [
         "pid"
        ],
        "id": "PPP1R13L-controls-state-change-of-TP53",
        "isdirected": true,
        "pubmed": [
         "10581258",
         "11740489",
         "11780126",
         "16377624",
         "17349958",
         "17906639"
        ],
        "source": "PPP1R13L",
        "target": "TP53",
        "type": "controls-state-change-of"
       }
      }
     },
     "a3fd532a38924fb899bdd0a11a95a33d": {
      "model_module": "jupyter-cytoscape",
      "model_module_version": "^1.2.2",
      "model_name": "EdgeModel",
      "state": {
       "_model_module_version": "^1.2.2",
       "_view_module_version": "^1.2.2",
       "data": {
        "cited": 0,
        "datasource": [
         "PANTHER"
        ],
        "id": "PRKAG1-controls-state-change-of-TP63",
        "isdirected": true,
        "pubmed": [],
        "source": "PRKAG1",
        "target": "TP63",
        "type": "controls-state-change-of"
       }
      }
     },
     "a500e73fc91749eca39160b9b6c5848e": {
      "model_module": "jupyter-cytoscape",
      "model_module_version": "^1.2.2",
      "model_name": "EdgeModel",
      "state": {
       "_model_module_version": "^1.2.2",
       "_view_module_version": "^1.2.2",
       "data": {
        "cited": 0,
        "datasource": [
         "PANTHER"
        ],
        "id": "PPP2CA-controls-state-change-of-TP73",
        "isdirected": true,
        "pubmed": [],
        "source": "PPP2CA",
        "target": "TP73",
        "type": "controls-state-change-of"
       }
      }
     },
     "a52cb748ecfb48babb667f1aea9d645c": {
      "model_module": "jupyter-cytoscape",
      "model_module_version": "^1.2.2",
      "model_name": "NodeModel",
      "state": {
       "_model_module_version": "^1.2.2",
       "_view_module_version": "^1.2.2",
       "data": {
        "altered": 0,
        "cited": 448,
        "id": "CDK9",
        "importance": 3,
        "isseed": false,
        "isvalid": true,
        "rank": 66,
        "uniprot": "P50750",
        "uniprotdesc": "Protein kinase involved in the regulation oftranscription. Member of the cyclin-dependent kinase pair(CDK9/cyclin-T) complex, also called positive transcriptionelongation factor b (P-TEFb), which facilitates the transitionfrom abortive to productive elongation by phosphorylating the CTD(C-terminal domain) of the large subunit of RNA polymerase II(RNAP II) POLR2A, SUPT5H and RDBP. This complex is inactive whenin the 7SK snRNP complex form. Phosphorylates EP300, MYOD1,RPB1/POLR2A and AR, and the negative elongation factors DSIF andNELF. Regulates cytokine inducible transcription networks byfacilitating promoter recognition of target transcription factors(e.g. TNF-inducible RELA/p65 activation and IL-6-inducible STAT3signaling). Promotes RNA synthesis in genetic programs for cellgrowth, differentiation and viral pathogenesis. P-TEFb is alsoinvolved in cotranscriptional histone modification, mRNAprocessing and mRNA export. Modulates a complex network ofchromatin modifications including histone H2B monoubiquitination(H2Bub1), H3 lysine 4 trimethylation (H3K4me3) and H3K36me3;integrates phosphorylation during transcription with chromatinmodifications to control co-transcriptional histone mRNAprocessing. The CDK9/cyclin-K complex has also a kinase activitytowards CTD of RNAP II and can substitute for CDK9/cyclin-T P-TEFbin vitro. Replication stress response protein; the CDK9/cyclin-Kcomplex is required for genome integrity maintenance, by promotingcell cycle recovery from replication arrest and limiting single-stranded DNA amount in response to replication stress, thusreducing the breakdown of stalled replication forks and avoidingDNA damage. In addition, probable function in DNA repair ofisoform 2 via interaction with KU70/XRCC6. Promotes cardiacmyocyte enlargement. RPB1/POLR2A phosphorylation on 'Ser-2' in CTDactivates transcription. AR phosphorylation modulates ARtranscription factor promoter selectivity and cell growth. DSIFand NELF phosphorylation promotes transcription by inhibitingtheir negative effect. The phosphorylation of MYOD1 enhances itstranscriptional activity and thus promotes muscle differentiation."
       },
       "grabbable": true,
       "grabbed": false,
       "position": {
        "x": 906.0994441577423,
        "y": 138.8443569932413
       }
      }
     },
     "a534499306774e3d91cb3a83fd4d5902": {
      "model_module": "jupyter-cytoscape",
      "model_module_version": "^1.2.2",
      "model_name": "EdgeModel",
      "state": {
       "_model_module_version": "^1.2.2",
       "_view_module_version": "^1.2.2",
       "data": {
        "cited": 0,
        "datasource": [
         "PANTHER"
        ],
        "id": "WRN-controls-state-change-of-TP63",
        "isdirected": true,
        "pubmed": [],
        "source": "WRN",
        "target": "TP63",
        "type": "controls-state-change-of"
       }
      }
     },
     "a58c222f67a5491e96d5c28446c6087b": {
      "model_module": "jupyter-cytoscape",
      "model_module_version": "^1.2.2",
      "model_name": "EdgeModel",
      "state": {
       "_model_module_version": "^1.2.2",
       "_view_module_version": "^1.2.2",
       "data": {
        "cited": 1,
        "datasource": [
         "Reactome"
        ],
        "id": "TP53-controls-state-change-of-ASF1A",
        "isdirected": true,
        "pubmed": [
         "15621527",
         "15655109",
         "16901784",
         "17158953",
         "17242198",
         "17242207",
         "23964094"
        ],
        "source": "TP53",
        "target": "ASF1A",
        "type": "controls-state-change-of"
       }
      }
     },
     "a67a4ec51f504460ab6283d1e30400f9": {
      "model_module": "jupyter-cytoscape",
      "model_module_version": "^1.2.2",
      "model_name": "EdgeModel",
      "state": {
       "_model_module_version": "^1.2.2",
       "_view_module_version": "^1.2.2",
       "data": {
        "cited": 0,
        "datasource": [
         "Reactome"
        ],
        "id": "TP53-controls-state-change-of-HIST1H1D",
        "isdirected": true,
        "pubmed": [
         "15621527",
         "15655109",
         "16901784",
         "17158953",
         "17242198",
         "17242207",
         "23964094"
        ],
        "source": "TP53",
        "target": "HIST1H1D",
        "type": "controls-state-change-of"
       }
      }
     },
     "a7dc3041ec0a40a6a548d25b8859cbd7": {
      "model_module": "jupyter-cytoscape",
      "model_module_version": "^1.2.2",
      "model_name": "NodeModel",
      "state": {
       "_model_module_version": "^1.2.2",
       "_view_module_version": "^1.2.2",
       "data": {
        "altered": 0,
        "cited": 147,
        "id": "HMGA1",
        "importance": 3,
        "isseed": false,
        "isvalid": true,
        "rank": 111,
        "uniprot": "P17096",
        "uniprotdesc": "HMG-I/Y bind preferentially to the minor groove of A+Trich regions in double-stranded DNA. It is suggested that theseproteins could function in nucleosome phasing and in the 3'-endprocessing of mRNA transcripts. They are also involved in thetranscription regulation of genes containing, or in closeproximity to A+T-rich regions."
       },
       "grabbable": true,
       "grabbed": false,
       "position": {
        "x": 523.6771501026914,
        "y": 63.3963307795212
       }
      }
     },
     "a837a95ff23a4a959cdd3a2c5420a8e0": {
      "model_module": "jupyter-cytoscape",
      "model_module_version": "^1.2.2",
      "model_name": "NodeModel",
      "state": {
       "_model_module_version": "^1.2.2",
       "_view_module_version": "^1.2.2",
       "data": {
        "altered": 0,
        "cited": 30,
        "id": "COL18A1",
        "importance": 3,
        "isseed": false,
        "isvalid": true,
        "rank": 157,
        "uniprot": "P39060",
        "uniprotdesc": "COLA18A probably plays a major role in determining theretinal structure as well as in the closure of the neural tube.Endostatin potently inhibits endothelial cellproliferation and angiogenesis. May inhibit angiogenesis bybinding to the heparan sulfate proteoglycans involved in growthfactor signaling."
       },
       "grabbable": true,
       "grabbed": false,
       "position": {
        "x": 446.24073722528783,
        "y": 132.67665828479494
       }
      }
     },
     "a8736d3af984467c9f9e496bc077cfc1": {
      "model_module": "jupyter-cytoscape",
      "model_module_version": "^1.2.2",
      "model_name": "EdgeModel",
      "state": {
       "_model_module_version": "^1.2.2",
       "_view_module_version": "^1.2.2",
       "data": {
        "cited": 0,
        "datasource": [
         "PANTHER"
        ],
        "id": "MAPK11-controls-state-change-of-TP63",
        "isdirected": true,
        "pubmed": [],
        "source": "MAPK11",
        "target": "TP63",
        "type": "controls-state-change-of"
       }
      }
     },
     "a8f14097718d4f49866183f08e9c2a86": {
      "model_module": "jupyter-cytoscape",
      "model_module_version": "^1.2.2",
      "model_name": "EdgeModel",
      "state": {
       "_model_module_version": "^1.2.2",
       "_view_module_version": "^1.2.2",
       "data": {
        "cited": 0,
        "datasource": [
         "PANTHER"
        ],
        "id": "PRKAA2-controls-state-change-of-TP73",
        "isdirected": true,
        "pubmed": [],
        "source": "PRKAA2",
        "target": "TP73",
        "type": "controls-state-change-of"
       }
      }
     },
     "ab052a3c5f4b44659c7ff64da6532976": {
      "model_module": "jupyter-cytoscape",
      "model_module_version": "^1.2.2",
      "model_name": "NodeModel",
      "state": {
       "_model_module_version": "^1.2.2",
       "_view_module_version": "^1.2.2",
       "data": {
        "altered": 0,
        "cited": 60,
        "id": "RFWD2",
        "importance": 3,
        "isseed": false,
        "isvalid": true,
        "rank": 143,
        "uniprot": "Q8NHY2",
        "uniprotdesc": "E3 ubiquitin-protein ligase that mediates ubiquitinationand subsequent proteasomal degradation of target proteins. E3ubiquitin ligases accept ubiquitin from an E2 ubiquitin-conjugating enzyme in the form of a thioester and then directlytransfers the ubiquitin to targeted substrates. Involved in JUNubiquitination and degradation. Directly involved in p53 (TP53)ubiquitination and degradation, thereby abolishing p53-dependenttranscription and apoptosis. Ubiquitinates p53 independently ofMDM2 or RCHY1. Probably mediates E3 ubiquitin ligase activity byfunctioning as the essential RING domain subunit of larger E3complexes. In contrast, it does not constitute the catalytic RINGsubunit in the DCX DET1-COP1 complex that negatively regulatesJUN, the ubiquitin ligase activity being mediated by RBX1.Involved in 14-3-3 protein sigma/SFN ubiquitination andproteasomal degradation, leading to AKT activation and promotionof cell survival. Ubiquitinates MTA1 leading to its proteasomaldegradation. "
       },
       "grabbable": true,
       "grabbed": false,
       "position": {
        "x": 766.3396297771806,
        "y": 380.31866235939896
       }
      }
     },
     "ab70871719844234977e41719eaef650": {
      "model_module": "jupyter-cytoscape",
      "model_module_version": "^1.2.2",
      "model_name": "NodeModel",
      "state": {
       "_model_module_version": "^1.2.2",
       "_view_module_version": "^1.2.2",
       "data": {
        "altered": 0,
        "cited": 54,
        "id": "FDXR",
        "importance": 3,
        "isseed": false,
        "isvalid": true,
        "rank": 147,
        "uniprot": "P22570",
        "uniprotdesc": "Serves as the first electron transfer protein in all themitochondrial P450 systems. Including cholesterol side chaincleavage in all steroidogenic tissues, steroid 11-betahydroxylation in the adrenal cortex, 25-OH-vitamin D3-24hydroxylation in the kidney, and sterol C-27 hydroxylation in theliver."
       },
       "grabbable": true,
       "grabbed": false,
       "position": {
        "x": 709.5236509445441,
        "y": -60.54598932191224
       }
      }
     },
     "ac34ddda3cf246c49e58532bbe7df60f": {
      "model_module": "jupyter-cytoscape",
      "model_module_version": "^1.2.2",
      "model_name": "NodeModel",
      "state": {
       "_model_module_version": "^1.2.2",
       "_view_module_version": "^1.2.2",
       "data": {
        "altered": 0,
        "cited": 2074,
        "id": "PRKAA2",
        "importance": 3,
        "isseed": false,
        "isvalid": true,
        "rank": 29,
        "uniprot": "P54646",
        "uniprotdesc": "Catalytic subunit of AMP-activated protein kinase(AMPK), an energy sensor protein kinase that plays a key role inregulating cellular energy metabolism. In response to reduction ofintracellular ATP levels, AMPK activates energy-producing pathwaysand inhibits energy-consuming processes: inhibits protein,carbohydrate and lipid biosynthesis, as well as cell growth andproliferation. AMPK acts via direct phosphorylation of metabolicenzymes, and by longer-term effects via phosphorylation oftranscription regulators. Also acts as a regulator of cellularpolarity by remodeling the actin cytoskeleton; probably byindirectly activating myosin. Regulates lipid synthesis byphosphorylating and inactivating lipid metabolic enzymes such asACACA, ACACB, GYS1, HMGCR and LIPE; regulates fatty acid andcholesterol synthesis by phosphorylating acetyl-CoA carboxylase(ACACA and ACACB) and hormone-sensitive lipase (LIPE) enzymes,respectively. Regulates insulin-signaling and glycolysis byphosphorylating IRS1, PFKFB2 and PFKFB3. AMPK stimulates glucoseuptake in muscle by increasing the translocation of the glucosetransporter SLC2A4/GLUT4 to the plasma membrane, possibly bymediating phosphorylation of TBC1D4/AS160. Regulates transcriptionand chromatin structure by phosphorylating transcriptionregulators involved in energy metabolism such as CRTC2/TORC2,FOXO3, histone H2B, HDAC5, MEF2C, MLXIPL/ChREBP, EP300, HNF4A,p53/TP53, SREBF1, SREBF2 and PPARGC1A. Acts as a key regulator ofglucose homeostasis in liver by phosphorylating CRTC2/TORC2,leading to CRTC2/TORC2 sequestration in the cytoplasm. In responseto stress, phosphorylates 'Ser-36' of histone H2B (H2BS36ph),leading to promote transcription. Acts as a key regulator of cellgrowth and proliferation by phosphorylating TSC2, RPTOR andATG1/ULK1: in response to nutrient limitation, negativelyregulates the mTORC1 complex by phosphorylating RPTOR component ofthe mTORC1 complex and by phosphorylating and activating TSC2. Inresponse to nutrient limitation, promotes autophagy byphosphorylating and activating ATG1/ULK1. AMPK also acts as aregulator of circadian rhythm by mediating phosphorylation ofCRY1, leading to destabilize it. May regulate the Wnt signalingpathway by phosphorylating CTNNB1, leading to stabilize it. Alsophosphorylates CFTR, EEF2K, KLC1, NOS3 and SLC12A1."
       },
       "grabbable": true,
       "grabbed": false,
       "position": {
        "x": 670.6279635351583,
        "y": 18.993700735318217
       }
      }
     },
     "ac85e7cbffdf429a8f393e7d44a2e2cf": {
      "model_module": "jupyter-cytoscape",
      "model_module_version": "^1.2.2",
      "model_name": "NodeModel",
      "state": {
       "_model_module_version": "^1.2.2",
       "_view_module_version": "^1.2.2",
       "data": {
        "altered": 0,
        "cited": 621,
        "id": "WRN",
        "importance": 3,
        "isseed": false,
        "isvalid": true,
        "rank": 53,
        "uniprot": "Q14191",
        "uniprotdesc": "Multifunctional enzyme that has both magnesium and ATP-dependent DNA-helicase activity and 3'->5' exonuclease activitytowards double-stranded DNA with a 5'-overhang. Has no nucleaseactivity towards single-stranded DNA or blunt-ended double-stranded DNA. Binds preferentially to DNA substrates containingalternate secondary structures, such as replication forks andHolliday junctions. May play an important role in the dissociationof joint DNA molecules that can arise as products of homologousrecombination, at stalled replication forks or during DNA repair.Alleviates stalling of DNA polymerases at the site of DNA lesions.Important for genomic integrity. Plays a role in the formation ofDNA replication focal centers; stably associates with focielements generating binding sites for RP-A (By similarity). Playsa role in double-strand break repair after gamma-irradiation."
       },
       "grabbable": true,
       "grabbed": false,
       "position": {
        "x": 821.3707750410628,
        "y": 338.8443609932413
       }
      }
     },
     "acd2e22ff2374ef8948e987d89d104c7": {
      "model_module": "jupyter-cytoscape",
      "model_module_version": "^1.2.2",
      "model_name": "NodeModel",
      "state": {
       "_model_module_version": "^1.2.2",
       "_view_module_version": "^1.2.2",
       "data": {
        "altered": 0,
        "cited": 19,
        "id": "HIST1H1E",
        "importance": 3,
        "isseed": false,
        "isvalid": true,
        "rank": 167,
        "uniprot": "P10412",
        "uniprotdesc": "Histone H1 protein binds to linker DNA betweennucleosomes forming the macromolecular structure known as thechromatin fiber. Histones H1 are necessary for the condensation ofnucleosome chains into higher-order structured fibers. Acts alsoas a regulator of individual gene transcription through chromatinremodeling, nucleosome spacing and DNA methylation (Bysimilarity). "
       },
       "grabbable": true,
       "grabbed": false,
       "position": {
        "x": 559.6577960392297,
        "y": 295.9204648705627
       }
      }
     },
     "acde6979dae64e5293050c786e59c469": {
      "model_module": "jupyter-cytoscape",
      "model_module_version": "^1.2.2",
      "model_name": "NodeModel",
      "state": {
       "_model_module_version": "^1.2.2",
       "_view_module_version": "^1.2.2",
       "data": {
        "altered": 0,
        "cited": 6,
        "id": "HIST1H1D",
        "importance": 3,
        "isseed": false,
        "isvalid": true,
        "rank": 184,
        "uniprot": "P16402",
        "uniprotdesc": "Histone H1 protein binds to linker DNA betweennucleosomes forming the macromolecular structure known as thechromatin fiber. Histones H1 are necessary for the condensation ofnucleosome chains into higher-order structured fibers. Acts alsoas a regulator of individual gene transcription through chromatinremodeling, nucleosome spacing and DNA methylation (Bysimilarity). "
       },
       "grabbable": true,
       "grabbed": false,
       "position": {
        "x": 509.6577950392297,
        "y": 245.92046387056268
       }
      }
     },
     "ad3997f6bda44a20bb1f94e267433254": {
      "model_module": "jupyter-cytoscape",
      "model_module_version": "^1.2.2",
      "model_name": "EdgeModel",
      "state": {
       "_model_module_version": "^1.2.2",
       "_view_module_version": "^1.2.2",
       "data": {
        "cited": 257,
        "datasource": [
         "pid"
        ],
        "id": "TP53-controls-expression-of-TP63",
        "isdirected": true,
        "pubmed": [
         "14576823"
        ],
        "source": "TP53",
        "target": "TP63",
        "type": "controls-expression-of"
       }
      }
     },
     "adb549136d8847239f13f1dbf46a95c6": {
      "model_module": "jupyter-cytoscape",
      "model_module_version": "^1.2.2",
      "model_name": "NodeModel",
      "state": {
       "_model_module_version": "^1.2.2",
       "_view_module_version": "^1.2.2",
       "data": {
        "altered": 0,
        "cited": 473,
        "id": "CASP1",
        "importance": 3,
        "isseed": false,
        "isvalid": true,
        "rank": 64,
        "uniprot": "P29466",
        "uniprotdesc": "Thiol protease that cleaves IL-1 beta between an Asp andan Ala, releasing the mature cytokine which is involved in avariety of inflammatory processes. Important for defense againstpathogens. Cleaves and activates sterol regulatory element bindingproteins (SREBPs). Can also promote apoptosis."
       },
       "grabbable": true,
       "grabbed": false,
       "position": {
        "x": 859.5236539445441,
        "y": -11.155646006758701
       }
      }
     },
     "adbdac502a9040b1b9ee7a595868bf6d": {
      "model_module": "jupyter-cytoscape",
      "model_module_version": "^1.2.2",
      "model_name": "EdgeModel",
      "state": {
       "_model_module_version": "^1.2.2",
       "_view_module_version": "^1.2.2",
       "data": {
        "cited": 0,
        "datasource": [
         "PANTHER"
        ],
        "id": "PRKAG1-controls-state-change-of-TP53",
        "isdirected": true,
        "pubmed": [],
        "source": "PRKAG1",
        "target": "TP53",
        "type": "controls-state-change-of"
       }
      }
     },
     "ae71f36137d5480f8c7bc64b76f23c74": {
      "model_module": "jupyter-cytoscape",
      "model_module_version": "^1.2.2",
      "model_name": "NodeModel",
      "state": {
       "_model_module_version": "^1.2.2",
       "_view_module_version": "^1.2.2",
       "data": {
        "id": "1",
        "name": "age: 87\nvirus: ncov\n",
        "parent": "parent-0"
       },
       "grabbable": true,
       "grabbed": false,
       "position": {
        "x": 581.5785379731286,
        "y": 10.507177924263432
       },
       "selectable": false
      }
     },
     "aeb729c6959b4d95880f9f0a95f66035": {
      "model_module": "jupyter-cytoscape",
      "model_module_version": "^1.2.2",
      "model_name": "NodeModel",
      "state": {
       "_model_module_version": "^1.2.2",
       "_view_module_version": "^1.2.2",
       "data": {
        "cited": 0,
        "datasource": [
         "Reactome"
        ],
        "id": "TP53-controls-state-change-of-H1F0",
        "isdirected": true,
        "pubmed": [
         "15621527",
         "15655109",
         "16901784",
         "17158953",
         "17242198",
         "17242207",
         "23964094"
        ],
        "source": "TP53",
        "target": "H1F0",
        "type": "controls-state-change-of"
       },
       "grabbable": true,
       "grabbed": false,
       "position": {
        "x": 542.8136264004671,
        "y": 492.84026719321673
       },
       "selectable": false
      }
     },
     "aedc70596e414e34a558680333d06f58": {
      "model_module": "jupyter-cytoscape",
      "model_module_version": "^1.2.2",
      "model_name": "NodeModel",
      "state": {
       "_model_module_version": "^1.2.2",
       "_view_module_version": "^1.2.2",
       "data": {
        "altered": 0,
        "cited": 39,
        "id": "TP53I3",
        "importance": 3,
        "isseed": false,
        "isvalid": true,
        "rank": 152,
        "uniprot": "Q53FA7",
        "uniprotdesc": "May be involved in the generation of reactive oxygenspecies (ROS). Has low NADPH-dependent beta-naphthoquinonereductase activity, with a preference for 1,2-beta-naphthoquinoneover 1,4-beta-naphthoquinone. Has low NADPH-dependent diaminereductase activity (in vitro). "
       },
       "grabbable": true,
       "grabbed": false,
       "position": {
        "x": 759.5236519445442,
        "y": -99.078200185306
       }
      }
     },
     "af071721476342d9b75f9e6cfdbb3ef1": {
      "model_module": "jupyter-cytoscape",
      "model_module_version": "^1.2.2",
      "model_name": "EdgeModel",
      "state": {
       "_model_module_version": "^1.2.2",
       "_view_module_version": "^1.2.2",
       "data": {
        "cited": 0,
        "datasource": [
         "PANTHER"
        ],
        "id": "PRKAA1-controls-state-change-of-TP73",
        "isdirected": true,
        "pubmed": [],
        "source": "PRKAA1",
        "target": "TP73",
        "type": "controls-state-change-of"
       }
      }
     },
     "afe6c2791db1496aa0617c1b67217ca4": {
      "model_module": "jupyter-cytoscape",
      "model_module_version": "^1.2.2",
      "model_name": "EdgeModel",
      "state": {
       "_model_module_version": "^1.2.2",
       "_view_module_version": "^1.2.2",
       "data": {
        "cited": 0,
        "datasource": [
         "PANTHER"
        ],
        "id": "PRKAB1-controls-state-change-of-TP63",
        "isdirected": true,
        "pubmed": [],
        "source": "PRKAB1",
        "target": "TP63",
        "type": "controls-state-change-of"
       }
      }
     },
     "afe944d46cc94c1fb96c8795b5a7813d": {
      "model_module": "jupyter-cytoscape",
      "model_module_version": "^1.2.2",
      "model_name": "EdgeModel",
      "state": {
       "_model_module_version": "^1.2.2",
       "_view_module_version": "^1.2.2",
       "data": {
        "cited": 0,
        "datasource": [
         "pid"
        ],
        "id": "PRMT1-controls-expression-of-GADD45A",
        "isdirected": true,
        "pubmed": [
         "15186775",
         "18250150"
        ],
        "source": "PRMT1",
        "target": "GADD45A",
        "type": "controls-expression-of"
       }
      }
     },
     "b0883d5604994bbcbb02ba7bfd726f00": {
      "model_module": "jupyter-cytoscape",
      "model_module_version": "^1.2.2",
      "model_name": "EdgeModel",
      "state": {
       "_model_module_version": "^1.2.2",
       "_view_module_version": "^1.2.2",
       "data": {
        "cited": 237,
        "datasource": [
         "Reactome",
         "PhosphoSite",
         "pid",
         "PANTHER"
        ],
        "id": "ATM-controls-state-change-of-TP53",
        "isdirected": true,
        "pubmed": [
         "10202145",
         "10570149",
         "10581258",
         "10606744",
         "10608806",
         "10611322",
         "10656682",
         "10656795",
         "10673500",
         "10673501",
         "10706102",
         "10710310",
         "10713094",
         "10723129",
         "10733583",
         "10734067",
         "10744722",
         "10958792",
         "11030628",
         "11096068",
         "11101524",
         "11121242",
         "11175334",
         "11244509",
         "11258706",
         "11300786",
         "11313957",
         "11314044",
         "11397945",
         "11423984",
         "11447225",
         "11495913",
         "11526498",
         "11546806",
         "11551930",
         "11583595",
         "11706017",
         "11707453",
         "11709713",
         "11711532",
         "11740489",
         "11780126",
         "11850826",
         "11861384",
         "11865061",
         "11875057",
         "11896572",
         "11896587",
         "12021785",
         "12049739",
         "12071847",
         "12080066",
         "12082529",
         "12091386",
         "12093737",
         "12151394",
         "12324477",
         "12384533",
         "12393500",
         "12397361",
         "12397362",
         "12427754",
         "12511424",
         "12518062",
         "12519769",
         "12519780",
         "12531896",
         "12588868",
         "12606585",
         "12637545",
         "12676607",
         "12702572",
         "12756247",
         "12771937",
         "12776195",
         "12810724",
         "12860987",
         "12861053",
         "12890678",
         "12902982",
         "12907596",
         "12939400",
         "12955074",
         "12959929",
         "12969974",
         "1406679",
         "14517211",
         "14527925",
         "14612532",
         "14665630",
         "14712210",
         "14749479",
         "14871840",
         "14871926",
         "14968111",
         "15048074",
         "15064747",
         "15077171",
         "15078887",
         "15082766",
         "15140942",
         "15155458",
         "15159397",
         "15178764",
         "15181149",
         "15226429",
         "15254178",
         "15258567",
         "15269203",
         "15310764",
         "15322239",
         "15355354",
         "15361830",
         "15381073",
         "15456784",
         "15471885",
         "15489221",
         "15489892",
         "15526030",
         "15533933",
         "15542844",
         "15580310",
         "15619621",
         "15629715",
         "15657359",
         "15665826",
         "15671037",
         "15706352",
         "15750624",
         "15758953",
         "15775976",
         "15782130",
         "15792956",
         "15794754",
         "15843377",
         "15866171",
         "15870257",
         "15897882",
         "15963507",
         "16219768",
         "16223874",
         "16247456",
         "16288207",
         "16293623",
         "16377624",
         "16397295",
         "16436515",
         "16478990",
         "16489034",
         "16501611",
         "16601678",
         "16632641",
         "16636671",
         "16648554",
         "16651424",
         "16714289",
         "16717128",
         "16731759",
         "16738336",
         "16774943",
         "16783362",
         "16790523",
         "16793543",
         "16818505",
         "16818520",
         "16891474",
         "16916644",
         "16949371",
         "17045821",
         "17105820",
         "17107963",
         "17108107",
         "17121812",
         "17135248",
         "17210684",
         "17234789",
         "17245430",
         "17283137",
         "17297446",
         "17297454",
         "17332358",
         "17339337",
         "17349958",
         "17349959",
         "17353187",
         "17363488",
         "17371838",
         "17380123",
         "17456577",
         "17486112",
         "17535811",
         "17553757",
         "17567906",
         "17591690",
         "17596534",
         "17609585",
         "17616578",
         "17668048",
         "17684018",
         "17698850",
         "17712528",
         "17855337",
         "17891183",
         "17906639",
         "17936559",
         "17967874",
         "17975552",
         "17976513",
         "17977830",
         "18032786",
         "18045533",
         "18056442",
         "18056705",
         "18097051",
         "18159951",
         "18160537",
         "18216278",
         "18246126",
         "18272544",
         "18289945",
         "18332866",
         "18339864",
         "18345031",
         "18381438",
         "18406507",
         "18431490",
         "18449195",
         "18490454",
         "18536714",
         "18560558",
         "18593910",
         "18604166",
         "18614045",
         "18669630",
         "18715874",
         "18718914",
         "18765533",
         "18769132",
         "18778462",
         "18785202",
         "18794113",
         "18818083",
         "18847491",
         "18985806",
         "18995830",
         "19085961",
         "19203586",
         "19251701",
         "19266268",
         "19303885",
         "19465479",
         "19477925",
         "19819244",
         "19828042",
         "19828454",
         "19857493",
         "19861417",
         "19882354",
         "19907922",
         "19934315",
         "19962312",
         "19965871",
         "20005840",
         "20009884",
         "20018442",
         "20024960",
         "20026654",
         "20041275",
         "20080565",
         "20123963",
         "20171273",
         "20353948",
         "20363803",
         "20372057",
         "20514025",
         "20562916",
         "20599567",
         "20610713",
         "20637859",
         "20661218",
         "20663147",
         "20673369",
         "20696760",
         "20711232",
         "20811699",
         "20931131",
         "20935676",
         "20962272",
         "21057547",
         "21148320",
         "21317932",
         "21383696",
         "21394211",
         "21423215",
         "21441950",
         "21454683",
         "21465263",
         "21532626",
         "21642861",
         "21660965",
         "21757780",
         "21765463",
         "21765464",
         "21832239",
         "22002314",
         "22011578",
         "22030623",
         "22037398",
         "22055193",
         "22099307",
         "22112863",
         "22179839",
         "22285752",
         "22728651",
         "22797063",
         "22815859",
         "22878263",
         "22975381",
         "23148227",
         "23149944",
         "23150668",
         "23184057",
         "23678107",
         "23798621",
         "23871434",
         "23890999",
         "23982736",
         "24038750",
         "24145406",
         "24196445",
         "24379358",
         "24657168",
         "24711418",
         "24820418",
         "24899407",
         "24958101",
         "25202122",
         "8327466",
         "9363941",
         "9733514",
         "9733515",
         "9843217",
         "9925639"
        ],
        "source": "ATM",
        "target": "TP53",
        "type": "controls-state-change-of"
       }
      }
     },
     "b139a5aef38e44d5b33efd83f5cef2f3": {
      "model_module": "jupyter-cytoscape",
      "model_module_version": "^1.2.2",
      "model_name": "NodeModel",
      "state": {
       "_model_module_version": "^1.2.2",
       "_view_module_version": "^1.2.2",
       "data": {
        "altered": 0,
        "cited": 280,
        "id": "HMGA2",
        "importance": 3,
        "isseed": false,
        "isvalid": true,
        "rank": 82,
        "uniprot": "P52926",
        "uniprotdesc": "Functions as a transcriptional regulator. Functions incell cycle regulation through CCNA2. Plays an important role inchromosome condensation during the meiotic G2/M transition ofspermatocytes. "
       },
       "grabbable": true,
       "grabbed": false,
       "position": {
        "x": 596.7436848413571,
        "y": 95.92046087056268
       }
      }
     },
     "b165ebb4d7fe40c58eef7077338ef78c": {
      "model_module": "jupyter-cytoscape",
      "model_module_version": "^1.2.2",
      "model_name": "NodeModel",
      "state": {
       "_model_module_version": "^1.2.2",
       "_view_module_version": "^1.2.2",
       "data": {
        "altered": 0,
        "cited": 3644,
        "id": "GPX1",
        "importance": 3,
        "isseed": false,
        "isvalid": true,
        "rank": 13,
        "uniprot": "P07203",
        "uniprotdesc": "Protects the hemoglobin in erythrocytes from oxidativebreakdown."
       },
       "grabbable": true,
       "grabbed": false,
       "position": {
        "x": 601.4958386446904,
        "y": -115.41615571517447
       }
      }
     },
     "b26f34981539428cba3a25f81d451f80": {
      "model_module": "jupyter-cytoscape",
      "model_module_version": "^1.2.2",
      "model_name": "NodeModel",
      "state": {
       "_model_module_version": "^1.2.2",
       "_view_module_version": "^1.2.2",
       "data": {
        "id": "6",
        "name": "age: 73\nvirus: ncov\n",
        "parent": "parent-1"
       },
       "grabbable": true,
       "grabbed": false,
       "position": {
        "x": 600.8344062128375,
        "y": 110
       },
       "selectable": false
      }
     },
     "b2d1da9a6d06478fa36896b90c70a765": {
      "model_module": "jupyter-cytoscape",
      "model_module_version": "^1.2.2",
      "model_name": "EdgeModel",
      "state": {
       "_model_module_version": "^1.2.2",
       "_view_module_version": "^1.2.2",
       "data": {
        "cited": 5,
        "datasource": [
         "PANTHER"
        ],
        "id": "PRKAA2-controls-state-change-of-TP53",
        "isdirected": true,
        "pubmed": [],
        "source": "PRKAA2",
        "target": "TP53",
        "type": "controls-state-change-of"
       }
      }
     },
     "b2e1069678054799adf13ba8fcf2f704": {
      "model_module": "jupyter-cytoscape",
      "model_module_version": "^1.2.2",
      "model_name": "GraphModel",
      "state": {
       "_adj": {},
       "_model_module_version": "^1.2.2",
       "_view_module": "jupyter-cytoscape",
       "_view_module_version": "^1.2.2"
      }
     },
     "b30306e9ca9641979896cb0a5e995491": {
      "model_module": "jupyter-cytoscape",
      "model_module_version": "^1.2.2",
      "model_name": "EdgeModel",
      "state": {
       "_model_module_version": "^1.2.2",
       "_view_module_version": "^1.2.2",
       "data": {
        "cited": 0,
        "datasource": [
         "pid"
        ],
        "id": "PRMT5-controls-state-change-of-TP53",
        "isdirected": true,
        "pubmed": [
         "19011621"
        ],
        "source": "PRMT5",
        "target": "TP53",
        "type": "controls-state-change-of"
       }
      }
     },
     "b36b2662fc6c4d918e2f94c98841d589": {
      "model_module": "jupyter-cytoscape",
      "model_module_version": "^1.2.2",
      "model_name": "EdgeModel",
      "state": {
       "_model_module_version": "^1.2.2",
       "_view_module_version": "^1.2.2",
       "data": {
        "cited": 0,
        "datasource": [
         "pid"
        ],
        "id": "CREBBP-controls-expression-of-GADD45A",
        "isdirected": true,
        "pubmed": [
         "15186775",
         "18250150"
        ],
        "source": "CREBBP",
        "target": "GADD45A",
        "type": "controls-expression-of"
       }
      }
     },
     "b378090780f24ebcaa8966bcb36f92de": {
      "model_module": "jupyter-cytoscape",
      "model_module_version": "^1.2.2",
      "model_name": "EdgeModel",
      "state": {
       "_model_module_version": "^1.2.2",
       "_view_module_version": "^1.2.2",
       "data": {
        "cited": 24,
        "datasource": [
         "PhosphoSite",
         "pid",
         "PANTHER"
        ],
        "id": "ATR-controls-state-change-of-TP53",
        "isdirected": true,
        "pubmed": [
         "10202145",
         "10581258",
         "10606744",
         "10608806",
         "10611322",
         "10656682",
         "10656795",
         "10673501",
         "10706102",
         "10710310",
         "10713094",
         "10723129",
         "10733583",
         "10734067",
         "10744722",
         "10958792",
         "11030628",
         "11042698",
         "11096068",
         "11121242",
         "11244509",
         "11258706",
         "11300786",
         "11313957",
         "11314044",
         "11397945",
         "11423984",
         "11447225",
         "11495913",
         "11526498",
         "11546806",
         "11583595",
         "11706017",
         "11707453",
         "11709713",
         "11711532",
         "11850826",
         "11861384",
         "11865061",
         "11875057",
         "11896572",
         "11896587",
         "12021785",
         "12049739",
         "12071847",
         "12080066",
         "12082529",
         "12091386",
         "12151394",
         "12324477",
         "12384533",
         "12393500",
         "12397362",
         "12427754",
         "12511424",
         "12518062",
         "12519769",
         "12519780",
         "12531896",
         "12588868",
         "12606585",
         "12637545",
         "12676607",
         "12702572",
         "12756247",
         "12771937",
         "12776195",
         "12860987",
         "12890678",
         "12902982",
         "12939400",
         "12955074",
         "12959929",
         "12969974",
         "1406679",
         "14517211",
         "14527925",
         "14612532",
         "14665630",
         "14712210",
         "14871840",
         "14871926",
         "14968111",
         "15048074",
         "15064747",
         "15077171",
         "15078887",
         "15082766",
         "15140942",
         "15155458",
         "15159397",
         "15178764",
         "15181149",
         "15226429",
         "15254178",
         "15258567",
         "15269203",
         "15310764",
         "15322239",
         "15355354",
         "15361830",
         "15381073",
         "15456784",
         "15471885",
         "15489221",
         "15489892",
         "15533933",
         "15542844",
         "15580310",
         "15619621",
         "15665826",
         "15750624",
         "15758953",
         "15775976",
         "15782130",
         "15792956",
         "15794754",
         "15843377",
         "15866171",
         "15870257",
         "15897882",
         "16223874",
         "16247456",
         "16288207",
         "16293623",
         "16377624",
         "16397295",
         "16436515",
         "16478990",
         "16489034",
         "16501611",
         "16632641",
         "16636671",
         "16648554",
         "16651424",
         "16714289",
         "16717128",
         "16731759",
         "16774943",
         "16783362",
         "16790523",
         "16818505",
         "16818520",
         "16891474",
         "16916644",
         "16949371",
         "17045821",
         "17105820",
         "17108107",
         "17234789",
         "17245430",
         "17254968",
         "17283137",
         "17297446",
         "17297454",
         "17332358",
         "17339337",
         "17353187",
         "17363488",
         "17371838",
         "17380123",
         "17456577",
         "17486112",
         "17535811",
         "17553757",
         "17591690",
         "17596534",
         "17609585",
         "17616578",
         "17668048",
         "17684018",
         "17698850",
         "17712528",
         "17855337",
         "17891183",
         "17936559",
         "17967874",
         "17975552",
         "17976513",
         "17977830",
         "18032786",
         "18045533",
         "18056442",
         "18097051",
         "18159951",
         "18216278",
         "18246126",
         "18272544",
         "18289945",
         "18332866",
         "18339864",
         "18345031",
         "18381438",
         "18406507",
         "18431490",
         "18449195",
         "18490454",
         "18560558",
         "18604166",
         "18614045",
         "18715874",
         "18718914",
         "18765533",
         "18769132",
         "18778462",
         "18785202",
         "18794113",
         "18818083",
         "18847491",
         "18985806",
         "18995830",
         "19085961",
         "19203586",
         "19251701",
         "19266268",
         "19303885",
         "19477925",
         "19819244",
         "19828454",
         "19861417",
         "19882354",
         "19907922",
         "19934315",
         "19962312",
         "20005840",
         "20024960",
         "20026654",
         "20080565",
         "20123963",
         "20353948",
         "20372057",
         "20562916",
         "20599567",
         "20610713",
         "20637859",
         "20661218",
         "20663147",
         "20696760",
         "20711232",
         "20931131",
         "20935676",
         "20962272",
         "21317932",
         "21383696",
         "21394211",
         "21423215",
         "21441950",
         "21465263",
         "21532626",
         "21642861",
         "21660965",
         "21757780",
         "21765463",
         "21765464",
         "21832239",
         "22002314",
         "22011578",
         "22030623",
         "22037398",
         "22055193",
         "22099307",
         "22112863",
         "22179839",
         "22285752",
         "22728651",
         "22797063",
         "22815859",
         "22975381",
         "23148227",
         "23150668",
         "23184057",
         "23678107",
         "23798621",
         "23871434",
         "23890999",
         "23982736",
         "24038750",
         "24657168",
         "24711418",
         "24820418",
         "24958101",
         "25202122",
         "8327466",
         "9363941",
         "9733515",
         "9744860",
         "9843217",
         "9925639"
        ],
        "source": "ATR",
        "target": "TP53",
        "type": "controls-state-change-of"
       }
      }
     },
     "b39cbfbfd3fe4ab1a0f99485b2841a43": {
      "model_module": "jupyter-cytoscape",
      "model_module_version": "^1.2.2",
      "model_name": "NodeModel",
      "state": {
       "_model_module_version": "^1.2.2",
       "_view_module_version": "^1.2.2",
       "data": {
        "altered": 0,
        "cited": 88,
        "id": "MAPK13",
        "importance": 3,
        "isseed": false,
        "isvalid": true,
        "rank": 126,
        "uniprot": "O15264",
        "uniprotdesc": "Serine/threonine kinase which acts as an essentialcomponent of the MAP kinase signal transduction pathway. MAPK13 isone of the four p38 MAPKs which play an important role in thecascades of cellular responses evoked by extracellular stimulisuch as proinflammatory cytokines or physical stress leading todirect activation of transcription factors such as ELK1 and ATF2.Accordingly, p38 MAPKs phosphorylate a broad range of proteins andit has been estimated that they may have approximately 200 to 300substrates each. MAPK13 is one of the less studied p38 MAPKisoforms. Some of the targets are downstream kinases such asMAPKAPK2, which are activated through phosphorylation and furtherphosphorylate additional targets. Plays a role in the regulationof protein translation by phosphorylating and inactivating EEF2K.Involved in cytoskeletal remodeling through phosphorylation ofMAPT and STMN1. Mediates UV irradiation induced up-regulation ofthe gene expression of CXCL14. Plays an important role in theregulation of epidermal keratinocyte differentiation, apoptosisand skin tumor development. Phosphorylates the transcriptionalactivator MYB in response to stress which leads to rapid MYBdegradation via a proteasome-dependent pathway. MAPK13 alsophosphorylates and down-regulates PRKD1 during regulation ofinsulin secretion in pancreatic beta cells."
       },
       "grabbable": true,
       "grabbed": false,
       "position": {
        "x": 773.6771551026915,
        "y": 32.79214543145495
       }
      }
     },
     "b3a9a5b5394c451db37c66e63612c44e": {
      "model_module": "jupyter-cytoscape",
      "model_module_version": "^1.2.2",
      "model_name": "EdgeModel",
      "state": {
       "_model_module_version": "^1.2.2",
       "_view_module_version": "^1.2.2",
       "data": {
        "id": "42d38929-de8d-4333-9fd3-b3dd6cd28631",
        "source": "2",
        "target": "4"
       },
       "selectable": false
      }
     },
     "b3c3d596b0814993b8b6820a89c5d676": {
      "model_module": "jupyter-cytoscape",
      "model_module_version": "^1.2.2",
      "model_name": "EdgeModel",
      "state": {
       "_model_module_version": "^1.2.2",
       "_view_module_version": "^1.2.2",
       "data": {
        "cited": 0,
        "datasource": [
         "PANTHER"
        ],
        "id": "SIRT1-controls-state-change-of-TP63",
        "isdirected": true,
        "pubmed": [],
        "source": "SIRT1",
        "target": "TP63",
        "type": "controls-state-change-of"
       }
      }
     },
     "b415c93e511247608db9d154d88319bb": {
      "model_module": "jupyter-cytoscape",
      "model_module_version": "^1.2.2",
      "model_name": "EdgeModel",
      "state": {
       "_model_module_version": "^1.2.2",
       "_view_module_version": "^1.2.2",
       "data": {
        "cited": 8,
        "datasource": [
         "pid"
        ],
        "id": "SETD8-controls-state-change-of-TP53",
        "isdirected": true,
        "pubmed": [
         "17707234"
        ],
        "source": "SETD8",
        "target": "TP53",
        "type": "controls-state-change-of"
       }
      }
     },
     "b4270ba3d5de457397027addeb9f41e2": {
      "model_module": "jupyter-cytoscape",
      "model_module_version": "^1.2.2",
      "model_name": "NodeModel",
      "state": {
       "_model_module_version": "^1.2.2",
       "_view_module_version": "^1.2.2",
       "data": {
        "altered": 0,
        "cited": 278,
        "id": "APAF1",
        "importance": 3,
        "isseed": false,
        "isvalid": true,
        "rank": 83,
        "uniprot": "O14727",
        "uniprotdesc": "Oligomeric Apaf-1 mediates the cytochrome c-dependentautocatalytic activation of pro-caspase-9 (Apaf-3), leading to theactivation of caspase-3 and apoptosis. This activation requiresATP. Isoform 6 is less effective in inducing apoptosis."
       },
       "grabbable": true,
       "grabbed": false,
       "position": {
        "x": 509.52364694454417,
        "y": -63.95813728162767
       }
      }
     },
     "b49134abdc4f4e2abfb39fd0955411bf": {
      "model_module": "jupyter-cytoscape",
      "model_module_version": "^1.2.2",
      "model_name": "NodeModel",
      "state": {
       "_model_module_version": "^1.2.2",
       "_view_module_version": "^1.2.2",
       "data": {
        "altered": 0,
        "cited": 417,
        "id": "CD82",
        "importance": 3,
        "isseed": false,
        "isvalid": true,
        "rank": 69,
        "uniprot": "P27701",
        "uniprotdesc": "Associates with CD4 or CD8 and delivers costimulatorysignals for the TCR/CD3 pathway."
       },
       "grabbable": true,
       "grabbed": false,
       "position": {
        "x": 616.3396267771806,
        "y": 430.78220709500056
       }
      }
     },
     "b4d59a5e3253470382bfe914ded60a96": {
      "model_module": "jupyter-cytoscape",
      "model_module_version": "^1.2.2",
      "model_name": "EdgeModel",
      "state": {
       "_model_module_version": "^1.2.2",
       "_view_module_version": "^1.2.2",
       "data": {
        "cited": 114,
        "datasource": [
         "pid"
        ],
        "id": "TP53-controls-expression-of-FAS",
        "isdirected": true,
        "pubmed": [
         "9841917"
        ],
        "source": "TP53",
        "target": "FAS",
        "type": "controls-expression-of"
       }
      }
     },
     "b53116682932453e9a9eb64624195a00": {
      "model_module": "jupyter-cytoscape",
      "model_module_version": "^1.2.2",
      "model_name": "NodeModel",
      "state": {
       "_model_module_version": "^1.2.2",
       "_view_module_version": "^1.2.2",
       "data": {
        "altered": 0,
        "cited": 209,
        "id": "HIST1H1B",
        "importance": 3,
        "isseed": false,
        "isvalid": true,
        "rank": 96,
        "uniprot": "P16401",
        "uniprotdesc": "Histone H1 protein binds to linker DNA betweennucleosomes forming the macromolecular structure known as thechromatin fiber. Histones H1 are necessary for the condensation ofnucleosome chains into higher-order structured fibers. Acts alsoas a regulator of individual gene transcription through chromatinremodeling, nucleosome spacing and DNA methylation (Bysimilarity). "
       },
       "grabbable": true,
       "grabbed": false,
       "position": {
        "x": 557.0596724394644,
        "y": 142.14655580922383
       }
      }
     },
     "b598dc6f175646479194b7f91248f324": {
      "model_module": "jupyter-cytoscape",
      "model_module_version": "^1.2.2",
      "model_name": "EdgeModel",
      "state": {
       "_model_module_version": "^1.2.2",
       "_view_module_version": "^1.2.2",
       "data": {
        "cited": 0,
        "datasource": [
         "PANTHER"
        ],
        "id": "ATM-controls-state-change-of-TP73",
        "isdirected": true,
        "pubmed": [],
        "source": "ATM",
        "target": "TP73",
        "type": "controls-state-change-of"
       }
      }
     },
     "b5ea5f00d9834eeca802c245930d6946": {
      "model_module": "jupyter-cytoscape",
      "model_module_version": "^1.2.2",
      "model_name": "EdgeModel",
      "state": {
       "_model_module_version": "^1.2.2",
       "_view_module_version": "^1.2.2",
       "data": {
        "cited": 35,
        "datasource": [
         "pid"
        ],
        "id": "TP53-controls-expression-of-SERPINE1",
        "isdirected": true,
        "pubmed": [
         "7479001"
        ],
        "source": "TP53",
        "target": "SERPINE1",
        "type": "controls-expression-of"
       }
      }
     },
     "b60ca736e9e6402ca246f91af0857c43": {
      "model_module": "jupyter-cytoscape",
      "model_module_version": "^1.2.2",
      "model_name": "EdgeModel",
      "state": {
       "_model_module_version": "^1.2.2",
       "_view_module_version": "^1.2.2",
       "data": {
        "cited": 1,
        "datasource": [
         "PhosphoSite"
        ],
        "id": "DYRK1A-controls-state-change-of-TP53",
        "isdirected": true,
        "pubmed": [
         "10202145",
         "10581258",
         "10606744",
         "10608806",
         "10611322",
         "10656682",
         "10656795",
         "10673501",
         "10706102",
         "10710310",
         "10713094",
         "10723129",
         "10733583",
         "10734067",
         "10744722",
         "10958792",
         "11030628",
         "11096068",
         "11121242",
         "11244509",
         "11258706",
         "11313957",
         "11314044",
         "11397945",
         "11423984",
         "11447225",
         "11495913",
         "11526498",
         "11546806",
         "11583595",
         "11706017",
         "11707453",
         "11709713",
         "11711532",
         "11850826",
         "11861384",
         "11865061",
         "11875057",
         "11896572",
         "11896587",
         "12021785",
         "12049739",
         "12071847",
         "12080066",
         "12082529",
         "12091386",
         "12151394",
         "12324477",
         "12384533",
         "12393500",
         "12397362",
         "12427754",
         "12511424",
         "12518062",
         "12519769",
         "12519780",
         "12531896",
         "12588868",
         "12606585",
         "12637545",
         "12676607",
         "12702572",
         "12756247",
         "12771937",
         "12776195",
         "12860987",
         "12890678",
         "12902982",
         "12939400",
         "12955074",
         "12959929",
         "12969974",
         "1406679",
         "14517211",
         "14527925",
         "14612532",
         "14665630",
         "14712210",
         "14871840",
         "14871926",
         "14968111",
         "15048074",
         "15064747",
         "15077171",
         "15078887",
         "15082766",
         "15140942",
         "15155458",
         "15159397",
         "15178764",
         "15181149",
         "15226429",
         "15254178",
         "15258567",
         "15269203",
         "15310764",
         "15322239",
         "15355354",
         "15361830",
         "15381073",
         "15456784",
         "15471885",
         "15489221",
         "15489892",
         "15533933",
         "15542844",
         "15580310",
         "15619621",
         "15665826",
         "15750624",
         "15758953",
         "15775976",
         "15782130",
         "15792956",
         "15794754",
         "15843377",
         "15866171",
         "15870257",
         "15897882",
         "16223874",
         "16247456",
         "16288207",
         "16293623",
         "16377624",
         "16397295",
         "16436515",
         "16478990",
         "16489034",
         "16501611",
         "16632641",
         "16636671",
         "16648554",
         "16651424",
         "16714289",
         "16717128",
         "16731759",
         "16774943",
         "16783362",
         "16790523",
         "16818505",
         "16818520",
         "16891474",
         "16916644",
         "16949371",
         "17045821",
         "17105820",
         "17108107",
         "17234789",
         "17245430",
         "17283137",
         "17297446",
         "17297454",
         "17332358",
         "17339337",
         "17353187",
         "17363488",
         "17371838",
         "17380123",
         "17456577",
         "17486112",
         "17535811",
         "17553757",
         "17591690",
         "17596534",
         "17609585",
         "17616578",
         "17668048",
         "17684018",
         "17698850",
         "17712528",
         "17855337",
         "17891183",
         "17936559",
         "17967874",
         "17975552",
         "17976513",
         "17977830",
         "18032786",
         "18045533",
         "18056442",
         "18097051",
         "18159951",
         "18216278",
         "18246126",
         "18272544",
         "18289945",
         "18332866",
         "18339864",
         "18345031",
         "18381438",
         "18406507",
         "18431490",
         "18449195",
         "18490454",
         "18560558",
         "18604166",
         "18614045",
         "18715874",
         "18718914",
         "18765533",
         "18769132",
         "18778462",
         "18785202",
         "18794113",
         "18818083",
         "18847491",
         "18985806",
         "18995830",
         "19085961",
         "19203586",
         "19251701",
         "19266268",
         "19303885",
         "19477925",
         "19819244",
         "19828454",
         "19861417",
         "19882354",
         "19907922",
         "19934315",
         "19962312",
         "20005840",
         "20024960",
         "20026654",
         "20080565",
         "20123963",
         "20353948",
         "20372057",
         "20562916",
         "20599567",
         "20610713",
         "20637859",
         "20661218",
         "20663147",
         "20696760",
         "20711232",
         "20931131",
         "20935676",
         "20962272",
         "21317932",
         "21383696",
         "21394211",
         "21423215",
         "21441950",
         "21465263",
         "21532626",
         "21642861",
         "21660965",
         "21757780",
         "21765463",
         "21765464",
         "21832239",
         "22002314",
         "22011578",
         "22030623",
         "22037398",
         "22055193",
         "22099307",
         "22112863",
         "22179839",
         "22285752",
         "22728651",
         "22797063",
         "22815859",
         "22975381",
         "23148227",
         "23150668",
         "23184057",
         "23678107",
         "23798621",
         "23871434",
         "23890999",
         "23982736",
         "24038750",
         "24657168",
         "24711418",
         "24820418",
         "24958101",
         "25202122",
         "8327466",
         "9363941",
         "9733515",
         "9843217",
         "9925639"
        ],
        "source": "DYRK1A",
        "target": "TP53",
        "type": "controls-state-change-of"
       }
      }
     },
     "b7107691758e4c308d6371e9e59050b0": {
      "model_module": "jupyter-cytoscape",
      "model_module_version": "^1.2.2",
      "model_name": "EdgeModel",
      "state": {
       "_model_module_version": "^1.2.2",
       "_view_module_version": "^1.2.2",
       "data": {
        "cited": 0,
        "datasource": [
         "PANTHER"
        ],
        "id": "PML-controls-state-change-of-TP73",
        "isdirected": true,
        "pubmed": [],
        "source": "PML",
        "target": "TP73",
        "type": "controls-state-change-of"
       }
      }
     },
     "b776d03a52b04317acab433a24e1a6db": {
      "model_module": "jupyter-cytoscape",
      "model_module_version": "^1.2.2",
      "model_name": "NodeModel",
      "state": {
       "_model_module_version": "^1.2.2",
       "_view_module_version": "^1.2.2",
       "data": {
        "altered": 0,
        "cited": 859,
        "id": "CHEK2",
        "importance": 3,
        "isseed": false,
        "isvalid": true,
        "rank": 42,
        "uniprot": "O96017",
        "uniprotdesc": "Serine/threonine-protein kinase which is required forcheckpoint-mediated cell cycle arrest, activation of DNA repairand apoptosis in response to the presence of DNA double-strandbreaks. May also negatively regulate cell cycle progression duringunperturbed cell cycles. Following activation, phosphorylatesnumerous effectors preferentially at the consensus sequence [L-X-R-X-X-S/T]. Regulates cell cycle checkpoint arrest throughphosphorylation of CDC25A, CDC25B and CDC25C, inhibiting theiractivity. Inhibition of CDC25 phosphatase activity leads toincreased inhibitory tyrosine phosphorylation of CDK-cyclincomplexes and blocks cell cycle progression. May alsophosphorylate NEK6 which is involved in G2/M cell cycle arrest.Regulates DNA repair through phosphorylation of BRCA2, enhancingthe association of RAD51 with chromatin which promotes DNA repairby homologous recombination. Also stimulates the transcription ofgenes involved in DNA repair (including BRCA2) through thephosphorylation and activation of the transcription factor FOXM1.Regulates apoptosis through the phosphorylation of p53/TP53, MDM4and PML. Phosphorylation of p53/TP53 at 'Ser-20' by CHEK2 mayalleviate inhibition by MDM2, leading to accumulation of activep53/TP53. Phosphorylation of MDM4 may also reduce degradation ofp53/TP53. Also controls the transcription of pro-apoptotic genesthrough phosphorylation of the transcription factor E2F1. Tumorsuppressor, it may also have a DNA damage-independent function inmitotic spindle assembly by phosphorylating BRCA1. Its absence maybe a cause of the chromosomal instability observed in some cancercells. "
       },
       "grabbable": true,
       "grabbed": false,
       "position": {
        "x": 823.6771561026914,
        "y": 82.79214643145495
       }
      }
     },
     "b862742950174d638517f58d934e0e29": {
      "model_module": "jupyter-cytoscape",
      "model_module_version": "^1.2.2",
      "model_name": "EdgeModel",
      "state": {
       "_model_module_version": "^1.2.2",
       "_view_module_version": "^1.2.2",
       "data": {
        "cited": 8,
        "datasource": [
         "pid"
        ],
        "id": "SETD7-controls-state-change-of-TP53",
        "isdirected": true,
        "pubmed": [
         "15525938",
         "17646389"
        ],
        "source": "SETD7",
        "target": "TP53",
        "type": "controls-state-change-of"
       }
      }
     },
     "ba0a5a9b7eb644f6939cb83e0412e3ca": {
      "model_module": "jupyter-cytoscape",
      "model_module_version": "^1.2.2",
      "model_name": "EdgeModel",
      "state": {
       "_model_module_version": "^1.2.2",
       "_view_module_version": "^1.2.2",
       "data": {
        "cited": 44,
        "datasource": [
         "pid"
        ],
        "id": "TP53-controls-expression-of-CD82",
        "isdirected": true,
        "pubmed": [
         "9736732"
        ],
        "source": "TP53",
        "target": "CD82",
        "type": "controls-expression-of"
       }
      }
     },
     "ba7864b4a8ab4aebb4b0e80b38b92fd2": {
      "model_module": "jupyter-cytoscape",
      "model_module_version": "^1.2.2",
      "model_name": "EdgeModel",
      "state": {
       "_model_module_version": "^1.2.2",
       "_view_module_version": "^1.2.2",
       "data": {
        "id": "6477f42c-b8e6-4664-a8a3-140d60c24266",
        "source": "1",
        "target": "3"
       },
       "selectable": false
      }
     },
     "bb39b41fe3b84403be7fa991009630ee": {
      "model_module": "jupyter-cytoscape",
      "model_module_version": "^1.2.2",
      "model_name": "NodeModel",
      "state": {
       "_model_module_version": "^1.2.2",
       "_view_module_version": "^1.2.2",
       "data": {
        "altered": 0,
        "cited": 1469,
        "id": "CDK2",
        "importance": 3,
        "isseed": false,
        "isvalid": true,
        "rank": 34,
        "uniprot": "P24941",
        "uniprotdesc": "Serine/threonine-protein kinase involved in the controlof the cell cycle; essential for meiosis, but dispensable formitosis. Phosphorylates CTNNB1, USP37, p53/TP53, NPM1, CDK7, RB1,BRCA2, MYC, NPAT, EZH2. Interacts with cyclins A, B1, B3, D, or E.Triggers duplication of centrosomes and DNA. Acts at the G1-Stransition to promote the E2F transcriptional program and theinitiation of DNA synthesis, and modulates G2 progression;controls the timing of entry into mitosis/meiosis by controllingthe subsequent activation of cyclin B/CDK1 by phosphorylation, andcoordinates the activation of cyclin B/CDK1 at the centrosome andin the nucleus. Crucial role in orchestrating a fine balancebetween cellular proliferation, cell death, and DNA repair inhuman embryonic stem cells (hESCs). Activity of CDK2 is maximalduring S phase and G2; activated by interaction with cyclin Eduring the early stages of DNA synthesis to permit G1-Stransition, and subsequently activated by cyclin A2 (cyclin A1 ingerm cells) during the late stages of DNA replication to drive thetransition from S phase to mitosis, the G2 phase. EZH2phosphorylation promotes H3K27me3 maintenance and epigenetic genesilencing. Phosphorylates CABLES1 (By similarity). Cyclin E/CDK2prevents oxidative stress-mediated Ras-induced senescence byphosphorylating MYC. Involved in G1-S phase DNA damage checkpointthat prevents cells with damaged DNA from initiating mitosis;regulates homologous recombination-dependent repair byphosphorylating BRCA2, this phosphorylation is low in S phase whenrecombination is active, but increases as cells progress towardsmitosis. In response to DNA damage, double-strand break repair byhomologous recombination a reduction of CDK2-mediated BRCA2phosphorylation. Phosphorylation of RB1 disturbs its interactionwith E2F1. NPM1 phosphorylation by cyclin E/CDK2 promotes itsdissociates from unduplicated centrosomes, thus initiatingcentrosome duplication. Cyclin E/CDK2-mediated phosphorylation ofNPAT at G1-S transition and until prophase stimulates the NPAT-mediated activation of histone gene transcription during S phase.Required for vitamin D-mediated growth inhibition by being itselfinactivated. Involved in the nitric oxide- (NO) mediated signalingin a nitrosylation/activation-dependent manner. USP37 is activatedby phosphorylation and thus triggers G1-S transition. CTNNB1phosphorylation regulates insulin internalization. "
       },
       "grabbable": true,
       "grabbed": false,
       "position": {
        "x": 871.3707760410626,
        "y": 438.84436299324125
       }
      }
     },
     "bb5c6603ae7c4b40ba87ea142e3c35d7": {
      "model_module": "jupyter-cytoscape",
      "model_module_version": "^1.2.2",
      "model_name": "NodeModel",
      "state": {
       "_model_module_version": "^1.2.2",
       "_view_module_version": "^1.2.2",
       "data": {
        "altered": 0,
        "cited": 2683,
        "id": "APC",
        "importance": 3,
        "isseed": false,
        "isvalid": true,
        "rank": 22,
        "uniprot": "P25054",
        "uniprotdesc": "Tumor suppressor. Promotes rapid degradation of CTNNB1and participates in Wnt signaling as a negative regulator. APCactivity is correlated with its phosphorylation state. Activatesthe GEF activity of SPATA13 and ARHGEF4. Plays a role inhepatocyte growth factor (HGF)-induced cell migration. Requiredfor MMP9 up-regulation via the JNK signaling pathway in colorectaltumor cells. Acts as a mediator of ERBB2-dependent stabilizationof microtubules at the cell cortex. It is required for thelocalization of MACF1 to the cell membrane and this localizationof MACF1 is critical for its function in microtubulestabilization. "
       },
       "grabbable": true,
       "grabbed": false,
       "position": {
        "x": 507.05967143946435,
        "y": 163.39633277952117
       }
      }
     },
     "bc49269185274116a76649efc8c5d77b": {
      "model_module": "jupyter-cytoscape",
      "model_module_version": "^1.2.2",
      "model_name": "NodeModel",
      "state": {
       "_model_module_version": "^1.2.2",
       "_view_module_version": "^1.2.2",
       "data": {
        "altered": 0,
        "cited": 368,
        "id": "PRKAB1",
        "importance": 3,
        "isseed": false,
        "isvalid": true,
        "rank": 73,
        "uniprot": "Q9Y478",
        "uniprotdesc": "Non-catalytic subunit of AMP-activated protein kinase(AMPK), an energy sensor protein kinase that plays a key role inregulating cellular energy metabolism. In response to reduction ofintracellular ATP levels, AMPK activates energy-producing pathwaysand inhibits energy-consuming processes: inhibits protein,carbohydrate and lipid biosynthesis, as well as cell growth andproliferation. AMPK acts via direct phosphorylation of metabolicenzymes, and by longer-term effects via phosphorylation oftranscription regulators. Also acts as a regulator of cellularpolarity by remodeling the actin cytoskeleton; probably byindirectly activating myosin. Beta non-catalytic subunit acts as ascaffold on which the AMPK complex assembles, via its C-terminusthat bridges alpha (PRKAA1 or PRKAA2) and gamma subunits (PRKAG1,PRKAG2 or PRKAG3)."
       },
       "grabbable": true,
       "grabbed": false,
       "position": {
        "x": 607.0596734394645,
        "y": 142.14655580922383
       }
      }
     },
     "bca4259797ba44e08c8a75357c631219": {
      "model_module": "jupyter-cytoscape",
      "model_module_version": "^1.2.2",
      "model_name": "EdgeModel",
      "state": {
       "_model_module_version": "^1.2.2",
       "_view_module_version": "^1.2.2",
       "data": {
        "cited": 23,
        "datasource": [
         "PhosphoSite"
        ],
        "id": "CDK5-controls-state-change-of-TP53",
        "isdirected": true,
        "pubmed": [
         "10202145",
         "10570149",
         "10581258",
         "10606744",
         "10608806",
         "10611322",
         "10656682",
         "10656795",
         "10673500",
         "10673501",
         "10706102",
         "10710310",
         "10713094",
         "10723129",
         "10733583",
         "10734067",
         "10744722",
         "10958792",
         "11030628",
         "11096068",
         "11101524",
         "11121242",
         "11175334",
         "11244509",
         "11258706",
         "11300786",
         "11313957",
         "11314044",
         "11397945",
         "11423984",
         "11447225",
         "11495913",
         "11526498",
         "11546806",
         "11551930",
         "11583595",
         "11706017",
         "11707453",
         "11709713",
         "11711532",
         "11740489",
         "11780126",
         "11850826",
         "11861384",
         "11865061",
         "11875057",
         "11896572",
         "11896587",
         "12021785",
         "12049739",
         "12071847",
         "12080066",
         "12082529",
         "12091386",
         "12093737",
         "12151394",
         "12324477",
         "12384533",
         "12393500",
         "12397361",
         "12397362",
         "12427754",
         "12511424",
         "12518062",
         "12519769",
         "12519780",
         "12531896",
         "12588868",
         "12606585",
         "12637545",
         "12676607",
         "12702572",
         "12756247",
         "12771937",
         "12776195",
         "12810724",
         "12860987",
         "12861053",
         "12890678",
         "12902982",
         "12907596",
         "12939400",
         "12955074",
         "12959929",
         "12969974",
         "1406679",
         "14517211",
         "14527925",
         "14612532",
         "14665630",
         "14712210",
         "14749479",
         "14871840",
         "14871926",
         "14968111",
         "15048074",
         "15064747",
         "15077171",
         "15078887",
         "15082766",
         "15140942",
         "15155458",
         "15159397",
         "15178764",
         "15181149",
         "15226429",
         "15254178",
         "15258567",
         "15269203",
         "15310764",
         "15322239",
         "15355354",
         "15361830",
         "15381073",
         "15456784",
         "15471885",
         "15489221",
         "15489892",
         "15526030",
         "15533933",
         "15542844",
         "15580310",
         "15619621",
         "15629715",
         "15657359",
         "15665826",
         "15671037",
         "15706352",
         "15750624",
         "15758953",
         "15775976",
         "15782130",
         "15792956",
         "15794754",
         "15843377",
         "15866171",
         "15870257",
         "15897882",
         "15963507",
         "16219768",
         "16223874",
         "16247456",
         "16288207",
         "16293623",
         "16377624",
         "16397295",
         "16436515",
         "16478990",
         "16489034",
         "16501611",
         "16552184",
         "16601678",
         "16632641",
         "16636671",
         "16648554",
         "16651424",
         "16714289",
         "16717128",
         "16731759",
         "16738336",
         "16774943",
         "16783362",
         "16790523",
         "16793543",
         "16818505",
         "16818520",
         "16891474",
         "16916644",
         "16949371",
         "17045821",
         "17105820",
         "17107963",
         "17108107",
         "17121812",
         "17135248",
         "17210684",
         "17234789",
         "17245430",
         "17283137",
         "17297446",
         "17297454",
         "17332358",
         "17339337",
         "17349958",
         "17349959",
         "17353187",
         "17363488",
         "17371838",
         "17380123",
         "17456577",
         "17486112",
         "17535811",
         "17553757",
         "17567906",
         "17591690",
         "17596534",
         "17609585",
         "17616578",
         "17668048",
         "17684018",
         "17698850",
         "17712528",
         "17855337",
         "17891183",
         "17906639",
         "17936559",
         "17942552",
         "17967874",
         "17975552",
         "17976513",
         "17977830",
         "18032786",
         "18045533",
         "18056442",
         "18056705",
         "18097051",
         "18159951",
         "18160537",
         "18216278",
         "18246126",
         "18272544",
         "18289945",
         "18332866",
         "18339864",
         "18345031",
         "18381438",
         "18406507",
         "18431490",
         "18449195",
         "18490454",
         "18536714",
         "18560558",
         "18593910",
         "18604166",
         "18614045",
         "18669630",
         "18715874",
         "18718914",
         "18765533",
         "18769132",
         "18778462",
         "18785202",
         "18794113",
         "18818083",
         "18847491",
         "18985806",
         "18995830",
         "19085961",
         "19203586",
         "19251701",
         "19266268",
         "19303885",
         "19465479",
         "19477925",
         "19819244",
         "19828042",
         "19828454",
         "19857493",
         "19861417",
         "19882354",
         "19907922",
         "19934315",
         "19962312",
         "19965871",
         "20005840",
         "20009884",
         "20018442",
         "20024960",
         "20026654",
         "20041275",
         "20080565",
         "20123963",
         "20171273",
         "20353948",
         "20363803",
         "20372057",
         "20514025",
         "20562916",
         "20599567",
         "20610713",
         "20637859",
         "20661218",
         "20663147",
         "20673369",
         "20696760",
         "20711232",
         "20811699",
         "20931131",
         "20935676",
         "20962272",
         "21057547",
         "21148320",
         "21317932",
         "21383696",
         "21394211",
         "21423215",
         "21441950",
         "21454683",
         "21465263",
         "21532626",
         "21642861",
         "21660965",
         "21757780",
         "21765463",
         "21765464",
         "21832239",
         "22002314",
         "22011578",
         "22030623",
         "22037398",
         "22055193",
         "22099307",
         "22112863",
         "22179839",
         "22285752",
         "22728651",
         "22797063",
         "22815859",
         "22878263",
         "22975381",
         "23148227",
         "23149944",
         "23150668",
         "23184057",
         "23678107",
         "23798621",
         "23871434",
         "23890999",
         "23982736",
         "24038750",
         "24145406",
         "24196445",
         "24379358",
         "24657168",
         "24711418",
         "24820418",
         "24899407",
         "24958101",
         "25202122",
         "8327466",
         "9363941",
         "9372954",
         "9733515",
         "9744860",
         "9843217",
         "9925639"
        ],
        "source": "CDK5",
        "target": "TP53",
        "type": "controls-state-change-of"
       }
      }
     },
     "bd0f7e3fc75c436ab5c84516c954d3af": {
      "model_module": "jupyter-cytoscape",
      "model_module_version": "^1.2.2",
      "model_name": "EdgeModel",
      "state": {
       "_model_module_version": "^1.2.2",
       "_view_module_version": "^1.2.2",
       "data": {
        "id": "3ff63cc4-49ed-465f-a6f8-9bbf554ac366",
        "source": "3",
        "target": "4"
       },
       "selectable": false
      }
     },
     "bf90d8cfcc534af59f62ffa4b53bf82a": {
      "model_module": "jupyter-cytoscape",
      "model_module_version": "^1.2.2",
      "model_name": "NodeModel",
      "state": {
       "_model_module_version": "^1.2.2",
       "_view_module_version": "^1.2.2",
       "data": {
        "altered": 0,
        "cited": 1300,
        "id": "PML",
        "importance": 3,
        "isseed": false,
        "isvalid": true,
        "rank": 35,
        "uniprot": "P29590",
        "uniprotdesc": "Functions via its association with PML-nuclear bodies(PML-NBs) in a wide range of important cellular processes,including tumor suppression, transcriptional regulation,apoptosis, senescence, DNA damage response, and viral defensemechanisms. Acts as the scaffold of PML-NBs allowing otherproteins to shuttle in and out, a process which is regulated bySUMO-mediated modifications and interactions. Isoform PML-4 has amultifaceted role in the regulation of apoptosis and growthsuppression: activates RB1 and inhibits AKT1 via interactions withPP1 and PP2A phosphatases respectively, negatively affects thePI3K pathway by inhibiting MTOR and activating PTEN, andpositively regulates p53/TP53 by acting at different levels (bypromoting its acetylation and phosphorylation and by inhibitingits MDM2-dependent degradation). Isoform PML-4 also: acts as atranscriptional repressor of TBX2 during cellular senescence andthe repression is dependent on a functional RBL2/E2F4 repressorcomplex, regulates double-strand break repair in gamma-irradiation-induced DNA damage responses via its interaction withWRN, acts as a negative regulator of telomerase by interactingwith TERT, and regulates PER2 nuclear localization and circadianfunction. Isoform PML-6 inhibits specifically the activity of thetetrameric form of PKM. The nuclear isoforms (isoform PML-1,isoform PML-2, isoform PML-3, isoform PML-4 and isoform PML-5) inconcert with SATB1 are involved in local chromatin-loop remodelingand gene expression regulation at the MHC-I locus. Isoform PML-2is required for efficient IFN-gamma induced MHC II genetranscription via regulation of CIITA. Cytoplasmic PML is involvedin the regulation of the TGF-beta signaling pathway. PML alsoregulates transcription activity of ELF4 and can act as animportant mediator for TNF-alpha- and IFN-alpha-mediatedinhibition of endothelial cell network formation and migration.Exhibits antiviral activity against both DNA and RNAviruses. The antiviral activity can involve one or severalisoform(s) and can be enhanced by the permanent PML-NB-associatedprotein DAXX or by the recruitment of p53/TP53 within thesestructures. Isoform PML-4 restricts varicella zoster virus (VZV)via sequestration of virion capsids in PML-NBs thereby preventingtheir nuclear egress and inhibiting formation of infectious virusparticles. The sumoylated isoform PML-4 restricts rabies virus byinhibiting viral mRNA and protein synthesis. The cytoplasmicisoform PML-14 can restrict herpes simplex virus-1 (HHV-1)replication by sequestering the viral E3 ubiquitin-protein ligaseICP0 in the cytoplasm. Isoform PML-6 shows restriction activitytowards human cytomegalovirus (HCMV) and influenza A virus strainsPR8(H1N1) and ST364(H3N2). Sumoylated isoform PML-4 and isoformPML-12 show antiviral activity against encephalomyocarditis virus(EMCV) by promoting nuclear sequestration of viral polymerase(P3D-POL) within PML NBs. Isoform PML-3 exhibits antiviralactivity against poliovirus by inducing apoptosis in infectedcells through the recruitment and the activation of p53/TP53 inthe PML-NBs. Isoform PML-3 represses human foamy virus (HFV)transcription by complexing the HFV transactivator, bel1/tas,preventing its binding to viral DNA. PML may positively regulateinfectious hepatitis C viral (HCV) production and isoform PML-2may enhance adenovirus transcription."
       },
       "grabbable": true,
       "grabbed": false,
       "position": {
        "x": 657.0596744394644,
        "y": 219.67152855045745
       }
      }
     },
     "bfabfbae5a7a4636bf7adbfeb9edb142": {
      "model_module": "jupyter-cytoscape",
      "model_module_version": "^1.2.2",
      "model_name": "NodeModel",
      "state": {
       "_model_module_version": "^1.2.2",
       "_view_module_version": "^1.2.2",
       "data": {
        "altered": 0,
        "cited": 90,
        "id": "PRKCD",
        "importance": 3,
        "isseed": false,
        "isvalid": true,
        "rank": 122,
        "uniprot": "Q05655",
        "uniprotdesc": "Calcium-independent, phospholipid- and diacylglycerol(DAG)-dependent serine/threonine-protein kinase that playscontrasting roles in cell death and cell survival by functioningas a pro-apoptotic protein during DNA damage-induced apoptosis,but acting as an anti-apoptotic protein during cytokine receptor-initiated cell death, is involved in tumor suppression as well assurvival of several cancers, is required for oxygen radicalproduction by NADPH oxidase and acts as positive or negativeregulator in platelet functional responses. Negatively regulates Bcell proliferation and also has an important function in self-antigen induced B cell tolerance induction. Upon DNA damage,activates the promoter of the death-promoting transcription factorBCLAF1/Btf to trigger BCLAF1-mediated p53/TP53 gene transcriptionand apoptosis. In response to oxidative stress, interact with andactivate CHUK/IKKA in the nucleus, causing the phosphorylation ofp53/TP53. In the case of ER stress or DNA damage-inducedapoptosis, can form a complex with the tyrosine-protein kinaseABL1 which trigger apoptosis independently of p53/TP53. In cytosolcan trigger apoptosis by activating MAPK11 or MAPK14, inhibitingAKT1 and decreasing the level of X-linked inhibitor of apoptosisprotein (XIAP), whereas in nucleus induces apoptosis via theactivation of MAPK8 or MAPK9. Upon ionizing radiation treatment,is required for the activation of the apoptosis regulators BAX andBAK, which trigger the mitochondrial cell death pathway. Canphosphorylate MCL1 and target it for degradation which issufficient to trigger for BAX activation and apoptosis. Isrequired for the control of cell cycle progression both at G1/Sand G2/M phases. Mediates phorbol 12-myristate 13-acetate (PMA)-induced inhibition of cell cycle progression at G1/S phase by up-regulating the CDK inhibitor CDKN1A/p21 and inhibiting the cyclinCCNA2 promoter activity. In response to UV irradiation canphosphorylate CDK1, which is important for the G2/M DNA damagecheckpoint activation. Can protect glioma cells from the apoptosisinduced by TNFSF10/TRAIL, probably by inducing increasedphosphorylation and subsequent activation of AKT1. Is highlyexpressed in a number of cancer cells and promotes cell survivaland resistance against chemotherapeutic drugs by inducing cyclinD1 (CCND1) and hyperphosphorylation of RB1, and via several pro-survival pathways, including NF-kappa-B, AKT1 and MAPK1/3(ERK1/2). Can also act as tumor suppressor upon mitogenicstimulation with PMA or TPA. In N-formyl-methionyl-leucyl-phenylalanine (fMLP)-treated cells, is required for NCF1 (p47-phox) phosphorylation and activation of NADPH oxidase activity,and regulates TNF-elicited superoxide anion production inneutrophils, by direct phosphorylation and activation of NCF1 orindirectly through MAPK1/3 (ERK1/2) signaling pathways. May alsoplay a role in the regulation of NADPH oxidase activity ineosinophil after stimulation with IL5, leukotriene B4 or PMA. Incollagen-induced platelet aggregation, acts a negative regulatorof filopodia formation and actin polymerization by interactingwith and negatively regulating VASP phosphorylation. Downstream ofPAR1, PAR4 and CD36/GP4 receptors, regulates differentiallyplatelet dense granule secretion; acts as a positive regulator inPAR-mediated granule secretion, whereas it negatively regulatesCD36/GP4-mediated granule release. Phosphorylates MUC1 in the C-terminal and regulates the interaction between MUC1 and beta-catenin. The catalytic subunit phosphorylates 14-3-3 proteins(YWHAB, YWHAZ and YWHAH) in a sphingosine-dependent fashion (Bysimilarity). "
       },
       "grabbable": true,
       "grabbed": false,
       "position": {
        "x": 942.611775063625,
        "y": 188.8443579932413
       }
      }
     },
     "bfb59e1dcffd49eb9394627e368c4e2b": {
      "model_module": "jupyter-cytoscape",
      "model_module_version": "^1.2.2",
      "model_name": "EdgeModel",
      "state": {
       "_model_module_version": "^1.2.2",
       "_view_module_version": "^1.2.2",
       "data": {
        "cited": 5,
        "datasource": [
         "PANTHER"
        ],
        "id": "PRKAA2-controls-state-change-of-TP53",
        "isdirected": true,
        "pubmed": [],
        "source": "PRKAA2",
        "target": "TP53",
        "type": "controls-state-change-of"
       }
      }
     },
     "c02087045ad14137b239c017589db902": {
      "model_module": "jupyter-cytoscape",
      "model_module_version": "^1.2.2",
      "model_name": "EdgeModel",
      "state": {
       "_model_module_version": "^1.2.2",
       "_view_module_version": "^1.2.2",
       "data": {
        "cited": 5,
        "datasource": [
         "PANTHER"
        ],
        "id": "PRKAB1-controls-state-change-of-TP53",
        "isdirected": true,
        "pubmed": [],
        "source": "PRKAB1",
        "target": "TP53",
        "type": "controls-state-change-of"
       }
      }
     },
     "c0dd9a2ec5a6498787a16ed48de2fcf8": {
      "model_module": "jupyter-cytoscape",
      "model_module_version": "^1.2.2",
      "model_name": "EdgeModel",
      "state": {
       "_model_module_version": "^1.2.2",
       "_view_module_version": "^1.2.2",
       "data": {
        "cited": 0,
        "datasource": [
         "pid"
        ],
        "id": "TP53-controls-expression-of-TYRP1",
        "isdirected": true,
        "pubmed": [
         "10640990"
        ],
        "source": "TP53",
        "target": "TYRP1",
        "type": "controls-expression-of"
       }
      }
     },
     "c12d5f2a5a194ed7b3214fe35f54dbd9": {
      "model_module": "jupyter-cytoscape",
      "model_module_version": "^1.2.2",
      "model_name": "EdgeModel",
      "state": {
       "_model_module_version": "^1.2.2",
       "_view_module_version": "^1.2.2",
       "data": {
        "cited": 21,
        "datasource": [
         "PANTHER"
        ],
        "id": "HMGB1-controls-state-change-of-TP53",
        "isdirected": true,
        "pubmed": [],
        "source": "HMGB1",
        "target": "TP53",
        "type": "controls-state-change-of"
       }
      }
     },
     "c17dde82d572488f954c5620615dec6e": {
      "model_module": "jupyter-cytoscape",
      "model_module_version": "^1.2.2",
      "model_name": "EdgeModel",
      "state": {
       "_model_module_version": "^1.2.2",
       "_view_module_version": "^1.2.2",
       "data": {
        "cited": 0,
        "datasource": [
         "PANTHER"
        ],
        "id": "PPP2CB-controls-state-change-of-TP53",
        "isdirected": true,
        "pubmed": [],
        "source": "PPP2CB",
        "target": "TP53",
        "type": "controls-state-change-of"
       }
      }
     },
     "c1897ee903234b98bcf2bea6e1db34e1": {
      "model_module": "jupyter-cytoscape",
      "model_module_version": "^1.2.2",
      "model_name": "NodeModel",
      "state": {
       "_model_module_version": "^1.2.2",
       "_view_module_version": "^1.2.2",
       "data": {
        "altered": 0,
        "cited": 13,
        "id": "HIST1H1C",
        "importance": 3,
        "isseed": false,
        "isvalid": true,
        "rank": 174,
        "uniprot": "P16403",
        "uniprotdesc": "Histone H1 protein binds to linker DNA betweennucleosomes forming the macromolecular structure known as thechromatin fiber. Histones H1 are necessary for the condensation ofnucleosome chains into higher-order structured fibers. Acts alsoas a regulator of individual gene transcription through chromatinremodeling, nucleosome spacing and DNA methylation (Bysimilarity). "
       },
       "grabbable": true,
       "grabbed": false,
       "position": {
        "x": 559.6577960392297,
        "y": 245.92046387056268
       }
      }
     },
     "c29a2d4be72c4605a060ca8f4106c51e": {
      "model_module": "jupyter-cytoscape",
      "model_module_version": "^1.2.2",
      "model_name": "EdgeModel",
      "state": {
       "_model_module_version": "^1.2.2",
       "_view_module_version": "^1.2.2",
       "data": {
        "cited": 9,
        "datasource": [
         "pid"
        ],
        "id": "TP53-controls-expression-of-HTT",
        "isdirected": true,
        "pubmed": [
         "16278683"
        ],
        "source": "TP53",
        "target": "HTT",
        "type": "controls-expression-of"
       }
      }
     },
     "c2cc11b7187548d0a22fb76ca35b5469": {
      "model_module": "jupyter-cytoscape",
      "model_module_version": "^1.2.2",
      "model_name": "NodeModel",
      "state": {
       "_model_module_version": "^1.2.2",
       "_view_module_version": "^1.2.2",
       "data": {
        "altered": 0,
        "cited": 799,
        "id": "SIRT1",
        "importance": 3,
        "isseed": false,
        "isvalid": true,
        "rank": 46,
        "uniprot": "Q96EB6",
        "uniprotdesc": "NAD-dependent protein deacetylase that linkstranscriptional regulation directly to intracellular energeticsand participates in the coordination of several separated cellularfunctions such as cell cycle, response to DNA damage, metobolism,apoptosis and autophagy. Can modulate chromatin function throughdeacetylation of histones and can promote alterations in themethylation of histones and DNA, leading to transcriptionalrepression. Deacetylates a broad range of transcription factorsand coregulators, thereby regulating target gene expressionpositively and negatively. Serves as a sensor of the cytosolicratio of NAD(+)/NADH which is altered by glucose deprivation andmetabolic changes associated with caloric restriction. Isessential in skeletal muscle cell differentiation and in responseto low nutrients mediates the inhibitory effect on skeletalmyoblast differentiation which also involves 5'-AMP-activatedprotein kinase (AMPK) and nicotinamide phosphoribosyltransferase(NAMPT). Component of the eNoSC (energy-dependent nucleolarsilencing) complex, a complex that mediates silencing of rDNA inresponse to intracellular energy status and acts by recruitinghistone-modifying enzymes. The eNoSC complex is able to sense theenergy status of cell: upon glucose starvation, elevation ofNAD(+)/NADP(+) ratio activates SIRT1, leading to histone H3deacetylation followed by dimethylation of H3 at 'Lys-9' (H3K9me2)by SUV39H1 and the formation of silent chromatin in the rDNAlocus. Deacetylates 'Lys-266' of SUV39H1, leading to itsactivation. Inhibits skeletal muscle differentiation bydeacetylating PCAF and MYOD1. Deacetylates H2A and 'Lys-26' ofHIST1H1E. Deacetylates 'Lys-16' of histone H4 (in vitro). Involvedin NR0B2/SHP corepression function through chromatin remodeling:Recruited to LRH1 target gene promoters by NR0B2/SHP therebystimulating histone H3 and H4 deacetylation leading totranscriptional repression. Proposed to contribute to genomicintegrity via positive regulation of telomere length; however,reports on localization to pericentromeric heterochromatin areconflicting. Proposed to play a role in constitutiveheterochromatin (CH) formation and/or maintenance throughregulation of the available pool of nuclear SUV39H1. Uponoxidative/metabolic stress decreases SUV39H1 degradation byinhibiting SUV39H1 polyubiquitination by MDM2. This increase inSUV39H1 levels enhances SUV39H1 turnover in CH, which in turnseems to accelerate renewal of the heterochromatin whichcorrelates with greater genomic integrity during stress response.Deacetylates 'Lys-382' of p53/TP53 and impairs its ability toinduce transcription-dependent proapoptotic program and modulatecell senescence. Deacetylates TAF1B and thereby represses rDNAtranscription by the RNA polymerase I. Deacetylates MYC, promotesthe association of MYC with MAX and decreases MYC stabilityleading to compromised transformational capability. DeacetylatesFOXO3 in response to oxidative stress thereby increasing itsability to induce cell cycle arrest and resistance to oxidativestress but inhibiting FOXO3-mediated induction of apoptosistranscriptional activity; also leading to FOXO3 ubiquitination andprotesomal degradation. Appears to have a similar effect onMLLT7/FOXO4 in regulation of transcriptional activity andapoptosis. Deacetylates DNMT1; thereby impairs DNMT1methyltransferase-independent transcription repressor activity,modulates DNMT1 cell cycle regulatory function and DNMT1-mediatedgene silencing. Deacetylates RELA/NF-kappa-B p65 therebyinhibiting its transactivating potential and augments apoptosis inresponse to TNF-alpha. Deacetylates HIF1A, KAT5/TIP60, RB1 andHIC1. Deacetylates FOXO1 resulting in its nuclear retention andenhancement of its transcriptional activity leading to increasedgluconeogenesis in liver. Inhibits E2F1 transcriptional activityand apoptotic function, possibly by deacetylation. Involved inHES1- and HEY2-mediated transcriptional repression. In cooperationwith MYCN seems to be involved in transcriptional repression ofDUSP6/MAPK3 leading to MYCN stabilization by phosphorylation at'Ser-62'. Deacetylates MEF2D. Required for antagonist-mediatedtranscription suppression of AR-dependent genes which may belinked to local deacetylation of histone H3. Represses HNF1A-mediated transcription. Required for the repression of ESRRG byCREBZF. Modulates AP-1 transcription factor activity. DeacetylatesNR1H3 AND NR1H2 and deacetylation of NR1H3 at 'Lys-434' positivelyregulates transcription of NR1H3:RXR target genes, promotes NR1H3proteosomal degradation and results in cholesterol efflux; apromoter clearing mechanism after reach round of transcription isproposed. Involved in lipid metabolism. Implicated in regulationof adipogenesis and fat mobilization in white adipocytes byrepression of PPARG which probably involves association with NCOR1and SMRT/NCOR2. Deacetylates ACSS2 leading to its activation, andHMGCS1. Involved in liver and muscle metabolism. Throughdeacteylation and activation of PPARGC1A is required to activatefatty acid oxidation in skeletel muscle under low-glucoseconditions and is involved in glucose homeostasis. Involved inregulation of PPARA and fatty acid beta-oxidation in liver.Involved in positive regulation of insulin secretion in pancreaticbeta cells in response to glucose; the function seems to implytranscriptional repression of UCP2. Proposed to deacetylate IRS2thereby facilitating its insulin-induced tyrosine phosphorylation.Deacetylates SREBF1 isoform SREBP-1C thereby decreasing itsstability and transactivation in lipogenic gene expression.Involved in DNA damage response by repressing genes which areinvolved in DNA repair, such as XPC and TP73, deacetylatingXRCC6/Ku70, and faciliting recruitment of additional factors tosites of damaged DNA, such as SIRT1-deacetylated NBN can recruitATM to initiate DNA repair and SIRT1-deacetylated XPA interactswith RPA2. Also involved in DNA repair of DNA double-strand breaksby homologous recombination and specifically single-strandannealing independently of XRCC6/Ku70 and NBN. Transcriptionalsuppression of XPC probably involves an E2F4:RBL2 suppressorcomplex and protein kinase B (AKT) signaling. Transcriptionalsuppression of TP73 probably involves E2F4 and PCAF. DeacetylatesWRN thereby regulating its helicase and exonuclease activities andregulates WRN nuclear translocation in response to DNA damage.Deacetylates APEX1 at 'Lys-6' and 'Lys-7' and stimulates cellularAP endonuclease activity by promoting the association of APEX1 toXRCC1. Increases p53/TP53-mediated transcription-independentapoptosis by blocking nuclear translocation of cytoplasmicp53/TP53 and probably redirecting it to mitochondria. DeacetylatesXRCC6/Ku70 at 'Lys-539' and 'Lys-542' causing it to sequester BAXaway from mitochondria thereby inhibiting stress-inducedapoptosis. Is involved in autophagy, presumably by deacetylatingATG5, ATG7 and MAP1LC3B/ATG8. Deacetylates AKT1 which leads toenhanced binding of AKT1 and PDK1 to PIP3 and promotes theiractivation. Proposed to play role in regulation of STK11/LBK1-dependent AMPK signaling pathways implicated in cellularsenescence which seems to involve the regulation of theacetylation status of STK11/LBK1. Can deacetylate STK11/LBK1 andthereby increase its activity, cytoplasmic localization andassociation with STRAD; however, the relevance of such activity innormal cells is unclear. In endothelial cells is shown to inhibitSTK11/LBK1 activity and to promote its degradation. DeacetylatesSMAD7 at 'Lys-64' and 'Lys-70' thereby promoting its degradation.Deacetylates CIITA and augments its MHC class II transactivationand contributes to its stability. Deacteylates MECOM/EVI1. Isoform2 is shown to deacetylate 'Lys-382' of p53/TP53, however withlower activity than isoform 1. In combination, the two isoformsexert an additive effect. Isoform 2 regulates p53/TP53 expressionand cellular stress response and is in turn repressed by p53/TP53presenting a SIRT1 isoform-dependent auto-regulatory loop. In caseof HIV-1 infection, interacts with and deacetylates the viral Tatprotein. The viral Tat protein inhibits SIRT1 deacetylationactivity toward RELA/NF-kappa-B p65, thereby potentiates itstranscriptional activity and SIRT1 is proposed to contribute to T-cell hyperactivation during infection. Deacetylates PML at 'Lys-487' and this deacetylation promotes PML control of PER2 nuclearlocalization. During the neurogenic transition, repress selectiveNOTCH1-target genes through histone deacetylation in a BCL6-dependent manner and leading to neuronal differentiation.Regulates the circadian expression of several core clock genes,including ARNTL/BMAL1, RORC, PER2 and CRY1 and plays a criticalrole in maintaining a controlled rhythmicity in histoneacetylation, thereby contributing to circadian chromatinremodeling. Deacetylates ARNTL/BMAL1 and histones at the circadiangene promoters in order to facilitate repression by inhibitorycomponents of the circadian oscillator. Deacetylates PER2,facilitating its ubiquitination and degradation by the proteosome.Protects cardiomyocytes against palmitate-induced apoptosis(PubMed:11672523, PubMed:12006491, PubMed:14976264,PubMed:14980222, PubMed:15126506, PubMed:15152190,PubMed:15205477, PubMed:15469825, PubMed:15692560,PubMed:16079181, PubMed:16166628, PubMed:16892051,PubMed:16998810, PubMed:17283066, PubMed:17334224,PubMed:17505061, PubMed:17612497, PubMed:17620057,PubMed:17936707, PubMed:18203716, PubMed:18296641,PubMed:18662546, PubMed:18687677, PubMed:19188449,PubMed:19220062, PubMed:19364925, PubMed:19690166,PubMed:19934257, PubMed:20097625, PubMed:20100829,PubMed:20203304, PubMed:20375098, PubMed:20620956,PubMed:20670893, PubMed:20817729, PubMed:20975832,PubMed:21149730, PubMed:21245319, PubMed:21471201,PubMed:21504832, PubMed:21555002, PubMed:21698133,PubMed:21701047, PubMed:21775285, PubMed:21807113,PubMed:21841822, PubMed:21890893, PubMed:21909281,PubMed:21947282, PubMed:22274616). Deacetylates XBP1 isoform 2;deacetylation decreases protein stability of XBP1 isoform 2 andinhibits its transcriptional activity (By similarity)."
       },
       "grabbable": true,
       "grabbed": false,
       "position": {
        "x": 773.6771551026915,
        "y": 182.79214843145496
       }
      }
     },
     "c32ae0fc0d904400ab38179c761a2d82": {
      "model_module": "jupyter-cytoscape",
      "model_module_version": "^1.2.2",
      "model_name": "NodeModel",
      "state": {
       "_model_module_version": "^1.2.2",
       "_view_module_version": "^1.2.2",
       "data": {
        "altered": 0,
        "cited": 3201,
        "id": "RB1",
        "importance": 3,
        "isseed": false,
        "isvalid": true,
        "rank": 15,
        "uniprot": "P06400",
        "uniprotdesc": "Key regulator of entry into cell division that acts as atumor suppressor. Promotes G0-G1 transition when phosphorylated byCDK3/cyclin-C. Acts as a transcription repressor of E2F1 targetgenes. The underphosphorylated, active form of RB1 interacts withE2F1 and represses its transcription activity, leading to cellcycle arrest. Directly involved in heterochromatin formation bymaintaining overall chromatin structure and, in particular, thatof constitutive heterochromatin by stabilizing histonemethylation. Recruits and targets histone methyltransferasesSUV39H1, SUV420H1 and SUV420H2, leading to epigenetictranscriptional repression. Controls histone H4 'Lys-20'trimethylation. Inhibits the intrinsic kinase activity of TAF1.Mediates transcriptional repression by SMARCA4/BRG1 by recruitinga histone deacetylase (HDAC) complex to the c-FOS promoter. Inresting neurons, transcription of the c-FOS promoter is inhibitedby BRG1-dependent recruitment of a phospho-RB1-HDAC1 repressorcomplex. Upon calcium influx, RB1 is dephosphorylated bycalcineurin, which leads to release of the repressor complex (Bysimilarity). In case of viral infections, interactions with SV40large T antigen, HPV E7 protein or adenovirus E1A protein inducethe disassembly of RB1-E2F1 complex thereby disrupting RB1'sactivity. "
       },
       "grabbable": true,
       "grabbed": false,
       "position": {
        "x": 882.4055776191673,
        "y": 188.8443579932413
       }
      }
     },
     "c36b074485644cc682bf28057f2bc7ff": {
      "model_module": "jupyter-cytoscape",
      "model_module_version": "^1.2.2",
      "model_name": "NodeModel",
      "state": {
       "_model_module_version": "^1.2.2",
       "_view_module_version": "^1.2.2",
       "data": {
        "altered": 0,
        "cited": 146,
        "id": "DAPK3",
        "importance": 3,
        "isseed": false,
        "isvalid": true,
        "rank": 112,
        "uniprot": "O43293",
        "uniprotdesc": "Serine/threonine kinase which is involved in theregulation of apoptosis, autophagy, transcription, translation andactin cytoskeleton reorganization. Involved in the regulation ofsmooth muscle contraction. Regulates both type I (caspase-dependent) apoptotic and type II (caspase-independent) autophagiccell deaths signal, depending on the cellular setting. Involved inregulation of starvation-induced autophagy. Regulates myosinphosphorylation in both smooth muscle and non-muscle cells. Insmooth muscle, regulates myosin either directly by phosphorylatingMYL12B and MYL9 or through inhibition of smooth muscle myosinphosphatase (SMPP1M) via phosphorylation of PPP1R12A; theinhibition of SMPP1M functions to enhance muscle responsiveness toCa(2+) and promote a contractile state. Phosphorylates MYL12B innon-muscle cells leading to reorganization of actin cytoskeleton.Isoform 2 can phosphorylate myosin, PPP1R12A and MYL12B.Overexpression leads to condensation of actin stress fibers intothick bundles. Involved in actin filament focal adhesion dynamics.The function in both reorganization of actin cytoskeleton andfocal adhesion dissolution is modulated by RhoD. Positivelyregulates canonical Wnt/beta-catenin signaling through interactionwith NLK and TCF7L2. Phosphorylates RPL13A on 'Ser-77' uponinterferon-gamma activation which is causing RPL13A release fromthe ribosome, RPL13A association with the GAIT complex and itssubsequent involvement in transcript-selective translationinhibition. Enhances transcription from AR-responsive promoters ina hormone- and kinase-dependent manner. Involved in regulation ofcell cycle progression and cell proliferation. May be a tumorsuppressor. "
       },
       "grabbable": true,
       "grabbed": false,
       "position": {
        "x": 871.3707760410626,
        "y": 338.8443609932413
       }
      }
     },
     "c3d8290af791442d975acae7f6a4ae0e": {
      "model_module": "jupyter-cytoscape",
      "model_module_version": "^1.2.2",
      "model_name": "EdgeModel",
      "state": {
       "_model_module_version": "^1.2.2",
       "_view_module_version": "^1.2.2",
       "data": {
        "cited": 0,
        "datasource": [
         "PANTHER"
        ],
        "id": "MAPK12-controls-state-change-of-TP73",
        "isdirected": true,
        "pubmed": [],
        "source": "MAPK12",
        "target": "TP73",
        "type": "controls-state-change-of"
       }
      }
     },
     "c4204693f32a478ea62d9856ebbd0647": {
      "model_module": "jupyter-cytoscape",
      "model_module_version": "^1.2.2",
      "model_name": "NodeModel",
      "state": {
       "_model_module_version": "^1.2.2",
       "_view_module_version": "^1.2.2",
       "data": {
        "altered": 0,
        "cited": 20,
        "id": "PCBP4",
        "importance": 3,
        "isseed": false,
        "isvalid": true,
        "rank": 165,
        "uniprot": "P57723",
        "uniprotdesc": "Single-stranded nucleic acid binding protein that bindspreferentially to oligo dC. "
       },
       "grabbable": true,
       "grabbed": false,
       "position": {
        "x": 959.523655944544,
        "y": 24.295566038925458
       }
      }
     },
     "c44884710ffd4005a812c10f1ae4097b": {
      "model_module": "jupyter-cytoscape",
      "model_module_version": "^1.2.2",
      "model_name": "EdgeModel",
      "state": {
       "_model_module_version": "^1.2.2",
       "_view_module_version": "^1.2.2",
       "data": {
        "cited": 1,
        "datasource": [
         "PANTHER"
        ],
        "id": "EP300-controls-state-change-of-TP73",
        "isdirected": true,
        "pubmed": [],
        "source": "EP300",
        "target": "TP73",
        "type": "controls-state-change-of"
       }
      }
     },
     "c48f381d8c514406af6ed0d967ad2212": {
      "model_module": "jupyter-cytoscape",
      "model_module_version": "^1.2.2",
      "model_name": "EdgeModel",
      "state": {
       "_model_module_version": "^1.2.2",
       "_view_module_version": "^1.2.2",
       "data": {
        "cited": 166,
        "datasource": [
         "pid"
        ],
        "id": "TP53-controls-expression-of-APC",
        "isdirected": true,
        "pubmed": [
         "11279192"
        ],
        "source": "TP53",
        "target": "APC",
        "type": "controls-expression-of"
       }
      }
     },
     "c4dbbf2ef9db4bd4871e338f4b1efe22": {
      "model_module": "jupyter-cytoscape",
      "model_module_version": "^1.2.2",
      "model_name": "EdgeModel",
      "state": {
       "_model_module_version": "^1.2.2",
       "_view_module_version": "^1.2.2",
       "data": {
        "cited": 46,
        "datasource": [
         "PANTHER"
        ],
        "id": "WRN-controls-state-change-of-TP53",
        "isdirected": true,
        "pubmed": [],
        "source": "WRN",
        "target": "TP53",
        "type": "controls-state-change-of"
       }
      }
     },
     "c50509f2f57d49958bc80de9a35b6261": {
      "model_module": "jupyter-cytoscape",
      "model_module_version": "^1.2.2",
      "model_name": "EdgeModel",
      "state": {
       "_model_module_version": "^1.2.2",
       "_view_module_version": "^1.2.2",
       "data": {
        "cited": 98,
        "datasource": [
         "PhosphoSite",
         "pid"
        ],
        "id": "HIPK2-controls-state-change-of-TP53",
        "isdirected": true,
        "pubmed": [
         "10581258",
         "11030628",
         "11101524",
         "11300786",
         "11495913",
         "11740489",
         "11780126",
         "11875057",
         "12021785",
         "12093737",
         "12397361",
         "12427754",
         "12676607",
         "12860987",
         "12902982",
         "12907596",
         "14749479",
         "15322239",
         "15381073",
         "15471885",
         "15489221",
         "15526030",
         "15619621",
         "15657359",
         "15706352",
         "15750624",
         "15843377",
         "15870257",
         "15897882",
         "16219768",
         "16247456",
         "16377624",
         "16601678",
         "16717128",
         "16738336",
         "16793543",
         "17105820",
         "17107963",
         "17210684",
         "17332358",
         "17349958",
         "17349959",
         "17380123",
         "17567906",
         "17591690",
         "17891183",
         "17906639",
         "18056705",
         "18160537",
         "18216278",
         "18536714",
         "18560558",
         "18769132",
         "19465479",
         "19819244",
         "19828042",
         "19857493",
         "19861417",
         "19882354",
         "19965871",
         "20018442",
         "20024960",
         "20123963",
         "20171273",
         "20363803",
         "20514025",
         "20610713",
         "20673369",
         "20696760",
         "20811699",
         "20935676",
         "20962272",
         "21057547",
         "21383696",
         "21394211",
         "21642861",
         "21660965",
         "21765463",
         "21765464",
         "22011578",
         "22797063",
         "22878263",
         "23149944",
         "24145406",
         "24196445",
         "24379358",
         "24899407"
        ],
        "source": "HIPK2",
        "target": "TP53",
        "type": "controls-state-change-of"
       }
      }
     },
     "c57da4efc4174de3a4eaa485cf7dc152": {
      "model_module": "jupyter-cytoscape",
      "model_module_version": "^1.2.2",
      "model_name": "EdgeModel",
      "state": {
       "_model_module_version": "^1.2.2",
       "_view_module_version": "^1.2.2",
       "data": {
        "cited": 1,
        "datasource": [
         "pid"
        ],
        "id": "SP1-controls-expression-of-CCNB1",
        "isdirected": true,
        "pubmed": [
         "15710382"
        ],
        "source": "SP1",
        "target": "CCNB1",
        "type": "controls-expression-of"
       }
      }
     },
     "c5a22b95270f4aac8426ccff9785becc": {
      "model_module": "jupyter-cytoscape",
      "model_module_version": "^1.2.2",
      "model_name": "EdgeModel",
      "state": {
       "_model_module_version": "^1.2.2",
       "_view_module_version": "^1.2.2",
       "data": {
        "cited": 0,
        "datasource": [
         "PANTHER"
        ],
        "id": "MAPK13-controls-state-change-of-TP53",
        "isdirected": true,
        "pubmed": [],
        "source": "MAPK13",
        "target": "TP53",
        "type": "controls-state-change-of"
       }
      }
     },
     "c5f21c36d6c04c3798ded22ba65ddb09": {
      "model_module": "jupyter-cytoscape",
      "model_module_version": "^1.2.2",
      "model_name": "EdgeModel",
      "state": {
       "_model_module_version": "^1.2.2",
       "_view_module_version": "^1.2.2",
       "data": {
        "cited": 0,
        "datasource": [
         "PANTHER"
        ],
        "id": "IGBP1-controls-state-change-of-TP53",
        "isdirected": true,
        "pubmed": [],
        "source": "IGBP1",
        "target": "TP53",
        "type": "controls-state-change-of"
       }
      }
     },
     "c60334f4203c497686c62fac921c70f8": {
      "model_module": "jupyter-cytoscape",
      "model_module_version": "^1.2.2",
      "model_name": "NodeModel",
      "state": {
       "_model_module_version": "^1.2.2",
       "_view_module_version": "^1.2.2",
       "data": {
        "altered": 0,
        "cited": 111,
        "id": "PRMT5",
        "importance": 3,
        "isseed": false,
        "isvalid": true,
        "rank": 118,
        "uniprot": "O14744",
        "uniprotdesc": "Arginine methyltransferase that can both catalyze theformation of omega-N monomethylarginine (MMA) and symmetricaldimethylarginine (sDMA), with a preference for the formation ofMMA. Specifically mediates the symmetrical dimethylation ofarginine residues in the small nuclear ribonucleoproteins Sm D1(SNRPD1) and Sm D3 (SNRPD3); such methylation being required forthe assembly and biogenesis of snRNP core particles. MethylatesSUPT5H. Mono- and dimethylates arginine residues of myelin basicprotein (MBP) in vitro. Plays a role in the assembly of snRNP coreparticles. May play a role in cytokine-activated transductionpathways. Negatively regulates cyclin E1 promoter activity andcellular proliferation. May regulate the SUPT5H transcriptionalelongation properties. May be part of a pathway that is connectedto a chloride current, possibly through cytoskeletalrearrangement. Methylates histone H2A and H4 'Arg-3' during germcell development. Methylates histone H3 'Arg-8', which may represstranscription. Methylates the Piwi proteins (PIWIL1, PIWIL2 andPIWIL4), methylation of Piwi proteins being required for theinteraction with Tudor domain-containing proteins and subsequentlocalization to the meiotic nuage. Methylates RPS10. AttenuatesEGF signaling through the MAPK1/MAPK3 pathway acting at 2 levels.First, monomethylates EGFR; this enhances EGFR 'Tyr-1197'phosphorylation and PTPN6 recruitment, eventually leading toreduced SOS1 phosphorylation. Second, methylates RAF1 and probablyBRAF, hence destabilizing these 2 signaling proteins and reducingtheir catalytic activity. Required for induction of E-selectin andVCAM-1, on the endothelial cells surface at sites of inflammation.Methylates HOXA9. Methylates and regulates SRGAP2 which isinvolved in cell migration and differentiation. Acts as atranscriptional corepressor in CRY1-mediated repression of thecore circadian component PER1 by regulating the H4R3 dimethylationat the PER1 promoter. "
       },
       "grabbable": true,
       "grabbed": false,
       "position": {
        "x": 909.5236549445441,
        "y": -11.155646006758696
       }
      }
     },
     "c6ac3a47158b425bacb35e180aa3a877": {
      "model_module": "jupyter-cytoscape",
      "model_module_version": "^1.2.2",
      "model_name": "EdgeModel",
      "state": {
       "_model_module_version": "^1.2.2",
       "_view_module_version": "^1.2.2",
       "data": {
        "cited": 0,
        "datasource": [
         "PANTHER"
        ],
        "id": "MAPK14-controls-state-change-of-TP73",
        "isdirected": true,
        "pubmed": [],
        "source": "MAPK14",
        "target": "TP73",
        "type": "controls-state-change-of"
       }
      }
     },
     "c72d123b7e7b49b8be02617364291d67": {
      "model_module": "jupyter-cytoscape",
      "model_module_version": "^1.2.2",
      "model_name": "NodeModel",
      "state": {
       "_model_module_version": "^1.2.2",
       "_view_module_version": "^1.2.2",
       "data": {
        "altered": 0,
        "cited": 77,
        "id": "CABIN1",
        "importance": 3,
        "isseed": false,
        "isvalid": true,
        "rank": 132,
        "uniprot": "Q9Y6J0",
        "uniprotdesc": "May be required for replication-independent chromatinassembly. May serve as a negative regulator of T-cell receptor(TCR) signaling via inhibition of calcineurin. Inhibition ofactivated calcineurin is dependent on both PKC and calciumsignals. Acts as a negative regulator of p53/TP53 by keeping p53in an inactive state on chromatin at promoters of a subset of it'starget genes. "
       },
       "grabbable": true,
       "grabbed": false,
       "position": {
        "x": 620.6279625351583,
        "y": 32.924630963462185
       }
      }
     },
     "c7b43599bdff41f0a0a48cf3a30481b8": {
      "model_module": "jupyter-cytoscape",
      "model_module_version": "^1.2.2",
      "model_name": "EdgeModel",
      "state": {
       "_model_module_version": "^1.2.2",
       "_view_module_version": "^1.2.2",
       "data": {
        "cited": 65,
        "datasource": [
         "Reactome",
         "PhosphoSite",
         "pid",
         "PANTHER"
        ],
        "id": "MAPK14-controls-state-change-of-TP53",
        "isdirected": true,
        "pubmed": [
         "10202145",
         "10212189",
         "10581258",
         "10606744",
         "10608806",
         "10611322",
         "10656682",
         "10656795",
         "10673501",
         "10706102",
         "10710310",
         "10713094",
         "10723129",
         "10733583",
         "10734067",
         "10744722",
         "10747897",
         "10958792",
         "11030628",
         "11078726",
         "11096068",
         "11101524",
         "11121242",
         "11244509",
         "11258706",
         "11283254",
         "11300786",
         "11313957",
         "11314044",
         "11397945",
         "11423984",
         "11447225",
         "11495913",
         "11526498",
         "11546806",
         "11583595",
         "11706017",
         "11707453",
         "11709713",
         "11711532",
         "11740489",
         "11780126",
         "11850826",
         "11861384",
         "11865061",
         "11875057",
         "11896572",
         "11896587",
         "12021785",
         "12049739",
         "12071847",
         "12080066",
         "12082529",
         "12091386",
         "12093737",
         "12151394",
         "12324477",
         "12384533",
         "12393500",
         "12397361",
         "12397362",
         "12427754",
         "12511424",
         "12518062",
         "12519769",
         "12519780",
         "12531896",
         "12588868",
         "12606585",
         "12637545",
         "12676607",
         "12702572",
         "12756247",
         "12771937",
         "12776195",
         "12860987",
         "12890678",
         "12902982",
         "12907596",
         "12939400",
         "12955074",
         "12959929",
         "12969974",
         "1406679",
         "14517211",
         "14527925",
         "14612532",
         "14665630",
         "14712210",
         "14749479",
         "14871840",
         "14871926",
         "14968111",
         "15048074",
         "15064747",
         "15077171",
         "15078887",
         "15082766",
         "15140942",
         "15155458",
         "15159397",
         "15178764",
         "15181149",
         "15226429",
         "15254178",
         "15258567",
         "15269203",
         "15310764",
         "15322239",
         "15355354",
         "15361830",
         "15381073",
         "15456784",
         "15471885",
         "15489221",
         "15489892",
         "15526030",
         "15533933",
         "15542844",
         "15580310",
         "15619621",
         "15657359",
         "15665826",
         "15706352",
         "15750624",
         "15758953",
         "15775976",
         "15782130",
         "15792956",
         "15794754",
         "15843377",
         "15866171",
         "15870257",
         "15897882",
         "16219768",
         "16223874",
         "16247456",
         "16288207",
         "16293623",
         "16377624",
         "16397295",
         "16436515",
         "16478990",
         "16489034",
         "16501611",
         "16552184",
         "16601678",
         "16632641",
         "16636671",
         "16648554",
         "16651424",
         "16714289",
         "16717128",
         "16731759",
         "16738336",
         "16774943",
         "16783362",
         "16790523",
         "16793543",
         "16818505",
         "16818520",
         "16891474",
         "16916644",
         "16949371",
         "17045821",
         "17105820",
         "17107963",
         "17108107",
         "17210684",
         "17234789",
         "17245430",
         "17254968",
         "17283137",
         "17297446",
         "17297454",
         "17332358",
         "17339337",
         "17349958",
         "17349959",
         "17353187",
         "17363488",
         "17371838",
         "17380123",
         "17456577",
         "17486112",
         "17535811",
         "17553757",
         "17567906",
         "17591690",
         "17596534",
         "17609585",
         "17616578",
         "17668048",
         "17684018",
         "17698850",
         "17712528",
         "17855337",
         "17891183",
         "17906639",
         "17936559",
         "17942552",
         "17967874",
         "17975552",
         "17976513",
         "17977830",
         "18032786",
         "18045533",
         "18056442",
         "18056705",
         "18097051",
         "18159951",
         "18160537",
         "18216278",
         "18246126",
         "18272544",
         "18289945",
         "18332866",
         "18339864",
         "18345031",
         "18381438",
         "18406507",
         "18431490",
         "18449195",
         "18490454",
         "18536714",
         "18560558",
         "18604166",
         "18614045",
         "18715874",
         "18718914",
         "18765533",
         "18769132",
         "18778462",
         "18785202",
         "18794113",
         "18818083",
         "18847491",
         "18985806",
         "18995830",
         "19085961",
         "19203586",
         "19251701",
         "19266268",
         "19303885",
         "19465479",
         "19477925",
         "19819244",
         "19828042",
         "19828454",
         "19857493",
         "19861417",
         "19882354",
         "19907922",
         "19934315",
         "19962312",
         "19965871",
         "20005840",
         "20018442",
         "20024960",
         "20026654",
         "20080565",
         "20123963",
         "20171273",
         "20353948",
         "20363803",
         "20372057",
         "20514025",
         "20562916",
         "20599567",
         "20610713",
         "20637859",
         "20661218",
         "20663147",
         "20673369",
         "20696760",
         "20711232",
         "20811699",
         "20931131",
         "20935676",
         "20962272",
         "21057547",
         "21317932",
         "21383696",
         "21394211",
         "21423215",
         "21441950",
         "21465263",
         "21532626",
         "21642861",
         "21660965",
         "21757780",
         "21765463",
         "21765464",
         "21832239",
         "22002314",
         "22011578",
         "22030623",
         "22037398",
         "22055193",
         "22099307",
         "22112863",
         "22179839",
         "22285752",
         "22728651",
         "22797063",
         "22815859",
         "22878263",
         "22975381",
         "23148227",
         "23149944",
         "23150668",
         "23184057",
         "23678107",
         "23798621",
         "23871434",
         "23890999",
         "23982736",
         "24038750",
         "24145406",
         "24196445",
         "24379358",
         "24657168",
         "24711418",
         "24820418",
         "24899407",
         "24958101",
         "25202122",
         "8327466",
         "9363941",
         "9372954",
         "9733515",
         "9744860",
         "9843217",
         "9925639"
        ],
        "source": "MAPK14",
        "target": "TP53",
        "type": "controls-state-change-of"
       }
      }
     },
     "c87c323ced35400c96961c54c38ea13c": {
      "model_module": "jupyter-cytoscape",
      "model_module_version": "^1.2.2",
      "model_name": "NodeModel",
      "state": {
       "_model_module_version": "^1.2.2",
       "_view_module_version": "^1.2.2",
       "data": {
        "altered": 0,
        "cited": 313,
        "id": "NGFR",
        "importance": 3,
        "isseed": false,
        "isvalid": true,
        "rank": 80,
        "uniprot": "P08138",
        "uniprotdesc": "Plays a role in the regulation of the translocation ofGLUT4 to the cell surface in adipocytes and skeletal muscle cellsin response to insulin, probably by regulating RAB31 activity, andthereby contributes to the regulation of insulin-dependent glucoseuptake (By similarity). Low affinity receptor which can bind toNGF, BDNF, NT-3, and NT-4. Can mediate cell survival as well ascell death of neural cells. Necessary for the circadianoscillation of the clock genes ARNTL/BMAL1, PER1, PER2 and NR1D1in the suprachiasmatic nucleus (SCN) of the brain and in liver andof the genes involved in glucose and lipid metabolism in theliver. "
       },
       "grabbable": true,
       "grabbed": false,
       "position": {
        "x": 471.432192557507,
        "y": 407.5139280786979
       }
      }
     },
     "c8faec6b343240b6b11d119578d90dd6": {
      "model_module": "jupyter-cytoscape",
      "model_module_version": "^1.2.2",
      "model_name": "EdgeModel",
      "state": {
       "_model_module_version": "^1.2.2",
       "_view_module_version": "^1.2.2",
       "data": {
        "cited": 0,
        "datasource": [
         "PANTHER"
        ],
        "id": "PPP2CB-controls-state-change-of-TP63",
        "isdirected": true,
        "pubmed": [],
        "source": "PPP2CB",
        "target": "TP63",
        "type": "controls-state-change-of"
       }
      }
     },
     "ca7f12f30fb646ea8e8eae3bc8ba6716": {
      "model_module": "jupyter-cytoscape",
      "model_module_version": "^1.2.2",
      "model_name": "NodeModel",
      "state": {
       "_model_module_version": "^1.2.2",
       "_view_module_version": "^1.2.2",
       "data": {
        "id": "parent-0",
        "name": [
         "Algeria"
        ]
       },
       "grabbable": true,
       "grabbed": false,
       "position": {
        "x": 581.5785379731285,
        "y": 10.50717792426343
       },
       "selectable": false
      }
     },
     "ca8d23b93eca4905a8a2c30977d1fac3": {
      "model_module": "jupyter-cytoscape",
      "model_module_version": "^1.2.2",
      "model_name": "EdgeModel",
      "state": {
       "_model_module_version": "^1.2.2",
       "_view_module_version": "^1.2.2",
       "data": {
        "cited": 8,
        "datasource": [
         "pid"
        ],
        "id": "SETD7-controls-state-change-of-TP53",
        "isdirected": true,
        "pubmed": [
         "15525938",
         "17646389"
        ],
        "source": "SETD7",
        "target": "TP53",
        "type": "controls-state-change-of"
       }
      }
     },
     "ca94ceb0aee94d079d2d7552f54424b6": {
      "model_module": "jupyter-cytoscape",
      "model_module_version": "^1.2.2",
      "model_name": "NodeModel",
      "state": {
       "_model_module_version": "^1.2.2",
       "_view_module_version": "^1.2.2",
       "data": {
        "altered": 0,
        "cited": 635,
        "id": "BAX",
        "importance": 3,
        "isseed": false,
        "isvalid": true,
        "rank": 51,
        "uniprot": "Q07812",
        "uniprotdesc": "Accelerates programmed cell death by binding to, andantagonizing the apoptosis repressor BCL2 or its adenovirushomolog E1B 19k protein. Under stress conditions, undergoes aconformation change that causes translocation to the mitochondrionmembrane, leading to the release of cytochrome c that thentriggers apoptosis. Promotes activation of CASP3, and therebyapoptosis. "
       },
       "grabbable": true,
       "grabbed": false,
       "position": {
        "x": 573.6771511026915,
        "y": 42.146553809223846
       }
      }
     },
     "cad839c185e849f3a736cd1c4391489d": {
      "model_module": "jupyter-cytoscape",
      "model_module_version": "^1.2.2",
      "model_name": "EdgeModel",
      "state": {
       "_model_module_version": "^1.2.2",
       "_view_module_version": "^1.2.2",
       "data": {
        "cited": 47,
        "datasource": [
         "PhosphoSite"
        ],
        "id": "CDK1-controls-state-change-of-TP53",
        "isdirected": true,
        "pubmed": [
         "10644693",
         "10656795",
         "11078726",
         "11300786",
         "11687964",
         "11875057",
         "12021785",
         "12397361",
         "12397362",
         "12860987",
         "1406679",
         "14640983",
         "14702041",
         "14744935",
         "15302935",
         "15619621",
         "16037820",
         "16227590",
         "16552184",
         "16674116",
         "16784539",
         "17287340",
         "17906639",
         "17942552",
         "18521083",
         "18769132",
         "18847512",
         "19413330",
         "19574224",
         "19664995",
         "20363803",
         "20562916",
         "20661218",
         "20686112",
         "20808790",
         "20815410",
         "21659604",
         "21983960",
         "22011578",
         "22496350",
         "22547687",
         "23201157",
         "23312004",
         "25159151",
         "7596441",
         "8327466",
         "9254608"
        ],
        "source": "CDK1",
        "target": "TP53",
        "type": "controls-state-change-of"
       }
      }
     },
     "cbbe38b73e214266beb8f83cf290eff5": {
      "model_module": "jupyter-cytoscape",
      "model_module_version": "^1.2.2",
      "model_name": "EdgeModel",
      "state": {
       "_model_module_version": "^1.2.2",
       "_view_module_version": "^1.2.2",
       "data": {
        "cited": 0,
        "datasource": [
         "pid"
        ],
        "id": "TP53-controls-expression-of-IRF5",
        "isdirected": true,
        "pubmed": [
         "11973653"
        ],
        "source": "TP53",
        "target": "IRF5",
        "type": "controls-expression-of"
       }
      }
     },
     "cc57c0e854b44f21b0e99560f7003f6d": {
      "model_module": "jupyter-cytoscape",
      "model_module_version": "^1.2.2",
      "model_name": "NodeModel",
      "state": {
       "_model_module_version": "^1.2.2",
       "_view_module_version": "^1.2.2",
       "data": {
        "altered": 0,
        "cited": 111,
        "id": "PRMT5",
        "importance": 3,
        "isseed": false,
        "isvalid": true,
        "rank": 118,
        "uniprot": "O14744",
        "uniprotdesc": "Arginine methyltransferase that can both catalyze theformation of omega-N monomethylarginine (MMA) and symmetricaldimethylarginine (sDMA), with a preference for the formation ofMMA. Specifically mediates the symmetrical dimethylation ofarginine residues in the small nuclear ribonucleoproteins Sm D1(SNRPD1) and Sm D3 (SNRPD3); such methylation being required forthe assembly and biogenesis of snRNP core particles. MethylatesSUPT5H. Mono- and dimethylates arginine residues of myelin basicprotein (MBP) in vitro. Plays a role in the assembly of snRNP coreparticles. May play a role in cytokine-activated transductionpathways. Negatively regulates cyclin E1 promoter activity andcellular proliferation. May regulate the SUPT5H transcriptionalelongation properties. May be part of a pathway that is connectedto a chloride current, possibly through cytoskeletalrearrangement. Methylates histone H2A and H4 'Arg-3' during germcell development. Methylates histone H3 'Arg-8', which may represstranscription. Methylates the Piwi proteins (PIWIL1, PIWIL2 andPIWIL4), methylation of Piwi proteins being required for theinteraction with Tudor domain-containing proteins and subsequentlocalization to the meiotic nuage. Methylates RPS10. AttenuatesEGF signaling through the MAPK1/MAPK3 pathway acting at 2 levels.First, monomethylates EGFR; this enhances EGFR 'Tyr-1197'phosphorylation and PTPN6 recruitment, eventually leading toreduced SOS1 phosphorylation. Second, methylates RAF1 and probablyBRAF, hence destabilizing these 2 signaling proteins and reducingtheir catalytic activity. Required for induction of E-selectin andVCAM-1, on the endothelial cells surface at sites of inflammation.Methylates HOXA9. Methylates and regulates SRGAP2 which isinvolved in cell migration and differentiation. Acts as atranscriptional corepressor in CRY1-mediated repression of thecore circadian component PER1 by regulating the H4R3 dimethylationat the PER1 promoter. "
       },
       "grabbable": true,
       "grabbed": false,
       "position": {
        "x": 897.7814183257727,
        "y": -17.207855568545046
       }
      }
     },
     "ccf3ff374520454b8450170bc455b8dd": {
      "model_module": "jupyter-cytoscape",
      "model_module_version": "^1.2.2",
      "model_name": "NodeModel",
      "state": {
       "_model_module_version": "^1.2.2",
       "_view_module_version": "^1.2.2",
       "data": {
        "altered": 0,
        "cited": 6,
        "id": "PPP2CB",
        "importance": 3,
        "isseed": false,
        "isvalid": true,
        "rank": 185,
        "uniprot": "P62714",
        "uniprotdesc": "PP2A can modulate the activity of phosphorylase B kinasecasein kinase 2, mitogen-stimulated S6 kinase, and MAP-2 kinase."
       },
       "grabbable": true,
       "grabbed": false,
       "position": {
        "x": 723.6771541026915,
        "y": 95.00063218900391
       }
      }
     },
     "cd079284548c4c6482c0513bab1791d5": {
      "model_module": "jupyter-cytoscape",
      "model_module_version": "^1.2.2",
      "model_name": "NodeModel",
      "state": {
       "_model_module_version": "^1.2.2",
       "_view_module_version": "^1.2.2",
       "data": {
        "altered": 0,
        "cited": 1235,
        "id": "SUMO1",
        "importance": 3,
        "isseed": false,
        "isvalid": true,
        "rank": 36,
        "uniprot": "P63165",
        "uniprotdesc": "Ubiquitin-like protein that can be covalently attachedto proteins as a monomer or a lysine-linked polymer. Covalentattachment via an isopeptide bond to its substrates requires prioractivation by the E1 complex SAE1-SAE2 and linkage to the E2enzyme UBE2I, and can be promoted by E3 ligases such as PIAS1-4,RANBP2 or CBX4. This post-translational modification on lysineresidues of proteins plays a crucial role in a number of cellularprocesses such as nuclear transport, DNA replication and repair,mitosis and signal transduction. Involved for instance intargeting RANGAP1 to the nuclear pore complex protein RANBP2.Polymeric SUMO1 chains are also susceptible to polyubiquitinationwhich functions as a signal for proteasomal degradation ofmodified proteins. May also regulate a network of genes involvedin palate development. "
       },
       "grabbable": true,
       "grabbed": false,
       "position": {
        "x": 670.6279635351583,
        "y": 68.99370173531823
       }
      }
     },
     "cd85b243eb484ceb873cc1fb33327c58": {
      "model_module": "jupyter-cytoscape",
      "model_module_version": "^1.2.2",
      "model_name": "NodeModel",
      "state": {
       "_model_module_version": "^1.2.2",
       "_view_module_version": "^1.2.2",
       "data": {
        "id": "7",
        "name": "age: 40\nvirus: ncov\n",
        "parent": "parent-1"
       },
       "grabbable": true,
       "grabbed": false,
       "position": {
        "x": 653.5,
        "y": 110
       },
       "selectable": false
      }
     },
     "cd9a521b3c5947f68a4230e2e9e6958b": {
      "model_module": "jupyter-cytoscape",
      "model_module_version": "^1.2.2",
      "model_name": "NodeModel",
      "state": {
       "_model_module_version": "^1.2.2",
       "_view_module_version": "^1.2.2",
       "data": {
        "id": "0"
       },
       "grabbable": true,
       "grabbed": false,
       "position": {
        "x": 645.6910680907591,
        "y": 172.60683313244715
       },
       "selectable": false
      }
     },
     "ceb320e0eecb429ba61ca0b581afe780": {
      "model_module": "jupyter-cytoscape",
      "model_module_version": "^1.2.2",
      "model_name": "EdgeModel",
      "state": {
       "_model_module_version": "^1.2.2",
       "_view_module_version": "^1.2.2",
       "data": {
        "cited": 1,
        "datasource": [
         "pid"
        ],
        "id": "SP1-controls-expression-of-CCNB1",
        "isdirected": true,
        "pubmed": [
         "15710382"
        ],
        "source": "SP1",
        "target": "CCNB1",
        "type": "controls-expression-of"
       }
      }
     },
     "cef9afce7f2948d5b9ee81de4d64aa5b": {
      "model_module": "jupyter-cytoscape",
      "model_module_version": "^1.2.2",
      "model_name": "EdgeModel",
      "state": {
       "_model_module_version": "^1.2.2",
       "_view_module_version": "^1.2.2",
       "data": {
        "cited": 0,
        "datasource": [
         "PANTHER"
        ],
        "id": "PPP2CB-controls-state-change-of-TP73",
        "isdirected": true,
        "pubmed": [],
        "source": "PPP2CB",
        "target": "TP73",
        "type": "controls-state-change-of"
       }
      }
     },
     "cf85123a88ae497696e279ba09069793": {
      "model_module": "jupyter-cytoscape",
      "model_module_version": "^1.2.2",
      "model_name": "EdgeModel",
      "state": {
       "_model_module_version": "^1.2.2",
       "_view_module_version": "^1.2.2",
       "data": {
        "cited": 0,
        "datasource": [
         "pid"
        ],
        "id": "TP53-controls-expression-of-PCBP4",
        "isdirected": true,
        "pubmed": [
         "10891498"
        ],
        "source": "TP53",
        "target": "PCBP4",
        "type": "controls-expression-of"
       }
      }
     },
     "d025241ba5444012ba14f64f67b3ff07": {
      "model_module": "jupyter-cytoscape",
      "model_module_version": "^1.2.2",
      "model_name": "EdgeModel",
      "state": {
       "_model_module_version": "^1.2.2",
       "_view_module_version": "^1.2.2",
       "data": {
        "cited": 1,
        "datasource": [
         "pid"
        ],
        "id": "TP53-controls-expression-of-COL18A1",
        "isdirected": true,
        "pubmed": [
         "15958553"
        ],
        "source": "TP53",
        "target": "COL18A1",
        "type": "controls-expression-of"
       }
      }
     },
     "d03931d37d524c5f9e745b2c280ad103": {
      "model_module": "jupyter-cytoscape",
      "model_module_version": "^1.2.2",
      "model_name": "EdgeModel",
      "state": {
       "_model_module_version": "^1.2.2",
       "_view_module_version": "^1.2.2",
       "data": {
        "cited": 0,
        "datasource": [
         "PhosphoSite"
        ],
        "id": "DAPK3-controls-state-change-of-TP53",
        "isdirected": true,
        "pubmed": [
         "10202145",
         "10570149",
         "10656795",
         "10673500",
         "10673501",
         "10706102",
         "10710310",
         "10734067",
         "11030628",
         "11175334",
         "11244509",
         "11258706",
         "11397945",
         "11423984",
         "11447225",
         "11495913",
         "11526498",
         "11551930",
         "11583595",
         "11707453",
         "11850826",
         "11861384",
         "11875057",
         "11896572",
         "11896587",
         "12091386",
         "12384533",
         "12427754",
         "12531896",
         "12676607",
         "12756247",
         "12810724",
         "12860987",
         "12861053",
         "12902982",
         "12955074",
         "12959929",
         "12969974",
         "14517211",
         "14527925",
         "14612532",
         "14665630",
         "15064747",
         "15140942",
         "15254178",
         "15269203",
         "15322239",
         "15471885",
         "15489221",
         "15629715",
         "15671037",
         "15750624",
         "15843377",
         "15963507",
         "16377624",
         "16651424",
         "16731759",
         "16774943",
         "16818520",
         "17105820",
         "17121812",
         "17135248",
         "17245430",
         "17339337",
         "17353187",
         "17363488",
         "17698850",
         "17967874",
         "17977830",
         "18159951",
         "18593910",
         "18669630",
         "18718914",
         "18778462",
         "19819244",
         "19861417",
         "19882354",
         "20009884",
         "20024960",
         "20041275",
         "20562916",
         "20673369",
         "20696760",
         "20962272",
         "21148320",
         "21383696",
         "21454683",
         "21832239",
         "22030623",
         "22112863",
         "22285752",
         "22728651",
         "22797063",
         "22815859",
         "23798621",
         "23871434",
         "24657168",
         "8327466"
        ],
        "source": "DAPK3",
        "target": "TP53",
        "type": "controls-state-change-of"
       }
      }
     },
     "d0565f60f7a640749ae02c3c7c5fe537": {
      "model_module": "jupyter-cytoscape",
      "model_module_version": "^1.2.2",
      "model_name": "NodeModel",
      "state": {
       "_model_module_version": "^1.2.2",
       "_view_module_version": "^1.2.2",
       "data": {
        "id": "19",
        "name": "age: 22\nvirus: ncov\n",
        "parent": "parent-1"
       },
       "grabbable": true,
       "grabbed": false,
       "position": {
        "x": 756.5529425139174,
        "y": 250.50718392426333
       },
       "selectable": false
      }
     },
     "d087fc0c93b94d24ae5a5ef2b46a1510": {
      "model_module": "jupyter-cytoscape",
      "model_module_version": "^1.2.2",
      "model_name": "EdgeModel",
      "state": {
       "_model_module_version": "^1.2.2",
       "_view_module_version": "^1.2.2",
       "data": {
        "cited": 117,
        "datasource": [
         "pid",
         "PANTHER"
        ],
        "id": "EP300-controls-state-change-of-TP53",
        "isdirected": true,
        "pubmed": [
         "18485870"
        ],
        "source": "EP300",
        "target": "TP53",
        "type": "controls-state-change-of"
       }
      }
     },
     "d0c51ef2797f4dc981830e8626e72960": {
      "model_module": "jupyter-cytoscape",
      "model_module_version": "^1.2.2",
      "model_name": "NodeModel",
      "state": {
       "_model_module_version": "^1.2.2",
       "_view_module_version": "^1.2.2",
       "data": {
        "altered": 0,
        "cited": 265,
        "id": "TYRP1",
        "importance": 3,
        "isseed": false,
        "isvalid": true,
        "rank": 87,
        "uniprot": "P17643",
        "uniprotdesc": "Oxidation of 5,6-dihydroxyindole-2-carboxylic acid(DHICA) into indole-5,6-quinone-2-carboxylic acid. May regulate orinfluence the type of melanin synthesized."
       },
       "grabbable": true,
       "grabbed": false,
       "position": {
        "x": 371.3416819704609,
        "y": 282.67666128479493
       }
      }
     },
     "d168a4d731a44a4b8aa5aee1c519cf88": {
      "model_module": "jupyter-cytoscape",
      "model_module_version": "^1.2.2",
      "model_name": "EdgeModel",
      "state": {
       "_model_module_version": "^1.2.2",
       "_view_module_version": "^1.2.2",
       "data": {
        "cited": 0,
        "datasource": [
         "pid"
        ],
        "id": "TP53-controls-expression-of-IRF5",
        "isdirected": true,
        "pubmed": [
         "11973653"
        ],
        "source": "TP53",
        "target": "IRF5",
        "type": "controls-expression-of"
       }
      }
     },
     "d19c5ac943f6454d976ecb2268748497": {
      "model_module": "jupyter-cytoscape",
      "model_module_version": "^1.2.2",
      "model_name": "EdgeModel",
      "state": {
       "_model_module_version": "^1.2.2",
       "_view_module_version": "^1.2.2",
       "data": {
        "cited": 13,
        "datasource": [
         "pid"
        ],
        "id": "TP53-controls-expression-of-CASP6",
        "isdirected": true,
        "pubmed": [
         "12089322"
        ],
        "source": "TP53",
        "target": "CASP6",
        "type": "controls-expression-of"
       }
      }
     },
     "d1c49460f58d4ca2b5b9633c5e6e2a17": {
      "model_module": "jupyter-cytoscape",
      "model_module_version": "^1.2.2",
      "model_name": "NodeModel",
      "state": {
       "_model_module_version": "^1.2.2",
       "_view_module_version": "^1.2.2",
       "data": {
        "altered": 0,
        "cited": 2528,
        "id": "MAPK14",
        "importance": 3,
        "isseed": false,
        "isvalid": true,
        "rank": 23,
        "uniprot": "Q16539",
        "uniprotdesc": "Serine/threonine kinase which acts as an essentialcomponent of the MAP kinase signal transduction pathway. MAPK14 isone of the four p38 MAPKs which play an important role in thecascades of cellular responses evoked by extracellular stimulisuch as proinflammatory cytokines or physical stress leading todirect activation of transcription factors. Accordingly, p38 MAPKsphosphorylate a broad range of proteins and it has been estimatedthat they may have approximately 200 to 300 substrates each. Someof the targets are downstream kinases which are activated throughphosphorylation and further phosphorylate additional targets.RPS6KA5/MSK1 and RPS6KA4/MSK2 can directly phosphorylate andactivate transcription factors such as CREB1, ATF1, the NF-kappa-Bisoform RELA/NFKB3, STAT1 and STAT3, but can also phosphorylatehistone H3 and the nucleosomal protein HMGN1. RPS6KA5/MSK1 andRPS6KA4/MSK2 play important roles in the rapid induction ofimmediate-early genes in response to stress or mitogenic stimuli,either by inducing chromatin remodeling or by recruiting thetranscription machinery. On the other hand, two other kinasetargets, MAPKAPK2/MK2 and MAPKAPK3/MK3, participate in the controlof gene expression mostly at the post-transcriptional level, byphosphorylating ZFP36 (tristetraprolin) and ELAVL1, and byregulating EEF2K, which is important for the elongation of mRNAduring translation. MKNK1/MNK1 and MKNK2/MNK2, two other kinasesactivated by p38 MAPKs, regulate protein synthesis byphosphorylating the initiation factor EIF4E2. MAPK14 interactsalso with casein kinase II, leading to its activation throughautophosphorylation and further phosphorylation of TP53/p53. Inthe cytoplasm, the p38 MAPK pathway is an important regulator ofprotein turnover. For example, CFLAR is an inhibitor of TNF-induced apoptosis whose proteasome-mediated degradation isregulated by p38 MAPK phosphorylation. In a similar way, MAPK14phosphorylates the ubiquitin ligase SIAH2, regulating its activitytowards EGLN3. MAPK14 may also inhibit the lysosomal degradationpathway of autophagy by interfering with the intracellulartrafficking of the transmembrane protein ATG9. Another function ofMAPK14 is to regulate the endocytosis of membrane receptors bydifferent mechanisms that impinge on the small GTPase RAB5A. Inaddition, clathrin-mediated EGFR internalization induced byinflammatory cytokines and UV irradiation depends on MAPK14-mediated phosphorylation of EGFR itself as well as of RAB5Aeffectors. Ectodomain shedding of transmembrane proteins isregulated by p38 MAPKs as well. In response to inflammatorystimuli, p38 MAPKs phosphorylate the membrane-associatedmetalloprotease ADAM17. Such phosphorylation is required forADAM17-mediated ectodomain shedding of TGF-alpha family ligands,which results in the activation of EGFR signaling and cellproliferation. Another p38 MAPK substrate is FGFR1. FGFR1 can betranslocated from the extracellular space into the cytosol andnucleus of target cells, and regulates processes such as rRNAsynthesis and cell growth. FGFR1 translocation requires p38 MAPKactivation. In the nucleus, many transcription factors arephosphorylated and activated by p38 MAPKs in response to differentstimuli. Classical examples include ATF1, ATF2, ATF6, ELK1, PTPRH,DDIT3, TP53/p53 and MEF2C and MEF2A. The p38 MAPKs are emerging asimportant modulators of gene expression by regulating chromatinmodifiers and remodelers. The promoters of several genes involvedin the inflammatory response, such as IL6, IL8 and IL12B, displaya p38 MAPK-dependent enrichment of histone H3 phosphorylation on'Ser-10' (H3S10ph) in LPS-stimulated myeloid cells. Thisphosphorylation enhances the accessibility of the cryptic NF-kappa-B-binding sites marking promoters for increased NF-kappa-Brecruitment. Phosphorylates CDC25B and CDC25C which is requiredfor binding to 14-3-3 proteins and leads to initiation of a G2delay after ultraviolet radiation. Phosphorylates TIAR followingDNA damage, releasing TIAR from GADD45A mRNA and preventing mRNAdegradation. The p38 MAPKs may also have kinase-independent roles,which are thought to be due to the binding to targets in theabsence of phosphorylation. Protein O-Glc-N-acylation catalyzed bythe OGT is regulated by MAPK14, and, although OGT does not seem tobe phosphorylated by MAPK14, their interaction increases uponMAPK14 activation induced by glucose deprivation. This interactionmay regulate OGT activity by recruiting it to specific targetssuch as neurofilament H, stimulating its O-Glc-N-acylation.Required in mid-fetal development for the growth of embryo-derivedblood vessels in the labyrinth layer of the placenta. Also playsan essential role in developmental and stress-inducederythropoiesis, through regulation of EPO gene expression. IsoformMXI2 activation is stimulated by mitogens and oxidative stress andonly poorly phosphorylates ELK1 and ATF2. Isoform EXIP may play arole in the early onset of apoptosis. Phosphorylates S100A9 at'Thr-113'. "
       },
       "grabbable": true,
       "grabbed": false,
       "position": {
        "x": 770.6279655351583,
        "y": 77.25319066340147
       }
      }
     },
     "d265c1e270c34708a568b4e0b05903fc": {
      "model_module": "jupyter-cytoscape",
      "model_module_version": "^1.2.2",
      "model_name": "NodeModel",
      "state": {
       "_model_module_version": "^1.2.2",
       "_view_module_version": "^1.2.2",
       "data": {
        "altered": 0,
        "cited": 2835,
        "id": "EP300",
        "importance": 3,
        "isseed": false,
        "isvalid": true,
        "rank": 19,
        "uniprot": "Q09472",
        "uniprotdesc": "Functions as histone acetyltransferase and regulatestranscription via chromatin remodeling. Acetylates all four corehistones in nucleosomes. Histone acetylation gives an epigenetictag for transcriptional activation. Mediates cAMP-gene regulationby binding specifically to phosphorylated CREB protein. Mediatesacetylation of histone H3 at 'Lys-122' (H3K122ac), a modificationthat localizes at the surface of the histone octamer andstimulates transcription, possibly by promoting nucleosomeinstability. Mediates acetylation of histone H3 at 'Lys-27'(H3K27ac). Also functions as acetyltransferase for nonhistonetargets. Acetylates 'Lys-131' of ALX1 and acts as its coactivatorin the presence of CREBBP. Acetylates SIRT2 and is proposed toindirectly increase the transcriptional activity of TP53 throughacetylation and subsequent attenuation of SIRT2 deacetylasefunction. Acetylates HDAC1 leading to its inactivation andmodulation of transcription. Acts as a TFAP2A-mediatedtranscriptional coactivator in presence of CITED2. Plays a role asa coactivator of NEUROD1-dependent transcription of the secretinand p21 genes and controls terminal differentiation of cells inthe intestinal epithelium. Promotes cardiac myocyte enlargement.Can also mediate transcriptional repression. Binds to and may beinvolved in the transforming capacity of the adenovirus E1Aprotein. In case of HIV-1 infection, it is recruited by the viralprotein Tat. Regulates Tat's transactivating activity and may helpinducing chromatin remodeling of proviral genes. Acetylates FOXO1and enhances its transcriptional activity. Acetylates BCL6 wichdisrupts its ability to recruit histone deacetylases and hindersits transcriptional repressor activity. Participates in CLOCK orNPAS2-regulated rhythmic gene transcription; exhibits a circadianassociation with CLOCK or NPAS2, correlating with increase inPER1/2 mRNA and histone H3 acetylation on the PER1/2 promoter.Acetylates MTA1 at 'Lys-626' which is essential for itstranscriptional coactivator activity (PubMed:10733570,PubMed:11430825, PubMed:11701890, PubMed:12402037,PubMed:12586840, PubMed:12929931, PubMed:14645221,PubMed:15186775, PubMed:15890677, PubMed:16617102,PubMed:16762839, PubMed:18722353, PubMed:18995842,PubMed:23415232, PubMed:23911289, PubMed:23934153,PubMed:8945521). Acetylates XBP1 isoform 2; acetylation increasesprotein stability of XBP1 isoform 2 and enhances itstranscriptional activity (By similarity)."
       },
       "grabbable": true,
       "grabbed": false,
       "position": {
        "x": 607.0596734394645,
        "y": 192.14655680922385
       }
      }
     },
     "d292837c79ea435db1d4ba41dac0116c": {
      "model_module": "jupyter-cytoscape",
      "model_module_version": "^1.2.2",
      "model_name": "EdgeModel",
      "state": {
       "_model_module_version": "^1.2.2",
       "_view_module_version": "^1.2.2",
       "data": {
        "cited": 6,
        "datasource": [
         "Reactome"
        ],
        "id": "TP53-controls-state-change-of-CABIN1",
        "isdirected": true,
        "pubmed": [
         "15621527",
         "15655109",
         "16901784",
         "17158953",
         "17242198",
         "17242207",
         "23964094"
        ],
        "source": "TP53",
        "target": "CABIN1",
        "type": "controls-state-change-of"
       }
      }
     },
     "d32e1abe4dc84d3aa1c5d02ae542b4e8": {
      "model_module": "jupyter-cytoscape",
      "model_module_version": "^1.2.2",
      "model_name": "NodeModel",
      "state": {
       "_model_module_version": "^1.2.2",
       "_view_module_version": "^1.2.2",
       "data": {
        "altered": 0,
        "cited": 4,
        "id": "RNF144B",
        "importance": 3,
        "isseed": false,
        "isvalid": true,
        "rank": 190,
        "uniprot": "Q7Z419",
        "uniprotdesc": "E3 ubiquitin-protein ligase which accepts ubiquitin fromE2 ubiquitin-conjugating enzymes UBE2L3 and UBE2L6 in the form ofa thioester and then directly transfers the ubiquitin to targetedsubstrates such as LCMT2, thereby promoting their degradation.Induces apoptosis via a p53/TP53-dependent but caspase-independentmechanism. However, its overexpression also produces a decrease ofthe ubiquitin-dependent stability of BAX, a pro-apoptotic protein,ultimately leading to protection of cell death; But, it is not ananti-apoptotic protein per se. "
       },
       "grabbable": true,
       "grabbed": false,
       "position": {
        "x": 507.6400354363116,
        "y": 115.37800536297947
       }
      }
     },
     "d3384055d40e4e0c845c7baece816a8c": {
      "model_module": "jupyter-cytoscape",
      "model_module_version": "^1.2.2",
      "model_name": "NodeModel",
      "state": {
       "_model_module_version": "^1.2.2",
       "_view_module_version": "^1.2.2",
       "data": {
        "id": "21",
        "name": "age: 69\nvirus: ncov\n",
        "parent": "parent-1"
       },
       "grabbable": true,
       "grabbed": false,
       "position": {
        "x": 600.8344062128375,
        "y": 290
       },
       "selectable": false
      }
     },
     "d43d684e135a4597a8f53f476140fc4a": {
      "model_module": "jupyter-cytoscape",
      "model_module_version": "^1.2.2",
      "model_name": "EdgeModel",
      "state": {
       "_model_module_version": "^1.2.2",
       "_view_module_version": "^1.2.2",
       "data": {
        "cited": 13,
        "datasource": [
         "pid"
        ],
        "id": "TP53-controls-expression-of-CASP6",
        "isdirected": true,
        "pubmed": [
         "12089322"
        ],
        "source": "TP53",
        "target": "CASP6",
        "type": "controls-expression-of"
       }
      }
     },
     "d456f10895354218a2f80b59b5456474": {
      "model_module": "jupyter-cytoscape",
      "model_module_version": "^1.2.2",
      "model_name": "EdgeModel",
      "state": {
       "_model_module_version": "^1.2.2",
       "_view_module_version": "^1.2.2",
       "data": {
        "cited": 12,
        "datasource": [
         "pid"
        ],
        "id": "FOS-controls-expression-of-TP53",
        "isdirected": true,
        "pubmed": [
         "10072388",
         "11136975"
        ],
        "source": "FOS",
        "target": "TP53",
        "type": "controls-expression-of"
       }
      }
     },
     "d5dbbf07ce9f44199e66d16bebf12406": {
      "model_module": "jupyter-cytoscape",
      "model_module_version": "^1.2.2",
      "model_name": "EdgeModel",
      "state": {
       "_model_module_version": "^1.2.2",
       "_view_module_version": "^1.2.2",
       "data": {
        "cited": 0,
        "datasource": [
         "pid"
        ],
        "id": "KAT8-controls-state-change-of-TP53",
        "isdirected": true,
        "pubmed": [
         "17189187",
         "17534149"
        ],
        "source": "KAT8",
        "target": "TP53",
        "type": "controls-state-change-of"
       }
      }
     },
     "d61e7917c0a44744907ab42ea2994e93": {
      "model_module": "jupyter-cytoscape",
      "model_module_version": "^1.2.2",
      "model_name": "EdgeModel",
      "state": {
       "_model_module_version": "^1.2.2",
       "_view_module_version": "^1.2.2",
       "data": {
        "cited": 0,
        "datasource": [
         "PANTHER"
        ],
        "id": "SIRT1-controls-state-change-of-TP73",
        "isdirected": true,
        "pubmed": [],
        "source": "SIRT1",
        "target": "TP73",
        "type": "controls-state-change-of"
       }
      }
     },
     "d72fdd8ef984407ca09f9e3fee8caea3": {
      "model_module": "jupyter-cytoscape",
      "model_module_version": "^1.2.2",
      "model_name": "EdgeModel",
      "state": {
       "_model_module_version": "^1.2.2",
       "_view_module_version": "^1.2.2",
       "data": {
        "cited": 0,
        "datasource": [
         "PANTHER"
        ],
        "id": "MAPK14-controls-state-change-of-TP63",
        "isdirected": true,
        "pubmed": [],
        "source": "MAPK14",
        "target": "TP63",
        "type": "controls-state-change-of"
       }
      }
     },
     "d83a135376fa4dc8b9ca466123060ddb": {
      "model_module": "jupyter-cytoscape",
      "model_module_version": "^1.2.2",
      "model_name": "GraphModel",
      "state": {
       "_adj": {},
       "_model_module_version": "^1.2.2",
       "_view_module": "jupyter-cytoscape",
       "_view_module_version": "^1.2.2"
      }
     },
     "d88b1eceed224714a4dff890612cb816": {
      "model_module": "jupyter-cytoscape",
      "model_module_version": "^1.2.2",
      "model_name": "EdgeModel",
      "state": {
       "_model_module_version": "^1.2.2",
       "_view_module_version": "^1.2.2",
       "data": {
        "cited": 6,
        "datasource": [
         "pid"
        ],
        "id": "TP53-controls-expression-of-CASP1",
        "isdirected": true,
        "pubmed": [
         "11278253"
        ],
        "source": "TP53",
        "target": "CASP1",
        "type": "controls-expression-of"
       }
      }
     },
     "d8a0da5db0c742a9b38db2e5aefd6e62": {
      "model_module": "jupyter-cytoscape",
      "model_module_version": "^1.2.2",
      "model_name": "NodeModel",
      "state": {
       "_model_module_version": "^1.2.2",
       "_view_module_version": "^1.2.2",
       "data": {
        "id": "25",
        "name": "age: 29\nvirus: ncov\n",
        "parent": "parent-1"
       },
       "grabbable": true,
       "grabbed": false,
       "position": {
        "x": 550.8344052128374,
        "y": 350
       },
       "selectable": false
      }
     },
     "d90294a5a4af412bb8c5e0c0332bb1f0": {
      "model_module": "jupyter-cytoscape",
      "model_module_version": "^1.2.2",
      "model_name": "NodeModel",
      "state": {
       "_model_module_version": "^1.2.2",
       "_view_module_version": "^1.2.2",
       "data": {
        "altered": 0,
        "cited": 13,
        "id": "HIST1H1A",
        "importance": 3,
        "isseed": false,
        "isvalid": true,
        "rank": 173,
        "uniprot": "Q02539",
        "uniprotdesc": "Histone H1 protein binds to linker DNA betweennucleosomes forming the macromolecular structure known as thechromatin fiber. Histones H1 are necessary for the condensation ofnucleosome chains into higher-order structured fibers. Acts alsoas a regulator of individual gene transcription through chromatinremodeling, nucleosome spacing and DNA methylation (Bysimilarity). "
       },
       "grabbable": true,
       "grabbed": false,
       "position": {
        "x": 523.6771501026914,
        "y": 13.123911744732085
       }
      }
     },
     "d927d23385234ecd923a3454dde11bcd": {
      "model_module": "@jupyter-widgets/base",
      "model_module_version": "1.2.0",
      "model_name": "LayoutModel",
      "state": {}
     },
     "d9352e3b70a54b3395d84b43b765e832": {
      "model_module": "jupyter-cytoscape",
      "model_module_version": "^1.2.2",
      "model_name": "NodeModel",
      "state": {
       "_model_module_version": "^1.2.2",
       "_view_module_version": "^1.2.2",
       "data": {
        "id": "28",
        "name": "age: 34\nvirus: ncov\n",
        "parent": "parent-1"
       },
       "grabbable": true,
       "grabbed": false,
       "position": {
        "x": 706.5529415139175,
        "y": 350
       },
       "selectable": false
      }
     },
     "d9731466529549ffa4378973283f9f31": {
      "model_module": "jupyter-cytoscape",
      "model_module_version": "^1.2.2",
      "model_name": "NodeModel",
      "state": {
       "_model_module_version": "^1.2.2",
       "_view_module_version": "^1.2.2",
       "data": {
        "id": "1"
       },
       "grabbable": true,
       "grabbed": false,
       "position": {
        "x": 579.4926296764713,
        "y": 201.7215938892398
       },
       "selectable": false
      }
     },
     "d9b79c25b6464ad7894dd27cef0fa334": {
      "model_module": "jupyter-cytoscape",
      "model_module_version": "^1.2.2",
      "model_name": "NodeModel",
      "state": {
       "_model_module_version": "^1.2.2",
       "_view_module_version": "^1.2.2",
       "data": {
        "id": "29",
        "name": "age: 92\nvirus: ncov\n",
        "parent": "parent-1"
       },
       "grabbable": true,
       "grabbed": false,
       "position": {
        "x": 756.5529425139174,
        "y": 350.5071859242633
       },
       "selectable": false
      }
     },
     "d9f2c2d4a5e345a5b91f79246ffc31b8": {
      "model_module": "jupyter-cytoscape",
      "model_module_version": "^1.2.2",
      "model_name": "NodeModel",
      "state": {
       "_model_module_version": "^1.2.2",
       "_view_module_version": "^1.2.2",
       "data": {
        "altered": 0,
        "cited": 417,
        "id": "CD82",
        "importance": 3,
        "isseed": false,
        "isvalid": true,
        "rank": 69,
        "uniprot": "P27701",
        "uniprotdesc": "Associates with CD4 or CD8 and delivers costimulatorysignals for the TCR/CD3 pathway."
       },
       "grabbable": true,
       "grabbed": false,
       "position": {
        "x": 621.3707710410627,
        "y": 413.47736633983936
       }
      }
     },
     "d9ff15d39b3f4024b2781c8d0324c1f8": {
      "model_module": "jupyter-cytoscape",
      "model_module_version": "^1.2.2",
      "model_name": "NodeModel",
      "state": {
       "_model_module_version": "^1.2.2",
       "_view_module_version": "^1.2.2",
       "data": {
        "altered": 0,
        "cited": 273,
        "id": "CTSD",
        "importance": 3,
        "isseed": false,
        "isvalid": true,
        "rank": 85,
        "uniprot": "P07339",
        "uniprotdesc": "Acid protease active in intracellular protein breakdown.Involved in the pathogenesis of several diseases such as breastcancer and possibly Alzheimer disease."
       },
       "grabbable": true,
       "grabbed": false,
       "position": {
        "x": 521.3707690410628,
        "y": 412.76352420641166
       }
      }
     },
     "da10c0acebcd469986f1150d8067caff": {
      "model_module": "jupyter-cytoscape",
      "model_module_version": "^1.2.2",
      "model_name": "NodeModel",
      "state": {
       "_model_module_version": "^1.2.2",
       "_view_module_version": "^1.2.2",
       "data": {
        "altered": 0,
        "cited": 189,
        "id": "PRMT1",
        "importance": 2,
        "isseed": false,
        "isvalid": true,
        "rank": 206,
        "uniprot": "Q99873",
        "uniprotdesc": "Arginine methyltransferase that methylates (mono andasymmetric dimethylation) the guanidino nitrogens of arginylresidues present in proteins such as ESR1, histone H2, H3 and H4,PIAS1, HNRNPA1, HNRNPD, NFATC2IP, SUPT5H, TAF15 and EWS.Constitutes the main enzyme that mediates monomethylation andasymmetric dimethylation of histone H4 'Arg-4' (H4R3me1 andH4R3me2a, respectively), a specific tag for epigenetictranscriptional activation. Together with dimethylated PIAS1,represses STAT1 transcriptional activity, in the late phase ofinterferon gamma (IFN-gamma) signaling. May be involved in theregulation of TAF15 transcriptional activity, act as an activatorof estrogen receptor (ER)-mediated transactivation, play a keyrole in neurite outgrowth and act as a negative regulator ofmegakaryocytic differentiation, by modulating p38 MAPK pathway.Methylates FOXO1 and retains it in the nucleus increasing itstranscriptional activity. "
       },
       "grabbable": true,
       "grabbed": false,
       "position": {
        "x": 1004.6488825911239,
        "y": 65.245983304056
       }
      }
     },
     "da60944fb3cf4554a12c78688d3b74da": {
      "model_module": "jupyter-cytoscape",
      "model_module_version": "^1.2.2",
      "model_name": "EdgeModel",
      "state": {
       "_model_module_version": "^1.2.2",
       "_view_module_version": "^1.2.2",
       "data": {
        "cited": 0,
        "datasource": [
         "PANTHER"
        ],
        "id": "PRKAB2-controls-state-change-of-TP63",
        "isdirected": true,
        "pubmed": [],
        "source": "PRKAB2",
        "target": "TP63",
        "type": "controls-state-change-of"
       }
      }
     },
     "dadbe989b5844a6eba901c35b4b5a6ad": {
      "model_module": "jupyter-cytoscape",
      "model_module_version": "^1.2.2",
      "model_name": "NodeModel",
      "state": {
       "_model_module_version": "^1.2.2",
       "_view_module_version": "^1.2.2",
       "data": {
        "altered": 0,
        "cited": 635,
        "id": "BAX",
        "importance": 3,
        "isseed": false,
        "isvalid": true,
        "rank": 51,
        "uniprot": "Q07812",
        "uniprotdesc": "Accelerates programmed cell death by binding to, andantagonizing the apoptosis repressor BCL2 or its adenovirushomolog E1B 19k protein. Under stress conditions, undergoes aconformation change that causes translocation to the mitochondrionmembrane, leading to the release of cytochrome c that thentriggers apoptosis. Promotes activation of CASP3, and therebyapoptosis. "
       },
       "grabbable": true,
       "grabbed": false,
       "position": {
        "x": 570.6279615351583,
        "y": 45.920459870562695
       }
      }
     },
     "daec39aad3ac492880f201ae39a59c8a": {
      "model_module": "jupyter-cytoscape",
      "model_module_version": "^1.2.2",
      "model_name": "EdgeModel",
      "state": {
       "_model_module_version": "^1.2.2",
       "_view_module_version": "^1.2.2",
       "data": {
        "cited": 6,
        "datasource": [
         "pid"
        ],
        "id": "TP53-controls-expression-of-TAP1",
        "isdirected": true,
        "pubmed": [
         "10618714",
         "12857899"
        ],
        "source": "TP53",
        "target": "TAP1",
        "type": "controls-expression-of"
       }
      }
     },
     "db9cc53e4bcb45a08a14dc4f30a284cc": {
      "model_module": "jupyter-cytoscape",
      "model_module_version": "^1.2.2",
      "model_name": "NodeModel",
      "state": {
       "_model_module_version": "^1.2.2",
       "_view_module_version": "^1.2.2",
       "data": {
        "altered": 0,
        "cited": 53,
        "id": "HIRA",
        "importance": 3,
        "isseed": false,
        "isvalid": true,
        "rank": 148,
        "uniprot": "P54198",
        "uniprotdesc": "Cooperates with ASF1A to promote replication-independentchromatin assembly. Required for the periodic repression ofhistone gene transcription during the cell cycle. Required for theformation of senescence-associated heterochromatin foci (SAHF) andefficient senescence-associated cell cycle exit."
       },
       "grabbable": true,
       "grabbed": false,
       "position": {
        "x": 611.2741627901135,
        "y": 286.82823596200507
       }
      }
     },
     "dc1eeb5260264ff49a110af0d3d1019c": {
      "model_module": "jupyter-cytoscape",
      "model_module_version": "^1.2.2",
      "model_name": "EdgeModel",
      "state": {
       "_model_module_version": "^1.2.2",
       "_view_module_version": "^1.2.2",
       "data": {
        "cited": 0,
        "datasource": [
         "PhosphoSite",
         "pid"
        ],
        "id": "PRKCD-controls-state-change-of-TP53",
        "isdirected": true,
        "pubmed": [
         "10581258",
         "11030628",
         "11101524",
         "11300786",
         "11495913",
         "11740489",
         "11780126",
         "11875057",
         "12021785",
         "12093737",
         "12397361",
         "12427754",
         "12676607",
         "12860987",
         "12902982",
         "12907596",
         "14749479",
         "15322239",
         "15381073",
         "15471885",
         "15489221",
         "15526030",
         "15619621",
         "15657359",
         "15706352",
         "15750624",
         "15843377",
         "15870257",
         "15897882",
         "16219768",
         "16247456",
         "16377624",
         "16601678",
         "16717128",
         "16738336",
         "16793543",
         "17105820",
         "17107963",
         "17210684",
         "17332358",
         "17349958",
         "17349959",
         "17380123",
         "17567906",
         "17591690",
         "17891183",
         "17906639",
         "18056705",
         "18160537",
         "18216278",
         "18536714",
         "18560558",
         "18769132",
         "19465479",
         "19819244",
         "19828042",
         "19857493",
         "19861417",
         "19882354",
         "19965871",
         "20018442",
         "20024960",
         "20123963",
         "20171273",
         "20363803",
         "20514025",
         "20610713",
         "20673369",
         "20696760",
         "20811699",
         "20935676",
         "20962272",
         "21057547",
         "21383696",
         "21394211",
         "21642861",
         "21660965",
         "21765463",
         "21765464",
         "22011578",
         "22797063",
         "22878263",
         "23149944",
         "24145406",
         "24196445",
         "24379358",
         "24899407"
        ],
        "source": "PRKCD",
        "target": "TP53",
        "type": "controls-state-change-of"
       }
      }
     },
     "dd9056376ead475bbefe1d9502974ef4": {
      "model_module": "jupyter-cytoscape",
      "model_module_version": "^1.2.2",
      "model_name": "EdgeModel",
      "state": {
       "_model_module_version": "^1.2.2",
       "_view_module_version": "^1.2.2",
       "data": {
        "cited": 7,
        "datasource": [
         "PhosphoSite"
        ],
        "id": "CDK7-controls-state-change-of-TP53",
        "isdirected": true,
        "pubmed": [
         "10202145",
         "10348343",
         "10581258",
         "10656682",
         "10656795",
         "10706102",
         "10733583",
         "10747897",
         "11007451",
         "11101524",
         "11239457",
         "11300786",
         "11423984",
         "11495913",
         "11526498",
         "11583595",
         "11585729",
         "11707453",
         "11709713",
         "11850826",
         "11875057",
         "12021785",
         "12080066",
         "12091386",
         "12393879",
         "12397361",
         "12397362",
         "12427754",
         "12519780",
         "12676607",
         "12776195",
         "12860987",
         "12959929",
         "1406679",
         "14640983",
         "14665630",
         "14744935",
         "14968111",
         "15064747",
         "15155458",
         "15322239",
         "15471885",
         "15489221",
         "15619621",
         "15659650",
         "15792956",
         "15843377",
         "16083285",
         "16227590",
         "16319070",
         "16436515",
         "16552184",
         "16632641",
         "16651424",
         "16717128",
         "16818520",
         "17105820",
         "17108107",
         "17237827",
         "17591690",
         "17891183",
         "17898864",
         "17906639",
         "17942552",
         "17975552",
         "18490454",
         "18523266",
         "18718914",
         "18765533",
         "18769132",
         "18778462",
         "18812399",
         "19251701",
         "19369195",
         "19413330",
         "19819244",
         "19861417",
         "19882354",
         "19933256",
         "20009884",
         "20024960",
         "20123963",
         "20562916",
         "20663147",
         "20686112",
         "20962272",
         "21317932",
         "21383696",
         "21423215",
         "21455220",
         "21460857",
         "21832239",
         "22011578",
         "22112863",
         "22975381",
         "23312004",
         "23603988",
         "23871434",
         "24194938",
         "24657168",
         "8327466",
         "9254608",
         "9315650",
         "9372954",
         "9467949",
         "9571186",
         "9620776",
         "9739174",
         "9744860"
        ],
        "source": "CDK7",
        "target": "TP53",
        "type": "controls-state-change-of"
       }
      }
     },
     "de72a0fb39fb4ad6affbcc026affcb4b": {
      "model_module": "jupyter-cytoscape",
      "model_module_version": "^1.2.2",
      "model_name": "NodeModel",
      "state": {
       "_model_module_version": "^1.2.2",
       "_view_module_version": "^1.2.2",
       "data": {
        "altered": 0,
        "cited": 88,
        "id": "MAPK13",
        "importance": 3,
        "isseed": false,
        "isvalid": true,
        "rank": 126,
        "uniprot": "O15264",
        "uniprotdesc": "Serine/threonine kinase which acts as an essentialcomponent of the MAP kinase signal transduction pathway. MAPK13 isone of the four p38 MAPKs which play an important role in thecascades of cellular responses evoked by extracellular stimulisuch as proinflammatory cytokines or physical stress leading todirect activation of transcription factors such as ELK1 and ATF2.Accordingly, p38 MAPKs phosphorylate a broad range of proteins andit has been estimated that they may have approximately 200 to 300substrates each. MAPK13 is one of the less studied p38 MAPKisoforms. Some of the targets are downstream kinases such asMAPKAPK2, which are activated through phosphorylation and furtherphosphorylate additional targets. Plays a role in the regulationof protein translation by phosphorylating and inactivating EEF2K.Involved in cytoskeletal remodeling through phosphorylation ofMAPT and STMN1. Mediates UV irradiation induced up-regulation ofthe gene expression of CXCL14. Plays an important role in theregulation of epidermal keratinocyte differentiation, apoptosisand skin tumor development. Phosphorylates the transcriptionalactivator MYB in response to stress which leads to rapid MYBdegradation via a proteasome-dependent pathway. MAPK13 alsophosphorylates and down-regulates PRKD1 during regulation ofinsulin secretion in pancreatic beta cells."
       },
       "grabbable": true,
       "grabbed": false,
       "position": {
        "x": 820.6279665351584,
        "y": 38.8443549932413
       }
      }
     },
     "de84a5ec506a4f44ba37c44d9fa659d2": {
      "model_module": "jupyter-cytoscape",
      "model_module_version": "^1.2.2",
      "model_name": "EdgeModel",
      "state": {
       "_model_module_version": "^1.2.2",
       "_view_module_version": "^1.2.2",
       "data": {
        "cited": 95,
        "datasource": [
         "pid"
        ],
        "id": "TP53-controls-expression-of-BAX",
        "isdirected": true,
        "pubmed": [
         "10518217",
         "11080152",
         "11278953",
         "11684014",
         "11850816",
         "15598651",
         "17145718",
         "17189187"
        ],
        "source": "TP53",
        "target": "BAX",
        "type": "controls-expression-of"
       }
      }
     },
     "deb6533e52bd44e6bde5e4852b99eb4e": {
      "model_module": "jupyter-cytoscape",
      "model_module_version": "^1.2.2",
      "model_name": "EdgeModel",
      "state": {
       "_model_module_version": "^1.2.2",
       "_view_module_version": "^1.2.2",
       "data": {
        "cited": 10,
        "datasource": [
         "PhosphoSite"
        ],
        "id": "PRKDC-controls-state-change-of-TP53",
        "isdirected": true,
        "pubmed": [
         "10202145",
         "10570149",
         "10581258",
         "10606744",
         "10608806",
         "10611322",
         "10656682",
         "10656795",
         "10673500",
         "10673501",
         "10706102",
         "10710310",
         "10713094",
         "10723129",
         "10733583",
         "10734067",
         "10744722",
         "10930428",
         "10958792",
         "11030628",
         "11042698",
         "11096068",
         "11101524",
         "11121242",
         "11175334",
         "11244509",
         "11258706",
         "11300786",
         "11313957",
         "11314044",
         "11397945",
         "11423984",
         "11447225",
         "11495913",
         "11526498",
         "11546806",
         "11551930",
         "11583595",
         "11706017",
         "11707453",
         "11709713",
         "11711532",
         "11740489",
         "11780126",
         "11850826",
         "11861384",
         "11865061",
         "11875057",
         "11883897",
         "11896572",
         "11896587",
         "12021785",
         "12049739",
         "12071847",
         "12080066",
         "12082529",
         "12091386",
         "12093737",
         "12151394",
         "12324477",
         "12384533",
         "12393500",
         "12397361",
         "12397362",
         "12427754",
         "12511424",
         "12518062",
         "12519769",
         "12519780",
         "12531896",
         "12588868",
         "12606585",
         "12637545",
         "12676607",
         "12702572",
         "12756247",
         "12771937",
         "12776195",
         "12810724",
         "12860987",
         "12861053",
         "12890678",
         "12902982",
         "12907596",
         "12939400",
         "12955074",
         "12959929",
         "12969974",
         "1406679",
         "14517211",
         "14527925",
         "14612532",
         "14665630",
         "14712210",
         "14749479",
         "14871840",
         "14871926",
         "14968111",
         "15048074",
         "15064747",
         "15077171",
         "15078887",
         "15082766",
         "15140942",
         "15155458",
         "15159397",
         "15178764",
         "15181149",
         "15226429",
         "15254178",
         "15258567",
         "15269203",
         "15310764",
         "15322239",
         "15355354",
         "15361830",
         "15381073",
         "15456784",
         "15471885",
         "15489221",
         "15489892",
         "15526030",
         "15533933",
         "15542844",
         "15580310",
         "15619621",
         "15629715",
         "15657359",
         "15665826",
         "15671037",
         "15706352",
         "15750624",
         "15758953",
         "15775976",
         "15782130",
         "15792956",
         "15794754",
         "15843377",
         "15866171",
         "15870257",
         "15897882",
         "15963507",
         "16219768",
         "16223874",
         "16247456",
         "16288207",
         "16293623",
         "16377624",
         "16397295",
         "16436515",
         "16478990",
         "16489034",
         "16501611",
         "16601678",
         "16632641",
         "16636671",
         "16648554",
         "16651424",
         "16714289",
         "16717128",
         "16731759",
         "16738336",
         "16774943",
         "16783362",
         "16790523",
         "16793543",
         "16818505",
         "16818520",
         "16891474",
         "16916644",
         "16949371",
         "17045821",
         "17105820",
         "17107963",
         "17108107",
         "17121812",
         "17135248",
         "17210684",
         "17234789",
         "17245430",
         "17254968",
         "17283137",
         "17297446",
         "17297454",
         "17332358",
         "17339337",
         "17349958",
         "17349959",
         "17353187",
         "17363488",
         "17371838",
         "17380123",
         "17456577",
         "17486112",
         "17535811",
         "17553757",
         "17567906",
         "17591690",
         "17596534",
         "17609585",
         "17616578",
         "17668048",
         "17684018",
         "17698850",
         "17712528",
         "17855337",
         "17891183",
         "17906639",
         "17936559",
         "17967874",
         "17975552",
         "17976513",
         "17977830",
         "18032786",
         "18045533",
         "18056442",
         "18056705",
         "18097051",
         "18159951",
         "18160537",
         "18216278",
         "18246126",
         "18272544",
         "18289945",
         "18332866",
         "18339864",
         "18345031",
         "18381438",
         "18406507",
         "18431490",
         "18449195",
         "18490454",
         "18536714",
         "18560558",
         "18593910",
         "18604166",
         "18614045",
         "18669630",
         "18715874",
         "18718914",
         "18765533",
         "18769132",
         "18778462",
         "18785202",
         "18794113",
         "18818083",
         "18847491",
         "18985806",
         "18995830",
         "19085961",
         "19203586",
         "19251701",
         "19266268",
         "19303885",
         "19345189",
         "19465479",
         "19477925",
         "19819244",
         "19828042",
         "19828454",
         "19857493",
         "19861417",
         "19882354",
         "19907922",
         "19934315",
         "19962312",
         "19965871",
         "20005840",
         "20009884",
         "20018442",
         "20024960",
         "20026654",
         "20041275",
         "20080565",
         "20123963",
         "20171273",
         "20353948",
         "20363803",
         "20372057",
         "20514025",
         "20562916",
         "20599567",
         "20610713",
         "20637859",
         "20661218",
         "20663147",
         "20673369",
         "20696760",
         "20711232",
         "20811699",
         "20931131",
         "20935676",
         "20962272",
         "21057547",
         "21148320",
         "21317932",
         "21383696",
         "21386980",
         "21394211",
         "21423215",
         "21441950",
         "21454683",
         "21465263",
         "21532626",
         "21642861",
         "21660965",
         "21757780",
         "21765463",
         "21765464",
         "21832239",
         "22002314",
         "22011578",
         "22030623",
         "22037398",
         "22055193",
         "22099307",
         "22112863",
         "22179839",
         "22285752",
         "22496350",
         "22728651",
         "22797063",
         "22815859",
         "22878263",
         "22975381",
         "23148227",
         "23149944",
         "23150668",
         "23184057",
         "23678107",
         "23798621",
         "23871434",
         "23890999",
         "23982736",
         "24038750",
         "24145406",
         "24196445",
         "24379358",
         "24657168",
         "24711418",
         "24820418",
         "24899407",
         "24958101",
         "25202122",
         "8327466",
         "9363941",
         "9733515",
         "9744860",
         "9843217",
         "9925639"
        ],
        "source": "PRKDC",
        "target": "TP53",
        "type": "controls-state-change-of"
       }
      }
     },
     "df9801f5bf3c474598922b9847d94a0c": {
      "model_module": "jupyter-cytoscape",
      "model_module_version": "^1.2.2",
      "model_name": "NodeModel",
      "state": {
       "_model_module_version": "^1.2.2",
       "_view_module_version": "^1.2.2",
       "data": {
        "altered": 0,
        "cited": 30,
        "id": "COL18A1",
        "importance": 3,
        "isseed": false,
        "isvalid": true,
        "rank": 157,
        "uniprot": "P39060",
        "uniprotdesc": "COLA18A probably plays a major role in determining theretinal structure as well as in the closure of the neural tube.Endostatin potently inhibits endothelial cellproliferation and angiogenesis. May inhibit angiogenesis bybinding to the heparan sulfate proteoglycans involved in growthfactor signaling."
       },
       "grabbable": true,
       "grabbed": false,
       "position": {
        "x": 457.05967043946447,
        "y": 143.0498238325771
       }
      }
     },
     "dfe5cfac87174c3297ed0934fe39d22a": {
      "model_module": "jupyter-cytoscape",
      "model_module_version": "^1.2.2",
      "model_name": "EdgeModel",
      "state": {
       "_model_module_version": "^1.2.2",
       "_view_module_version": "^1.2.2",
       "data": {
        "cited": 1,
        "datasource": [
         "PANTHER"
        ],
        "id": "SUMO1-controls-state-change-of-TP63",
        "isdirected": true,
        "pubmed": [],
        "source": "SUMO1",
        "target": "TP63",
        "type": "controls-state-change-of"
       }
      }
     },
     "e07142ea4afe40d6886e6387191a299e": {
      "model_module": "jupyter-cytoscape",
      "model_module_version": "^1.2.2",
      "model_name": "NodeModel",
      "state": {
       "_model_module_version": "^1.2.2",
       "_view_module_version": "^1.2.2",
       "data": {
        "altered": 0,
        "cited": 1011,
        "id": "FAS",
        "importance": 3,
        "isseed": false,
        "isvalid": true,
        "rank": 38,
        "uniprot": "P25445",
        "uniprotdesc": "Receptor for TNFSF6/FASLG. The adapter molecule FADDrecruits caspase-8 to the activated receptor. The resulting death-inducing signaling complex (DISC) performs caspase-8 proteolyticactivation which initiates the subsequent cascade of caspases(aspartate-specific cysteine proteases) mediating apoptosis. FAS-mediated apoptosis may have a role in the induction of peripheraltolerance, in the antigen-stimulated suicide of mature T-cells, orboth. The secreted isoforms 2 to 6 block apoptosis (in vitro)."
       },
       "grabbable": true,
       "grabbed": false,
       "position": {
        "x": 871.3707760410626,
        "y": 388.8443619932413
       }
      }
     },
     "e0e73fd2107143908be7034b5a528070": {
      "model_module": "jupyter-cytoscape",
      "model_module_version": "^1.2.2",
      "model_name": "EdgeModel",
      "state": {
       "_model_module_version": "^1.2.2",
       "_view_module_version": "^1.2.2",
       "data": {
        "cited": 0,
        "datasource": [
         "pid"
        ],
        "id": "CARM1-controls-expression-of-GADD45A",
        "isdirected": true,
        "pubmed": [
         "15186775",
         "18250150"
        ],
        "source": "CARM1",
        "target": "GADD45A",
        "type": "controls-expression-of"
       }
      }
     },
     "e10463659edf4d6ebcd57718d038bd23": {
      "model_module": "jupyter-cytoscape",
      "model_module_version": "^1.2.2",
      "model_name": "NodeModel",
      "state": {
       "_model_module_version": "^1.2.2",
       "_view_module_version": "^1.2.2",
       "data": {
        "altered": 0,
        "cited": 7554,
        "id": "HGF",
        "importance": 3,
        "isseed": false,
        "isvalid": true,
        "rank": 4,
        "uniprot": "P14210",
        "uniprotdesc": "Potent mitogen for mature parenchymal hepatocyte cells,seems to be a hepatotrophic factor, and acts as a growth factorfor a broad spectrum of tissues and cell types. Activating ligandfor the receptor tyrosine kinase MET by binding to it andpromoting its dimerization. "
       },
       "grabbable": true,
       "grabbed": false,
       "position": {
        "x": 941.9358857530519,
        "y": 234.30784649399106
       }
      }
     },
     "e1d970206b44498d845716760109f74b": {
      "model_module": "jupyter-cytoscape",
      "model_module_version": "^1.2.2",
      "model_name": "NodeModel",
      "state": {
       "_model_module_version": "^1.2.2",
       "_view_module_version": "^1.2.2",
       "data": {
        "altered": 0,
        "cited": 372,
        "id": "CDK7",
        "importance": 3,
        "isseed": false,
        "isvalid": true,
        "rank": 72,
        "uniprot": "P50613",
        "uniprotdesc": "Serine/threonine kinase involved in cell cycle controland in RNA polymerase II-mediated RNA transcription. Cyclin-dependent kinases (CDKs) are activated by the binding to a cyclinand mediate the progression through the cell cycle. Each differentcomplex controls a specific transition between 2 subsequent phasesin the cell cycle. Required for both activation and complexformation of CDK1/cyclin-B during G2-M transition, and foractivation of CDK2/cyclins during G1-S transition (but not complexformation). CDK7 is the catalytic subunit of the CDK-activatingkinase (CAK) complex. Phosphorylates SPT5/SUPT5H, SF1/NR5A1,POLR2A, p53/TP53, CDK1, CDK2, CDK4, CDK6 and CDK11B/CDK11. CAKactivates the cyclin-associated kinases CDK1, CDK2, CDK4 and CDK6by threonine phosphorylation, thus regulating cell cycleprogression. CAK complexed to the core-TFIIH basal transcriptionfactor activates RNA polymerase II by serine phosphorylation ofthe repetitive C-terminal domain (CTD) of its large subunit(POLR2A), allowing its escape from the promoter and elongation ofthe transcripts. Phosphorylation of POLR2A in complex with DNApromotes transcription initiation by triggering dissociation fromDNA. Its expression and activity are constant throughout the cellcycle. Upon DNA damage, triggers p53/TP53 activation byphosphorylation, but is inactivated in turn by p53/TP53; thisfeedback loop may lead to an arrest of the cell cycle and of thetranscription, helping in cell recovery, or to apoptosis. Requiredfor DNA-bound peptides-mediated transcription and cellular growthinhibition. "
       },
       "grabbable": true,
       "grabbed": false,
       "position": {
        "x": 876.0494078966285,
        "y": 232.79214943145493
       }
      }
     },
     "e1dd629eb973470780e4470a52e5d708": {
      "model_module": "jupyter-cytoscape",
      "model_module_version": "^1.2.2",
      "model_name": "EdgeModel",
      "state": {
       "_model_module_version": "^1.2.2",
       "_view_module_version": "^1.2.2",
       "data": {
        "cited": 28,
        "datasource": [
         "pid"
        ],
        "id": "TP53-controls-expression-of-TP53I3",
        "isdirected": true,
        "pubmed": [
         "11684014",
         "11919562",
         "17719542",
         "18485870"
        ],
        "source": "TP53",
        "target": "TP53I3",
        "type": "controls-expression-of"
       }
      }
     },
     "e2bd77a988ea49c6ba953ac67d38745e": {
      "model_module": "jupyter-cytoscape",
      "model_module_version": "^1.2.2",
      "model_name": "EdgeModel",
      "state": {
       "_model_module_version": "^1.2.2",
       "_view_module_version": "^1.2.2",
       "data": {
        "cited": 0,
        "datasource": [
         "pid"
        ],
        "id": "PRMT5-controls-state-change-of-TP53",
        "isdirected": true,
        "pubmed": [
         "19011621"
        ],
        "source": "PRMT5",
        "target": "TP53",
        "type": "controls-state-change-of"
       }
      }
     },
     "e2e64cc902be479e90d1bddc7e2b687b": {
      "model_module": "jupyter-cytoscape",
      "model_module_version": "^1.2.2",
      "model_name": "NodeModel",
      "state": {
       "_model_module_version": "^1.2.2",
       "_view_module_version": "^1.2.2",
       "data": {
        "id": "24",
        "name": "age: 50\nvirus: ncov\n",
        "parent": "parent-1"
       },
       "grabbable": true,
       "grabbed": false,
       "position": {
        "x": 756.5529425139174,
        "y": 300.50718492426336
       },
       "selectable": false
      }
     },
     "e2fafdee92564b51a7981dad19fa11b4": {
      "model_module": "jupyter-cytoscape",
      "model_module_version": "^1.2.2",
      "model_name": "NodeModel",
      "state": {
       "_model_module_version": "^1.2.2",
       "_view_module_version": "^1.2.2",
       "data": {
        "altered": 0,
        "cited": 28,
        "id": "MAX",
        "importance": 3,
        "isseed": false,
        "isvalid": true,
        "rank": 158,
        "uniprot": "P61244",
        "uniprotdesc": "Transcription regulator. Forms a sequence-specific DNA-binding protein complex with MYC or MAD which recognizes the coresequence 5'-CAC[GA]TG-3'. The MYC:MAX complex is a transcriptionalactivator, whereas the MAD:MAX complex is a repressor. May represstranscription via the recruitment of a chromatin remodelingcomplex containing H3 'Lys-9' histone methyltransferase activity."
       },
       "grabbable": true,
       "grabbed": false,
       "position": {
        "x": 546.0858044115741,
        "y": -87.5000662871639
       }
      }
     },
     "e3c20e6f41194e1e839f1d51ca304353": {
      "model_module": "jupyter-cytoscape",
      "model_module_version": "^1.2.2",
      "model_name": "EdgeModel",
      "state": {
       "_model_module_version": "^1.2.2",
       "_view_module_version": "^1.2.2",
       "data": {
        "cited": 0,
        "datasource": [
         "PANTHER"
        ],
        "id": "PRKAA1-controls-state-change-of-TP63",
        "isdirected": true,
        "pubmed": [],
        "source": "PRKAA1",
        "target": "TP63",
        "type": "controls-state-change-of"
       }
      }
     },
     "e3f49709b4c3460ba679e806f5a5bdad": {
      "model_module": "jupyter-cytoscape",
      "model_module_version": "^1.2.2",
      "model_name": "EdgeModel",
      "state": {
       "_model_module_version": "^1.2.2",
       "_view_module_version": "^1.2.2",
       "data": {
        "cited": 42,
        "datasource": [
         "pid"
        ],
        "id": "TP53-controls-expression-of-TP73",
        "isdirected": true,
        "pubmed": [
         "11314010"
        ],
        "source": "TP53",
        "target": "TP73",
        "type": "controls-expression-of"
       }
      }
     },
     "e4ae723479d84d1ea9528e73fcef8910": {
      "model_module": "jupyter-cytoscape",
      "model_module_version": "^1.2.2",
      "model_name": "EdgeModel",
      "state": {
       "_model_module_version": "^1.2.2",
       "_view_module_version": "^1.2.2",
       "data": {
        "cited": 5,
        "datasource": [
         "Reactome"
        ],
        "id": "TP53-controls-state-change-of-HMGA2",
        "isdirected": true,
        "pubmed": [
         "15621527",
         "15655109",
         "16901784",
         "17158953",
         "17242198",
         "17242207",
         "23964094"
        ],
        "source": "TP53",
        "target": "HMGA2",
        "type": "controls-state-change-of"
       }
      }
     },
     "e5004488a58b4e0e882099119df42acd": {
      "model_module": "jupyter-cytoscape",
      "model_module_version": "^1.2.2",
      "model_name": "NodeModel",
      "state": {
       "_model_module_version": "^1.2.2",
       "_view_module_version": "^1.2.2",
       "data": {
        "id": "17",
        "name": "age: 38\nvirus: ncov\n",
        "parent": "parent-1"
       },
       "grabbable": true,
       "grabbed": false,
       "position": {
        "x": 653.5,
        "y": 230
       },
       "selectable": false
      }
     },
     "e56dc547815a4e59984d465534be4f44": {
      "model_module": "jupyter-cytoscape",
      "model_module_version": "^1.2.2",
      "model_name": "NodeModel",
      "state": {
       "_model_module_version": "^1.2.2",
       "_view_module_version": "^1.2.2",
       "data": {
        "altered": 0,
        "cited": 147,
        "id": "HMGA1",
        "importance": 3,
        "isseed": false,
        "isvalid": true,
        "rank": 111,
        "uniprot": "P17096",
        "uniprotdesc": "HMG-I/Y bind preferentially to the minor groove of A+Trich regions in double-stranded DNA. It is suggested that theseproteins could function in nucleosome phasing and in the 3'-endprocessing of mRNA transcripts. They are also involved in thetranscription regulation of genes containing, or in closeproximity to A+T-rich regions."
       },
       "grabbable": true,
       "grabbed": false,
       "position": {
        "x": 520.6279605351583,
        "y": 65.37800436297947
       }
      }
     },
     "e59221ddb2a3437ca0b50541b3f0cd09": {
      "model_module": "jupyter-cytoscape",
      "model_module_version": "^1.2.2",
      "model_name": "NodeModel",
      "state": {
       "_model_module_version": "^1.2.2",
       "_view_module_version": "^1.2.2",
       "data": {
        "altered": 0,
        "cited": 351,
        "id": "SP1",
        "importance": 2,
        "isseed": false,
        "isvalid": true,
        "rank": 204,
        "uniprot": "P08047",
        "uniprotdesc": "Transcription factor that can activate or represstranscription in response to physiological and pathologicalstimuli. Binds with high affinity to GC-rich motifs and regulatesthe expression of a large number of genes involved in a variety ofprocesses such as cell growth, apoptosis, differentiation andimmune responses. Highly regulated by post-translationalmodifications (phosphorylations, sumoylation, proteolyticcleavage, glycosylation and acetylation). Binds also the PDGFR-alpha G-box promoter. May have a role in modulating the cellularresponse to DNA damage. Implicated in chromatin remodeling. Playsa role in the recruitment of SMARCA4/BRG1 on the c-FOS promoter.Plays an essential role in the regulation of FE65 gene expression.In complex with ATF7IP, maintains telomerase activity in cancercells by inducing TERT and TERC gene expression. Isoform 3 is astronger activator of transcription than isoform 1. Positivelyregulates the transcription of the core clock componentARNTL/BMAL1. "
       },
       "grabbable": true,
       "grabbed": false,
       "position": {
        "x": 219.56035372922943,
        "y": 254.44026829470326
       }
      }
     },
     "e6ce873a439344beaa6d28c45c922c72": {
      "model_module": "jupyter-cytoscape",
      "model_module_version": "^1.2.2",
      "model_name": "EdgeModel",
      "state": {
       "_model_module_version": "^1.2.2",
       "_view_module_version": "^1.2.2",
       "data": {
        "cited": 0,
        "datasource": [
         "Reactome"
        ],
        "id": "TP53-controls-state-change-of-UBN1",
        "isdirected": true,
        "pubmed": [
         "15621527",
         "15655109",
         "16901784",
         "17158953",
         "17242198",
         "17242207",
         "23964094"
        ],
        "source": "TP53",
        "target": "UBN1",
        "type": "controls-state-change-of"
       }
      }
     },
     "e6fff601932b4ebab86ad626f9704092": {
      "model_module": "jupyter-cytoscape",
      "model_module_version": "^1.2.2",
      "model_name": "EdgeModel",
      "state": {
       "_model_module_version": "^1.2.2",
       "_view_module_version": "^1.2.2",
       "data": {
        "cited": 14,
        "datasource": [
         "pid"
        ],
        "id": "TP53-controls-expression-of-BTG2",
        "isdirected": true,
        "pubmed": [
         "11814693"
        ],
        "source": "TP53",
        "target": "BTG2",
        "type": "controls-expression-of"
       }
      }
     },
     "e7a3f4878f8842a88e110e460444d246": {
      "model_module": "jupyter-cytoscape",
      "model_module_version": "^1.2.2",
      "model_name": "EdgeModel",
      "state": {
       "_model_module_version": "^1.2.2",
       "_view_module_version": "^1.2.2",
       "data": {
        "cited": 19,
        "datasource": [
         "PhosphoSite"
        ],
        "id": "CDK9-controls-state-change-of-TP53",
        "isdirected": true,
        "pubmed": [
         "10202145",
         "10348343",
         "10581258",
         "10644693",
         "10656682",
         "10656795",
         "10706102",
         "10733583",
         "10747897",
         "11078726",
         "11101524",
         "11239457",
         "11300786",
         "11423984",
         "11495913",
         "11526498",
         "11583595",
         "11687964",
         "11707453",
         "11709713",
         "11850826",
         "11875057",
         "12021785",
         "12091386",
         "12393879",
         "12397361",
         "12397362",
         "12427754",
         "12519780",
         "12676607",
         "12776195",
         "12860987",
         "12959929",
         "1406679",
         "14640983",
         "14665630",
         "14702041",
         "14744935",
         "14968111",
         "15064747",
         "15155458",
         "15302935",
         "15322239",
         "15471885",
         "15489221",
         "15619621",
         "15792956",
         "15843377",
         "16037820",
         "16083285",
         "16227590",
         "16319070",
         "16436515",
         "16552184",
         "16632641",
         "16651424",
         "16674116",
         "16717128",
         "16784539",
         "16818520",
         "17105820",
         "17108107",
         "17237827",
         "17287340",
         "17591690",
         "17891183",
         "17906639",
         "17942552",
         "17975552",
         "18490454",
         "18521083",
         "18523266",
         "18718914",
         "18765533",
         "18769132",
         "18778462",
         "18847512",
         "19251701",
         "19369195",
         "19413330",
         "19574224",
         "19664995",
         "19819244",
         "19861417",
         "19882354",
         "20009884",
         "20024960",
         "20123963",
         "20363803",
         "20562916",
         "20661218",
         "20663147",
         "20686112",
         "20808790",
         "20815410",
         "20962272",
         "21317932",
         "21383696",
         "21423215",
         "21455220",
         "21460857",
         "21659604",
         "21832239",
         "21983960",
         "22011578",
         "22112863",
         "22496350",
         "22547687",
         "22975381",
         "23201157",
         "23312004",
         "23603988",
         "23871434",
         "24194938",
         "24657168",
         "25159151",
         "7596441",
         "8327466",
         "9254608",
         "9315650",
         "9372954",
         "9467949",
         "9739174",
         "9744860"
        ],
        "source": "CDK9",
        "target": "TP53",
        "type": "controls-state-change-of"
       }
      }
     },
     "e7ab105c18674bed936d52e548c75cca": {
      "model_module": "jupyter-cytoscape",
      "model_module_version": "^1.2.2",
      "model_name": "EdgeModel",
      "state": {
       "_model_module_version": "^1.2.2",
       "_view_module_version": "^1.2.2",
       "data": {
        "cited": 0,
        "datasource": [
         "pid"
        ],
        "id": "NGFR-controls-state-change-of-TP53",
        "isdirected": true,
        "pubmed": [
         "15668238"
        ],
        "source": "NGFR",
        "target": "TP53",
        "type": "controls-state-change-of"
       }
      }
     },
     "e7c83960a1eb4dacac3df4a995d17d36": {
      "model_module": "jupyter-cytoscape",
      "model_module_version": "^1.2.2",
      "model_name": "EdgeModel",
      "state": {
       "_model_module_version": "^1.2.2",
       "_view_module_version": "^1.2.2",
       "data": {
        "cited": 24,
        "datasource": [
         "PhosphoSite",
         "pid",
         "PANTHER"
        ],
        "id": "ATR-controls-state-change-of-TP53",
        "isdirected": true,
        "pubmed": [
         "10202145",
         "10581258",
         "10606744",
         "10608806",
         "10611322",
         "10656682",
         "10656795",
         "10673501",
         "10706102",
         "10710310",
         "10713094",
         "10723129",
         "10733583",
         "10734067",
         "10744722",
         "10958792",
         "11030628",
         "11042698",
         "11096068",
         "11121242",
         "11244509",
         "11258706",
         "11300786",
         "11313957",
         "11314044",
         "11397945",
         "11423984",
         "11447225",
         "11495913",
         "11526498",
         "11546806",
         "11583595",
         "11706017",
         "11707453",
         "11709713",
         "11711532",
         "11850826",
         "11861384",
         "11865061",
         "11875057",
         "11896572",
         "11896587",
         "12021785",
         "12049739",
         "12071847",
         "12080066",
         "12082529",
         "12091386",
         "12151394",
         "12324477",
         "12384533",
         "12393500",
         "12397362",
         "12427754",
         "12511424",
         "12518062",
         "12519769",
         "12519780",
         "12531896",
         "12588868",
         "12606585",
         "12637545",
         "12676607",
         "12702572",
         "12756247",
         "12771937",
         "12776195",
         "12860987",
         "12890678",
         "12902982",
         "12939400",
         "12955074",
         "12959929",
         "12969974",
         "1406679",
         "14517211",
         "14527925",
         "14612532",
         "14665630",
         "14712210",
         "14871840",
         "14871926",
         "14968111",
         "15048074",
         "15064747",
         "15077171",
         "15078887",
         "15082766",
         "15140942",
         "15155458",
         "15159397",
         "15178764",
         "15181149",
         "15226429",
         "15254178",
         "15258567",
         "15269203",
         "15310764",
         "15322239",
         "15355354",
         "15361830",
         "15381073",
         "15456784",
         "15471885",
         "15489221",
         "15489892",
         "15533933",
         "15542844",
         "15580310",
         "15619621",
         "15665826",
         "15750624",
         "15758953",
         "15775976",
         "15782130",
         "15792956",
         "15794754",
         "15843377",
         "15866171",
         "15870257",
         "15897882",
         "16223874",
         "16247456",
         "16288207",
         "16293623",
         "16377624",
         "16397295",
         "16436515",
         "16478990",
         "16489034",
         "16501611",
         "16632641",
         "16636671",
         "16648554",
         "16651424",
         "16714289",
         "16717128",
         "16731759",
         "16774943",
         "16783362",
         "16790523",
         "16818505",
         "16818520",
         "16891474",
         "16916644",
         "16949371",
         "17045821",
         "17105820",
         "17108107",
         "17234789",
         "17245430",
         "17254968",
         "17283137",
         "17297446",
         "17297454",
         "17332358",
         "17339337",
         "17353187",
         "17363488",
         "17371838",
         "17380123",
         "17456577",
         "17486112",
         "17535811",
         "17553757",
         "17591690",
         "17596534",
         "17609585",
         "17616578",
         "17668048",
         "17684018",
         "17698850",
         "17712528",
         "17855337",
         "17891183",
         "17936559",
         "17967874",
         "17975552",
         "17976513",
         "17977830",
         "18032786",
         "18045533",
         "18056442",
         "18097051",
         "18159951",
         "18216278",
         "18246126",
         "18272544",
         "18289945",
         "18332866",
         "18339864",
         "18345031",
         "18381438",
         "18406507",
         "18431490",
         "18449195",
         "18490454",
         "18560558",
         "18604166",
         "18614045",
         "18715874",
         "18718914",
         "18765533",
         "18769132",
         "18778462",
         "18785202",
         "18794113",
         "18818083",
         "18847491",
         "18985806",
         "18995830",
         "19085961",
         "19203586",
         "19251701",
         "19266268",
         "19303885",
         "19477925",
         "19819244",
         "19828454",
         "19861417",
         "19882354",
         "19907922",
         "19934315",
         "19962312",
         "20005840",
         "20024960",
         "20026654",
         "20080565",
         "20123963",
         "20353948",
         "20372057",
         "20562916",
         "20599567",
         "20610713",
         "20637859",
         "20661218",
         "20663147",
         "20696760",
         "20711232",
         "20931131",
         "20935676",
         "20962272",
         "21317932",
         "21383696",
         "21394211",
         "21423215",
         "21441950",
         "21465263",
         "21532626",
         "21642861",
         "21660965",
         "21757780",
         "21765463",
         "21765464",
         "21832239",
         "22002314",
         "22011578",
         "22030623",
         "22037398",
         "22055193",
         "22099307",
         "22112863",
         "22179839",
         "22285752",
         "22728651",
         "22797063",
         "22815859",
         "22975381",
         "23148227",
         "23150668",
         "23184057",
         "23678107",
         "23798621",
         "23871434",
         "23890999",
         "23982736",
         "24038750",
         "24657168",
         "24711418",
         "24820418",
         "24958101",
         "25202122",
         "8327466",
         "9363941",
         "9733515",
         "9744860",
         "9843217",
         "9925639"
        ],
        "source": "ATR",
        "target": "TP53",
        "type": "controls-state-change-of"
       }
      }
     },
     "e90e08f645834609b87772fb5186ae78": {
      "model_module": "jupyter-cytoscape",
      "model_module_version": "^1.2.2",
      "model_name": "NodeModel",
      "state": {
       "_model_module_version": "^1.2.2",
       "_view_module_version": "^1.2.2",
       "data": {
        "altered": 0,
        "cited": 628,
        "id": "ATR",
        "importance": 3,
        "isseed": false,
        "isvalid": true,
        "rank": 52,
        "uniprot": "Q13535",
        "uniprotdesc": "Serine/threonine protein kinase which activatescheckpoint signaling upon genotoxic stresses such as ionizingradiation (IR), ultraviolet light (UV), or DNA replicationstalling, thereby acting as a DNA damage sensor. Recognizes thesubstrate consensus sequence [ST]-Q. Phosphorylates BRCA1, CHEK1,MCM2, RAD17, RPA2, SMC1 and p53/TP53, which collectively inhibitDNA replication and mitosis and promote DNA repair, recombinationand apoptosis. Phosphorylates 'Ser-139' of histone variantH2AX/H2AFX at sites of DNA damage, thereby regulating DNA damageresponse mechanism. Required for FANCD2 ubiquitination. Criticalfor maintenance of fragile site stability and efficient regulationof centrosome duplication. "
       },
       "grabbable": true,
       "grabbed": false,
       "position": {
        "x": 809.6578010392296,
        "y": 288.8443599932413
       }
      }
     },
     "ea375593c23f47cab8435514458cba02": {
      "model_module": "jupyter-cytoscape",
      "model_module_version": "^1.2.2",
      "model_name": "EdgeModel",
      "state": {
       "_model_module_version": "^1.2.2",
       "_view_module_version": "^1.2.2",
       "data": {
        "cited": 0,
        "datasource": [
         "PANTHER"
        ],
        "id": "ATM-controls-state-change-of-TP63",
        "isdirected": true,
        "pubmed": [],
        "source": "ATM",
        "target": "TP63",
        "type": "controls-state-change-of"
       }
      }
     },
     "ea46d7e580a94f329388acf01441c13b": {
      "model_module": "jupyter-cytoscape",
      "model_module_version": "^1.2.2",
      "model_name": "EdgeModel",
      "state": {
       "_model_module_version": "^1.2.2",
       "_view_module_version": "^1.2.2",
       "data": {
        "cited": 0,
        "datasource": [
         "PANTHER"
        ],
        "id": "ATM-controls-state-change-of-TP73",
        "isdirected": true,
        "pubmed": [],
        "source": "ATM",
        "target": "TP73",
        "type": "controls-state-change-of"
       }
      }
     },
     "ea4d3aae65c54d37b2d027a17fbaa4e1": {
      "model_module": "jupyter-cytoscape",
      "model_module_version": "^1.2.2",
      "model_name": "NodeModel",
      "state": {
       "_model_module_version": "^1.2.2",
       "_view_module_version": "^1.2.2",
       "data": {
        "altered": 0,
        "cited": 5,
        "id": "FBXO11",
        "importance": 3,
        "isseed": false,
        "isvalid": true,
        "rank": 188,
        "uniprot": "Q86XK2",
        "uniprotdesc": "Substrate recognition component of a SCF (SKP1-CUL1-F-box protein) E3 ubiquitin-protein ligase complex which mediatesthe ubiquitination and subsequent proteasomal degradation oftarget proteins, such as DTL/CDT2, BCL6 and PRDM1/BLIMP1. TheSCF(FBXO11) complex mediates ubiquitination and degradation ofBCL6, thereby playing a role in the germinal center B-cellsterminal differentiation toward memory B-cells and plasma cells.The SCF(FBXO11) complex also mediates ubiquitination anddegradation of DTL, an important step for the regulation of TGF-beta signaling, cell migration and the timing of the cell-cycleprogression and exit. Binds to and neddylates phosphorylatedp53/TP53, inhibiting its transcriptional activity. SCF(FBXO11)does not seem to direct ubiquitination of p53/TP53."
       },
       "grabbable": true,
       "grabbed": false,
       "position": {
        "x": 509.6577950392297,
        "y": 295.9204648705627
       }
      }
     },
     "ea912b8c302e44e28e71fe8f70bce6c6": {
      "model_module": "jupyter-cytoscape",
      "model_module_version": "^1.2.2",
      "model_name": "NodeModel",
      "state": {
       "_model_module_version": "^1.2.2",
       "_view_module_version": "^1.2.2",
       "data": {
        "altered": 0,
        "cited": 244,
        "id": "PYCARD",
        "importance": 3,
        "isseed": false,
        "isvalid": true,
        "rank": 89,
        "uniprot": "Q9ULZ3",
        "uniprotdesc": "Functions as key mediator in apoptosis and inflammation.Promotes caspase-mediated apoptosis involving predominantlycaspase-8 and also caspase-9 in a probable cell type-specificmanner. Involved in activation of the mitochondrial apoptoticpathway, promotes caspase-8-dependent proteolytic maturation ofBID independently of FADD in certain cell types and also mediatesmitochondrial translocation of BAX and activates BAX-dependentapoptosis coupled to activation of caspase-9, -2 and -3. Involvedin macrophage pyroptosis, a caspase-1-dependent inflammatory formof cell death and is the major constituent of the ASC pyroptosomewhich forms upon potassium depletion and rapidly recruits andactivates caspase-1. In innate immune response believed to act asan integral adapter in the assembly of the inflammasome whichactivates caspase-1 leading to processing and secretion ofproinflammatory cytokines. The function as activating adapter indifferent types of inflammasomes is mediated by the DAPIN and CARDdomains and their homotypic interactions. Required for recruitmentof caspase-1 to inflammasomes containing certain patternrecognition receptors, such as NLRP2, NLRP3, AIM2 and probablyIFI16. In the NLRP1 and NLRC4 inflammasomes seems not be requiredbut facilitates the processing of procaspase-1. In cooperationwith NOD2 involved in an inflammasome activated by bacterialmuramyl dipeptide leading to caspase-1 activation. May be involvedin DDX58-triggered proinflammatory responses and inflammasomeactivation. Isoform 2 may have a regulating effect on the functionas inflammasome adapter. Isoform 3 seems to inhibit inflammasome-mediated maturation of interleukin-1 beta. In collaboration withAIM2 which detects cytosolic double-stranded DNA may also beinvolved in a caspase-1-independent cell death that involvescaspase-8. In adaptive immunity may be involved in maturation ofdendritic cells to stimulate T-cell immunity and in cytoskeletalrearrangements coupled to chemotaxis and antigen uptake may beinvolved in post-transcriptional regulation of the guaninenucleotide exchange factor DOCK2; the latter function is proposedto involve the nuclear form. Also involved in transcriptionalactivation of cytokines and chemokines independent of theinflammasome; this function may involve AP-1, NF-kappa-B, MAPK andcaspase-8 signaling pathways. For regulation of NF-kappa-Bactivating and inhibiting functions have been reported. ModulatesNF-kappa-B induction at the level of the IKK complex by inhibitingkinase activity of CHUK and IKBK. Proposed to compete with RIPK2for association with CASP1 thereby down-regulating CASP1-mediatedRIPK2-dependent NF-kappa-B activation and activating interleukin-1beta processing. "
       },
       "grabbable": true,
       "grabbed": false,
       "position": {
        "x": 461.2741597901134,
        "y": 213.3963337795212
       }
      }
     },
     "eae33535d24242838c14afac5c82c192": {
      "model_module": "jupyter-cytoscape",
      "model_module_version": "^1.2.2",
      "model_name": "NodeModel",
      "state": {
       "_model_module_version": "^1.2.2",
       "_view_module_version": "^1.2.2",
       "data": {
        "altered": 0,
        "cited": 3201,
        "id": "RB1",
        "importance": 3,
        "isseed": false,
        "isvalid": true,
        "rank": 15,
        "uniprot": "P06400",
        "uniprotdesc": "Key regulator of entry into cell division that acts as atumor suppressor. Promotes G0-G1 transition when phosphorylated byCDK3/cyclin-C. Acts as a transcription repressor of E2F1 targetgenes. The underphosphorylated, active form of RB1 interacts withE2F1 and represses its transcription activity, leading to cellcycle arrest. Directly involved in heterochromatin formation bymaintaining overall chromatin structure and, in particular, thatof constitutive heterochromatin by stabilizing histonemethylation. Recruits and targets histone methyltransferasesSUV39H1, SUV420H1 and SUV420H2, leading to epigenetictranscriptional repression. Controls histone H4 'Lys-20'trimethylation. Inhibits the intrinsic kinase activity of TAF1.Mediates transcriptional repression by SMARCA4/BRG1 by recruitinga histone deacetylase (HDAC) complex to the c-FOS promoter. Inresting neurons, transcription of the c-FOS promoter is inhibitedby BRG1-dependent recruitment of a phospho-RB1-HDAC1 repressorcomplex. Upon calcium influx, RB1 is dephosphorylated bycalcineurin, which leads to release of the repressor complex (Bysimilarity). In case of viral infections, interactions with SV40large T antigen, HPV E7 protein or adenovirus E1A protein inducethe disassembly of RB1-E2F1 complex thereby disrupting RB1'sactivity. "
       },
       "grabbable": true,
       "grabbed": false,
       "position": {
        "x": 881.242541035915,
        "y": 182.79214843145496
       }
      }
     },
     "eb0aa20824f24c3ca98ce12df24ad62e": {
      "model_module": "jupyter-cytoscape",
      "model_module_version": "^1.2.2",
      "model_name": "NodeModel",
      "state": {
       "_model_module_version": "^1.2.2",
       "_view_module_version": "^1.2.2",
       "data": {
        "altered": 0,
        "cited": 89,
        "id": "IGBP1",
        "importance": 3,
        "isseed": false,
        "isvalid": true,
        "rank": 125,
        "uniprot": "P78318",
        "uniprotdesc": "Associated to surface IgM-receptor; may be involved insignal transduction. Involved in regulation of the catalyticactivity of the phosphatases PP2A, PP4 and PP6 by protecting theirpartially folded catalytic subunits from degradativepolyubiquitination until they associate with regulatory subunits."
       },
       "grabbable": true,
       "grabbed": false,
       "position": {
        "x": 815.1071251480672,
        "y": 232.79214943145493
       }
      }
     },
     "eb29a618a59949ecb1347e466eb1d192": {
      "model_module": "jupyter-cytoscape",
      "model_module_version": "^1.2.2",
      "model_name": "EdgeModel",
      "state": {
       "_model_module_version": "^1.2.2",
       "_view_module_version": "^1.2.2",
       "data": {
        "cited": 0,
        "datasource": [
         "Reactome",
         "pid",
         "PANTHER"
        ],
        "id": "MAPK11-controls-state-change-of-TP53",
        "isdirected": true,
        "pubmed": [
         "10212189",
         "10747897",
         "17254968"
        ],
        "source": "MAPK11",
        "target": "TP53",
        "type": "controls-state-change-of"
       }
      }
     },
     "eb9164c785774c0db7ca87dd807f8793": {
      "model_module": "jupyter-cytoscape",
      "model_module_version": "^1.2.2",
      "model_name": "EdgeModel",
      "state": {
       "_model_module_version": "^1.2.2",
       "_view_module_version": "^1.2.2",
       "data": {
        "cited": 0,
        "datasource": [
         "pid"
        ],
        "id": "MAX-controls-expression-of-TP53",
        "isdirected": true,
        "pubmed": [
         "8494784"
        ],
        "source": "MAX",
        "target": "TP53",
        "type": "controls-expression-of"
       }
      }
     },
     "ebea7f467efb45799f48e61b09bb1478": {
      "model_module": "jupyter-cytoscape",
      "model_module_version": "^1.2.2",
      "model_name": "NodeModel",
      "state": {
       "_model_module_version": "^1.2.2",
       "_view_module_version": "^1.2.2",
       "data": {
        "id": "3",
        "name": "age: 58\nvirus: ncov\n",
        "parent": "parent-2"
       },
       "grabbable": true,
       "grabbed": false,
       "position": {
        "x": 723.1689007904996,
        "y": 10.50717792426343
       },
       "selectable": false
      }
     },
     "ecce260a261c4302842bb7359a5b3665": {
      "model_module": "jupyter-cytoscape",
      "model_module_version": "^1.2.2",
      "model_name": "EdgeModel",
      "state": {
       "_model_module_version": "^1.2.2",
       "_view_module_version": "^1.2.2",
       "data": {
        "cited": 1,
        "datasource": [
         "PANTHER"
        ],
        "id": "SUMO1-controls-state-change-of-TP63",
        "isdirected": true,
        "pubmed": [],
        "source": "SUMO1",
        "target": "TP63",
        "type": "controls-state-change-of"
       }
      }
     },
     "ed2b7be516584104a546f5f5f8d947f7": {
      "model_module": "@jupyter-widgets/base",
      "model_module_version": "1.2.0",
      "model_name": "LayoutModel",
      "state": {}
     },
     "ed443b8e0b6e48359f87f660d726320a": {
      "model_module": "jupyter-cytoscape",
      "model_module_version": "^1.2.2",
      "model_name": "NodeModel",
      "state": {
       "_model_module_version": "^1.2.2",
       "_view_module_version": "^1.2.2",
       "data": {
        "id": "13",
        "name": "age: 37\nvirus: ncov\n",
        "parent": "parent-1"
       },
       "grabbable": true,
       "grabbed": false,
       "position": {
        "x": 706.5529415139175,
        "y": 170
       },
       "selectable": false
      }
     },
     "ee12730d6c4f4dedab49249299c4f60f": {
      "model_module": "jupyter-cytoscape",
      "model_module_version": "^1.2.2",
      "model_name": "EdgeModel",
      "state": {
       "_model_module_version": "^1.2.2",
       "_view_module_version": "^1.2.2",
       "data": {
        "cited": 34,
        "datasource": [
         "pid"
        ],
        "id": "KAT2B-controls-state-change-of-TP53",
        "isdirected": true,
        "pubmed": [
         "17110336",
         "9744860",
         "9891054"
        ],
        "source": "KAT2B",
        "target": "TP53",
        "type": "controls-state-change-of"
       }
      }
     },
     "ee64e250a6bb469691f1dcd7df5e35b2": {
      "model_module": "jupyter-cytoscape",
      "model_module_version": "^1.2.2",
      "model_name": "NodeModel",
      "state": {
       "_model_module_version": "^1.2.2",
       "_view_module_version": "^1.2.2",
       "data": {
        "altered": 0,
        "cited": 32,
        "id": "SETD7",
        "importance": 3,
        "isseed": false,
        "isvalid": true,
        "rank": 156,
        "uniprot": "Q8WTS6",
        "uniprotdesc": "Histone methyltransferase that specificallymonomethylates 'Lys-4' of histone H3. H3 'Lys-4' methylationrepresents a specific tag for epigenetic transcriptionalactivation. Plays a central role in the transcriptional activationof genes such as collagenase or insulin. Recruited by IPF1/PDX-1to the insulin promoter, leading to activate transcription. Hasalso methyltransferase activity toward non-histone proteins suchas p53/TP53, TAF10, and possibly TAF7 by recognizing and bindingthe [KR]-[STA]-K in substrate proteins. Monomethylates 'Lys-189'of TAF10, leading to increase the affinity of TAF10 for RNApolymerase II. Monomethylates 'Lys-372' of p53/TP53, stabilizingp53/TP53 and increasing p53/TP53-mediated transcriptionalactivation. "
       },
       "grabbable": true,
       "grabbed": false,
       "position": {
        "x": 396.0858014115741,
        "y": -6.950179167422898
       }
      }
     },
     "ee9bdaf79d62448a9569c6d098c861e0": {
      "model_module": "jupyter-cytoscape",
      "model_module_version": "^1.2.2",
      "model_name": "NodeModel",
      "state": {
       "_model_module_version": "^1.2.2",
       "_view_module_version": "^1.2.2",
       "data": {
        "altered": 0,
        "cited": 63,
        "id": "PPP1R13L",
        "importance": 3,
        "isseed": false,
        "isvalid": true,
        "rank": 140,
        "uniprot": "Q8WUF5",
        "uniprotdesc": "Regulator that plays a central role in regulation ofapoptosis and transcription via its interaction with NF-kappa-Band p53/TP53 proteins. Blocks transcription of HIV-1 virus byinhibiting the action of both NF-kappa-B and SP1. Also inhibitsp53/TP53 function, possibly by preventing the association betweenp53/TP53 and ASPP1 or ASPP2, and therefore suppressing thesubsequent activation of apoptosis. "
       },
       "grabbable": true,
       "grabbed": false,
       "position": {
        "x": 423.67714810269143,
        "y": 93.04982283257709
       }
      }
     },
     "ef3c129c6f44486585c99ba0057660a0": {
      "model_module": "jupyter-cytoscape",
      "model_module_version": "^1.2.2",
      "model_name": "NodeModel",
      "state": {
       "_model_module_version": "^1.2.2",
       "_view_module_version": "^1.2.2",
       "data": {
        "altered": 0,
        "cited": 691,
        "id": "DAPK1",
        "importance": 3,
        "isseed": false,
        "isvalid": true,
        "rank": 49,
        "uniprot": "P53355",
        "uniprotdesc": "Calcium/calmodulin-dependent serine/threonine kinaseinvolved in multiple cellular signaling pathways that trigger cellsurvival, apoptosis, and autophagy. Regulates both type Iapoptotic and type II autophagic cell deaths signal, depending onthe cellular setting. The former is caspase-dependent, while thelatter is caspase-independent and is characterized by theaccumulation of autophagic vesicles. Phosphorylates PIN1 resultingin inhibition of its catalytic activity, nuclear localization, andcellular function. Phosphorylates TPM1, enhancing stress fiberformation in endothelial cells. Phosphorylates STX1A andsignificantly decreases its binding to STXBP1. PhosphorylatesPRKD1 and regulates JNK signaling by binding and activating PRKD1under oxidative stress. Phosphorylates BECN1, reducing itsinteraction with BCL2 and BCL2L1 and promoting the induction ofautophagy. Phosphorylates TSC2, disrupting the TSC1-TSC2 complexand stimulating mTORC1 activity in a growth factor-dependentpathway. Phosphorylates RPS6, MYL9 and DAPK3. Acts as a signalingamplifier of NMDA receptors at extrasynaptic sites for mediatingbrain damage in stroke. Cerebral ischemia recruits DAPK1 into theNMDA receptor complex and it phosphorylates GRINB at Ser-1303inducing injurious Ca(2+) influx through NMDA receptor channels,resulting in an irreversible neuronal death. Required togetherwith DAPK3 for phosphorylation of RPL13A upon interferon-gammaactivation which is causing RPL13A involvement in transcript-selective translation inhibition.Isoform 2 cannot induce apoptosis but can inducemembrane blebbing."
       },
       "grabbable": true,
       "grabbed": false,
       "position": {
        "x": 821.3707750410628,
        "y": 407.17298499891854
       }
      }
     },
     "ef4c485dc05645489e6a45884d01fb1d": {
      "model_module": "jupyter-cytoscape",
      "model_module_version": "^1.2.2",
      "model_name": "NodeModel",
      "state": {
       "_model_module_version": "^1.2.2",
       "_view_module_version": "^1.2.2",
       "data": {
        "altered": 0,
        "cited": 13,
        "id": "HIST1H1C",
        "importance": 3,
        "isseed": false,
        "isvalid": true,
        "rank": 174,
        "uniprot": "P16403",
        "uniprotdesc": "Histone H1 protein binds to linker DNA betweennucleosomes forming the macromolecular structure known as thechromatin fiber. Histones H1 are necessary for the condensation ofnucleosome chains into higher-order structured fibers. Acts alsoas a regulator of individual gene transcription through chromatinremodeling, nucleosome spacing and DNA methylation (Bysimilarity). "
       },
       "grabbable": true,
       "grabbed": false,
       "position": {
        "x": 561.2741617901135,
        "y": 242.14655780922382
       }
      }
     },
     "ef5c86f03fd047608c06b398dcd0f2c1": {
      "model_module": "jupyter-cytoscape",
      "model_module_version": "^1.2.2",
      "model_name": "NodeModel",
      "state": {
       "_model_module_version": "^1.2.2",
       "_view_module_version": "^1.2.2",
       "data": {
        "altered": 0,
        "cited": 185,
        "id": "HIC1",
        "importance": 3,
        "isseed": false,
        "isvalid": true,
        "rank": 99,
        "uniprot": "Q14526",
        "uniprotdesc": "Transcriptional repressor. Recognizes and binds to theconsensus sequence '5-[CG]NG[CG]GGGCA[CA]CC-3'. May act as a tumorsuppressor. May be involved in development of head, face, limbsand ventral body wall. Involved in down-regulation of SIRT1 andthereby is involved in regulation of p53/TP53-dependent apoptoticDNA-damage responses. The specific target gene promoterassociation seems to be depend on corepressors, such as CTBP1 orCTBP2 and MTA1. The regulation of SIRT1 transcription in responseto nutrient deprivation seems to involve CTBP1. In cooperationwith MTA1 (indicative for an association with the NuRD complex)represses transcription from CCND1/cyclin-D1 and CDKN1C/p57Kip2specifically in quiescent cells. Involved in regulation of the Wntsignaling pathway probably by association with TCF7L2 andpreventing TCF7L2 and CTNNB1 association with promoters of TCF-responsive genes. Seems to repress transcription from E2F1 andATOH1 which involves ARID1A, indicative for the participation of adistinct SWI/SNF-type chromatin-remodeling complex. Probablyrepresses transcription from ACKR3, FGFBP1 and EFNA1."
       },
       "grabbable": true,
       "grabbed": false,
       "position": {
        "x": 416.33962277718064,
        "y": 313.39633577952117
       }
      }
     },
     "efa3fc1ee505454ca4f4849f374df732": {
      "model_module": "jupyter-cytoscape",
      "model_module_version": "^1.2.2",
      "model_name": "EdgeModel",
      "state": {
       "_model_module_version": "^1.2.2",
       "_view_module_version": "^1.2.2",
       "data": {
        "cited": 237,
        "datasource": [
         "Reactome",
         "PhosphoSite",
         "pid",
         "PANTHER"
        ],
        "id": "ATM-controls-state-change-of-TP53",
        "isdirected": true,
        "pubmed": [
         "10202145",
         "10570149",
         "10581258",
         "10606744",
         "10608806",
         "10611322",
         "10656682",
         "10656795",
         "10673500",
         "10673501",
         "10706102",
         "10710310",
         "10713094",
         "10723129",
         "10733583",
         "10734067",
         "10744722",
         "10958792",
         "11030628",
         "11096068",
         "11101524",
         "11121242",
         "11175334",
         "11244509",
         "11258706",
         "11300786",
         "11313957",
         "11314044",
         "11397945",
         "11423984",
         "11447225",
         "11495913",
         "11526498",
         "11546806",
         "11551930",
         "11583595",
         "11706017",
         "11707453",
         "11709713",
         "11711532",
         "11740489",
         "11780126",
         "11850826",
         "11861384",
         "11865061",
         "11875057",
         "11896572",
         "11896587",
         "12021785",
         "12049739",
         "12071847",
         "12080066",
         "12082529",
         "12091386",
         "12093737",
         "12151394",
         "12324477",
         "12384533",
         "12393500",
         "12397361",
         "12397362",
         "12427754",
         "12511424",
         "12518062",
         "12519769",
         "12519780",
         "12531896",
         "12588868",
         "12606585",
         "12637545",
         "12676607",
         "12702572",
         "12756247",
         "12771937",
         "12776195",
         "12810724",
         "12860987",
         "12861053",
         "12890678",
         "12902982",
         "12907596",
         "12939400",
         "12955074",
         "12959929",
         "12969974",
         "1406679",
         "14517211",
         "14527925",
         "14612532",
         "14665630",
         "14712210",
         "14749479",
         "14871840",
         "14871926",
         "14968111",
         "15048074",
         "15064747",
         "15077171",
         "15078887",
         "15082766",
         "15140942",
         "15155458",
         "15159397",
         "15178764",
         "15181149",
         "15226429",
         "15254178",
         "15258567",
         "15269203",
         "15310764",
         "15322239",
         "15355354",
         "15361830",
         "15381073",
         "15456784",
         "15471885",
         "15489221",
         "15489892",
         "15526030",
         "15533933",
         "15542844",
         "15580310",
         "15619621",
         "15629715",
         "15657359",
         "15665826",
         "15671037",
         "15706352",
         "15750624",
         "15758953",
         "15775976",
         "15782130",
         "15792956",
         "15794754",
         "15843377",
         "15866171",
         "15870257",
         "15897882",
         "15963507",
         "16219768",
         "16223874",
         "16247456",
         "16288207",
         "16293623",
         "16377624",
         "16397295",
         "16436515",
         "16478990",
         "16489034",
         "16501611",
         "16601678",
         "16632641",
         "16636671",
         "16648554",
         "16651424",
         "16714289",
         "16717128",
         "16731759",
         "16738336",
         "16774943",
         "16783362",
         "16790523",
         "16793543",
         "16818505",
         "16818520",
         "16891474",
         "16916644",
         "16949371",
         "17045821",
         "17105820",
         "17107963",
         "17108107",
         "17121812",
         "17135248",
         "17210684",
         "17234789",
         "17245430",
         "17283137",
         "17297446",
         "17297454",
         "17332358",
         "17339337",
         "17349958",
         "17349959",
         "17353187",
         "17363488",
         "17371838",
         "17380123",
         "17456577",
         "17486112",
         "17535811",
         "17553757",
         "17567906",
         "17591690",
         "17596534",
         "17609585",
         "17616578",
         "17668048",
         "17684018",
         "17698850",
         "17712528",
         "17855337",
         "17891183",
         "17906639",
         "17936559",
         "17967874",
         "17975552",
         "17976513",
         "17977830",
         "18032786",
         "18045533",
         "18056442",
         "18056705",
         "18097051",
         "18159951",
         "18160537",
         "18216278",
         "18246126",
         "18272544",
         "18289945",
         "18332866",
         "18339864",
         "18345031",
         "18381438",
         "18406507",
         "18431490",
         "18449195",
         "18490454",
         "18536714",
         "18560558",
         "18593910",
         "18604166",
         "18614045",
         "18669630",
         "18715874",
         "18718914",
         "18765533",
         "18769132",
         "18778462",
         "18785202",
         "18794113",
         "18818083",
         "18847491",
         "18985806",
         "18995830",
         "19085961",
         "19203586",
         "19251701",
         "19266268",
         "19303885",
         "19465479",
         "19477925",
         "19819244",
         "19828042",
         "19828454",
         "19857493",
         "19861417",
         "19882354",
         "19907922",
         "19934315",
         "19962312",
         "19965871",
         "20005840",
         "20009884",
         "20018442",
         "20024960",
         "20026654",
         "20041275",
         "20080565",
         "20123963",
         "20171273",
         "20353948",
         "20363803",
         "20372057",
         "20514025",
         "20562916",
         "20599567",
         "20610713",
         "20637859",
         "20661218",
         "20663147",
         "20673369",
         "20696760",
         "20711232",
         "20811699",
         "20931131",
         "20935676",
         "20962272",
         "21057547",
         "21148320",
         "21317932",
         "21383696",
         "21394211",
         "21423215",
         "21441950",
         "21454683",
         "21465263",
         "21532626",
         "21642861",
         "21660965",
         "21757780",
         "21765463",
         "21765464",
         "21832239",
         "22002314",
         "22011578",
         "22030623",
         "22037398",
         "22055193",
         "22099307",
         "22112863",
         "22179839",
         "22285752",
         "22728651",
         "22797063",
         "22815859",
         "22878263",
         "22975381",
         "23148227",
         "23149944",
         "23150668",
         "23184057",
         "23678107",
         "23798621",
         "23871434",
         "23890999",
         "23982736",
         "24038750",
         "24145406",
         "24196445",
         "24379358",
         "24657168",
         "24711418",
         "24820418",
         "24899407",
         "24958101",
         "25202122",
         "8327466",
         "9363941",
         "9733514",
         "9733515",
         "9843217",
         "9925639"
        ],
        "source": "ATM",
        "target": "TP53",
        "type": "controls-state-change-of"
       }
      }
     },
     "f039da7ddf67439095c425edafdcdd3f": {
      "model_module": "jupyter-cytoscape",
      "model_module_version": "^1.2.2",
      "model_name": "EdgeModel",
      "state": {
       "_model_module_version": "^1.2.2",
       "_view_module_version": "^1.2.2",
       "data": {
        "cited": 19,
        "datasource": [
         "PhosphoSite"
        ],
        "id": "CDK9-controls-state-change-of-TP53",
        "isdirected": true,
        "pubmed": [
         "10202145",
         "10348343",
         "10581258",
         "10644693",
         "10656682",
         "10656795",
         "10706102",
         "10733583",
         "10747897",
         "11078726",
         "11101524",
         "11239457",
         "11300786",
         "11423984",
         "11495913",
         "11526498",
         "11583595",
         "11687964",
         "11707453",
         "11709713",
         "11850826",
         "11875057",
         "12021785",
         "12091386",
         "12393879",
         "12397361",
         "12397362",
         "12427754",
         "12519780",
         "12676607",
         "12776195",
         "12860987",
         "12959929",
         "1406679",
         "14640983",
         "14665630",
         "14702041",
         "14744935",
         "14968111",
         "15064747",
         "15155458",
         "15302935",
         "15322239",
         "15471885",
         "15489221",
         "15619621",
         "15792956",
         "15843377",
         "16037820",
         "16083285",
         "16227590",
         "16319070",
         "16436515",
         "16552184",
         "16632641",
         "16651424",
         "16674116",
         "16717128",
         "16784539",
         "16818520",
         "17105820",
         "17108107",
         "17237827",
         "17287340",
         "17591690",
         "17891183",
         "17906639",
         "17942552",
         "17975552",
         "18490454",
         "18521083",
         "18523266",
         "18718914",
         "18765533",
         "18769132",
         "18778462",
         "18847512",
         "19251701",
         "19369195",
         "19413330",
         "19574224",
         "19664995",
         "19819244",
         "19861417",
         "19882354",
         "20009884",
         "20024960",
         "20123963",
         "20363803",
         "20562916",
         "20661218",
         "20663147",
         "20686112",
         "20808790",
         "20815410",
         "20962272",
         "21317932",
         "21383696",
         "21423215",
         "21455220",
         "21460857",
         "21659604",
         "21832239",
         "21983960",
         "22011578",
         "22112863",
         "22496350",
         "22547687",
         "22975381",
         "23201157",
         "23312004",
         "23603988",
         "23871434",
         "24194938",
         "24657168",
         "25159151",
         "7596441",
         "8327466",
         "9254608",
         "9315650",
         "9372954",
         "9467949",
         "9739174",
         "9744860"
        ],
        "source": "CDK9",
        "target": "TP53",
        "type": "controls-state-change-of"
       }
      }
     },
     "f03b1af5cc054f7fa7d75d9110d3ee9f": {
      "model_module": "jupyter-cytoscape",
      "model_module_version": "^1.2.2",
      "model_name": "EdgeModel",
      "state": {
       "_model_module_version": "^1.2.2",
       "_view_module_version": "^1.2.2",
       "data": {
        "cited": 0,
        "datasource": [
         "PANTHER"
        ],
        "id": "MAPK13-controls-state-change-of-TP63",
        "isdirected": true,
        "pubmed": [],
        "source": "MAPK13",
        "target": "TP63",
        "type": "controls-state-change-of"
       }
      }
     },
     "f1203635164848198b8e2a93de2594ee": {
      "model_module": "jupyter-cytoscape",
      "model_module_version": "^1.2.2",
      "model_name": "NodeModel",
      "state": {
       "_model_module_version": "^1.2.2",
       "_view_module_version": "^1.2.2",
       "data": {
        "id": "12",
        "name": "age: 27\nvirus: ncov\n",
        "parent": "parent-1"
       },
       "grabbable": true,
       "grabbed": false,
       "position": {
        "x": 653.5,
        "y": 170
       },
       "selectable": false
      }
     },
     "f30bbc81bb3246b688e83b5b1f6f69f9": {
      "model_module": "jupyter-cytoscape",
      "model_module_version": "^1.2.2",
      "model_name": "NodeModel",
      "state": {
       "_model_module_version": "^1.2.2",
       "_view_module_version": "^1.2.2",
       "data": {
        "altered": 0,
        "cited": 473,
        "id": "CASP1",
        "importance": 3,
        "isseed": false,
        "isvalid": true,
        "rank": 64,
        "uniprot": "P29466",
        "uniprotdesc": "Thiol protease that cleaves IL-1 beta between an Asp andan Ala, releasing the mature cytokine which is involved in avariety of inflammatory processes. Important for defense againstpathogens. Cleaves and activates sterol regulatory element bindingproteins (SREBPs). Can also promote apoptosis."
       },
       "grabbable": true,
       "grabbed": false,
       "position": {
        "x": 846.0858104115741,
        "y": -17.207855568545046
       }
      }
     },
     "f3358891c7cc4c3587a4106866af3e53": {
      "model_module": "jupyter-cytoscape",
      "model_module_version": "^1.2.2",
      "model_name": "NodeModel",
      "state": {
       "_model_module_version": "^1.2.2",
       "_view_module_version": "^1.2.2",
       "data": {
        "altered": 0,
        "cited": 4,
        "id": "PRKAB2",
        "importance": 3,
        "isseed": false,
        "isvalid": true,
        "rank": 189,
        "uniprot": "O43741",
        "uniprotdesc": "Non-catalytic subunit of AMP-activated protein kinase(AMPK), an energy sensor protein kinase that plays a key role inregulating cellular energy metabolism. In response to reduction ofintracellular ATP levels, AMPK activates energy-producing pathwaysand inhibits energy-consuming processes: inhibits protein,carbohydrate and lipid biosynthesis, as well as cell growth andproliferation. AMPK acts via direct phosphorylation of metabolicenzymes, and by longer-term effects via phosphorylation oftranscription regulators. Also acts as a regulator of cellularpolarity by remodeling the actin cytoskeleton; probably byindirectly activating myosin. Beta non-catalytic subunit acts as ascaffold on which the AMPK complex assembles, via its C-terminusthat bridges alpha (PRKAA1 or PRKAA2) and gamma subunits (PRKAG1,PRKAG2 or PRKAG3)."
       },
       "grabbable": true,
       "grabbed": false,
       "position": {
        "x": 773.6771551026915,
        "y": 132.79214743145494
       }
      }
     },
     "f3630b6bcf63477e960da5d1bae95d1a": {
      "model_module": "jupyter-cytoscape",
      "model_module_version": "^1.2.2",
      "model_name": "NodeModel",
      "state": {
       "_model_module_version": "^1.2.2",
       "_view_module_version": "^1.2.2",
       "data": {
        "id": "0",
        "name": "age: 28\nvirus: ncov\n",
        "parent": "parent-0"
       },
       "grabbable": true,
       "grabbed": false,
       "position": {
        "x": 531.5785369731286,
        "y": 10.507177924263432
       },
       "selectable": false
      }
     },
     "f3cf7975663c4a27ab3421552198f1bd": {
      "model_module": "jupyter-cytoscape",
      "model_module_version": "^1.2.2",
      "model_name": "EdgeModel",
      "state": {
       "_model_module_version": "^1.2.2",
       "_view_module_version": "^1.2.2",
       "data": {
        "cited": 28,
        "datasource": [
         "pid"
        ],
        "id": "TP53-controls-expression-of-TP53I3",
        "isdirected": true,
        "pubmed": [
         "11684014",
         "11919562",
         "17719542",
         "18485870"
        ],
        "source": "TP53",
        "target": "TP53I3",
        "type": "controls-expression-of"
       }
      }
     },
     "f478248dce0b4636aae2724d24574de3": {
      "model_module": "jupyter-cytoscape",
      "model_module_version": "^1.2.2",
      "model_name": "NodeModel",
      "state": {
       "_model_module_version": "^1.2.2",
       "_view_module_version": "^1.2.2",
       "data": {
        "altered": 0,
        "cited": 609,
        "id": "KAT2B",
        "importance": 3,
        "isseed": false,
        "isvalid": true,
        "rank": 55,
        "uniprot": null,
        "uniprotdesc": null
       },
       "grabbable": true,
       "grabbed": false,
       "position": {
        "x": 473.67714910269143,
        "y": 63.3963307795212
       }
      }
     },
     "f57c02f232794e18a56ed04f5e7b7e49": {
      "model_module": "jupyter-cytoscape",
      "model_module_version": "^1.2.2",
      "model_name": "EdgeModel",
      "state": {
       "_model_module_version": "^1.2.2",
       "_view_module_version": "^1.2.2",
       "data": {
        "cited": 10,
        "datasource": [
         "pid"
        ],
        "id": "TP53-controls-expression-of-GPX1",
        "isdirected": true,
        "pubmed": [
         "16140933"
        ],
        "source": "TP53",
        "target": "GPX1",
        "type": "controls-expression-of"
       }
      }
     },
     "f5abdd5485df4dca83d8f40b226880d9": {
      "model_module": "jupyter-cytoscape",
      "model_module_version": "^1.2.2",
      "model_name": "EdgeModel",
      "state": {
       "_model_module_version": "^1.2.2",
       "_view_module_version": "^1.2.2",
       "data": {
        "cited": 0,
        "datasource": [
         "pid"
        ],
        "id": "TP53-controls-expression-of-PPM1J",
        "isdirected": true,
        "pubmed": [
         "16260627"
        ],
        "source": "TP53",
        "target": "PPM1J",
        "type": "controls-expression-of"
       }
      }
     },
     "f5f7d0d40ced4ebb97b4dc99eac4836f": {
      "model_module": "jupyter-cytoscape",
      "model_module_version": "^1.2.2",
      "model_name": "EdgeModel",
      "state": {
       "_model_module_version": "^1.2.2",
       "_view_module_version": "^1.2.2",
       "data": {
        "cited": 0,
        "datasource": [
         "PANTHER"
        ],
        "id": "SIRT1-controls-state-change-of-TP73",
        "isdirected": true,
        "pubmed": [],
        "source": "SIRT1",
        "target": "TP73",
        "type": "controls-state-change-of"
       }
      }
     },
     "f62968d18fd947b9bd14aa193bc05ff2": {
      "model_module": "jupyter-cytoscape",
      "model_module_version": "^1.2.2",
      "model_name": "NodeModel",
      "state": {
       "_model_module_version": "^1.2.2",
       "_view_module_version": "^1.2.2",
       "data": {
        "altered": 0,
        "cited": 39,
        "id": "TP53I3",
        "importance": 3,
        "isseed": false,
        "isvalid": true,
        "rank": 152,
        "uniprot": "Q53FA7",
        "uniprotdesc": "May be involved in the generation of reactive oxygenspecies (ROS). Has low NADPH-dependent beta-naphthoquinonereductase activity, with a preference for 1,2-beta-naphthoquinoneover 1,4-beta-naphthoquinone. Has low NADPH-dependent diaminereductase activity (in vitro). "
       },
       "grabbable": true,
       "grabbed": false,
       "position": {
        "x": 746.085808411574,
        "y": -98.77623667285616
       }
      }
     },
     "f6a329bc42954fe0991a9c227067fd32": {
      "model_module": "jupyter-cytoscape",
      "model_module_version": "^1.2.2",
      "model_name": "EdgeModel",
      "state": {
       "_model_module_version": "^1.2.2",
       "_view_module_version": "^1.2.2",
       "data": {
        "cited": 21,
        "datasource": [
         "PANTHER"
        ],
        "id": "HMGB1-controls-state-change-of-TP53",
        "isdirected": true,
        "pubmed": [],
        "source": "HMGB1",
        "target": "TP53",
        "type": "controls-state-change-of"
       }
      }
     },
     "f75b13f8e008418f9e88c28a2e1ffcb4": {
      "model_module": "jupyter-cytoscape",
      "model_module_version": "^1.2.2",
      "model_name": "CytoscapeModel",
      "state": {
       "_interaction_handlers": {},
       "_model_module_version": "^1.2.2",
       "_view_module_version": "^1.2.2",
       "auto_ungrabify": false,
       "autolock": false,
       "cytoscape_layout": {
        "name": "cola"
       },
       "cytoscape_style": [
        {
         "css": {
          "background-color": "#11479e"
         },
         "selector": "node"
        },
        {
         "css": {
          "background-opacity": 0.333
         },
         "selector": "node:parent"
        },
        {
         "selector": "edge",
         "style": {
          "line-color": "#9dbaea",
          "width": 4
         }
        },
        {
         "selector": "edge.directed",
         "style": {
          "curve-style": "bezier",
          "target-arrow-color": "#9dbaea",
          "target-arrow-shape": "triangle"
         }
        },
        {
         "selector": "edge.multiple_edges",
         "style": {
          "curve-style": "bezier"
         }
        }
       ],
       "desktop_tap_threshold": 4,
       "graph": "IPY_MODEL_42f6ebeba5b34501865d1bf3f4277988",
       "headless": false,
       "hide_edges_on_viewport": false,
       "layout": "IPY_MODEL_128587565d614de887687eb30e9f319c",
       "max_zoom": 1e+50,
       "min_zoom": 1e-50,
       "motion_blur": false,
       "motion_blur_opacity": 0.2,
       "panning_enabled": true,
       "pixel_ratio": "auto",
       "rendered_position": {
        "renderedPosition": {
         "x": 100,
         "y": 100
        }
       },
       "selection_type": "single",
       "style_enabled": true,
       "texture_on_viewport": false,
       "tooltip_source": "tooltip",
       "touch_tap_threshold": 8,
       "user_panning_enabled": true,
       "user_zooming_enabled": true,
       "wheel_sensitivity": 1,
       "zoom": 2,
       "zooming_enabled": true
      }
     },
     "f786925959704863a70ff2b2ca177afc": {
      "model_module": "jupyter-cytoscape",
      "model_module_version": "^1.2.2",
      "model_name": "EdgeModel",
      "state": {
       "_model_module_version": "^1.2.2",
       "_view_module_version": "^1.2.2",
       "data": {
        "cited": 0,
        "datasource": [
         "PANTHER"
        ],
        "id": "MAPK13-controls-state-change-of-TP73",
        "isdirected": true,
        "pubmed": [],
        "source": "MAPK13",
        "target": "TP73",
        "type": "controls-state-change-of"
       }
      }
     },
     "f7ac693971b24e33a95922d58f9c9f60": {
      "model_module": "jupyter-cytoscape",
      "model_module_version": "^1.2.2",
      "model_name": "NodeModel",
      "state": {
       "_model_module_version": "^1.2.2",
       "_view_module_version": "^1.2.2",
       "data": {
        "altered": 0,
        "cited": 363,
        "id": "PRKDC",
        "importance": 3,
        "isseed": false,
        "isvalid": true,
        "rank": 74,
        "uniprot": "P78527",
        "uniprotdesc": "Serine/threonine-protein kinase that acts as a molecularsensor for DNA damage. Involved in DNA non-homologous end joining(NHEJ) required for double-strand break (DSB) repair and V(D)Jrecombination. Must be bound to DNA to express its catalyticproperties. Promotes processing of hairpin DNA structures in V(D)Jrecombination by activation of the hairpin endonuclease artemis(DCLRE1C). The assembly of the DNA-PK complex at DNA ends is alsorequired for the NHEJ ligation step. Required to protect and alignbroken ends of DNA. May also act as a scaffold protein to aid thelocalization of DNA repair proteins to the site of damage. Foundat the ends of chromosomes, suggesting a further role in themaintenance of telomeric stability and the prevention ofchromosomal end fusion. Also involved in modulation oftranscription. Recognizes the substrate consensus sequence [ST]-Q.Phosphorylates 'Ser-139' of histone variant H2AX/H2AFX, therebyregulating DNA damage response mechanism. Phosphorylates DCLRE1C,c-Abl/ABL1, histone H1, HSPCA, c-jun/JUN, p53/TP53, PARP1, POU2F1,DHX9, SRF, XRCC1, XRCC1, XRCC4, XRCC5, XRCC6, WRN, MYC and RFA2.Can phosphorylate C1D not only in the presence of linear DNA butalso in the presence of supercoiled DNA. Ability to phosphorylatep53/TP53 in the presence of supercoiled DNA is dependent on C1D.Contributes to the determination of the circadian period length byantagonizing phosphorylation of CRY1 'Ser-588' and increasing CRY1protein stability, most likely through an indirect machanism.Interacts with CRY1 and CRY2; negatively regulates CRY1phosphorylation. "
       },
       "grabbable": true,
       "grabbed": false,
       "position": {
        "x": 416.33962277718064,
        "y": 363.39633677952116
       }
      }
     },
     "f7af7129ae624c81b85b54aa3417a514": {
      "model_module": "jupyter-cytoscape",
      "model_module_version": "^1.2.2",
      "model_name": "EdgeModel",
      "state": {
       "_model_module_version": "^1.2.2",
       "_view_module_version": "^1.2.2",
       "data": {
        "cited": 0,
        "datasource": [
         "pid"
        ],
        "id": "TP53-controls-expression-of-RNF144B",
        "isdirected": true,
        "pubmed": [
         "12853982"
        ],
        "source": "TP53",
        "target": "RNF144B",
        "type": "controls-expression-of"
       }
      }
     },
     "f7dc208a87e14296940df0be722d80ce": {
      "model_module": "jupyter-cytoscape",
      "model_module_version": "^1.2.2",
      "model_name": "EdgeModel",
      "state": {
       "_model_module_version": "^1.2.2",
       "_view_module_version": "^1.2.2",
       "data": {
        "cited": 35,
        "datasource": [
         "pid"
        ],
        "id": "TP53-controls-expression-of-SERPINE1",
        "isdirected": true,
        "pubmed": [
         "7479001"
        ],
        "source": "TP53",
        "target": "SERPINE1",
        "type": "controls-expression-of"
       }
      }
     },
     "f856caab329d4bbd8bbb797954c78d3f": {
      "model_module": "jupyter-cytoscape",
      "model_module_version": "^1.2.2",
      "model_name": "EdgeModel",
      "state": {
       "_model_module_version": "^1.2.2",
       "_view_module_version": "^1.2.2",
       "data": {
        "cited": 0,
        "datasource": [
         "PANTHER"
        ],
        "id": "CHEK2-controls-state-change-of-TP63",
        "isdirected": true,
        "pubmed": [],
        "source": "CHEK2",
        "target": "TP63",
        "type": "controls-state-change-of"
       }
      }
     },
     "f869b89ccb7548acaa27bf2fbb4a213c": {
      "model_module": "jupyter-cytoscape",
      "model_module_version": "^1.2.2",
      "model_name": "NodeModel",
      "state": {
       "_model_module_version": "^1.2.2",
       "_view_module_version": "^1.2.2",
       "data": {
        "altered": 0,
        "cited": 130,
        "id": "PLK3",
        "importance": 3,
        "isseed": false,
        "isvalid": true,
        "rank": 115,
        "uniprot": "Q9H4B4",
        "uniprotdesc": "Serine/threonine-protein kinase involved in cell cycleregulation, response to stress and Golgi disassembly. Polo-likekinases act by binding and phosphorylating proteins are thatalready phosphorylated on a specific motif recognized by the POLObox domains. Phosphorylates ATF2, BCL2L1, CDC25A, CDC25C, CHEK2,HIF1A, JUN, p53/TP53, p73/TP73, PTEN, TOP2A and VRK1. Involved incell cycle regulation: required for entry into S phase andcytokinesis. Phosphorylates BCL2L1, leading to regulate the G2checkpoint and progression to cytokinesis during mitosis. Plays akey role in response to stress: rapidly activated upon stressstimulation, such as ionizing radiation, reactive oxygen species(ROS), hyperosmotic stress, UV irradiation and hypoxia. Involvedin DNA damage response and G1/S transition checkpoint byphosphorylating CDC25A, p53/TP53 and p73/TP73. Phosphorylatesp53/TP53 in response to reactive oxygen species (ROS), therebypromoting p53/TP53-mediated apoptosis. Phosphorylates CHEK2 inresponse to DNA damage, promoting the G2/M transition checkpoint.Phosphorylates the transcription factor p73/TP73 in response toDNA damage, leading to inhibit p73/TP73-mediated transcriptionalactivation and pro-apoptotic functions. Phosphorylates HIF1A andJUN is response to hypoxia. Phosphorylates ATF2 followinghyperosmotic stress in corneal epithelium. Also involved in Golgidisassembly during the cell cycle: part of a MEK1/MAP2K1-dependentpathway that induces Golgi fragmentation during mitosis bymediating phosphorylation of VRK1. May participate in endomitoticcell cycle, a form of mitosis in which both karyokinesis andcytokinesis are interrupted and is a hallmark of megakaryocytedifferentiation, via its interaction with CIB1."
       },
       "grabbable": true,
       "grabbed": false,
       "position": {
        "x": 557.0596724394644,
        "y": 192.14655680922385
       }
      }
     },
     "f88b38f88d394ba49927f7b571be7ca3": {
      "model_module": "jupyter-cytoscape",
      "model_module_version": "^1.2.2",
      "model_name": "NodeModel",
      "state": {
       "_model_module_version": "^1.2.2",
       "_view_module_version": "^1.2.2",
       "data": {
        "altered": 0,
        "cited": 32,
        "id": "SETD7",
        "importance": 3,
        "isseed": false,
        "isvalid": true,
        "rank": 156,
        "uniprot": "Q8WTS6",
        "uniprotdesc": "Histone methyltransferase that specificallymonomethylates 'Lys-4' of histone H3. H3 'Lys-4' methylationrepresents a specific tag for epigenetic transcriptionalactivation. Plays a central role in the transcriptional activationof genes such as collagenase or insulin. Recruited by IPF1/PDX-1to the insulin promoter, leading to activate transcription. Hasalso methyltransferase activity toward non-histone proteins suchas p53/TP53, TAF10, and possibly TAF7 by recognizing and bindingthe [KR]-[STA]-K in substrate proteins. Monomethylates 'Lys-189'of TAF10, leading to increase the affinity of TAF10 for RNApolymerase II. Monomethylates 'Lys-372' of p53/TP53, stabilizingp53/TP53 and increasing p53/TP53-mediated transcriptionalactivation. "
       },
       "grabbable": true,
       "grabbed": false,
       "position": {
        "x": 409.52364494454406,
        "y": -51.9144137631641
       }
      }
     },
     "f94e6baf225943039695b0575f82ab8d": {
      "model_module": "jupyter-cytoscape",
      "model_module_version": "^1.2.2",
      "model_name": "NodeModel",
      "state": {
       "_model_module_version": "^1.2.2",
       "_view_module_version": "^1.2.2",
       "data": {
        "altered": 0,
        "cited": 232,
        "id": "GDF15",
        "importance": 3,
        "isseed": false,
        "isvalid": true,
        "rank": 91,
        "uniprot": "Q99988",
        "uniprotdesc": ""
       },
       "grabbable": true,
       "grabbed": false,
       "position": {
        "x": 364.5108104880321,
        "y": 65.68245842882506
       }
      }
     },
     "f9789a4f971f4b44baf2498fcc593d4d": {
      "model_module": "jupyter-cytoscape",
      "model_module_version": "^1.2.2",
      "model_name": "EdgeModel",
      "state": {
       "_model_module_version": "^1.2.2",
       "_view_module_version": "^1.2.2",
       "data": {
        "cited": 5,
        "datasource": [
         "Reactome"
        ],
        "id": "TP53-controls-state-change-of-HMGA1",
        "isdirected": true,
        "pubmed": [
         "15621527",
         "15655109",
         "16901784",
         "17158953",
         "17242198",
         "17242207",
         "23964094"
        ],
        "source": "TP53",
        "target": "HMGA1",
        "type": "controls-state-change-of"
       }
      }
     },
     "f98ef9970faa4c3ea6d166b84733ee29": {
      "model_module": "jupyter-cytoscape",
      "model_module_version": "^1.2.2",
      "model_name": "EdgeModel",
      "state": {
       "_model_module_version": "^1.2.2",
       "_view_module_version": "^1.2.2",
       "data": {
        "cited": 12,
        "datasource": [
         "pid"
        ],
        "id": "E4F1-controls-state-change-of-TP53",
        "isdirected": true,
        "pubmed": [
         "17110336",
         "9288740"
        ],
        "source": "E4F1",
        "target": "TP53",
        "type": "controls-state-change-of"
       }
      }
     },
     "faaad0a72623473cbb9d795f9129a93f": {
      "model_module": "jupyter-cytoscape",
      "model_module_version": "^1.2.2",
      "model_name": "EdgeModel",
      "state": {
       "_model_module_version": "^1.2.2",
       "_view_module_version": "^1.2.2",
       "data": {
        "cited": 0,
        "datasource": [
         "PANTHER"
        ],
        "id": "PRKAA1-controls-state-change-of-TP73",
        "isdirected": true,
        "pubmed": [],
        "source": "PRKAA1",
        "target": "TP73",
        "type": "controls-state-change-of"
       }
      }
     },
     "faadfc6bdeab4b5bb4f5cab6f51ad1a5": {
      "model_module": "jupyter-cytoscape",
      "model_module_version": "^1.2.2",
      "model_name": "EdgeModel",
      "state": {
       "_model_module_version": "^1.2.2",
       "_view_module_version": "^1.2.2",
       "data": {
        "cited": 0,
        "datasource": [
         "PANTHER"
        ],
        "id": "HMGB1-controls-state-change-of-TP63",
        "isdirected": true,
        "pubmed": [],
        "source": "HMGB1",
        "target": "TP63",
        "type": "controls-state-change-of"
       }
      }
     },
     "fbff100e542d4b85b8df3ab66e78165a": {
      "model_module": "jupyter-cytoscape",
      "model_module_version": "^1.2.2",
      "model_name": "GraphModel",
      "state": {
       "_adj": {},
       "_model_module_version": "^1.2.2",
       "_view_module": "jupyter-cytoscape",
       "_view_module_version": "^1.2.2"
      }
     },
     "fc49a09fe01a4d09ae55811cfbd8f044": {
      "model_module": "jupyter-cytoscape",
      "model_module_version": "^1.2.2",
      "model_name": "EdgeModel",
      "state": {
       "_model_module_version": "^1.2.2",
       "_view_module_version": "^1.2.2",
       "data": {
        "cited": 50,
        "datasource": [
         "PANTHER"
        ],
        "id": "SIRT1-controls-state-change-of-TP53",
        "isdirected": true,
        "pubmed": [],
        "source": "SIRT1",
        "target": "TP53",
        "type": "controls-state-change-of"
       }
      }
     },
     "fc9872df742648ed8d239c7bac92d951": {
      "model_module": "jupyter-cytoscape",
      "model_module_version": "^1.2.2",
      "model_name": "NodeModel",
      "state": {
       "_model_module_version": "^1.2.2",
       "_view_module_version": "^1.2.2",
       "data": {
        "cited": 0,
        "datasource": [
         "Reactome"
        ],
        "id": "TP53-controls-state-change-of-H1F0",
        "isdirected": true,
        "pubmed": [
         "15621527",
         "15655109",
         "16901784",
         "17158953",
         "17242198",
         "17242207",
         "23964094"
        ],
        "source": "TP53",
        "target": "H1F0",
        "type": "controls-state-change-of"
       },
       "grabbable": true,
       "grabbed": false,
       "position": {
        "x": 616.7355739581388,
        "y": 492.84026719321673
       },
       "selectable": false
      }
     },
     "fd0b115f5bcd405a8b1ce36ec78a8d87": {
      "model_module": "jupyter-cytoscape",
      "model_module_version": "^1.2.2",
      "model_name": "NodeModel",
      "state": {
       "_model_module_version": "^1.2.2",
       "_view_module_version": "^1.2.2",
       "data": {
        "altered": 0,
        "cited": 124,
        "id": "TP73",
        "importance": 3,
        "isseed": false,
        "isvalid": true,
        "rank": 116,
        "uniprot": "O15350",
        "uniprotdesc": "Participates in the apoptotic response to DNA damage.Isoforms containing the transactivation domain are pro-apoptotic,isoforms lacking the domain are anti-apoptotic and block thefunction of p53 and transactivating p73 isoforms. May be a tumorsuppressor protein. "
       },
       "grabbable": true,
       "grabbed": false,
       "position": {
        "x": 720.6279645351584,
        "y": 144.73427892193897
       }
      }
     },
     "fd29d7ed743144249ce6b0be9ef3adab": {
      "model_module": "jupyter-cytoscape",
      "model_module_version": "^1.2.2",
      "model_name": "NodeModel",
      "state": {
       "_model_module_version": "^1.2.2",
       "_view_module_version": "^1.2.2",
       "data": {
        "altered": 0,
        "cited": 2696,
        "id": "MSH2",
        "importance": 3,
        "isseed": false,
        "isvalid": true,
        "rank": 21,
        "uniprot": "P43246",
        "uniprotdesc": "Component of the post-replicative DNA mismatch repairsystem (MMR). Forms two different heterodimers: MutS alpha (MSH2-MSH6 heterodimer) and MutS beta (MSH2-MSH3 heterodimer) whichbinds to DNA mismatches thereby initiating DNA repair. When bound,heterodimers bend the DNA helix and shields approximately 20 basepairs. MutS alpha recognizes single base mismatches anddinucleotide insertion-deletion loops (IDL) in the DNA. MutS betarecognizes larger insertion-deletion loops up to 13 nucleotideslong. After mismatch binding, MutS alpha or beta forms a ternarycomplex with the MutL alpha heterodimer, which is thought to beresponsible for directing the downstream MMR events, includingstrand discrimination, excision, and resynthesis. ATP binding andhydrolysis play a pivotal role in mismatch repair functions. TheATPase activity associated with MutS alpha regulates bindingsimilar to a molecular switch: mismatched DNA provokes ADP-->ATPexchange, resulting in a discernible conformational transitionthat converts MutS alpha into a sliding clamp capable ofhydrolysis-independent diffusion along the DNA backbone. Thistransition is crucial for mismatch repair. MutS alpha may alsoplay a role in DNA homologous recombination repair. In melanocytesmay modulate both UV-B-induced cell cycle regulation andapoptosis. "
       },
       "grabbable": true,
       "grabbed": false,
       "position": {
        "x": 473.67714910269143,
        "y": 13.396329779521196
       }
      }
     },
     "fe4346ab9de84f8daf0f6e8e27cd413b": {
      "model_module": "jupyter-cytoscape",
      "model_module_version": "^1.2.2",
      "model_name": "EdgeModel",
      "state": {
       "_model_module_version": "^1.2.2",
       "_view_module_version": "^1.2.2",
       "data": {
        "cited": 0,
        "datasource": [
         "PANTHER"
        ],
        "id": "PPP2CB-controls-state-change-of-TP53",
        "isdirected": true,
        "pubmed": [],
        "source": "PPP2CB",
        "target": "TP53",
        "type": "controls-state-change-of"
       }
      }
     },
     "fe4437a566814c1987b096e89553f196": {
      "model_module": "jupyter-cytoscape",
      "model_module_version": "^1.2.2",
      "model_name": "GraphModel",
      "state": {
       "_adj": {},
       "_model_module_version": "^1.2.2",
       "_view_module": "jupyter-cytoscape",
       "_view_module_version": "^1.2.2"
      }
     },
     "ff49de57288f4faba39d4aed11a55679": {
      "model_module": "jupyter-cytoscape",
      "model_module_version": "^1.2.2",
      "model_name": "EdgeModel",
      "state": {
       "_model_module_version": "^1.2.2",
       "_view_module_version": "^1.2.2",
       "data": {
        "id": "2480dd23-3913-4b92-a1d2-6d3af9dc28f9",
        "source": "0",
        "target": "3"
       },
       "selectable": false
      }
     }
    },
    "version_major": 2,
    "version_minor": 0
   }
  }
 },
 "nbformat": 4,
 "nbformat_minor": 5
}
