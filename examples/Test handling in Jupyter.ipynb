{
 "cells": [
  {
   "cell_type": "code",
   "execution_count": 1,
   "metadata": {},
   "outputs": [
    {
     "data": {
      "application/vnd.jupyter.widget-view+json": {
       "model_id": "4beb10c66d504a42b82804a36c9121ee",
       "version_major": 2,
       "version_minor": 0
      },
      "text/plain": [
       "CytoscapeWidget(cytoscape_layout={'name': 'cola'}, cytoscape_style=[{'selector': 'node', 'css': {'background-c…"
      ]
     },
     "metadata": {},
     "output_type": "display_data"
    }
   ],
   "source": [
    "import ipycytoscape\n",
    "import networkx as nx\n",
    "import matplotlib.pyplot as plt\n",
    "\n",
    "cytoscapeobj = ipycytoscape.CytoscapeWidget()\n",
    "cytoscapeobj"
   ]
  },
  {
   "cell_type": "code",
   "execution_count": 2,
   "metadata": {},
   "outputs": [],
   "source": [
    "#Testing sync between python and js\n",
    "\n",
    "cytoscapeobj.add_node(2, \"potato\")\n",
    "cytoscapeobj.add_node(1, \"potato\")\n",
    "cytoscapeobj.add_node(4, \"potato\")\n",
    "cytoscapeobj.add_node(6, \"potato\")\n",
    "cytoscapeobj.add_node(8, \"potato\")\n",
    "cytoscapeobj.add_node(10, \"potato\")\n",
    "cytoscapeobj.add_node(12, \"potato\")\n",
    "cytoscapeobj.add_node(14, \"potato\")\n",
    "cytoscapeobj.add_edge(2, 1)\n",
    "cytoscapeobj.add_edge(2, 4)\n",
    "cytoscapeobj.add_edge(2, 6)\n",
    "cytoscapeobj.add_edge(2, 8)\n",
    "cytoscapeobj.add_edge(2, 10)\n",
    "cytoscapeobj.add_edge(2, 12)"
   ]
  },
  {
   "cell_type": "code",
   "execution_count": 22,
   "metadata": {},
   "outputs": [
    {
     "data": {
      "text/plain": [
       "{'nodes': [{'data': {'id': 2, 'label': 'potato'}},\n",
       "  {'data': {'id': 1, 'label': 'potato'}},\n",
       "  {'data': {'id': 4, 'label': 'potato'}},\n",
       "  {'data': {'id': 6, 'label': 'potato'}},\n",
       "  {'data': {'id': 8, 'label': 'potato'}},\n",
       "  {'data': {'id': 10, 'label': 'potato'}},\n",
       "  {'data': {'id': 12, 'label': 'potato'}},\n",
       "  {'data': {'id': 14, 'label': 'potato'}}],\n",
       " 'edges': [{'data': {'source': 2, 'target': 1}},\n",
       "  {'data': {'source': 2, 'target': 4}},\n",
       "  {'data': {'source': 2, 'target': 6}},\n",
       "  {'data': {'source': 2, 'target': 8}},\n",
       "  {'data': {'source': 2, 'target': 10}},\n",
       "  {'data': {'source': 2, 'target': 12}}]}"
      ]
     },
     "execution_count": 22,
     "metadata": {},
     "output_type": "execute_result"
    }
   ],
   "source": [
    "cytoscapeobj.elements"
   ]
  },
  {
   "cell_type": "code",
   "execution_count": 3,
   "metadata": {},
   "outputs": [],
   "source": [
    "# Testing zoom method\n",
    "cytoscapeobj.zoom = 1"
   ]
  },
  {
   "cell_type": "code",
   "execution_count": 17,
   "metadata": {},
   "outputs": [],
   "source": [
    "cytoscapeobj.rendered_position = {'x': 1000, 'y': 10}"
   ]
  },
  {
   "cell_type": "code",
   "execution_count": 18,
   "metadata": {},
   "outputs": [
    {
     "data": {
      "text/plain": [
       "{'x': 1000, 'y': 10}"
      ]
     },
     "execution_count": 18,
     "metadata": {},
     "output_type": "execute_result"
    }
   ],
   "source": [
    "cytoscapeobj.rendered_position"
   ]
  },
  {
   "cell_type": "code",
   "execution_count": 19,
   "metadata": {},
   "outputs": [
    {
     "data": {
      "text/plain": [
       "1.0"
      ]
     },
     "execution_count": 19,
     "metadata": {},
     "output_type": "execute_result"
    }
   ],
   "source": [
    "cytoscapeobj.zoom"
   ]
  },
  {
   "cell_type": "code",
   "execution_count": 20,
   "metadata": {},
   "outputs": [
    {
     "data": {
      "application/vnd.jupyter.widget-view+json": {
       "model_id": "f80b055312c3452ca0e74510ff35131b",
       "version_major": 2,
       "version_minor": 0
      },
      "text/plain": [
       "CytoscapeWidget(cytoscape_layout={'name': 'cola'}, cytoscape_style=[{'selector': 'node', 'css': {'background-c…"
      ]
     },
     "metadata": {},
     "output_type": "display_data"
    }
   ],
   "source": [
    "cytoscapeobj"
   ]
  }
 ],
 "metadata": {
  "kernelspec": {
   "display_name": "Python 3",
   "language": "python",
   "name": "python3"
  },
  "language_info": {
   "codemirror_mode": {
    "name": "ipython",
    "version": 3
   },
   "file_extension": ".py",
   "mimetype": "text/x-python",
   "name": "python",
   "nbconvert_exporter": "python",
   "pygments_lexer": "ipython3",
   "version": "3.8.1"
  }
 },
 "nbformat": 4,
 "nbformat_minor": 4
}
