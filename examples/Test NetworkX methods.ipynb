{
 "cells": [
  {
   "cell_type": "markdown",
   "metadata": {},
   "source": [
    "# Test NetworkX methods"
   ]
  },
  {
   "cell_type": "code",
   "execution_count": 13,
   "metadata": {},
   "outputs": [],
   "source": [
    "import ipycytoscape\n",
    "import ipywidgets as widgets\n",
    "import networkx as nx"
   ]
  },
  {
   "cell_type": "code",
   "execution_count": 14,
   "metadata": {},
   "outputs": [
    {
     "data": {
      "text/plain": [
       "ipycytoscape.ipycytoscape.CytoscapeWidget"
      ]
     },
     "execution_count": 14,
     "metadata": {},
     "output_type": "execute_result"
    }
   ],
   "source": [
    "cytoscapeobj = ipycytoscape.CytoscapeWidget()\n",
    "type(cytoscapeobj)"
   ]
  },
  {
   "cell_type": "code",
   "execution_count": 15,
   "metadata": {},
   "outputs": [
    {
     "data": {
      "application/vnd.jupyter.widget-view+json": {
       "model_id": "7642407f181e466d8f047073bc647a58",
       "version_major": 2,
       "version_minor": 0
      },
      "text/plain": [
       "HBox(children=(Button(description='nx graph', style=ButtonStyle()), CytoscapeWidget(cytoscape_layout={'name': …"
      ]
     },
     "metadata": {},
     "output_type": "display_data"
    }
   ],
   "source": [
    "button = widgets.Button(description=\"nx graph\")\n",
    "output = widgets.Output()\n",
    "\n",
    "def on_button_clicked(b):\n",
    "    with output:\n",
    "        cytoscapeobj.complete_graph(nx.complete_graph(5))\n",
    "\n",
    "button.on_click(on_button_clicked)\n",
    "widgets.HBox([button, cytoscapeobj])\n"
   ]
  },
  {
   "cell_type": "code",
   "execution_count": 16,
   "metadata": {},
   "outputs": [
    {
     "data": {
      "text/plain": [
       "{'nodes': [{'data': {'id': 0, 'label': ''}},\n",
       "  {'data': {'id': 1, 'label': ''}},\n",
       "  {'data': {'id': 2, 'label': ''}},\n",
       "  {'data': {'id': 3, 'label': ''}},\n",
       "  {'data': {'id': 4, 'label': ''}}],\n",
       " 'edges': [{'data': {'source': 0, 'target': 1}},\n",
       "  {'data': {'source': 0, 'target': 2}},\n",
       "  {'data': {'source': 0, 'target': 3}},\n",
       "  {'data': {'source': 0, 'target': 4}},\n",
       "  {'data': {'source': 1, 'target': 2}},\n",
       "  {'data': {'source': 1, 'target': 3}},\n",
       "  {'data': {'source': 1, 'target': 4}},\n",
       "  {'data': {'source': 2, 'target': 3}},\n",
       "  {'data': {'source': 2, 'target': 4}},\n",
       "  {'data': {'source': 3, 'target': 4}}]}"
      ]
     },
     "execution_count": 16,
     "metadata": {},
     "output_type": "execute_result"
    }
   ],
   "source": [
    "cytoscapeobj.elements"
   ]
  },
  {
   "cell_type": "code",
   "execution_count": 17,
   "metadata": {},
   "outputs": [
    {
     "data": {
      "text/plain": [
       "[1, 5]"
      ]
     },
     "execution_count": 17,
     "metadata": {},
     "output_type": "execute_result"
    }
   ],
   "source": [
    "# Manipulate a graph using NetworkX\n",
    "\n",
    "nx_graph = nx.complete_graph(7)\n",
    "\n",
    "nx.shortest_path(nx_graph, 1, 5)"
   ]
  },
  {
   "cell_type": "code",
   "execution_count": 18,
   "metadata": {},
   "outputs": [
    {
     "name": "stderr",
     "output_type": "stream",
     "text": [
      "DEBUG:root:0\n",
      "DEBUG:root:1\n",
      "DEBUG:root:2\n",
      "DEBUG:root:3\n",
      "DEBUG:root:4\n",
      "DEBUG:root:5\n",
      "DEBUG:root:6\n"
     ]
    }
   ],
   "source": [
    "cytoscapeobj.complete_graph(nx_graph)"
   ]
  },
  {
   "cell_type": "code",
   "execution_count": 19,
   "metadata": {},
   "outputs": [],
   "source": [
    "# Manipulate the same graph using cytoscape\n",
    "cytoscapeobj.set_layout(name='grid')"
   ]
  }
 ],
 "metadata": {
  "kernelspec": {
   "display_name": "Python 3",
   "language": "python",
   "name": "python3"
  },
  "language_info": {
   "codemirror_mode": {
    "name": "ipython",
    "version": 3
   },
   "file_extension": ".py",
   "mimetype": "text/x-python",
   "name": "python",
   "nbconvert_exporter": "python",
   "pygments_lexer": "ipython3",
   "version": "3.8.1"
  }
 },
 "nbformat": 4,
 "nbformat_minor": 2
}
