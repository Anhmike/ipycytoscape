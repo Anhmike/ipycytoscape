{
 "cells": [
  {
   "cell_type": "markdown",
   "metadata": {},
   "source": [
    "# Test NetworkX methods"
   ]
  },
  {
   "cell_type": "code",
   "execution_count": 1,
   "metadata": {},
   "outputs": [],
   "source": [
    "import ipycytoscape\n",
    "import ipywidgets as widgets\n",
    "import networkx as nx"
   ]
  },
  {
   "cell_type": "code",
   "execution_count": 2,
   "metadata": {},
   "outputs": [
    {
     "data": {
      "text/plain": [
       "ipycytoscape.ipycytoscape.CytoscapeWidget"
      ]
     },
     "execution_count": 2,
     "metadata": {},
     "output_type": "execute_result"
    }
   ],
   "source": [
    "cytoscapeobj = ipycytoscape.CytoscapeWidget()\n",
    "type(cytoscapeobj)"
   ]
  },
  {
   "cell_type": "code",
   "execution_count": 3,
   "metadata": {},
   "outputs": [
    {
     "data": {
      "application/vnd.jupyter.widget-view+json": {
       "model_id": "169c9a15478c48d086cd22f9e9858bfe",
       "version_major": 2,
       "version_minor": 0
      },
      "text/plain": [
       "HBox(children=(Button(description='Random graph', style=ButtonStyle()), CytoscapeWidget(cytoscape_layout={'nam…"
      ]
     },
     "metadata": {},
     "output_type": "display_data"
    }
   ],
   "source": [
    "from IPython.display import display\n",
    "button = widgets.Button(description=\"Random graph\")\n",
    "output = widgets.Output()\n",
    "\n",
    "def on_button_clicked(b):\n",
    "    with output:\n",
    "        cytoscapeobj.complete_graph(nx.complete_graph(5))\n",
    "\n",
    "button.on_click(on_button_clicked)\n",
    "widgets.HBox([button, cytoscapeobj])\n"
   ]
  },
  {
   "cell_type": "code",
   "execution_count": 4,
   "metadata": {},
   "outputs": [
    {
     "data": {
      "text/plain": [
       "{'nodes': [{'data': {'id': 0, 'label': ''}},\n",
       "  {'data': {'id': 1, 'label': ''}},\n",
       "  {'data': {'id': 2, 'label': ''}},\n",
       "  {'data': {'id': 3, 'label': ''}},\n",
       "  {'data': {'id': 4, 'label': ''}}],\n",
       " 'edges': [{'data': {'source': 0, 'target': 1}},\n",
       "  {'data': {'source': 0, 'target': 2}},\n",
       "  {'data': {'source': 0, 'target': 3}},\n",
       "  {'data': {'source': 0, 'target': 4}},\n",
       "  {'data': {'source': 1, 'target': 2}},\n",
       "  {'data': {'source': 1, 'target': 3}},\n",
       "  {'data': {'source': 1, 'target': 4}},\n",
       "  {'data': {'source': 2, 'target': 3}},\n",
       "  {'data': {'source': 2, 'target': 4}},\n",
       "  {'data': {'source': 3, 'target': 4}}]}"
      ]
     },
     "execution_count": 4,
     "metadata": {},
     "output_type": "execute_result"
    }
   ],
   "source": [
    "cytoscapeobj.elements"
   ]
  }
 ],
 "metadata": {
  "kernelspec": {
   "display_name": "Python 3",
   "language": "python",
   "name": "python3"
  },
  "language_info": {
   "codemirror_mode": {
    "name": "ipython",
    "version": 3
   },
   "file_extension": ".py",
   "mimetype": "text/x-python",
   "name": "python",
   "nbconvert_exporter": "python",
   "pygments_lexer": "ipython3",
   "version": "3.8.1"
  }
 },
 "nbformat": 4,
 "nbformat_minor": 2
}
