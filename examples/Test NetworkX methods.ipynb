{
 "cells": [
  {
   "cell_type": "markdown",
   "metadata": {},
   "source": [
    "# Test NetworkX methods"
   ]
  },
  {
   "cell_type": "code",
   "execution_count": 1,
   "metadata": {},
   "outputs": [],
   "source": [
    "import ipycytoscape\n",
    "import networkx as nx\n",
    "# import matplotlib.pyplot as plt"
   ]
  },
  {
   "cell_type": "code",
   "execution_count": 2,
   "metadata": {},
   "outputs": [],
   "source": [
    "cytoscapeobj = ipycytoscape.CytoscapeWidget()"
   ]
  },
  {
   "cell_type": "code",
   "execution_count": 3,
   "metadata": {},
   "outputs": [
    {
     "name": "stderr",
     "output_type": "stream",
     "text": [
      "DEBUG:root:0\n",
      "DEBUG:root:1\n",
      "DEBUG:root:0\n",
      "DEBUG:root:2\n",
      "DEBUG:root:0\n",
      "DEBUG:root:3\n",
      "DEBUG:root:0\n",
      "DEBUG:root:4\n",
      "DEBUG:root:0\n",
      "DEBUG:root:5\n",
      "DEBUG:root:0\n",
      "DEBUG:root:6\n",
      "DEBUG:root:0\n",
      "DEBUG:root:7\n",
      "DEBUG:root:0\n",
      "DEBUG:root:8\n",
      "DEBUG:root:0\n",
      "DEBUG:root:9\n",
      "DEBUG:root:1\n",
      "DEBUG:root:2\n",
      "DEBUG:root:1\n",
      "DEBUG:root:3\n",
      "DEBUG:root:1\n",
      "DEBUG:root:4\n",
      "DEBUG:root:1\n",
      "DEBUG:root:5\n",
      "DEBUG:root:1\n",
      "DEBUG:root:6\n",
      "DEBUG:root:1\n",
      "DEBUG:root:7\n",
      "DEBUG:root:1\n",
      "DEBUG:root:8\n",
      "DEBUG:root:1\n",
      "DEBUG:root:9\n",
      "DEBUG:root:2\n",
      "DEBUG:root:3\n",
      "DEBUG:root:2\n",
      "DEBUG:root:4\n",
      "DEBUG:root:2\n",
      "DEBUG:root:5\n",
      "DEBUG:root:2\n",
      "DEBUG:root:6\n",
      "DEBUG:root:2\n",
      "DEBUG:root:7\n",
      "DEBUG:root:2\n",
      "DEBUG:root:8\n",
      "DEBUG:root:2\n",
      "DEBUG:root:9\n",
      "DEBUG:root:3\n",
      "DEBUG:root:4\n",
      "DEBUG:root:3\n",
      "DEBUG:root:5\n",
      "DEBUG:root:3\n",
      "DEBUG:root:6\n",
      "DEBUG:root:3\n",
      "DEBUG:root:7\n",
      "DEBUG:root:3\n",
      "DEBUG:root:8\n",
      "DEBUG:root:3\n",
      "DEBUG:root:9\n",
      "DEBUG:root:4\n",
      "DEBUG:root:5\n",
      "DEBUG:root:4\n",
      "DEBUG:root:6\n",
      "DEBUG:root:4\n",
      "DEBUG:root:7\n",
      "DEBUG:root:4\n",
      "DEBUG:root:8\n",
      "DEBUG:root:4\n",
      "DEBUG:root:9\n",
      "DEBUG:root:5\n",
      "DEBUG:root:6\n",
      "DEBUG:root:5\n",
      "DEBUG:root:7\n",
      "DEBUG:root:5\n",
      "DEBUG:root:8\n",
      "DEBUG:root:5\n",
      "DEBUG:root:9\n",
      "DEBUG:root:6\n",
      "DEBUG:root:7\n",
      "DEBUG:root:6\n",
      "DEBUG:root:8\n",
      "DEBUG:root:6\n",
      "DEBUG:root:9\n",
      "DEBUG:root:7\n",
      "DEBUG:root:8\n",
      "DEBUG:root:7\n",
      "DEBUG:root:9\n",
      "DEBUG:root:8\n",
      "DEBUG:root:9\n"
     ]
    }
   ],
   "source": [
    "cytoscapeobj.complete_graph(10)"
   ]
  },
  {
   "cell_type": "code",
   "execution_count": 4,
   "metadata": {},
   "outputs": [
    {
     "data": {
      "application/vnd.jupyter.widget-view+json": {
       "model_id": "3a7573fce0f842f6abc6cbc5a1a29bb3",
       "version_major": 2,
       "version_minor": 0
      },
      "text/plain": [
       "CytoscapeWidget(cytoscape_layout={'name': 'cola'}, cytoscape_style=[{'selector': 'node', 'css': {'background-c…"
      ]
     },
     "metadata": {},
     "output_type": "display_data"
    }
   ],
   "source": [
    "cytoscapeobj"
   ]
  },
  {
   "cell_type": "code",
   "execution_count": null,
   "metadata": {},
   "outputs": [],
   "source": []
  }
 ],
 "metadata": {
  "kernelspec": {
   "display_name": "Python 3",
   "language": "python",
   "name": "python3"
  },
  "language_info": {
   "codemirror_mode": {
    "name": "ipython",
    "version": 3
   },
   "file_extension": ".py",
   "mimetype": "text/x-python",
   "name": "python",
   "nbconvert_exporter": "python",
   "pygments_lexer": "ipython3",
   "version": "3.8.1"
  }
 },
 "nbformat": 4,
 "nbformat_minor": 2
}
