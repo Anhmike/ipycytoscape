{
 "cells": [
  {
   "cell_type": "code",
   "execution_count": 1,
   "metadata": {},
   "outputs": [],
   "source": [
    "import ipycytoscape\n",
    "import copy"
   ]
  },
  {
   "cell_type": "code",
   "execution_count": 2,
   "metadata": {},
   "outputs": [],
   "source": [
    "cytoscapeobj = ipycytoscape.CytoscapeWidget()"
   ]
  },
  {
   "cell_type": "code",
   "execution_count": 3,
   "metadata": {},
   "outputs": [],
   "source": [
    "node = ipycytoscape.Node(    {\n",
    "      \"data\": {\n",
    "        \"id\": \"611408\",\n",
    "        \"idInt\": 611408,\n",
    "        \"name\": \"FEN1\",\n",
    "        \"score\": 0.006769776522008331,\n",
    "        \"query\": \"false\",\n",
    "        \"gene\": \"true\"\n",
    "      },\n",
    "      \"position\": {\n",
    "        \"x\": 531.9740635094307,\n",
    "        \"y\": 464.8210898234145\n",
    "      },\n",
    "      \"group\": \"nodes\",\n",
    "      \"removed\": \"false\",\n",
    "      \"selected\": \"false\",\n",
    "      \"selectable\": \"true\",\n",
    "      \"locked\": \"false\",\n",
    "      \"grabbed\": \"false\",\n",
    "      \"grabbable\": \"true\",\n",
    "      \"classes\": \"fn10273 fn6944 fn9471 fn6284 fn6956 fn6935 fn8147 fn6939 fn6936 fn6949 fn6629 fn7952 fn6680 fn6957 fn8786 fn6676 fn10713 fn7495 fn7500 fn9361 fn6279 fn6278 fn8569 fn7641 fn8568\"\n",
    "    }\n",
    "    )"
   ]
  },
  {
   "cell_type": "code",
   "execution_count": 4,
   "metadata": {},
   "outputs": [],
   "source": [
    "nodeB = ipycytoscape.Node(    {\n",
    "      \"data\": {\n",
    "        \"id\": \"611408\",\n",
    "        \"idInt\": 611408,\n",
    "        \"name\": \"FEN1\",\n",
    "        \"score\": 0.006769776522008331,\n",
    "        \"query\": \"false\",\n",
    "        \"gene\": \"true\"\n",
    "      },\n",
    "      \"position\": {\n",
    "        \"x\": 531.9740635094307,\n",
    "        \"y\": 464.8210898234145\n",
    "      },\n",
    "      \"group\": \"nodes\",\n",
    "      \"removed\": \"false\",\n",
    "      \"selected\": \"false\",\n",
    "      \"selectable\": \"true\",\n",
    "      \"locked\": \"false\",\n",
    "      \"grabbed\": \"false\",\n",
    "      \"grabbable\": \"true\",\n",
    "      \"classes\": \"fn10273 fn6944 fn9471 fn6284 fn6956 fn6935 fn8147 fn6939 fn6936 fn6949 fn6629 fn7952 fn6680 fn6957 fn8786 fn6676 fn10713 fn7495 fn7500 fn9361 fn6279 fn6278 fn8569 fn7641 fn8568\"\n",
    "    }\n",
    "    )"
   ]
  },
  {
   "cell_type": "code",
   "execution_count": 5,
   "metadata": {},
   "outputs": [],
   "source": [
    "nodeC = ipycytoscape.Node(    {      \"data\": {\n",
    "        \"id\": \"608473\",\n",
    "        \"idInt\": 608473,\n",
    "        \"name\": \"RAD9B\",\n",
    "        \"score\": 0.0026928704785200708,\n",
    "        \"query\": \"false\",\n",
    "        \"gene\": \"true\"\n",
    "      },\n",
    "      \"position\": {\n",
    "        \"x\": 363.1144068403203,\n",
    "        \"y\": 515.7352912086707\n",
    "      },\n",
    "      \"group\": \"nodes\",\n",
    "      \"removed\": \"false\",\n",
    "      \"selected\": \"false\",\n",
    "      \"selectable\": \"true\",\n",
    "      \"locked\": \"false\",\n",
    "      \"grabbed\": \"false\",\n",
    "      \"grabbable\": \"true\",\n",
    "      \"classes\": \"fn6935\"\n",
    "    })"
   ]
  },
  {
   "cell_type": "code",
   "execution_count": 6,
   "metadata": {},
   "outputs": [],
   "source": [
    "g = ipycytoscape.Graph([node])\n",
    "cytoscapeobj.graph = g"
   ]
  },
  {
   "cell_type": "code",
   "execution_count": 7,
   "metadata": {},
   "outputs": [
    {
     "data": {
      "application/vnd.jupyter.widget-view+json": {
       "model_id": "8d80de099e6d4b8093264e156b03eff7",
       "version_major": 2,
       "version_minor": 0
      },
      "text/plain": [
       "CytoscapeWidget(graph=Graph(nodes=[Node(data={'data': {'id': '611408', 'idInt': 611408, 'name': 'FEN1', 'score…"
      ]
     },
     "metadata": {},
     "output_type": "display_data"
    }
   ],
   "source": [
    "cytoscapeobj"
   ]
  },
  {
   "cell_type": "code",
   "execution_count": 9,
   "metadata": {},
   "outputs": [
    {
     "data": {
      "text/plain": [
       "[Node(data={'data': {'id': '611408', 'idInt': 611408, 'name': 'FEN1', 'score': 0.006769776522008331, 'query': 'false', 'gene': 'true'}, 'position': {'x': 531.9740635094307, 'y': 464.8210898234145}, 'group': 'nodes', 'removed': 'false', 'selected': 'false', 'selectable': 'true', 'locked': 'false', 'grabbed': 'false', 'grabbable': 'true', 'classes': 'fn10273 fn6944 fn9471 fn6284 fn6956 fn6935 fn8147 fn6939 fn6936 fn6949 fn6629 fn7952 fn6680 fn6957 fn8786 fn6676 fn10713 fn7495 fn7500 fn9361 fn6279 fn6278 fn8569 fn7641 fn8568'})]"
      ]
     },
     "execution_count": 9,
     "metadata": {},
     "output_type": "execute_result"
    }
   ],
   "source": [
    "cytoscapeobj.graph.nodes"
   ]
  },
  {
   "cell_type": "code",
   "execution_count": null,
   "metadata": {},
   "outputs": [],
   "source": [
    "g.nodes"
   ]
  },
  {
   "cell_type": "code",
   "execution_count": null,
   "metadata": {},
   "outputs": [],
   "source": []
  }
 ],
 "metadata": {
  "kernelspec": {
   "display_name": "Python 3",
   "language": "python",
   "name": "python3"
  },
  "language_info": {
   "codemirror_mode": {
    "name": "ipython",
    "version": 3
   },
   "file_extension": ".py",
   "mimetype": "text/x-python",
   "name": "python",
   "nbconvert_exporter": "python",
   "pygments_lexer": "ipython3",
   "version": "3.8.1"
  }
 },
 "nbformat": 4,
 "nbformat_minor": 4
}
