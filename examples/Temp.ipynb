{
 "cells": [
  {
   "cell_type": "code",
   "execution_count": 1,
   "metadata": {},
   "outputs": [],
   "source": [
    "import ipycytoscape"
   ]
  },
  {
   "cell_type": "code",
   "execution_count": 2,
   "metadata": {},
   "outputs": [],
   "source": [
    "cytoscapeobj = ipycytoscape.CytoscapeWidget()"
   ]
  },
  {
   "cell_type": "code",
   "execution_count": 3,
   "metadata": {},
   "outputs": [],
   "source": [
    "anode = ipycytoscape.Node(  **{\n",
    "      \"data\": {\n",
    "        \"id\": \"605755\",\n",
    "        \"idInt\": 605755,\n",
    "        \"name\": \"PCNA\",\n",
    "        \"score\": 0.006769776522008331,\n",
    "        \"query\": True,\n",
    "        \"gene\": True,\n",
    "      },\n",
    "      \"position\": {\n",
    "        \"x\": 481.0169597039117,\n",
    "        \"y\": 384.8210888234145\n",
    "      },\n",
    "      \"group\": \"nodes\",\n",
    "      \"removed\": False,\n",
    "      \"selected\": False,\n",
    "      \"selectable\": True,\n",
    "      \"locked\": False,\n",
    "      \"grabbed\": False,\n",
    "      \"grabbable\": True,\n",
    "      \"classes\": \"fn10273 fn6944 fn9471 fn10569 fn8023 fn6956 fn6935 fn8147 fn6939 fn6936 fn6629 fn7928 fn6947 fn8612 fn6957 fn8786 fn6246 fn9367 fn6945 fn6946 fn10024 fn10022 fn6811 fn9361 fn6279 fn6278 fn8569 fn7641 fn8568 fn6943\"\n",
    "    })\n",
    "listnode = []\n",
    "listnode.append(anode)"
   ]
  },
  {
   "cell_type": "code",
   "execution_count": 4,
   "metadata": {},
   "outputs": [],
   "source": [
    "cytoscapeobj.graph.nodes = listnode"
   ]
  },
  {
   "cell_type": "code",
   "execution_count": 5,
   "metadata": {},
   "outputs": [
    {
     "data": {
      "text/plain": [
       "[Node(classes='fn10273 fn6944 fn9471 fn10569 fn8023 fn6956 fn6935 fn8147 fn6939 fn6936 fn6629 fn7928 fn6947 fn8612 fn6957 fn8786 fn6246 fn9367 fn6945 fn6946 fn10024 fn10022 fn6811 fn9361 fn6279 fn6278 fn8569 fn7641 fn8568 fn6943', data={'id': '605755', 'idInt': 605755, 'name': 'PCNA', 'score': 0.006769776522008331, 'query': True, 'gene': True}, grabbable=True, group='nodes', position={'x': 481.0169597039117, 'y': 384.8210888234145}, selectable=True)]"
      ]
     },
     "execution_count": 5,
     "metadata": {},
     "output_type": "execute_result"
    }
   ],
   "source": [
    "cytoscapeobj.graph.nodes"
   ]
  },
  {
   "cell_type": "code",
   "execution_count": 6,
   "metadata": {},
   "outputs": [],
   "source": [
    "cytoscapeobj.graph = ipycytoscape.Graph(nodes=listnode)"
   ]
  },
  {
   "cell_type": "code",
   "execution_count": 8,
   "metadata": {},
   "outputs": [
    {
     "data": {
      "application/vnd.jupyter.widget-view+json": {
       "model_id": "6379723a37b047bc914a40cf9fd1df2c",
       "version_major": 2,
       "version_minor": 0
      },
      "text/plain": [
       "CytoscapeWidget(graph=Graph(nodes=[Node(classes='fn10273 fn6944 fn9471 fn10569 fn8023 fn6956 fn6935 fn8147 fn6…"
      ]
     },
     "metadata": {},
     "output_type": "display_data"
    }
   ],
   "source": [
    "cytoscapeobj"
   ]
  },
  {
   "cell_type": "code",
   "execution_count": null,
   "metadata": {},
   "outputs": [],
   "source": [
    "def exa(test=5, name=\"hans\", **kwargs):\n",
    "    print(test, name, kwargs)"
   ]
  },
  {
   "cell_type": "code",
   "execution_count": null,
   "metadata": {
    "scrolled": false
   },
   "outputs": [],
   "source": [
    "exa()"
   ]
  },
  {
   "cell_type": "code",
   "execution_count": null,
   "metadata": {},
   "outputs": [],
   "source": [
    "exa(name=\"test\")"
   ]
  },
  {
   "cell_type": "code",
   "execution_count": null,
   "metadata": {},
   "outputs": [],
   "source": [
    "d = {'name': 'hanna'}"
   ]
  },
  {
   "cell_type": "code",
   "execution_count": null,
   "metadata": {},
   "outputs": [],
   "source": [
    "exa(**d)"
   ]
  },
  {
   "cell_type": "code",
   "execution_count": null,
   "metadata": {},
   "outputs": [],
   "source": [
    "exa(hello=\"tetetete\")"
   ]
  },
  {
   "cell_type": "code",
   "execution_count": null,
   "metadata": {},
   "outputs": [],
   "source": []
  },
  {
   "cell_type": "code",
   "execution_count": null,
   "metadata": {},
   "outputs": [],
   "source": []
  },
  {
   "cell_type": "code",
   "execution_count": null,
   "metadata": {},
   "outputs": [],
   "source": []
  },
  {
   "cell_type": "code",
   "execution_count": null,
   "metadata": {},
   "outputs": [],
   "source": [
    "cytoscapeobj.graph = {\n",
    "  \"nodes\": [\n",
    "    {\n",
    "      \"data\": {\n",
    "        \"id\": \"605755\",\n",
    "        \"idInt\": 605755,\n",
    "        \"name\": \"PCNA\",\n",
    "        \"score\": 0.006769776522008331,\n",
    "        \"query\": 'true',\n",
    "        \"gene\": 'true'\n",
    "      },\n",
    "      \"position\": {\n",
    "        \"x\": 481.0169597039117,\n",
    "        \"y\": 384.8210888234145\n",
    "      },\n",
    "      \"group\": \"nodes\",\n",
    "      \"removed\": 'false',\n",
    "      \"selected\": 'false',\n",
    "      \"selectable\": 'true',\n",
    "      \"locked\": 'false',\n",
    "      \"grabbed\": 'false',\n",
    "      \"grabbable\": 'true',\n",
    "      \"classes\": \"fn10273 fn6944 fn9471 fn10569 fn8023 fn6956 fn6935 fn8147 fn6939 fn6936 fn6629 fn7928 fn6947 fn8612 fn6957 fn8786 fn6246 fn9367 fn6945 fn6946 fn10024 fn10022 fn6811 fn9361 fn6279 fn6278 fn8569 fn7641 fn8568 fn6943\"\n",
    "    },\n",
    "    {\n",
    "      \"data\": {\n",
    "        \"id\": \"611408\",\n",
    "        \"idInt\": 611408,\n",
    "        \"name\": \"FEN1\",\n",
    "        \"score\": 0.006769776522008331,\n",
    "        \"query\": 'false',\n",
    "        \"gene\": 'true'\n",
    "      },\n",
    "      \"position\": {\n",
    "        \"x\": 531.9740635094307,\n",
    "        \"y\": 464.8210898234145\n",
    "      },\n",
    "      \"group\": \"nodes\",\n",
    "      \"removed\": 'false',\n",
    "      \"selected\": 'false',\n",
    "      \"selectable\": 'true',\n",
    "      \"locked\": 'false',\n",
    "      \"grabbed\": 'false',\n",
    "      \"grabbable\": 'true',\n",
    "      \"classes\": \"fn10273 fn6944 fn9471 fn6284 fn6956 fn6935 fn8147 fn6939 fn6936 fn6949 fn6629 fn7952 fn6680 fn6957 fn8786 fn6676 fn10713 fn7495 fn7500 fn9361 fn6279 fn6278 fn8569 fn7641 fn8568\"\n",
    "    }\n",
    "]}"
   ]
  },
  {
   "cell_type": "code",
   "execution_count": null,
   "metadata": {},
   "outputs": [],
   "source": [
    "cytoscapeobj"
   ]
  },
  {
   "cell_type": "code",
   "execution_count": null,
   "metadata": {},
   "outputs": [],
   "source": []
  }
 ],
 "metadata": {
  "kernelspec": {
   "display_name": "Python 3",
   "language": "python",
   "name": "python3"
  },
  "language_info": {
   "codemirror_mode": {
    "name": "ipython",
    "version": 3
   },
   "file_extension": ".py",
   "mimetype": "text/x-python",
   "name": "python",
   "nbconvert_exporter": "python",
   "pygments_lexer": "ipython3",
   "version": "3.8.1"
  }
 },
 "nbformat": 4,
 "nbformat_minor": 4
}
