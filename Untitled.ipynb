{
 "cells": [
  {
   "cell_type": "code",
   "execution_count": 1,
   "metadata": {},
   "outputs": [],
   "source": [
    "import ipycytoscape"
   ]
  },
  {
   "cell_type": "code",
   "execution_count": 2,
   "metadata": {},
   "outputs": [],
   "source": [
    "import json\n",
    "with open(\"./testdata.json\") as fi:\n",
    "    d = json.load(fi)"
   ]
  },
  {
   "cell_type": "code",
   "execution_count": 3,
   "metadata": {},
   "outputs": [
    {
     "data": {
      "text/plain": [
       "{'nodes': [{'data': {'id': '1', 'label': 'P'}},\n",
       "  {'data': {'id': '2', 'label': 'sucrose phosphate phosphatase'}},\n",
       "  {'data': {'id': '4', 'label': 'sucrose 6-phosphate'}},\n",
       "  {'data': {'id': '6', 'label': 'sucrose'}},\n",
       "  {'data': {'id': '8', 'label': 'invertase'}},\n",
       "  {'data': {'id': '10', 'label': 'fructose'}},\n",
       "  {'data': {'id': '12', 'label': 'fructokinase'}},\n",
       "  {'data': {'id': '14', 'label': 'fructose 6-phosphate'}},\n",
       "  {'data': {'id': '20', 'label': 'phosphoglucose isomerase'}},\n",
       "  {'data': {'id': '22', 'label': 'glucose 6-phosphate'}},\n",
       "  {'data': {'id': '28', 'label': 'glucose'}},\n",
       "  {'data': {'id': '30', 'label': 'hexokinase'}},\n",
       "  {'data': {'id': '33', 'label': 'sucrose synthase'}},\n",
       "  {'data': {'id': '36', 'label': 'UDP - glucose'}},\n",
       "  {'data': {'id': '38', 'label': 'sucrose phosphate synthase'}},\n",
       "  {'data': {'id': '41', 'label': 'UDP'}},\n",
       "  {'data': {'id': '44', 'label': 'fructose 6-phosphate'}},\n",
       "  {'data': {'id': '46', 'label': 'ATP'}},\n",
       "  {'data': {'id': '47', 'label': 'ATP'}},\n",
       "  {'data': {'id': '52', 'label': 'ATP'}},\n",
       "  {'data': {'id': '57', 'label': 'ADP'}},\n",
       "  {'data': {'id': '66', 'label': 'PP'}},\n",
       "  {'data': {'id': '71', 'label': 'UTP'}},\n",
       "  {'data': {'id': '76', 'label': 'UDP glucose pyrophosphorylase'}},\n",
       "  {'data': {'id': '80', 'label': 'glucose 1-phosphate'}},\n",
       "  {'data': {'id': '86', 'label': 'phospho- glucomutase (cPGM)'}},\n",
       "  {'data': {'id': '89', 'label': 'G1P transporter'}},\n",
       "  {'data': {'id': '90', 'label': 'P'}},\n",
       "  {'data': {'id': '95', 'label': 'P'}},\n",
       "  {'data': {'id': '102', 'label': 'P'}},\n",
       "  {'data': {'id': '103', 'label': 'P'}},\n",
       "  {'data': {'id': '104', 'label': 'G6P transporter'}},\n",
       "  {'data': {'id': '109', 'label': 'glucose 6-phosphate'}},\n",
       "  {'data': {'id': '115', 'label': 'phospho- glucomutase (cPGM)'}},\n",
       "  {'data': {'id': '121', 'label': 'glucose 1-phosphate'}},\n",
       "  {'data': {'id': '128', 'label': 'ADPglucose pyrophosphorylase (pAGPase)'}},\n",
       "  {'data': {'id': '130', 'label': 'ADP - glucose'}},\n",
       "  {'data': {'id': '136', 'label': 'PP'}},\n",
       "  {'data': {'id': '141', 'label': 'ATP'}},\n",
       "  {'data': {'id': '148', 'label': 'inorganic diphosphatase'}},\n",
       "  {'data': {'id': '149', 'label': 'P'}},\n",
       "  {'data': {'id': '156', 'label': 'phosphate transporter'}},\n",
       "  {'data': {'id': '158', 'label': 'P'}},\n",
       "  {'data': {'id': '164', 'label': 'starch synthase (simpl.)'}},\n",
       "  {'data': {'id': '166', 'label': 'ADP'}},\n",
       "  {'data': {'id': '172', 'label': 'starch'}},\n",
       "  {'data': {'id': '178', 'label': 'ATP/ADP transporter'}},\n",
       "  {'data': {'id': '179', 'label': 'ADP'}},\n",
       "  {'data': {'id': '184', 'label': 'ADP'}},\n",
       "  {'data': {'id': '189', 'label': 'ATP'}}],\n",
       " 'edges': [{'data': {'source': '2', 'target': '1'}},\n",
       "  {'data': {'source': '4', 'target': '2'}},\n",
       "  {'data': {'source': '2', 'target': '6'}},\n",
       "  {'data': {'source': '6', 'target': '8'}},\n",
       "  {'data': {'source': '8', 'target': '10'}},\n",
       "  {'data': {'source': '12', 'target': '14'}},\n",
       "  {'data': {'source': '14', 'target': '20'}},\n",
       "  {'data': {'source': '20', 'target': '22'}},\n",
       "  {'data': {'source': '8', 'target': '28'}},\n",
       "  {'data': {'source': '28', 'target': '30'}},\n",
       "  {'data': {'source': '30', 'target': '22'}},\n",
       "  {'data': {'source': '6', 'target': '33'}},\n",
       "  {'data': {'source': '33', 'target': '10'}},\n",
       "  {'data': {'source': '33', 'target': '36'}},\n",
       "  {'data': {'source': '36', 'target': '38'}},\n",
       "  {'data': {'source': '38', 'target': '4'}},\n",
       "  {'data': {'source': '38', 'target': '41'}},\n",
       "  {'data': {'source': '41', 'target': '33'}},\n",
       "  {'data': {'source': '44', 'target': '38'}},\n",
       "  {'data': {'source': '52', 'target': '12'}},\n",
       "  {'data': {'source': '12', 'target': '57'}},\n",
       "  {'data': {'source': '46', 'target': '30'}},\n",
       "  {'data': {'source': '30', 'target': '47'}},\n",
       "  {'data': {'source': '71', 'target': '76'}},\n",
       "  {'data': {'source': '76', 'target': '66'}},\n",
       "  {'data': {'source': '76', 'target': '36'}},\n",
       "  {'data': {'source': '80', 'target': '76'}},\n",
       "  {'data': {'source': '22', 'target': '86'}},\n",
       "  {'data': {'source': '86', 'target': '80'}},\n",
       "  {'data': {'source': '95', 'target': '89'}},\n",
       "  {'data': {'source': '89', 'target': '90'}},\n",
       "  {'data': {'source': '102', 'target': '104'}},\n",
       "  {'data': {'source': '80', 'target': '89'}},\n",
       "  {'data': {'source': '104', 'target': '109'}},\n",
       "  {'data': {'source': '115', 'target': '109'}},\n",
       "  {'data': {'source': '121', 'target': '89'}},\n",
       "  {'data': {'source': '121', 'target': '115'}},\n",
       "  {'data': {'source': '121', 'target': '128'}},\n",
       "  {'data': {'source': '128', 'target': '130'}},\n",
       "  {'data': {'source': '141', 'target': '128'}},\n",
       "  {'data': {'source': '128', 'target': '136'}},\n",
       "  {'data': {'source': '136', 'target': '148'}},\n",
       "  {'data': {'source': '148', 'target': '149'}},\n",
       "  {'data': {'source': '149', 'target': '156'}},\n",
       "  {'data': {'source': '156', 'target': '158'}},\n",
       "  {'data': {'source': '130', 'target': '164'}},\n",
       "  {'data': {'source': '164', 'target': '166'}},\n",
       "  {'data': {'source': '178', 'target': '179'}},\n",
       "  {'data': {'source': '184', 'target': '178'}},\n",
       "  {'data': {'source': '178', 'target': '189'}},\n",
       "  {'data': {'source': '141', 'target': '178'}},\n",
       "  {'data': {'source': '104', 'target': '103'}},\n",
       "  {'data': {'source': '10', 'target': '12'}},\n",
       "  {'data': {'source': '164', 'target': '172'}},\n",
       "  {'data': {'source': '22', 'target': '104'}}]}"
      ]
     },
     "execution_count": 3,
     "metadata": {},
     "output_type": "execute_result"
    }
   ],
   "source": [
    "d"
   ]
  },
  {
   "cell_type": "code",
   "execution_count": 4,
   "metadata": {},
   "outputs": [],
   "source": [
    "v = ipycytoscape.CytoscapeWidget(value=d)"
   ]
  },
  {
   "cell_type": "code",
   "execution_count": 5,
   "metadata": {},
   "outputs": [
    {
     "data": {
      "application/vnd.jupyter.widget-view+json": {
       "model_id": "afe83a3fd009494bb22e8c1e1f9dde72",
       "version_major": 2,
       "version_minor": 0
      },
      "text/plain": [
       "CytoscapeWidget(layout={'name': 'cola'}, style=[{'selector': 'node', 'css': {'background-color': '#f92411'}}, …"
      ]
     },
     "metadata": {},
     "output_type": "display_data"
    }
   ],
   "source": [
    "v"
   ]
  },
  {
   "cell_type": "code",
   "execution_count": 13,
   "metadata": {},
   "outputs": [],
   "source": [
    "v.value = {\"5\":5}"
   ]
  },
  {
   "cell_type": "code",
   "execution_count": 7,
   "metadata": {},
   "outputs": [],
   "source": [
    "v.autounselectify = True"
   ]
  },
  {
   "cell_type": "code",
   "execution_count": 8,
   "metadata": {},
   "outputs": [],
   "source": [
    "v.layout: {'name': 'wtv'}\n"
   ]
  },
  {
   "cell_type": "code",
   "execution_count": 9,
   "metadata": {},
   "outputs": [],
   "source": [
    "v.value = d"
   ]
  },
  {
   "cell_type": "code",
   "execution_count": null,
   "metadata": {},
   "outputs": [],
   "source": []
  }
 ],
 "metadata": {
  "kernelspec": {
   "display_name": "Python 3",
   "language": "python",
   "name": "python3"
  },
  "language_info": {
   "codemirror_mode": {
    "name": "ipython",
    "version": 3
   },
   "file_extension": ".py",
   "mimetype": "text/x-python",
   "name": "python",
   "nbconvert_exporter": "python",
   "pygments_lexer": "ipython3",
   "version": "3.8.1"
  }
 },
 "nbformat": 4,
 "nbformat_minor": 4
}
